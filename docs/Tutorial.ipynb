{
 "cells": [
  {
   "cell_type": "markdown",
   "metadata": {},
   "source": [
    "# Tutorial - Overview of TicTs\n",
    "\n",
    "---\n",
    "\n",
    "## Design\n",
    "\n",
    "TimeSeries object is inheriting from [Sorted Dict](http://www.grantjenks.com/docs/sortedcontainers/sorteddict.html) of *sortedcontainers* python library to ensure good performances and ease of use.\n",
    "\n",
    "- designed to **feel like** manipulating a **pandas.Series** in the unevenly-spaced timeseries world.\n",
    "- time intervals are considered **left closed** and **right open**.\n",
    "- ensure timezone localization.\n",
    "\n",
    "Let's see the potential !"
   ]
  },
  {
   "cell_type": "code",
   "execution_count": 127,
   "metadata": {},
   "outputs": [
    {
     "data": {
      "text/html": [
       "\n",
       "    <div class=\"bk-root\">\n",
       "        <a href=\"https://bokeh.pydata.org\" target=\"_blank\" class=\"bk-logo bk-logo-small bk-logo-notebook\"></a>\n",
       "        <span id=\"38213\">Loading BokehJS ...</span>\n",
       "    </div>"
      ]
     },
     "metadata": {},
     "output_type": "display_data"
    },
    {
     "data": {
      "application/javascript": [
       "\n",
       "(function(root) {\n",
       "  function now() {\n",
       "    return new Date();\n",
       "  }\n",
       "\n",
       "  var force = true;\n",
       "\n",
       "  if (typeof root._bokeh_onload_callbacks === \"undefined\" || force === true) {\n",
       "    root._bokeh_onload_callbacks = [];\n",
       "    root._bokeh_is_loading = undefined;\n",
       "  }\n",
       "\n",
       "  var JS_MIME_TYPE = 'application/javascript';\n",
       "  var HTML_MIME_TYPE = 'text/html';\n",
       "  var EXEC_MIME_TYPE = 'application/vnd.bokehjs_exec.v0+json';\n",
       "  var CLASS_NAME = 'output_bokeh rendered_html';\n",
       "\n",
       "  /**\n",
       "   * Render data to the DOM node\n",
       "   */\n",
       "  function render(props, node) {\n",
       "    var script = document.createElement(\"script\");\n",
       "    node.appendChild(script);\n",
       "  }\n",
       "\n",
       "  /**\n",
       "   * Handle when an output is cleared or removed\n",
       "   */\n",
       "  function handleClearOutput(event, handle) {\n",
       "    var cell = handle.cell;\n",
       "\n",
       "    var id = cell.output_area._bokeh_element_id;\n",
       "    var server_id = cell.output_area._bokeh_server_id;\n",
       "    // Clean up Bokeh references\n",
       "    if (id != null && id in Bokeh.index) {\n",
       "      Bokeh.index[id].model.document.clear();\n",
       "      delete Bokeh.index[id];\n",
       "    }\n",
       "\n",
       "    if (server_id !== undefined) {\n",
       "      // Clean up Bokeh references\n",
       "      var cmd = \"from bokeh.io.state import curstate; print(curstate().uuid_to_server['\" + server_id + \"'].get_sessions()[0].document.roots[0]._id)\";\n",
       "      cell.notebook.kernel.execute(cmd, {\n",
       "        iopub: {\n",
       "          output: function(msg) {\n",
       "            var id = msg.content.text.trim();\n",
       "            if (id in Bokeh.index) {\n",
       "              Bokeh.index[id].model.document.clear();\n",
       "              delete Bokeh.index[id];\n",
       "            }\n",
       "          }\n",
       "        }\n",
       "      });\n",
       "      // Destroy server and session\n",
       "      var cmd = \"import bokeh.io.notebook as ion; ion.destroy_server('\" + server_id + \"')\";\n",
       "      cell.notebook.kernel.execute(cmd);\n",
       "    }\n",
       "  }\n",
       "\n",
       "  /**\n",
       "   * Handle when a new output is added\n",
       "   */\n",
       "  function handleAddOutput(event, handle) {\n",
       "    var output_area = handle.output_area;\n",
       "    var output = handle.output;\n",
       "\n",
       "    // limit handleAddOutput to display_data with EXEC_MIME_TYPE content only\n",
       "    if ((output.output_type != \"display_data\") || (!output.data.hasOwnProperty(EXEC_MIME_TYPE))) {\n",
       "      return\n",
       "    }\n",
       "\n",
       "    var toinsert = output_area.element.find(\".\" + CLASS_NAME.split(' ')[0]);\n",
       "\n",
       "    if (output.metadata[EXEC_MIME_TYPE][\"id\"] !== undefined) {\n",
       "      toinsert[toinsert.length - 1].firstChild.textContent = output.data[JS_MIME_TYPE];\n",
       "      // store reference to embed id on output_area\n",
       "      output_area._bokeh_element_id = output.metadata[EXEC_MIME_TYPE][\"id\"];\n",
       "    }\n",
       "    if (output.metadata[EXEC_MIME_TYPE][\"server_id\"] !== undefined) {\n",
       "      var bk_div = document.createElement(\"div\");\n",
       "      bk_div.innerHTML = output.data[HTML_MIME_TYPE];\n",
       "      var script_attrs = bk_div.children[0].attributes;\n",
       "      for (var i = 0; i < script_attrs.length; i++) {\n",
       "        toinsert[toinsert.length - 1].firstChild.setAttribute(script_attrs[i].name, script_attrs[i].value);\n",
       "      }\n",
       "      // store reference to server id on output_area\n",
       "      output_area._bokeh_server_id = output.metadata[EXEC_MIME_TYPE][\"server_id\"];\n",
       "    }\n",
       "  }\n",
       "\n",
       "  function register_renderer(events, OutputArea) {\n",
       "\n",
       "    function append_mime(data, metadata, element) {\n",
       "      // create a DOM node to render to\n",
       "      var toinsert = this.create_output_subarea(\n",
       "        metadata,\n",
       "        CLASS_NAME,\n",
       "        EXEC_MIME_TYPE\n",
       "      );\n",
       "      this.keyboard_manager.register_events(toinsert);\n",
       "      // Render to node\n",
       "      var props = {data: data, metadata: metadata[EXEC_MIME_TYPE]};\n",
       "      render(props, toinsert[toinsert.length - 1]);\n",
       "      element.append(toinsert);\n",
       "      return toinsert\n",
       "    }\n",
       "\n",
       "    /* Handle when an output is cleared or removed */\n",
       "    events.on('clear_output.CodeCell', handleClearOutput);\n",
       "    events.on('delete.Cell', handleClearOutput);\n",
       "\n",
       "    /* Handle when a new output is added */\n",
       "    events.on('output_added.OutputArea', handleAddOutput);\n",
       "\n",
       "    /**\n",
       "     * Register the mime type and append_mime function with output_area\n",
       "     */\n",
       "    OutputArea.prototype.register_mime_type(EXEC_MIME_TYPE, append_mime, {\n",
       "      /* Is output safe? */\n",
       "      safe: true,\n",
       "      /* Index of renderer in `output_area.display_order` */\n",
       "      index: 0\n",
       "    });\n",
       "  }\n",
       "\n",
       "  // register the mime type if in Jupyter Notebook environment and previously unregistered\n",
       "  if (root.Jupyter !== undefined) {\n",
       "    var events = require('base/js/events');\n",
       "    var OutputArea = require('notebook/js/outputarea').OutputArea;\n",
       "\n",
       "    if (OutputArea.prototype.mime_types().indexOf(EXEC_MIME_TYPE) == -1) {\n",
       "      register_renderer(events, OutputArea);\n",
       "    }\n",
       "  }\n",
       "\n",
       "  \n",
       "  if (typeof (root._bokeh_timeout) === \"undefined\" || force === true) {\n",
       "    root._bokeh_timeout = Date.now() + 5000;\n",
       "    root._bokeh_failed_load = false;\n",
       "  }\n",
       "\n",
       "  var NB_LOAD_WARNING = {'data': {'text/html':\n",
       "     \"<div style='background-color: #fdd'>\\n\"+\n",
       "     \"<p>\\n\"+\n",
       "     \"BokehJS does not appear to have successfully loaded. If loading BokehJS from CDN, this \\n\"+\n",
       "     \"may be due to a slow or bad network connection. Possible fixes:\\n\"+\n",
       "     \"</p>\\n\"+\n",
       "     \"<ul>\\n\"+\n",
       "     \"<li>re-rerun `output_notebook()` to attempt to load from CDN again, or</li>\\n\"+\n",
       "     \"<li>use INLINE resources instead, as so:</li>\\n\"+\n",
       "     \"</ul>\\n\"+\n",
       "     \"<code>\\n\"+\n",
       "     \"from bokeh.resources import INLINE\\n\"+\n",
       "     \"output_notebook(resources=INLINE)\\n\"+\n",
       "     \"</code>\\n\"+\n",
       "     \"</div>\"}};\n",
       "\n",
       "  function display_loaded() {\n",
       "    var el = document.getElementById(\"38213\");\n",
       "    if (el != null) {\n",
       "      el.textContent = \"BokehJS is loading...\";\n",
       "    }\n",
       "    if (root.Bokeh !== undefined) {\n",
       "      if (el != null) {\n",
       "        el.textContent = \"BokehJS \" + root.Bokeh.version + \" successfully loaded.\";\n",
       "      }\n",
       "    } else if (Date.now() < root._bokeh_timeout) {\n",
       "      setTimeout(display_loaded, 100)\n",
       "    }\n",
       "  }\n",
       "\n",
       "\n",
       "  function run_callbacks() {\n",
       "    try {\n",
       "      root._bokeh_onload_callbacks.forEach(function(callback) {\n",
       "        if (callback != null)\n",
       "          callback();\n",
       "      });\n",
       "    } finally {\n",
       "      delete root._bokeh_onload_callbacks\n",
       "    }\n",
       "    console.debug(\"Bokeh: all callbacks have finished\");\n",
       "  }\n",
       "\n",
       "  function load_libs(css_urls, js_urls, callback) {\n",
       "    if (css_urls == null) css_urls = [];\n",
       "    if (js_urls == null) js_urls = [];\n",
       "\n",
       "    root._bokeh_onload_callbacks.push(callback);\n",
       "    if (root._bokeh_is_loading > 0) {\n",
       "      console.debug(\"Bokeh: BokehJS is being loaded, scheduling callback at\", now());\n",
       "      return null;\n",
       "    }\n",
       "    if (js_urls == null || js_urls.length === 0) {\n",
       "      run_callbacks();\n",
       "      return null;\n",
       "    }\n",
       "    console.debug(\"Bokeh: BokehJS not loaded, scheduling load and callback at\", now());\n",
       "    root._bokeh_is_loading = css_urls.length + js_urls.length;\n",
       "\n",
       "    function on_load() {\n",
       "      root._bokeh_is_loading--;\n",
       "      if (root._bokeh_is_loading === 0) {\n",
       "        console.debug(\"Bokeh: all BokehJS libraries/stylesheets loaded\");\n",
       "        run_callbacks()\n",
       "      }\n",
       "    }\n",
       "\n",
       "    function on_error() {\n",
       "      console.error(\"failed to load \" + url);\n",
       "    }\n",
       "\n",
       "    for (var i = 0; i < css_urls.length; i++) {\n",
       "      var url = css_urls[i];\n",
       "      const element = document.createElement(\"link\");\n",
       "      element.onload = on_load;\n",
       "      element.onerror = on_error;\n",
       "      element.rel = \"stylesheet\";\n",
       "      element.type = \"text/css\";\n",
       "      element.href = url;\n",
       "      console.debug(\"Bokeh: injecting link tag for BokehJS stylesheet: \", url);\n",
       "      document.body.appendChild(element);\n",
       "    }\n",
       "\n",
       "    for (var i = 0; i < js_urls.length; i++) {\n",
       "      var url = js_urls[i];\n",
       "      var element = document.createElement('script');\n",
       "      element.onload = on_load;\n",
       "      element.onerror = on_error;\n",
       "      element.async = false;\n",
       "      element.src = url;\n",
       "      console.debug(\"Bokeh: injecting script tag for BokehJS library: \", url);\n",
       "      document.head.appendChild(element);\n",
       "    }\n",
       "  };var element = document.getElementById(\"38213\");\n",
       "  if (element == null) {\n",
       "    console.error(\"Bokeh: ERROR: autoload.js configured with elementid '38213' but no matching script tag was found. \")\n",
       "    return false;\n",
       "  }\n",
       "\n",
       "  function inject_raw_css(css) {\n",
       "    const element = document.createElement(\"style\");\n",
       "    element.appendChild(document.createTextNode(css));\n",
       "    document.body.appendChild(element);\n",
       "  }\n",
       "\n",
       "  var js_urls = [\"https://cdn.pydata.org/bokeh/release/bokeh-1.2.0.min.js\", \"https://cdn.pydata.org/bokeh/release/bokeh-widgets-1.2.0.min.js\", \"https://cdn.pydata.org/bokeh/release/bokeh-tables-1.2.0.min.js\", \"https://cdn.pydata.org/bokeh/release/bokeh-gl-1.2.0.min.js\"];\n",
       "  var css_urls = [\"https://cdn.pydata.org/bokeh/release/bokeh-1.2.0.min.css\", \"https://cdn.pydata.org/bokeh/release/bokeh-widgets-1.2.0.min.css\", \"https://cdn.pydata.org/bokeh/release/bokeh-tables-1.2.0.min.css\"];\n",
       "\n",
       "  var inline_js = [\n",
       "    function(Bokeh) {\n",
       "      Bokeh.set_log_level(\"info\");\n",
       "    },\n",
       "    \n",
       "    function(Bokeh) {\n",
       "      \n",
       "    },\n",
       "    function(Bokeh) {} // ensure no trailing comma for IE\n",
       "  ];\n",
       "\n",
       "  function run_inline_js() {\n",
       "    \n",
       "    if ((root.Bokeh !== undefined) || (force === true)) {\n",
       "      for (var i = 0; i < inline_js.length; i++) {\n",
       "        inline_js[i].call(root, root.Bokeh);\n",
       "      }if (force === true) {\n",
       "        display_loaded();\n",
       "      }} else if (Date.now() < root._bokeh_timeout) {\n",
       "      setTimeout(run_inline_js, 100);\n",
       "    } else if (!root._bokeh_failed_load) {\n",
       "      console.log(\"Bokeh: BokehJS failed to load within specified timeout.\");\n",
       "      root._bokeh_failed_load = true;\n",
       "    } else if (force !== true) {\n",
       "      var cell = $(document.getElementById(\"38213\")).parents('.cell').data().cell;\n",
       "      cell.output_area.append_execute_result(NB_LOAD_WARNING)\n",
       "    }\n",
       "\n",
       "  }\n",
       "\n",
       "  if (root._bokeh_is_loading === 0) {\n",
       "    console.debug(\"Bokeh: BokehJS loaded, going straight to plotting\");\n",
       "    run_inline_js();\n",
       "  } else {\n",
       "    load_libs(css_urls, js_urls, function() {\n",
       "      console.debug(\"Bokeh: BokehJS plotting callback run at\", now());\n",
       "      run_inline_js();\n",
       "    });\n",
       "  }\n",
       "}(window));"
      ],
      "application/vnd.bokehjs_load.v0+json": "\n(function(root) {\n  function now() {\n    return new Date();\n  }\n\n  var force = true;\n\n  if (typeof root._bokeh_onload_callbacks === \"undefined\" || force === true) {\n    root._bokeh_onload_callbacks = [];\n    root._bokeh_is_loading = undefined;\n  }\n\n  \n\n  \n  if (typeof (root._bokeh_timeout) === \"undefined\" || force === true) {\n    root._bokeh_timeout = Date.now() + 5000;\n    root._bokeh_failed_load = false;\n  }\n\n  var NB_LOAD_WARNING = {'data': {'text/html':\n     \"<div style='background-color: #fdd'>\\n\"+\n     \"<p>\\n\"+\n     \"BokehJS does not appear to have successfully loaded. If loading BokehJS from CDN, this \\n\"+\n     \"may be due to a slow or bad network connection. Possible fixes:\\n\"+\n     \"</p>\\n\"+\n     \"<ul>\\n\"+\n     \"<li>re-rerun `output_notebook()` to attempt to load from CDN again, or</li>\\n\"+\n     \"<li>use INLINE resources instead, as so:</li>\\n\"+\n     \"</ul>\\n\"+\n     \"<code>\\n\"+\n     \"from bokeh.resources import INLINE\\n\"+\n     \"output_notebook(resources=INLINE)\\n\"+\n     \"</code>\\n\"+\n     \"</div>\"}};\n\n  function display_loaded() {\n    var el = document.getElementById(\"38213\");\n    if (el != null) {\n      el.textContent = \"BokehJS is loading...\";\n    }\n    if (root.Bokeh !== undefined) {\n      if (el != null) {\n        el.textContent = \"BokehJS \" + root.Bokeh.version + \" successfully loaded.\";\n      }\n    } else if (Date.now() < root._bokeh_timeout) {\n      setTimeout(display_loaded, 100)\n    }\n  }\n\n\n  function run_callbacks() {\n    try {\n      root._bokeh_onload_callbacks.forEach(function(callback) {\n        if (callback != null)\n          callback();\n      });\n    } finally {\n      delete root._bokeh_onload_callbacks\n    }\n    console.debug(\"Bokeh: all callbacks have finished\");\n  }\n\n  function load_libs(css_urls, js_urls, callback) {\n    if (css_urls == null) css_urls = [];\n    if (js_urls == null) js_urls = [];\n\n    root._bokeh_onload_callbacks.push(callback);\n    if (root._bokeh_is_loading > 0) {\n      console.debug(\"Bokeh: BokehJS is being loaded, scheduling callback at\", now());\n      return null;\n    }\n    if (js_urls == null || js_urls.length === 0) {\n      run_callbacks();\n      return null;\n    }\n    console.debug(\"Bokeh: BokehJS not loaded, scheduling load and callback at\", now());\n    root._bokeh_is_loading = css_urls.length + js_urls.length;\n\n    function on_load() {\n      root._bokeh_is_loading--;\n      if (root._bokeh_is_loading === 0) {\n        console.debug(\"Bokeh: all BokehJS libraries/stylesheets loaded\");\n        run_callbacks()\n      }\n    }\n\n    function on_error() {\n      console.error(\"failed to load \" + url);\n    }\n\n    for (var i = 0; i < css_urls.length; i++) {\n      var url = css_urls[i];\n      const element = document.createElement(\"link\");\n      element.onload = on_load;\n      element.onerror = on_error;\n      element.rel = \"stylesheet\";\n      element.type = \"text/css\";\n      element.href = url;\n      console.debug(\"Bokeh: injecting link tag for BokehJS stylesheet: \", url);\n      document.body.appendChild(element);\n    }\n\n    for (var i = 0; i < js_urls.length; i++) {\n      var url = js_urls[i];\n      var element = document.createElement('script');\n      element.onload = on_load;\n      element.onerror = on_error;\n      element.async = false;\n      element.src = url;\n      console.debug(\"Bokeh: injecting script tag for BokehJS library: \", url);\n      document.head.appendChild(element);\n    }\n  };var element = document.getElementById(\"38213\");\n  if (element == null) {\n    console.error(\"Bokeh: ERROR: autoload.js configured with elementid '38213' but no matching script tag was found. \")\n    return false;\n  }\n\n  function inject_raw_css(css) {\n    const element = document.createElement(\"style\");\n    element.appendChild(document.createTextNode(css));\n    document.body.appendChild(element);\n  }\n\n  var js_urls = [\"https://cdn.pydata.org/bokeh/release/bokeh-1.2.0.min.js\", \"https://cdn.pydata.org/bokeh/release/bokeh-widgets-1.2.0.min.js\", \"https://cdn.pydata.org/bokeh/release/bokeh-tables-1.2.0.min.js\", \"https://cdn.pydata.org/bokeh/release/bokeh-gl-1.2.0.min.js\"];\n  var css_urls = [\"https://cdn.pydata.org/bokeh/release/bokeh-1.2.0.min.css\", \"https://cdn.pydata.org/bokeh/release/bokeh-widgets-1.2.0.min.css\", \"https://cdn.pydata.org/bokeh/release/bokeh-tables-1.2.0.min.css\"];\n\n  var inline_js = [\n    function(Bokeh) {\n      Bokeh.set_log_level(\"info\");\n    },\n    \n    function(Bokeh) {\n      \n    },\n    function(Bokeh) {} // ensure no trailing comma for IE\n  ];\n\n  function run_inline_js() {\n    \n    if ((root.Bokeh !== undefined) || (force === true)) {\n      for (var i = 0; i < inline_js.length; i++) {\n        inline_js[i].call(root, root.Bokeh);\n      }if (force === true) {\n        display_loaded();\n      }} else if (Date.now() < root._bokeh_timeout) {\n      setTimeout(run_inline_js, 100);\n    } else if (!root._bokeh_failed_load) {\n      console.log(\"Bokeh: BokehJS failed to load within specified timeout.\");\n      root._bokeh_failed_load = true;\n    } else if (force !== true) {\n      var cell = $(document.getElementById(\"38213\")).parents('.cell').data().cell;\n      cell.output_area.append_execute_result(NB_LOAD_WARNING)\n    }\n\n  }\n\n  if (root._bokeh_is_loading === 0) {\n    console.debug(\"Bokeh: BokehJS loaded, going straight to plotting\");\n    run_inline_js();\n  } else {\n    load_libs(css_urls, js_urls, function() {\n      console.debug(\"Bokeh: BokehJS plotting callback run at\", now());\n      run_inline_js();\n    });\n  }\n}(window));"
     },
     "metadata": {},
     "output_type": "display_data"
    }
   ],
   "source": [
    "# Plotting imports\n",
    "from bokeh.plotting import figure, show\n",
    "from bokeh.layouts import row\n",
    "from bokeh.io import output_notebook\n",
    "output_notebook()\n",
    "\n",
    "# Standard lib\n",
    "from copy import deepcopy\n",
    "\n",
    "from ticts import TimeSeries"
   ]
  },
  {
   "cell_type": "code",
   "execution_count": 129,
   "metadata": {},
   "outputs": [],
   "source": [
    "# Plot tools with bokeh\n",
    "def get_figure(ts, title='Unevenly Spaced'):\n",
    "    p = figure(title=title, x_axis_type=\"datetime\", x_axis_label=\"timestamp\", y_axis_label=\"IoT sensor\", plot_width=400, plot_height=250)\n",
    "    p.step(ts.keys(), ts.values(), line_width=2, line_dash=\"4 4\", mode=\"after\")\n",
    "    p.circle(ts.keys(), ts.values(), fill_color=\"red\", size=6)\n",
    "    return p\n",
    "\n",
    "def plot(ts):\n",
    "    show(get_figure(ts))\n",
    "    \n",
    "def plot_row(ts1, ts2, *args):\n",
    "    figures = []\n",
    "    for i, ts in enumerate([ts1, ts2, *args]):\n",
    "        figure = get_figure(ts, title='ts{}'.format(i+1))\n",
    "        figures.append(figure)\n",
    "    show(row(figures))"
   ]
  },
  {
   "cell_type": "markdown",
   "metadata": {},
   "source": [
    "# Instanciation"
   ]
  },
  {
   "cell_type": "code",
   "execution_count": 139,
   "metadata": {},
   "outputs": [],
   "source": [
    "dct = {\n",
    "  '2019-01-01': 10,\n",
    "  '2019-01-01 00:10:00': 20,\n",
    "  '2019-01-01 00:15:00': 10,\n",
    "}\n",
    "ts = TimeSeries(dct)\n",
    "\n",
    "# Can set item like a dict:\n",
    "ts['2019-01-01 00:17:00'] = 1"
   ]
  },
  {
   "cell_type": "code",
   "execution_count": 140,
   "metadata": {},
   "outputs": [
    {
     "name": "stdout",
     "output_type": "stream",
     "text": [
      "<TimeSeries>\n",
      "2019-01-01T00:00:00+00:00: 10,\n",
      "2019-01-01T00:10:00+00:00: 20,\n",
      "2019-01-01T00:15:00+00:00: 10,\n",
      "2019-01-01T00:17:00+00:00: 1,\n"
     ]
    }
   ],
   "source": [
    "# Let's see it:\n",
    "print(ts)"
   ]
  },
  {
   "cell_type": "code",
   "execution_count": 141,
   "metadata": {},
   "outputs": [
    {
     "data": {
      "text/html": [
       "\n",
       "\n",
       "\n",
       "\n",
       "\n",
       "\n",
       "  <div class=\"bk-root\" id=\"0c05d74f-fc97-4dfe-b957-6a6a2517a005\" data-root-id=\"39661\"></div>\n"
      ]
     },
     "metadata": {},
     "output_type": "display_data"
    },
    {
     "data": {
      "application/javascript": [
       "(function(root) {\n",
       "  function embed_document(root) {\n",
       "    \n",
       "  var docs_json = {\"b488e4fe-d5aa-4a67-9210-58aba06b69b8\":{\"roots\":{\"references\":[{\"attributes\":{\"below\":[{\"id\":\"39672\",\"type\":\"DatetimeAxis\"}],\"center\":[{\"id\":\"39676\",\"type\":\"Grid\"},{\"id\":\"39681\",\"type\":\"Grid\"}],\"left\":[{\"id\":\"39677\",\"type\":\"LinearAxis\"}],\"plot_height\":250,\"plot_width\":400,\"renderers\":[{\"id\":\"39698\",\"type\":\"GlyphRenderer\"},{\"id\":\"39703\",\"type\":\"GlyphRenderer\"}],\"title\":{\"id\":\"39662\",\"type\":\"Title\"},\"toolbar\":{\"id\":\"39688\",\"type\":\"Toolbar\"},\"x_range\":{\"id\":\"39664\",\"type\":\"DataRange1d\"},\"x_scale\":{\"id\":\"39668\",\"type\":\"LinearScale\"},\"y_range\":{\"id\":\"39666\",\"type\":\"DataRange1d\"},\"y_scale\":{\"id\":\"39670\",\"type\":\"LinearScale\"}},\"id\":\"39661\",\"subtype\":\"Figure\",\"type\":\"Plot\"},{\"attributes\":{\"num_minor_ticks\":5,\"tickers\":[{\"id\":\"40985\",\"type\":\"AdaptiveTicker\"},{\"id\":\"40986\",\"type\":\"AdaptiveTicker\"},{\"id\":\"40987\",\"type\":\"AdaptiveTicker\"},{\"id\":\"40988\",\"type\":\"DaysTicker\"},{\"id\":\"40989\",\"type\":\"DaysTicker\"},{\"id\":\"40990\",\"type\":\"DaysTicker\"},{\"id\":\"40991\",\"type\":\"DaysTicker\"},{\"id\":\"40992\",\"type\":\"MonthsTicker\"},{\"id\":\"40993\",\"type\":\"MonthsTicker\"},{\"id\":\"40994\",\"type\":\"MonthsTicker\"},{\"id\":\"40995\",\"type\":\"MonthsTicker\"},{\"id\":\"40996\",\"type\":\"YearsTicker\"}]},\"id\":\"39673\",\"type\":\"DatetimeTicker\"},{\"attributes\":{},\"id\":\"39687\",\"type\":\"HelpTool\"},{\"attributes\":{\"line_alpha\":{\"value\":0.1},\"line_color\":{\"value\":\"#1f77b4\"},\"line_dash\":[4,4],\"line_width\":{\"value\":2},\"mode\":\"after\",\"x\":{\"field\":\"x\"},\"y\":{\"field\":\"y\"}},\"id\":\"39697\",\"type\":\"Step\"},{\"attributes\":{},\"id\":\"39686\",\"type\":\"ResetTool\"},{\"attributes\":{},\"id\":\"39668\",\"type\":\"LinearScale\"},{\"attributes\":{\"overlay\":{\"id\":\"40997\",\"type\":\"BoxAnnotation\"}},\"id\":\"39684\",\"type\":\"BoxZoomTool\"},{\"attributes\":{\"base\":60,\"mantissas\":[1,2,5,10,15,20,30],\"max_interval\":1800000.0,\"min_interval\":1000.0,\"num_minor_ticks\":0},\"id\":\"40986\",\"type\":\"AdaptiveTicker\"},{\"attributes\":{},\"id\":\"39685\",\"type\":\"SaveTool\"},{\"attributes\":{\"source\":{\"id\":\"39695\",\"type\":\"ColumnDataSource\"}},\"id\":\"39699\",\"type\":\"CDSView\"},{\"attributes\":{},\"id\":\"40983\",\"type\":\"Selection\"},{\"attributes\":{},\"id\":\"39670\",\"type\":\"LinearScale\"},{\"attributes\":{\"months\":[0,4,8]},\"id\":\"40994\",\"type\":\"MonthsTicker\"},{\"attributes\":{},\"id\":\"39683\",\"type\":\"WheelZoomTool\"},{\"attributes\":{\"base\":24,\"mantissas\":[1,2,4,6,8,12],\"max_interval\":43200000.0,\"min_interval\":3600000.0,\"num_minor_ticks\":0},\"id\":\"40987\",\"type\":\"AdaptiveTicker\"},{\"attributes\":{\"callback\":null,\"data\":{\"x\":[1546300800000.0,1546301400000.0,1546301700000.0,1546301820000.0],\"y\":[10,20,10,1]},\"selected\":{\"id\":\"40981\",\"type\":\"Selection\"},\"selection_policy\":{\"id\":\"40982\",\"type\":\"UnionRenderers\"}},\"id\":\"39695\",\"type\":\"ColumnDataSource\"},{\"attributes\":{\"months\":[0,1,2,3,4,5,6,7,8,9,10,11]},\"id\":\"40992\",\"type\":\"MonthsTicker\"},{\"attributes\":{},\"id\":\"40996\",\"type\":\"YearsTicker\"},{\"attributes\":{},\"id\":\"40980\",\"type\":\"BasicTickFormatter\"},{\"attributes\":{\"axis_label\":\"IoT sensor\",\"formatter\":{\"id\":\"40980\",\"type\":\"BasicTickFormatter\"},\"ticker\":{\"id\":\"39678\",\"type\":\"BasicTicker\"}},\"id\":\"39677\",\"type\":\"LinearAxis\"},{\"attributes\":{\"fill_color\":{\"value\":\"red\"},\"line_color\":{\"value\":\"#1f77b4\"},\"size\":{\"units\":\"screen\",\"value\":6},\"x\":{\"field\":\"x\"},\"y\":{\"field\":\"y\"}},\"id\":\"39701\",\"type\":\"Circle\"},{\"attributes\":{\"bottom_units\":\"screen\",\"fill_alpha\":{\"value\":0.5},\"fill_color\":{\"value\":\"lightgrey\"},\"left_units\":\"screen\",\"level\":\"overlay\",\"line_alpha\":{\"value\":1.0},\"line_color\":{\"value\":\"black\"},\"line_dash\":[4,4],\"line_width\":{\"value\":2},\"render_mode\":\"css\",\"right_units\":\"screen\",\"top_units\":\"screen\"},\"id\":\"40997\",\"type\":\"BoxAnnotation\"},{\"attributes\":{\"axis_label\":\"timestamp\",\"formatter\":{\"id\":\"40978\",\"type\":\"DatetimeTickFormatter\"},\"ticker\":{\"id\":\"39673\",\"type\":\"DatetimeTicker\"}},\"id\":\"39672\",\"type\":\"DatetimeAxis\"},{\"attributes\":{\"fill_alpha\":{\"value\":0.1},\"fill_color\":{\"value\":\"#1f77b4\"},\"line_alpha\":{\"value\":0.1},\"line_color\":{\"value\":\"#1f77b4\"},\"size\":{\"units\":\"screen\",\"value\":6},\"x\":{\"field\":\"x\"},\"y\":{\"field\":\"y\"}},\"id\":\"39702\",\"type\":\"Circle\"},{\"attributes\":{\"ticker\":{\"id\":\"39673\",\"type\":\"DatetimeTicker\"}},\"id\":\"39676\",\"type\":\"Grid\"},{\"attributes\":{\"data_source\":{\"id\":\"39700\",\"type\":\"ColumnDataSource\"},\"glyph\":{\"id\":\"39701\",\"type\":\"Circle\"},\"hover_glyph\":null,\"muted_glyph\":null,\"nonselection_glyph\":{\"id\":\"39702\",\"type\":\"Circle\"},\"selection_glyph\":null,\"view\":{\"id\":\"39704\",\"type\":\"CDSView\"}},\"id\":\"39703\",\"type\":\"GlyphRenderer\"},{\"attributes\":{\"source\":{\"id\":\"39700\",\"type\":\"ColumnDataSource\"}},\"id\":\"39704\",\"type\":\"CDSView\"},{\"attributes\":{\"days\":[1,8,15,22]},\"id\":\"40990\",\"type\":\"DaysTicker\"},{\"attributes\":{\"callback\":null},\"id\":\"39666\",\"type\":\"DataRange1d\"},{\"attributes\":{},\"id\":\"39678\",\"type\":\"BasicTicker\"},{\"attributes\":{\"months\":[0,6]},\"id\":\"40995\",\"type\":\"MonthsTicker\"},{\"attributes\":{\"data_source\":{\"id\":\"39695\",\"type\":\"ColumnDataSource\"},\"glyph\":{\"id\":\"39696\",\"type\":\"Step\"},\"hover_glyph\":null,\"muted_glyph\":null,\"nonselection_glyph\":{\"id\":\"39697\",\"type\":\"Step\"},\"selection_glyph\":null,\"view\":{\"id\":\"39699\",\"type\":\"CDSView\"}},\"id\":\"39698\",\"type\":\"GlyphRenderer\"},{\"attributes\":{\"callback\":null,\"data\":{\"x\":[1546300800000.0,1546301400000.0,1546301700000.0,1546301820000.0],\"y\":[10,20,10,1]},\"selected\":{\"id\":\"40983\",\"type\":\"Selection\"},\"selection_policy\":{\"id\":\"40984\",\"type\":\"UnionRenderers\"}},\"id\":\"39700\",\"type\":\"ColumnDataSource\"},{\"attributes\":{\"days\":[1,15]},\"id\":\"40991\",\"type\":\"DaysTicker\"},{\"attributes\":{\"days\":[1,2,3,4,5,6,7,8,9,10,11,12,13,14,15,16,17,18,19,20,21,22,23,24,25,26,27,28,29,30,31]},\"id\":\"40988\",\"type\":\"DaysTicker\"},{\"attributes\":{\"line_color\":{\"value\":\"#1f77b4\"},\"line_dash\":[4,4],\"line_width\":{\"value\":2},\"mode\":\"after\",\"x\":{\"field\":\"x\"},\"y\":{\"field\":\"y\"}},\"id\":\"39696\",\"type\":\"Step\"},{\"attributes\":{},\"id\":\"40981\",\"type\":\"Selection\"},{\"attributes\":{\"callback\":null},\"id\":\"39664\",\"type\":\"DataRange1d\"},{\"attributes\":{},\"id\":\"40982\",\"type\":\"UnionRenderers\"},{\"attributes\":{\"text\":\"Unevenly Spaced\"},\"id\":\"39662\",\"type\":\"Title\"},{\"attributes\":{},\"id\":\"40978\",\"type\":\"DatetimeTickFormatter\"},{\"attributes\":{\"months\":[0,2,4,6,8,10]},\"id\":\"40993\",\"type\":\"MonthsTicker\"},{\"attributes\":{\"dimension\":1,\"ticker\":{\"id\":\"39678\",\"type\":\"BasicTicker\"}},\"id\":\"39681\",\"type\":\"Grid\"},{\"attributes\":{\"mantissas\":[1,2,5],\"max_interval\":500.0,\"num_minor_ticks\":0},\"id\":\"40985\",\"type\":\"AdaptiveTicker\"},{\"attributes\":{\"days\":[1,4,7,10,13,16,19,22,25,28]},\"id\":\"40989\",\"type\":\"DaysTicker\"},{\"attributes\":{\"active_drag\":\"auto\",\"active_inspect\":\"auto\",\"active_multi\":null,\"active_scroll\":\"auto\",\"active_tap\":\"auto\",\"tools\":[{\"id\":\"39682\",\"type\":\"PanTool\"},{\"id\":\"39683\",\"type\":\"WheelZoomTool\"},{\"id\":\"39684\",\"type\":\"BoxZoomTool\"},{\"id\":\"39685\",\"type\":\"SaveTool\"},{\"id\":\"39686\",\"type\":\"ResetTool\"},{\"id\":\"39687\",\"type\":\"HelpTool\"}]},\"id\":\"39688\",\"type\":\"Toolbar\"},{\"attributes\":{},\"id\":\"39682\",\"type\":\"PanTool\"},{\"attributes\":{},\"id\":\"40984\",\"type\":\"UnionRenderers\"}],\"root_ids\":[\"39661\"]},\"title\":\"Bokeh Application\",\"version\":\"1.2.0\"}};\n",
       "  var render_items = [{\"docid\":\"b488e4fe-d5aa-4a67-9210-58aba06b69b8\",\"roots\":{\"39661\":\"0c05d74f-fc97-4dfe-b957-6a6a2517a005\"}}];\n",
       "  root.Bokeh.embed.embed_items_notebook(docs_json, render_items);\n",
       "\n",
       "  }\n",
       "  if (root.Bokeh !== undefined) {\n",
       "    embed_document(root);\n",
       "  } else {\n",
       "    var attempts = 0;\n",
       "    var timer = setInterval(function(root) {\n",
       "      if (root.Bokeh !== undefined) {\n",
       "        embed_document(root);\n",
       "        clearInterval(timer);\n",
       "      }\n",
       "      attempts++;\n",
       "      if (attempts > 100) {\n",
       "        console.log(\"Bokeh: ERROR: Unable to run BokehJS code because BokehJS library is missing\");\n",
       "        clearInterval(timer);\n",
       "      }\n",
       "    }, 10, root)\n",
       "  }\n",
       "})(window);"
      ],
      "application/vnd.bokehjs_exec.v0+json": ""
     },
     "metadata": {
      "application/vnd.bokehjs_exec.v0+json": {
       "id": "39661"
      }
     },
     "output_type": "display_data"
    }
   ],
   "source": [
    "plot(ts)"
   ]
  },
  {
   "cell_type": "markdown",
   "metadata": {},
   "source": [
    "# Some rules\n",
    "\n",
    "- A value is applied from its timestamp, until the next one"
   ]
  },
  {
   "cell_type": "code",
   "execution_count": 148,
   "metadata": {},
   "outputs": [
    {
     "name": "stdout",
     "output_type": "stream",
     "text": [
      "At '2019-01-01 00:13:00' got 20\n"
     ]
    }
   ],
   "source": [
    "# Can access any timestamp, if the timestamp is not part of the keys, it will get the previous value\n",
    "dt = '2019-01-01 00:13:00'\n",
    "value = ts[dt]\n",
    "print(\"At '{}' got {}\".format(dt, value))"
   ]
  },
  {
   "cell_type": "code",
   "execution_count": 149,
   "metadata": {},
   "outputs": [
    {
     "name": "stdout",
     "output_type": "stream",
     "text": [
      "At '2060-12-30' got 1\n"
     ]
    }
   ],
   "source": [
    "# Above right bound\n",
    "dt = '2060-12-30'\n",
    "value = ts[dt]\n",
    "print(\"At '{}' got {}\".format(dt, value))"
   ]
  },
  {
   "cell_type": "code",
   "execution_count": 150,
   "metadata": {},
   "outputs": [
    {
     "name": "stdout",
     "output_type": "stream",
     "text": [
      "At '2018-12-30' got None\n"
     ]
    }
   ],
   "source": [
    "# Below left bound\n",
    "dt = '2018-12-30'\n",
    "value = ts[dt]\n",
    "print(\"At '{}' got {}\".format(dt, value))"
   ]
  },
  {
   "cell_type": "code",
   "execution_count": 155,
   "metadata": {},
   "outputs": [
    {
     "name": "stdout",
     "output_type": "stream",
     "text": [
      "At '2018-12-30' got 100\n",
      "At '2018-12-30' got 5\n"
     ]
    }
   ],
   "source": [
    "# This happen when no default is set, as there is no previous value !\n",
    "# Here is how to set your default:\n",
    "ts_withdefault = TimeSeries(ts, default=100)\n",
    "value = ts_withdefault[dt]\n",
    "print(\"At '{}' got {}\".format(dt, value))\n",
    "\n",
    "# or\n",
    "ts_withdefault.default=5\n",
    "value = ts_withdefault[dt]\n",
    "print(\"At '{}' got {}\".format(dt, value))"
   ]
  },
  {
   "cell_type": "markdown",
   "metadata": {},
   "source": [
    "## Operations\n",
    "\n",
    "- sum and rsum\n",
    "- sub\n",
    "- mul\n",
    "- div\n",
    "- le\n",
    "- lt\n",
    "- ge\n",
    "- gt\n",
    "- ceil\n",
    "- floor"
   ]
  },
  {
   "cell_type": "code",
   "execution_count": 116,
   "metadata": {},
   "outputs": [],
   "source": [
    "# Let's define another one\n",
    "ts2 = TimeSeries(default=0)\n",
    "ts2['2019-01-01 00:07:00'] = -1\n",
    "ts2['2019-01-01 00:10:00'] = 5\n",
    "ts2['2019-01-01 00:12:00'] = 14"
   ]
  },
  {
   "cell_type": "code",
   "execution_count": 157,
   "metadata": {},
   "outputs": [
    {
     "data": {
      "text/html": [
       "\n",
       "\n",
       "\n",
       "\n",
       "\n",
       "\n",
       "  <div class=\"bk-root\" id=\"8f5c47f2-5afb-4fc3-8fcd-9761d8675af9\" data-root-id=\"41262\"></div>\n"
      ]
     },
     "metadata": {},
     "output_type": "display_data"
    },
    {
     "data": {
      "application/javascript": [
       "(function(root) {\n",
       "  function embed_document(root) {\n",
       "    \n",
       "  var docs_json = {\"63c67f04-5bda-4418-a1b9-0da37616132e\":{\"roots\":{\"references\":[{\"attributes\":{\"children\":[{\"id\":\"41130\",\"subtype\":\"Figure\",\"type\":\"Plot\"},{\"id\":\"41174\",\"subtype\":\"Figure\",\"type\":\"Plot\"},{\"id\":\"41218\",\"subtype\":\"Figure\",\"type\":\"Plot\"}]},\"id\":\"41262\",\"type\":\"Row\"},{\"attributes\":{},\"id\":\"41155\",\"type\":\"ResetTool\"},{\"attributes\":{\"data_source\":{\"id\":\"41257\",\"type\":\"ColumnDataSource\"},\"glyph\":{\"id\":\"41258\",\"type\":\"Circle\"},\"hover_glyph\":null,\"muted_glyph\":null,\"nonselection_glyph\":{\"id\":\"41259\",\"type\":\"Circle\"},\"selection_glyph\":null,\"view\":{\"id\":\"41261\",\"type\":\"CDSView\"}},\"id\":\"41260\",\"type\":\"GlyphRenderer\"},{\"attributes\":{},\"id\":\"42560\",\"type\":\"DatetimeTickFormatter\"},{\"attributes\":{},\"id\":\"41137\",\"type\":\"LinearScale\"},{\"attributes\":{},\"id\":\"41156\",\"type\":\"HelpTool\"},{\"attributes\":{},\"id\":\"42562\",\"type\":\"BasicTickFormatter\"},{\"attributes\":{\"fill_alpha\":{\"value\":0.1},\"fill_color\":{\"value\":\"#1f77b4\"},\"line_alpha\":{\"value\":0.1},\"line_color\":{\"value\":\"#1f77b4\"},\"size\":{\"units\":\"screen\",\"value\":6},\"x\":{\"field\":\"x\"},\"y\":{\"field\":\"y\"}},\"id\":\"41259\",\"type\":\"Circle\"},{\"attributes\":{\"fill_color\":{\"value\":\"red\"},\"line_color\":{\"value\":\"#1f77b4\"},\"size\":{\"units\":\"screen\",\"value\":6},\"x\":{\"field\":\"x\"},\"y\":{\"field\":\"y\"}},\"id\":\"41258\",\"type\":\"Circle\"},{\"attributes\":{},\"id\":\"42564\",\"type\":\"DatetimeTickFormatter\"},{\"attributes\":{\"axis_label\":\"timestamp\",\"formatter\":{\"id\":\"42560\",\"type\":\"DatetimeTickFormatter\"},\"ticker\":{\"id\":\"41142\",\"type\":\"DatetimeTicker\"}},\"id\":\"41141\",\"type\":\"DatetimeAxis\"},{\"attributes\":{\"active_drag\":\"auto\",\"active_inspect\":\"auto\",\"active_multi\":null,\"active_scroll\":\"auto\",\"active_tap\":\"auto\",\"tools\":[{\"id\":\"41151\",\"type\":\"PanTool\"},{\"id\":\"41152\",\"type\":\"WheelZoomTool\"},{\"id\":\"41153\",\"type\":\"BoxZoomTool\"},{\"id\":\"41154\",\"type\":\"SaveTool\"},{\"id\":\"41155\",\"type\":\"ResetTool\"},{\"id\":\"41156\",\"type\":\"HelpTool\"}]},\"id\":\"41157\",\"type\":\"Toolbar\"},{\"attributes\":{\"axis_label\":\"IoT sensor\",\"formatter\":{\"id\":\"42570\",\"type\":\"BasicTickFormatter\"},\"ticker\":{\"id\":\"41235\",\"type\":\"BasicTicker\"}},\"id\":\"41234\",\"type\":\"LinearAxis\"},{\"attributes\":{},\"id\":\"41139\",\"type\":\"LinearScale\"},{\"attributes\":{},\"id\":\"42566\",\"type\":\"BasicTickFormatter\"},{\"attributes\":{\"ticker\":{\"id\":\"41142\",\"type\":\"DatetimeTicker\"}},\"id\":\"41145\",\"type\":\"Grid\"},{\"attributes\":{\"data_source\":{\"id\":\"41164\",\"type\":\"ColumnDataSource\"},\"glyph\":{\"id\":\"41165\",\"type\":\"Step\"},\"hover_glyph\":null,\"muted_glyph\":null,\"nonselection_glyph\":{\"id\":\"41166\",\"type\":\"Step\"},\"selection_glyph\":null,\"view\":{\"id\":\"41168\",\"type\":\"CDSView\"}},\"id\":\"41167\",\"type\":\"GlyphRenderer\"},{\"attributes\":{\"active_drag\":\"auto\",\"active_inspect\":\"auto\",\"active_multi\":null,\"active_scroll\":\"auto\",\"active_tap\":\"auto\",\"tools\":[{\"id\":\"41239\",\"type\":\"PanTool\"},{\"id\":\"41240\",\"type\":\"WheelZoomTool\"},{\"id\":\"41241\",\"type\":\"BoxZoomTool\"},{\"id\":\"41242\",\"type\":\"SaveTool\"},{\"id\":\"41243\",\"type\":\"ResetTool\"},{\"id\":\"41244\",\"type\":\"HelpTool\"}]},\"id\":\"41245\",\"type\":\"Toolbar\"},{\"attributes\":{},\"id\":\"42568\",\"type\":\"DatetimeTickFormatter\"},{\"attributes\":{\"callback\":null},\"id\":\"41135\",\"type\":\"DataRange1d\"},{\"attributes\":{\"source\":{\"id\":\"41164\",\"type\":\"ColumnDataSource\"}},\"id\":\"41168\",\"type\":\"CDSView\"},{\"attributes\":{\"data_source\":{\"id\":\"41252\",\"type\":\"ColumnDataSource\"},\"glyph\":{\"id\":\"41253\",\"type\":\"Step\"},\"hover_glyph\":null,\"muted_glyph\":null,\"nonselection_glyph\":{\"id\":\"41254\",\"type\":\"Step\"},\"selection_glyph\":null,\"view\":{\"id\":\"41256\",\"type\":\"CDSView\"}},\"id\":\"41255\",\"type\":\"GlyphRenderer\"},{\"attributes\":{\"num_minor_ticks\":5,\"tickers\":[{\"id\":\"42575\",\"type\":\"AdaptiveTicker\"},{\"id\":\"42576\",\"type\":\"AdaptiveTicker\"},{\"id\":\"42577\",\"type\":\"AdaptiveTicker\"},{\"id\":\"42578\",\"type\":\"DaysTicker\"},{\"id\":\"42579\",\"type\":\"DaysTicker\"},{\"id\":\"42580\",\"type\":\"DaysTicker\"},{\"id\":\"42581\",\"type\":\"DaysTicker\"},{\"id\":\"42582\",\"type\":\"MonthsTicker\"},{\"id\":\"42583\",\"type\":\"MonthsTicker\"},{\"id\":\"42584\",\"type\":\"MonthsTicker\"},{\"id\":\"42585\",\"type\":\"MonthsTicker\"},{\"id\":\"42586\",\"type\":\"YearsTicker\"}]},\"id\":\"41142\",\"type\":\"DatetimeTicker\"},{\"attributes\":{\"overlay\":{\"id\":\"42621\",\"type\":\"BoxAnnotation\"}},\"id\":\"41241\",\"type\":\"BoxZoomTool\"},{\"attributes\":{},\"id\":\"42570\",\"type\":\"BasicTickFormatter\"},{\"attributes\":{\"source\":{\"id\":\"41252\",\"type\":\"ColumnDataSource\"}},\"id\":\"41256\",\"type\":\"CDSView\"},{\"attributes\":{\"callback\":null,\"data\":{\"x\":[1546300800000.0,1546301400000.0,1546301700000.0,1546301820000.0],\"y\":[10,20,10,1]},\"selected\":{\"id\":\"42573\",\"type\":\"Selection\"},\"selection_policy\":{\"id\":\"42574\",\"type\":\"UnionRenderers\"}},\"id\":\"41169\",\"type\":\"ColumnDataSource\"},{\"attributes\":{},\"id\":\"42571\",\"type\":\"Selection\"},{\"attributes\":{},\"id\":\"41227\",\"type\":\"LinearScale\"},{\"attributes\":{},\"id\":\"42572\",\"type\":\"UnionRenderers\"},{\"attributes\":{\"axis_label\":\"IoT sensor\",\"formatter\":{\"id\":\"42562\",\"type\":\"BasicTickFormatter\"},\"ticker\":{\"id\":\"41147\",\"type\":\"BasicTicker\"}},\"id\":\"41146\",\"type\":\"LinearAxis\"},{\"attributes\":{\"line_color\":{\"value\":\"#1f77b4\"},\"line_dash\":[4,4],\"line_width\":{\"value\":2},\"mode\":\"after\",\"x\":{\"field\":\"x\"},\"y\":{\"field\":\"y\"}},\"id\":\"41253\",\"type\":\"Step\"},{\"attributes\":{\"fill_color\":{\"value\":\"red\"},\"line_color\":{\"value\":\"#1f77b4\"},\"size\":{\"units\":\"screen\",\"value\":6},\"x\":{\"field\":\"x\"},\"y\":{\"field\":\"y\"}},\"id\":\"41170\",\"type\":\"Circle\"},{\"attributes\":{},\"id\":\"41239\",\"type\":\"PanTool\"},{\"attributes\":{},\"id\":\"42573\",\"type\":\"Selection\"},{\"attributes\":{\"axis_label\":\"timestamp\",\"formatter\":{\"id\":\"42568\",\"type\":\"DatetimeTickFormatter\"},\"ticker\":{\"id\":\"41230\",\"type\":\"DatetimeTicker\"}},\"id\":\"41229\",\"type\":\"DatetimeAxis\"},{\"attributes\":{},\"id\":\"41147\",\"type\":\"BasicTicker\"},{\"attributes\":{\"fill_alpha\":{\"value\":0.1},\"fill_color\":{\"value\":\"#1f77b4\"},\"line_alpha\":{\"value\":0.1},\"line_color\":{\"value\":\"#1f77b4\"},\"size\":{\"units\":\"screen\",\"value\":6},\"x\":{\"field\":\"x\"},\"y\":{\"field\":\"y\"}},\"id\":\"41215\",\"type\":\"Circle\"},{\"attributes\":{},\"id\":\"42574\",\"type\":\"UnionRenderers\"},{\"attributes\":{\"num_minor_ticks\":5,\"tickers\":[{\"id\":\"42592\",\"type\":\"AdaptiveTicker\"},{\"id\":\"42593\",\"type\":\"AdaptiveTicker\"},{\"id\":\"42594\",\"type\":\"AdaptiveTicker\"},{\"id\":\"42595\",\"type\":\"DaysTicker\"},{\"id\":\"42596\",\"type\":\"DaysTicker\"},{\"id\":\"42597\",\"type\":\"DaysTicker\"},{\"id\":\"42598\",\"type\":\"DaysTicker\"},{\"id\":\"42599\",\"type\":\"MonthsTicker\"},{\"id\":\"42600\",\"type\":\"MonthsTicker\"},{\"id\":\"42601\",\"type\":\"MonthsTicker\"},{\"id\":\"42602\",\"type\":\"MonthsTicker\"},{\"id\":\"42603\",\"type\":\"YearsTicker\"}]},\"id\":\"41186\",\"type\":\"DatetimeTicker\"},{\"attributes\":{},\"id\":\"41242\",\"type\":\"SaveTool\"},{\"attributes\":{},\"id\":\"41235\",\"type\":\"BasicTicker\"},{\"attributes\":{\"dimension\":1,\"ticker\":{\"id\":\"41147\",\"type\":\"BasicTicker\"}},\"id\":\"41150\",\"type\":\"Grid\"},{\"attributes\":{\"callback\":null,\"data\":{\"x\":[1546300800000.0,1546301220000.0,1546301400000.0,1546301520000.0,1546301700000.0,1546301820000.0],\"y\":[10,9,25,34,24,15]},\"selected\":{\"id\":\"42607\",\"type\":\"Selection\"},\"selection_policy\":{\"id\":\"42608\",\"type\":\"UnionRenderers\"}},\"id\":\"41257\",\"type\":\"ColumnDataSource\"},{\"attributes\":{\"mantissas\":[1,2,5],\"max_interval\":500.0,\"num_minor_ticks\":0},\"id\":\"42575\",\"type\":\"AdaptiveTicker\"},{\"attributes\":{},\"id\":\"41240\",\"type\":\"WheelZoomTool\"},{\"attributes\":{\"fill_alpha\":{\"value\":0.1},\"fill_color\":{\"value\":\"#1f77b4\"},\"line_alpha\":{\"value\":0.1},\"line_color\":{\"value\":\"#1f77b4\"},\"size\":{\"units\":\"screen\",\"value\":6},\"x\":{\"field\":\"x\"},\"y\":{\"field\":\"y\"}},\"id\":\"41171\",\"type\":\"Circle\"},{\"attributes\":{\"line_alpha\":{\"value\":0.1},\"line_color\":{\"value\":\"#1f77b4\"},\"line_dash\":[4,4],\"line_width\":{\"value\":2},\"mode\":\"after\",\"x\":{\"field\":\"x\"},\"y\":{\"field\":\"y\"}},\"id\":\"41254\",\"type\":\"Step\"},{\"attributes\":{\"line_alpha\":{\"value\":0.1},\"line_color\":{\"value\":\"#1f77b4\"},\"line_dash\":[4,4],\"line_width\":{\"value\":2},\"mode\":\"after\",\"x\":{\"field\":\"x\"},\"y\":{\"field\":\"y\"}},\"id\":\"41166\",\"type\":\"Step\"},{\"attributes\":{\"base\":60,\"mantissas\":[1,2,5,10,15,20,30],\"max_interval\":1800000.0,\"min_interval\":1000.0,\"num_minor_ticks\":0},\"id\":\"42576\",\"type\":\"AdaptiveTicker\"},{\"attributes\":{\"line_color\":{\"value\":\"#1f77b4\"},\"line_dash\":[4,4],\"line_width\":{\"value\":2},\"mode\":\"after\",\"x\":{\"field\":\"x\"},\"y\":{\"field\":\"y\"}},\"id\":\"41165\",\"type\":\"Step\"},{\"attributes\":{},\"id\":\"41243\",\"type\":\"ResetTool\"},{\"attributes\":{\"source\":{\"id\":\"41257\",\"type\":\"ColumnDataSource\"}},\"id\":\"41261\",\"type\":\"CDSView\"},{\"attributes\":{\"base\":24,\"mantissas\":[1,2,4,6,8,12],\"max_interval\":43200000.0,\"min_interval\":3600000.0,\"num_minor_ticks\":0},\"id\":\"42577\",\"type\":\"AdaptiveTicker\"},{\"attributes\":{},\"id\":\"41151\",\"type\":\"PanTool\"},{\"attributes\":{\"days\":[1,2,3,4,5,6,7,8,9,10,11,12,13,14,15,16,17,18,19,20,21,22,23,24,25,26,27,28,29,30,31]},\"id\":\"42578\",\"type\":\"DaysTicker\"},{\"attributes\":{\"data_source\":{\"id\":\"41169\",\"type\":\"ColumnDataSource\"},\"glyph\":{\"id\":\"41170\",\"type\":\"Circle\"},\"hover_glyph\":null,\"muted_glyph\":null,\"nonselection_glyph\":{\"id\":\"41171\",\"type\":\"Circle\"},\"selection_glyph\":null,\"view\":{\"id\":\"41173\",\"type\":\"CDSView\"}},\"id\":\"41172\",\"type\":\"GlyphRenderer\"},{\"attributes\":{\"ticker\":{\"id\":\"41186\",\"type\":\"DatetimeTicker\"}},\"id\":\"41189\",\"type\":\"Grid\"},{\"attributes\":{\"days\":[1,4,7,10,13,16,19,22,25,28]},\"id\":\"42579\",\"type\":\"DaysTicker\"},{\"attributes\":{},\"id\":\"41152\",\"type\":\"WheelZoomTool\"},{\"attributes\":{\"months\":[0,1,2,3,4,5,6,7,8,9,10,11]},\"id\":\"42582\",\"type\":\"MonthsTicker\"},{\"attributes\":{},\"id\":\"41244\",\"type\":\"HelpTool\"},{\"attributes\":{\"overlay\":{\"id\":\"42587\",\"type\":\"BoxAnnotation\"}},\"id\":\"41153\",\"type\":\"BoxZoomTool\"},{\"attributes\":{\"days\":[1,8,15,22]},\"id\":\"42580\",\"type\":\"DaysTicker\"},{\"attributes\":{\"source\":{\"id\":\"41169\",\"type\":\"ColumnDataSource\"}},\"id\":\"41173\",\"type\":\"CDSView\"},{\"attributes\":{\"dimension\":1,\"ticker\":{\"id\":\"41235\",\"type\":\"BasicTicker\"}},\"id\":\"41238\",\"type\":\"Grid\"},{\"attributes\":{},\"id\":\"41154\",\"type\":\"SaveTool\"},{\"attributes\":{\"days\":[1,15]},\"id\":\"42581\",\"type\":\"DaysTicker\"},{\"attributes\":{\"num_minor_ticks\":5,\"tickers\":[{\"id\":\"42609\",\"type\":\"AdaptiveTicker\"},{\"id\":\"42610\",\"type\":\"AdaptiveTicker\"},{\"id\":\"42611\",\"type\":\"AdaptiveTicker\"},{\"id\":\"42612\",\"type\":\"DaysTicker\"},{\"id\":\"42613\",\"type\":\"DaysTicker\"},{\"id\":\"42614\",\"type\":\"DaysTicker\"},{\"id\":\"42615\",\"type\":\"DaysTicker\"},{\"id\":\"42616\",\"type\":\"MonthsTicker\"},{\"id\":\"42617\",\"type\":\"MonthsTicker\"},{\"id\":\"42618\",\"type\":\"MonthsTicker\"},{\"id\":\"42619\",\"type\":\"MonthsTicker\"},{\"id\":\"42620\",\"type\":\"YearsTicker\"}]},\"id\":\"41230\",\"type\":\"DatetimeTicker\"},{\"attributes\":{\"fill_color\":{\"value\":\"red\"},\"line_color\":{\"value\":\"#1f77b4\"},\"size\":{\"units\":\"screen\",\"value\":6},\"x\":{\"field\":\"x\"},\"y\":{\"field\":\"y\"}},\"id\":\"41214\",\"type\":\"Circle\"},{\"attributes\":{},\"id\":\"41195\",\"type\":\"PanTool\"},{\"attributes\":{\"mantissas\":[1,2,5],\"max_interval\":500.0,\"num_minor_ticks\":0},\"id\":\"42592\",\"type\":\"AdaptiveTicker\"},{\"attributes\":{\"data_source\":{\"id\":\"41213\",\"type\":\"ColumnDataSource\"},\"glyph\":{\"id\":\"41214\",\"type\":\"Circle\"},\"hover_glyph\":null,\"muted_glyph\":null,\"nonselection_glyph\":{\"id\":\"41215\",\"type\":\"Circle\"},\"selection_glyph\":null,\"view\":{\"id\":\"41217\",\"type\":\"CDSView\"}},\"id\":\"41216\",\"type\":\"GlyphRenderer\"},{\"attributes\":{\"below\":[{\"id\":\"41185\",\"type\":\"DatetimeAxis\"}],\"center\":[{\"id\":\"41189\",\"type\":\"Grid\"},{\"id\":\"41194\",\"type\":\"Grid\"}],\"left\":[{\"id\":\"41190\",\"type\":\"LinearAxis\"}],\"plot_height\":250,\"plot_width\":400,\"renderers\":[{\"id\":\"41211\",\"type\":\"GlyphRenderer\"},{\"id\":\"41216\",\"type\":\"GlyphRenderer\"}],\"title\":{\"id\":\"41175\",\"type\":\"Title\"},\"toolbar\":{\"id\":\"41201\",\"type\":\"Toolbar\"},\"x_range\":{\"id\":\"41177\",\"type\":\"DataRange1d\"},\"x_scale\":{\"id\":\"41181\",\"type\":\"LinearScale\"},\"y_range\":{\"id\":\"41179\",\"type\":\"DataRange1d\"},\"y_scale\":{\"id\":\"41183\",\"type\":\"LinearScale\"}},\"id\":\"41174\",\"subtype\":\"Figure\",\"type\":\"Plot\"},{\"attributes\":{\"line_color\":{\"value\":\"#1f77b4\"},\"line_dash\":[4,4],\"line_width\":{\"value\":2},\"mode\":\"after\",\"x\":{\"field\":\"x\"},\"y\":{\"field\":\"y\"}},\"id\":\"41209\",\"type\":\"Step\"},{\"attributes\":{\"data_source\":{\"id\":\"41208\",\"type\":\"ColumnDataSource\"},\"glyph\":{\"id\":\"41209\",\"type\":\"Step\"},\"hover_glyph\":null,\"muted_glyph\":null,\"nonselection_glyph\":{\"id\":\"41210\",\"type\":\"Step\"},\"selection_glyph\":null,\"view\":{\"id\":\"41212\",\"type\":\"CDSView\"}},\"id\":\"41211\",\"type\":\"GlyphRenderer\"},{\"attributes\":{\"overlay\":{\"id\":\"42604\",\"type\":\"BoxAnnotation\"}},\"id\":\"41197\",\"type\":\"BoxZoomTool\"},{\"attributes\":{\"base\":60,\"mantissas\":[1,2,5,10,15,20,30],\"max_interval\":1800000.0,\"min_interval\":1000.0,\"num_minor_ticks\":0},\"id\":\"42593\",\"type\":\"AdaptiveTicker\"},{\"attributes\":{\"dimension\":1,\"ticker\":{\"id\":\"41191\",\"type\":\"BasicTicker\"}},\"id\":\"41194\",\"type\":\"Grid\"},{\"attributes\":{\"callback\":null,\"data\":{\"x\":[1546300800000.0,1546301400000.0,1546301700000.0,1546301820000.0],\"y\":[10,20,10,1]},\"selected\":{\"id\":\"42571\",\"type\":\"Selection\"},\"selection_policy\":{\"id\":\"42572\",\"type\":\"UnionRenderers\"}},\"id\":\"41164\",\"type\":\"ColumnDataSource\"},{\"attributes\":{\"below\":[{\"id\":\"41229\",\"type\":\"DatetimeAxis\"}],\"center\":[{\"id\":\"41233\",\"type\":\"Grid\"},{\"id\":\"41238\",\"type\":\"Grid\"}],\"left\":[{\"id\":\"41234\",\"type\":\"LinearAxis\"}],\"plot_height\":250,\"plot_width\":400,\"renderers\":[{\"id\":\"41255\",\"type\":\"GlyphRenderer\"},{\"id\":\"41260\",\"type\":\"GlyphRenderer\"}],\"title\":{\"id\":\"41219\",\"type\":\"Title\"},\"toolbar\":{\"id\":\"41245\",\"type\":\"Toolbar\"},\"x_range\":{\"id\":\"41221\",\"type\":\"DataRange1d\"},\"x_scale\":{\"id\":\"41225\",\"type\":\"LinearScale\"},\"y_range\":{\"id\":\"41223\",\"type\":\"DataRange1d\"},\"y_scale\":{\"id\":\"41227\",\"type\":\"LinearScale\"}},\"id\":\"41218\",\"subtype\":\"Figure\",\"type\":\"Plot\"},{\"attributes\":{\"base\":24,\"mantissas\":[1,2,4,6,8,12],\"max_interval\":43200000.0,\"min_interval\":3600000.0,\"num_minor_ticks\":0},\"id\":\"42594\",\"type\":\"AdaptiveTicker\"},{\"attributes\":{\"callback\":null,\"data\":{\"x\":[1546301220000.0,1546301400000.0,1546301520000.0],\"y\":[-1,5,14]},\"selected\":{\"id\":\"42588\",\"type\":\"Selection\"},\"selection_policy\":{\"id\":\"42589\",\"type\":\"UnionRenderers\"}},\"id\":\"41208\",\"type\":\"ColumnDataSource\"},{\"attributes\":{\"days\":[1,2,3,4,5,6,7,8,9,10,11,12,13,14,15,16,17,18,19,20,21,22,23,24,25,26,27,28,29,30,31]},\"id\":\"42595\",\"type\":\"DaysTicker\"},{\"attributes\":{\"months\":[0,4,8]},\"id\":\"42601\",\"type\":\"MonthsTicker\"},{\"attributes\":{\"text\":\"ts2\"},\"id\":\"41175\",\"type\":\"Title\"},{\"attributes\":{\"below\":[{\"id\":\"41141\",\"type\":\"DatetimeAxis\"}],\"center\":[{\"id\":\"41145\",\"type\":\"Grid\"},{\"id\":\"41150\",\"type\":\"Grid\"}],\"left\":[{\"id\":\"41146\",\"type\":\"LinearAxis\"}],\"plot_height\":250,\"plot_width\":400,\"renderers\":[{\"id\":\"41167\",\"type\":\"GlyphRenderer\"},{\"id\":\"41172\",\"type\":\"GlyphRenderer\"}],\"title\":{\"id\":\"41131\",\"type\":\"Title\"},\"toolbar\":{\"id\":\"41157\",\"type\":\"Toolbar\"},\"x_range\":{\"id\":\"41133\",\"type\":\"DataRange1d\"},\"x_scale\":{\"id\":\"41137\",\"type\":\"LinearScale\"},\"y_range\":{\"id\":\"41135\",\"type\":\"DataRange1d\"},\"y_scale\":{\"id\":\"41139\",\"type\":\"LinearScale\"}},\"id\":\"41130\",\"subtype\":\"Figure\",\"type\":\"Plot\"},{\"attributes\":{\"days\":[1,4,7,10,13,16,19,22,25,28]},\"id\":\"42596\",\"type\":\"DaysTicker\"},{\"attributes\":{\"callback\":null},\"id\":\"41221\",\"type\":\"DataRange1d\"},{\"attributes\":{\"callback\":null,\"data\":{\"x\":[1546301220000.0,1546301400000.0,1546301520000.0],\"y\":[-1,5,14]},\"selected\":{\"id\":\"42590\",\"type\":\"Selection\"},\"selection_policy\":{\"id\":\"42591\",\"type\":\"UnionRenderers\"}},\"id\":\"41213\",\"type\":\"ColumnDataSource\"},{\"attributes\":{},\"id\":\"41196\",\"type\":\"WheelZoomTool\"},{\"attributes\":{\"callback\":null},\"id\":\"41177\",\"type\":\"DataRange1d\"},{\"attributes\":{\"line_alpha\":{\"value\":0.1},\"line_color\":{\"value\":\"#1f77b4\"},\"line_dash\":[4,4],\"line_width\":{\"value\":2},\"mode\":\"after\",\"x\":{\"field\":\"x\"},\"y\":{\"field\":\"y\"}},\"id\":\"41210\",\"type\":\"Step\"},{\"attributes\":{\"days\":[1,8,15,22]},\"id\":\"42597\",\"type\":\"DaysTicker\"},{\"attributes\":{\"source\":{\"id\":\"41208\",\"type\":\"ColumnDataSource\"}},\"id\":\"41212\",\"type\":\"CDSView\"},{\"attributes\":{\"bottom_units\":\"screen\",\"fill_alpha\":{\"value\":0.5},\"fill_color\":{\"value\":\"lightgrey\"},\"left_units\":\"screen\",\"level\":\"overlay\",\"line_alpha\":{\"value\":1.0},\"line_color\":{\"value\":\"black\"},\"line_dash\":[4,4],\"line_width\":{\"value\":2},\"render_mode\":\"css\",\"right_units\":\"screen\",\"top_units\":\"screen\"},\"id\":\"42621\",\"type\":\"BoxAnnotation\"},{\"attributes\":{\"ticker\":{\"id\":\"41230\",\"type\":\"DatetimeTicker\"}},\"id\":\"41233\",\"type\":\"Grid\"},{\"attributes\":{\"days\":[1,15]},\"id\":\"42598\",\"type\":\"DaysTicker\"},{\"attributes\":{},\"id\":\"42620\",\"type\":\"YearsTicker\"},{\"attributes\":{\"months\":[0,6]},\"id\":\"42619\",\"type\":\"MonthsTicker\"},{\"attributes\":{\"text\":\"ts3\"},\"id\":\"41219\",\"type\":\"Title\"},{\"attributes\":{\"callback\":null},\"id\":\"41179\",\"type\":\"DataRange1d\"},{\"attributes\":{\"months\":[0,1,2,3,4,5,6,7,8,9,10,11]},\"id\":\"42599\",\"type\":\"MonthsTicker\"},{\"attributes\":{\"months\":[0,4,8]},\"id\":\"42618\",\"type\":\"MonthsTicker\"},{\"attributes\":{\"callback\":null,\"data\":{\"x\":[1546300800000.0,1546301220000.0,1546301400000.0,1546301520000.0,1546301700000.0,1546301820000.0],\"y\":[10,9,25,34,24,15]},\"selected\":{\"id\":\"42605\",\"type\":\"Selection\"},\"selection_policy\":{\"id\":\"42606\",\"type\":\"UnionRenderers\"}},\"id\":\"41252\",\"type\":\"ColumnDataSource\"},{\"attributes\":{\"months\":[0,2,4,6,8,10]},\"id\":\"42617\",\"type\":\"MonthsTicker\"},{\"attributes\":{\"source\":{\"id\":\"41213\",\"type\":\"ColumnDataSource\"}},\"id\":\"41217\",\"type\":\"CDSView\"},{\"attributes\":{},\"id\":\"41198\",\"type\":\"SaveTool\"},{\"attributes\":{\"months\":[0,2,4,6,8,10]},\"id\":\"42600\",\"type\":\"MonthsTicker\"},{\"attributes\":{\"months\":[0,1,2,3,4,5,6,7,8,9,10,11]},\"id\":\"42616\",\"type\":\"MonthsTicker\"},{\"attributes\":{\"days\":[1,15]},\"id\":\"42615\",\"type\":\"DaysTicker\"},{\"attributes\":{},\"id\":\"41199\",\"type\":\"ResetTool\"},{\"attributes\":{},\"id\":\"41181\",\"type\":\"LinearScale\"},{\"attributes\":{\"days\":[1,8,15,22]},\"id\":\"42614\",\"type\":\"DaysTicker\"},{\"attributes\":{\"months\":[0,6]},\"id\":\"42602\",\"type\":\"MonthsTicker\"},{\"attributes\":{\"days\":[1,4,7,10,13,16,19,22,25,28]},\"id\":\"42613\",\"type\":\"DaysTicker\"},{\"attributes\":{},\"id\":\"41200\",\"type\":\"HelpTool\"},{\"attributes\":{\"days\":[1,2,3,4,5,6,7,8,9,10,11,12,13,14,15,16,17,18,19,20,21,22,23,24,25,26,27,28,29,30,31]},\"id\":\"42612\",\"type\":\"DaysTicker\"},{\"attributes\":{},\"id\":\"42603\",\"type\":\"YearsTicker\"},{\"attributes\":{\"base\":24,\"mantissas\":[1,2,4,6,8,12],\"max_interval\":43200000.0,\"min_interval\":3600000.0,\"num_minor_ticks\":0},\"id\":\"42611\",\"type\":\"AdaptiveTicker\"},{\"attributes\":{\"axis_label\":\"IoT sensor\",\"formatter\":{\"id\":\"42566\",\"type\":\"BasicTickFormatter\"},\"ticker\":{\"id\":\"41191\",\"type\":\"BasicTicker\"}},\"id\":\"41190\",\"type\":\"LinearAxis\"},{\"attributes\":{},\"id\":\"41183\",\"type\":\"LinearScale\"},{\"attributes\":{\"base\":60,\"mantissas\":[1,2,5,10,15,20,30],\"max_interval\":1800000.0,\"min_interval\":1000.0,\"num_minor_ticks\":0},\"id\":\"42610\",\"type\":\"AdaptiveTicker\"},{\"attributes\":{\"bottom_units\":\"screen\",\"fill_alpha\":{\"value\":0.5},\"fill_color\":{\"value\":\"lightgrey\"},\"left_units\":\"screen\",\"level\":\"overlay\",\"line_alpha\":{\"value\":1.0},\"line_color\":{\"value\":\"black\"},\"line_dash\":[4,4],\"line_width\":{\"value\":2},\"render_mode\":\"css\",\"right_units\":\"screen\",\"top_units\":\"screen\"},\"id\":\"42604\",\"type\":\"BoxAnnotation\"},{\"attributes\":{},\"id\":\"41191\",\"type\":\"BasicTicker\"},{\"attributes\":{\"mantissas\":[1,2,5],\"max_interval\":500.0,\"num_minor_ticks\":0},\"id\":\"42609\",\"type\":\"AdaptiveTicker\"},{\"attributes\":{},\"id\":\"42591\",\"type\":\"UnionRenderers\"},{\"attributes\":{},\"id\":\"42608\",\"type\":\"UnionRenderers\"},{\"attributes\":{\"active_drag\":\"auto\",\"active_inspect\":\"auto\",\"active_multi\":null,\"active_scroll\":\"auto\",\"active_tap\":\"auto\",\"tools\":[{\"id\":\"41195\",\"type\":\"PanTool\"},{\"id\":\"41196\",\"type\":\"WheelZoomTool\"},{\"id\":\"41197\",\"type\":\"BoxZoomTool\"},{\"id\":\"41198\",\"type\":\"SaveTool\"},{\"id\":\"41199\",\"type\":\"ResetTool\"},{\"id\":\"41200\",\"type\":\"HelpTool\"}]},\"id\":\"41201\",\"type\":\"Toolbar\"},{\"attributes\":{},\"id\":\"42590\",\"type\":\"Selection\"},{\"attributes\":{\"axis_label\":\"timestamp\",\"formatter\":{\"id\":\"42564\",\"type\":\"DatetimeTickFormatter\"},\"ticker\":{\"id\":\"41186\",\"type\":\"DatetimeTicker\"}},\"id\":\"41185\",\"type\":\"DatetimeAxis\"},{\"attributes\":{},\"id\":\"42607\",\"type\":\"Selection\"},{\"attributes\":{},\"id\":\"42589\",\"type\":\"UnionRenderers\"},{\"attributes\":{},\"id\":\"42606\",\"type\":\"UnionRenderers\"},{\"attributes\":{},\"id\":\"42588\",\"type\":\"Selection\"},{\"attributes\":{\"callback\":null},\"id\":\"41223\",\"type\":\"DataRange1d\"},{\"attributes\":{\"callback\":null},\"id\":\"41133\",\"type\":\"DataRange1d\"},{\"attributes\":{\"bottom_units\":\"screen\",\"fill_alpha\":{\"value\":0.5},\"fill_color\":{\"value\":\"lightgrey\"},\"left_units\":\"screen\",\"level\":\"overlay\",\"line_alpha\":{\"value\":1.0},\"line_color\":{\"value\":\"black\"},\"line_dash\":[4,4],\"line_width\":{\"value\":2},\"render_mode\":\"css\",\"right_units\":\"screen\",\"top_units\":\"screen\"},\"id\":\"42587\",\"type\":\"BoxAnnotation\"},{\"attributes\":{},\"id\":\"41225\",\"type\":\"LinearScale\"},{\"attributes\":{},\"id\":\"42605\",\"type\":\"Selection\"},{\"attributes\":{},\"id\":\"42586\",\"type\":\"YearsTicker\"},{\"attributes\":{\"months\":[0,6]},\"id\":\"42585\",\"type\":\"MonthsTicker\"},{\"attributes\":{\"text\":\"ts1\"},\"id\":\"41131\",\"type\":\"Title\"},{\"attributes\":{\"months\":[0,4,8]},\"id\":\"42584\",\"type\":\"MonthsTicker\"},{\"attributes\":{\"months\":[0,2,4,6,8,10]},\"id\":\"42583\",\"type\":\"MonthsTicker\"}],\"root_ids\":[\"41262\"]},\"title\":\"Bokeh Application\",\"version\":\"1.2.0\"}};\n",
       "  var render_items = [{\"docid\":\"63c67f04-5bda-4418-a1b9-0da37616132e\",\"roots\":{\"41262\":\"8f5c47f2-5afb-4fc3-8fcd-9761d8675af9\"}}];\n",
       "  root.Bokeh.embed.embed_items_notebook(docs_json, render_items);\n",
       "\n",
       "  }\n",
       "  if (root.Bokeh !== undefined) {\n",
       "    embed_document(root);\n",
       "  } else {\n",
       "    var attempts = 0;\n",
       "    var timer = setInterval(function(root) {\n",
       "      if (root.Bokeh !== undefined) {\n",
       "        embed_document(root);\n",
       "        clearInterval(timer);\n",
       "      }\n",
       "      attempts++;\n",
       "      if (attempts > 100) {\n",
       "        console.log(\"Bokeh: ERROR: Unable to run BokehJS code because BokehJS library is missing\");\n",
       "        clearInterval(timer);\n",
       "      }\n",
       "    }, 10, root)\n",
       "  }\n",
       "})(window);"
      ],
      "application/vnd.bokehjs_exec.v0+json": ""
     },
     "metadata": {
      "application/vnd.bokehjs_exec.v0+json": {
       "id": "41262"
      }
     },
     "output_type": "display_data"
    },
    {
     "data": {
      "text/html": [
       "\n",
       "\n",
       "\n",
       "\n",
       "\n",
       "\n",
       "  <div class=\"bk-root\" id=\"378b8281-bfe6-46d3-8165-2fe26bd9f8c8\" data-root-id=\"43106\"></div>\n"
      ]
     },
     "metadata": {},
     "output_type": "display_data"
    },
    {
     "data": {
      "application/javascript": [
       "(function(root) {\n",
       "  function embed_document(root) {\n",
       "    \n",
       "  var docs_json = {\"ec274997-e29d-4bd1-a296-50df89e773c5\":{\"roots\":{\"references\":[{\"attributes\":{\"children\":[{\"id\":\"43018\",\"subtype\":\"Figure\",\"type\":\"Plot\"},{\"id\":\"43062\",\"subtype\":\"Figure\",\"type\":\"Plot\"}]},\"id\":\"43106\",\"type\":\"Row\"},{\"attributes\":{\"months\":[0,6]},\"id\":\"44490\",\"type\":\"MonthsTicker\"},{\"attributes\":{},\"id\":\"44475\",\"type\":\"BasicTickFormatter\"},{\"attributes\":{},\"id\":\"44491\",\"type\":\"YearsTicker\"},{\"attributes\":{},\"id\":\"44471\",\"type\":\"BasicTickFormatter\"},{\"attributes\":{\"callback\":null,\"data\":{\"x\":[1546300800000.0,1546301400000.0,1546301700000.0,1546301820000.0],\"y\":[10,20,10,1]},\"selected\":{\"id\":\"44478\",\"type\":\"Selection\"},\"selection_policy\":{\"id\":\"44479\",\"type\":\"UnionRenderers\"}},\"id\":\"43057\",\"type\":\"ColumnDataSource\"},{\"attributes\":{\"bottom_units\":\"screen\",\"fill_alpha\":{\"value\":0.5},\"fill_color\":{\"value\":\"lightgrey\"},\"left_units\":\"screen\",\"level\":\"overlay\",\"line_alpha\":{\"value\":1.0},\"line_color\":{\"value\":\"black\"},\"line_dash\":[4,4],\"line_width\":{\"value\":2},\"render_mode\":\"css\",\"right_units\":\"screen\",\"top_units\":\"screen\"},\"id\":\"44492\",\"type\":\"BoxAnnotation\"},{\"attributes\":{},\"id\":\"44493\",\"type\":\"Selection\"},{\"attributes\":{},\"id\":\"44473\",\"type\":\"DatetimeTickFormatter\"},{\"attributes\":{},\"id\":\"44494\",\"type\":\"UnionRenderers\"},{\"attributes\":{},\"id\":\"43039\",\"type\":\"PanTool\"},{\"attributes\":{\"source\":{\"id\":\"43052\",\"type\":\"ColumnDataSource\"}},\"id\":\"43056\",\"type\":\"CDSView\"},{\"attributes\":{},\"id\":\"44476\",\"type\":\"Selection\"},{\"attributes\":{},\"id\":\"44495\",\"type\":\"Selection\"},{\"attributes\":{},\"id\":\"43044\",\"type\":\"HelpTool\"},{\"attributes\":{},\"id\":\"44496\",\"type\":\"UnionRenderers\"},{\"attributes\":{\"fill_color\":{\"value\":\"red\"},\"line_color\":{\"value\":\"#1f77b4\"},\"size\":{\"units\":\"screen\",\"value\":6},\"x\":{\"field\":\"x\"},\"y\":{\"field\":\"y\"}},\"id\":\"43058\",\"type\":\"Circle\"},{\"attributes\":{},\"id\":\"43042\",\"type\":\"SaveTool\"},{\"attributes\":{\"mantissas\":[1,2,5],\"max_interval\":500.0,\"num_minor_ticks\":0},\"id\":\"44497\",\"type\":\"AdaptiveTicker\"},{\"attributes\":{\"below\":[{\"id\":\"43029\",\"type\":\"DatetimeAxis\"}],\"center\":[{\"id\":\"43033\",\"type\":\"Grid\"},{\"id\":\"43038\",\"type\":\"Grid\"}],\"left\":[{\"id\":\"43034\",\"type\":\"LinearAxis\"}],\"plot_height\":250,\"plot_width\":400,\"renderers\":[{\"id\":\"43055\",\"type\":\"GlyphRenderer\"},{\"id\":\"43060\",\"type\":\"GlyphRenderer\"}],\"title\":{\"id\":\"43019\",\"type\":\"Title\"},\"toolbar\":{\"id\":\"43045\",\"type\":\"Toolbar\"},\"x_range\":{\"id\":\"43021\",\"type\":\"DataRange1d\"},\"x_scale\":{\"id\":\"43025\",\"type\":\"LinearScale\"},\"y_range\":{\"id\":\"43023\",\"type\":\"DataRange1d\"},\"y_scale\":{\"id\":\"43027\",\"type\":\"LinearScale\"}},\"id\":\"43018\",\"subtype\":\"Figure\",\"type\":\"Plot\"},{\"attributes\":{\"base\":60,\"mantissas\":[1,2,5,10,15,20,30],\"max_interval\":1800000.0,\"min_interval\":1000.0,\"num_minor_ticks\":0},\"id\":\"44498\",\"type\":\"AdaptiveTicker\"},{\"attributes\":{\"base\":24,\"mantissas\":[1,2,4,6,8,12],\"max_interval\":43200000.0,\"min_interval\":3600000.0,\"num_minor_ticks\":0},\"id\":\"44499\",\"type\":\"AdaptiveTicker\"},{\"attributes\":{},\"id\":\"44478\",\"type\":\"Selection\"},{\"attributes\":{\"days\":[1,2,3,4,5,6,7,8,9,10,11,12,13,14,15,16,17,18,19,20,21,22,23,24,25,26,27,28,29,30,31]},\"id\":\"44483\",\"type\":\"DaysTicker\"},{\"attributes\":{\"days\":[1,2,3,4,5,6,7,8,9,10,11,12,13,14,15,16,17,18,19,20,21,22,23,24,25,26,27,28,29,30,31]},\"id\":\"44500\",\"type\":\"DaysTicker\"},{\"attributes\":{},\"id\":\"43040\",\"type\":\"WheelZoomTool\"},{\"attributes\":{\"days\":[1,4,7,10,13,16,19,22,25,28]},\"id\":\"44501\",\"type\":\"DaysTicker\"},{\"attributes\":{\"callback\":null},\"id\":\"43021\",\"type\":\"DataRange1d\"},{\"attributes\":{},\"id\":\"44477\",\"type\":\"UnionRenderers\"},{\"attributes\":{\"days\":[1,8,15,22]},\"id\":\"44502\",\"type\":\"DaysTicker\"},{\"attributes\":{\"axis_label\":\"IoT sensor\",\"formatter\":{\"id\":\"44471\",\"type\":\"BasicTickFormatter\"},\"ticker\":{\"id\":\"43035\",\"type\":\"BasicTicker\"}},\"id\":\"43034\",\"type\":\"LinearAxis\"},{\"attributes\":{\"overlay\":{\"id\":\"44492\",\"type\":\"BoxAnnotation\"}},\"id\":\"43041\",\"type\":\"BoxZoomTool\"},{\"attributes\":{\"days\":[1,15]},\"id\":\"44503\",\"type\":\"DaysTicker\"},{\"attributes\":{\"text\":\"ts1\"},\"id\":\"43019\",\"type\":\"Title\"},{\"attributes\":{\"months\":[0,1,2,3,4,5,6,7,8,9,10,11]},\"id\":\"44504\",\"type\":\"MonthsTicker\"},{\"attributes\":{\"active_drag\":\"auto\",\"active_inspect\":\"auto\",\"active_multi\":null,\"active_scroll\":\"auto\",\"active_tap\":\"auto\",\"tools\":[{\"id\":\"43039\",\"type\":\"PanTool\"},{\"id\":\"43040\",\"type\":\"WheelZoomTool\"},{\"id\":\"43041\",\"type\":\"BoxZoomTool\"},{\"id\":\"43042\",\"type\":\"SaveTool\"},{\"id\":\"43043\",\"type\":\"ResetTool\"},{\"id\":\"43044\",\"type\":\"HelpTool\"}]},\"id\":\"43045\",\"type\":\"Toolbar\"},{\"attributes\":{\"months\":[0,2,4,6,8,10]},\"id\":\"44505\",\"type\":\"MonthsTicker\"},{\"attributes\":{\"data_source\":{\"id\":\"43052\",\"type\":\"ColumnDataSource\"},\"glyph\":{\"id\":\"43053\",\"type\":\"Step\"},\"hover_glyph\":null,\"muted_glyph\":null,\"nonselection_glyph\":{\"id\":\"43054\",\"type\":\"Step\"},\"selection_glyph\":null,\"view\":{\"id\":\"43056\",\"type\":\"CDSView\"}},\"id\":\"43055\",\"type\":\"GlyphRenderer\"},{\"attributes\":{\"months\":[0,4,8]},\"id\":\"44506\",\"type\":\"MonthsTicker\"},{\"attributes\":{},\"id\":\"43043\",\"type\":\"ResetTool\"},{\"attributes\":{\"months\":[0,6]},\"id\":\"44507\",\"type\":\"MonthsTicker\"},{\"attributes\":{\"fill_alpha\":{\"value\":0.1},\"fill_color\":{\"value\":\"#1f77b4\"},\"line_alpha\":{\"value\":0.1},\"line_color\":{\"value\":\"#1f77b4\"},\"size\":{\"units\":\"screen\",\"value\":6},\"x\":{\"field\":\"x\"},\"y\":{\"field\":\"y\"}},\"id\":\"43059\",\"type\":\"Circle\"},{\"attributes\":{\"base\":24,\"mantissas\":[1,2,4,6,8,12],\"max_interval\":43200000.0,\"min_interval\":3600000.0,\"num_minor_ticks\":0},\"id\":\"44482\",\"type\":\"AdaptiveTicker\"},{\"attributes\":{\"ticker\":{\"id\":\"43030\",\"type\":\"DatetimeTicker\"}},\"id\":\"43033\",\"type\":\"Grid\"},{\"attributes\":{\"line_color\":{\"value\":\"#1f77b4\"},\"line_dash\":[4,4],\"line_width\":{\"value\":2},\"mode\":\"after\",\"x\":{\"field\":\"x\"},\"y\":{\"field\":\"y\"}},\"id\":\"43097\",\"type\":\"Step\"},{\"attributes\":{},\"id\":\"44508\",\"type\":\"YearsTicker\"},{\"attributes\":{},\"id\":\"43025\",\"type\":\"LinearScale\"},{\"attributes\":{\"days\":[1,15]},\"id\":\"44486\",\"type\":\"DaysTicker\"},{\"attributes\":{\"bottom_units\":\"screen\",\"fill_alpha\":{\"value\":0.5},\"fill_color\":{\"value\":\"lightgrey\"},\"left_units\":\"screen\",\"level\":\"overlay\",\"line_alpha\":{\"value\":1.0},\"line_color\":{\"value\":\"black\"},\"line_dash\":[4,4],\"line_width\":{\"value\":2},\"render_mode\":\"css\",\"right_units\":\"screen\",\"top_units\":\"screen\"},\"id\":\"44509\",\"type\":\"BoxAnnotation\"},{\"attributes\":{\"data_source\":{\"id\":\"43057\",\"type\":\"ColumnDataSource\"},\"glyph\":{\"id\":\"43058\",\"type\":\"Circle\"},\"hover_glyph\":null,\"muted_glyph\":null,\"nonselection_glyph\":{\"id\":\"43059\",\"type\":\"Circle\"},\"selection_glyph\":null,\"view\":{\"id\":\"43061\",\"type\":\"CDSView\"}},\"id\":\"43060\",\"type\":\"GlyphRenderer\"},{\"attributes\":{},\"id\":\"43027\",\"type\":\"LinearScale\"},{\"attributes\":{\"base\":60,\"mantissas\":[1,2,5,10,15,20,30],\"max_interval\":1800000.0,\"min_interval\":1000.0,\"num_minor_ticks\":0},\"id\":\"44481\",\"type\":\"AdaptiveTicker\"},{\"attributes\":{\"axis_label\":\"timestamp\",\"formatter\":{\"id\":\"44469\",\"type\":\"DatetimeTickFormatter\"},\"ticker\":{\"id\":\"43030\",\"type\":\"DatetimeTicker\"}},\"id\":\"43029\",\"type\":\"DatetimeAxis\"},{\"attributes\":{\"text\":\"ts2\"},\"id\":\"43063\",\"type\":\"Title\"},{\"attributes\":{\"below\":[{\"id\":\"43073\",\"type\":\"DatetimeAxis\"}],\"center\":[{\"id\":\"43077\",\"type\":\"Grid\"},{\"id\":\"43082\",\"type\":\"Grid\"}],\"left\":[{\"id\":\"43078\",\"type\":\"LinearAxis\"}],\"plot_height\":250,\"plot_width\":400,\"renderers\":[{\"id\":\"43099\",\"type\":\"GlyphRenderer\"},{\"id\":\"43104\",\"type\":\"GlyphRenderer\"}],\"title\":{\"id\":\"43063\",\"type\":\"Title\"},\"toolbar\":{\"id\":\"43089\",\"type\":\"Toolbar\"},\"x_range\":{\"id\":\"43065\",\"type\":\"DataRange1d\"},\"x_scale\":{\"id\":\"43069\",\"type\":\"LinearScale\"},\"y_range\":{\"id\":\"43067\",\"type\":\"DataRange1d\"},\"y_scale\":{\"id\":\"43071\",\"type\":\"LinearScale\"}},\"id\":\"43062\",\"subtype\":\"Figure\",\"type\":\"Plot\"},{\"attributes\":{},\"id\":\"43035\",\"type\":\"BasicTicker\"},{\"attributes\":{\"days\":[1,4,7,10,13,16,19,22,25,28]},\"id\":\"44484\",\"type\":\"DaysTicker\"},{\"attributes\":{\"source\":{\"id\":\"43057\",\"type\":\"ColumnDataSource\"}},\"id\":\"43061\",\"type\":\"CDSView\"},{\"attributes\":{\"months\":[0,4,8]},\"id\":\"44489\",\"type\":\"MonthsTicker\"},{\"attributes\":{\"callback\":null},\"id\":\"43067\",\"type\":\"DataRange1d\"},{\"attributes\":{},\"id\":\"43071\",\"type\":\"LinearScale\"},{\"attributes\":{\"num_minor_ticks\":5,\"tickers\":[{\"id\":\"44480\",\"type\":\"AdaptiveTicker\"},{\"id\":\"44481\",\"type\":\"AdaptiveTicker\"},{\"id\":\"44482\",\"type\":\"AdaptiveTicker\"},{\"id\":\"44483\",\"type\":\"DaysTicker\"},{\"id\":\"44484\",\"type\":\"DaysTicker\"},{\"id\":\"44485\",\"type\":\"DaysTicker\"},{\"id\":\"44486\",\"type\":\"DaysTicker\"},{\"id\":\"44487\",\"type\":\"MonthsTicker\"},{\"id\":\"44488\",\"type\":\"MonthsTicker\"},{\"id\":\"44489\",\"type\":\"MonthsTicker\"},{\"id\":\"44490\",\"type\":\"MonthsTicker\"},{\"id\":\"44491\",\"type\":\"YearsTicker\"}]},\"id\":\"43030\",\"type\":\"DatetimeTicker\"},{\"attributes\":{\"mantissas\":[1,2,5],\"max_interval\":500.0,\"num_minor_ticks\":0},\"id\":\"44480\",\"type\":\"AdaptiveTicker\"},{\"attributes\":{},\"id\":\"43069\",\"type\":\"LinearScale\"},{\"attributes\":{\"callback\":null},\"id\":\"43023\",\"type\":\"DataRange1d\"},{\"attributes\":{},\"id\":\"44479\",\"type\":\"UnionRenderers\"},{\"attributes\":{\"axis_label\":\"timestamp\",\"formatter\":{\"id\":\"44473\",\"type\":\"DatetimeTickFormatter\"},\"ticker\":{\"id\":\"43074\",\"type\":\"DatetimeTicker\"}},\"id\":\"43073\",\"type\":\"DatetimeAxis\"},{\"attributes\":{\"dimension\":1,\"ticker\":{\"id\":\"43035\",\"type\":\"BasicTicker\"}},\"id\":\"43038\",\"type\":\"Grid\"},{\"attributes\":{\"callback\":null,\"data\":{\"x\":[1546300800000.0,1546301400000.0,1546301700000.0,1546301820000.0],\"y\":[20,30,20,11]},\"selected\":{\"id\":\"44493\",\"type\":\"Selection\"},\"selection_policy\":{\"id\":\"44494\",\"type\":\"UnionRenderers\"}},\"id\":\"43096\",\"type\":\"ColumnDataSource\"},{\"attributes\":{\"months\":[0,1,2,3,4,5,6,7,8,9,10,11]},\"id\":\"44487\",\"type\":\"MonthsTicker\"},{\"attributes\":{\"dimension\":1,\"ticker\":{\"id\":\"43079\",\"type\":\"BasicTicker\"}},\"id\":\"43082\",\"type\":\"Grid\"},{\"attributes\":{},\"id\":\"43088\",\"type\":\"HelpTool\"},{\"attributes\":{\"callback\":null},\"id\":\"43065\",\"type\":\"DataRange1d\"},{\"attributes\":{\"months\":[0,2,4,6,8,10]},\"id\":\"44488\",\"type\":\"MonthsTicker\"},{\"attributes\":{\"line_alpha\":{\"value\":0.1},\"line_color\":{\"value\":\"#1f77b4\"},\"line_dash\":[4,4],\"line_width\":{\"value\":2},\"mode\":\"after\",\"x\":{\"field\":\"x\"},\"y\":{\"field\":\"y\"}},\"id\":\"43054\",\"type\":\"Step\"},{\"attributes\":{\"num_minor_ticks\":5,\"tickers\":[{\"id\":\"44497\",\"type\":\"AdaptiveTicker\"},{\"id\":\"44498\",\"type\":\"AdaptiveTicker\"},{\"id\":\"44499\",\"type\":\"AdaptiveTicker\"},{\"id\":\"44500\",\"type\":\"DaysTicker\"},{\"id\":\"44501\",\"type\":\"DaysTicker\"},{\"id\":\"44502\",\"type\":\"DaysTicker\"},{\"id\":\"44503\",\"type\":\"DaysTicker\"},{\"id\":\"44504\",\"type\":\"MonthsTicker\"},{\"id\":\"44505\",\"type\":\"MonthsTicker\"},{\"id\":\"44506\",\"type\":\"MonthsTicker\"},{\"id\":\"44507\",\"type\":\"MonthsTicker\"},{\"id\":\"44508\",\"type\":\"YearsTicker\"}]},\"id\":\"43074\",\"type\":\"DatetimeTicker\"},{\"attributes\":{\"ticker\":{\"id\":\"43074\",\"type\":\"DatetimeTicker\"}},\"id\":\"43077\",\"type\":\"Grid\"},{\"attributes\":{\"days\":[1,8,15,22]},\"id\":\"44485\",\"type\":\"DaysTicker\"},{\"attributes\":{\"callback\":null,\"data\":{\"x\":[1546300800000.0,1546301400000.0,1546301700000.0,1546301820000.0],\"y\":[10,20,10,1]},\"selected\":{\"id\":\"44476\",\"type\":\"Selection\"},\"selection_policy\":{\"id\":\"44477\",\"type\":\"UnionRenderers\"}},\"id\":\"43052\",\"type\":\"ColumnDataSource\"},{\"attributes\":{},\"id\":\"43079\",\"type\":\"BasicTicker\"},{\"attributes\":{\"axis_label\":\"IoT sensor\",\"formatter\":{\"id\":\"44475\",\"type\":\"BasicTickFormatter\"},\"ticker\":{\"id\":\"43079\",\"type\":\"BasicTicker\"}},\"id\":\"43078\",\"type\":\"LinearAxis\"},{\"attributes\":{\"line_color\":{\"value\":\"#1f77b4\"},\"line_dash\":[4,4],\"line_width\":{\"value\":2},\"mode\":\"after\",\"x\":{\"field\":\"x\"},\"y\":{\"field\":\"y\"}},\"id\":\"43053\",\"type\":\"Step\"},{\"attributes\":{\"source\":{\"id\":\"43096\",\"type\":\"ColumnDataSource\"}},\"id\":\"43100\",\"type\":\"CDSView\"},{\"attributes\":{},\"id\":\"43086\",\"type\":\"SaveTool\"},{\"attributes\":{},\"id\":\"43087\",\"type\":\"ResetTool\"},{\"attributes\":{},\"id\":\"44469\",\"type\":\"DatetimeTickFormatter\"},{\"attributes\":{\"overlay\":{\"id\":\"44509\",\"type\":\"BoxAnnotation\"}},\"id\":\"43085\",\"type\":\"BoxZoomTool\"},{\"attributes\":{},\"id\":\"43084\",\"type\":\"WheelZoomTool\"},{\"attributes\":{},\"id\":\"43083\",\"type\":\"PanTool\"},{\"attributes\":{\"data_source\":{\"id\":\"43101\",\"type\":\"ColumnDataSource\"},\"glyph\":{\"id\":\"43102\",\"type\":\"Circle\"},\"hover_glyph\":null,\"muted_glyph\":null,\"nonselection_glyph\":{\"id\":\"43103\",\"type\":\"Circle\"},\"selection_glyph\":null,\"view\":{\"id\":\"43105\",\"type\":\"CDSView\"}},\"id\":\"43104\",\"type\":\"GlyphRenderer\"},{\"attributes\":{\"data_source\":{\"id\":\"43096\",\"type\":\"ColumnDataSource\"},\"glyph\":{\"id\":\"43097\",\"type\":\"Step\"},\"hover_glyph\":null,\"muted_glyph\":null,\"nonselection_glyph\":{\"id\":\"43098\",\"type\":\"Step\"},\"selection_glyph\":null,\"view\":{\"id\":\"43100\",\"type\":\"CDSView\"}},\"id\":\"43099\",\"type\":\"GlyphRenderer\"},{\"attributes\":{\"line_alpha\":{\"value\":0.1},\"line_color\":{\"value\":\"#1f77b4\"},\"line_dash\":[4,4],\"line_width\":{\"value\":2},\"mode\":\"after\",\"x\":{\"field\":\"x\"},\"y\":{\"field\":\"y\"}},\"id\":\"43098\",\"type\":\"Step\"},{\"attributes\":{\"active_drag\":\"auto\",\"active_inspect\":\"auto\",\"active_multi\":null,\"active_scroll\":\"auto\",\"active_tap\":\"auto\",\"tools\":[{\"id\":\"43083\",\"type\":\"PanTool\"},{\"id\":\"43084\",\"type\":\"WheelZoomTool\"},{\"id\":\"43085\",\"type\":\"BoxZoomTool\"},{\"id\":\"43086\",\"type\":\"SaveTool\"},{\"id\":\"43087\",\"type\":\"ResetTool\"},{\"id\":\"43088\",\"type\":\"HelpTool\"}]},\"id\":\"43089\",\"type\":\"Toolbar\"},{\"attributes\":{\"fill_color\":{\"value\":\"red\"},\"line_color\":{\"value\":\"#1f77b4\"},\"size\":{\"units\":\"screen\",\"value\":6},\"x\":{\"field\":\"x\"},\"y\":{\"field\":\"y\"}},\"id\":\"43102\",\"type\":\"Circle\"},{\"attributes\":{\"fill_alpha\":{\"value\":0.1},\"fill_color\":{\"value\":\"#1f77b4\"},\"line_alpha\":{\"value\":0.1},\"line_color\":{\"value\":\"#1f77b4\"},\"size\":{\"units\":\"screen\",\"value\":6},\"x\":{\"field\":\"x\"},\"y\":{\"field\":\"y\"}},\"id\":\"43103\",\"type\":\"Circle\"},{\"attributes\":{\"callback\":null,\"data\":{\"x\":[1546300800000.0,1546301400000.0,1546301700000.0,1546301820000.0],\"y\":[20,30,20,11]},\"selected\":{\"id\":\"44495\",\"type\":\"Selection\"},\"selection_policy\":{\"id\":\"44496\",\"type\":\"UnionRenderers\"}},\"id\":\"43101\",\"type\":\"ColumnDataSource\"},{\"attributes\":{\"source\":{\"id\":\"43101\",\"type\":\"ColumnDataSource\"}},\"id\":\"43105\",\"type\":\"CDSView\"}],\"root_ids\":[\"43106\"]},\"title\":\"Bokeh Application\",\"version\":\"1.2.0\"}};\n",
       "  var render_items = [{\"docid\":\"ec274997-e29d-4bd1-a296-50df89e773c5\",\"roots\":{\"43106\":\"378b8281-bfe6-46d3-8165-2fe26bd9f8c8\"}}];\n",
       "  root.Bokeh.embed.embed_items_notebook(docs_json, render_items);\n",
       "\n",
       "  }\n",
       "  if (root.Bokeh !== undefined) {\n",
       "    embed_document(root);\n",
       "  } else {\n",
       "    var attempts = 0;\n",
       "    var timer = setInterval(function(root) {\n",
       "      if (root.Bokeh !== undefined) {\n",
       "        embed_document(root);\n",
       "        clearInterval(timer);\n",
       "      }\n",
       "      attempts++;\n",
       "      if (attempts > 100) {\n",
       "        console.log(\"Bokeh: ERROR: Unable to run BokehJS code because BokehJS library is missing\");\n",
       "        clearInterval(timer);\n",
       "      }\n",
       "    }, 10, root)\n",
       "  }\n",
       "})(window);"
      ],
      "application/vnd.bokehjs_exec.v0+json": ""
     },
     "metadata": {
      "application/vnd.bokehjs_exec.v0+json": {
       "id": "43106"
      }
     },
     "output_type": "display_data"
    }
   ],
   "source": [
    "# Addition\n",
    "plot_row(ts, ts + 10)\n",
    "plot_row(ts, ts2, ts + ts2)"
   ]
  },
  {
   "cell_type": "code",
   "execution_count": 159,
   "metadata": {},
   "outputs": [
    {
     "data": {
      "text/html": [
       "\n",
       "\n",
       "\n",
       "\n",
       "\n",
       "\n",
       "  <div class=\"bk-root\" id=\"7e304faf-02cc-4c12-8bc3-9fccf445e337\" data-root-id=\"46904\"></div>\n"
      ]
     },
     "metadata": {},
     "output_type": "display_data"
    },
    {
     "data": {
      "application/javascript": [
       "(function(root) {\n",
       "  function embed_document(root) {\n",
       "    \n",
       "  var docs_json = {\"3c40c531-5087-4d0f-81aa-6c9d5960e254\":{\"roots\":{\"references\":[{\"attributes\":{\"children\":[{\"id\":\"46772\",\"subtype\":\"Figure\",\"type\":\"Plot\"},{\"id\":\"46816\",\"subtype\":\"Figure\",\"type\":\"Plot\"},{\"id\":\"46860\",\"subtype\":\"Figure\",\"type\":\"Plot\"}]},\"id\":\"46904\",\"type\":\"Row\"},{\"attributes\":{\"callback\":null},\"id\":\"46777\",\"type\":\"DataRange1d\"},{\"attributes\":{\"bottom_units\":\"screen\",\"fill_alpha\":{\"value\":0.5},\"fill_color\":{\"value\":\"lightgrey\"},\"left_units\":\"screen\",\"level\":\"overlay\",\"line_alpha\":{\"value\":1.0},\"line_color\":{\"value\":\"black\"},\"line_dash\":[4,4],\"line_width\":{\"value\":2},\"render_mode\":\"css\",\"right_units\":\"screen\",\"top_units\":\"screen\"},\"id\":\"48405\",\"type\":\"BoxAnnotation\"},{\"attributes\":{\"axis_label\":\"IoT sensor\",\"formatter\":{\"id\":\"48384\",\"type\":\"BasicTickFormatter\"},\"ticker\":{\"id\":\"46833\",\"type\":\"BasicTicker\"}},\"id\":\"46832\",\"type\":\"LinearAxis\"},{\"attributes\":{},\"id\":\"46882\",\"type\":\"WheelZoomTool\"},{\"attributes\":{},\"id\":\"46779\",\"type\":\"LinearScale\"},{\"attributes\":{},\"id\":\"48406\",\"type\":\"Selection\"},{\"attributes\":{},\"id\":\"46833\",\"type\":\"BasicTicker\"},{\"attributes\":{\"overlay\":{\"id\":\"48439\",\"type\":\"BoxAnnotation\"}},\"id\":\"46883\",\"type\":\"BoxZoomTool\"},{\"attributes\":{},\"id\":\"46781\",\"type\":\"LinearScale\"},{\"attributes\":{},\"id\":\"48407\",\"type\":\"UnionRenderers\"},{\"attributes\":{\"dimension\":1,\"ticker\":{\"id\":\"46833\",\"type\":\"BasicTicker\"}},\"id\":\"46836\",\"type\":\"Grid\"},{\"attributes\":{},\"id\":\"46884\",\"type\":\"SaveTool\"},{\"attributes\":{\"axis_label\":\"timestamp\",\"formatter\":{\"id\":\"48378\",\"type\":\"DatetimeTickFormatter\"},\"ticker\":{\"id\":\"46784\",\"type\":\"DatetimeTicker\"}},\"id\":\"46783\",\"type\":\"DatetimeAxis\"},{\"attributes\":{},\"id\":\"48408\",\"type\":\"Selection\"},{\"attributes\":{},\"id\":\"46885\",\"type\":\"ResetTool\"},{\"attributes\":{\"num_minor_ticks\":5,\"tickers\":[{\"id\":\"48393\",\"type\":\"AdaptiveTicker\"},{\"id\":\"48394\",\"type\":\"AdaptiveTicker\"},{\"id\":\"48395\",\"type\":\"AdaptiveTicker\"},{\"id\":\"48396\",\"type\":\"DaysTicker\"},{\"id\":\"48397\",\"type\":\"DaysTicker\"},{\"id\":\"48398\",\"type\":\"DaysTicker\"},{\"id\":\"48399\",\"type\":\"DaysTicker\"},{\"id\":\"48400\",\"type\":\"MonthsTicker\"},{\"id\":\"48401\",\"type\":\"MonthsTicker\"},{\"id\":\"48402\",\"type\":\"MonthsTicker\"},{\"id\":\"48403\",\"type\":\"MonthsTicker\"},{\"id\":\"48404\",\"type\":\"YearsTicker\"}]},\"id\":\"46784\",\"type\":\"DatetimeTicker\"},{\"attributes\":{\"line_alpha\":{\"value\":0.1},\"line_color\":{\"value\":\"#1f77b4\"},\"line_dash\":[4,4],\"line_width\":{\"value\":2},\"mode\":\"after\",\"x\":{\"field\":\"x\"},\"y\":{\"field\":\"y\"}},\"id\":\"46852\",\"type\":\"Step\"},{\"attributes\":{},\"id\":\"48409\",\"type\":\"UnionRenderers\"},{\"attributes\":{\"line_color\":{\"value\":\"#1f77b4\"},\"line_dash\":[4,4],\"line_width\":{\"value\":2},\"mode\":\"after\",\"x\":{\"field\":\"x\"},\"y\":{\"field\":\"y\"}},\"id\":\"46851\",\"type\":\"Step\"},{\"attributes\":{},\"id\":\"46886\",\"type\":\"HelpTool\"},{\"attributes\":{\"ticker\":{\"id\":\"46784\",\"type\":\"DatetimeTicker\"}},\"id\":\"46787\",\"type\":\"Grid\"},{\"attributes\":{\"mantissas\":[1,2,5],\"max_interval\":500.0,\"num_minor_ticks\":0},\"id\":\"48410\",\"type\":\"AdaptiveTicker\"},{\"attributes\":{\"active_drag\":\"auto\",\"active_inspect\":\"auto\",\"active_multi\":null,\"active_scroll\":\"auto\",\"active_tap\":\"auto\",\"tools\":[{\"id\":\"46837\",\"type\":\"PanTool\"},{\"id\":\"46838\",\"type\":\"WheelZoomTool\"},{\"id\":\"46839\",\"type\":\"BoxZoomTool\"},{\"id\":\"46840\",\"type\":\"SaveTool\"},{\"id\":\"46841\",\"type\":\"ResetTool\"},{\"id\":\"46842\",\"type\":\"HelpTool\"}]},\"id\":\"46843\",\"type\":\"Toolbar\"},{\"attributes\":{\"axis_label\":\"IoT sensor\",\"formatter\":{\"id\":\"48380\",\"type\":\"BasicTickFormatter\"},\"ticker\":{\"id\":\"46789\",\"type\":\"BasicTicker\"}},\"id\":\"46788\",\"type\":\"LinearAxis\"},{\"attributes\":{\"active_drag\":\"auto\",\"active_inspect\":\"auto\",\"active_multi\":null,\"active_scroll\":\"auto\",\"active_tap\":\"auto\",\"tools\":[{\"id\":\"46881\",\"type\":\"PanTool\"},{\"id\":\"46882\",\"type\":\"WheelZoomTool\"},{\"id\":\"46883\",\"type\":\"BoxZoomTool\"},{\"id\":\"46884\",\"type\":\"SaveTool\"},{\"id\":\"46885\",\"type\":\"ResetTool\"},{\"id\":\"46886\",\"type\":\"HelpTool\"}]},\"id\":\"46887\",\"type\":\"Toolbar\"},{\"attributes\":{},\"id\":\"46837\",\"type\":\"PanTool\"},{\"attributes\":{\"callback\":null},\"id\":\"46775\",\"type\":\"DataRange1d\"},{\"attributes\":{\"base\":60,\"mantissas\":[1,2,5,10,15,20,30],\"max_interval\":1800000.0,\"min_interval\":1000.0,\"num_minor_ticks\":0},\"id\":\"48411\",\"type\":\"AdaptiveTicker\"},{\"attributes\":{\"data_source\":{\"id\":\"46894\",\"type\":\"ColumnDataSource\"},\"glyph\":{\"id\":\"46895\",\"type\":\"Step\"},\"hover_glyph\":null,\"muted_glyph\":null,\"nonselection_glyph\":{\"id\":\"46896\",\"type\":\"Step\"},\"selection_glyph\":null,\"view\":{\"id\":\"46898\",\"type\":\"CDSView\"}},\"id\":\"46897\",\"type\":\"GlyphRenderer\"},{\"attributes\":{},\"id\":\"46789\",\"type\":\"BasicTicker\"},{\"attributes\":{},\"id\":\"46838\",\"type\":\"WheelZoomTool\"},{\"attributes\":{\"source\":{\"id\":\"46894\",\"type\":\"ColumnDataSource\"}},\"id\":\"46898\",\"type\":\"CDSView\"},{\"attributes\":{\"base\":24,\"mantissas\":[1,2,4,6,8,12],\"max_interval\":43200000.0,\"min_interval\":3600000.0,\"num_minor_ticks\":0},\"id\":\"48412\",\"type\":\"AdaptiveTicker\"},{\"attributes\":{\"dimension\":1,\"ticker\":{\"id\":\"46789\",\"type\":\"BasicTicker\"}},\"id\":\"46792\",\"type\":\"Grid\"},{\"attributes\":{\"overlay\":{\"id\":\"48422\",\"type\":\"BoxAnnotation\"}},\"id\":\"46839\",\"type\":\"BoxZoomTool\"},{\"attributes\":{\"callback\":null,\"data\":{\"x\":[1546300800000.0,1546301220000.0,1546301400000.0,1546301520000.0,1546301700000.0,1546301820000.0],\"y\":[10,11,15,6,-4,-13]},\"selected\":{\"id\":\"48425\",\"type\":\"Selection\"},\"selection_policy\":{\"id\":\"48426\",\"type\":\"UnionRenderers\"}},\"id\":\"46899\",\"type\":\"ColumnDataSource\"},{\"attributes\":{\"days\":[1,2,3,4,5,6,7,8,9,10,11,12,13,14,15,16,17,18,19,20,21,22,23,24,25,26,27,28,29,30,31]},\"id\":\"48413\",\"type\":\"DaysTicker\"},{\"attributes\":{\"line_color\":{\"value\":\"#1f77b4\"},\"line_dash\":[4,4],\"line_width\":{\"value\":2},\"mode\":\"after\",\"x\":{\"field\":\"x\"},\"y\":{\"field\":\"y\"}},\"id\":\"46807\",\"type\":\"Step\"},{\"attributes\":{},\"id\":\"46840\",\"type\":\"SaveTool\"},{\"attributes\":{\"fill_color\":{\"value\":\"red\"},\"line_color\":{\"value\":\"#1f77b4\"},\"size\":{\"units\":\"screen\",\"value\":6},\"x\":{\"field\":\"x\"},\"y\":{\"field\":\"y\"}},\"id\":\"46900\",\"type\":\"Circle\"},{\"attributes\":{\"days\":[1,4,7,10,13,16,19,22,25,28]},\"id\":\"48414\",\"type\":\"DaysTicker\"},{\"attributes\":{\"callback\":null,\"data\":{\"x\":[1546300800000.0,1546301400000.0,1546301700000.0,1546301820000.0],\"y\":[10,20,10,1]},\"selected\":{\"id\":\"48389\",\"type\":\"Selection\"},\"selection_policy\":{\"id\":\"48390\",\"type\":\"UnionRenderers\"}},\"id\":\"46806\",\"type\":\"ColumnDataSource\"},{\"attributes\":{},\"id\":\"46841\",\"type\":\"ResetTool\"},{\"attributes\":{\"fill_alpha\":{\"value\":0.1},\"fill_color\":{\"value\":\"#1f77b4\"},\"line_alpha\":{\"value\":0.1},\"line_color\":{\"value\":\"#1f77b4\"},\"size\":{\"units\":\"screen\",\"value\":6},\"x\":{\"field\":\"x\"},\"y\":{\"field\":\"y\"}},\"id\":\"46901\",\"type\":\"Circle\"},{\"attributes\":{\"days\":[1,8,15,22]},\"id\":\"48415\",\"type\":\"DaysTicker\"},{\"attributes\":{\"active_drag\":\"auto\",\"active_inspect\":\"auto\",\"active_multi\":null,\"active_scroll\":\"auto\",\"active_tap\":\"auto\",\"tools\":[{\"id\":\"46793\",\"type\":\"PanTool\"},{\"id\":\"46794\",\"type\":\"WheelZoomTool\"},{\"id\":\"46795\",\"type\":\"BoxZoomTool\"},{\"id\":\"46796\",\"type\":\"SaveTool\"},{\"id\":\"46797\",\"type\":\"ResetTool\"},{\"id\":\"46798\",\"type\":\"HelpTool\"}]},\"id\":\"46799\",\"type\":\"Toolbar\"},{\"attributes\":{},\"id\":\"46842\",\"type\":\"HelpTool\"},{\"attributes\":{\"data_source\":{\"id\":\"46899\",\"type\":\"ColumnDataSource\"},\"glyph\":{\"id\":\"46900\",\"type\":\"Circle\"},\"hover_glyph\":null,\"muted_glyph\":null,\"nonselection_glyph\":{\"id\":\"46901\",\"type\":\"Circle\"},\"selection_glyph\":null,\"view\":{\"id\":\"46903\",\"type\":\"CDSView\"}},\"id\":\"46902\",\"type\":\"GlyphRenderer\"},{\"attributes\":{},\"id\":\"46793\",\"type\":\"PanTool\"},{\"attributes\":{\"days\":[1,15]},\"id\":\"48416\",\"type\":\"DaysTicker\"},{\"attributes\":{},\"id\":\"46794\",\"type\":\"WheelZoomTool\"},{\"attributes\":{\"source\":{\"id\":\"46899\",\"type\":\"ColumnDataSource\"}},\"id\":\"46903\",\"type\":\"CDSView\"},{\"attributes\":{\"months\":[0,1,2,3,4,5,6,7,8,9,10,11]},\"id\":\"48417\",\"type\":\"MonthsTicker\"},{\"attributes\":{\"data_source\":{\"id\":\"46850\",\"type\":\"ColumnDataSource\"},\"glyph\":{\"id\":\"46851\",\"type\":\"Step\"},\"hover_glyph\":null,\"muted_glyph\":null,\"nonselection_glyph\":{\"id\":\"46852\",\"type\":\"Step\"},\"selection_glyph\":null,\"view\":{\"id\":\"46854\",\"type\":\"CDSView\"}},\"id\":\"46853\",\"type\":\"GlyphRenderer\"},{\"attributes\":{\"overlay\":{\"id\":\"48405\",\"type\":\"BoxAnnotation\"}},\"id\":\"46795\",\"type\":\"BoxZoomTool\"},{\"attributes\":{\"months\":[0,2,4,6,8,10]},\"id\":\"48418\",\"type\":\"MonthsTicker\"},{\"attributes\":{\"source\":{\"id\":\"46850\",\"type\":\"ColumnDataSource\"}},\"id\":\"46854\",\"type\":\"CDSView\"},{\"attributes\":{},\"id\":\"46796\",\"type\":\"SaveTool\"},{\"attributes\":{},\"id\":\"48380\",\"type\":\"BasicTickFormatter\"},{\"attributes\":{\"months\":[0,4,8]},\"id\":\"48419\",\"type\":\"MonthsTicker\"},{\"attributes\":{\"callback\":null,\"data\":{\"x\":[1546301220000.0,1546301400000.0,1546301520000.0],\"y\":[-1,5,14]},\"selected\":{\"id\":\"48408\",\"type\":\"Selection\"},\"selection_policy\":{\"id\":\"48409\",\"type\":\"UnionRenderers\"}},\"id\":\"46855\",\"type\":\"ColumnDataSource\"},{\"attributes\":{},\"id\":\"46797\",\"type\":\"ResetTool\"},{\"attributes\":{\"months\":[0,6]},\"id\":\"48420\",\"type\":\"MonthsTicker\"},{\"attributes\":{\"fill_color\":{\"value\":\"red\"},\"line_color\":{\"value\":\"#1f77b4\"},\"size\":{\"units\":\"screen\",\"value\":6},\"x\":{\"field\":\"x\"},\"y\":{\"field\":\"y\"}},\"id\":\"46856\",\"type\":\"Circle\"},{\"attributes\":{},\"id\":\"48382\",\"type\":\"DatetimeTickFormatter\"},{\"attributes\":{\"fill_alpha\":{\"value\":0.1},\"fill_color\":{\"value\":\"#1f77b4\"},\"line_alpha\":{\"value\":0.1},\"line_color\":{\"value\":\"#1f77b4\"},\"size\":{\"units\":\"screen\",\"value\":6},\"x\":{\"field\":\"x\"},\"y\":{\"field\":\"y\"}},\"id\":\"46857\",\"type\":\"Circle\"},{\"attributes\":{},\"id\":\"46798\",\"type\":\"HelpTool\"},{\"attributes\":{},\"id\":\"48384\",\"type\":\"BasicTickFormatter\"},{\"attributes\":{},\"id\":\"48421\",\"type\":\"YearsTicker\"},{\"attributes\":{},\"id\":\"48386\",\"type\":\"DatetimeTickFormatter\"},{\"attributes\":{\"bottom_units\":\"screen\",\"fill_alpha\":{\"value\":0.5},\"fill_color\":{\"value\":\"lightgrey\"},\"left_units\":\"screen\",\"level\":\"overlay\",\"line_alpha\":{\"value\":1.0},\"line_color\":{\"value\":\"black\"},\"line_dash\":[4,4],\"line_width\":{\"value\":2},\"render_mode\":\"css\",\"right_units\":\"screen\",\"top_units\":\"screen\"},\"id\":\"48422\",\"type\":\"BoxAnnotation\"},{\"attributes\":{\"data_source\":{\"id\":\"46855\",\"type\":\"ColumnDataSource\"},\"glyph\":{\"id\":\"46856\",\"type\":\"Circle\"},\"hover_glyph\":null,\"muted_glyph\":null,\"nonselection_glyph\":{\"id\":\"46857\",\"type\":\"Circle\"},\"selection_glyph\":null,\"view\":{\"id\":\"46859\",\"type\":\"CDSView\"}},\"id\":\"46858\",\"type\":\"GlyphRenderer\"},{\"attributes\":{\"line_alpha\":{\"value\":0.1},\"line_color\":{\"value\":\"#1f77b4\"},\"line_dash\":[4,4],\"line_width\":{\"value\":2},\"mode\":\"after\",\"x\":{\"field\":\"x\"},\"y\":{\"field\":\"y\"}},\"id\":\"46808\",\"type\":\"Step\"},{\"attributes\":{},\"id\":\"48388\",\"type\":\"BasicTickFormatter\"},{\"attributes\":{},\"id\":\"48423\",\"type\":\"Selection\"},{\"attributes\":{\"source\":{\"id\":\"46855\",\"type\":\"ColumnDataSource\"}},\"id\":\"46859\",\"type\":\"CDSView\"},{\"attributes\":{\"data_source\":{\"id\":\"46806\",\"type\":\"ColumnDataSource\"},\"glyph\":{\"id\":\"46807\",\"type\":\"Step\"},\"hover_glyph\":null,\"muted_glyph\":null,\"nonselection_glyph\":{\"id\":\"46808\",\"type\":\"Step\"},\"selection_glyph\":null,\"view\":{\"id\":\"46810\",\"type\":\"CDSView\"}},\"id\":\"46809\",\"type\":\"GlyphRenderer\"},{\"attributes\":{},\"id\":\"48389\",\"type\":\"Selection\"},{\"attributes\":{},\"id\":\"48424\",\"type\":\"UnionRenderers\"},{\"attributes\":{\"below\":[{\"id\":\"46871\",\"type\":\"DatetimeAxis\"}],\"center\":[{\"id\":\"46875\",\"type\":\"Grid\"},{\"id\":\"46880\",\"type\":\"Grid\"}],\"left\":[{\"id\":\"46876\",\"type\":\"LinearAxis\"}],\"plot_height\":250,\"plot_width\":400,\"renderers\":[{\"id\":\"46897\",\"type\":\"GlyphRenderer\"},{\"id\":\"46902\",\"type\":\"GlyphRenderer\"}],\"title\":{\"id\":\"46861\",\"type\":\"Title\"},\"toolbar\":{\"id\":\"46887\",\"type\":\"Toolbar\"},\"x_range\":{\"id\":\"46863\",\"type\":\"DataRange1d\"},\"x_scale\":{\"id\":\"46867\",\"type\":\"LinearScale\"},\"y_range\":{\"id\":\"46865\",\"type\":\"DataRange1d\"},\"y_scale\":{\"id\":\"46869\",\"type\":\"LinearScale\"}},\"id\":\"46860\",\"subtype\":\"Figure\",\"type\":\"Plot\"},{\"attributes\":{\"source\":{\"id\":\"46806\",\"type\":\"ColumnDataSource\"}},\"id\":\"46810\",\"type\":\"CDSView\"},{\"attributes\":{},\"id\":\"48390\",\"type\":\"UnionRenderers\"},{\"attributes\":{},\"id\":\"48425\",\"type\":\"Selection\"},{\"attributes\":{\"callback\":null,\"data\":{\"x\":[1546300800000.0,1546301400000.0,1546301700000.0,1546301820000.0],\"y\":[10,20,10,1]},\"selected\":{\"id\":\"48391\",\"type\":\"Selection\"},\"selection_policy\":{\"id\":\"48392\",\"type\":\"UnionRenderers\"}},\"id\":\"46811\",\"type\":\"ColumnDataSource\"},{\"attributes\":{},\"id\":\"48391\",\"type\":\"Selection\"},{\"attributes\":{},\"id\":\"48426\",\"type\":\"UnionRenderers\"},{\"attributes\":{\"text\":\"ts3\"},\"id\":\"46861\",\"type\":\"Title\"},{\"attributes\":{\"fill_color\":{\"value\":\"red\"},\"line_color\":{\"value\":\"#1f77b4\"},\"size\":{\"units\":\"screen\",\"value\":6},\"x\":{\"field\":\"x\"},\"y\":{\"field\":\"y\"}},\"id\":\"46812\",\"type\":\"Circle\"},{\"attributes\":{},\"id\":\"48392\",\"type\":\"UnionRenderers\"},{\"attributes\":{\"mantissas\":[1,2,5],\"max_interval\":500.0,\"num_minor_ticks\":0},\"id\":\"48427\",\"type\":\"AdaptiveTicker\"},{\"attributes\":{\"callback\":null},\"id\":\"46863\",\"type\":\"DataRange1d\"},{\"attributes\":{\"fill_alpha\":{\"value\":0.1},\"fill_color\":{\"value\":\"#1f77b4\"},\"line_alpha\":{\"value\":0.1},\"line_color\":{\"value\":\"#1f77b4\"},\"size\":{\"units\":\"screen\",\"value\":6},\"x\":{\"field\":\"x\"},\"y\":{\"field\":\"y\"}},\"id\":\"46813\",\"type\":\"Circle\"},{\"attributes\":{\"mantissas\":[1,2,5],\"max_interval\":500.0,\"num_minor_ticks\":0},\"id\":\"48393\",\"type\":\"AdaptiveTicker\"},{\"attributes\":{\"callback\":null},\"id\":\"46865\",\"type\":\"DataRange1d\"},{\"attributes\":{\"base\":60,\"mantissas\":[1,2,5,10,15,20,30],\"max_interval\":1800000.0,\"min_interval\":1000.0,\"num_minor_ticks\":0},\"id\":\"48428\",\"type\":\"AdaptiveTicker\"},{\"attributes\":{\"data_source\":{\"id\":\"46811\",\"type\":\"ColumnDataSource\"},\"glyph\":{\"id\":\"46812\",\"type\":\"Circle\"},\"hover_glyph\":null,\"muted_glyph\":null,\"nonselection_glyph\":{\"id\":\"46813\",\"type\":\"Circle\"},\"selection_glyph\":null,\"view\":{\"id\":\"46815\",\"type\":\"CDSView\"}},\"id\":\"46814\",\"type\":\"GlyphRenderer\"},{\"attributes\":{},\"id\":\"46867\",\"type\":\"LinearScale\"},{\"attributes\":{\"base\":60,\"mantissas\":[1,2,5,10,15,20,30],\"max_interval\":1800000.0,\"min_interval\":1000.0,\"num_minor_ticks\":0},\"id\":\"48394\",\"type\":\"AdaptiveTicker\"},{\"attributes\":{\"base\":24,\"mantissas\":[1,2,4,6,8,12],\"max_interval\":43200000.0,\"min_interval\":3600000.0,\"num_minor_ticks\":0},\"id\":\"48429\",\"type\":\"AdaptiveTicker\"},{\"attributes\":{\"source\":{\"id\":\"46811\",\"type\":\"ColumnDataSource\"}},\"id\":\"46815\",\"type\":\"CDSView\"},{\"attributes\":{},\"id\":\"46869\",\"type\":\"LinearScale\"},{\"attributes\":{\"base\":24,\"mantissas\":[1,2,4,6,8,12],\"max_interval\":43200000.0,\"min_interval\":3600000.0,\"num_minor_ticks\":0},\"id\":\"48395\",\"type\":\"AdaptiveTicker\"},{\"attributes\":{\"days\":[1,2,3,4,5,6,7,8,9,10,11,12,13,14,15,16,17,18,19,20,21,22,23,24,25,26,27,28,29,30,31]},\"id\":\"48430\",\"type\":\"DaysTicker\"},{\"attributes\":{\"below\":[{\"id\":\"46783\",\"type\":\"DatetimeAxis\"}],\"center\":[{\"id\":\"46787\",\"type\":\"Grid\"},{\"id\":\"46792\",\"type\":\"Grid\"}],\"left\":[{\"id\":\"46788\",\"type\":\"LinearAxis\"}],\"plot_height\":250,\"plot_width\":400,\"renderers\":[{\"id\":\"46809\",\"type\":\"GlyphRenderer\"},{\"id\":\"46814\",\"type\":\"GlyphRenderer\"}],\"title\":{\"id\":\"46773\",\"type\":\"Title\"},\"toolbar\":{\"id\":\"46799\",\"type\":\"Toolbar\"},\"x_range\":{\"id\":\"46775\",\"type\":\"DataRange1d\"},\"x_scale\":{\"id\":\"46779\",\"type\":\"LinearScale\"},\"y_range\":{\"id\":\"46777\",\"type\":\"DataRange1d\"},\"y_scale\":{\"id\":\"46781\",\"type\":\"LinearScale\"}},\"id\":\"46772\",\"subtype\":\"Figure\",\"type\":\"Plot\"},{\"attributes\":{\"below\":[{\"id\":\"46827\",\"type\":\"DatetimeAxis\"}],\"center\":[{\"id\":\"46831\",\"type\":\"Grid\"},{\"id\":\"46836\",\"type\":\"Grid\"}],\"left\":[{\"id\":\"46832\",\"type\":\"LinearAxis\"}],\"plot_height\":250,\"plot_width\":400,\"renderers\":[{\"id\":\"46853\",\"type\":\"GlyphRenderer\"},{\"id\":\"46858\",\"type\":\"GlyphRenderer\"}],\"title\":{\"id\":\"46817\",\"type\":\"Title\"},\"toolbar\":{\"id\":\"46843\",\"type\":\"Toolbar\"},\"x_range\":{\"id\":\"46819\",\"type\":\"DataRange1d\"},\"x_scale\":{\"id\":\"46823\",\"type\":\"LinearScale\"},\"y_range\":{\"id\":\"46821\",\"type\":\"DataRange1d\"},\"y_scale\":{\"id\":\"46825\",\"type\":\"LinearScale\"}},\"id\":\"46816\",\"subtype\":\"Figure\",\"type\":\"Plot\"},{\"attributes\":{\"axis_label\":\"timestamp\",\"formatter\":{\"id\":\"48386\",\"type\":\"DatetimeTickFormatter\"},\"ticker\":{\"id\":\"46872\",\"type\":\"DatetimeTicker\"}},\"id\":\"46871\",\"type\":\"DatetimeAxis\"},{\"attributes\":{\"days\":[1,2,3,4,5,6,7,8,9,10,11,12,13,14,15,16,17,18,19,20,21,22,23,24,25,26,27,28,29,30,31]},\"id\":\"48396\",\"type\":\"DaysTicker\"},{\"attributes\":{\"days\":[1,4,7,10,13,16,19,22,25,28]},\"id\":\"48431\",\"type\":\"DaysTicker\"},{\"attributes\":{\"callback\":null,\"data\":{\"x\":[1546301220000.0,1546301400000.0,1546301520000.0],\"y\":[-1,5,14]},\"selected\":{\"id\":\"48406\",\"type\":\"Selection\"},\"selection_policy\":{\"id\":\"48407\",\"type\":\"UnionRenderers\"}},\"id\":\"46850\",\"type\":\"ColumnDataSource\"},{\"attributes\":{\"num_minor_ticks\":5,\"tickers\":[{\"id\":\"48427\",\"type\":\"AdaptiveTicker\"},{\"id\":\"48428\",\"type\":\"AdaptiveTicker\"},{\"id\":\"48429\",\"type\":\"AdaptiveTicker\"},{\"id\":\"48430\",\"type\":\"DaysTicker\"},{\"id\":\"48431\",\"type\":\"DaysTicker\"},{\"id\":\"48432\",\"type\":\"DaysTicker\"},{\"id\":\"48433\",\"type\":\"DaysTicker\"},{\"id\":\"48434\",\"type\":\"MonthsTicker\"},{\"id\":\"48435\",\"type\":\"MonthsTicker\"},{\"id\":\"48436\",\"type\":\"MonthsTicker\"},{\"id\":\"48437\",\"type\":\"MonthsTicker\"},{\"id\":\"48438\",\"type\":\"YearsTicker\"}]},\"id\":\"46872\",\"type\":\"DatetimeTicker\"},{\"attributes\":{\"days\":[1,4,7,10,13,16,19,22,25,28]},\"id\":\"48397\",\"type\":\"DaysTicker\"},{\"attributes\":{\"days\":[1,8,15,22]},\"id\":\"48432\",\"type\":\"DaysTicker\"},{\"attributes\":{\"text\":\"ts2\"},\"id\":\"46817\",\"type\":\"Title\"},{\"attributes\":{\"ticker\":{\"id\":\"46872\",\"type\":\"DatetimeTicker\"}},\"id\":\"46875\",\"type\":\"Grid\"},{\"attributes\":{},\"id\":\"48378\",\"type\":\"DatetimeTickFormatter\"},{\"attributes\":{\"days\":[1,8,15,22]},\"id\":\"48398\",\"type\":\"DaysTicker\"},{\"attributes\":{\"days\":[1,15]},\"id\":\"48433\",\"type\":\"DaysTicker\"},{\"attributes\":{\"callback\":null},\"id\":\"46819\",\"type\":\"DataRange1d\"},{\"attributes\":{\"axis_label\":\"IoT sensor\",\"formatter\":{\"id\":\"48388\",\"type\":\"BasicTickFormatter\"},\"ticker\":{\"id\":\"46877\",\"type\":\"BasicTicker\"}},\"id\":\"46876\",\"type\":\"LinearAxis\"},{\"attributes\":{\"days\":[1,15]},\"id\":\"48399\",\"type\":\"DaysTicker\"},{\"attributes\":{\"months\":[0,1,2,3,4,5,6,7,8,9,10,11]},\"id\":\"48434\",\"type\":\"MonthsTicker\"},{\"attributes\":{\"callback\":null},\"id\":\"46821\",\"type\":\"DataRange1d\"},{\"attributes\":{},\"id\":\"46877\",\"type\":\"BasicTicker\"},{\"attributes\":{\"months\":[0,1,2,3,4,5,6,7,8,9,10,11]},\"id\":\"48400\",\"type\":\"MonthsTicker\"},{\"attributes\":{\"months\":[0,2,4,6,8,10]},\"id\":\"48435\",\"type\":\"MonthsTicker\"},{\"attributes\":{},\"id\":\"46823\",\"type\":\"LinearScale\"},{\"attributes\":{\"dimension\":1,\"ticker\":{\"id\":\"46877\",\"type\":\"BasicTicker\"}},\"id\":\"46880\",\"type\":\"Grid\"},{\"attributes\":{\"months\":[0,2,4,6,8,10]},\"id\":\"48401\",\"type\":\"MonthsTicker\"},{\"attributes\":{\"months\":[0,4,8]},\"id\":\"48436\",\"type\":\"MonthsTicker\"},{\"attributes\":{},\"id\":\"46825\",\"type\":\"LinearScale\"},{\"attributes\":{\"line_alpha\":{\"value\":0.1},\"line_color\":{\"value\":\"#1f77b4\"},\"line_dash\":[4,4],\"line_width\":{\"value\":2},\"mode\":\"after\",\"x\":{\"field\":\"x\"},\"y\":{\"field\":\"y\"}},\"id\":\"46896\",\"type\":\"Step\"},{\"attributes\":{\"months\":[0,4,8]},\"id\":\"48402\",\"type\":\"MonthsTicker\"},{\"attributes\":{\"months\":[0,6]},\"id\":\"48437\",\"type\":\"MonthsTicker\"},{\"attributes\":{\"axis_label\":\"timestamp\",\"formatter\":{\"id\":\"48382\",\"type\":\"DatetimeTickFormatter\"},\"ticker\":{\"id\":\"46828\",\"type\":\"DatetimeTicker\"}},\"id\":\"46827\",\"type\":\"DatetimeAxis\"},{\"attributes\":{\"line_color\":{\"value\":\"#1f77b4\"},\"line_dash\":[4,4],\"line_width\":{\"value\":2},\"mode\":\"after\",\"x\":{\"field\":\"x\"},\"y\":{\"field\":\"y\"}},\"id\":\"46895\",\"type\":\"Step\"},{\"attributes\":{\"months\":[0,6]},\"id\":\"48403\",\"type\":\"MonthsTicker\"},{\"attributes\":{},\"id\":\"48438\",\"type\":\"YearsTicker\"},{\"attributes\":{\"num_minor_ticks\":5,\"tickers\":[{\"id\":\"48410\",\"type\":\"AdaptiveTicker\"},{\"id\":\"48411\",\"type\":\"AdaptiveTicker\"},{\"id\":\"48412\",\"type\":\"AdaptiveTicker\"},{\"id\":\"48413\",\"type\":\"DaysTicker\"},{\"id\":\"48414\",\"type\":\"DaysTicker\"},{\"id\":\"48415\",\"type\":\"DaysTicker\"},{\"id\":\"48416\",\"type\":\"DaysTicker\"},{\"id\":\"48417\",\"type\":\"MonthsTicker\"},{\"id\":\"48418\",\"type\":\"MonthsTicker\"},{\"id\":\"48419\",\"type\":\"MonthsTicker\"},{\"id\":\"48420\",\"type\":\"MonthsTicker\"},{\"id\":\"48421\",\"type\":\"YearsTicker\"}]},\"id\":\"46828\",\"type\":\"DatetimeTicker\"},{\"attributes\":{\"callback\":null,\"data\":{\"x\":[1546300800000.0,1546301220000.0,1546301400000.0,1546301520000.0,1546301700000.0,1546301820000.0],\"y\":[10,11,15,6,-4,-13]},\"selected\":{\"id\":\"48423\",\"type\":\"Selection\"},\"selection_policy\":{\"id\":\"48424\",\"type\":\"UnionRenderers\"}},\"id\":\"46894\",\"type\":\"ColumnDataSource\"},{\"attributes\":{},\"id\":\"48404\",\"type\":\"YearsTicker\"},{\"attributes\":{\"bottom_units\":\"screen\",\"fill_alpha\":{\"value\":0.5},\"fill_color\":{\"value\":\"lightgrey\"},\"left_units\":\"screen\",\"level\":\"overlay\",\"line_alpha\":{\"value\":1.0},\"line_color\":{\"value\":\"black\"},\"line_dash\":[4,4],\"line_width\":{\"value\":2},\"render_mode\":\"css\",\"right_units\":\"screen\",\"top_units\":\"screen\"},\"id\":\"48439\",\"type\":\"BoxAnnotation\"},{\"attributes\":{\"text\":\"ts1\"},\"id\":\"46773\",\"type\":\"Title\"},{\"attributes\":{\"ticker\":{\"id\":\"46828\",\"type\":\"DatetimeTicker\"}},\"id\":\"46831\",\"type\":\"Grid\"},{\"attributes\":{},\"id\":\"46881\",\"type\":\"PanTool\"}],\"root_ids\":[\"46904\"]},\"title\":\"Bokeh Application\",\"version\":\"1.2.0\"}};\n",
       "  var render_items = [{\"docid\":\"3c40c531-5087-4d0f-81aa-6c9d5960e254\",\"roots\":{\"46904\":\"7e304faf-02cc-4c12-8bc3-9fccf445e337\"}}];\n",
       "  root.Bokeh.embed.embed_items_notebook(docs_json, render_items);\n",
       "\n",
       "  }\n",
       "  if (root.Bokeh !== undefined) {\n",
       "    embed_document(root);\n",
       "  } else {\n",
       "    var attempts = 0;\n",
       "    var timer = setInterval(function(root) {\n",
       "      if (root.Bokeh !== undefined) {\n",
       "        embed_document(root);\n",
       "        clearInterval(timer);\n",
       "      }\n",
       "      attempts++;\n",
       "      if (attempts > 100) {\n",
       "        console.log(\"Bokeh: ERROR: Unable to run BokehJS code because BokehJS library is missing\");\n",
       "        clearInterval(timer);\n",
       "      }\n",
       "    }, 10, root)\n",
       "  }\n",
       "})(window);"
      ],
      "application/vnd.bokehjs_exec.v0+json": ""
     },
     "metadata": {
      "application/vnd.bokehjs_exec.v0+json": {
       "id": "46904"
      }
     },
     "output_type": "display_data"
    },
    {
     "data": {
      "text/html": [
       "\n",
       "\n",
       "\n",
       "\n",
       "\n",
       "\n",
       "  <div class=\"bk-root\" id=\"203aae4a-fc18-4b4c-b672-2ccde9bb71bd\" data-root-id=\"48924\"></div>\n"
      ]
     },
     "metadata": {},
     "output_type": "display_data"
    },
    {
     "data": {
      "application/javascript": [
       "(function(root) {\n",
       "  function embed_document(root) {\n",
       "    \n",
       "  var docs_json = {\"8c77b63e-8429-48ad-a9b1-60ee3873dbd4\":{\"roots\":{\"references\":[{\"attributes\":{\"children\":[{\"id\":\"48836\",\"subtype\":\"Figure\",\"type\":\"Plot\"},{\"id\":\"48880\",\"subtype\":\"Figure\",\"type\":\"Plot\"}]},\"id\":\"48924\",\"type\":\"Row\"},{\"attributes\":{},\"id\":\"48889\",\"type\":\"LinearScale\"},{\"attributes\":{\"num_minor_ticks\":5,\"tickers\":[{\"id\":\"50491\",\"type\":\"AdaptiveTicker\"},{\"id\":\"50492\",\"type\":\"AdaptiveTicker\"},{\"id\":\"50493\",\"type\":\"AdaptiveTicker\"},{\"id\":\"50494\",\"type\":\"DaysTicker\"},{\"id\":\"50495\",\"type\":\"DaysTicker\"},{\"id\":\"50496\",\"type\":\"DaysTicker\"},{\"id\":\"50497\",\"type\":\"DaysTicker\"},{\"id\":\"50498\",\"type\":\"MonthsTicker\"},{\"id\":\"50499\",\"type\":\"MonthsTicker\"},{\"id\":\"50500\",\"type\":\"MonthsTicker\"},{\"id\":\"50501\",\"type\":\"MonthsTicker\"},{\"id\":\"50502\",\"type\":\"YearsTicker\"}]},\"id\":\"48892\",\"type\":\"DatetimeTicker\"},{\"attributes\":{\"days\":[1,2,3,4,5,6,7,8,9,10,11,12,13,14,15,16,17,18,19,20,21,22,23,24,25,26,27,28,29,30,31]},\"id\":\"50477\",\"type\":\"DaysTicker\"},{\"attributes\":{\"below\":[{\"id\":\"48847\",\"type\":\"DatetimeAxis\"}],\"center\":[{\"id\":\"48851\",\"type\":\"Grid\"},{\"id\":\"48856\",\"type\":\"Grid\"}],\"left\":[{\"id\":\"48852\",\"type\":\"LinearAxis\"}],\"plot_height\":250,\"plot_width\":400,\"renderers\":[{\"id\":\"48873\",\"type\":\"GlyphRenderer\"},{\"id\":\"48878\",\"type\":\"GlyphRenderer\"}],\"title\":{\"id\":\"48837\",\"type\":\"Title\"},\"toolbar\":{\"id\":\"48863\",\"type\":\"Toolbar\"},\"x_range\":{\"id\":\"48839\",\"type\":\"DataRange1d\"},\"x_scale\":{\"id\":\"48843\",\"type\":\"LinearScale\"},\"y_range\":{\"id\":\"48841\",\"type\":\"DataRange1d\"},\"y_scale\":{\"id\":\"48845\",\"type\":\"LinearScale\"}},\"id\":\"48836\",\"subtype\":\"Figure\",\"type\":\"Plot\"},{\"attributes\":{},\"id\":\"50463\",\"type\":\"DatetimeTickFormatter\"},{\"attributes\":{\"days\":[1,4,7,10,13,16,19,22,25,28]},\"id\":\"50478\",\"type\":\"DaysTicker\"},{\"attributes\":{\"axis_label\":\"timestamp\",\"formatter\":{\"id\":\"50467\",\"type\":\"DatetimeTickFormatter\"},\"ticker\":{\"id\":\"48892\",\"type\":\"DatetimeTicker\"}},\"id\":\"48891\",\"type\":\"DatetimeAxis\"},{\"attributes\":{\"days\":[1,8,15,22]},\"id\":\"50479\",\"type\":\"DaysTicker\"},{\"attributes\":{\"text\":\"ts1\"},\"id\":\"48837\",\"type\":\"Title\"},{\"attributes\":{\"ticker\":{\"id\":\"48892\",\"type\":\"DatetimeTicker\"}},\"id\":\"48895\",\"type\":\"Grid\"},{\"attributes\":{\"days\":[1,15]},\"id\":\"50480\",\"type\":\"DaysTicker\"},{\"attributes\":{\"callback\":null},\"id\":\"48839\",\"type\":\"DataRange1d\"},{\"attributes\":{\"axis_label\":\"IoT sensor\",\"formatter\":{\"id\":\"50469\",\"type\":\"BasicTickFormatter\"},\"ticker\":{\"id\":\"48897\",\"type\":\"BasicTicker\"}},\"id\":\"48896\",\"type\":\"LinearAxis\"},{\"attributes\":{\"months\":[0,1,2,3,4,5,6,7,8,9,10,11]},\"id\":\"50481\",\"type\":\"MonthsTicker\"},{\"attributes\":{\"callback\":null},\"id\":\"48841\",\"type\":\"DataRange1d\"},{\"attributes\":{},\"id\":\"48897\",\"type\":\"BasicTicker\"},{\"attributes\":{\"months\":[0,2,4,6,8,10]},\"id\":\"50482\",\"type\":\"MonthsTicker\"},{\"attributes\":{},\"id\":\"48843\",\"type\":\"LinearScale\"},{\"attributes\":{\"line_alpha\":{\"value\":0.1},\"line_color\":{\"value\":\"#1f77b4\"},\"line_dash\":[4,4],\"line_width\":{\"value\":2},\"mode\":\"after\",\"x\":{\"field\":\"x\"},\"y\":{\"field\":\"y\"}},\"id\":\"48916\",\"type\":\"Step\"},{\"attributes\":{\"months\":[0,4,8]},\"id\":\"50483\",\"type\":\"MonthsTicker\"},{\"attributes\":{},\"id\":\"48845\",\"type\":\"LinearScale\"},{\"attributes\":{\"dimension\":1,\"ticker\":{\"id\":\"48897\",\"type\":\"BasicTicker\"}},\"id\":\"48900\",\"type\":\"Grid\"},{\"attributes\":{\"months\":[0,6]},\"id\":\"50484\",\"type\":\"MonthsTicker\"},{\"attributes\":{\"axis_label\":\"timestamp\",\"formatter\":{\"id\":\"50463\",\"type\":\"DatetimeTickFormatter\"},\"ticker\":{\"id\":\"48848\",\"type\":\"DatetimeTicker\"}},\"id\":\"48847\",\"type\":\"DatetimeAxis\"},{\"attributes\":{\"line_color\":{\"value\":\"#1f77b4\"},\"line_dash\":[4,4],\"line_width\":{\"value\":2},\"mode\":\"after\",\"x\":{\"field\":\"x\"},\"y\":{\"field\":\"y\"}},\"id\":\"48915\",\"type\":\"Step\"},{\"attributes\":{},\"id\":\"50485\",\"type\":\"YearsTicker\"},{\"attributes\":{\"num_minor_ticks\":5,\"tickers\":[{\"id\":\"50474\",\"type\":\"AdaptiveTicker\"},{\"id\":\"50475\",\"type\":\"AdaptiveTicker\"},{\"id\":\"50476\",\"type\":\"AdaptiveTicker\"},{\"id\":\"50477\",\"type\":\"DaysTicker\"},{\"id\":\"50478\",\"type\":\"DaysTicker\"},{\"id\":\"50479\",\"type\":\"DaysTicker\"},{\"id\":\"50480\",\"type\":\"DaysTicker\"},{\"id\":\"50481\",\"type\":\"MonthsTicker\"},{\"id\":\"50482\",\"type\":\"MonthsTicker\"},{\"id\":\"50483\",\"type\":\"MonthsTicker\"},{\"id\":\"50484\",\"type\":\"MonthsTicker\"},{\"id\":\"50485\",\"type\":\"YearsTicker\"}]},\"id\":\"48848\",\"type\":\"DatetimeTicker\"},{\"attributes\":{},\"id\":\"48906\",\"type\":\"HelpTool\"},{\"attributes\":{\"bottom_units\":\"screen\",\"fill_alpha\":{\"value\":0.5},\"fill_color\":{\"value\":\"lightgrey\"},\"left_units\":\"screen\",\"level\":\"overlay\",\"line_alpha\":{\"value\":1.0},\"line_color\":{\"value\":\"black\"},\"line_dash\":[4,4],\"line_width\":{\"value\":2},\"render_mode\":\"css\",\"right_units\":\"screen\",\"top_units\":\"screen\"},\"id\":\"50486\",\"type\":\"BoxAnnotation\"},{\"attributes\":{\"ticker\":{\"id\":\"48848\",\"type\":\"DatetimeTicker\"}},\"id\":\"48851\",\"type\":\"Grid\"},{\"attributes\":{},\"id\":\"48905\",\"type\":\"ResetTool\"},{\"attributes\":{},\"id\":\"50487\",\"type\":\"Selection\"},{\"attributes\":{\"axis_label\":\"IoT sensor\",\"formatter\":{\"id\":\"50465\",\"type\":\"BasicTickFormatter\"},\"ticker\":{\"id\":\"48853\",\"type\":\"BasicTicker\"}},\"id\":\"48852\",\"type\":\"LinearAxis\"},{\"attributes\":{},\"id\":\"48887\",\"type\":\"LinearScale\"},{\"attributes\":{},\"id\":\"48901\",\"type\":\"PanTool\"},{\"attributes\":{},\"id\":\"50488\",\"type\":\"UnionRenderers\"},{\"attributes\":{},\"id\":\"48853\",\"type\":\"BasicTicker\"},{\"attributes\":{},\"id\":\"48902\",\"type\":\"WheelZoomTool\"},{\"attributes\":{},\"id\":\"50489\",\"type\":\"Selection\"},{\"attributes\":{\"dimension\":1,\"ticker\":{\"id\":\"48853\",\"type\":\"BasicTicker\"}},\"id\":\"48856\",\"type\":\"Grid\"},{\"attributes\":{\"overlay\":{\"id\":\"50503\",\"type\":\"BoxAnnotation\"}},\"id\":\"48903\",\"type\":\"BoxZoomTool\"},{\"attributes\":{},\"id\":\"50490\",\"type\":\"UnionRenderers\"},{\"attributes\":{\"line_alpha\":{\"value\":0.1},\"line_color\":{\"value\":\"#1f77b4\"},\"line_dash\":[4,4],\"line_width\":{\"value\":2},\"mode\":\"after\",\"x\":{\"field\":\"x\"},\"y\":{\"field\":\"y\"}},\"id\":\"48872\",\"type\":\"Step\"},{\"attributes\":{},\"id\":\"48904\",\"type\":\"SaveTool\"},{\"attributes\":{\"active_drag\":\"auto\",\"active_inspect\":\"auto\",\"active_multi\":null,\"active_scroll\":\"auto\",\"active_tap\":\"auto\",\"tools\":[{\"id\":\"48901\",\"type\":\"PanTool\"},{\"id\":\"48902\",\"type\":\"WheelZoomTool\"},{\"id\":\"48903\",\"type\":\"BoxZoomTool\"},{\"id\":\"48904\",\"type\":\"SaveTool\"},{\"id\":\"48905\",\"type\":\"ResetTool\"},{\"id\":\"48906\",\"type\":\"HelpTool\"}]},\"id\":\"48907\",\"type\":\"Toolbar\"},{\"attributes\":{\"line_color\":{\"value\":\"#1f77b4\"},\"line_dash\":[4,4],\"line_width\":{\"value\":2},\"mode\":\"after\",\"x\":{\"field\":\"x\"},\"y\":{\"field\":\"y\"}},\"id\":\"48871\",\"type\":\"Step\"},{\"attributes\":{\"mantissas\":[1,2,5],\"max_interval\":500.0,\"num_minor_ticks\":0},\"id\":\"50491\",\"type\":\"AdaptiveTicker\"},{\"attributes\":{\"callback\":null,\"data\":{\"x\":[1546300800000.0,1546301400000.0,1546301700000.0,1546301820000.0],\"y\":[10,20,10,1]},\"selected\":{\"id\":\"50470\",\"type\":\"Selection\"},\"selection_policy\":{\"id\":\"50471\",\"type\":\"UnionRenderers\"}},\"id\":\"48870\",\"type\":\"ColumnDataSource\"},{\"attributes\":{\"active_drag\":\"auto\",\"active_inspect\":\"auto\",\"active_multi\":null,\"active_scroll\":\"auto\",\"active_tap\":\"auto\",\"tools\":[{\"id\":\"48857\",\"type\":\"PanTool\"},{\"id\":\"48858\",\"type\":\"WheelZoomTool\"},{\"id\":\"48859\",\"type\":\"BoxZoomTool\"},{\"id\":\"48860\",\"type\":\"SaveTool\"},{\"id\":\"48861\",\"type\":\"ResetTool\"},{\"id\":\"48862\",\"type\":\"HelpTool\"}]},\"id\":\"48863\",\"type\":\"Toolbar\"},{\"attributes\":{\"base\":60,\"mantissas\":[1,2,5,10,15,20,30],\"max_interval\":1800000.0,\"min_interval\":1000.0,\"num_minor_ticks\":0},\"id\":\"50492\",\"type\":\"AdaptiveTicker\"},{\"attributes\":{\"callback\":null,\"data\":{\"x\":[1546300800000.0,1546301400000.0,1546301700000.0,1546301820000.0],\"y\":[0,10,0,-9]},\"selected\":{\"id\":\"50489\",\"type\":\"Selection\"},\"selection_policy\":{\"id\":\"50490\",\"type\":\"UnionRenderers\"}},\"id\":\"48919\",\"type\":\"ColumnDataSource\"},{\"attributes\":{},\"id\":\"48857\",\"type\":\"PanTool\"},{\"attributes\":{\"base\":24,\"mantissas\":[1,2,4,6,8,12],\"max_interval\":43200000.0,\"min_interval\":3600000.0,\"num_minor_ticks\":0},\"id\":\"50493\",\"type\":\"AdaptiveTicker\"},{\"attributes\":{\"source\":{\"id\":\"48914\",\"type\":\"ColumnDataSource\"}},\"id\":\"48918\",\"type\":\"CDSView\"},{\"attributes\":{},\"id\":\"48858\",\"type\":\"WheelZoomTool\"},{\"attributes\":{\"data_source\":{\"id\":\"48914\",\"type\":\"ColumnDataSource\"},\"glyph\":{\"id\":\"48915\",\"type\":\"Step\"},\"hover_glyph\":null,\"muted_glyph\":null,\"nonselection_glyph\":{\"id\":\"48916\",\"type\":\"Step\"},\"selection_glyph\":null,\"view\":{\"id\":\"48918\",\"type\":\"CDSView\"}},\"id\":\"48917\",\"type\":\"GlyphRenderer\"},{\"attributes\":{\"days\":[1,2,3,4,5,6,7,8,9,10,11,12,13,14,15,16,17,18,19,20,21,22,23,24,25,26,27,28,29,30,31]},\"id\":\"50494\",\"type\":\"DaysTicker\"},{\"attributes\":{\"overlay\":{\"id\":\"50486\",\"type\":\"BoxAnnotation\"}},\"id\":\"48859\",\"type\":\"BoxZoomTool\"},{\"attributes\":{\"days\":[1,4,7,10,13,16,19,22,25,28]},\"id\":\"50495\",\"type\":\"DaysTicker\"},{\"attributes\":{},\"id\":\"48860\",\"type\":\"SaveTool\"},{\"attributes\":{\"fill_alpha\":{\"value\":0.1},\"fill_color\":{\"value\":\"#1f77b4\"},\"line_alpha\":{\"value\":0.1},\"line_color\":{\"value\":\"#1f77b4\"},\"size\":{\"units\":\"screen\",\"value\":6},\"x\":{\"field\":\"x\"},\"y\":{\"field\":\"y\"}},\"id\":\"48921\",\"type\":\"Circle\"},{\"attributes\":{\"days\":[1,8,15,22]},\"id\":\"50496\",\"type\":\"DaysTicker\"},{\"attributes\":{},\"id\":\"48861\",\"type\":\"ResetTool\"},{\"attributes\":{\"fill_color\":{\"value\":\"red\"},\"line_color\":{\"value\":\"#1f77b4\"},\"size\":{\"units\":\"screen\",\"value\":6},\"x\":{\"field\":\"x\"},\"y\":{\"field\":\"y\"}},\"id\":\"48920\",\"type\":\"Circle\"},{\"attributes\":{\"days\":[1,15]},\"id\":\"50497\",\"type\":\"DaysTicker\"},{\"attributes\":{},\"id\":\"48862\",\"type\":\"HelpTool\"},{\"attributes\":{\"source\":{\"id\":\"48919\",\"type\":\"ColumnDataSource\"}},\"id\":\"48923\",\"type\":\"CDSView\"},{\"attributes\":{\"months\":[0,1,2,3,4,5,6,7,8,9,10,11]},\"id\":\"50498\",\"type\":\"MonthsTicker\"},{\"attributes\":{\"data_source\":{\"id\":\"48919\",\"type\":\"ColumnDataSource\"},\"glyph\":{\"id\":\"48920\",\"type\":\"Circle\"},\"hover_glyph\":null,\"muted_glyph\":null,\"nonselection_glyph\":{\"id\":\"48921\",\"type\":\"Circle\"},\"selection_glyph\":null,\"view\":{\"id\":\"48923\",\"type\":\"CDSView\"}},\"id\":\"48922\",\"type\":\"GlyphRenderer\"},{\"attributes\":{\"months\":[0,2,4,6,8,10]},\"id\":\"50499\",\"type\":\"MonthsTicker\"},{\"attributes\":{\"data_source\":{\"id\":\"48870\",\"type\":\"ColumnDataSource\"},\"glyph\":{\"id\":\"48871\",\"type\":\"Step\"},\"hover_glyph\":null,\"muted_glyph\":null,\"nonselection_glyph\":{\"id\":\"48872\",\"type\":\"Step\"},\"selection_glyph\":null,\"view\":{\"id\":\"48874\",\"type\":\"CDSView\"}},\"id\":\"48873\",\"type\":\"GlyphRenderer\"},{\"attributes\":{\"months\":[0,4,8]},\"id\":\"50500\",\"type\":\"MonthsTicker\"},{\"attributes\":{\"source\":{\"id\":\"48870\",\"type\":\"ColumnDataSource\"}},\"id\":\"48874\",\"type\":\"CDSView\"},{\"attributes\":{},\"id\":\"50469\",\"type\":\"BasicTickFormatter\"},{\"attributes\":{\"months\":[0,6]},\"id\":\"50501\",\"type\":\"MonthsTicker\"},{\"attributes\":{\"callback\":null,\"data\":{\"x\":[1546300800000.0,1546301400000.0,1546301700000.0,1546301820000.0],\"y\":[10,20,10,1]},\"selected\":{\"id\":\"50472\",\"type\":\"Selection\"},\"selection_policy\":{\"id\":\"50473\",\"type\":\"UnionRenderers\"}},\"id\":\"48875\",\"type\":\"ColumnDataSource\"},{\"attributes\":{},\"id\":\"50467\",\"type\":\"DatetimeTickFormatter\"},{\"attributes\":{},\"id\":\"50502\",\"type\":\"YearsTicker\"},{\"attributes\":{\"fill_color\":{\"value\":\"red\"},\"line_color\":{\"value\":\"#1f77b4\"},\"size\":{\"units\":\"screen\",\"value\":6},\"x\":{\"field\":\"x\"},\"y\":{\"field\":\"y\"}},\"id\":\"48876\",\"type\":\"Circle\"},{\"attributes\":{},\"id\":\"50465\",\"type\":\"BasicTickFormatter\"},{\"attributes\":{\"fill_alpha\":{\"value\":0.1},\"fill_color\":{\"value\":\"#1f77b4\"},\"line_alpha\":{\"value\":0.1},\"line_color\":{\"value\":\"#1f77b4\"},\"size\":{\"units\":\"screen\",\"value\":6},\"x\":{\"field\":\"x\"},\"y\":{\"field\":\"y\"}},\"id\":\"48877\",\"type\":\"Circle\"},{\"attributes\":{\"bottom_units\":\"screen\",\"fill_alpha\":{\"value\":0.5},\"fill_color\":{\"value\":\"lightgrey\"},\"left_units\":\"screen\",\"level\":\"overlay\",\"line_alpha\":{\"value\":1.0},\"line_color\":{\"value\":\"black\"},\"line_dash\":[4,4],\"line_width\":{\"value\":2},\"render_mode\":\"css\",\"right_units\":\"screen\",\"top_units\":\"screen\"},\"id\":\"50503\",\"type\":\"BoxAnnotation\"},{\"attributes\":{\"data_source\":{\"id\":\"48875\",\"type\":\"ColumnDataSource\"},\"glyph\":{\"id\":\"48876\",\"type\":\"Circle\"},\"hover_glyph\":null,\"muted_glyph\":null,\"nonselection_glyph\":{\"id\":\"48877\",\"type\":\"Circle\"},\"selection_glyph\":null,\"view\":{\"id\":\"48879\",\"type\":\"CDSView\"}},\"id\":\"48878\",\"type\":\"GlyphRenderer\"},{\"attributes\":{},\"id\":\"50470\",\"type\":\"Selection\"},{\"attributes\":{\"source\":{\"id\":\"48875\",\"type\":\"ColumnDataSource\"}},\"id\":\"48879\",\"type\":\"CDSView\"},{\"attributes\":{},\"id\":\"50472\",\"type\":\"Selection\"},{\"attributes\":{\"below\":[{\"id\":\"48891\",\"type\":\"DatetimeAxis\"}],\"center\":[{\"id\":\"48895\",\"type\":\"Grid\"},{\"id\":\"48900\",\"type\":\"Grid\"}],\"left\":[{\"id\":\"48896\",\"type\":\"LinearAxis\"}],\"plot_height\":250,\"plot_width\":400,\"renderers\":[{\"id\":\"48917\",\"type\":\"GlyphRenderer\"},{\"id\":\"48922\",\"type\":\"GlyphRenderer\"}],\"title\":{\"id\":\"48881\",\"type\":\"Title\"},\"toolbar\":{\"id\":\"48907\",\"type\":\"Toolbar\"},\"x_range\":{\"id\":\"48883\",\"type\":\"DataRange1d\"},\"x_scale\":{\"id\":\"48887\",\"type\":\"LinearScale\"},\"y_range\":{\"id\":\"48885\",\"type\":\"DataRange1d\"},\"y_scale\":{\"id\":\"48889\",\"type\":\"LinearScale\"}},\"id\":\"48880\",\"subtype\":\"Figure\",\"type\":\"Plot\"},{\"attributes\":{},\"id\":\"50471\",\"type\":\"UnionRenderers\"},{\"attributes\":{\"callback\":null,\"data\":{\"x\":[1546300800000.0,1546301400000.0,1546301700000.0,1546301820000.0],\"y\":[0,10,0,-9]},\"selected\":{\"id\":\"50487\",\"type\":\"Selection\"},\"selection_policy\":{\"id\":\"50488\",\"type\":\"UnionRenderers\"}},\"id\":\"48914\",\"type\":\"ColumnDataSource\"},{\"attributes\":{},\"id\":\"50473\",\"type\":\"UnionRenderers\"},{\"attributes\":{\"text\":\"ts2\"},\"id\":\"48881\",\"type\":\"Title\"},{\"attributes\":{\"callback\":null},\"id\":\"48883\",\"type\":\"DataRange1d\"},{\"attributes\":{\"mantissas\":[1,2,5],\"max_interval\":500.0,\"num_minor_ticks\":0},\"id\":\"50474\",\"type\":\"AdaptiveTicker\"},{\"attributes\":{\"callback\":null},\"id\":\"48885\",\"type\":\"DataRange1d\"},{\"attributes\":{\"base\":60,\"mantissas\":[1,2,5,10,15,20,30],\"max_interval\":1800000.0,\"min_interval\":1000.0,\"num_minor_ticks\":0},\"id\":\"50475\",\"type\":\"AdaptiveTicker\"},{\"attributes\":{\"base\":24,\"mantissas\":[1,2,4,6,8,12],\"max_interval\":43200000.0,\"min_interval\":3600000.0,\"num_minor_ticks\":0},\"id\":\"50476\",\"type\":\"AdaptiveTicker\"}],\"root_ids\":[\"48924\"]},\"title\":\"Bokeh Application\",\"version\":\"1.2.0\"}};\n",
       "  var render_items = [{\"docid\":\"8c77b63e-8429-48ad-a9b1-60ee3873dbd4\",\"roots\":{\"48924\":\"203aae4a-fc18-4b4c-b672-2ccde9bb71bd\"}}];\n",
       "  root.Bokeh.embed.embed_items_notebook(docs_json, render_items);\n",
       "\n",
       "  }\n",
       "  if (root.Bokeh !== undefined) {\n",
       "    embed_document(root);\n",
       "  } else {\n",
       "    var attempts = 0;\n",
       "    var timer = setInterval(function(root) {\n",
       "      if (root.Bokeh !== undefined) {\n",
       "        embed_document(root);\n",
       "        clearInterval(timer);\n",
       "      }\n",
       "      attempts++;\n",
       "      if (attempts > 100) {\n",
       "        console.log(\"Bokeh: ERROR: Unable to run BokehJS code because BokehJS library is missing\");\n",
       "        clearInterval(timer);\n",
       "      }\n",
       "    }, 10, root)\n",
       "  }\n",
       "})(window);"
      ],
      "application/vnd.bokehjs_exec.v0+json": ""
     },
     "metadata": {
      "application/vnd.bokehjs_exec.v0+json": {
       "id": "48924"
      }
     },
     "output_type": "display_data"
    }
   ],
   "source": [
    "# Substraction\n",
    "plot_row(ts, ts - 10)\n",
    "plot_row(ts, ts2, ts - ts2)"
   ]
  },
  {
   "cell_type": "code",
   "execution_count": 168,
   "metadata": {},
   "outputs": [
    {
     "data": {
      "text/html": [
       "\n",
       "\n",
       "\n",
       "\n",
       "\n",
       "\n",
       "  <div class=\"bk-root\" id=\"b2849233-0744-45da-83e8-beed6a81624b\" data-root-id=\"65612\"></div>\n"
      ]
     },
     "metadata": {},
     "output_type": "display_data"
    },
    {
     "data": {
      "application/javascript": [
       "(function(root) {\n",
       "  function embed_document(root) {\n",
       "    \n",
       "  var docs_json = {\"a3765996-e343-4286-aa02-5de089822e3a\":{\"roots\":{\"references\":[{\"attributes\":{\"children\":[{\"id\":\"65524\",\"subtype\":\"Figure\",\"type\":\"Plot\"},{\"id\":\"65568\",\"subtype\":\"Figure\",\"type\":\"Plot\"}]},\"id\":\"65612\",\"type\":\"Row\"},{\"attributes\":{\"overlay\":{\"id\":\"67526\",\"type\":\"BoxAnnotation\"}},\"id\":\"65547\",\"type\":\"BoxZoomTool\"},{\"attributes\":{},\"id\":\"65541\",\"type\":\"BasicTicker\"},{\"attributes\":{},\"id\":\"65546\",\"type\":\"WheelZoomTool\"},{\"attributes\":{\"below\":[{\"id\":\"65535\",\"type\":\"DatetimeAxis\"}],\"center\":[{\"id\":\"65539\",\"type\":\"Grid\"},{\"id\":\"65544\",\"type\":\"Grid\"}],\"left\":[{\"id\":\"65540\",\"type\":\"LinearAxis\"}],\"plot_height\":250,\"plot_width\":400,\"renderers\":[{\"id\":\"65561\",\"type\":\"GlyphRenderer\"},{\"id\":\"65566\",\"type\":\"GlyphRenderer\"}],\"title\":{\"id\":\"65525\",\"type\":\"Title\"},\"toolbar\":{\"id\":\"65551\",\"type\":\"Toolbar\"},\"x_range\":{\"id\":\"65527\",\"type\":\"DataRange1d\"},\"x_scale\":{\"id\":\"65531\",\"type\":\"LinearScale\"},\"y_range\":{\"id\":\"65529\",\"type\":\"DataRange1d\"},\"y_scale\":{\"id\":\"65533\",\"type\":\"LinearScale\"}},\"id\":\"65524\",\"subtype\":\"Figure\",\"type\":\"Plot\"},{\"attributes\":{\"axis_label\":\"IoT sensor\",\"formatter\":{\"id\":\"67505\",\"type\":\"BasicTickFormatter\"},\"ticker\":{\"id\":\"65541\",\"type\":\"BasicTicker\"}},\"id\":\"65540\",\"type\":\"LinearAxis\"},{\"attributes\":{\"days\":[1,15]},\"id\":\"67520\",\"type\":\"DaysTicker\"},{\"attributes\":{\"num_minor_ticks\":5,\"tickers\":[{\"id\":\"67514\",\"type\":\"AdaptiveTicker\"},{\"id\":\"67515\",\"type\":\"AdaptiveTicker\"},{\"id\":\"67516\",\"type\":\"AdaptiveTicker\"},{\"id\":\"67517\",\"type\":\"DaysTicker\"},{\"id\":\"67518\",\"type\":\"DaysTicker\"},{\"id\":\"67519\",\"type\":\"DaysTicker\"},{\"id\":\"67520\",\"type\":\"DaysTicker\"},{\"id\":\"67521\",\"type\":\"MonthsTicker\"},{\"id\":\"67522\",\"type\":\"MonthsTicker\"},{\"id\":\"67523\",\"type\":\"MonthsTicker\"},{\"id\":\"67524\",\"type\":\"MonthsTicker\"},{\"id\":\"67525\",\"type\":\"YearsTicker\"}]},\"id\":\"65536\",\"type\":\"DatetimeTicker\"},{\"attributes\":{},\"id\":\"65533\",\"type\":\"LinearScale\"},{\"attributes\":{\"callback\":null,\"data\":{\"x\":[1546300800000.0,1546301400000.0,1546301700000.0,1546301820000.0],\"y\":[10,20,10,1]},\"selected\":{\"id\":\"67510\",\"type\":\"Selection\"},\"selection_policy\":{\"id\":\"67511\",\"type\":\"UnionRenderers\"}},\"id\":\"65558\",\"type\":\"ColumnDataSource\"},{\"attributes\":{\"dimension\":1,\"ticker\":{\"id\":\"65541\",\"type\":\"BasicTicker\"}},\"id\":\"65544\",\"type\":\"Grid\"},{\"attributes\":{\"line_alpha\":{\"value\":0.1},\"line_color\":{\"value\":\"#1f77b4\"},\"line_dash\":[4,4],\"line_width\":{\"value\":2},\"mode\":\"after\",\"x\":{\"field\":\"x\"},\"y\":{\"field\":\"y\"}},\"id\":\"65560\",\"type\":\"Step\"},{\"attributes\":{\"text\":\"ts1\"},\"id\":\"65525\",\"type\":\"Title\"},{\"attributes\":{},\"id\":\"65545\",\"type\":\"PanTool\"},{\"attributes\":{\"days\":[1,8,15,22]},\"id\":\"67519\",\"type\":\"DaysTicker\"},{\"attributes\":{\"callback\":null},\"id\":\"65573\",\"type\":\"DataRange1d\"},{\"attributes\":{\"axis_label\":\"timestamp\",\"formatter\":{\"id\":\"67507\",\"type\":\"DatetimeTickFormatter\"},\"ticker\":{\"id\":\"65580\",\"type\":\"DatetimeTicker\"}},\"id\":\"65579\",\"type\":\"DatetimeAxis\"},{\"attributes\":{},\"id\":\"67503\",\"type\":\"DatetimeTickFormatter\"},{\"attributes\":{},\"id\":\"65575\",\"type\":\"LinearScale\"},{\"attributes\":{\"ticker\":{\"id\":\"65536\",\"type\":\"DatetimeTicker\"}},\"id\":\"65539\",\"type\":\"Grid\"},{\"attributes\":{\"months\":[0,2,4,6,8,10]},\"id\":\"67522\",\"type\":\"MonthsTicker\"},{\"attributes\":{\"callback\":null},\"id\":\"65571\",\"type\":\"DataRange1d\"},{\"attributes\":{\"text\":\"ts2\"},\"id\":\"65569\",\"type\":\"Title\"},{\"attributes\":{\"months\":[0,6]},\"id\":\"67524\",\"type\":\"MonthsTicker\"},{\"attributes\":{\"fill_alpha\":{\"value\":0.1},\"fill_color\":{\"value\":\"#1f77b4\"},\"line_alpha\":{\"value\":0.1},\"line_color\":{\"value\":\"#1f77b4\"},\"size\":{\"units\":\"screen\",\"value\":6},\"x\":{\"field\":\"x\"},\"y\":{\"field\":\"y\"}},\"id\":\"65565\",\"type\":\"Circle\"},{\"attributes\":{\"months\":[0,4,8]},\"id\":\"67523\",\"type\":\"MonthsTicker\"},{\"attributes\":{\"below\":[{\"id\":\"65579\",\"type\":\"DatetimeAxis\"}],\"center\":[{\"id\":\"65583\",\"type\":\"Grid\"},{\"id\":\"65588\",\"type\":\"Grid\"}],\"left\":[{\"id\":\"65584\",\"type\":\"LinearAxis\"}],\"plot_height\":250,\"plot_width\":400,\"renderers\":[{\"id\":\"65605\",\"type\":\"GlyphRenderer\"},{\"id\":\"65610\",\"type\":\"GlyphRenderer\"}],\"title\":{\"id\":\"65569\",\"type\":\"Title\"},\"toolbar\":{\"id\":\"65595\",\"type\":\"Toolbar\"},\"x_range\":{\"id\":\"65571\",\"type\":\"DataRange1d\"},\"x_scale\":{\"id\":\"65575\",\"type\":\"LinearScale\"},\"y_range\":{\"id\":\"65573\",\"type\":\"DataRange1d\"},\"y_scale\":{\"id\":\"65577\",\"type\":\"LinearScale\"}},\"id\":\"65568\",\"subtype\":\"Figure\",\"type\":\"Plot\"},{\"attributes\":{\"months\":[0,1,2,3,4,5,6,7,8,9,10,11]},\"id\":\"67521\",\"type\":\"MonthsTicker\"},{\"attributes\":{\"days\":[1,2,3,4,5,6,7,8,9,10,11,12,13,14,15,16,17,18,19,20,21,22,23,24,25,26,27,28,29,30,31]},\"id\":\"67517\",\"type\":\"DaysTicker\"},{\"attributes\":{\"callback\":null},\"id\":\"65529\",\"type\":\"DataRange1d\"},{\"attributes\":{\"days\":[1,4,7,10,13,16,19,22,25,28]},\"id\":\"67518\",\"type\":\"DaysTicker\"},{\"attributes\":{\"callback\":null,\"data\":{\"x\":[1546300800000.0,1546301400000.0,1546301700000.0,1546301820000.0],\"y\":[10,10,10,1]},\"selected\":{\"id\":\"67527\",\"type\":\"Selection\"},\"selection_policy\":{\"id\":\"67528\",\"type\":\"UnionRenderers\"}},\"id\":\"65602\",\"type\":\"ColumnDataSource\"},{\"attributes\":{\"axis_label\":\"timestamp\",\"formatter\":{\"id\":\"67503\",\"type\":\"DatetimeTickFormatter\"},\"ticker\":{\"id\":\"65536\",\"type\":\"DatetimeTicker\"}},\"id\":\"65535\",\"type\":\"DatetimeAxis\"},{\"attributes\":{\"callback\":null},\"id\":\"65527\",\"type\":\"DataRange1d\"},{\"attributes\":{\"data_source\":{\"id\":\"65563\",\"type\":\"ColumnDataSource\"},\"glyph\":{\"id\":\"65564\",\"type\":\"Circle\"},\"hover_glyph\":null,\"muted_glyph\":null,\"nonselection_glyph\":{\"id\":\"65565\",\"type\":\"Circle\"},\"selection_glyph\":null,\"view\":{\"id\":\"65567\",\"type\":\"CDSView\"}},\"id\":\"65566\",\"type\":\"GlyphRenderer\"},{\"attributes\":{},\"id\":\"65531\",\"type\":\"LinearScale\"},{\"attributes\":{\"source\":{\"id\":\"65563\",\"type\":\"ColumnDataSource\"}},\"id\":\"65567\",\"type\":\"CDSView\"},{\"attributes\":{\"base\":60,\"mantissas\":[1,2,5,10,15,20,30],\"max_interval\":1800000.0,\"min_interval\":1000.0,\"num_minor_ticks\":0},\"id\":\"67515\",\"type\":\"AdaptiveTicker\"},{\"attributes\":{\"base\":24,\"mantissas\":[1,2,4,6,8,12],\"max_interval\":43200000.0,\"min_interval\":3600000.0,\"num_minor_ticks\":0},\"id\":\"67516\",\"type\":\"AdaptiveTicker\"},{\"attributes\":{\"line_color\":{\"value\":\"#1f77b4\"},\"line_dash\":[4,4],\"line_width\":{\"value\":2},\"mode\":\"after\",\"x\":{\"field\":\"x\"},\"y\":{\"field\":\"y\"}},\"id\":\"65559\",\"type\":\"Step\"},{\"attributes\":{},\"id\":\"65549\",\"type\":\"ResetTool\"},{\"attributes\":{},\"id\":\"67513\",\"type\":\"UnionRenderers\"},{\"attributes\":{\"days\":[1,2,3,4,5,6,7,8,9,10,11,12,13,14,15,16,17,18,19,20,21,22,23,24,25,26,27,28,29,30,31]},\"id\":\"67534\",\"type\":\"DaysTicker\"},{\"attributes\":{\"days\":[1,15]},\"id\":\"67537\",\"type\":\"DaysTicker\"},{\"attributes\":{\"bottom_units\":\"screen\",\"fill_alpha\":{\"value\":0.5},\"fill_color\":{\"value\":\"lightgrey\"},\"left_units\":\"screen\",\"level\":\"overlay\",\"line_alpha\":{\"value\":1.0},\"line_color\":{\"value\":\"black\"},\"line_dash\":[4,4],\"line_width\":{\"value\":2},\"render_mode\":\"css\",\"right_units\":\"screen\",\"top_units\":\"screen\"},\"id\":\"67526\",\"type\":\"BoxAnnotation\"},{\"attributes\":{},\"id\":\"65550\",\"type\":\"HelpTool\"},{\"attributes\":{\"months\":[0,6]},\"id\":\"67541\",\"type\":\"MonthsTicker\"},{\"attributes\":{\"active_drag\":\"auto\",\"active_inspect\":\"auto\",\"active_multi\":null,\"active_scroll\":\"auto\",\"active_tap\":\"auto\",\"tools\":[{\"id\":\"65545\",\"type\":\"PanTool\"},{\"id\":\"65546\",\"type\":\"WheelZoomTool\"},{\"id\":\"65547\",\"type\":\"BoxZoomTool\"},{\"id\":\"65548\",\"type\":\"SaveTool\"},{\"id\":\"65549\",\"type\":\"ResetTool\"},{\"id\":\"65550\",\"type\":\"HelpTool\"}]},\"id\":\"65551\",\"type\":\"Toolbar\"},{\"attributes\":{},\"id\":\"65548\",\"type\":\"SaveTool\"},{\"attributes\":{},\"id\":\"67529\",\"type\":\"Selection\"},{\"attributes\":{},\"id\":\"67511\",\"type\":\"UnionRenderers\"},{\"attributes\":{\"months\":[0,2,4,6,8,10]},\"id\":\"67539\",\"type\":\"MonthsTicker\"},{\"attributes\":{},\"id\":\"67542\",\"type\":\"YearsTicker\"},{\"attributes\":{\"source\":{\"id\":\"65607\",\"type\":\"ColumnDataSource\"}},\"id\":\"65611\",\"type\":\"CDSView\"},{\"attributes\":{},\"id\":\"67505\",\"type\":\"BasicTickFormatter\"},{\"attributes\":{\"data_source\":{\"id\":\"65602\",\"type\":\"ColumnDataSource\"},\"glyph\":{\"id\":\"65603\",\"type\":\"Step\"},\"hover_glyph\":null,\"muted_glyph\":null,\"nonselection_glyph\":{\"id\":\"65604\",\"type\":\"Step\"},\"selection_glyph\":null,\"view\":{\"id\":\"65606\",\"type\":\"CDSView\"}},\"id\":\"65605\",\"type\":\"GlyphRenderer\"},{\"attributes\":{\"mantissas\":[1,2,5],\"max_interval\":500.0,\"num_minor_ticks\":0},\"id\":\"67514\",\"type\":\"AdaptiveTicker\"},{\"attributes\":{\"bottom_units\":\"screen\",\"fill_alpha\":{\"value\":0.5},\"fill_color\":{\"value\":\"lightgrey\"},\"left_units\":\"screen\",\"level\":\"overlay\",\"line_alpha\":{\"value\":1.0},\"line_color\":{\"value\":\"black\"},\"line_dash\":[4,4],\"line_width\":{\"value\":2},\"render_mode\":\"css\",\"right_units\":\"screen\",\"top_units\":\"screen\"},\"id\":\"67543\",\"type\":\"BoxAnnotation\"},{\"attributes\":{},\"id\":\"67512\",\"type\":\"Selection\"},{\"attributes\":{\"source\":{\"id\":\"65602\",\"type\":\"ColumnDataSource\"}},\"id\":\"65606\",\"type\":\"CDSView\"},{\"attributes\":{\"fill_color\":{\"value\":\"red\"},\"line_color\":{\"value\":\"#1f77b4\"},\"size\":{\"units\":\"screen\",\"value\":6},\"x\":{\"field\":\"x\"},\"y\":{\"field\":\"y\"}},\"id\":\"65608\",\"type\":\"Circle\"},{\"attributes\":{},\"id\":\"67530\",\"type\":\"UnionRenderers\"},{\"attributes\":{\"mantissas\":[1,2,5],\"max_interval\":500.0,\"num_minor_ticks\":0},\"id\":\"67531\",\"type\":\"AdaptiveTicker\"},{\"attributes\":{\"data_source\":{\"id\":\"65607\",\"type\":\"ColumnDataSource\"},\"glyph\":{\"id\":\"65608\",\"type\":\"Circle\"},\"hover_glyph\":null,\"muted_glyph\":null,\"nonselection_glyph\":{\"id\":\"65609\",\"type\":\"Circle\"},\"selection_glyph\":null,\"view\":{\"id\":\"65611\",\"type\":\"CDSView\"}},\"id\":\"65610\",\"type\":\"GlyphRenderer\"},{\"attributes\":{},\"id\":\"65594\",\"type\":\"HelpTool\"},{\"attributes\":{},\"id\":\"67528\",\"type\":\"UnionRenderers\"},{\"attributes\":{\"fill_alpha\":{\"value\":0.1},\"fill_color\":{\"value\":\"#1f77b4\"},\"line_alpha\":{\"value\":0.1},\"line_color\":{\"value\":\"#1f77b4\"},\"size\":{\"units\":\"screen\",\"value\":6},\"x\":{\"field\":\"x\"},\"y\":{\"field\":\"y\"}},\"id\":\"65609\",\"type\":\"Circle\"},{\"attributes\":{\"months\":[0,1,2,3,4,5,6,7,8,9,10,11]},\"id\":\"67538\",\"type\":\"MonthsTicker\"},{\"attributes\":{},\"id\":\"65592\",\"type\":\"SaveTool\"},{\"attributes\":{},\"id\":\"67507\",\"type\":\"DatetimeTickFormatter\"},{\"attributes\":{},\"id\":\"67510\",\"type\":\"Selection\"},{\"attributes\":{},\"id\":\"67527\",\"type\":\"Selection\"},{\"attributes\":{},\"id\":\"67509\",\"type\":\"BasicTickFormatter\"},{\"attributes\":{\"days\":[1,4,7,10,13,16,19,22,25,28]},\"id\":\"67535\",\"type\":\"DaysTicker\"},{\"attributes\":{},\"id\":\"65590\",\"type\":\"WheelZoomTool\"},{\"attributes\":{},\"id\":\"67525\",\"type\":\"YearsTicker\"},{\"attributes\":{},\"id\":\"65577\",\"type\":\"LinearScale\"},{\"attributes\":{\"line_color\":{\"value\":\"#1f77b4\"},\"line_dash\":[4,4],\"line_width\":{\"value\":2},\"mode\":\"after\",\"x\":{\"field\":\"x\"},\"y\":{\"field\":\"y\"}},\"id\":\"65603\",\"type\":\"Step\"},{\"attributes\":{\"dimension\":1,\"ticker\":{\"id\":\"65585\",\"type\":\"BasicTicker\"}},\"id\":\"65588\",\"type\":\"Grid\"},{\"attributes\":{},\"id\":\"65589\",\"type\":\"PanTool\"},{\"attributes\":{\"num_minor_ticks\":5,\"tickers\":[{\"id\":\"67531\",\"type\":\"AdaptiveTicker\"},{\"id\":\"67532\",\"type\":\"AdaptiveTicker\"},{\"id\":\"67533\",\"type\":\"AdaptiveTicker\"},{\"id\":\"67534\",\"type\":\"DaysTicker\"},{\"id\":\"67535\",\"type\":\"DaysTicker\"},{\"id\":\"67536\",\"type\":\"DaysTicker\"},{\"id\":\"67537\",\"type\":\"DaysTicker\"},{\"id\":\"67538\",\"type\":\"MonthsTicker\"},{\"id\":\"67539\",\"type\":\"MonthsTicker\"},{\"id\":\"67540\",\"type\":\"MonthsTicker\"},{\"id\":\"67541\",\"type\":\"MonthsTicker\"},{\"id\":\"67542\",\"type\":\"YearsTicker\"}]},\"id\":\"65580\",\"type\":\"DatetimeTicker\"},{\"attributes\":{\"ticker\":{\"id\":\"65580\",\"type\":\"DatetimeTicker\"}},\"id\":\"65583\",\"type\":\"Grid\"},{\"attributes\":{\"callback\":null,\"data\":{\"x\":[1546300800000.0,1546301400000.0,1546301700000.0,1546301820000.0],\"y\":[10,10,10,1]},\"selected\":{\"id\":\"67529\",\"type\":\"Selection\"},\"selection_policy\":{\"id\":\"67530\",\"type\":\"UnionRenderers\"}},\"id\":\"65607\",\"type\":\"ColumnDataSource\"},{\"attributes\":{\"line_alpha\":{\"value\":0.1},\"line_color\":{\"value\":\"#1f77b4\"},\"line_dash\":[4,4],\"line_width\":{\"value\":2},\"mode\":\"after\",\"x\":{\"field\":\"x\"},\"y\":{\"field\":\"y\"}},\"id\":\"65604\",\"type\":\"Step\"},{\"attributes\":{\"months\":[0,4,8]},\"id\":\"67540\",\"type\":\"MonthsTicker\"},{\"attributes\":{\"base\":60,\"mantissas\":[1,2,5,10,15,20,30],\"max_interval\":1800000.0,\"min_interval\":1000.0,\"num_minor_ticks\":0},\"id\":\"67532\",\"type\":\"AdaptiveTicker\"},{\"attributes\":{\"overlay\":{\"id\":\"67543\",\"type\":\"BoxAnnotation\"}},\"id\":\"65591\",\"type\":\"BoxZoomTool\"},{\"attributes\":{\"data_source\":{\"id\":\"65558\",\"type\":\"ColumnDataSource\"},\"glyph\":{\"id\":\"65559\",\"type\":\"Step\"},\"hover_glyph\":null,\"muted_glyph\":null,\"nonselection_glyph\":{\"id\":\"65560\",\"type\":\"Step\"},\"selection_glyph\":null,\"view\":{\"id\":\"65562\",\"type\":\"CDSView\"}},\"id\":\"65561\",\"type\":\"GlyphRenderer\"},{\"attributes\":{},\"id\":\"65593\",\"type\":\"ResetTool\"},{\"attributes\":{\"active_drag\":\"auto\",\"active_inspect\":\"auto\",\"active_multi\":null,\"active_scroll\":\"auto\",\"active_tap\":\"auto\",\"tools\":[{\"id\":\"65589\",\"type\":\"PanTool\"},{\"id\":\"65590\",\"type\":\"WheelZoomTool\"},{\"id\":\"65591\",\"type\":\"BoxZoomTool\"},{\"id\":\"65592\",\"type\":\"SaveTool\"},{\"id\":\"65593\",\"type\":\"ResetTool\"},{\"id\":\"65594\",\"type\":\"HelpTool\"}]},\"id\":\"65595\",\"type\":\"Toolbar\"},{\"attributes\":{\"source\":{\"id\":\"65558\",\"type\":\"ColumnDataSource\"}},\"id\":\"65562\",\"type\":\"CDSView\"},{\"attributes\":{\"callback\":null,\"data\":{\"x\":[1546300800000.0,1546301400000.0,1546301700000.0,1546301820000.0],\"y\":[10,20,10,1]},\"selected\":{\"id\":\"67512\",\"type\":\"Selection\"},\"selection_policy\":{\"id\":\"67513\",\"type\":\"UnionRenderers\"}},\"id\":\"65563\",\"type\":\"ColumnDataSource\"},{\"attributes\":{},\"id\":\"65585\",\"type\":\"BasicTicker\"},{\"attributes\":{\"base\":24,\"mantissas\":[1,2,4,6,8,12],\"max_interval\":43200000.0,\"min_interval\":3600000.0,\"num_minor_ticks\":0},\"id\":\"67533\",\"type\":\"AdaptiveTicker\"},{\"attributes\":{\"axis_label\":\"IoT sensor\",\"formatter\":{\"id\":\"67509\",\"type\":\"BasicTickFormatter\"},\"ticker\":{\"id\":\"65585\",\"type\":\"BasicTicker\"}},\"id\":\"65584\",\"type\":\"LinearAxis\"},{\"attributes\":{\"days\":[1,8,15,22]},\"id\":\"67536\",\"type\":\"DaysTicker\"},{\"attributes\":{\"fill_color\":{\"value\":\"red\"},\"line_color\":{\"value\":\"#1f77b4\"},\"size\":{\"units\":\"screen\",\"value\":6},\"x\":{\"field\":\"x\"},\"y\":{\"field\":\"y\"}},\"id\":\"65564\",\"type\":\"Circle\"}],\"root_ids\":[\"65612\"]},\"title\":\"Bokeh Application\",\"version\":\"1.2.0\"}};\n",
       "  var render_items = [{\"docid\":\"a3765996-e343-4286-aa02-5de089822e3a\",\"roots\":{\"65612\":\"b2849233-0744-45da-83e8-beed6a81624b\"}}];\n",
       "  root.Bokeh.embed.embed_items_notebook(docs_json, render_items);\n",
       "\n",
       "  }\n",
       "  if (root.Bokeh !== undefined) {\n",
       "    embed_document(root);\n",
       "  } else {\n",
       "    var attempts = 0;\n",
       "    var timer = setInterval(function(root) {\n",
       "      if (root.Bokeh !== undefined) {\n",
       "        embed_document(root);\n",
       "        clearInterval(timer);\n",
       "      }\n",
       "      attempts++;\n",
       "      if (attempts > 100) {\n",
       "        console.log(\"Bokeh: ERROR: Unable to run BokehJS code because BokehJS library is missing\");\n",
       "        clearInterval(timer);\n",
       "      }\n",
       "    }, 10, root)\n",
       "  }\n",
       "})(window);"
      ],
      "application/vnd.bokehjs_exec.v0+json": ""
     },
     "metadata": {
      "application/vnd.bokehjs_exec.v0+json": {
       "id": "65612"
      }
     },
     "output_type": "display_data"
    },
    {
     "data": {
      "text/html": [
       "\n",
       "\n",
       "\n",
       "\n",
       "\n",
       "\n",
       "  <div class=\"bk-root\" id=\"fe2d73e2-7107-4f2b-9740-dae4c767e4c2\" data-root-id=\"67940\"></div>\n"
      ]
     },
     "metadata": {},
     "output_type": "display_data"
    },
    {
     "data": {
      "application/javascript": [
       "(function(root) {\n",
       "  function embed_document(root) {\n",
       "    \n",
       "  var docs_json = {\"d3e21889-17a3-4388-a48b-0a3f2c788886\":{\"roots\":{\"references\":[{\"attributes\":{\"children\":[{\"id\":\"67808\",\"subtype\":\"Figure\",\"type\":\"Plot\"},{\"id\":\"67852\",\"subtype\":\"Figure\",\"type\":\"Plot\"},{\"id\":\"67896\",\"subtype\":\"Figure\",\"type\":\"Plot\"}]},\"id\":\"67940\",\"type\":\"Row\"},{\"attributes\":{\"months\":[0,6]},\"id\":\"69935\",\"type\":\"MonthsTicker\"},{\"attributes\":{\"callback\":null,\"data\":{\"x\":[1546300800000.0,1546301400000.0,1546301700000.0,1546301820000.0],\"y\":[10,20,10,1]},\"selected\":{\"id\":\"69889\",\"type\":\"Selection\"},\"selection_policy\":{\"id\":\"69890\",\"type\":\"UnionRenderers\"}},\"id\":\"67847\",\"type\":\"ColumnDataSource\"},{\"attributes\":{\"callback\":null},\"id\":\"67813\",\"type\":\"DataRange1d\"},{\"attributes\":{},\"id\":\"69936\",\"type\":\"YearsTicker\"},{\"attributes\":{\"below\":[{\"id\":\"67819\",\"type\":\"DatetimeAxis\"}],\"center\":[{\"id\":\"67823\",\"type\":\"Grid\"},{\"id\":\"67828\",\"type\":\"Grid\"}],\"left\":[{\"id\":\"67824\",\"type\":\"LinearAxis\"}],\"plot_height\":250,\"plot_width\":400,\"renderers\":[{\"id\":\"67845\",\"type\":\"GlyphRenderer\"},{\"id\":\"67850\",\"type\":\"GlyphRenderer\"}],\"title\":{\"id\":\"67809\",\"type\":\"Title\"},\"toolbar\":{\"id\":\"67835\",\"type\":\"Toolbar\"},\"x_range\":{\"id\":\"67811\",\"type\":\"DataRange1d\"},\"x_scale\":{\"id\":\"67815\",\"type\":\"LinearScale\"},\"y_range\":{\"id\":\"67813\",\"type\":\"DataRange1d\"},\"y_scale\":{\"id\":\"67817\",\"type\":\"LinearScale\"}},\"id\":\"67808\",\"subtype\":\"Figure\",\"type\":\"Plot\"},{\"attributes\":{\"callback\":null},\"id\":\"67855\",\"type\":\"DataRange1d\"},{\"attributes\":{\"line_color\":{\"value\":\"#1f77b4\"},\"line_dash\":[4,4],\"line_width\":{\"value\":2},\"mode\":\"after\",\"x\":{\"field\":\"x\"},\"y\":{\"field\":\"y\"}},\"id\":\"67843\",\"type\":\"Step\"},{\"attributes\":{\"bottom_units\":\"screen\",\"fill_alpha\":{\"value\":0.5},\"fill_color\":{\"value\":\"lightgrey\"},\"left_units\":\"screen\",\"level\":\"overlay\",\"line_alpha\":{\"value\":1.0},\"line_color\":{\"value\":\"black\"},\"line_dash\":[4,4],\"line_width\":{\"value\":2},\"render_mode\":\"css\",\"right_units\":\"screen\",\"top_units\":\"screen\"},\"id\":\"69937\",\"type\":\"BoxAnnotation\"},{\"attributes\":{},\"id\":\"67817\",\"type\":\"LinearScale\"},{\"attributes\":{},\"id\":\"67869\",\"type\":\"BasicTicker\"},{\"attributes\":{\"callback\":null,\"data\":{\"x\":[1546300800000.0,1546301400000.0,1546301700000.0,1546301820000.0],\"y\":[10,20,10,1]},\"selected\":{\"id\":\"69887\",\"type\":\"Selection\"},\"selection_policy\":{\"id\":\"69888\",\"type\":\"UnionRenderers\"}},\"id\":\"67842\",\"type\":\"ColumnDataSource\"},{\"attributes\":{\"fill_color\":{\"value\":\"red\"},\"line_color\":{\"value\":\"#1f77b4\"},\"size\":{\"units\":\"screen\",\"value\":6},\"x\":{\"field\":\"x\"},\"y\":{\"field\":\"y\"}},\"id\":\"67848\",\"type\":\"Circle\"},{\"attributes\":{},\"id\":\"67815\",\"type\":\"LinearScale\"},{\"attributes\":{\"source\":{\"id\":\"67847\",\"type\":\"ColumnDataSource\"}},\"id\":\"67851\",\"type\":\"CDSView\"},{\"attributes\":{},\"id\":\"67830\",\"type\":\"WheelZoomTool\"},{\"attributes\":{\"line_alpha\":{\"value\":0.1},\"line_color\":{\"value\":\"#1f77b4\"},\"line_dash\":[4,4],\"line_width\":{\"value\":2},\"mode\":\"after\",\"x\":{\"field\":\"x\"},\"y\":{\"field\":\"y\"}},\"id\":\"67844\",\"type\":\"Step\"},{\"attributes\":{\"dimension\":1,\"ticker\":{\"id\":\"67825\",\"type\":\"BasicTicker\"}},\"id\":\"67828\",\"type\":\"Grid\"},{\"attributes\":{\"below\":[{\"id\":\"67863\",\"type\":\"DatetimeAxis\"}],\"center\":[{\"id\":\"67867\",\"type\":\"Grid\"},{\"id\":\"67872\",\"type\":\"Grid\"}],\"left\":[{\"id\":\"67868\",\"type\":\"LinearAxis\"}],\"plot_height\":250,\"plot_width\":400,\"renderers\":[{\"id\":\"67889\",\"type\":\"GlyphRenderer\"},{\"id\":\"67894\",\"type\":\"GlyphRenderer\"}],\"title\":{\"id\":\"67853\",\"type\":\"Title\"},\"toolbar\":{\"id\":\"67879\",\"type\":\"Toolbar\"},\"x_range\":{\"id\":\"67855\",\"type\":\"DataRange1d\"},\"x_scale\":{\"id\":\"67859\",\"type\":\"LinearScale\"},\"y_range\":{\"id\":\"67857\",\"type\":\"DataRange1d\"},\"y_scale\":{\"id\":\"67861\",\"type\":\"LinearScale\"}},\"id\":\"67852\",\"subtype\":\"Figure\",\"type\":\"Plot\"},{\"attributes\":{},\"id\":\"67829\",\"type\":\"PanTool\"},{\"attributes\":{\"line_color\":{\"value\":\"#1f77b4\"},\"line_dash\":[4,4],\"line_width\":{\"value\":2},\"mode\":\"after\",\"x\":{\"field\":\"x\"},\"y\":{\"field\":\"y\"}},\"id\":\"67887\",\"type\":\"Step\"},{\"attributes\":{\"callback\":null},\"id\":\"67811\",\"type\":\"DataRange1d\"},{\"attributes\":{\"overlay\":{\"id\":\"69920\",\"type\":\"BoxAnnotation\"}},\"id\":\"67875\",\"type\":\"BoxZoomTool\"},{\"attributes\":{\"active_drag\":\"auto\",\"active_inspect\":\"auto\",\"active_multi\":null,\"active_scroll\":\"auto\",\"active_tap\":\"auto\",\"tools\":[{\"id\":\"67829\",\"type\":\"PanTool\"},{\"id\":\"67830\",\"type\":\"WheelZoomTool\"},{\"id\":\"67831\",\"type\":\"BoxZoomTool\"},{\"id\":\"67832\",\"type\":\"SaveTool\"},{\"id\":\"67833\",\"type\":\"ResetTool\"},{\"id\":\"67834\",\"type\":\"HelpTool\"}]},\"id\":\"67835\",\"type\":\"Toolbar\"},{\"attributes\":{\"axis_label\":\"IoT sensor\",\"formatter\":{\"id\":\"69882\",\"type\":\"BasicTickFormatter\"},\"ticker\":{\"id\":\"67869\",\"type\":\"BasicTicker\"}},\"id\":\"67868\",\"type\":\"LinearAxis\"},{\"attributes\":{},\"id\":\"67834\",\"type\":\"HelpTool\"},{\"attributes\":{\"text\":\"ts1\"},\"id\":\"67809\",\"type\":\"Title\"},{\"attributes\":{\"data_source\":{\"id\":\"67886\",\"type\":\"ColumnDataSource\"},\"glyph\":{\"id\":\"67887\",\"type\":\"Step\"},\"hover_glyph\":null,\"muted_glyph\":null,\"nonselection_glyph\":{\"id\":\"67888\",\"type\":\"Step\"},\"selection_glyph\":null,\"view\":{\"id\":\"67890\",\"type\":\"CDSView\"}},\"id\":\"67889\",\"type\":\"GlyphRenderer\"},{\"attributes\":{},\"id\":\"67878\",\"type\":\"HelpTool\"},{\"attributes\":{},\"id\":\"67832\",\"type\":\"SaveTool\"},{\"attributes\":{},\"id\":\"67859\",\"type\":\"LinearScale\"},{\"attributes\":{\"axis_label\":\"IoT sensor\",\"formatter\":{\"id\":\"69878\",\"type\":\"BasicTickFormatter\"},\"ticker\":{\"id\":\"67825\",\"type\":\"BasicTicker\"}},\"id\":\"67824\",\"type\":\"LinearAxis\"},{\"attributes\":{\"fill_alpha\":{\"value\":0.1},\"fill_color\":{\"value\":\"#1f77b4\"},\"line_alpha\":{\"value\":0.1},\"line_color\":{\"value\":\"#1f77b4\"},\"size\":{\"units\":\"screen\",\"value\":6},\"x\":{\"field\":\"x\"},\"y\":{\"field\":\"y\"}},\"id\":\"67849\",\"type\":\"Circle\"},{\"attributes\":{},\"id\":\"67877\",\"type\":\"ResetTool\"},{\"attributes\":{},\"id\":\"67825\",\"type\":\"BasicTicker\"},{\"attributes\":{\"data_source\":{\"id\":\"67847\",\"type\":\"ColumnDataSource\"},\"glyph\":{\"id\":\"67848\",\"type\":\"Circle\"},\"hover_glyph\":null,\"muted_glyph\":null,\"nonselection_glyph\":{\"id\":\"67849\",\"type\":\"Circle\"},\"selection_glyph\":null,\"view\":{\"id\":\"67851\",\"type\":\"CDSView\"}},\"id\":\"67850\",\"type\":\"GlyphRenderer\"},{\"attributes\":{\"num_minor_ticks\":5,\"tickers\":[{\"id\":\"69908\",\"type\":\"AdaptiveTicker\"},{\"id\":\"69909\",\"type\":\"AdaptiveTicker\"},{\"id\":\"69910\",\"type\":\"AdaptiveTicker\"},{\"id\":\"69911\",\"type\":\"DaysTicker\"},{\"id\":\"69912\",\"type\":\"DaysTicker\"},{\"id\":\"69913\",\"type\":\"DaysTicker\"},{\"id\":\"69914\",\"type\":\"DaysTicker\"},{\"id\":\"69915\",\"type\":\"MonthsTicker\"},{\"id\":\"69916\",\"type\":\"MonthsTicker\"},{\"id\":\"69917\",\"type\":\"MonthsTicker\"},{\"id\":\"69918\",\"type\":\"MonthsTicker\"},{\"id\":\"69919\",\"type\":\"YearsTicker\"}]},\"id\":\"67864\",\"type\":\"DatetimeTicker\"},{\"attributes\":{\"ticker\":{\"id\":\"67864\",\"type\":\"DatetimeTicker\"}},\"id\":\"67867\",\"type\":\"Grid\"},{\"attributes\":{\"num_minor_ticks\":5,\"tickers\":[{\"id\":\"69891\",\"type\":\"AdaptiveTicker\"},{\"id\":\"69892\",\"type\":\"AdaptiveTicker\"},{\"id\":\"69893\",\"type\":\"AdaptiveTicker\"},{\"id\":\"69894\",\"type\":\"DaysTicker\"},{\"id\":\"69895\",\"type\":\"DaysTicker\"},{\"id\":\"69896\",\"type\":\"DaysTicker\"},{\"id\":\"69897\",\"type\":\"DaysTicker\"},{\"id\":\"69898\",\"type\":\"MonthsTicker\"},{\"id\":\"69899\",\"type\":\"MonthsTicker\"},{\"id\":\"69900\",\"type\":\"MonthsTicker\"},{\"id\":\"69901\",\"type\":\"MonthsTicker\"},{\"id\":\"69902\",\"type\":\"YearsTicker\"}]},\"id\":\"67820\",\"type\":\"DatetimeTicker\"},{\"attributes\":{\"active_drag\":\"auto\",\"active_inspect\":\"auto\",\"active_multi\":null,\"active_scroll\":\"auto\",\"active_tap\":\"auto\",\"tools\":[{\"id\":\"67873\",\"type\":\"PanTool\"},{\"id\":\"67874\",\"type\":\"WheelZoomTool\"},{\"id\":\"67875\",\"type\":\"BoxZoomTool\"},{\"id\":\"67876\",\"type\":\"SaveTool\"},{\"id\":\"67877\",\"type\":\"ResetTool\"},{\"id\":\"67878\",\"type\":\"HelpTool\"}]},\"id\":\"67879\",\"type\":\"Toolbar\"},{\"attributes\":{\"line_alpha\":{\"value\":0.1},\"line_color\":{\"value\":\"#1f77b4\"},\"line_dash\":[4,4],\"line_width\":{\"value\":2},\"mode\":\"after\",\"x\":{\"field\":\"x\"},\"y\":{\"field\":\"y\"}},\"id\":\"67888\",\"type\":\"Step\"},{\"attributes\":{\"ticker\":{\"id\":\"67820\",\"type\":\"DatetimeTicker\"}},\"id\":\"67823\",\"type\":\"Grid\"},{\"attributes\":{\"dimension\":1,\"ticker\":{\"id\":\"67869\",\"type\":\"BasicTicker\"}},\"id\":\"67872\",\"type\":\"Grid\"},{\"attributes\":{\"callback\":null},\"id\":\"67857\",\"type\":\"DataRange1d\"},{\"attributes\":{\"days\":[1,8,15,22]},\"id\":\"69896\",\"type\":\"DaysTicker\"},{\"attributes\":{},\"id\":\"67873\",\"type\":\"PanTool\"},{\"attributes\":{},\"id\":\"67876\",\"type\":\"SaveTool\"},{\"attributes\":{\"overlay\":{\"id\":\"69903\",\"type\":\"BoxAnnotation\"}},\"id\":\"67831\",\"type\":\"BoxZoomTool\"},{\"attributes\":{\"axis_label\":\"timestamp\",\"formatter\":{\"id\":\"69876\",\"type\":\"DatetimeTickFormatter\"},\"ticker\":{\"id\":\"67820\",\"type\":\"DatetimeTicker\"}},\"id\":\"67819\",\"type\":\"DatetimeAxis\"},{\"attributes\":{},\"id\":\"69876\",\"type\":\"DatetimeTickFormatter\"},{\"attributes\":{\"axis_label\":\"timestamp\",\"formatter\":{\"id\":\"69880\",\"type\":\"DatetimeTickFormatter\"},\"ticker\":{\"id\":\"67864\",\"type\":\"DatetimeTicker\"}},\"id\":\"67863\",\"type\":\"DatetimeAxis\"},{\"attributes\":{},\"id\":\"67833\",\"type\":\"ResetTool\"},{\"attributes\":{\"source\":{\"id\":\"67842\",\"type\":\"ColumnDataSource\"}},\"id\":\"67846\",\"type\":\"CDSView\"},{\"attributes\":{},\"id\":\"67861\",\"type\":\"LinearScale\"},{\"attributes\":{\"data_source\":{\"id\":\"67842\",\"type\":\"ColumnDataSource\"},\"glyph\":{\"id\":\"67843\",\"type\":\"Step\"},\"hover_glyph\":null,\"muted_glyph\":null,\"nonselection_glyph\":{\"id\":\"67844\",\"type\":\"Step\"},\"selection_glyph\":null,\"view\":{\"id\":\"67846\",\"type\":\"CDSView\"}},\"id\":\"67845\",\"type\":\"GlyphRenderer\"},{\"attributes\":{\"months\":[0,4,8]},\"id\":\"69900\",\"type\":\"MonthsTicker\"},{\"attributes\":{\"data_source\":{\"id\":\"67930\",\"type\":\"ColumnDataSource\"},\"glyph\":{\"id\":\"67931\",\"type\":\"Step\"},\"hover_glyph\":null,\"muted_glyph\":null,\"nonselection_glyph\":{\"id\":\"67932\",\"type\":\"Step\"},\"selection_glyph\":null,\"view\":{\"id\":\"67934\",\"type\":\"CDSView\"}},\"id\":\"67933\",\"type\":\"GlyphRenderer\"},{\"attributes\":{},\"id\":\"67874\",\"type\":\"WheelZoomTool\"},{\"attributes\":{\"text\":\"ts2\"},\"id\":\"67853\",\"type\":\"Title\"},{\"attributes\":{\"callback\":null,\"data\":{\"x\":[1546301220000.0,1546301400000.0,1546301520000.0],\"y\":[-1,5,14]},\"selected\":{\"id\":\"69904\",\"type\":\"Selection\"},\"selection_policy\":{\"id\":\"69905\",\"type\":\"UnionRenderers\"}},\"id\":\"67886\",\"type\":\"ColumnDataSource\"},{\"attributes\":{\"below\":[{\"id\":\"67907\",\"type\":\"DatetimeAxis\"}],\"center\":[{\"id\":\"67911\",\"type\":\"Grid\"},{\"id\":\"67916\",\"type\":\"Grid\"}],\"left\":[{\"id\":\"67912\",\"type\":\"LinearAxis\"}],\"plot_height\":250,\"plot_width\":400,\"renderers\":[{\"id\":\"67933\",\"type\":\"GlyphRenderer\"},{\"id\":\"67938\",\"type\":\"GlyphRenderer\"}],\"title\":{\"id\":\"67897\",\"type\":\"Title\"},\"toolbar\":{\"id\":\"67923\",\"type\":\"Toolbar\"},\"x_range\":{\"id\":\"67899\",\"type\":\"DataRange1d\"},\"x_scale\":{\"id\":\"67903\",\"type\":\"LinearScale\"},\"y_range\":{\"id\":\"67901\",\"type\":\"DataRange1d\"},\"y_scale\":{\"id\":\"67905\",\"type\":\"LinearScale\"}},\"id\":\"67896\",\"subtype\":\"Figure\",\"type\":\"Plot\"},{\"attributes\":{\"months\":[0,6]},\"id\":\"69901\",\"type\":\"MonthsTicker\"},{\"attributes\":{\"ticker\":{\"id\":\"67908\",\"type\":\"DatetimeTicker\"}},\"id\":\"67911\",\"type\":\"Grid\"},{\"attributes\":{},\"id\":\"69882\",\"type\":\"BasicTickFormatter\"},{\"attributes\":{},\"id\":\"69902\",\"type\":\"YearsTicker\"},{\"attributes\":{\"bottom_units\":\"screen\",\"fill_alpha\":{\"value\":0.5},\"fill_color\":{\"value\":\"lightgrey\"},\"left_units\":\"screen\",\"level\":\"overlay\",\"line_alpha\":{\"value\":1.0},\"line_color\":{\"value\":\"black\"},\"line_dash\":[4,4],\"line_width\":{\"value\":2},\"render_mode\":\"css\",\"right_units\":\"screen\",\"top_units\":\"screen\"},\"id\":\"69903\",\"type\":\"BoxAnnotation\"},{\"attributes\":{\"days\":[1,2,3,4,5,6,7,8,9,10,11,12,13,14,15,16,17,18,19,20,21,22,23,24,25,26,27,28,29,30,31]},\"id\":\"69894\",\"type\":\"DaysTicker\"},{\"attributes\":{},\"id\":\"69904\",\"type\":\"Selection\"},{\"attributes\":{\"num_minor_ticks\":5,\"tickers\":[{\"id\":\"69925\",\"type\":\"AdaptiveTicker\"},{\"id\":\"69926\",\"type\":\"AdaptiveTicker\"},{\"id\":\"69927\",\"type\":\"AdaptiveTicker\"},{\"id\":\"69928\",\"type\":\"DaysTicker\"},{\"id\":\"69929\",\"type\":\"DaysTicker\"},{\"id\":\"69930\",\"type\":\"DaysTicker\"},{\"id\":\"69931\",\"type\":\"DaysTicker\"},{\"id\":\"69932\",\"type\":\"MonthsTicker\"},{\"id\":\"69933\",\"type\":\"MonthsTicker\"},{\"id\":\"69934\",\"type\":\"MonthsTicker\"},{\"id\":\"69935\",\"type\":\"MonthsTicker\"},{\"id\":\"69936\",\"type\":\"YearsTicker\"}]},\"id\":\"67908\",\"type\":\"DatetimeTicker\"},{\"attributes\":{\"months\":[0,1,2,3,4,5,6,7,8,9,10,11]},\"id\":\"69898\",\"type\":\"MonthsTicker\"},{\"attributes\":{},\"id\":\"69905\",\"type\":\"UnionRenderers\"},{\"attributes\":{\"data_source\":{\"id\":\"67935\",\"type\":\"ColumnDataSource\"},\"glyph\":{\"id\":\"67936\",\"type\":\"Circle\"},\"hover_glyph\":null,\"muted_glyph\":null,\"nonselection_glyph\":{\"id\":\"67937\",\"type\":\"Circle\"},\"selection_glyph\":null,\"view\":{\"id\":\"67939\",\"type\":\"CDSView\"}},\"id\":\"67938\",\"type\":\"GlyphRenderer\"},{\"attributes\":{},\"id\":\"69906\",\"type\":\"Selection\"},{\"attributes\":{\"data_source\":{\"id\":\"67891\",\"type\":\"ColumnDataSource\"},\"glyph\":{\"id\":\"67892\",\"type\":\"Circle\"},\"hover_glyph\":null,\"muted_glyph\":null,\"nonselection_glyph\":{\"id\":\"67893\",\"type\":\"Circle\"},\"selection_glyph\":null,\"view\":{\"id\":\"67895\",\"type\":\"CDSView\"}},\"id\":\"67894\",\"type\":\"GlyphRenderer\"},{\"attributes\":{},\"id\":\"69907\",\"type\":\"UnionRenderers\"},{\"attributes\":{},\"id\":\"67917\",\"type\":\"PanTool\"},{\"attributes\":{\"mantissas\":[1,2,5],\"max_interval\":500.0,\"num_minor_ticks\":0},\"id\":\"69908\",\"type\":\"AdaptiveTicker\"},{\"attributes\":{\"base\":60,\"mantissas\":[1,2,5,10,15,20,30],\"max_interval\":1800000.0,\"min_interval\":1000.0,\"num_minor_ticks\":0},\"id\":\"69909\",\"type\":\"AdaptiveTicker\"},{\"attributes\":{},\"id\":\"69878\",\"type\":\"BasicTickFormatter\"},{\"attributes\":{\"base\":24,\"mantissas\":[1,2,4,6,8,12],\"max_interval\":43200000.0,\"min_interval\":3600000.0,\"num_minor_ticks\":0},\"id\":\"69910\",\"type\":\"AdaptiveTicker\"},{\"attributes\":{\"days\":[1,2,3,4,5,6,7,8,9,10,11,12,13,14,15,16,17,18,19,20,21,22,23,24,25,26,27,28,29,30,31]},\"id\":\"69911\",\"type\":\"DaysTicker\"},{\"attributes\":{\"line_alpha\":{\"value\":0.1},\"line_color\":{\"value\":\"#1f77b4\"},\"line_dash\":[4,4],\"line_width\":{\"value\":2},\"mode\":\"after\",\"x\":{\"field\":\"x\"},\"y\":{\"field\":\"y\"}},\"id\":\"67932\",\"type\":\"Step\"},{\"attributes\":{\"text\":\"ts3\"},\"id\":\"67897\",\"type\":\"Title\"},{\"attributes\":{\"days\":[1,4,7,10,13,16,19,22,25,28]},\"id\":\"69912\",\"type\":\"DaysTicker\"},{\"attributes\":{},\"id\":\"67920\",\"type\":\"SaveTool\"},{\"attributes\":{\"days\":[1,8,15,22]},\"id\":\"69913\",\"type\":\"DaysTicker\"},{\"attributes\":{\"source\":{\"id\":\"67891\",\"type\":\"ColumnDataSource\"}},\"id\":\"67895\",\"type\":\"CDSView\"},{\"attributes\":{\"callback\":null,\"data\":{\"x\":[1546300800000.0,1546301220000.0,1546301400000.0,1546301520000.0,1546301700000.0,1546301820000.0],\"y\":[0,-1,5,14,10,1]},\"selected\":{\"id\":\"69923\",\"type\":\"Selection\"},\"selection_policy\":{\"id\":\"69924\",\"type\":\"UnionRenderers\"}},\"id\":\"67935\",\"type\":\"ColumnDataSource\"},{\"attributes\":{},\"id\":\"69889\",\"type\":\"Selection\"},{\"attributes\":{\"days\":[1,15]},\"id\":\"69914\",\"type\":\"DaysTicker\"},{\"attributes\":{},\"id\":\"69884\",\"type\":\"DatetimeTickFormatter\"},{\"attributes\":{\"months\":[0,1,2,3,4,5,6,7,8,9,10,11]},\"id\":\"69915\",\"type\":\"MonthsTicker\"},{\"attributes\":{},\"id\":\"69890\",\"type\":\"UnionRenderers\"},{\"attributes\":{\"months\":[0,2,4,6,8,10]},\"id\":\"69916\",\"type\":\"MonthsTicker\"},{\"attributes\":{\"line_color\":{\"value\":\"#1f77b4\"},\"line_dash\":[4,4],\"line_width\":{\"value\":2},\"mode\":\"after\",\"x\":{\"field\":\"x\"},\"y\":{\"field\":\"y\"}},\"id\":\"67931\",\"type\":\"Step\"},{\"attributes\":{\"months\":[0,4,8]},\"id\":\"69917\",\"type\":\"MonthsTicker\"},{\"attributes\":{},\"id\":\"69880\",\"type\":\"DatetimeTickFormatter\"},{\"attributes\":{\"months\":[0,6]},\"id\":\"69918\",\"type\":\"MonthsTicker\"},{\"attributes\":{},\"id\":\"67921\",\"type\":\"ResetTool\"},{\"attributes\":{\"days\":[1,4,7,10,13,16,19,22,25,28]},\"id\":\"69895\",\"type\":\"DaysTicker\"},{\"attributes\":{},\"id\":\"69919\",\"type\":\"YearsTicker\"},{\"attributes\":{\"source\":{\"id\":\"67930\",\"type\":\"ColumnDataSource\"}},\"id\":\"67934\",\"type\":\"CDSView\"},{\"attributes\":{\"source\":{\"id\":\"67935\",\"type\":\"ColumnDataSource\"}},\"id\":\"67939\",\"type\":\"CDSView\"},{\"attributes\":{\"bottom_units\":\"screen\",\"fill_alpha\":{\"value\":0.5},\"fill_color\":{\"value\":\"lightgrey\"},\"left_units\":\"screen\",\"level\":\"overlay\",\"line_alpha\":{\"value\":1.0},\"line_color\":{\"value\":\"black\"},\"line_dash\":[4,4],\"line_width\":{\"value\":2},\"render_mode\":\"css\",\"right_units\":\"screen\",\"top_units\":\"screen\"},\"id\":\"69920\",\"type\":\"BoxAnnotation\"},{\"attributes\":{},\"id\":\"67913\",\"type\":\"BasicTicker\"},{\"attributes\":{},\"id\":\"69886\",\"type\":\"BasicTickFormatter\"},{\"attributes\":{},\"id\":\"69921\",\"type\":\"Selection\"},{\"attributes\":{\"axis_label\":\"timestamp\",\"formatter\":{\"id\":\"69884\",\"type\":\"DatetimeTickFormatter\"},\"ticker\":{\"id\":\"67908\",\"type\":\"DatetimeTicker\"}},\"id\":\"67907\",\"type\":\"DatetimeAxis\"},{\"attributes\":{},\"id\":\"69922\",\"type\":\"UnionRenderers\"},{\"attributes\":{\"source\":{\"id\":\"67886\",\"type\":\"ColumnDataSource\"}},\"id\":\"67890\",\"type\":\"CDSView\"},{\"attributes\":{},\"id\":\"69923\",\"type\":\"Selection\"},{\"attributes\":{\"fill_color\":{\"value\":\"red\"},\"line_color\":{\"value\":\"#1f77b4\"},\"size\":{\"units\":\"screen\",\"value\":6},\"x\":{\"field\":\"x\"},\"y\":{\"field\":\"y\"}},\"id\":\"67936\",\"type\":\"Circle\"},{\"attributes\":{},\"id\":\"69924\",\"type\":\"UnionRenderers\"},{\"attributes\":{\"callback\":null},\"id\":\"67899\",\"type\":\"DataRange1d\"},{\"attributes\":{\"axis_label\":\"IoT sensor\",\"formatter\":{\"id\":\"69886\",\"type\":\"BasicTickFormatter\"},\"ticker\":{\"id\":\"67913\",\"type\":\"BasicTicker\"}},\"id\":\"67912\",\"type\":\"LinearAxis\"},{\"attributes\":{},\"id\":\"69887\",\"type\":\"Selection\"},{\"attributes\":{\"mantissas\":[1,2,5],\"max_interval\":500.0,\"num_minor_ticks\":0},\"id\":\"69925\",\"type\":\"AdaptiveTicker\"},{\"attributes\":{\"fill_alpha\":{\"value\":0.1},\"fill_color\":{\"value\":\"#1f77b4\"},\"line_alpha\":{\"value\":0.1},\"line_color\":{\"value\":\"#1f77b4\"},\"size\":{\"units\":\"screen\",\"value\":6},\"x\":{\"field\":\"x\"},\"y\":{\"field\":\"y\"}},\"id\":\"67937\",\"type\":\"Circle\"},{\"attributes\":{\"overlay\":{\"id\":\"69937\",\"type\":\"BoxAnnotation\"}},\"id\":\"67919\",\"type\":\"BoxZoomTool\"},{\"attributes\":{},\"id\":\"67905\",\"type\":\"LinearScale\"},{\"attributes\":{\"base\":60,\"mantissas\":[1,2,5,10,15,20,30],\"max_interval\":1800000.0,\"min_interval\":1000.0,\"num_minor_ticks\":0},\"id\":\"69926\",\"type\":\"AdaptiveTicker\"},{\"attributes\":{},\"id\":\"69888\",\"type\":\"UnionRenderers\"},{\"attributes\":{\"base\":24,\"mantissas\":[1,2,4,6,8,12],\"max_interval\":43200000.0,\"min_interval\":3600000.0,\"num_minor_ticks\":0},\"id\":\"69927\",\"type\":\"AdaptiveTicker\"},{\"attributes\":{},\"id\":\"67922\",\"type\":\"HelpTool\"},{\"attributes\":{\"days\":[1,2,3,4,5,6,7,8,9,10,11,12,13,14,15,16,17,18,19,20,21,22,23,24,25,26,27,28,29,30,31]},\"id\":\"69928\",\"type\":\"DaysTicker\"},{\"attributes\":{},\"id\":\"67918\",\"type\":\"WheelZoomTool\"},{\"attributes\":{\"base\":24,\"mantissas\":[1,2,4,6,8,12],\"max_interval\":43200000.0,\"min_interval\":3600000.0,\"num_minor_ticks\":0},\"id\":\"69893\",\"type\":\"AdaptiveTicker\"},{\"attributes\":{\"callback\":null,\"data\":{\"x\":[1546301220000.0,1546301400000.0,1546301520000.0],\"y\":[-1,5,14]},\"selected\":{\"id\":\"69906\",\"type\":\"Selection\"},\"selection_policy\":{\"id\":\"69907\",\"type\":\"UnionRenderers\"}},\"id\":\"67891\",\"type\":\"ColumnDataSource\"},{\"attributes\":{\"days\":[1,4,7,10,13,16,19,22,25,28]},\"id\":\"69929\",\"type\":\"DaysTicker\"},{\"attributes\":{\"callback\":null},\"id\":\"67901\",\"type\":\"DataRange1d\"},{\"attributes\":{\"days\":[1,8,15,22]},\"id\":\"69930\",\"type\":\"DaysTicker\"},{\"attributes\":{\"fill_alpha\":{\"value\":0.1},\"fill_color\":{\"value\":\"#1f77b4\"},\"line_alpha\":{\"value\":0.1},\"line_color\":{\"value\":\"#1f77b4\"},\"size\":{\"units\":\"screen\",\"value\":6},\"x\":{\"field\":\"x\"},\"y\":{\"field\":\"y\"}},\"id\":\"67893\",\"type\":\"Circle\"},{\"attributes\":{\"base\":60,\"mantissas\":[1,2,5,10,15,20,30],\"max_interval\":1800000.0,\"min_interval\":1000.0,\"num_minor_ticks\":0},\"id\":\"69892\",\"type\":\"AdaptiveTicker\"},{\"attributes\":{\"days\":[1,15]},\"id\":\"69931\",\"type\":\"DaysTicker\"},{\"attributes\":{\"callback\":null,\"data\":{\"x\":[1546300800000.0,1546301220000.0,1546301400000.0,1546301520000.0,1546301700000.0,1546301820000.0],\"y\":[0,-1,5,14,10,1]},\"selected\":{\"id\":\"69921\",\"type\":\"Selection\"},\"selection_policy\":{\"id\":\"69922\",\"type\":\"UnionRenderers\"}},\"id\":\"67930\",\"type\":\"ColumnDataSource\"},{\"attributes\":{\"days\":[1,15]},\"id\":\"69897\",\"type\":\"DaysTicker\"},{\"attributes\":{\"months\":[0,1,2,3,4,5,6,7,8,9,10,11]},\"id\":\"69932\",\"type\":\"MonthsTicker\"},{\"attributes\":{\"months\":[0,2,4,6,8,10]},\"id\":\"69899\",\"type\":\"MonthsTicker\"},{\"attributes\":{\"months\":[0,2,4,6,8,10]},\"id\":\"69933\",\"type\":\"MonthsTicker\"},{\"attributes\":{\"dimension\":1,\"ticker\":{\"id\":\"67913\",\"type\":\"BasicTicker\"}},\"id\":\"67916\",\"type\":\"Grid\"},{\"attributes\":{\"mantissas\":[1,2,5],\"max_interval\":500.0,\"num_minor_ticks\":0},\"id\":\"69891\",\"type\":\"AdaptiveTicker\"},{\"attributes\":{\"active_drag\":\"auto\",\"active_inspect\":\"auto\",\"active_multi\":null,\"active_scroll\":\"auto\",\"active_tap\":\"auto\",\"tools\":[{\"id\":\"67917\",\"type\":\"PanTool\"},{\"id\":\"67918\",\"type\":\"WheelZoomTool\"},{\"id\":\"67919\",\"type\":\"BoxZoomTool\"},{\"id\":\"67920\",\"type\":\"SaveTool\"},{\"id\":\"67921\",\"type\":\"ResetTool\"},{\"id\":\"67922\",\"type\":\"HelpTool\"}]},\"id\":\"67923\",\"type\":\"Toolbar\"},{\"attributes\":{\"months\":[0,4,8]},\"id\":\"69934\",\"type\":\"MonthsTicker\"},{\"attributes\":{},\"id\":\"67903\",\"type\":\"LinearScale\"},{\"attributes\":{\"fill_color\":{\"value\":\"red\"},\"line_color\":{\"value\":\"#1f77b4\"},\"size\":{\"units\":\"screen\",\"value\":6},\"x\":{\"field\":\"x\"},\"y\":{\"field\":\"y\"}},\"id\":\"67892\",\"type\":\"Circle\"}],\"root_ids\":[\"67940\"]},\"title\":\"Bokeh Application\",\"version\":\"1.2.0\"}};\n",
       "  var render_items = [{\"docid\":\"d3e21889-17a3-4388-a48b-0a3f2c788886\",\"roots\":{\"67940\":\"fe2d73e2-7107-4f2b-9740-dae4c767e4c2\"}}];\n",
       "  root.Bokeh.embed.embed_items_notebook(docs_json, render_items);\n",
       "\n",
       "  }\n",
       "  if (root.Bokeh !== undefined) {\n",
       "    embed_document(root);\n",
       "  } else {\n",
       "    var attempts = 0;\n",
       "    var timer = setInterval(function(root) {\n",
       "      if (root.Bokeh !== undefined) {\n",
       "        embed_document(root);\n",
       "        clearInterval(timer);\n",
       "      }\n",
       "      attempts++;\n",
       "      if (attempts > 100) {\n",
       "        console.log(\"Bokeh: ERROR: Unable to run BokehJS code because BokehJS library is missing\");\n",
       "        clearInterval(timer);\n",
       "      }\n",
       "    }, 10, root)\n",
       "  }\n",
       "})(window);"
      ],
      "application/vnd.bokehjs_exec.v0+json": ""
     },
     "metadata": {
      "application/vnd.bokehjs_exec.v0+json": {
       "id": "67940"
      }
     },
     "output_type": "display_data"
    }
   ],
   "source": [
    "# Floor (it applies a max on each key)\n",
    "plot_row(ts, ts.floor(10))\n",
    "plot_row(ts, ts2, ts.floor(ts2))"
   ]
  },
  {
   "cell_type": "code",
   "execution_count": 169,
   "metadata": {},
   "outputs": [
    {
     "data": {
      "text/html": [
       "\n",
       "\n",
       "\n",
       "\n",
       "\n",
       "\n",
       "  <div class=\"bk-root\" id=\"b723fbd3-6225-4e8c-854f-a1c2599a4efe\" data-root-id=\"70422\"></div>\n"
      ]
     },
     "metadata": {},
     "output_type": "display_data"
    },
    {
     "data": {
      "application/javascript": [
       "(function(root) {\n",
       "  function embed_document(root) {\n",
       "    \n",
       "  var docs_json = {\"0376019f-8d5d-4fdb-b672-4fba4ee3990d\":{\"roots\":{\"references\":[{\"attributes\":{\"children\":[{\"id\":\"70334\",\"subtype\":\"Figure\",\"type\":\"Plot\"},{\"id\":\"70378\",\"subtype\":\"Figure\",\"type\":\"Plot\"}]},\"id\":\"70422\",\"type\":\"Row\"},{\"attributes\":{},\"id\":\"72432\",\"type\":\"Selection\"},{\"attributes\":{\"below\":[{\"id\":\"70389\",\"type\":\"DatetimeAxis\"}],\"center\":[{\"id\":\"70393\",\"type\":\"Grid\"},{\"id\":\"70398\",\"type\":\"Grid\"}],\"left\":[{\"id\":\"70394\",\"type\":\"LinearAxis\"}],\"plot_height\":250,\"plot_width\":400,\"renderers\":[{\"id\":\"70415\",\"type\":\"GlyphRenderer\"},{\"id\":\"70420\",\"type\":\"GlyphRenderer\"}],\"title\":{\"id\":\"70379\",\"type\":\"Title\"},\"toolbar\":{\"id\":\"70405\",\"type\":\"Toolbar\"},\"x_range\":{\"id\":\"70381\",\"type\":\"DataRange1d\"},\"x_scale\":{\"id\":\"70385\",\"type\":\"LinearScale\"},\"y_range\":{\"id\":\"70383\",\"type\":\"DataRange1d\"},\"y_scale\":{\"id\":\"70387\",\"type\":\"LinearScale\"}},\"id\":\"70378\",\"subtype\":\"Figure\",\"type\":\"Plot\"},{\"attributes\":{},\"id\":\"72433\",\"type\":\"UnionRenderers\"},{\"attributes\":{\"mantissas\":[1,2,5],\"max_interval\":500.0,\"num_minor_ticks\":0},\"id\":\"72434\",\"type\":\"AdaptiveTicker\"},{\"attributes\":{\"text\":\"ts2\"},\"id\":\"70379\",\"type\":\"Title\"},{\"attributes\":{\"callback\":null},\"id\":\"70381\",\"type\":\"DataRange1d\"},{\"attributes\":{\"base\":60,\"mantissas\":[1,2,5,10,15,20,30],\"max_interval\":1800000.0,\"min_interval\":1000.0,\"num_minor_ticks\":0},\"id\":\"72435\",\"type\":\"AdaptiveTicker\"},{\"attributes\":{\"callback\":null},\"id\":\"70383\",\"type\":\"DataRange1d\"},{\"attributes\":{\"fill_color\":{\"value\":\"red\"},\"line_color\":{\"value\":\"#1f77b4\"},\"size\":{\"units\":\"screen\",\"value\":6},\"x\":{\"field\":\"x\"},\"y\":{\"field\":\"y\"}},\"id\":\"70374\",\"type\":\"Circle\"},{\"attributes\":{\"base\":24,\"mantissas\":[1,2,4,6,8,12],\"max_interval\":43200000.0,\"min_interval\":3600000.0,\"num_minor_ticks\":0},\"id\":\"72436\",\"type\":\"AdaptiveTicker\"},{\"attributes\":{},\"id\":\"70385\",\"type\":\"LinearScale\"},{\"attributes\":{\"days\":[1,2,3,4,5,6,7,8,9,10,11,12,13,14,15,16,17,18,19,20,21,22,23,24,25,26,27,28,29,30,31]},\"id\":\"72437\",\"type\":\"DaysTicker\"},{\"attributes\":{\"fill_alpha\":{\"value\":0.1},\"fill_color\":{\"value\":\"#1f77b4\"},\"line_alpha\":{\"value\":0.1},\"line_color\":{\"value\":\"#1f77b4\"},\"size\":{\"units\":\"screen\",\"value\":6},\"x\":{\"field\":\"x\"},\"y\":{\"field\":\"y\"}},\"id\":\"70375\",\"type\":\"Circle\"},{\"attributes\":{},\"id\":\"70341\",\"type\":\"LinearScale\"},{\"attributes\":{},\"id\":\"70387\",\"type\":\"LinearScale\"},{\"attributes\":{\"days\":[1,4,7,10,13,16,19,22,25,28]},\"id\":\"72438\",\"type\":\"DaysTicker\"},{\"attributes\":{\"axis_label\":\"timestamp\",\"formatter\":{\"id\":\"72427\",\"type\":\"DatetimeTickFormatter\"},\"ticker\":{\"id\":\"70390\",\"type\":\"DatetimeTicker\"}},\"id\":\"70389\",\"type\":\"DatetimeAxis\"},{\"attributes\":{\"days\":[1,8,15,22]},\"id\":\"72439\",\"type\":\"DaysTicker\"},{\"attributes\":{\"num_minor_ticks\":5,\"tickers\":[{\"id\":\"72451\",\"type\":\"AdaptiveTicker\"},{\"id\":\"72452\",\"type\":\"AdaptiveTicker\"},{\"id\":\"72453\",\"type\":\"AdaptiveTicker\"},{\"id\":\"72454\",\"type\":\"DaysTicker\"},{\"id\":\"72455\",\"type\":\"DaysTicker\"},{\"id\":\"72456\",\"type\":\"DaysTicker\"},{\"id\":\"72457\",\"type\":\"DaysTicker\"},{\"id\":\"72458\",\"type\":\"MonthsTicker\"},{\"id\":\"72459\",\"type\":\"MonthsTicker\"},{\"id\":\"72460\",\"type\":\"MonthsTicker\"},{\"id\":\"72461\",\"type\":\"MonthsTicker\"},{\"id\":\"72462\",\"type\":\"YearsTicker\"}]},\"id\":\"70390\",\"type\":\"DatetimeTicker\"},{\"attributes\":{\"days\":[1,15]},\"id\":\"72440\",\"type\":\"DaysTicker\"},{\"attributes\":{\"below\":[{\"id\":\"70345\",\"type\":\"DatetimeAxis\"}],\"center\":[{\"id\":\"70349\",\"type\":\"Grid\"},{\"id\":\"70354\",\"type\":\"Grid\"}],\"left\":[{\"id\":\"70350\",\"type\":\"LinearAxis\"}],\"plot_height\":250,\"plot_width\":400,\"renderers\":[{\"id\":\"70371\",\"type\":\"GlyphRenderer\"},{\"id\":\"70376\",\"type\":\"GlyphRenderer\"}],\"title\":{\"id\":\"70335\",\"type\":\"Title\"},\"toolbar\":{\"id\":\"70361\",\"type\":\"Toolbar\"},\"x_range\":{\"id\":\"70337\",\"type\":\"DataRange1d\"},\"x_scale\":{\"id\":\"70341\",\"type\":\"LinearScale\"},\"y_range\":{\"id\":\"70339\",\"type\":\"DataRange1d\"},\"y_scale\":{\"id\":\"70343\",\"type\":\"LinearScale\"}},\"id\":\"70334\",\"subtype\":\"Figure\",\"type\":\"Plot\"},{\"attributes\":{\"ticker\":{\"id\":\"70390\",\"type\":\"DatetimeTicker\"}},\"id\":\"70393\",\"type\":\"Grid\"},{\"attributes\":{\"months\":[0,1,2,3,4,5,6,7,8,9,10,11]},\"id\":\"72441\",\"type\":\"MonthsTicker\"},{\"attributes\":{\"text\":\"ts1\"},\"id\":\"70335\",\"type\":\"Title\"},{\"attributes\":{\"axis_label\":\"IoT sensor\",\"formatter\":{\"id\":\"72429\",\"type\":\"BasicTickFormatter\"},\"ticker\":{\"id\":\"70395\",\"type\":\"BasicTicker\"}},\"id\":\"70394\",\"type\":\"LinearAxis\"},{\"attributes\":{\"months\":[0,2,4,6,8,10]},\"id\":\"72442\",\"type\":\"MonthsTicker\"},{\"attributes\":{\"callback\":null},\"id\":\"70339\",\"type\":\"DataRange1d\"},{\"attributes\":{},\"id\":\"70395\",\"type\":\"BasicTicker\"},{\"attributes\":{\"months\":[0,4,8]},\"id\":\"72443\",\"type\":\"MonthsTicker\"},{\"attributes\":{\"callback\":null},\"id\":\"70337\",\"type\":\"DataRange1d\"},{\"attributes\":{\"dimension\":1,\"ticker\":{\"id\":\"70395\",\"type\":\"BasicTicker\"}},\"id\":\"70398\",\"type\":\"Grid\"},{\"attributes\":{\"months\":[0,6]},\"id\":\"72444\",\"type\":\"MonthsTicker\"},{\"attributes\":{\"axis_label\":\"timestamp\",\"formatter\":{\"id\":\"72423\",\"type\":\"DatetimeTickFormatter\"},\"ticker\":{\"id\":\"70346\",\"type\":\"DatetimeTicker\"}},\"id\":\"70345\",\"type\":\"DatetimeAxis\"},{\"attributes\":{\"line_alpha\":{\"value\":0.1},\"line_color\":{\"value\":\"#1f77b4\"},\"line_dash\":[4,4],\"line_width\":{\"value\":2},\"mode\":\"after\",\"x\":{\"field\":\"x\"},\"y\":{\"field\":\"y\"}},\"id\":\"70414\",\"type\":\"Step\"},{\"attributes\":{},\"id\":\"72445\",\"type\":\"YearsTicker\"},{\"attributes\":{\"line_color\":{\"value\":\"#1f77b4\"},\"line_dash\":[4,4],\"line_width\":{\"value\":2},\"mode\":\"after\",\"x\":{\"field\":\"x\"},\"y\":{\"field\":\"y\"}},\"id\":\"70413\",\"type\":\"Step\"},{\"attributes\":{\"bottom_units\":\"screen\",\"fill_alpha\":{\"value\":0.5},\"fill_color\":{\"value\":\"lightgrey\"},\"left_units\":\"screen\",\"level\":\"overlay\",\"line_alpha\":{\"value\":1.0},\"line_color\":{\"value\":\"black\"},\"line_dash\":[4,4],\"line_width\":{\"value\":2},\"render_mode\":\"css\",\"right_units\":\"screen\",\"top_units\":\"screen\"},\"id\":\"72446\",\"type\":\"BoxAnnotation\"},{\"attributes\":{},\"id\":\"70343\",\"type\":\"LinearScale\"},{\"attributes\":{\"callback\":null,\"data\":{\"x\":[1546300800000.0,1546301400000.0,1546301700000.0,1546301820000.0],\"y\":[10,20,10,10]},\"selected\":{\"id\":\"72447\",\"type\":\"Selection\"},\"selection_policy\":{\"id\":\"72448\",\"type\":\"UnionRenderers\"}},\"id\":\"70412\",\"type\":\"ColumnDataSource\"},{\"attributes\":{\"active_drag\":\"auto\",\"active_inspect\":\"auto\",\"active_multi\":null,\"active_scroll\":\"auto\",\"active_tap\":\"auto\",\"tools\":[{\"id\":\"70399\",\"type\":\"PanTool\"},{\"id\":\"70400\",\"type\":\"WheelZoomTool\"},{\"id\":\"70401\",\"type\":\"BoxZoomTool\"},{\"id\":\"70402\",\"type\":\"SaveTool\"},{\"id\":\"70403\",\"type\":\"ResetTool\"},{\"id\":\"70404\",\"type\":\"HelpTool\"}]},\"id\":\"70405\",\"type\":\"Toolbar\"},{\"attributes\":{},\"id\":\"72447\",\"type\":\"Selection\"},{\"attributes\":{\"num_minor_ticks\":5,\"tickers\":[{\"id\":\"72434\",\"type\":\"AdaptiveTicker\"},{\"id\":\"72435\",\"type\":\"AdaptiveTicker\"},{\"id\":\"72436\",\"type\":\"AdaptiveTicker\"},{\"id\":\"72437\",\"type\":\"DaysTicker\"},{\"id\":\"72438\",\"type\":\"DaysTicker\"},{\"id\":\"72439\",\"type\":\"DaysTicker\"},{\"id\":\"72440\",\"type\":\"DaysTicker\"},{\"id\":\"72441\",\"type\":\"MonthsTicker\"},{\"id\":\"72442\",\"type\":\"MonthsTicker\"},{\"id\":\"72443\",\"type\":\"MonthsTicker\"},{\"id\":\"72444\",\"type\":\"MonthsTicker\"},{\"id\":\"72445\",\"type\":\"YearsTicker\"}]},\"id\":\"70346\",\"type\":\"DatetimeTicker\"},{\"attributes\":{},\"id\":\"70399\",\"type\":\"PanTool\"},{\"attributes\":{},\"id\":\"72448\",\"type\":\"UnionRenderers\"},{\"attributes\":{},\"id\":\"70355\",\"type\":\"PanTool\"},{\"attributes\":{},\"id\":\"70400\",\"type\":\"WheelZoomTool\"},{\"attributes\":{},\"id\":\"72449\",\"type\":\"Selection\"},{\"attributes\":{\"active_drag\":\"auto\",\"active_inspect\":\"auto\",\"active_multi\":null,\"active_scroll\":\"auto\",\"active_tap\":\"auto\",\"tools\":[{\"id\":\"70355\",\"type\":\"PanTool\"},{\"id\":\"70356\",\"type\":\"WheelZoomTool\"},{\"id\":\"70357\",\"type\":\"BoxZoomTool\"},{\"id\":\"70358\",\"type\":\"SaveTool\"},{\"id\":\"70359\",\"type\":\"ResetTool\"},{\"id\":\"70360\",\"type\":\"HelpTool\"}]},\"id\":\"70361\",\"type\":\"Toolbar\"},{\"attributes\":{\"overlay\":{\"id\":\"72463\",\"type\":\"BoxAnnotation\"}},\"id\":\"70401\",\"type\":\"BoxZoomTool\"},{\"attributes\":{},\"id\":\"70360\",\"type\":\"HelpTool\"},{\"attributes\":{},\"id\":\"72450\",\"type\":\"UnionRenderers\"},{\"attributes\":{},\"id\":\"70402\",\"type\":\"SaveTool\"},{\"attributes\":{},\"id\":\"70358\",\"type\":\"SaveTool\"},{\"attributes\":{\"mantissas\":[1,2,5],\"max_interval\":500.0,\"num_minor_ticks\":0},\"id\":\"72451\",\"type\":\"AdaptiveTicker\"},{\"attributes\":{},\"id\":\"70403\",\"type\":\"ResetTool\"},{\"attributes\":{},\"id\":\"70359\",\"type\":\"ResetTool\"},{\"attributes\":{},\"id\":\"70404\",\"type\":\"HelpTool\"},{\"attributes\":{\"base\":60,\"mantissas\":[1,2,5,10,15,20,30],\"max_interval\":1800000.0,\"min_interval\":1000.0,\"num_minor_ticks\":0},\"id\":\"72452\",\"type\":\"AdaptiveTicker\"},{\"attributes\":{\"overlay\":{\"id\":\"72446\",\"type\":\"BoxAnnotation\"}},\"id\":\"70357\",\"type\":\"BoxZoomTool\"},{\"attributes\":{},\"id\":\"70356\",\"type\":\"WheelZoomTool\"},{\"attributes\":{\"base\":24,\"mantissas\":[1,2,4,6,8,12],\"max_interval\":43200000.0,\"min_interval\":3600000.0,\"num_minor_ticks\":0},\"id\":\"72453\",\"type\":\"AdaptiveTicker\"},{\"attributes\":{\"days\":[1,2,3,4,5,6,7,8,9,10,11,12,13,14,15,16,17,18,19,20,21,22,23,24,25,26,27,28,29,30,31]},\"id\":\"72454\",\"type\":\"DaysTicker\"},{\"attributes\":{\"data_source\":{\"id\":\"70412\",\"type\":\"ColumnDataSource\"},\"glyph\":{\"id\":\"70413\",\"type\":\"Step\"},\"hover_glyph\":null,\"muted_glyph\":null,\"nonselection_glyph\":{\"id\":\"70414\",\"type\":\"Step\"},\"selection_glyph\":null,\"view\":{\"id\":\"70416\",\"type\":\"CDSView\"}},\"id\":\"70415\",\"type\":\"GlyphRenderer\"},{\"attributes\":{\"callback\":null,\"data\":{\"x\":[1546300800000.0,1546301400000.0,1546301700000.0,1546301820000.0],\"y\":[10,20,10,1]},\"selected\":{\"id\":\"72430\",\"type\":\"Selection\"},\"selection_policy\":{\"id\":\"72431\",\"type\":\"UnionRenderers\"}},\"id\":\"70368\",\"type\":\"ColumnDataSource\"},{\"attributes\":{\"source\":{\"id\":\"70412\",\"type\":\"ColumnDataSource\"}},\"id\":\"70416\",\"type\":\"CDSView\"},{\"attributes\":{\"days\":[1,4,7,10,13,16,19,22,25,28]},\"id\":\"72455\",\"type\":\"DaysTicker\"},{\"attributes\":{\"line_color\":{\"value\":\"#1f77b4\"},\"line_dash\":[4,4],\"line_width\":{\"value\":2},\"mode\":\"after\",\"x\":{\"field\":\"x\"},\"y\":{\"field\":\"y\"}},\"id\":\"70369\",\"type\":\"Step\"},{\"attributes\":{\"callback\":null,\"data\":{\"x\":[1546300800000.0,1546301400000.0,1546301700000.0,1546301820000.0],\"y\":[10,20,10,10]},\"selected\":{\"id\":\"72449\",\"type\":\"Selection\"},\"selection_policy\":{\"id\":\"72450\",\"type\":\"UnionRenderers\"}},\"id\":\"70417\",\"type\":\"ColumnDataSource\"},{\"attributes\":{\"days\":[1,8,15,22]},\"id\":\"72456\",\"type\":\"DaysTicker\"},{\"attributes\":{\"line_alpha\":{\"value\":0.1},\"line_color\":{\"value\":\"#1f77b4\"},\"line_dash\":[4,4],\"line_width\":{\"value\":2},\"mode\":\"after\",\"x\":{\"field\":\"x\"},\"y\":{\"field\":\"y\"}},\"id\":\"70370\",\"type\":\"Step\"},{\"attributes\":{\"fill_color\":{\"value\":\"red\"},\"line_color\":{\"value\":\"#1f77b4\"},\"size\":{\"units\":\"screen\",\"value\":6},\"x\":{\"field\":\"x\"},\"y\":{\"field\":\"y\"}},\"id\":\"70418\",\"type\":\"Circle\"},{\"attributes\":{\"days\":[1,15]},\"id\":\"72457\",\"type\":\"DaysTicker\"},{\"attributes\":{\"data_source\":{\"id\":\"70417\",\"type\":\"ColumnDataSource\"},\"glyph\":{\"id\":\"70418\",\"type\":\"Circle\"},\"hover_glyph\":null,\"muted_glyph\":null,\"nonselection_glyph\":{\"id\":\"70419\",\"type\":\"Circle\"},\"selection_glyph\":null,\"view\":{\"id\":\"70421\",\"type\":\"CDSView\"}},\"id\":\"70420\",\"type\":\"GlyphRenderer\"},{\"attributes\":{\"dimension\":1,\"ticker\":{\"id\":\"70351\",\"type\":\"BasicTicker\"}},\"id\":\"70354\",\"type\":\"Grid\"},{\"attributes\":{\"months\":[0,1,2,3,4,5,6,7,8,9,10,11]},\"id\":\"72458\",\"type\":\"MonthsTicker\"},{\"attributes\":{},\"id\":\"70351\",\"type\":\"BasicTicker\"},{\"attributes\":{\"source\":{\"id\":\"70417\",\"type\":\"ColumnDataSource\"}},\"id\":\"70421\",\"type\":\"CDSView\"},{\"attributes\":{\"months\":[0,2,4,6,8,10]},\"id\":\"72459\",\"type\":\"MonthsTicker\"},{\"attributes\":{\"months\":[0,4,8]},\"id\":\"72460\",\"type\":\"MonthsTicker\"},{\"attributes\":{\"axis_label\":\"IoT sensor\",\"formatter\":{\"id\":\"72425\",\"type\":\"BasicTickFormatter\"},\"ticker\":{\"id\":\"70351\",\"type\":\"BasicTicker\"}},\"id\":\"70350\",\"type\":\"LinearAxis\"},{\"attributes\":{},\"id\":\"72423\",\"type\":\"DatetimeTickFormatter\"},{\"attributes\":{\"months\":[0,6]},\"id\":\"72461\",\"type\":\"MonthsTicker\"},{\"attributes\":{\"ticker\":{\"id\":\"70346\",\"type\":\"DatetimeTicker\"}},\"id\":\"70349\",\"type\":\"Grid\"},{\"attributes\":{},\"id\":\"72462\",\"type\":\"YearsTicker\"},{\"attributes\":{},\"id\":\"72425\",\"type\":\"BasicTickFormatter\"},{\"attributes\":{\"fill_alpha\":{\"value\":0.1},\"fill_color\":{\"value\":\"#1f77b4\"},\"line_alpha\":{\"value\":0.1},\"line_color\":{\"value\":\"#1f77b4\"},\"size\":{\"units\":\"screen\",\"value\":6},\"x\":{\"field\":\"x\"},\"y\":{\"field\":\"y\"}},\"id\":\"70419\",\"type\":\"Circle\"},{\"attributes\":{},\"id\":\"72427\",\"type\":\"DatetimeTickFormatter\"},{\"attributes\":{\"bottom_units\":\"screen\",\"fill_alpha\":{\"value\":0.5},\"fill_color\":{\"value\":\"lightgrey\"},\"left_units\":\"screen\",\"level\":\"overlay\",\"line_alpha\":{\"value\":1.0},\"line_color\":{\"value\":\"black\"},\"line_dash\":[4,4],\"line_width\":{\"value\":2},\"render_mode\":\"css\",\"right_units\":\"screen\",\"top_units\":\"screen\"},\"id\":\"72463\",\"type\":\"BoxAnnotation\"},{\"attributes\":{\"callback\":null,\"data\":{\"x\":[1546300800000.0,1546301400000.0,1546301700000.0,1546301820000.0],\"y\":[10,20,10,1]},\"selected\":{\"id\":\"72432\",\"type\":\"Selection\"},\"selection_policy\":{\"id\":\"72433\",\"type\":\"UnionRenderers\"}},\"id\":\"70373\",\"type\":\"ColumnDataSource\"},{\"attributes\":{\"source\":{\"id\":\"70368\",\"type\":\"ColumnDataSource\"}},\"id\":\"70372\",\"type\":\"CDSView\"},{\"attributes\":{},\"id\":\"72429\",\"type\":\"BasicTickFormatter\"},{\"attributes\":{\"data_source\":{\"id\":\"70368\",\"type\":\"ColumnDataSource\"},\"glyph\":{\"id\":\"70369\",\"type\":\"Step\"},\"hover_glyph\":null,\"muted_glyph\":null,\"nonselection_glyph\":{\"id\":\"70370\",\"type\":\"Step\"},\"selection_glyph\":null,\"view\":{\"id\":\"70372\",\"type\":\"CDSView\"}},\"id\":\"70371\",\"type\":\"GlyphRenderer\"},{\"attributes\":{},\"id\":\"72430\",\"type\":\"Selection\"},{\"attributes\":{},\"id\":\"72431\",\"type\":\"UnionRenderers\"},{\"attributes\":{\"data_source\":{\"id\":\"70373\",\"type\":\"ColumnDataSource\"},\"glyph\":{\"id\":\"70374\",\"type\":\"Circle\"},\"hover_glyph\":null,\"muted_glyph\":null,\"nonselection_glyph\":{\"id\":\"70375\",\"type\":\"Circle\"},\"selection_glyph\":null,\"view\":{\"id\":\"70377\",\"type\":\"CDSView\"}},\"id\":\"70376\",\"type\":\"GlyphRenderer\"},{\"attributes\":{\"source\":{\"id\":\"70373\",\"type\":\"ColumnDataSource\"}},\"id\":\"70377\",\"type\":\"CDSView\"}],\"root_ids\":[\"70422\"]},\"title\":\"Bokeh Application\",\"version\":\"1.2.0\"}};\n",
       "  var render_items = [{\"docid\":\"0376019f-8d5d-4fdb-b672-4fba4ee3990d\",\"roots\":{\"70422\":\"b723fbd3-6225-4e8c-854f-a1c2599a4efe\"}}];\n",
       "  root.Bokeh.embed.embed_items_notebook(docs_json, render_items);\n",
       "\n",
       "  }\n",
       "  if (root.Bokeh !== undefined) {\n",
       "    embed_document(root);\n",
       "  } else {\n",
       "    var attempts = 0;\n",
       "    var timer = setInterval(function(root) {\n",
       "      if (root.Bokeh !== undefined) {\n",
       "        embed_document(root);\n",
       "        clearInterval(timer);\n",
       "      }\n",
       "      attempts++;\n",
       "      if (attempts > 100) {\n",
       "        console.log(\"Bokeh: ERROR: Unable to run BokehJS code because BokehJS library is missing\");\n",
       "        clearInterval(timer);\n",
       "      }\n",
       "    }, 10, root)\n",
       "  }\n",
       "})(window);"
      ],
      "application/vnd.bokehjs_exec.v0+json": ""
     },
     "metadata": {
      "application/vnd.bokehjs_exec.v0+json": {
       "id": "70422"
      }
     },
     "output_type": "display_data"
    },
    {
     "data": {
      "text/html": [
       "\n",
       "\n",
       "\n",
       "\n",
       "\n",
       "\n",
       "  <div class=\"bk-root\" id=\"defcc6b6-a63b-4339-97e3-58e4578b1abc\" data-root-id=\"72860\"></div>\n"
      ]
     },
     "metadata": {},
     "output_type": "display_data"
    },
    {
     "data": {
      "application/javascript": [
       "(function(root) {\n",
       "  function embed_document(root) {\n",
       "    \n",
       "  var docs_json = {\"d06c2402-2e24-4b7e-a08f-a83f91e04ac0\":{\"roots\":{\"references\":[{\"attributes\":{\"children\":[{\"id\":\"72728\",\"subtype\":\"Figure\",\"type\":\"Plot\"},{\"id\":\"72772\",\"subtype\":\"Figure\",\"type\":\"Plot\"},{\"id\":\"72816\",\"subtype\":\"Figure\",\"type\":\"Plot\"}]},\"id\":\"72860\",\"type\":\"Row\"},{\"attributes\":{\"callback\":null},\"id\":\"72731\",\"type\":\"DataRange1d\"},{\"attributes\":{},\"id\":\"72838\",\"type\":\"WheelZoomTool\"},{\"attributes\":{\"callback\":null},\"id\":\"72733\",\"type\":\"DataRange1d\"},{\"attributes\":{\"overlay\":{\"id\":\"74967\",\"type\":\"BoxAnnotation\"}},\"id\":\"72839\",\"type\":\"BoxZoomTool\"},{\"attributes\":{},\"id\":\"72735\",\"type\":\"LinearScale\"},{\"attributes\":{\"below\":[{\"id\":\"72739\",\"type\":\"DatetimeAxis\"}],\"center\":[{\"id\":\"72743\",\"type\":\"Grid\"},{\"id\":\"72748\",\"type\":\"Grid\"}],\"left\":[{\"id\":\"72744\",\"type\":\"LinearAxis\"}],\"plot_height\":250,\"plot_width\":400,\"renderers\":[{\"id\":\"72765\",\"type\":\"GlyphRenderer\"},{\"id\":\"72770\",\"type\":\"GlyphRenderer\"}],\"title\":{\"id\":\"72729\",\"type\":\"Title\"},\"toolbar\":{\"id\":\"72755\",\"type\":\"Toolbar\"},\"x_range\":{\"id\":\"72731\",\"type\":\"DataRange1d\"},\"x_scale\":{\"id\":\"72735\",\"type\":\"LinearScale\"},\"y_range\":{\"id\":\"72733\",\"type\":\"DataRange1d\"},\"y_scale\":{\"id\":\"72737\",\"type\":\"LinearScale\"}},\"id\":\"72728\",\"subtype\":\"Figure\",\"type\":\"Plot\"},{\"attributes\":{},\"id\":\"72840\",\"type\":\"SaveTool\"},{\"attributes\":{},\"id\":\"72737\",\"type\":\"LinearScale\"},{\"attributes\":{},\"id\":\"72841\",\"type\":\"ResetTool\"},{\"attributes\":{\"axis_label\":\"timestamp\",\"formatter\":{\"id\":\"74906\",\"type\":\"DatetimeTickFormatter\"},\"ticker\":{\"id\":\"72740\",\"type\":\"DatetimeTicker\"}},\"id\":\"72739\",\"type\":\"DatetimeAxis\"},{\"attributes\":{},\"id\":\"72842\",\"type\":\"HelpTool\"},{\"attributes\":{\"num_minor_ticks\":5,\"tickers\":[{\"id\":\"74921\",\"type\":\"AdaptiveTicker\"},{\"id\":\"74922\",\"type\":\"AdaptiveTicker\"},{\"id\":\"74923\",\"type\":\"AdaptiveTicker\"},{\"id\":\"74924\",\"type\":\"DaysTicker\"},{\"id\":\"74925\",\"type\":\"DaysTicker\"},{\"id\":\"74926\",\"type\":\"DaysTicker\"},{\"id\":\"74927\",\"type\":\"DaysTicker\"},{\"id\":\"74928\",\"type\":\"MonthsTicker\"},{\"id\":\"74929\",\"type\":\"MonthsTicker\"},{\"id\":\"74930\",\"type\":\"MonthsTicker\"},{\"id\":\"74931\",\"type\":\"MonthsTicker\"},{\"id\":\"74932\",\"type\":\"YearsTicker\"}]},\"id\":\"72740\",\"type\":\"DatetimeTicker\"},{\"attributes\":{\"ticker\":{\"id\":\"72740\",\"type\":\"DatetimeTicker\"}},\"id\":\"72743\",\"type\":\"Grid\"},{\"attributes\":{\"active_drag\":\"auto\",\"active_inspect\":\"auto\",\"active_multi\":null,\"active_scroll\":\"auto\",\"active_tap\":\"auto\",\"tools\":[{\"id\":\"72837\",\"type\":\"PanTool\"},{\"id\":\"72838\",\"type\":\"WheelZoomTool\"},{\"id\":\"72839\",\"type\":\"BoxZoomTool\"},{\"id\":\"72840\",\"type\":\"SaveTool\"},{\"id\":\"72841\",\"type\":\"ResetTool\"},{\"id\":\"72842\",\"type\":\"HelpTool\"}]},\"id\":\"72843\",\"type\":\"Toolbar\"},{\"attributes\":{\"axis_label\":\"IoT sensor\",\"formatter\":{\"id\":\"74908\",\"type\":\"BasicTickFormatter\"},\"ticker\":{\"id\":\"72745\",\"type\":\"BasicTicker\"}},\"id\":\"72744\",\"type\":\"LinearAxis\"},{\"attributes\":{\"data_source\":{\"id\":\"72850\",\"type\":\"ColumnDataSource\"},\"glyph\":{\"id\":\"72851\",\"type\":\"Step\"},\"hover_glyph\":null,\"muted_glyph\":null,\"nonselection_glyph\":{\"id\":\"72852\",\"type\":\"Step\"},\"selection_glyph\":null,\"view\":{\"id\":\"72854\",\"type\":\"CDSView\"}},\"id\":\"72853\",\"type\":\"GlyphRenderer\"},{\"attributes\":{\"source\":{\"id\":\"72850\",\"type\":\"ColumnDataSource\"}},\"id\":\"72854\",\"type\":\"CDSView\"},{\"attributes\":{},\"id\":\"72745\",\"type\":\"BasicTicker\"},{\"attributes\":{\"callback\":null,\"data\":{\"x\":[1546300800000.0,1546301220000.0,1546301400000.0,1546301520000.0,1546301700000.0,1546301820000.0],\"y\":[10,10,20,20,14,14]},\"selected\":{\"id\":\"74953\",\"type\":\"Selection\"},\"selection_policy\":{\"id\":\"74954\",\"type\":\"UnionRenderers\"}},\"id\":\"72855\",\"type\":\"ColumnDataSource\"},{\"attributes\":{\"dimension\":1,\"ticker\":{\"id\":\"72745\",\"type\":\"BasicTicker\"}},\"id\":\"72748\",\"type\":\"Grid\"},{\"attributes\":{\"fill_color\":{\"value\":\"red\"},\"line_color\":{\"value\":\"#1f77b4\"},\"size\":{\"units\":\"screen\",\"value\":6},\"x\":{\"field\":\"x\"},\"y\":{\"field\":\"y\"}},\"id\":\"72856\",\"type\":\"Circle\"},{\"attributes\":{\"fill_alpha\":{\"value\":0.1},\"fill_color\":{\"value\":\"#1f77b4\"},\"line_alpha\":{\"value\":0.1},\"line_color\":{\"value\":\"#1f77b4\"},\"size\":{\"units\":\"screen\",\"value\":6},\"x\":{\"field\":\"x\"},\"y\":{\"field\":\"y\"}},\"id\":\"72857\",\"type\":\"Circle\"},{\"attributes\":{\"line_alpha\":{\"value\":0.1},\"line_color\":{\"value\":\"#1f77b4\"},\"line_dash\":[4,4],\"line_width\":{\"value\":2},\"mode\":\"after\",\"x\":{\"field\":\"x\"},\"y\":{\"field\":\"y\"}},\"id\":\"72764\",\"type\":\"Step\"},{\"attributes\":{\"line_color\":{\"value\":\"#1f77b4\"},\"line_dash\":[4,4],\"line_width\":{\"value\":2},\"mode\":\"after\",\"x\":{\"field\":\"x\"},\"y\":{\"field\":\"y\"}},\"id\":\"72763\",\"type\":\"Step\"},{\"attributes\":{\"data_source\":{\"id\":\"72855\",\"type\":\"ColumnDataSource\"},\"glyph\":{\"id\":\"72856\",\"type\":\"Circle\"},\"hover_glyph\":null,\"muted_glyph\":null,\"nonselection_glyph\":{\"id\":\"72857\",\"type\":\"Circle\"},\"selection_glyph\":null,\"view\":{\"id\":\"72859\",\"type\":\"CDSView\"}},\"id\":\"72858\",\"type\":\"GlyphRenderer\"},{\"attributes\":{\"active_drag\":\"auto\",\"active_inspect\":\"auto\",\"active_multi\":null,\"active_scroll\":\"auto\",\"active_tap\":\"auto\",\"tools\":[{\"id\":\"72749\",\"type\":\"PanTool\"},{\"id\":\"72750\",\"type\":\"WheelZoomTool\"},{\"id\":\"72751\",\"type\":\"BoxZoomTool\"},{\"id\":\"72752\",\"type\":\"SaveTool\"},{\"id\":\"72753\",\"type\":\"ResetTool\"},{\"id\":\"72754\",\"type\":\"HelpTool\"}]},\"id\":\"72755\",\"type\":\"Toolbar\"},{\"attributes\":{},\"id\":\"72749\",\"type\":\"PanTool\"},{\"attributes\":{\"source\":{\"id\":\"72855\",\"type\":\"ColumnDataSource\"}},\"id\":\"72859\",\"type\":\"CDSView\"},{\"attributes\":{},\"id\":\"72750\",\"type\":\"WheelZoomTool\"},{\"attributes\":{},\"id\":\"74906\",\"type\":\"DatetimeTickFormatter\"},{\"attributes\":{\"overlay\":{\"id\":\"74933\",\"type\":\"BoxAnnotation\"}},\"id\":\"72751\",\"type\":\"BoxZoomTool\"},{\"attributes\":{},\"id\":\"72752\",\"type\":\"SaveTool\"},{\"attributes\":{},\"id\":\"74908\",\"type\":\"BasicTickFormatter\"},{\"attributes\":{},\"id\":\"74910\",\"type\":\"DatetimeTickFormatter\"},{\"attributes\":{},\"id\":\"72753\",\"type\":\"ResetTool\"},{\"attributes\":{},\"id\":\"74912\",\"type\":\"BasicTickFormatter\"},{\"attributes\":{},\"id\":\"72754\",\"type\":\"HelpTool\"},{\"attributes\":{},\"id\":\"74914\",\"type\":\"DatetimeTickFormatter\"},{\"attributes\":{},\"id\":\"74916\",\"type\":\"BasicTickFormatter\"},{\"attributes\":{\"data_source\":{\"id\":\"72762\",\"type\":\"ColumnDataSource\"},\"glyph\":{\"id\":\"72763\",\"type\":\"Step\"},\"hover_glyph\":null,\"muted_glyph\":null,\"nonselection_glyph\":{\"id\":\"72764\",\"type\":\"Step\"},\"selection_glyph\":null,\"view\":{\"id\":\"72766\",\"type\":\"CDSView\"}},\"id\":\"72765\",\"type\":\"GlyphRenderer\"},{\"attributes\":{\"text\":\"ts1\"},\"id\":\"72729\",\"type\":\"Title\"},{\"attributes\":{\"callback\":null},\"id\":\"72775\",\"type\":\"DataRange1d\"},{\"attributes\":{\"source\":{\"id\":\"72762\",\"type\":\"ColumnDataSource\"}},\"id\":\"72766\",\"type\":\"CDSView\"},{\"attributes\":{},\"id\":\"74917\",\"type\":\"Selection\"},{\"attributes\":{\"callback\":null,\"data\":{\"x\":[1546300800000.0,1546301400000.0,1546301700000.0,1546301820000.0],\"y\":[10,20,10,1]},\"selected\":{\"id\":\"74919\",\"type\":\"Selection\"},\"selection_policy\":{\"id\":\"74920\",\"type\":\"UnionRenderers\"}},\"id\":\"72767\",\"type\":\"ColumnDataSource\"},{\"attributes\":{},\"id\":\"74918\",\"type\":\"UnionRenderers\"},{\"attributes\":{\"fill_color\":{\"value\":\"red\"},\"line_color\":{\"value\":\"#1f77b4\"},\"size\":{\"units\":\"screen\",\"value\":6},\"x\":{\"field\":\"x\"},\"y\":{\"field\":\"y\"}},\"id\":\"72768\",\"type\":\"Circle\"},{\"attributes\":{},\"id\":\"74919\",\"type\":\"Selection\"},{\"attributes\":{\"fill_alpha\":{\"value\":0.1},\"fill_color\":{\"value\":\"#1f77b4\"},\"line_alpha\":{\"value\":0.1},\"line_color\":{\"value\":\"#1f77b4\"},\"size\":{\"units\":\"screen\",\"value\":6},\"x\":{\"field\":\"x\"},\"y\":{\"field\":\"y\"}},\"id\":\"72769\",\"type\":\"Circle\"},{\"attributes\":{},\"id\":\"74920\",\"type\":\"UnionRenderers\"},{\"attributes\":{\"data_source\":{\"id\":\"72767\",\"type\":\"ColumnDataSource\"},\"glyph\":{\"id\":\"72768\",\"type\":\"Circle\"},\"hover_glyph\":null,\"muted_glyph\":null,\"nonselection_glyph\":{\"id\":\"72769\",\"type\":\"Circle\"},\"selection_glyph\":null,\"view\":{\"id\":\"72771\",\"type\":\"CDSView\"}},\"id\":\"72770\",\"type\":\"GlyphRenderer\"},{\"attributes\":{\"mantissas\":[1,2,5],\"max_interval\":500.0,\"num_minor_ticks\":0},\"id\":\"74921\",\"type\":\"AdaptiveTicker\"},{\"attributes\":{\"source\":{\"id\":\"72767\",\"type\":\"ColumnDataSource\"}},\"id\":\"72771\",\"type\":\"CDSView\"},{\"attributes\":{\"base\":60,\"mantissas\":[1,2,5,10,15,20,30],\"max_interval\":1800000.0,\"min_interval\":1000.0,\"num_minor_ticks\":0},\"id\":\"74922\",\"type\":\"AdaptiveTicker\"},{\"attributes\":{\"below\":[{\"id\":\"72783\",\"type\":\"DatetimeAxis\"}],\"center\":[{\"id\":\"72787\",\"type\":\"Grid\"},{\"id\":\"72792\",\"type\":\"Grid\"}],\"left\":[{\"id\":\"72788\",\"type\":\"LinearAxis\"}],\"plot_height\":250,\"plot_width\":400,\"renderers\":[{\"id\":\"72809\",\"type\":\"GlyphRenderer\"},{\"id\":\"72814\",\"type\":\"GlyphRenderer\"}],\"title\":{\"id\":\"72773\",\"type\":\"Title\"},\"toolbar\":{\"id\":\"72799\",\"type\":\"Toolbar\"},\"x_range\":{\"id\":\"72775\",\"type\":\"DataRange1d\"},\"x_scale\":{\"id\":\"72779\",\"type\":\"LinearScale\"},\"y_range\":{\"id\":\"72777\",\"type\":\"DataRange1d\"},\"y_scale\":{\"id\":\"72781\",\"type\":\"LinearScale\"}},\"id\":\"72772\",\"subtype\":\"Figure\",\"type\":\"Plot\"},{\"attributes\":{\"base\":24,\"mantissas\":[1,2,4,6,8,12],\"max_interval\":43200000.0,\"min_interval\":3600000.0,\"num_minor_ticks\":0},\"id\":\"74923\",\"type\":\"AdaptiveTicker\"},{\"attributes\":{\"callback\":null,\"data\":{\"x\":[1546301220000.0,1546301400000.0,1546301520000.0],\"y\":[-1,5,14]},\"selected\":{\"id\":\"74934\",\"type\":\"Selection\"},\"selection_policy\":{\"id\":\"74935\",\"type\":\"UnionRenderers\"}},\"id\":\"72806\",\"type\":\"ColumnDataSource\"},{\"attributes\":{\"days\":[1,2,3,4,5,6,7,8,9,10,11,12,13,14,15,16,17,18,19,20,21,22,23,24,25,26,27,28,29,30,31]},\"id\":\"74924\",\"type\":\"DaysTicker\"},{\"attributes\":{\"text\":\"ts2\"},\"id\":\"72773\",\"type\":\"Title\"},{\"attributes\":{\"days\":[1,4,7,10,13,16,19,22,25,28]},\"id\":\"74925\",\"type\":\"DaysTicker\"},{\"attributes\":{\"text\":\"ts3\"},\"id\":\"72817\",\"type\":\"Title\"},{\"attributes\":{\"days\":[1,8,15,22]},\"id\":\"74926\",\"type\":\"DaysTicker\"},{\"attributes\":{\"callback\":null},\"id\":\"72777\",\"type\":\"DataRange1d\"},{\"attributes\":{\"days\":[1,15]},\"id\":\"74927\",\"type\":\"DaysTicker\"},{\"attributes\":{},\"id\":\"72779\",\"type\":\"LinearScale\"},{\"attributes\":{\"months\":[0,1,2,3,4,5,6,7,8,9,10,11]},\"id\":\"74928\",\"type\":\"MonthsTicker\"},{\"attributes\":{},\"id\":\"72781\",\"type\":\"LinearScale\"},{\"attributes\":{\"months\":[0,2,4,6,8,10]},\"id\":\"74929\",\"type\":\"MonthsTicker\"},{\"attributes\":{\"axis_label\":\"timestamp\",\"formatter\":{\"id\":\"74910\",\"type\":\"DatetimeTickFormatter\"},\"ticker\":{\"id\":\"72784\",\"type\":\"DatetimeTicker\"}},\"id\":\"72783\",\"type\":\"DatetimeAxis\"},{\"attributes\":{\"months\":[0,4,8]},\"id\":\"74930\",\"type\":\"MonthsTicker\"},{\"attributes\":{\"num_minor_ticks\":5,\"tickers\":[{\"id\":\"74938\",\"type\":\"AdaptiveTicker\"},{\"id\":\"74939\",\"type\":\"AdaptiveTicker\"},{\"id\":\"74940\",\"type\":\"AdaptiveTicker\"},{\"id\":\"74941\",\"type\":\"DaysTicker\"},{\"id\":\"74942\",\"type\":\"DaysTicker\"},{\"id\":\"74943\",\"type\":\"DaysTicker\"},{\"id\":\"74944\",\"type\":\"DaysTicker\"},{\"id\":\"74945\",\"type\":\"MonthsTicker\"},{\"id\":\"74946\",\"type\":\"MonthsTicker\"},{\"id\":\"74947\",\"type\":\"MonthsTicker\"},{\"id\":\"74948\",\"type\":\"MonthsTicker\"},{\"id\":\"74949\",\"type\":\"YearsTicker\"}]},\"id\":\"72784\",\"type\":\"DatetimeTicker\"},{\"attributes\":{\"months\":[0,6]},\"id\":\"74931\",\"type\":\"MonthsTicker\"},{\"attributes\":{\"ticker\":{\"id\":\"72784\",\"type\":\"DatetimeTicker\"}},\"id\":\"72787\",\"type\":\"Grid\"},{\"attributes\":{},\"id\":\"74932\",\"type\":\"YearsTicker\"},{\"attributes\":{\"bottom_units\":\"screen\",\"fill_alpha\":{\"value\":0.5},\"fill_color\":{\"value\":\"lightgrey\"},\"left_units\":\"screen\",\"level\":\"overlay\",\"line_alpha\":{\"value\":1.0},\"line_color\":{\"value\":\"black\"},\"line_dash\":[4,4],\"line_width\":{\"value\":2},\"render_mode\":\"css\",\"right_units\":\"screen\",\"top_units\":\"screen\"},\"id\":\"74967\",\"type\":\"BoxAnnotation\"},{\"attributes\":{\"axis_label\":\"IoT sensor\",\"formatter\":{\"id\":\"74912\",\"type\":\"BasicTickFormatter\"},\"ticker\":{\"id\":\"72789\",\"type\":\"BasicTicker\"}},\"id\":\"72788\",\"type\":\"LinearAxis\"},{\"attributes\":{\"bottom_units\":\"screen\",\"fill_alpha\":{\"value\":0.5},\"fill_color\":{\"value\":\"lightgrey\"},\"left_units\":\"screen\",\"level\":\"overlay\",\"line_alpha\":{\"value\":1.0},\"line_color\":{\"value\":\"black\"},\"line_dash\":[4,4],\"line_width\":{\"value\":2},\"render_mode\":\"css\",\"right_units\":\"screen\",\"top_units\":\"screen\"},\"id\":\"74933\",\"type\":\"BoxAnnotation\"},{\"attributes\":{},\"id\":\"72789\",\"type\":\"BasicTicker\"},{\"attributes\":{},\"id\":\"74934\",\"type\":\"Selection\"},{\"attributes\":{\"dimension\":1,\"ticker\":{\"id\":\"72789\",\"type\":\"BasicTicker\"}},\"id\":\"72792\",\"type\":\"Grid\"},{\"attributes\":{},\"id\":\"74935\",\"type\":\"UnionRenderers\"},{\"attributes\":{\"line_alpha\":{\"value\":0.1},\"line_color\":{\"value\":\"#1f77b4\"},\"line_dash\":[4,4],\"line_width\":{\"value\":2},\"mode\":\"after\",\"x\":{\"field\":\"x\"},\"y\":{\"field\":\"y\"}},\"id\":\"72808\",\"type\":\"Step\"},{\"attributes\":{},\"id\":\"74936\",\"type\":\"Selection\"},{\"attributes\":{\"line_color\":{\"value\":\"#1f77b4\"},\"line_dash\":[4,4],\"line_width\":{\"value\":2},\"mode\":\"after\",\"x\":{\"field\":\"x\"},\"y\":{\"field\":\"y\"}},\"id\":\"72807\",\"type\":\"Step\"},{\"attributes\":{},\"id\":\"74937\",\"type\":\"UnionRenderers\"},{\"attributes\":{\"active_drag\":\"auto\",\"active_inspect\":\"auto\",\"active_multi\":null,\"active_scroll\":\"auto\",\"active_tap\":\"auto\",\"tools\":[{\"id\":\"72793\",\"type\":\"PanTool\"},{\"id\":\"72794\",\"type\":\"WheelZoomTool\"},{\"id\":\"72795\",\"type\":\"BoxZoomTool\"},{\"id\":\"72796\",\"type\":\"SaveTool\"},{\"id\":\"72797\",\"type\":\"ResetTool\"},{\"id\":\"72798\",\"type\":\"HelpTool\"}]},\"id\":\"72799\",\"type\":\"Toolbar\"},{\"attributes\":{},\"id\":\"72793\",\"type\":\"PanTool\"},{\"attributes\":{\"mantissas\":[1,2,5],\"max_interval\":500.0,\"num_minor_ticks\":0},\"id\":\"74938\",\"type\":\"AdaptiveTicker\"},{\"attributes\":{},\"id\":\"72794\",\"type\":\"WheelZoomTool\"},{\"attributes\":{\"base\":60,\"mantissas\":[1,2,5,10,15,20,30],\"max_interval\":1800000.0,\"min_interval\":1000.0,\"num_minor_ticks\":0},\"id\":\"74939\",\"type\":\"AdaptiveTicker\"},{\"attributes\":{\"overlay\":{\"id\":\"74950\",\"type\":\"BoxAnnotation\"}},\"id\":\"72795\",\"type\":\"BoxZoomTool\"},{\"attributes\":{\"callback\":null,\"data\":{\"x\":[1546300800000.0,1546301400000.0,1546301700000.0,1546301820000.0],\"y\":[10,20,10,1]},\"selected\":{\"id\":\"74917\",\"type\":\"Selection\"},\"selection_policy\":{\"id\":\"74918\",\"type\":\"UnionRenderers\"}},\"id\":\"72762\",\"type\":\"ColumnDataSource\"},{\"attributes\":{\"base\":24,\"mantissas\":[1,2,4,6,8,12],\"max_interval\":43200000.0,\"min_interval\":3600000.0,\"num_minor_ticks\":0},\"id\":\"74940\",\"type\":\"AdaptiveTicker\"},{\"attributes\":{},\"id\":\"72796\",\"type\":\"SaveTool\"},{\"attributes\":{\"days\":[1,2,3,4,5,6,7,8,9,10,11,12,13,14,15,16,17,18,19,20,21,22,23,24,25,26,27,28,29,30,31]},\"id\":\"74941\",\"type\":\"DaysTicker\"},{\"attributes\":{},\"id\":\"72797\",\"type\":\"ResetTool\"},{\"attributes\":{\"days\":[1,4,7,10,13,16,19,22,25,28]},\"id\":\"74942\",\"type\":\"DaysTicker\"},{\"attributes\":{},\"id\":\"72798\",\"type\":\"HelpTool\"},{\"attributes\":{\"days\":[1,8,15,22]},\"id\":\"74943\",\"type\":\"DaysTicker\"},{\"attributes\":{\"days\":[1,15]},\"id\":\"74944\",\"type\":\"DaysTicker\"},{\"attributes\":{\"data_source\":{\"id\":\"72806\",\"type\":\"ColumnDataSource\"},\"glyph\":{\"id\":\"72807\",\"type\":\"Step\"},\"hover_glyph\":null,\"muted_glyph\":null,\"nonselection_glyph\":{\"id\":\"72808\",\"type\":\"Step\"},\"selection_glyph\":null,\"view\":{\"id\":\"72810\",\"type\":\"CDSView\"}},\"id\":\"72809\",\"type\":\"GlyphRenderer\"},{\"attributes\":{\"months\":[0,1,2,3,4,5,6,7,8,9,10,11]},\"id\":\"74945\",\"type\":\"MonthsTicker\"},{\"attributes\":{\"source\":{\"id\":\"72806\",\"type\":\"ColumnDataSource\"}},\"id\":\"72810\",\"type\":\"CDSView\"},{\"attributes\":{\"months\":[0,2,4,6,8,10]},\"id\":\"74946\",\"type\":\"MonthsTicker\"},{\"attributes\":{\"callback\":null,\"data\":{\"x\":[1546301220000.0,1546301400000.0,1546301520000.0],\"y\":[-1,5,14]},\"selected\":{\"id\":\"74936\",\"type\":\"Selection\"},\"selection_policy\":{\"id\":\"74937\",\"type\":\"UnionRenderers\"}},\"id\":\"72811\",\"type\":\"ColumnDataSource\"},{\"attributes\":{\"months\":[0,4,8]},\"id\":\"74947\",\"type\":\"MonthsTicker\"},{\"attributes\":{\"fill_color\":{\"value\":\"red\"},\"line_color\":{\"value\":\"#1f77b4\"},\"size\":{\"units\":\"screen\",\"value\":6},\"x\":{\"field\":\"x\"},\"y\":{\"field\":\"y\"}},\"id\":\"72812\",\"type\":\"Circle\"},{\"attributes\":{\"fill_alpha\":{\"value\":0.1},\"fill_color\":{\"value\":\"#1f77b4\"},\"line_alpha\":{\"value\":0.1},\"line_color\":{\"value\":\"#1f77b4\"},\"size\":{\"units\":\"screen\",\"value\":6},\"x\":{\"field\":\"x\"},\"y\":{\"field\":\"y\"}},\"id\":\"72813\",\"type\":\"Circle\"},{\"attributes\":{\"months\":[0,6]},\"id\":\"74948\",\"type\":\"MonthsTicker\"},{\"attributes\":{},\"id\":\"74949\",\"type\":\"YearsTicker\"},{\"attributes\":{\"data_source\":{\"id\":\"72811\",\"type\":\"ColumnDataSource\"},\"glyph\":{\"id\":\"72812\",\"type\":\"Circle\"},\"hover_glyph\":null,\"muted_glyph\":null,\"nonselection_glyph\":{\"id\":\"72813\",\"type\":\"Circle\"},\"selection_glyph\":null,\"view\":{\"id\":\"72815\",\"type\":\"CDSView\"}},\"id\":\"72814\",\"type\":\"GlyphRenderer\"},{\"attributes\":{\"bottom_units\":\"screen\",\"fill_alpha\":{\"value\":0.5},\"fill_color\":{\"value\":\"lightgrey\"},\"left_units\":\"screen\",\"level\":\"overlay\",\"line_alpha\":{\"value\":1.0},\"line_color\":{\"value\":\"black\"},\"line_dash\":[4,4],\"line_width\":{\"value\":2},\"render_mode\":\"css\",\"right_units\":\"screen\",\"top_units\":\"screen\"},\"id\":\"74950\",\"type\":\"BoxAnnotation\"},{\"attributes\":{\"source\":{\"id\":\"72811\",\"type\":\"ColumnDataSource\"}},\"id\":\"72815\",\"type\":\"CDSView\"},{\"attributes\":{},\"id\":\"74951\",\"type\":\"Selection\"},{\"attributes\":{\"below\":[{\"id\":\"72827\",\"type\":\"DatetimeAxis\"}],\"center\":[{\"id\":\"72831\",\"type\":\"Grid\"},{\"id\":\"72836\",\"type\":\"Grid\"}],\"left\":[{\"id\":\"72832\",\"type\":\"LinearAxis\"}],\"plot_height\":250,\"plot_width\":400,\"renderers\":[{\"id\":\"72853\",\"type\":\"GlyphRenderer\"},{\"id\":\"72858\",\"type\":\"GlyphRenderer\"}],\"title\":{\"id\":\"72817\",\"type\":\"Title\"},\"toolbar\":{\"id\":\"72843\",\"type\":\"Toolbar\"},\"x_range\":{\"id\":\"72819\",\"type\":\"DataRange1d\"},\"x_scale\":{\"id\":\"72823\",\"type\":\"LinearScale\"},\"y_range\":{\"id\":\"72821\",\"type\":\"DataRange1d\"},\"y_scale\":{\"id\":\"72825\",\"type\":\"LinearScale\"}},\"id\":\"72816\",\"subtype\":\"Figure\",\"type\":\"Plot\"},{\"attributes\":{},\"id\":\"74952\",\"type\":\"UnionRenderers\"},{\"attributes\":{},\"id\":\"74953\",\"type\":\"Selection\"},{\"attributes\":{},\"id\":\"74954\",\"type\":\"UnionRenderers\"},{\"attributes\":{\"callback\":null},\"id\":\"72819\",\"type\":\"DataRange1d\"},{\"attributes\":{\"mantissas\":[1,2,5],\"max_interval\":500.0,\"num_minor_ticks\":0},\"id\":\"74955\",\"type\":\"AdaptiveTicker\"},{\"attributes\":{\"callback\":null},\"id\":\"72821\",\"type\":\"DataRange1d\"},{\"attributes\":{},\"id\":\"72823\",\"type\":\"LinearScale\"},{\"attributes\":{\"base\":60,\"mantissas\":[1,2,5,10,15,20,30],\"max_interval\":1800000.0,\"min_interval\":1000.0,\"num_minor_ticks\":0},\"id\":\"74956\",\"type\":\"AdaptiveTicker\"},{\"attributes\":{},\"id\":\"72825\",\"type\":\"LinearScale\"},{\"attributes\":{\"base\":24,\"mantissas\":[1,2,4,6,8,12],\"max_interval\":43200000.0,\"min_interval\":3600000.0,\"num_minor_ticks\":0},\"id\":\"74957\",\"type\":\"AdaptiveTicker\"},{\"attributes\":{\"axis_label\":\"timestamp\",\"formatter\":{\"id\":\"74914\",\"type\":\"DatetimeTickFormatter\"},\"ticker\":{\"id\":\"72828\",\"type\":\"DatetimeTicker\"}},\"id\":\"72827\",\"type\":\"DatetimeAxis\"},{\"attributes\":{\"days\":[1,2,3,4,5,6,7,8,9,10,11,12,13,14,15,16,17,18,19,20,21,22,23,24,25,26,27,28,29,30,31]},\"id\":\"74958\",\"type\":\"DaysTicker\"},{\"attributes\":{\"num_minor_ticks\":5,\"tickers\":[{\"id\":\"74955\",\"type\":\"AdaptiveTicker\"},{\"id\":\"74956\",\"type\":\"AdaptiveTicker\"},{\"id\":\"74957\",\"type\":\"AdaptiveTicker\"},{\"id\":\"74958\",\"type\":\"DaysTicker\"},{\"id\":\"74959\",\"type\":\"DaysTicker\"},{\"id\":\"74960\",\"type\":\"DaysTicker\"},{\"id\":\"74961\",\"type\":\"DaysTicker\"},{\"id\":\"74962\",\"type\":\"MonthsTicker\"},{\"id\":\"74963\",\"type\":\"MonthsTicker\"},{\"id\":\"74964\",\"type\":\"MonthsTicker\"},{\"id\":\"74965\",\"type\":\"MonthsTicker\"},{\"id\":\"74966\",\"type\":\"YearsTicker\"}]},\"id\":\"72828\",\"type\":\"DatetimeTicker\"},{\"attributes\":{\"days\":[1,4,7,10,13,16,19,22,25,28]},\"id\":\"74959\",\"type\":\"DaysTicker\"},{\"attributes\":{\"ticker\":{\"id\":\"72828\",\"type\":\"DatetimeTicker\"}},\"id\":\"72831\",\"type\":\"Grid\"},{\"attributes\":{\"days\":[1,8,15,22]},\"id\":\"74960\",\"type\":\"DaysTicker\"},{\"attributes\":{\"axis_label\":\"IoT sensor\",\"formatter\":{\"id\":\"74916\",\"type\":\"BasicTickFormatter\"},\"ticker\":{\"id\":\"72833\",\"type\":\"BasicTicker\"}},\"id\":\"72832\",\"type\":\"LinearAxis\"},{\"attributes\":{\"days\":[1,15]},\"id\":\"74961\",\"type\":\"DaysTicker\"},{\"attributes\":{},\"id\":\"72833\",\"type\":\"BasicTicker\"},{\"attributes\":{\"months\":[0,1,2,3,4,5,6,7,8,9,10,11]},\"id\":\"74962\",\"type\":\"MonthsTicker\"},{\"attributes\":{\"dimension\":1,\"ticker\":{\"id\":\"72833\",\"type\":\"BasicTicker\"}},\"id\":\"72836\",\"type\":\"Grid\"},{\"attributes\":{\"months\":[0,2,4,6,8,10]},\"id\":\"74963\",\"type\":\"MonthsTicker\"},{\"attributes\":{\"line_alpha\":{\"value\":0.1},\"line_color\":{\"value\":\"#1f77b4\"},\"line_dash\":[4,4],\"line_width\":{\"value\":2},\"mode\":\"after\",\"x\":{\"field\":\"x\"},\"y\":{\"field\":\"y\"}},\"id\":\"72852\",\"type\":\"Step\"},{\"attributes\":{\"months\":[0,4,8]},\"id\":\"74964\",\"type\":\"MonthsTicker\"},{\"attributes\":{\"line_color\":{\"value\":\"#1f77b4\"},\"line_dash\":[4,4],\"line_width\":{\"value\":2},\"mode\":\"after\",\"x\":{\"field\":\"x\"},\"y\":{\"field\":\"y\"}},\"id\":\"72851\",\"type\":\"Step\"},{\"attributes\":{\"months\":[0,6]},\"id\":\"74965\",\"type\":\"MonthsTicker\"},{\"attributes\":{\"callback\":null,\"data\":{\"x\":[1546300800000.0,1546301220000.0,1546301400000.0,1546301520000.0,1546301700000.0,1546301820000.0],\"y\":[10,10,20,20,14,14]},\"selected\":{\"id\":\"74951\",\"type\":\"Selection\"},\"selection_policy\":{\"id\":\"74952\",\"type\":\"UnionRenderers\"}},\"id\":\"72850\",\"type\":\"ColumnDataSource\"},{\"attributes\":{},\"id\":\"74966\",\"type\":\"YearsTicker\"},{\"attributes\":{},\"id\":\"72837\",\"type\":\"PanTool\"}],\"root_ids\":[\"72860\"]},\"title\":\"Bokeh Application\",\"version\":\"1.2.0\"}};\n",
       "  var render_items = [{\"docid\":\"d06c2402-2e24-4b7e-a08f-a83f91e04ac0\",\"roots\":{\"72860\":\"defcc6b6-a63b-4339-97e3-58e4578b1abc\"}}];\n",
       "  root.Bokeh.embed.embed_items_notebook(docs_json, render_items);\n",
       "\n",
       "  }\n",
       "  if (root.Bokeh !== undefined) {\n",
       "    embed_document(root);\n",
       "  } else {\n",
       "    var attempts = 0;\n",
       "    var timer = setInterval(function(root) {\n",
       "      if (root.Bokeh !== undefined) {\n",
       "        embed_document(root);\n",
       "        clearInterval(timer);\n",
       "      }\n",
       "      attempts++;\n",
       "      if (attempts > 100) {\n",
       "        console.log(\"Bokeh: ERROR: Unable to run BokehJS code because BokehJS library is missing\");\n",
       "        clearInterval(timer);\n",
       "      }\n",
       "    }, 10, root)\n",
       "  }\n",
       "})(window);"
      ],
      "application/vnd.bokehjs_exec.v0+json": ""
     },
     "metadata": {
      "application/vnd.bokehjs_exec.v0+json": {
       "id": "72860"
      }
     },
     "output_type": "display_data"
    }
   ],
   "source": [
    "# Ceil (it applies a min on each key)\n",
    "plot_row(ts, ts.ceil(10))\n",
    "plot_row(ts, ts2, ts.ceil(ts2))"
   ]
  },
  {
   "cell_type": "markdown",
   "metadata": {},
   "source": [
    "## Some sugar"
   ]
  },
  {
   "cell_type": "code",
   "execution_count": 170,
   "metadata": {},
   "outputs": [
    {
     "data": {
      "text/html": [
       "\n",
       "\n",
       "\n",
       "\n",
       "\n",
       "\n",
       "  <div class=\"bk-root\" id=\"bc59e3af-f107-40f4-b13f-89136c4474cf\" data-root-id=\"75364\"></div>\n"
      ]
     },
     "metadata": {},
     "output_type": "display_data"
    },
    {
     "data": {
      "application/javascript": [
       "(function(root) {\n",
       "  function embed_document(root) {\n",
       "    \n",
       "  var docs_json = {\"69b6cc76-d92b-4a55-bfde-a0987a3de847\":{\"roots\":{\"references\":[{\"attributes\":{\"below\":[{\"id\":\"75375\",\"type\":\"DatetimeAxis\"}],\"center\":[{\"id\":\"75379\",\"type\":\"Grid\"},{\"id\":\"75384\",\"type\":\"Grid\"}],\"left\":[{\"id\":\"75380\",\"type\":\"LinearAxis\"}],\"plot_height\":250,\"plot_width\":400,\"renderers\":[{\"id\":\"75401\",\"type\":\"GlyphRenderer\"},{\"id\":\"75406\",\"type\":\"GlyphRenderer\"}],\"title\":{\"id\":\"75365\",\"type\":\"Title\"},\"toolbar\":{\"id\":\"75391\",\"type\":\"Toolbar\"},\"x_range\":{\"id\":\"75367\",\"type\":\"DataRange1d\"},\"x_scale\":{\"id\":\"75371\",\"type\":\"LinearScale\"},\"y_range\":{\"id\":\"75369\",\"type\":\"DataRange1d\"},\"y_scale\":{\"id\":\"75373\",\"type\":\"LinearScale\"}},\"id\":\"75364\",\"subtype\":\"Figure\",\"type\":\"Plot\"},{\"attributes\":{},\"id\":\"77520\",\"type\":\"Selection\"},{\"attributes\":{},\"id\":\"75388\",\"type\":\"SaveTool\"},{\"attributes\":{},\"id\":\"77519\",\"type\":\"BasicTickFormatter\"},{\"attributes\":{},\"id\":\"77521\",\"type\":\"UnionRenderers\"},{\"attributes\":{},\"id\":\"77522\",\"type\":\"Selection\"},{\"attributes\":{},\"id\":\"75385\",\"type\":\"PanTool\"},{\"attributes\":{\"source\":{\"id\":\"75403\",\"type\":\"ColumnDataSource\"}},\"id\":\"75407\",\"type\":\"CDSView\"},{\"attributes\":{},\"id\":\"77523\",\"type\":\"UnionRenderers\"},{\"attributes\":{\"active_drag\":\"auto\",\"active_inspect\":\"auto\",\"active_multi\":null,\"active_scroll\":\"auto\",\"active_tap\":\"auto\",\"tools\":[{\"id\":\"75385\",\"type\":\"PanTool\"},{\"id\":\"75386\",\"type\":\"WheelZoomTool\"},{\"id\":\"75387\",\"type\":\"BoxZoomTool\"},{\"id\":\"75388\",\"type\":\"SaveTool\"},{\"id\":\"75389\",\"type\":\"ResetTool\"},{\"id\":\"75390\",\"type\":\"HelpTool\"}]},\"id\":\"75391\",\"type\":\"Toolbar\"},{\"attributes\":{\"mantissas\":[1,2,5],\"max_interval\":500.0,\"num_minor_ticks\":0},\"id\":\"77524\",\"type\":\"AdaptiveTicker\"},{\"attributes\":{\"ticker\":{\"id\":\"75376\",\"type\":\"DatetimeTicker\"}},\"id\":\"75379\",\"type\":\"Grid\"},{\"attributes\":{\"callback\":null,\"data\":{\"x\":[1546300800000.0,1546300860000.0,1546300920000.0,1546300980000.0,1546301040000.0,1546301100000.0,1546301160000.0,1546301220000.0,1546301280000.0,1546301340000.0,1546301400000.0,1546301460000.0,1546301520000.0,1546301580000.0,1546301640000.0,1546301700000.0,1546301760000.0,1546301820000.0],\"y\":[10,10,10,10,10,10,10,10,10,10,20,20,20,20,20,10,10,1]},\"selected\":{\"id\":\"77520\",\"type\":\"Selection\"},\"selection_policy\":{\"id\":\"77521\",\"type\":\"UnionRenderers\"}},\"id\":\"75398\",\"type\":\"ColumnDataSource\"},{\"attributes\":{},\"id\":\"75371\",\"type\":\"LinearScale\"},{\"attributes\":{\"base\":60,\"mantissas\":[1,2,5,10,15,20,30],\"max_interval\":1800000.0,\"min_interval\":1000.0,\"num_minor_ticks\":0},\"id\":\"77525\",\"type\":\"AdaptiveTicker\"},{\"attributes\":{\"line_color\":{\"value\":\"#1f77b4\"},\"line_dash\":[4,4],\"line_width\":{\"value\":2},\"mode\":\"after\",\"x\":{\"field\":\"x\"},\"y\":{\"field\":\"y\"}},\"id\":\"75399\",\"type\":\"Step\"},{\"attributes\":{\"line_alpha\":{\"value\":0.1},\"line_color\":{\"value\":\"#1f77b4\"},\"line_dash\":[4,4],\"line_width\":{\"value\":2},\"mode\":\"after\",\"x\":{\"field\":\"x\"},\"y\":{\"field\":\"y\"}},\"id\":\"75400\",\"type\":\"Step\"},{\"attributes\":{\"base\":24,\"mantissas\":[1,2,4,6,8,12],\"max_interval\":43200000.0,\"min_interval\":3600000.0,\"num_minor_ticks\":0},\"id\":\"77526\",\"type\":\"AdaptiveTicker\"},{\"attributes\":{\"dimension\":1,\"ticker\":{\"id\":\"75381\",\"type\":\"BasicTicker\"}},\"id\":\"75384\",\"type\":\"Grid\"},{\"attributes\":{\"days\":[1,2,3,4,5,6,7,8,9,10,11,12,13,14,15,16,17,18,19,20,21,22,23,24,25,26,27,28,29,30,31]},\"id\":\"77527\",\"type\":\"DaysTicker\"},{\"attributes\":{\"callback\":null},\"id\":\"75367\",\"type\":\"DataRange1d\"},{\"attributes\":{\"bottom_units\":\"screen\",\"fill_alpha\":{\"value\":0.5},\"fill_color\":{\"value\":\"lightgrey\"},\"left_units\":\"screen\",\"level\":\"overlay\",\"line_alpha\":{\"value\":1.0},\"line_color\":{\"value\":\"black\"},\"line_dash\":[4,4],\"line_width\":{\"value\":2},\"render_mode\":\"css\",\"right_units\":\"screen\",\"top_units\":\"screen\"},\"id\":\"77536\",\"type\":\"BoxAnnotation\"},{\"attributes\":{},\"id\":\"75381\",\"type\":\"BasicTicker\"},{\"attributes\":{\"days\":[1,4,7,10,13,16,19,22,25,28]},\"id\":\"77528\",\"type\":\"DaysTicker\"},{\"attributes\":{\"text\":\"Unevenly Spaced\"},\"id\":\"75365\",\"type\":\"Title\"},{\"attributes\":{\"axis_label\":\"IoT sensor\",\"formatter\":{\"id\":\"77519\",\"type\":\"BasicTickFormatter\"},\"ticker\":{\"id\":\"75381\",\"type\":\"BasicTicker\"}},\"id\":\"75380\",\"type\":\"LinearAxis\"},{\"attributes\":{\"days\":[1,8,15,22]},\"id\":\"77529\",\"type\":\"DaysTicker\"},{\"attributes\":{\"callback\":null},\"id\":\"75369\",\"type\":\"DataRange1d\"},{\"attributes\":{\"days\":[1,15]},\"id\":\"77530\",\"type\":\"DaysTicker\"},{\"attributes\":{},\"id\":\"77517\",\"type\":\"DatetimeTickFormatter\"},{\"attributes\":{\"months\":[0,1,2,3,4,5,6,7,8,9,10,11]},\"id\":\"77531\",\"type\":\"MonthsTicker\"},{\"attributes\":{},\"id\":\"75373\",\"type\":\"LinearScale\"},{\"attributes\":{\"months\":[0,2,4,6,8,10]},\"id\":\"77532\",\"type\":\"MonthsTicker\"},{\"attributes\":{\"fill_color\":{\"value\":\"red\"},\"line_color\":{\"value\":\"#1f77b4\"},\"size\":{\"units\":\"screen\",\"value\":6},\"x\":{\"field\":\"x\"},\"y\":{\"field\":\"y\"}},\"id\":\"75404\",\"type\":\"Circle\"},{\"attributes\":{\"axis_label\":\"timestamp\",\"formatter\":{\"id\":\"77517\",\"type\":\"DatetimeTickFormatter\"},\"ticker\":{\"id\":\"75376\",\"type\":\"DatetimeTicker\"}},\"id\":\"75375\",\"type\":\"DatetimeAxis\"},{\"attributes\":{\"source\":{\"id\":\"75398\",\"type\":\"ColumnDataSource\"}},\"id\":\"75402\",\"type\":\"CDSView\"},{\"attributes\":{\"months\":[0,4,8]},\"id\":\"77533\",\"type\":\"MonthsTicker\"},{\"attributes\":{\"data_source\":{\"id\":\"75398\",\"type\":\"ColumnDataSource\"},\"glyph\":{\"id\":\"75399\",\"type\":\"Step\"},\"hover_glyph\":null,\"muted_glyph\":null,\"nonselection_glyph\":{\"id\":\"75400\",\"type\":\"Step\"},\"selection_glyph\":null,\"view\":{\"id\":\"75402\",\"type\":\"CDSView\"}},\"id\":\"75401\",\"type\":\"GlyphRenderer\"},{\"attributes\":{\"num_minor_ticks\":5,\"tickers\":[{\"id\":\"77524\",\"type\":\"AdaptiveTicker\"},{\"id\":\"77525\",\"type\":\"AdaptiveTicker\"},{\"id\":\"77526\",\"type\":\"AdaptiveTicker\"},{\"id\":\"77527\",\"type\":\"DaysTicker\"},{\"id\":\"77528\",\"type\":\"DaysTicker\"},{\"id\":\"77529\",\"type\":\"DaysTicker\"},{\"id\":\"77530\",\"type\":\"DaysTicker\"},{\"id\":\"77531\",\"type\":\"MonthsTicker\"},{\"id\":\"77532\",\"type\":\"MonthsTicker\"},{\"id\":\"77533\",\"type\":\"MonthsTicker\"},{\"id\":\"77534\",\"type\":\"MonthsTicker\"},{\"id\":\"77535\",\"type\":\"YearsTicker\"}]},\"id\":\"75376\",\"type\":\"DatetimeTicker\"},{\"attributes\":{},\"id\":\"75390\",\"type\":\"HelpTool\"},{\"attributes\":{\"callback\":null,\"data\":{\"x\":[1546300800000.0,1546300860000.0,1546300920000.0,1546300980000.0,1546301040000.0,1546301100000.0,1546301160000.0,1546301220000.0,1546301280000.0,1546301340000.0,1546301400000.0,1546301460000.0,1546301520000.0,1546301580000.0,1546301640000.0,1546301700000.0,1546301760000.0,1546301820000.0],\"y\":[10,10,10,10,10,10,10,10,10,10,20,20,20,20,20,10,10,1]},\"selected\":{\"id\":\"77522\",\"type\":\"Selection\"},\"selection_policy\":{\"id\":\"77523\",\"type\":\"UnionRenderers\"}},\"id\":\"75403\",\"type\":\"ColumnDataSource\"},{\"attributes\":{\"months\":[0,6]},\"id\":\"77534\",\"type\":\"MonthsTicker\"},{\"attributes\":{},\"id\":\"75389\",\"type\":\"ResetTool\"},{\"attributes\":{},\"id\":\"77535\",\"type\":\"YearsTicker\"},{\"attributes\":{\"data_source\":{\"id\":\"75403\",\"type\":\"ColumnDataSource\"},\"glyph\":{\"id\":\"75404\",\"type\":\"Circle\"},\"hover_glyph\":null,\"muted_glyph\":null,\"nonselection_glyph\":{\"id\":\"75405\",\"type\":\"Circle\"},\"selection_glyph\":null,\"view\":{\"id\":\"75407\",\"type\":\"CDSView\"}},\"id\":\"75406\",\"type\":\"GlyphRenderer\"},{\"attributes\":{\"overlay\":{\"id\":\"77536\",\"type\":\"BoxAnnotation\"}},\"id\":\"75387\",\"type\":\"BoxZoomTool\"},{\"attributes\":{\"fill_alpha\":{\"value\":0.1},\"fill_color\":{\"value\":\"#1f77b4\"},\"line_alpha\":{\"value\":0.1},\"line_color\":{\"value\":\"#1f77b4\"},\"size\":{\"units\":\"screen\",\"value\":6},\"x\":{\"field\":\"x\"},\"y\":{\"field\":\"y\"}},\"id\":\"75405\",\"type\":\"Circle\"},{\"attributes\":{},\"id\":\"75386\",\"type\":\"WheelZoomTool\"}],\"root_ids\":[\"75364\"]},\"title\":\"Bokeh Application\",\"version\":\"1.2.0\"}};\n",
       "  var render_items = [{\"docid\":\"69b6cc76-d92b-4a55-bfde-a0987a3de847\",\"roots\":{\"75364\":\"bc59e3af-f107-40f4-b13f-89136c4474cf\"}}];\n",
       "  root.Bokeh.embed.embed_items_notebook(docs_json, render_items);\n",
       "\n",
       "  }\n",
       "  if (root.Bokeh !== undefined) {\n",
       "    embed_document(root);\n",
       "  } else {\n",
       "    var attempts = 0;\n",
       "    var timer = setInterval(function(root) {\n",
       "      if (root.Bokeh !== undefined) {\n",
       "        embed_document(root);\n",
       "        clearInterval(timer);\n",
       "      }\n",
       "      attempts++;\n",
       "      if (attempts > 100) {\n",
       "        console.log(\"Bokeh: ERROR: Unable to run BokehJS code because BokehJS library is missing\");\n",
       "        clearInterval(timer);\n",
       "      }\n",
       "    }, 10, root)\n",
       "  }\n",
       "})(window);"
      ],
      "application/vnd.bokehjs_exec.v0+json": ""
     },
     "metadata": {
      "application/vnd.bokehjs_exec.v0+json": {
       "id": "75364"
      }
     },
     "output_type": "display_data"
    }
   ],
   "source": [
    "# Go back to Evenly Spaced timeseries\n",
    "from datetime import timedelta\n",
    "onemin = timedelta(minutes=1)\n",
    "evenly_ts = ts.sample(freq=onemin)\n",
    "plot(evenly_ts)"
   ]
  },
  {
   "cell_type": "code",
   "execution_count": 171,
   "metadata": {},
   "outputs": [
    {
     "data": {
      "text/html": [
       "\n",
       "\n",
       "\n",
       "\n",
       "\n",
       "\n",
       "  <div class=\"bk-root\" id=\"b7b0afd0-d6a0-42db-8e73-87aff44c6bb3\" data-root-id=\"77669\"></div>\n"
      ]
     },
     "metadata": {},
     "output_type": "display_data"
    },
    {
     "data": {
      "application/javascript": [
       "(function(root) {\n",
       "  function embed_document(root) {\n",
       "    \n",
       "  var docs_json = {\"0a731529-73ed-4558-a7cb-d36e7db3bab0\":{\"roots\":{\"references\":[{\"attributes\":{\"below\":[{\"id\":\"77680\",\"type\":\"DatetimeAxis\"}],\"center\":[{\"id\":\"77684\",\"type\":\"Grid\"},{\"id\":\"77689\",\"type\":\"Grid\"}],\"left\":[{\"id\":\"77685\",\"type\":\"LinearAxis\"}],\"plot_height\":250,\"plot_width\":400,\"renderers\":[{\"id\":\"77706\",\"type\":\"GlyphRenderer\"},{\"id\":\"77711\",\"type\":\"GlyphRenderer\"}],\"title\":{\"id\":\"77670\",\"type\":\"Title\"},\"toolbar\":{\"id\":\"77696\",\"type\":\"Toolbar\"},\"x_range\":{\"id\":\"77672\",\"type\":\"DataRange1d\"},\"x_scale\":{\"id\":\"77676\",\"type\":\"LinearScale\"},\"y_range\":{\"id\":\"77674\",\"type\":\"DataRange1d\"},\"y_scale\":{\"id\":\"77678\",\"type\":\"LinearScale\"}},\"id\":\"77669\",\"subtype\":\"Figure\",\"type\":\"Plot\"},{\"attributes\":{\"days\":[1,8,15,22]},\"id\":\"79856\",\"type\":\"DaysTicker\"},{\"attributes\":{},\"id\":\"77695\",\"type\":\"HelpTool\"},{\"attributes\":{\"data_source\":{\"id\":\"77703\",\"type\":\"ColumnDataSource\"},\"glyph\":{\"id\":\"77704\",\"type\":\"Step\"},\"hover_glyph\":null,\"muted_glyph\":null,\"nonselection_glyph\":{\"id\":\"77705\",\"type\":\"Step\"},\"selection_glyph\":null,\"view\":{\"id\":\"77707\",\"type\":\"CDSView\"}},\"id\":\"77706\",\"type\":\"GlyphRenderer\"},{\"attributes\":{\"days\":[1,15]},\"id\":\"79857\",\"type\":\"DaysTicker\"},{\"attributes\":{\"source\":{\"id\":\"77703\",\"type\":\"ColumnDataSource\"}},\"id\":\"77707\",\"type\":\"CDSView\"},{\"attributes\":{\"callback\":null,\"data\":{\"x\":[1546300800000.0,1546301400000.0,1546301700000.0,1546301820000.0],\"y\":[10,20,10,1]},\"selected\":{\"id\":\"79847\",\"type\":\"Selection\"},\"selection_policy\":{\"id\":\"79848\",\"type\":\"UnionRenderers\"}},\"id\":\"77703\",\"type\":\"ColumnDataSource\"},{\"attributes\":{\"months\":[0,1,2,3,4,5,6,7,8,9,10,11]},\"id\":\"79858\",\"type\":\"MonthsTicker\"},{\"attributes\":{\"callback\":null,\"data\":{\"x\":[1546300800000.0,1546301400000.0,1546301700000.0,1546301820000.0],\"y\":[10,20,10,1]},\"selected\":{\"id\":\"79849\",\"type\":\"Selection\"},\"selection_policy\":{\"id\":\"79850\",\"type\":\"UnionRenderers\"}},\"id\":\"77708\",\"type\":\"ColumnDataSource\"},{\"attributes\":{},\"id\":\"77694\",\"type\":\"ResetTool\"},{\"attributes\":{\"months\":[0,2,4,6,8,10]},\"id\":\"79859\",\"type\":\"MonthsTicker\"},{\"attributes\":{\"fill_color\":{\"value\":\"red\"},\"line_color\":{\"value\":\"#1f77b4\"},\"size\":{\"units\":\"screen\",\"value\":6},\"x\":{\"field\":\"x\"},\"y\":{\"field\":\"y\"}},\"id\":\"77709\",\"type\":\"Circle\"},{\"attributes\":{\"callback\":null},\"id\":\"77674\",\"type\":\"DataRange1d\"},{\"attributes\":{\"callback\":null},\"id\":\"77672\",\"type\":\"DataRange1d\"},{\"attributes\":{\"fill_alpha\":{\"value\":0.1},\"fill_color\":{\"value\":\"#1f77b4\"},\"line_alpha\":{\"value\":0.1},\"line_color\":{\"value\":\"#1f77b4\"},\"size\":{\"units\":\"screen\",\"value\":6},\"x\":{\"field\":\"x\"},\"y\":{\"field\":\"y\"}},\"id\":\"77710\",\"type\":\"Circle\"},{\"attributes\":{\"text\":\"Unevenly Spaced\"},\"id\":\"77670\",\"type\":\"Title\"},{\"attributes\":{},\"id\":\"77693\",\"type\":\"SaveTool\"},{\"attributes\":{\"months\":[0,4,8]},\"id\":\"79860\",\"type\":\"MonthsTicker\"},{\"attributes\":{},\"id\":\"77676\",\"type\":\"LinearScale\"},{\"attributes\":{\"months\":[0,6]},\"id\":\"79861\",\"type\":\"MonthsTicker\"},{\"attributes\":{\"data_source\":{\"id\":\"77708\",\"type\":\"ColumnDataSource\"},\"glyph\":{\"id\":\"77709\",\"type\":\"Circle\"},\"hover_glyph\":null,\"muted_glyph\":null,\"nonselection_glyph\":{\"id\":\"77710\",\"type\":\"Circle\"},\"selection_glyph\":null,\"view\":{\"id\":\"77712\",\"type\":\"CDSView\"}},\"id\":\"77711\",\"type\":\"GlyphRenderer\"},{\"attributes\":{},\"id\":\"77691\",\"type\":\"WheelZoomTool\"},{\"attributes\":{},\"id\":\"79862\",\"type\":\"YearsTicker\"},{\"attributes\":{\"source\":{\"id\":\"77708\",\"type\":\"ColumnDataSource\"}},\"id\":\"77712\",\"type\":\"CDSView\"},{\"attributes\":{\"overlay\":{\"id\":\"79863\",\"type\":\"BoxAnnotation\"}},\"id\":\"77692\",\"type\":\"BoxZoomTool\"},{\"attributes\":{\"bottom_units\":\"screen\",\"fill_alpha\":{\"value\":0.5},\"fill_color\":{\"value\":\"lightgrey\"},\"left_units\":\"screen\",\"level\":\"overlay\",\"line_alpha\":{\"value\":1.0},\"line_color\":{\"value\":\"black\"},\"line_dash\":[4,4],\"line_width\":{\"value\":2},\"render_mode\":\"css\",\"right_units\":\"screen\",\"top_units\":\"screen\"},\"id\":\"79863\",\"type\":\"BoxAnnotation\"},{\"attributes\":{},\"id\":\"77690\",\"type\":\"PanTool\"},{\"attributes\":{},\"id\":\"79844\",\"type\":\"DatetimeTickFormatter\"},{\"attributes\":{\"line_color\":{\"value\":\"#1f77b4\"},\"line_dash\":[4,4],\"line_width\":{\"value\":2},\"mode\":\"after\",\"x\":{\"field\":\"x\"},\"y\":{\"field\":\"y\"}},\"id\":\"77704\",\"type\":\"Step\"},{\"attributes\":{},\"id\":\"79846\",\"type\":\"BasicTickFormatter\"},{\"attributes\":{\"dimension\":1,\"ticker\":{\"id\":\"77686\",\"type\":\"BasicTicker\"}},\"id\":\"77689\",\"type\":\"Grid\"},{\"attributes\":{\"line_alpha\":{\"value\":0.1},\"line_color\":{\"value\":\"#1f77b4\"},\"line_dash\":[4,4],\"line_width\":{\"value\":2},\"mode\":\"after\",\"x\":{\"field\":\"x\"},\"y\":{\"field\":\"y\"}},\"id\":\"77705\",\"type\":\"Step\"},{\"attributes\":{},\"id\":\"79847\",\"type\":\"Selection\"},{\"attributes\":{},\"id\":\"79848\",\"type\":\"UnionRenderers\"},{\"attributes\":{},\"id\":\"79850\",\"type\":\"UnionRenderers\"},{\"attributes\":{\"num_minor_ticks\":5,\"tickers\":[{\"id\":\"79851\",\"type\":\"AdaptiveTicker\"},{\"id\":\"79852\",\"type\":\"AdaptiveTicker\"},{\"id\":\"79853\",\"type\":\"AdaptiveTicker\"},{\"id\":\"79854\",\"type\":\"DaysTicker\"},{\"id\":\"79855\",\"type\":\"DaysTicker\"},{\"id\":\"79856\",\"type\":\"DaysTicker\"},{\"id\":\"79857\",\"type\":\"DaysTicker\"},{\"id\":\"79858\",\"type\":\"MonthsTicker\"},{\"id\":\"79859\",\"type\":\"MonthsTicker\"},{\"id\":\"79860\",\"type\":\"MonthsTicker\"},{\"id\":\"79861\",\"type\":\"MonthsTicker\"},{\"id\":\"79862\",\"type\":\"YearsTicker\"}]},\"id\":\"77681\",\"type\":\"DatetimeTicker\"},{\"attributes\":{},\"id\":\"77686\",\"type\":\"BasicTicker\"},{\"attributes\":{\"mantissas\":[1,2,5],\"max_interval\":500.0,\"num_minor_ticks\":0},\"id\":\"79851\",\"type\":\"AdaptiveTicker\"},{\"attributes\":{\"days\":[1,4,7,10,13,16,19,22,25,28]},\"id\":\"79855\",\"type\":\"DaysTicker\"},{\"attributes\":{\"axis_label\":\"IoT sensor\",\"formatter\":{\"id\":\"79846\",\"type\":\"BasicTickFormatter\"},\"ticker\":{\"id\":\"77686\",\"type\":\"BasicTicker\"}},\"id\":\"77685\",\"type\":\"LinearAxis\"},{\"attributes\":{\"active_drag\":\"auto\",\"active_inspect\":\"auto\",\"active_multi\":null,\"active_scroll\":\"auto\",\"active_tap\":\"auto\",\"tools\":[{\"id\":\"77690\",\"type\":\"PanTool\"},{\"id\":\"77691\",\"type\":\"WheelZoomTool\"},{\"id\":\"77692\",\"type\":\"BoxZoomTool\"},{\"id\":\"77693\",\"type\":\"SaveTool\"},{\"id\":\"77694\",\"type\":\"ResetTool\"},{\"id\":\"77695\",\"type\":\"HelpTool\"}]},\"id\":\"77696\",\"type\":\"Toolbar\"},{\"attributes\":{\"base\":60,\"mantissas\":[1,2,5,10,15,20,30],\"max_interval\":1800000.0,\"min_interval\":1000.0,\"num_minor_ticks\":0},\"id\":\"79852\",\"type\":\"AdaptiveTicker\"},{\"attributes\":{\"ticker\":{\"id\":\"77681\",\"type\":\"DatetimeTicker\"}},\"id\":\"77684\",\"type\":\"Grid\"},{\"attributes\":{\"base\":24,\"mantissas\":[1,2,4,6,8,12],\"max_interval\":43200000.0,\"min_interval\":3600000.0,\"num_minor_ticks\":0},\"id\":\"79853\",\"type\":\"AdaptiveTicker\"},{\"attributes\":{},\"id\":\"77678\",\"type\":\"LinearScale\"},{\"attributes\":{\"days\":[1,2,3,4,5,6,7,8,9,10,11,12,13,14,15,16,17,18,19,20,21,22,23,24,25,26,27,28,29,30,31]},\"id\":\"79854\",\"type\":\"DaysTicker\"},{\"attributes\":{\"axis_label\":\"timestamp\",\"formatter\":{\"id\":\"79844\",\"type\":\"DatetimeTickFormatter\"},\"ticker\":{\"id\":\"77681\",\"type\":\"DatetimeTicker\"}},\"id\":\"77680\",\"type\":\"DatetimeAxis\"},{\"attributes\":{},\"id\":\"79849\",\"type\":\"Selection\"}],\"root_ids\":[\"77669\"]},\"title\":\"Bokeh Application\",\"version\":\"1.2.0\"}};\n",
       "  var render_items = [{\"docid\":\"0a731529-73ed-4558-a7cb-d36e7db3bab0\",\"roots\":{\"77669\":\"b7b0afd0-d6a0-42db-8e73-87aff44c6bb3\"}}];\n",
       "  root.Bokeh.embed.embed_items_notebook(docs_json, render_items);\n",
       "\n",
       "  }\n",
       "  if (root.Bokeh !== undefined) {\n",
       "    embed_document(root);\n",
       "  } else {\n",
       "    var attempts = 0;\n",
       "    var timer = setInterval(function(root) {\n",
       "      if (root.Bokeh !== undefined) {\n",
       "        embed_document(root);\n",
       "        clearInterval(timer);\n",
       "      }\n",
       "      attempts++;\n",
       "      if (attempts > 100) {\n",
       "        console.log(\"Bokeh: ERROR: Unable to run BokehJS code because BokehJS library is missing\");\n",
       "        clearInterval(timer);\n",
       "      }\n",
       "    }, 10, root)\n",
       "  }\n",
       "})(window);"
      ],
      "application/vnd.bokehjs_exec.v0+json": ""
     },
     "metadata": {
      "application/vnd.bokehjs_exec.v0+json": {
       "id": "77669"
      }
     },
     "output_type": "display_data"
    }
   ],
   "source": [
    "# Compact\n",
    "plot(evenly_ts.compact())"
   ]
  },
  {
   "cell_type": "code",
   "execution_count": 173,
   "metadata": {},
   "outputs": [
    {
     "data": {
      "text/html": [
       "<div>\n",
       "<style scoped>\n",
       "    .dataframe tbody tr th:only-of-type {\n",
       "        vertical-align: middle;\n",
       "    }\n",
       "\n",
       "    .dataframe tbody tr th {\n",
       "        vertical-align: top;\n",
       "    }\n",
       "\n",
       "    .dataframe thead th {\n",
       "        text-align: right;\n",
       "    }\n",
       "</style>\n",
       "<table border=\"1\" class=\"dataframe\">\n",
       "  <thead>\n",
       "    <tr style=\"text-align: right;\">\n",
       "      <th></th>\n",
       "      <th>value</th>\n",
       "    </tr>\n",
       "  </thead>\n",
       "  <tbody>\n",
       "    <tr>\n",
       "      <th>2019-01-01 00:00:00+00:00</th>\n",
       "      <td>10</td>\n",
       "    </tr>\n",
       "    <tr>\n",
       "      <th>2019-01-01 00:10:00+00:00</th>\n",
       "      <td>20</td>\n",
       "    </tr>\n",
       "    <tr>\n",
       "      <th>2019-01-01 00:15:00+00:00</th>\n",
       "      <td>10</td>\n",
       "    </tr>\n",
       "    <tr>\n",
       "      <th>2019-01-01 00:17:00+00:00</th>\n",
       "      <td>1</td>\n",
       "    </tr>\n",
       "  </tbody>\n",
       "</table>\n",
       "</div>"
      ],
      "text/plain": [
       "                           value\n",
       "2019-01-01 00:00:00+00:00     10\n",
       "2019-01-01 00:10:00+00:00     20\n",
       "2019-01-01 00:15:00+00:00     10\n",
       "2019-01-01 00:17:00+00:00      1"
      ]
     },
     "execution_count": 173,
     "metadata": {},
     "output_type": "execute_result"
    }
   ],
   "source": [
    "# if you got pandas installed\n",
    "ts.to_dataframe()"
   ]
  },
  {
   "cell_type": "code",
   "execution_count": null,
   "metadata": {},
   "outputs": [],
   "source": []
  }
 ],
 "metadata": {
  "kernelspec": {
   "display_name": "Python 3",
   "language": "python",
   "name": "python3"
  },
  "language_info": {
   "codemirror_mode": {
    "name": "ipython",
    "version": 3
   },
   "file_extension": ".py",
   "mimetype": "text/x-python",
   "name": "python",
   "nbconvert_exporter": "python",
   "pygments_lexer": "ipython3",
   "version": "3.6.8"
  }
 },
 "nbformat": 4,
 "nbformat_minor": 2
}
