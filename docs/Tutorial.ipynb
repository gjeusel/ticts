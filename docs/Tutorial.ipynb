{
 "cells": [
  {
   "cell_type": "markdown",
   "metadata": {},
   "source": [
    "# Tutorial - Overview of TicTs\n",
    "\n",
    "---\n",
    "\n",
    "## Design\n",
    "\n",
    "TimeSeries object is inheriting from [Sorted Dict](http://www.grantjenks.com/docs/sortedcontainers/sorteddict.html) of *sortedcontainers* python library to ensure good performances and ease of use.\n",
    "\n",
    "- designed to **feel like** manipulating a **pandas.Series** in the unevenly-spaced timeseries world.\n",
    "- time intervals are considered **left closed** and **right open**.\n",
    "- ensure timezone localization.\n",
    "\n",
    "Let's see the potential !"
   ]
  },
  {
   "cell_type": "code",
   "execution_count": 15,
   "metadata": {},
   "outputs": [
    {
     "data": {
      "text/html": [
       "\n",
       "    <div class=\"bk-root\">\n",
       "        <a href=\"https://bokeh.pydata.org\" target=\"_blank\" class=\"bk-logo bk-logo-small bk-logo-notebook\"></a>\n",
       "        <span id=\"6840\">Loading BokehJS ...</span>\n",
       "    </div>"
      ]
     },
     "metadata": {},
     "output_type": "display_data"
    },
    {
     "data": {
      "application/javascript": [
       "\n",
       "(function(root) {\n",
       "  function now() {\n",
       "    return new Date();\n",
       "  }\n",
       "\n",
       "  var force = true;\n",
       "\n",
       "  if (typeof root._bokeh_onload_callbacks === \"undefined\" || force === true) {\n",
       "    root._bokeh_onload_callbacks = [];\n",
       "    root._bokeh_is_loading = undefined;\n",
       "  }\n",
       "\n",
       "  var JS_MIME_TYPE = 'application/javascript';\n",
       "  var HTML_MIME_TYPE = 'text/html';\n",
       "  var EXEC_MIME_TYPE = 'application/vnd.bokehjs_exec.v0+json';\n",
       "  var CLASS_NAME = 'output_bokeh rendered_html';\n",
       "\n",
       "  /**\n",
       "   * Render data to the DOM node\n",
       "   */\n",
       "  function render(props, node) {\n",
       "    var script = document.createElement(\"script\");\n",
       "    node.appendChild(script);\n",
       "  }\n",
       "\n",
       "  /**\n",
       "   * Handle when an output is cleared or removed\n",
       "   */\n",
       "  function handleClearOutput(event, handle) {\n",
       "    var cell = handle.cell;\n",
       "\n",
       "    var id = cell.output_area._bokeh_element_id;\n",
       "    var server_id = cell.output_area._bokeh_server_id;\n",
       "    // Clean up Bokeh references\n",
       "    if (id != null && id in Bokeh.index) {\n",
       "      Bokeh.index[id].model.document.clear();\n",
       "      delete Bokeh.index[id];\n",
       "    }\n",
       "\n",
       "    if (server_id !== undefined) {\n",
       "      // Clean up Bokeh references\n",
       "      var cmd = \"from bokeh.io.state import curstate; print(curstate().uuid_to_server['\" + server_id + \"'].get_sessions()[0].document.roots[0]._id)\";\n",
       "      cell.notebook.kernel.execute(cmd, {\n",
       "        iopub: {\n",
       "          output: function(msg) {\n",
       "            var id = msg.content.text.trim();\n",
       "            if (id in Bokeh.index) {\n",
       "              Bokeh.index[id].model.document.clear();\n",
       "              delete Bokeh.index[id];\n",
       "            }\n",
       "          }\n",
       "        }\n",
       "      });\n",
       "      // Destroy server and session\n",
       "      var cmd = \"import bokeh.io.notebook as ion; ion.destroy_server('\" + server_id + \"')\";\n",
       "      cell.notebook.kernel.execute(cmd);\n",
       "    }\n",
       "  }\n",
       "\n",
       "  /**\n",
       "   * Handle when a new output is added\n",
       "   */\n",
       "  function handleAddOutput(event, handle) {\n",
       "    var output_area = handle.output_area;\n",
       "    var output = handle.output;\n",
       "\n",
       "    // limit handleAddOutput to display_data with EXEC_MIME_TYPE content only\n",
       "    if ((output.output_type != \"display_data\") || (!output.data.hasOwnProperty(EXEC_MIME_TYPE))) {\n",
       "      return\n",
       "    }\n",
       "\n",
       "    var toinsert = output_area.element.find(\".\" + CLASS_NAME.split(' ')[0]);\n",
       "\n",
       "    if (output.metadata[EXEC_MIME_TYPE][\"id\"] !== undefined) {\n",
       "      toinsert[toinsert.length - 1].firstChild.textContent = output.data[JS_MIME_TYPE];\n",
       "      // store reference to embed id on output_area\n",
       "      output_area._bokeh_element_id = output.metadata[EXEC_MIME_TYPE][\"id\"];\n",
       "    }\n",
       "    if (output.metadata[EXEC_MIME_TYPE][\"server_id\"] !== undefined) {\n",
       "      var bk_div = document.createElement(\"div\");\n",
       "      bk_div.innerHTML = output.data[HTML_MIME_TYPE];\n",
       "      var script_attrs = bk_div.children[0].attributes;\n",
       "      for (var i = 0; i < script_attrs.length; i++) {\n",
       "        toinsert[toinsert.length - 1].firstChild.setAttribute(script_attrs[i].name, script_attrs[i].value);\n",
       "      }\n",
       "      // store reference to server id on output_area\n",
       "      output_area._bokeh_server_id = output.metadata[EXEC_MIME_TYPE][\"server_id\"];\n",
       "    }\n",
       "  }\n",
       "\n",
       "  function register_renderer(events, OutputArea) {\n",
       "\n",
       "    function append_mime(data, metadata, element) {\n",
       "      // create a DOM node to render to\n",
       "      var toinsert = this.create_output_subarea(\n",
       "        metadata,\n",
       "        CLASS_NAME,\n",
       "        EXEC_MIME_TYPE\n",
       "      );\n",
       "      this.keyboard_manager.register_events(toinsert);\n",
       "      // Render to node\n",
       "      var props = {data: data, metadata: metadata[EXEC_MIME_TYPE]};\n",
       "      render(props, toinsert[toinsert.length - 1]);\n",
       "      element.append(toinsert);\n",
       "      return toinsert\n",
       "    }\n",
       "\n",
       "    /* Handle when an output is cleared or removed */\n",
       "    events.on('clear_output.CodeCell', handleClearOutput);\n",
       "    events.on('delete.Cell', handleClearOutput);\n",
       "\n",
       "    /* Handle when a new output is added */\n",
       "    events.on('output_added.OutputArea', handleAddOutput);\n",
       "\n",
       "    /**\n",
       "     * Register the mime type and append_mime function with output_area\n",
       "     */\n",
       "    OutputArea.prototype.register_mime_type(EXEC_MIME_TYPE, append_mime, {\n",
       "      /* Is output safe? */\n",
       "      safe: true,\n",
       "      /* Index of renderer in `output_area.display_order` */\n",
       "      index: 0\n",
       "    });\n",
       "  }\n",
       "\n",
       "  // register the mime type if in Jupyter Notebook environment and previously unregistered\n",
       "  if (root.Jupyter !== undefined) {\n",
       "    var events = require('base/js/events');\n",
       "    var OutputArea = require('notebook/js/outputarea').OutputArea;\n",
       "\n",
       "    if (OutputArea.prototype.mime_types().indexOf(EXEC_MIME_TYPE) == -1) {\n",
       "      register_renderer(events, OutputArea);\n",
       "    }\n",
       "  }\n",
       "\n",
       "  \n",
       "  if (typeof (root._bokeh_timeout) === \"undefined\" || force === true) {\n",
       "    root._bokeh_timeout = Date.now() + 5000;\n",
       "    root._bokeh_failed_load = false;\n",
       "  }\n",
       "\n",
       "  var NB_LOAD_WARNING = {'data': {'text/html':\n",
       "     \"<div style='background-color: #fdd'>\\n\"+\n",
       "     \"<p>\\n\"+\n",
       "     \"BokehJS does not appear to have successfully loaded. If loading BokehJS from CDN, this \\n\"+\n",
       "     \"may be due to a slow or bad network connection. Possible fixes:\\n\"+\n",
       "     \"</p>\\n\"+\n",
       "     \"<ul>\\n\"+\n",
       "     \"<li>re-rerun `output_notebook()` to attempt to load from CDN again, or</li>\\n\"+\n",
       "     \"<li>use INLINE resources instead, as so:</li>\\n\"+\n",
       "     \"</ul>\\n\"+\n",
       "     \"<code>\\n\"+\n",
       "     \"from bokeh.resources import INLINE\\n\"+\n",
       "     \"output_notebook(resources=INLINE)\\n\"+\n",
       "     \"</code>\\n\"+\n",
       "     \"</div>\"}};\n",
       "\n",
       "  function display_loaded() {\n",
       "    var el = document.getElementById(\"6840\");\n",
       "    if (el != null) {\n",
       "      el.textContent = \"BokehJS is loading...\";\n",
       "    }\n",
       "    if (root.Bokeh !== undefined) {\n",
       "      if (el != null) {\n",
       "        el.textContent = \"BokehJS \" + root.Bokeh.version + \" successfully loaded.\";\n",
       "      }\n",
       "    } else if (Date.now() < root._bokeh_timeout) {\n",
       "      setTimeout(display_loaded, 100)\n",
       "    }\n",
       "  }\n",
       "\n",
       "\n",
       "  function run_callbacks() {\n",
       "    try {\n",
       "      root._bokeh_onload_callbacks.forEach(function(callback) {\n",
       "        if (callback != null)\n",
       "          callback();\n",
       "      });\n",
       "    } finally {\n",
       "      delete root._bokeh_onload_callbacks\n",
       "    }\n",
       "    console.debug(\"Bokeh: all callbacks have finished\");\n",
       "  }\n",
       "\n",
       "  function load_libs(css_urls, js_urls, callback) {\n",
       "    if (css_urls == null) css_urls = [];\n",
       "    if (js_urls == null) js_urls = [];\n",
       "\n",
       "    root._bokeh_onload_callbacks.push(callback);\n",
       "    if (root._bokeh_is_loading > 0) {\n",
       "      console.debug(\"Bokeh: BokehJS is being loaded, scheduling callback at\", now());\n",
       "      return null;\n",
       "    }\n",
       "    if (js_urls == null || js_urls.length === 0) {\n",
       "      run_callbacks();\n",
       "      return null;\n",
       "    }\n",
       "    console.debug(\"Bokeh: BokehJS not loaded, scheduling load and callback at\", now());\n",
       "    root._bokeh_is_loading = css_urls.length + js_urls.length;\n",
       "\n",
       "    function on_load() {\n",
       "      root._bokeh_is_loading--;\n",
       "      if (root._bokeh_is_loading === 0) {\n",
       "        console.debug(\"Bokeh: all BokehJS libraries/stylesheets loaded\");\n",
       "        run_callbacks()\n",
       "      }\n",
       "    }\n",
       "\n",
       "    function on_error() {\n",
       "      console.error(\"failed to load \" + url);\n",
       "    }\n",
       "\n",
       "    for (var i = 0; i < css_urls.length; i++) {\n",
       "      var url = css_urls[i];\n",
       "      const element = document.createElement(\"link\");\n",
       "      element.onload = on_load;\n",
       "      element.onerror = on_error;\n",
       "      element.rel = \"stylesheet\";\n",
       "      element.type = \"text/css\";\n",
       "      element.href = url;\n",
       "      console.debug(\"Bokeh: injecting link tag for BokehJS stylesheet: \", url);\n",
       "      document.body.appendChild(element);\n",
       "    }\n",
       "\n",
       "    for (var i = 0; i < js_urls.length; i++) {\n",
       "      var url = js_urls[i];\n",
       "      var element = document.createElement('script');\n",
       "      element.onload = on_load;\n",
       "      element.onerror = on_error;\n",
       "      element.async = false;\n",
       "      element.src = url;\n",
       "      console.debug(\"Bokeh: injecting script tag for BokehJS library: \", url);\n",
       "      document.head.appendChild(element);\n",
       "    }\n",
       "  };var element = document.getElementById(\"6840\");\n",
       "  if (element == null) {\n",
       "    console.error(\"Bokeh: ERROR: autoload.js configured with elementid '6840' but no matching script tag was found. \")\n",
       "    return false;\n",
       "  }\n",
       "\n",
       "  function inject_raw_css(css) {\n",
       "    const element = document.createElement(\"style\");\n",
       "    element.appendChild(document.createTextNode(css));\n",
       "    document.body.appendChild(element);\n",
       "  }\n",
       "\n",
       "  var js_urls = [\"https://cdn.pydata.org/bokeh/release/bokeh-1.2.0.min.js\", \"https://cdn.pydata.org/bokeh/release/bokeh-widgets-1.2.0.min.js\", \"https://cdn.pydata.org/bokeh/release/bokeh-tables-1.2.0.min.js\", \"https://cdn.pydata.org/bokeh/release/bokeh-gl-1.2.0.min.js\"];\n",
       "  var css_urls = [\"https://cdn.pydata.org/bokeh/release/bokeh-1.2.0.min.css\", \"https://cdn.pydata.org/bokeh/release/bokeh-widgets-1.2.0.min.css\", \"https://cdn.pydata.org/bokeh/release/bokeh-tables-1.2.0.min.css\"];\n",
       "\n",
       "  var inline_js = [\n",
       "    function(Bokeh) {\n",
       "      Bokeh.set_log_level(\"info\");\n",
       "    },\n",
       "    \n",
       "    function(Bokeh) {\n",
       "      \n",
       "    },\n",
       "    function(Bokeh) {} // ensure no trailing comma for IE\n",
       "  ];\n",
       "\n",
       "  function run_inline_js() {\n",
       "    \n",
       "    if ((root.Bokeh !== undefined) || (force === true)) {\n",
       "      for (var i = 0; i < inline_js.length; i++) {\n",
       "        inline_js[i].call(root, root.Bokeh);\n",
       "      }if (force === true) {\n",
       "        display_loaded();\n",
       "      }} else if (Date.now() < root._bokeh_timeout) {\n",
       "      setTimeout(run_inline_js, 100);\n",
       "    } else if (!root._bokeh_failed_load) {\n",
       "      console.log(\"Bokeh: BokehJS failed to load within specified timeout.\");\n",
       "      root._bokeh_failed_load = true;\n",
       "    } else if (force !== true) {\n",
       "      var cell = $(document.getElementById(\"6840\")).parents('.cell').data().cell;\n",
       "      cell.output_area.append_execute_result(NB_LOAD_WARNING)\n",
       "    }\n",
       "\n",
       "  }\n",
       "\n",
       "  if (root._bokeh_is_loading === 0) {\n",
       "    console.debug(\"Bokeh: BokehJS loaded, going straight to plotting\");\n",
       "    run_inline_js();\n",
       "  } else {\n",
       "    load_libs(css_urls, js_urls, function() {\n",
       "      console.debug(\"Bokeh: BokehJS plotting callback run at\", now());\n",
       "      run_inline_js();\n",
       "    });\n",
       "  }\n",
       "}(window));"
      ],
      "application/vnd.bokehjs_load.v0+json": "\n(function(root) {\n  function now() {\n    return new Date();\n  }\n\n  var force = true;\n\n  if (typeof root._bokeh_onload_callbacks === \"undefined\" || force === true) {\n    root._bokeh_onload_callbacks = [];\n    root._bokeh_is_loading = undefined;\n  }\n\n  \n\n  \n  if (typeof (root._bokeh_timeout) === \"undefined\" || force === true) {\n    root._bokeh_timeout = Date.now() + 5000;\n    root._bokeh_failed_load = false;\n  }\n\n  var NB_LOAD_WARNING = {'data': {'text/html':\n     \"<div style='background-color: #fdd'>\\n\"+\n     \"<p>\\n\"+\n     \"BokehJS does not appear to have successfully loaded. If loading BokehJS from CDN, this \\n\"+\n     \"may be due to a slow or bad network connection. Possible fixes:\\n\"+\n     \"</p>\\n\"+\n     \"<ul>\\n\"+\n     \"<li>re-rerun `output_notebook()` to attempt to load from CDN again, or</li>\\n\"+\n     \"<li>use INLINE resources instead, as so:</li>\\n\"+\n     \"</ul>\\n\"+\n     \"<code>\\n\"+\n     \"from bokeh.resources import INLINE\\n\"+\n     \"output_notebook(resources=INLINE)\\n\"+\n     \"</code>\\n\"+\n     \"</div>\"}};\n\n  function display_loaded() {\n    var el = document.getElementById(\"6840\");\n    if (el != null) {\n      el.textContent = \"BokehJS is loading...\";\n    }\n    if (root.Bokeh !== undefined) {\n      if (el != null) {\n        el.textContent = \"BokehJS \" + root.Bokeh.version + \" successfully loaded.\";\n      }\n    } else if (Date.now() < root._bokeh_timeout) {\n      setTimeout(display_loaded, 100)\n    }\n  }\n\n\n  function run_callbacks() {\n    try {\n      root._bokeh_onload_callbacks.forEach(function(callback) {\n        if (callback != null)\n          callback();\n      });\n    } finally {\n      delete root._bokeh_onload_callbacks\n    }\n    console.debug(\"Bokeh: all callbacks have finished\");\n  }\n\n  function load_libs(css_urls, js_urls, callback) {\n    if (css_urls == null) css_urls = [];\n    if (js_urls == null) js_urls = [];\n\n    root._bokeh_onload_callbacks.push(callback);\n    if (root._bokeh_is_loading > 0) {\n      console.debug(\"Bokeh: BokehJS is being loaded, scheduling callback at\", now());\n      return null;\n    }\n    if (js_urls == null || js_urls.length === 0) {\n      run_callbacks();\n      return null;\n    }\n    console.debug(\"Bokeh: BokehJS not loaded, scheduling load and callback at\", now());\n    root._bokeh_is_loading = css_urls.length + js_urls.length;\n\n    function on_load() {\n      root._bokeh_is_loading--;\n      if (root._bokeh_is_loading === 0) {\n        console.debug(\"Bokeh: all BokehJS libraries/stylesheets loaded\");\n        run_callbacks()\n      }\n    }\n\n    function on_error() {\n      console.error(\"failed to load \" + url);\n    }\n\n    for (var i = 0; i < css_urls.length; i++) {\n      var url = css_urls[i];\n      const element = document.createElement(\"link\");\n      element.onload = on_load;\n      element.onerror = on_error;\n      element.rel = \"stylesheet\";\n      element.type = \"text/css\";\n      element.href = url;\n      console.debug(\"Bokeh: injecting link tag for BokehJS stylesheet: \", url);\n      document.body.appendChild(element);\n    }\n\n    for (var i = 0; i < js_urls.length; i++) {\n      var url = js_urls[i];\n      var element = document.createElement('script');\n      element.onload = on_load;\n      element.onerror = on_error;\n      element.async = false;\n      element.src = url;\n      console.debug(\"Bokeh: injecting script tag for BokehJS library: \", url);\n      document.head.appendChild(element);\n    }\n  };var element = document.getElementById(\"6840\");\n  if (element == null) {\n    console.error(\"Bokeh: ERROR: autoload.js configured with elementid '6840' but no matching script tag was found. \")\n    return false;\n  }\n\n  function inject_raw_css(css) {\n    const element = document.createElement(\"style\");\n    element.appendChild(document.createTextNode(css));\n    document.body.appendChild(element);\n  }\n\n  var js_urls = [\"https://cdn.pydata.org/bokeh/release/bokeh-1.2.0.min.js\", \"https://cdn.pydata.org/bokeh/release/bokeh-widgets-1.2.0.min.js\", \"https://cdn.pydata.org/bokeh/release/bokeh-tables-1.2.0.min.js\", \"https://cdn.pydata.org/bokeh/release/bokeh-gl-1.2.0.min.js\"];\n  var css_urls = [\"https://cdn.pydata.org/bokeh/release/bokeh-1.2.0.min.css\", \"https://cdn.pydata.org/bokeh/release/bokeh-widgets-1.2.0.min.css\", \"https://cdn.pydata.org/bokeh/release/bokeh-tables-1.2.0.min.css\"];\n\n  var inline_js = [\n    function(Bokeh) {\n      Bokeh.set_log_level(\"info\");\n    },\n    \n    function(Bokeh) {\n      \n    },\n    function(Bokeh) {} // ensure no trailing comma for IE\n  ];\n\n  function run_inline_js() {\n    \n    if ((root.Bokeh !== undefined) || (force === true)) {\n      for (var i = 0; i < inline_js.length; i++) {\n        inline_js[i].call(root, root.Bokeh);\n      }if (force === true) {\n        display_loaded();\n      }} else if (Date.now() < root._bokeh_timeout) {\n      setTimeout(run_inline_js, 100);\n    } else if (!root._bokeh_failed_load) {\n      console.log(\"Bokeh: BokehJS failed to load within specified timeout.\");\n      root._bokeh_failed_load = true;\n    } else if (force !== true) {\n      var cell = $(document.getElementById(\"6840\")).parents('.cell').data().cell;\n      cell.output_area.append_execute_result(NB_LOAD_WARNING)\n    }\n\n  }\n\n  if (root._bokeh_is_loading === 0) {\n    console.debug(\"Bokeh: BokehJS loaded, going straight to plotting\");\n    run_inline_js();\n  } else {\n    load_libs(css_urls, js_urls, function() {\n      console.debug(\"Bokeh: BokehJS plotting callback run at\", now());\n      run_inline_js();\n    });\n  }\n}(window));"
     },
     "metadata": {},
     "output_type": "display_data"
    }
   ],
   "source": [
    "# Plotting imports\n",
    "from bokeh.plotting import figure, show\n",
    "from bokeh.layouts import row\n",
    "from bokeh.io import output_notebook\n",
    "output_notebook()\n",
    "\n",
    "# Standard lib\n",
    "from copy import deepcopy\n",
    "\n",
    "from ticts import TimeSeries"
   ]
  },
  {
   "cell_type": "code",
   "execution_count": 16,
   "metadata": {},
   "outputs": [],
   "source": [
    "# Plot tools with bokeh\n",
    "import arrow\n",
    "X_RANGE = (arrow.get('2018-12-31 23:57:00').timestamp * 1000, arrow.get('2019-01-01 00:20:00').timestamp * 1000)\n",
    "Y_RANGE = (-5, 30)\n",
    "def get_figure(ts, title='Unevenly Spaced', x_range=X_RANGE, y_range=Y_RANGE):\n",
    "    p = figure(title=title, x_axis_type=\"datetime\",\n",
    "               x_axis_label=\"timestamp\", y_axis_label=\"IoT sensor\",\n",
    "               x_range=x_range, y_range=y_range,\n",
    "               plot_width=400, plot_height=220)\n",
    "    p.step(ts.keys(), ts.values(), line_width=2, line_dash=\"4 4\", mode=\"after\")\n",
    "    p.circle(ts.keys(), ts.values(), fill_color=\"red\", size=6)\n",
    "    return p\n",
    "\n",
    "def plot(ts):\n",
    "    show(get_figure(ts))\n",
    "    \n",
    "def plot_row(ts1, ts2, *args, x_range=X_RANGE, y_range=Y_RANGE):\n",
    "    figures = []\n",
    "    for i, ts in enumerate([ts1, ts2, *args]):\n",
    "        figure = get_figure(ts, title='ts{}'.format(i+1), x_range=x_range, y_range=y_range)\n",
    "        figures.append(figure)\n",
    "    show(row(figures))"
   ]
  },
  {
   "cell_type": "markdown",
   "metadata": {},
   "source": [
    "# Instanciation"
   ]
  },
  {
   "cell_type": "code",
   "execution_count": 17,
   "metadata": {},
   "outputs": [],
   "source": [
    "dct = {\n",
    "  '2019-01-01': 10,\n",
    "  '2019-01-01 00:10:00': 20,\n",
    "  '2019-01-01 00:15:00': 10,\n",
    "}\n",
    "ts = TimeSeries(dct)\n",
    "\n",
    "# Can set item like a dict:\n",
    "ts['2019-01-01 00:17:00'] = 1"
   ]
  },
  {
   "cell_type": "code",
   "execution_count": 18,
   "metadata": {},
   "outputs": [
    {
     "name": "stdout",
     "output_type": "stream",
     "text": [
      "<TimeSeries>\n",
      "2019-01-01T00:00:00+00:00: 10,\n",
      "2019-01-01T00:10:00+00:00: 20,\n",
      "2019-01-01T00:15:00+00:00: 10,\n",
      "2019-01-01T00:17:00+00:00: 1,\n"
     ]
    }
   ],
   "source": [
    "# Let's see it:\n",
    "print(ts)"
   ]
  },
  {
   "cell_type": "code",
   "execution_count": 19,
   "metadata": {},
   "outputs": [
    {
     "data": {
      "text/html": [
       "\n",
       "\n",
       "\n",
       "\n",
       "\n",
       "\n",
       "  <div class=\"bk-root\" id=\"e1d61ace-6376-4472-b1b7-a394f8c5dcdb\" data-root-id=\"6841\"></div>\n"
      ]
     },
     "metadata": {},
     "output_type": "display_data"
    },
    {
     "data": {
      "application/javascript": [
       "(function(root) {\n",
       "  function embed_document(root) {\n",
       "    \n",
       "  var docs_json = {\"fd709e71-2de2-407a-86eb-a04d67e41dd7\":{\"roots\":{\"references\":[{\"attributes\":{\"below\":[{\"id\":\"6852\",\"type\":\"DatetimeAxis\"}],\"center\":[{\"id\":\"6856\",\"type\":\"Grid\"},{\"id\":\"6861\",\"type\":\"Grid\"}],\"left\":[{\"id\":\"6857\",\"type\":\"LinearAxis\"}],\"plot_height\":220,\"plot_width\":400,\"renderers\":[{\"id\":\"6878\",\"type\":\"GlyphRenderer\"},{\"id\":\"6883\",\"type\":\"GlyphRenderer\"}],\"title\":{\"id\":\"6842\",\"type\":\"Title\"},\"toolbar\":{\"id\":\"6868\",\"type\":\"Toolbar\"},\"x_range\":{\"id\":\"6844\",\"type\":\"Range1d\"},\"x_scale\":{\"id\":\"6848\",\"type\":\"LinearScale\"},\"y_range\":{\"id\":\"6846\",\"type\":\"Range1d\"},\"y_scale\":{\"id\":\"6850\",\"type\":\"LinearScale\"}},\"id\":\"6841\",\"subtype\":\"Figure\",\"type\":\"Plot\"},{\"attributes\":{\"callback\":null,\"end\":1546302000000,\"start\":1546300620000},\"id\":\"6844\",\"type\":\"Range1d\"},{\"attributes\":{\"fill_alpha\":{\"value\":0.1},\"fill_color\":{\"value\":\"#1f77b4\"},\"line_alpha\":{\"value\":0.1},\"line_color\":{\"value\":\"#1f77b4\"},\"size\":{\"units\":\"screen\",\"value\":6},\"x\":{\"field\":\"x\"},\"y\":{\"field\":\"y\"}},\"id\":\"6882\",\"type\":\"Circle\"},{\"attributes\":{\"months\":[0,6]},\"id\":\"7363\",\"type\":\"MonthsTicker\"},{\"attributes\":{\"months\":[0,4,8]},\"id\":\"7362\",\"type\":\"MonthsTicker\"},{\"attributes\":{\"num_minor_ticks\":5,\"tickers\":[{\"id\":\"7353\",\"type\":\"AdaptiveTicker\"},{\"id\":\"7354\",\"type\":\"AdaptiveTicker\"},{\"id\":\"7355\",\"type\":\"AdaptiveTicker\"},{\"id\":\"7356\",\"type\":\"DaysTicker\"},{\"id\":\"7357\",\"type\":\"DaysTicker\"},{\"id\":\"7358\",\"type\":\"DaysTicker\"},{\"id\":\"7359\",\"type\":\"DaysTicker\"},{\"id\":\"7360\",\"type\":\"MonthsTicker\"},{\"id\":\"7361\",\"type\":\"MonthsTicker\"},{\"id\":\"7362\",\"type\":\"MonthsTicker\"},{\"id\":\"7363\",\"type\":\"MonthsTicker\"},{\"id\":\"7364\",\"type\":\"YearsTicker\"}]},\"id\":\"6853\",\"type\":\"DatetimeTicker\"},{\"attributes\":{},\"id\":\"7364\",\"type\":\"YearsTicker\"},{\"attributes\":{\"data_source\":{\"id\":\"6880\",\"type\":\"ColumnDataSource\"},\"glyph\":{\"id\":\"6881\",\"type\":\"Circle\"},\"hover_glyph\":null,\"muted_glyph\":null,\"nonselection_glyph\":{\"id\":\"6882\",\"type\":\"Circle\"},\"selection_glyph\":null,\"view\":{\"id\":\"6884\",\"type\":\"CDSView\"}},\"id\":\"6883\",\"type\":\"GlyphRenderer\"},{\"attributes\":{},\"id\":\"6848\",\"type\":\"LinearScale\"},{\"attributes\":{\"source\":{\"id\":\"6880\",\"type\":\"ColumnDataSource\"}},\"id\":\"6884\",\"type\":\"CDSView\"},{\"attributes\":{},\"id\":\"7365\",\"type\":\"UnionRenderers\"},{\"attributes\":{},\"id\":\"6867\",\"type\":\"HelpTool\"},{\"attributes\":{\"axis_label\":\"timestamp\",\"formatter\":{\"id\":\"7351\",\"type\":\"DatetimeTickFormatter\"},\"ticker\":{\"id\":\"6853\",\"type\":\"DatetimeTicker\"}},\"id\":\"6852\",\"type\":\"DatetimeAxis\"},{\"attributes\":{},\"id\":\"6850\",\"type\":\"LinearScale\"},{\"attributes\":{},\"id\":\"7366\",\"type\":\"Selection\"},{\"attributes\":{\"callback\":null,\"data\":{\"x\":[1546300800000.0,1546301400000.0,1546301700000.0,1546301820000.0],\"y\":[10,20,10,1]},\"selected\":{\"id\":\"7368\",\"type\":\"Selection\"},\"selection_policy\":{\"id\":\"7367\",\"type\":\"UnionRenderers\"}},\"id\":\"6880\",\"type\":\"ColumnDataSource\"},{\"attributes\":{},\"id\":\"6866\",\"type\":\"ResetTool\"},{\"attributes\":{},\"id\":\"7367\",\"type\":\"UnionRenderers\"},{\"attributes\":{\"bottom_units\":\"screen\",\"fill_alpha\":{\"value\":0.5},\"fill_color\":{\"value\":\"lightgrey\"},\"left_units\":\"screen\",\"level\":\"overlay\",\"line_alpha\":{\"value\":1.0},\"line_color\":{\"value\":\"black\"},\"line_dash\":[4,4],\"line_width\":{\"value\":2},\"render_mode\":\"css\",\"right_units\":\"screen\",\"top_units\":\"screen\"},\"id\":\"7352\",\"type\":\"BoxAnnotation\"},{\"attributes\":{},\"id\":\"7368\",\"type\":\"Selection\"},{\"attributes\":{},\"id\":\"7349\",\"type\":\"BasicTickFormatter\"},{\"attributes\":{\"callback\":null,\"end\":30,\"start\":-5},\"id\":\"6846\",\"type\":\"Range1d\"},{\"attributes\":{\"callback\":null,\"data\":{\"x\":[1546300800000.0,1546301400000.0,1546301700000.0,1546301820000.0],\"y\":[10,20,10,1]},\"selected\":{\"id\":\"7366\",\"type\":\"Selection\"},\"selection_policy\":{\"id\":\"7365\",\"type\":\"UnionRenderers\"}},\"id\":\"6875\",\"type\":\"ColumnDataSource\"},{\"attributes\":{\"mantissas\":[1,2,5],\"max_interval\":500.0,\"num_minor_ticks\":0},\"id\":\"7353\",\"type\":\"AdaptiveTicker\"},{\"attributes\":{\"source\":{\"id\":\"6875\",\"type\":\"ColumnDataSource\"}},\"id\":\"6879\",\"type\":\"CDSView\"},{\"attributes\":{},\"id\":\"7351\",\"type\":\"DatetimeTickFormatter\"},{\"attributes\":{\"base\":60,\"mantissas\":[1,2,5,10,15,20,30],\"max_interval\":1800000.0,\"min_interval\":1000.0,\"num_minor_ticks\":0},\"id\":\"7354\",\"type\":\"AdaptiveTicker\"},{\"attributes\":{\"ticker\":{\"id\":\"6853\",\"type\":\"DatetimeTicker\"}},\"id\":\"6856\",\"type\":\"Grid\"},{\"attributes\":{\"base\":24,\"mantissas\":[1,2,4,6,8,12],\"max_interval\":43200000.0,\"min_interval\":3600000.0,\"num_minor_ticks\":0},\"id\":\"7355\",\"type\":\"AdaptiveTicker\"},{\"attributes\":{\"days\":[1,2,3,4,5,6,7,8,9,10,11,12,13,14,15,16,17,18,19,20,21,22,23,24,25,26,27,28,29,30,31]},\"id\":\"7356\",\"type\":\"DaysTicker\"},{\"attributes\":{},\"id\":\"6863\",\"type\":\"WheelZoomTool\"},{\"attributes\":{\"days\":[1,4,7,10,13,16,19,22,25,28]},\"id\":\"7357\",\"type\":\"DaysTicker\"},{\"attributes\":{},\"id\":\"6865\",\"type\":\"SaveTool\"},{\"attributes\":{\"fill_color\":{\"value\":\"red\"},\"line_color\":{\"value\":\"#1f77b4\"},\"size\":{\"units\":\"screen\",\"value\":6},\"x\":{\"field\":\"x\"},\"y\":{\"field\":\"y\"}},\"id\":\"6881\",\"type\":\"Circle\"},{\"attributes\":{\"days\":[1,8,15,22]},\"id\":\"7358\",\"type\":\"DaysTicker\"},{\"attributes\":{\"overlay\":{\"id\":\"7352\",\"type\":\"BoxAnnotation\"}},\"id\":\"6864\",\"type\":\"BoxZoomTool\"},{\"attributes\":{\"months\":[0,2,4,6,8,10]},\"id\":\"7361\",\"type\":\"MonthsTicker\"},{\"attributes\":{},\"id\":\"6862\",\"type\":\"PanTool\"},{\"attributes\":{\"text\":\"Unevenly Spaced\"},\"id\":\"6842\",\"type\":\"Title\"},{\"attributes\":{\"active_drag\":\"auto\",\"active_inspect\":\"auto\",\"active_multi\":null,\"active_scroll\":\"auto\",\"active_tap\":\"auto\",\"tools\":[{\"id\":\"6862\",\"type\":\"PanTool\"},{\"id\":\"6863\",\"type\":\"WheelZoomTool\"},{\"id\":\"6864\",\"type\":\"BoxZoomTool\"},{\"id\":\"6865\",\"type\":\"SaveTool\"},{\"id\":\"6866\",\"type\":\"ResetTool\"},{\"id\":\"6867\",\"type\":\"HelpTool\"}]},\"id\":\"6868\",\"type\":\"Toolbar\"},{\"attributes\":{\"days\":[1,15]},\"id\":\"7359\",\"type\":\"DaysTicker\"},{\"attributes\":{\"data_source\":{\"id\":\"6875\",\"type\":\"ColumnDataSource\"},\"glyph\":{\"id\":\"6876\",\"type\":\"Step\"},\"hover_glyph\":null,\"muted_glyph\":null,\"nonselection_glyph\":{\"id\":\"6877\",\"type\":\"Step\"},\"selection_glyph\":null,\"view\":{\"id\":\"6879\",\"type\":\"CDSView\"}},\"id\":\"6878\",\"type\":\"GlyphRenderer\"},{\"attributes\":{},\"id\":\"6858\",\"type\":\"BasicTicker\"},{\"attributes\":{\"months\":[0,1,2,3,4,5,6,7,8,9,10,11]},\"id\":\"7360\",\"type\":\"MonthsTicker\"},{\"attributes\":{\"axis_label\":\"IoT sensor\",\"formatter\":{\"id\":\"7349\",\"type\":\"BasicTickFormatter\"},\"ticker\":{\"id\":\"6858\",\"type\":\"BasicTicker\"}},\"id\":\"6857\",\"type\":\"LinearAxis\"},{\"attributes\":{\"line_color\":{\"value\":\"#1f77b4\"},\"line_dash\":[4,4],\"line_width\":{\"value\":2},\"mode\":\"after\",\"x\":{\"field\":\"x\"},\"y\":{\"field\":\"y\"}},\"id\":\"6876\",\"type\":\"Step\"},{\"attributes\":{\"dimension\":1,\"ticker\":{\"id\":\"6858\",\"type\":\"BasicTicker\"}},\"id\":\"6861\",\"type\":\"Grid\"},{\"attributes\":{\"line_alpha\":{\"value\":0.1},\"line_color\":{\"value\":\"#1f77b4\"},\"line_dash\":[4,4],\"line_width\":{\"value\":2},\"mode\":\"after\",\"x\":{\"field\":\"x\"},\"y\":{\"field\":\"y\"}},\"id\":\"6877\",\"type\":\"Step\"}],\"root_ids\":[\"6841\"]},\"title\":\"Bokeh Application\",\"version\":\"1.2.0\"}};\n",
       "  var render_items = [{\"docid\":\"fd709e71-2de2-407a-86eb-a04d67e41dd7\",\"roots\":{\"6841\":\"e1d61ace-6376-4472-b1b7-a394f8c5dcdb\"}}];\n",
       "  root.Bokeh.embed.embed_items_notebook(docs_json, render_items);\n",
       "\n",
       "  }\n",
       "  if (root.Bokeh !== undefined) {\n",
       "    embed_document(root);\n",
       "  } else {\n",
       "    var attempts = 0;\n",
       "    var timer = setInterval(function(root) {\n",
       "      if (root.Bokeh !== undefined) {\n",
       "        embed_document(root);\n",
       "        clearInterval(timer);\n",
       "      }\n",
       "      attempts++;\n",
       "      if (attempts > 100) {\n",
       "        console.log(\"Bokeh: ERROR: Unable to run BokehJS code because BokehJS library is missing\");\n",
       "        clearInterval(timer);\n",
       "      }\n",
       "    }, 10, root)\n",
       "  }\n",
       "})(window);"
      ],
      "application/vnd.bokehjs_exec.v0+json": ""
     },
     "metadata": {
      "application/vnd.bokehjs_exec.v0+json": {
       "id": "6841"
      }
     },
     "output_type": "display_data"
    }
   ],
   "source": [
    "plot(ts)"
   ]
  },
  {
   "cell_type": "markdown",
   "metadata": {},
   "source": [
    "# Some rules\n",
    "\n",
    "- A value is applied from its timestamp, until the next one"
   ]
  },
  {
   "cell_type": "code",
   "execution_count": 20,
   "metadata": {},
   "outputs": [
    {
     "name": "stdout",
     "output_type": "stream",
     "text": [
      "At '2019-01-01 00:13:00' got 20\n"
     ]
    }
   ],
   "source": [
    "# Can access any timestamp, if the timestamp is not part of the keys, it will get the previous value\n",
    "dt = '2019-01-01 00:13:00'\n",
    "value = ts[dt]\n",
    "print(\"At '{}' got {}\".format(dt, value))"
   ]
  },
  {
   "cell_type": "code",
   "execution_count": 21,
   "metadata": {},
   "outputs": [
    {
     "name": "stdout",
     "output_type": "stream",
     "text": [
      "At '2060-12-30' got 1\n"
     ]
    }
   ],
   "source": [
    "# Above right bound\n",
    "dt = '2060-12-30'\n",
    "value = ts[dt]\n",
    "print(\"At '{}' got {}\".format(dt, value))"
   ]
  },
  {
   "cell_type": "code",
   "execution_count": 22,
   "metadata": {},
   "outputs": [
    {
     "name": "stdout",
     "output_type": "stream",
     "text": [
      "At '2018-12-30' got None\n"
     ]
    }
   ],
   "source": [
    "# Below left bound\n",
    "dt = '2018-12-30'\n",
    "value = ts[dt]\n",
    "print(\"At '{}' got {}\".format(dt, value))"
   ]
  },
  {
   "cell_type": "code",
   "execution_count": 23,
   "metadata": {},
   "outputs": [
    {
     "name": "stdout",
     "output_type": "stream",
     "text": [
      "At '2018-12-30' got 100\n",
      "At '2018-12-30' got 5\n"
     ]
    }
   ],
   "source": [
    "# This happen when no default is set, as there is no previous value !\n",
    "# Here is how to set your default:\n",
    "ts_withdefault = TimeSeries(ts, default=100)\n",
    "value = ts_withdefault[dt]\n",
    "print(\"At '{}' got {}\".format(dt, value))\n",
    "\n",
    "# or\n",
    "ts_withdefault.default=5\n",
    "value = ts_withdefault[dt]\n",
    "print(\"At '{}' got {}\".format(dt, value))"
   ]
  },
  {
   "cell_type": "markdown",
   "metadata": {},
   "source": [
    "## Operations\n",
    "\n",
    "- sum and rsum\n",
    "- sub\n",
    "- mul\n",
    "- div\n",
    "- le\n",
    "- lt\n",
    "- ge\n",
    "- gt\n",
    "- ceil\n",
    "- floor"
   ]
  },
  {
   "cell_type": "code",
   "execution_count": 24,
   "metadata": {},
   "outputs": [],
   "source": [
    "# Let's define another one\n",
    "ts2 = TimeSeries(default=0)\n",
    "ts2['2019-01-01 00:07:00'] = -1\n",
    "ts2['2019-01-01 00:10:00'] = 5\n",
    "ts2['2019-01-01 00:12:00'] = 14"
   ]
  },
  {
   "cell_type": "code",
   "execution_count": 25,
   "metadata": {},
   "outputs": [
    {
     "data": {
      "text/html": [
       "\n",
       "\n",
       "\n",
       "\n",
       "\n",
       "\n",
       "  <div class=\"bk-root\" id=\"ae803645-b4e3-41f2-9a57-6a3bba4bb38b\" data-root-id=\"7589\"></div>\n"
      ]
     },
     "metadata": {},
     "output_type": "display_data"
    },
    {
     "data": {
      "application/javascript": [
       "(function(root) {\n",
       "  function embed_document(root) {\n",
       "    \n",
       "  var docs_json = {\"0fab201d-6e5f-40e0-a3bb-76ae04248b88\":{\"roots\":{\"references\":[{\"attributes\":{\"children\":[{\"id\":\"7501\",\"subtype\":\"Figure\",\"type\":\"Plot\"},{\"id\":\"7545\",\"subtype\":\"Figure\",\"type\":\"Plot\"}]},\"id\":\"7589\",\"type\":\"Row\"},{\"attributes\":{},\"id\":\"8117\",\"type\":\"Selection\"},{\"attributes\":{\"fill_alpha\":{\"value\":0.1},\"fill_color\":{\"value\":\"#1f77b4\"},\"line_alpha\":{\"value\":0.1},\"line_color\":{\"value\":\"#1f77b4\"},\"size\":{\"units\":\"screen\",\"value\":6},\"x\":{\"field\":\"x\"},\"y\":{\"field\":\"y\"}},\"id\":\"7542\",\"type\":\"Circle\"},{\"attributes\":{},\"id\":\"8083\",\"type\":\"DatetimeTickFormatter\"},{\"attributes\":{\"bottom_units\":\"screen\",\"fill_alpha\":{\"value\":0.5},\"fill_color\":{\"value\":\"lightgrey\"},\"left_units\":\"screen\",\"level\":\"overlay\",\"line_alpha\":{\"value\":1.0},\"line_color\":{\"value\":\"black\"},\"line_dash\":[4,4],\"line_width\":{\"value\":2},\"render_mode\":\"css\",\"right_units\":\"screen\",\"top_units\":\"screen\"},\"id\":\"8084\",\"type\":\"BoxAnnotation\"},{\"attributes\":{},\"id\":\"8081\",\"type\":\"BasicTickFormatter\"},{\"attributes\":{\"mantissas\":[1,2,5],\"max_interval\":500.0,\"num_minor_ticks\":0},\"id\":\"8085\",\"type\":\"AdaptiveTicker\"},{\"attributes\":{\"data_source\":{\"id\":\"7540\",\"type\":\"ColumnDataSource\"},\"glyph\":{\"id\":\"7541\",\"type\":\"Circle\"},\"hover_glyph\":null,\"muted_glyph\":null,\"nonselection_glyph\":{\"id\":\"7542\",\"type\":\"Circle\"},\"selection_glyph\":null,\"view\":{\"id\":\"7544\",\"type\":\"CDSView\"}},\"id\":\"7543\",\"type\":\"GlyphRenderer\"},{\"attributes\":{\"source\":{\"id\":\"7540\",\"type\":\"ColumnDataSource\"}},\"id\":\"7544\",\"type\":\"CDSView\"},{\"attributes\":{\"base\":60,\"mantissas\":[1,2,5,10,15,20,30],\"max_interval\":1800000.0,\"min_interval\":1000.0,\"num_minor_ticks\":0},\"id\":\"8086\",\"type\":\"AdaptiveTicker\"},{\"attributes\":{\"base\":24,\"mantissas\":[1,2,4,6,8,12],\"max_interval\":43200000.0,\"min_interval\":3600000.0,\"num_minor_ticks\":0},\"id\":\"8087\",\"type\":\"AdaptiveTicker\"},{\"attributes\":{\"below\":[{\"id\":\"7556\",\"type\":\"DatetimeAxis\"}],\"center\":[{\"id\":\"7560\",\"type\":\"Grid\"},{\"id\":\"7565\",\"type\":\"Grid\"}],\"left\":[{\"id\":\"7561\",\"type\":\"LinearAxis\"}],\"plot_height\":220,\"plot_width\":400,\"renderers\":[{\"id\":\"7582\",\"type\":\"GlyphRenderer\"},{\"id\":\"7587\",\"type\":\"GlyphRenderer\"}],\"title\":{\"id\":\"7546\",\"type\":\"Title\"},\"toolbar\":{\"id\":\"7572\",\"type\":\"Toolbar\"},\"x_range\":{\"id\":\"7548\",\"type\":\"Range1d\"},\"x_scale\":{\"id\":\"7552\",\"type\":\"LinearScale\"},\"y_range\":{\"id\":\"7550\",\"type\":\"Range1d\"},\"y_scale\":{\"id\":\"7554\",\"type\":\"LinearScale\"}},\"id\":\"7545\",\"subtype\":\"Figure\",\"type\":\"Plot\"},{\"attributes\":{\"below\":[{\"id\":\"7512\",\"type\":\"DatetimeAxis\"}],\"center\":[{\"id\":\"7516\",\"type\":\"Grid\"},{\"id\":\"7521\",\"type\":\"Grid\"}],\"left\":[{\"id\":\"7517\",\"type\":\"LinearAxis\"}],\"plot_height\":220,\"plot_width\":400,\"renderers\":[{\"id\":\"7538\",\"type\":\"GlyphRenderer\"},{\"id\":\"7543\",\"type\":\"GlyphRenderer\"}],\"title\":{\"id\":\"7502\",\"type\":\"Title\"},\"toolbar\":{\"id\":\"7528\",\"type\":\"Toolbar\"},\"x_range\":{\"id\":\"7504\",\"type\":\"Range1d\"},\"x_scale\":{\"id\":\"7508\",\"type\":\"LinearScale\"},\"y_range\":{\"id\":\"7506\",\"type\":\"Range1d\"},\"y_scale\":{\"id\":\"7510\",\"type\":\"LinearScale\"}},\"id\":\"7501\",\"subtype\":\"Figure\",\"type\":\"Plot\"},{\"attributes\":{\"days\":[1,2,3,4,5,6,7,8,9,10,11,12,13,14,15,16,17,18,19,20,21,22,23,24,25,26,27,28,29,30,31]},\"id\":\"8088\",\"type\":\"DaysTicker\"},{\"attributes\":{\"data_source\":{\"id\":\"7579\",\"type\":\"ColumnDataSource\"},\"glyph\":{\"id\":\"7580\",\"type\":\"Step\"},\"hover_glyph\":null,\"muted_glyph\":null,\"nonselection_glyph\":{\"id\":\"7581\",\"type\":\"Step\"},\"selection_glyph\":null,\"view\":{\"id\":\"7583\",\"type\":\"CDSView\"}},\"id\":\"7582\",\"type\":\"GlyphRenderer\"},{\"attributes\":{\"text\":\"ts2\"},\"id\":\"7546\",\"type\":\"Title\"},{\"attributes\":{\"days\":[1,4,7,10,13,16,19,22,25,28]},\"id\":\"8089\",\"type\":\"DaysTicker\"},{\"attributes\":{\"callback\":null,\"end\":1546302000000,\"start\":1546300620000},\"id\":\"7548\",\"type\":\"Range1d\"},{\"attributes\":{\"days\":[1,8,15,22]},\"id\":\"8090\",\"type\":\"DaysTicker\"},{\"attributes\":{\"text\":\"ts1\"},\"id\":\"7502\",\"type\":\"Title\"},{\"attributes\":{\"callback\":null,\"end\":40,\"start\":-5},\"id\":\"7550\",\"type\":\"Range1d\"},{\"attributes\":{\"days\":[1,15]},\"id\":\"8091\",\"type\":\"DaysTicker\"},{\"attributes\":{},\"id\":\"7552\",\"type\":\"LinearScale\"},{\"attributes\":{\"months\":[0,1,2,3,4,5,6,7,8,9,10,11]},\"id\":\"8092\",\"type\":\"MonthsTicker\"},{\"attributes\":{},\"id\":\"7554\",\"type\":\"LinearScale\"},{\"attributes\":{\"months\":[0,2,4,6,8,10]},\"id\":\"8093\",\"type\":\"MonthsTicker\"},{\"attributes\":{\"axis_label\":\"timestamp\",\"formatter\":{\"id\":\"8083\",\"type\":\"DatetimeTickFormatter\"},\"ticker\":{\"id\":\"7557\",\"type\":\"DatetimeTicker\"}},\"id\":\"7556\",\"type\":\"DatetimeAxis\"},{\"attributes\":{\"months\":[0,4,8]},\"id\":\"8094\",\"type\":\"MonthsTicker\"},{\"attributes\":{\"callback\":null,\"end\":1546302000000,\"start\":1546300620000},\"id\":\"7504\",\"type\":\"Range1d\"},{\"attributes\":{\"num_minor_ticks\":5,\"tickers\":[{\"id\":\"8102\",\"type\":\"AdaptiveTicker\"},{\"id\":\"8103\",\"type\":\"AdaptiveTicker\"},{\"id\":\"8104\",\"type\":\"AdaptiveTicker\"},{\"id\":\"8105\",\"type\":\"DaysTicker\"},{\"id\":\"8106\",\"type\":\"DaysTicker\"},{\"id\":\"8107\",\"type\":\"DaysTicker\"},{\"id\":\"8108\",\"type\":\"DaysTicker\"},{\"id\":\"8109\",\"type\":\"MonthsTicker\"},{\"id\":\"8110\",\"type\":\"MonthsTicker\"},{\"id\":\"8111\",\"type\":\"MonthsTicker\"},{\"id\":\"8112\",\"type\":\"MonthsTicker\"},{\"id\":\"8113\",\"type\":\"YearsTicker\"}]},\"id\":\"7557\",\"type\":\"DatetimeTicker\"},{\"attributes\":{\"months\":[0,6]},\"id\":\"8095\",\"type\":\"MonthsTicker\"},{\"attributes\":{\"ticker\":{\"id\":\"7557\",\"type\":\"DatetimeTicker\"}},\"id\":\"7560\",\"type\":\"Grid\"},{\"attributes\":{},\"id\":\"8096\",\"type\":\"YearsTicker\"},{\"attributes\":{\"callback\":null,\"end\":40,\"start\":-5},\"id\":\"7506\",\"type\":\"Range1d\"},{\"attributes\":{\"axis_label\":\"IoT sensor\",\"formatter\":{\"id\":\"8081\",\"type\":\"BasicTickFormatter\"},\"ticker\":{\"id\":\"7562\",\"type\":\"BasicTicker\"}},\"id\":\"7561\",\"type\":\"LinearAxis\"},{\"attributes\":{},\"id\":\"8097\",\"type\":\"UnionRenderers\"},{\"attributes\":{},\"id\":\"7508\",\"type\":\"LinearScale\"},{\"attributes\":{},\"id\":\"7562\",\"type\":\"BasicTicker\"},{\"attributes\":{},\"id\":\"8098\",\"type\":\"Selection\"},{\"attributes\":{},\"id\":\"7510\",\"type\":\"LinearScale\"},{\"attributes\":{},\"id\":\"8099\",\"type\":\"UnionRenderers\"},{\"attributes\":{\"dimension\":1,\"ticker\":{\"id\":\"7562\",\"type\":\"BasicTicker\"}},\"id\":\"7565\",\"type\":\"Grid\"},{\"attributes\":{\"axis_label\":\"timestamp\",\"formatter\":{\"id\":\"8079\",\"type\":\"DatetimeTickFormatter\"},\"ticker\":{\"id\":\"7513\",\"type\":\"DatetimeTicker\"}},\"id\":\"7512\",\"type\":\"DatetimeAxis\"},{\"attributes\":{},\"id\":\"8100\",\"type\":\"Selection\"},{\"attributes\":{\"num_minor_ticks\":5,\"tickers\":[{\"id\":\"8085\",\"type\":\"AdaptiveTicker\"},{\"id\":\"8086\",\"type\":\"AdaptiveTicker\"},{\"id\":\"8087\",\"type\":\"AdaptiveTicker\"},{\"id\":\"8088\",\"type\":\"DaysTicker\"},{\"id\":\"8089\",\"type\":\"DaysTicker\"},{\"id\":\"8090\",\"type\":\"DaysTicker\"},{\"id\":\"8091\",\"type\":\"DaysTicker\"},{\"id\":\"8092\",\"type\":\"MonthsTicker\"},{\"id\":\"8093\",\"type\":\"MonthsTicker\"},{\"id\":\"8094\",\"type\":\"MonthsTicker\"},{\"id\":\"8095\",\"type\":\"MonthsTicker\"},{\"id\":\"8096\",\"type\":\"YearsTicker\"}]},\"id\":\"7513\",\"type\":\"DatetimeTicker\"},{\"attributes\":{\"line_alpha\":{\"value\":0.1},\"line_color\":{\"value\":\"#1f77b4\"},\"line_dash\":[4,4],\"line_width\":{\"value\":2},\"mode\":\"after\",\"x\":{\"field\":\"x\"},\"y\":{\"field\":\"y\"}},\"id\":\"7581\",\"type\":\"Step\"},{\"attributes\":{\"bottom_units\":\"screen\",\"fill_alpha\":{\"value\":0.5},\"fill_color\":{\"value\":\"lightgrey\"},\"left_units\":\"screen\",\"level\":\"overlay\",\"line_alpha\":{\"value\":1.0},\"line_color\":{\"value\":\"black\"},\"line_dash\":[4,4],\"line_width\":{\"value\":2},\"render_mode\":\"css\",\"right_units\":\"screen\",\"top_units\":\"screen\"},\"id\":\"8101\",\"type\":\"BoxAnnotation\"},{\"attributes\":{\"ticker\":{\"id\":\"7513\",\"type\":\"DatetimeTicker\"}},\"id\":\"7516\",\"type\":\"Grid\"},{\"attributes\":{\"line_color\":{\"value\":\"#1f77b4\"},\"line_dash\":[4,4],\"line_width\":{\"value\":2},\"mode\":\"after\",\"x\":{\"field\":\"x\"},\"y\":{\"field\":\"y\"}},\"id\":\"7580\",\"type\":\"Step\"},{\"attributes\":{\"active_drag\":\"auto\",\"active_inspect\":\"auto\",\"active_multi\":null,\"active_scroll\":\"auto\",\"active_tap\":\"auto\",\"tools\":[{\"id\":\"7566\",\"type\":\"PanTool\"},{\"id\":\"7567\",\"type\":\"WheelZoomTool\"},{\"id\":\"7568\",\"type\":\"BoxZoomTool\"},{\"id\":\"7569\",\"type\":\"SaveTool\"},{\"id\":\"7570\",\"type\":\"ResetTool\"},{\"id\":\"7571\",\"type\":\"HelpTool\"}]},\"id\":\"7572\",\"type\":\"Toolbar\"},{\"attributes\":{\"mantissas\":[1,2,5],\"max_interval\":500.0,\"num_minor_ticks\":0},\"id\":\"8102\",\"type\":\"AdaptiveTicker\"},{\"attributes\":{\"axis_label\":\"IoT sensor\",\"formatter\":{\"id\":\"8077\",\"type\":\"BasicTickFormatter\"},\"ticker\":{\"id\":\"7518\",\"type\":\"BasicTicker\"}},\"id\":\"7517\",\"type\":\"LinearAxis\"},{\"attributes\":{},\"id\":\"7566\",\"type\":\"PanTool\"},{\"attributes\":{},\"id\":\"7518\",\"type\":\"BasicTicker\"},{\"attributes\":{},\"id\":\"7567\",\"type\":\"WheelZoomTool\"},{\"attributes\":{\"base\":60,\"mantissas\":[1,2,5,10,15,20,30],\"max_interval\":1800000.0,\"min_interval\":1000.0,\"num_minor_ticks\":0},\"id\":\"8103\",\"type\":\"AdaptiveTicker\"},{\"attributes\":{\"dimension\":1,\"ticker\":{\"id\":\"7518\",\"type\":\"BasicTicker\"}},\"id\":\"7521\",\"type\":\"Grid\"},{\"attributes\":{\"overlay\":{\"id\":\"8101\",\"type\":\"BoxAnnotation\"}},\"id\":\"7568\",\"type\":\"BoxZoomTool\"},{\"attributes\":{\"base\":24,\"mantissas\":[1,2,4,6,8,12],\"max_interval\":43200000.0,\"min_interval\":3600000.0,\"num_minor_ticks\":0},\"id\":\"8104\",\"type\":\"AdaptiveTicker\"},{\"attributes\":{\"line_alpha\":{\"value\":0.1},\"line_color\":{\"value\":\"#1f77b4\"},\"line_dash\":[4,4],\"line_width\":{\"value\":2},\"mode\":\"after\",\"x\":{\"field\":\"x\"},\"y\":{\"field\":\"y\"}},\"id\":\"7537\",\"type\":\"Step\"},{\"attributes\":{},\"id\":\"7569\",\"type\":\"SaveTool\"},{\"attributes\":{\"days\":[1,2,3,4,5,6,7,8,9,10,11,12,13,14,15,16,17,18,19,20,21,22,23,24,25,26,27,28,29,30,31]},\"id\":\"8105\",\"type\":\"DaysTicker\"},{\"attributes\":{\"line_color\":{\"value\":\"#1f77b4\"},\"line_dash\":[4,4],\"line_width\":{\"value\":2},\"mode\":\"after\",\"x\":{\"field\":\"x\"},\"y\":{\"field\":\"y\"}},\"id\":\"7536\",\"type\":\"Step\"},{\"attributes\":{},\"id\":\"7570\",\"type\":\"ResetTool\"},{\"attributes\":{\"days\":[1,4,7,10,13,16,19,22,25,28]},\"id\":\"8106\",\"type\":\"DaysTicker\"},{\"attributes\":{\"callback\":null,\"data\":{\"x\":[1546300800000.0,1546301400000.0,1546301700000.0,1546301820000.0],\"y\":[10,20,10,1]},\"selected\":{\"id\":\"8098\",\"type\":\"Selection\"},\"selection_policy\":{\"id\":\"8097\",\"type\":\"UnionRenderers\"}},\"id\":\"7535\",\"type\":\"ColumnDataSource\"},{\"attributes\":{\"active_drag\":\"auto\",\"active_inspect\":\"auto\",\"active_multi\":null,\"active_scroll\":\"auto\",\"active_tap\":\"auto\",\"tools\":[{\"id\":\"7522\",\"type\":\"PanTool\"},{\"id\":\"7523\",\"type\":\"WheelZoomTool\"},{\"id\":\"7524\",\"type\":\"BoxZoomTool\"},{\"id\":\"7525\",\"type\":\"SaveTool\"},{\"id\":\"7526\",\"type\":\"ResetTool\"},{\"id\":\"7527\",\"type\":\"HelpTool\"}]},\"id\":\"7528\",\"type\":\"Toolbar\"},{\"attributes\":{},\"id\":\"7571\",\"type\":\"HelpTool\"},{\"attributes\":{\"callback\":null,\"data\":{\"x\":[1546300800000.0,1546301400000.0,1546301700000.0,1546301820000.0],\"y\":[20,30,20,11]},\"selected\":{\"id\":\"8115\",\"type\":\"Selection\"},\"selection_policy\":{\"id\":\"8114\",\"type\":\"UnionRenderers\"}},\"id\":\"7579\",\"type\":\"ColumnDataSource\"},{\"attributes\":{\"days\":[1,8,15,22]},\"id\":\"8107\",\"type\":\"DaysTicker\"},{\"attributes\":{},\"id\":\"7522\",\"type\":\"PanTool\"},{\"attributes\":{\"days\":[1,15]},\"id\":\"8108\",\"type\":\"DaysTicker\"},{\"attributes\":{},\"id\":\"7523\",\"type\":\"WheelZoomTool\"},{\"attributes\":{\"source\":{\"id\":\"7579\",\"type\":\"ColumnDataSource\"}},\"id\":\"7583\",\"type\":\"CDSView\"},{\"attributes\":{\"months\":[0,1,2,3,4,5,6,7,8,9,10,11]},\"id\":\"8109\",\"type\":\"MonthsTicker\"},{\"attributes\":{\"overlay\":{\"id\":\"8084\",\"type\":\"BoxAnnotation\"}},\"id\":\"7524\",\"type\":\"BoxZoomTool\"},{\"attributes\":{\"callback\":null,\"data\":{\"x\":[1546300800000.0,1546301400000.0,1546301700000.0,1546301820000.0],\"y\":[20,30,20,11]},\"selected\":{\"id\":\"8117\",\"type\":\"Selection\"},\"selection_policy\":{\"id\":\"8116\",\"type\":\"UnionRenderers\"}},\"id\":\"7584\",\"type\":\"ColumnDataSource\"},{\"attributes\":{\"months\":[0,2,4,6,8,10]},\"id\":\"8110\",\"type\":\"MonthsTicker\"},{\"attributes\":{},\"id\":\"7525\",\"type\":\"SaveTool\"},{\"attributes\":{\"fill_color\":{\"value\":\"red\"},\"line_color\":{\"value\":\"#1f77b4\"},\"size\":{\"units\":\"screen\",\"value\":6},\"x\":{\"field\":\"x\"},\"y\":{\"field\":\"y\"}},\"id\":\"7585\",\"type\":\"Circle\"},{\"attributes\":{\"months\":[0,4,8]},\"id\":\"8111\",\"type\":\"MonthsTicker\"},{\"attributes\":{},\"id\":\"7526\",\"type\":\"ResetTool\"},{\"attributes\":{\"fill_alpha\":{\"value\":0.1},\"fill_color\":{\"value\":\"#1f77b4\"},\"line_alpha\":{\"value\":0.1},\"line_color\":{\"value\":\"#1f77b4\"},\"size\":{\"units\":\"screen\",\"value\":6},\"x\":{\"field\":\"x\"},\"y\":{\"field\":\"y\"}},\"id\":\"7586\",\"type\":\"Circle\"},{\"attributes\":{\"months\":[0,6]},\"id\":\"8112\",\"type\":\"MonthsTicker\"},{\"attributes\":{},\"id\":\"7527\",\"type\":\"HelpTool\"},{\"attributes\":{\"data_source\":{\"id\":\"7584\",\"type\":\"ColumnDataSource\"},\"glyph\":{\"id\":\"7585\",\"type\":\"Circle\"},\"hover_glyph\":null,\"muted_glyph\":null,\"nonselection_glyph\":{\"id\":\"7586\",\"type\":\"Circle\"},\"selection_glyph\":null,\"view\":{\"id\":\"7588\",\"type\":\"CDSView\"}},\"id\":\"7587\",\"type\":\"GlyphRenderer\"},{\"attributes\":{},\"id\":\"8113\",\"type\":\"YearsTicker\"},{\"attributes\":{\"source\":{\"id\":\"7584\",\"type\":\"ColumnDataSource\"}},\"id\":\"7588\",\"type\":\"CDSView\"},{\"attributes\":{},\"id\":\"8114\",\"type\":\"UnionRenderers\"},{\"attributes\":{\"data_source\":{\"id\":\"7535\",\"type\":\"ColumnDataSource\"},\"glyph\":{\"id\":\"7536\",\"type\":\"Step\"},\"hover_glyph\":null,\"muted_glyph\":null,\"nonselection_glyph\":{\"id\":\"7537\",\"type\":\"Step\"},\"selection_glyph\":null,\"view\":{\"id\":\"7539\",\"type\":\"CDSView\"}},\"id\":\"7538\",\"type\":\"GlyphRenderer\"},{\"attributes\":{},\"id\":\"8115\",\"type\":\"Selection\"},{\"attributes\":{\"source\":{\"id\":\"7535\",\"type\":\"ColumnDataSource\"}},\"id\":\"7539\",\"type\":\"CDSView\"},{\"attributes\":{},\"id\":\"8077\",\"type\":\"BasicTickFormatter\"},{\"attributes\":{},\"id\":\"8116\",\"type\":\"UnionRenderers\"},{\"attributes\":{\"callback\":null,\"data\":{\"x\":[1546300800000.0,1546301400000.0,1546301700000.0,1546301820000.0],\"y\":[10,20,10,1]},\"selected\":{\"id\":\"8100\",\"type\":\"Selection\"},\"selection_policy\":{\"id\":\"8099\",\"type\":\"UnionRenderers\"}},\"id\":\"7540\",\"type\":\"ColumnDataSource\"},{\"attributes\":{},\"id\":\"8079\",\"type\":\"DatetimeTickFormatter\"},{\"attributes\":{\"fill_color\":{\"value\":\"red\"},\"line_color\":{\"value\":\"#1f77b4\"},\"size\":{\"units\":\"screen\",\"value\":6},\"x\":{\"field\":\"x\"},\"y\":{\"field\":\"y\"}},\"id\":\"7541\",\"type\":\"Circle\"}],\"root_ids\":[\"7589\"]},\"title\":\"Bokeh Application\",\"version\":\"1.2.0\"}};\n",
       "  var render_items = [{\"docid\":\"0fab201d-6e5f-40e0-a3bb-76ae04248b88\",\"roots\":{\"7589\":\"ae803645-b4e3-41f2-9a57-6a3bba4bb38b\"}}];\n",
       "  root.Bokeh.embed.embed_items_notebook(docs_json, render_items);\n",
       "\n",
       "  }\n",
       "  if (root.Bokeh !== undefined) {\n",
       "    embed_document(root);\n",
       "  } else {\n",
       "    var attempts = 0;\n",
       "    var timer = setInterval(function(root) {\n",
       "      if (root.Bokeh !== undefined) {\n",
       "        embed_document(root);\n",
       "        clearInterval(timer);\n",
       "      }\n",
       "      attempts++;\n",
       "      if (attempts > 100) {\n",
       "        console.log(\"Bokeh: ERROR: Unable to run BokehJS code because BokehJS library is missing\");\n",
       "        clearInterval(timer);\n",
       "      }\n",
       "    }, 10, root)\n",
       "  }\n",
       "})(window);"
      ],
      "application/vnd.bokehjs_exec.v0+json": ""
     },
     "metadata": {
      "application/vnd.bokehjs_exec.v0+json": {
       "id": "7589"
      }
     },
     "output_type": "display_data"
    },
    {
     "data": {
      "text/html": [
       "\n",
       "\n",
       "\n",
       "\n",
       "\n",
       "\n",
       "  <div class=\"bk-root\" id=\"5f4d69e1-cbdd-410d-a4d7-f60da8382fa1\" data-root-id=\"8514\"></div>\n"
      ]
     },
     "metadata": {},
     "output_type": "display_data"
    },
    {
     "data": {
      "application/javascript": [
       "(function(root) {\n",
       "  function embed_document(root) {\n",
       "    \n",
       "  var docs_json = {\"9c6ed98f-d3b9-4a1e-9edf-f6d32424d682\":{\"roots\":{\"references\":[{\"attributes\":{\"children\":[{\"id\":\"8382\",\"subtype\":\"Figure\",\"type\":\"Plot\"},{\"id\":\"8426\",\"subtype\":\"Figure\",\"type\":\"Plot\"},{\"id\":\"8470\",\"subtype\":\"Figure\",\"type\":\"Plot\"}]},\"id\":\"8514\",\"type\":\"Row\"},{\"attributes\":{\"months\":[0,2,4,6,8,10]},\"id\":\"9084\",\"type\":\"MonthsTicker\"},{\"attributes\":{\"text\":\"ts1\"},\"id\":\"8383\",\"type\":\"Title\"},{\"attributes\":{\"active_drag\":\"auto\",\"active_inspect\":\"auto\",\"active_multi\":null,\"active_scroll\":\"auto\",\"active_tap\":\"auto\",\"tools\":[{\"id\":\"8447\",\"type\":\"PanTool\"},{\"id\":\"8448\",\"type\":\"WheelZoomTool\"},{\"id\":\"8449\",\"type\":\"BoxZoomTool\"},{\"id\":\"8450\",\"type\":\"SaveTool\"},{\"id\":\"8451\",\"type\":\"ResetTool\"},{\"id\":\"8452\",\"type\":\"HelpTool\"}]},\"id\":\"8453\",\"type\":\"Toolbar\"},{\"attributes\":{\"months\":[0,4,8]},\"id\":\"9085\",\"type\":\"MonthsTicker\"},{\"attributes\":{\"data_source\":{\"id\":\"8460\",\"type\":\"ColumnDataSource\"},\"glyph\":{\"id\":\"8461\",\"type\":\"Step\"},\"hover_glyph\":null,\"muted_glyph\":null,\"nonselection_glyph\":{\"id\":\"8462\",\"type\":\"Step\"},\"selection_glyph\":null,\"view\":{\"id\":\"8464\",\"type\":\"CDSView\"}},\"id\":\"8463\",\"type\":\"GlyphRenderer\"},{\"attributes\":{\"months\":[0,6]},\"id\":\"9086\",\"type\":\"MonthsTicker\"},{\"attributes\":{\"source\":{\"id\":\"8460\",\"type\":\"ColumnDataSource\"}},\"id\":\"8464\",\"type\":\"CDSView\"},{\"attributes\":{},\"id\":\"9087\",\"type\":\"YearsTicker\"},{\"attributes\":{\"callback\":null,\"data\":{\"x\":[1546301220000.0,1546301400000.0,1546301520000.0],\"y\":[-1,5,14]},\"selected\":{\"id\":\"9091\",\"type\":\"Selection\"},\"selection_policy\":{\"id\":\"9090\",\"type\":\"UnionRenderers\"}},\"id\":\"8465\",\"type\":\"ColumnDataSource\"},{\"attributes\":{},\"id\":\"9088\",\"type\":\"UnionRenderers\"},{\"attributes\":{\"months\":[0,1,2,3,4,5,6,7,8,9,10,11]},\"id\":\"9083\",\"type\":\"MonthsTicker\"},{\"attributes\":{\"fill_color\":{\"value\":\"red\"},\"line_color\":{\"value\":\"#1f77b4\"},\"size\":{\"units\":\"screen\",\"value\":6},\"x\":{\"field\":\"x\"},\"y\":{\"field\":\"y\"}},\"id\":\"8466\",\"type\":\"Circle\"},{\"attributes\":{\"fill_alpha\":{\"value\":0.1},\"fill_color\":{\"value\":\"#1f77b4\"},\"line_alpha\":{\"value\":0.1},\"line_color\":{\"value\":\"#1f77b4\"},\"size\":{\"units\":\"screen\",\"value\":6},\"x\":{\"field\":\"x\"},\"y\":{\"field\":\"y\"}},\"id\":\"8467\",\"type\":\"Circle\"},{\"attributes\":{},\"id\":\"9089\",\"type\":\"Selection\"},{\"attributes\":{},\"id\":\"9090\",\"type\":\"UnionRenderers\"},{\"attributes\":{\"data_source\":{\"id\":\"8465\",\"type\":\"ColumnDataSource\"},\"glyph\":{\"id\":\"8466\",\"type\":\"Circle\"},\"hover_glyph\":null,\"muted_glyph\":null,\"nonselection_glyph\":{\"id\":\"8467\",\"type\":\"Circle\"},\"selection_glyph\":null,\"view\":{\"id\":\"8469\",\"type\":\"CDSView\"}},\"id\":\"8468\",\"type\":\"GlyphRenderer\"},{\"attributes\":{},\"id\":\"9091\",\"type\":\"Selection\"},{\"attributes\":{\"source\":{\"id\":\"8465\",\"type\":\"ColumnDataSource\"}},\"id\":\"8469\",\"type\":\"CDSView\"},{\"attributes\":{\"bottom_units\":\"screen\",\"fill_alpha\":{\"value\":0.5},\"fill_color\":{\"value\":\"lightgrey\"},\"left_units\":\"screen\",\"level\":\"overlay\",\"line_alpha\":{\"value\":1.0},\"line_color\":{\"value\":\"black\"},\"line_dash\":[4,4],\"line_width\":{\"value\":2},\"render_mode\":\"css\",\"right_units\":\"screen\",\"top_units\":\"screen\"},\"id\":\"9092\",\"type\":\"BoxAnnotation\"},{\"attributes\":{\"below\":[{\"id\":\"8481\",\"type\":\"DatetimeAxis\"}],\"center\":[{\"id\":\"8485\",\"type\":\"Grid\"},{\"id\":\"8490\",\"type\":\"Grid\"}],\"left\":[{\"id\":\"8486\",\"type\":\"LinearAxis\"}],\"plot_height\":220,\"plot_width\":400,\"renderers\":[{\"id\":\"8507\",\"type\":\"GlyphRenderer\"},{\"id\":\"8512\",\"type\":\"GlyphRenderer\"}],\"title\":{\"id\":\"8471\",\"type\":\"Title\"},\"toolbar\":{\"id\":\"8497\",\"type\":\"Toolbar\"},\"x_range\":{\"id\":\"8473\",\"type\":\"Range1d\"},\"x_scale\":{\"id\":\"8477\",\"type\":\"LinearScale\"},\"y_range\":{\"id\":\"8475\",\"type\":\"Range1d\"},\"y_scale\":{\"id\":\"8479\",\"type\":\"LinearScale\"}},\"id\":\"8470\",\"subtype\":\"Figure\",\"type\":\"Plot\"},{\"attributes\":{\"mantissas\":[1,2,5],\"max_interval\":500.0,\"num_minor_ticks\":0},\"id\":\"9093\",\"type\":\"AdaptiveTicker\"},{\"attributes\":{\"text\":\"ts3\"},\"id\":\"8471\",\"type\":\"Title\"},{\"attributes\":{\"base\":60,\"mantissas\":[1,2,5,10,15,20,30],\"max_interval\":1800000.0,\"min_interval\":1000.0,\"num_minor_ticks\":0},\"id\":\"9094\",\"type\":\"AdaptiveTicker\"},{\"attributes\":{\"dimension\":1,\"ticker\":{\"id\":\"8399\",\"type\":\"BasicTicker\"}},\"id\":\"8402\",\"type\":\"Grid\"},{\"attributes\":{\"callback\":null,\"end\":1546302000000,\"start\":1546300620000},\"id\":\"8473\",\"type\":\"Range1d\"},{\"attributes\":{\"base\":24,\"mantissas\":[1,2,4,6,8,12],\"max_interval\":43200000.0,\"min_interval\":3600000.0,\"num_minor_ticks\":0},\"id\":\"9095\",\"type\":\"AdaptiveTicker\"},{\"attributes\":{\"axis_label\":\"IoT sensor\",\"formatter\":{\"id\":\"9047\",\"type\":\"BasicTickFormatter\"},\"ticker\":{\"id\":\"8399\",\"type\":\"BasicTicker\"}},\"id\":\"8398\",\"type\":\"LinearAxis\"},{\"attributes\":{\"callback\":null,\"end\":40,\"start\":-5},\"id\":\"8475\",\"type\":\"Range1d\"},{\"attributes\":{\"days\":[1,2,3,4,5,6,7,8,9,10,11,12,13,14,15,16,17,18,19,20,21,22,23,24,25,26,27,28,29,30,31]},\"id\":\"9096\",\"type\":\"DaysTicker\"},{\"attributes\":{},\"id\":\"8477\",\"type\":\"LinearScale\"},{\"attributes\":{\"days\":[1,4,7,10,13,16,19,22,25,28]},\"id\":\"9097\",\"type\":\"DaysTicker\"},{\"attributes\":{\"callback\":null,\"end\":1546302000000,\"start\":1546300620000},\"id\":\"8385\",\"type\":\"Range1d\"},{\"attributes\":{},\"id\":\"8479\",\"type\":\"LinearScale\"},{\"attributes\":{\"days\":[1,8,15,22]},\"id\":\"9098\",\"type\":\"DaysTicker\"},{\"attributes\":{\"callback\":null,\"end\":40,\"start\":-5},\"id\":\"8387\",\"type\":\"Range1d\"},{\"attributes\":{\"axis_label\":\"timestamp\",\"formatter\":{\"id\":\"9057\",\"type\":\"DatetimeTickFormatter\"},\"ticker\":{\"id\":\"8482\",\"type\":\"DatetimeTicker\"}},\"id\":\"8481\",\"type\":\"DatetimeAxis\"},{\"attributes\":{\"days\":[1,15]},\"id\":\"9099\",\"type\":\"DaysTicker\"},{\"attributes\":{\"num_minor_ticks\":5,\"tickers\":[{\"id\":\"9093\",\"type\":\"AdaptiveTicker\"},{\"id\":\"9094\",\"type\":\"AdaptiveTicker\"},{\"id\":\"9095\",\"type\":\"AdaptiveTicker\"},{\"id\":\"9096\",\"type\":\"DaysTicker\"},{\"id\":\"9097\",\"type\":\"DaysTicker\"},{\"id\":\"9098\",\"type\":\"DaysTicker\"},{\"id\":\"9099\",\"type\":\"DaysTicker\"},{\"id\":\"9100\",\"type\":\"MonthsTicker\"},{\"id\":\"9101\",\"type\":\"MonthsTicker\"},{\"id\":\"9102\",\"type\":\"MonthsTicker\"},{\"id\":\"9103\",\"type\":\"MonthsTicker\"},{\"id\":\"9104\",\"type\":\"YearsTicker\"}]},\"id\":\"8482\",\"type\":\"DatetimeTicker\"},{\"attributes\":{\"months\":[0,1,2,3,4,5,6,7,8,9,10,11]},\"id\":\"9100\",\"type\":\"MonthsTicker\"},{\"attributes\":{\"ticker\":{\"id\":\"8482\",\"type\":\"DatetimeTicker\"}},\"id\":\"8485\",\"type\":\"Grid\"},{\"attributes\":{\"months\":[0,2,4,6,8,10]},\"id\":\"9101\",\"type\":\"MonthsTicker\"},{\"attributes\":{\"axis_label\":\"IoT sensor\",\"formatter\":{\"id\":\"9055\",\"type\":\"BasicTickFormatter\"},\"ticker\":{\"id\":\"8487\",\"type\":\"BasicTicker\"}},\"id\":\"8486\",\"type\":\"LinearAxis\"},{\"attributes\":{\"months\":[0,4,8]},\"id\":\"9102\",\"type\":\"MonthsTicker\"},{\"attributes\":{},\"id\":\"8487\",\"type\":\"BasicTicker\"},{\"attributes\":{\"months\":[0,6]},\"id\":\"9103\",\"type\":\"MonthsTicker\"},{\"attributes\":{\"dimension\":1,\"ticker\":{\"id\":\"8487\",\"type\":\"BasicTicker\"}},\"id\":\"8490\",\"type\":\"Grid\"},{\"attributes\":{},\"id\":\"9104\",\"type\":\"YearsTicker\"},{\"attributes\":{\"line_alpha\":{\"value\":0.1},\"line_color\":{\"value\":\"#1f77b4\"},\"line_dash\":[4,4],\"line_width\":{\"value\":2},\"mode\":\"after\",\"x\":{\"field\":\"x\"},\"y\":{\"field\":\"y\"}},\"id\":\"8506\",\"type\":\"Step\"},{\"attributes\":{},\"id\":\"9105\",\"type\":\"UnionRenderers\"},{\"attributes\":{\"line_color\":{\"value\":\"#1f77b4\"},\"line_dash\":[4,4],\"line_width\":{\"value\":2},\"mode\":\"after\",\"x\":{\"field\":\"x\"},\"y\":{\"field\":\"y\"}},\"id\":\"8505\",\"type\":\"Step\"},{\"attributes\":{},\"id\":\"9106\",\"type\":\"Selection\"},{\"attributes\":{\"line_color\":{\"value\":\"#1f77b4\"},\"line_dash\":[4,4],\"line_width\":{\"value\":2},\"mode\":\"after\",\"x\":{\"field\":\"x\"},\"y\":{\"field\":\"y\"}},\"id\":\"8417\",\"type\":\"Step\"},{\"attributes\":{\"callback\":null,\"data\":{\"x\":[1546300800000.0,1546301220000.0,1546301400000.0,1546301520000.0,1546301700000.0,1546301820000.0],\"y\":[10,9,25,34,24,15]},\"selected\":{\"id\":\"9106\",\"type\":\"Selection\"},\"selection_policy\":{\"id\":\"9105\",\"type\":\"UnionRenderers\"}},\"id\":\"8504\",\"type\":\"ColumnDataSource\"},{\"attributes\":{\"active_drag\":\"auto\",\"active_inspect\":\"auto\",\"active_multi\":null,\"active_scroll\":\"auto\",\"active_tap\":\"auto\",\"tools\":[{\"id\":\"8491\",\"type\":\"PanTool\"},{\"id\":\"8492\",\"type\":\"WheelZoomTool\"},{\"id\":\"8493\",\"type\":\"BoxZoomTool\"},{\"id\":\"8494\",\"type\":\"SaveTool\"},{\"id\":\"8495\",\"type\":\"ResetTool\"},{\"id\":\"8496\",\"type\":\"HelpTool\"}]},\"id\":\"8497\",\"type\":\"Toolbar\"},{\"attributes\":{},\"id\":\"9107\",\"type\":\"UnionRenderers\"},{\"attributes\":{},\"id\":\"8491\",\"type\":\"PanTool\"},{\"attributes\":{},\"id\":\"9108\",\"type\":\"Selection\"},{\"attributes\":{},\"id\":\"8492\",\"type\":\"WheelZoomTool\"},{\"attributes\":{\"overlay\":{\"id\":\"9092\",\"type\":\"BoxAnnotation\"}},\"id\":\"8493\",\"type\":\"BoxZoomTool\"},{\"attributes\":{},\"id\":\"8399\",\"type\":\"BasicTicker\"},{\"attributes\":{},\"id\":\"8389\",\"type\":\"LinearScale\"},{\"attributes\":{},\"id\":\"8494\",\"type\":\"SaveTool\"},{\"attributes\":{},\"id\":\"8495\",\"type\":\"ResetTool\"},{\"attributes\":{},\"id\":\"8496\",\"type\":\"HelpTool\"},{\"attributes\":{\"data_source\":{\"id\":\"8504\",\"type\":\"ColumnDataSource\"},\"glyph\":{\"id\":\"8505\",\"type\":\"Step\"},\"hover_glyph\":null,\"muted_glyph\":null,\"nonselection_glyph\":{\"id\":\"8506\",\"type\":\"Step\"},\"selection_glyph\":null,\"view\":{\"id\":\"8508\",\"type\":\"CDSView\"}},\"id\":\"8507\",\"type\":\"GlyphRenderer\"},{\"attributes\":{\"source\":{\"id\":\"8504\",\"type\":\"ColumnDataSource\"}},\"id\":\"8508\",\"type\":\"CDSView\"},{\"attributes\":{\"callback\":null,\"data\":{\"x\":[1546300800000.0,1546301220000.0,1546301400000.0,1546301520000.0,1546301700000.0,1546301820000.0],\"y\":[10,9,25,34,24,15]},\"selected\":{\"id\":\"9108\",\"type\":\"Selection\"},\"selection_policy\":{\"id\":\"9107\",\"type\":\"UnionRenderers\"}},\"id\":\"8509\",\"type\":\"ColumnDataSource\"},{\"attributes\":{\"fill_color\":{\"value\":\"red\"},\"line_color\":{\"value\":\"#1f77b4\"},\"size\":{\"units\":\"screen\",\"value\":6},\"x\":{\"field\":\"x\"},\"y\":{\"field\":\"y\"}},\"id\":\"8510\",\"type\":\"Circle\"},{\"attributes\":{\"axis_label\":\"timestamp\",\"formatter\":{\"id\":\"9049\",\"type\":\"DatetimeTickFormatter\"},\"ticker\":{\"id\":\"8394\",\"type\":\"DatetimeTicker\"}},\"id\":\"8393\",\"type\":\"DatetimeAxis\"},{\"attributes\":{\"fill_alpha\":{\"value\":0.1},\"fill_color\":{\"value\":\"#1f77b4\"},\"line_alpha\":{\"value\":0.1},\"line_color\":{\"value\":\"#1f77b4\"},\"size\":{\"units\":\"screen\",\"value\":6},\"x\":{\"field\":\"x\"},\"y\":{\"field\":\"y\"}},\"id\":\"8511\",\"type\":\"Circle\"},{\"attributes\":{\"data_source\":{\"id\":\"8509\",\"type\":\"ColumnDataSource\"},\"glyph\":{\"id\":\"8510\",\"type\":\"Circle\"},\"hover_glyph\":null,\"muted_glyph\":null,\"nonselection_glyph\":{\"id\":\"8511\",\"type\":\"Circle\"},\"selection_glyph\":null,\"view\":{\"id\":\"8513\",\"type\":\"CDSView\"}},\"id\":\"8512\",\"type\":\"GlyphRenderer\"},{\"attributes\":{\"overlay\":{\"id\":\"9058\",\"type\":\"BoxAnnotation\"}},\"id\":\"8405\",\"type\":\"BoxZoomTool\"},{\"attributes\":{},\"id\":\"8406\",\"type\":\"SaveTool\"},{\"attributes\":{\"source\":{\"id\":\"8509\",\"type\":\"ColumnDataSource\"}},\"id\":\"8513\",\"type\":\"CDSView\"},{\"attributes\":{},\"id\":\"8408\",\"type\":\"HelpTool\"},{\"attributes\":{},\"id\":\"9047\",\"type\":\"BasicTickFormatter\"},{\"attributes\":{},\"id\":\"8407\",\"type\":\"ResetTool\"},{\"attributes\":{},\"id\":\"9049\",\"type\":\"DatetimeTickFormatter\"},{\"attributes\":{\"active_drag\":\"auto\",\"active_inspect\":\"auto\",\"active_multi\":null,\"active_scroll\":\"auto\",\"active_tap\":\"auto\",\"tools\":[{\"id\":\"8403\",\"type\":\"PanTool\"},{\"id\":\"8404\",\"type\":\"WheelZoomTool\"},{\"id\":\"8405\",\"type\":\"BoxZoomTool\"},{\"id\":\"8406\",\"type\":\"SaveTool\"},{\"id\":\"8407\",\"type\":\"ResetTool\"},{\"id\":\"8408\",\"type\":\"HelpTool\"}]},\"id\":\"8409\",\"type\":\"Toolbar\"},{\"attributes\":{},\"id\":\"9051\",\"type\":\"BasicTickFormatter\"},{\"attributes\":{\"fill_alpha\":{\"value\":0.1},\"fill_color\":{\"value\":\"#1f77b4\"},\"line_alpha\":{\"value\":0.1},\"line_color\":{\"value\":\"#1f77b4\"},\"size\":{\"units\":\"screen\",\"value\":6},\"x\":{\"field\":\"x\"},\"y\":{\"field\":\"y\"}},\"id\":\"8423\",\"type\":\"Circle\"},{\"attributes\":{\"fill_color\":{\"value\":\"red\"},\"line_color\":{\"value\":\"#1f77b4\"},\"size\":{\"units\":\"screen\",\"value\":6},\"x\":{\"field\":\"x\"},\"y\":{\"field\":\"y\"}},\"id\":\"8422\",\"type\":\"Circle\"},{\"attributes\":{},\"id\":\"9053\",\"type\":\"DatetimeTickFormatter\"},{\"attributes\":{\"callback\":null,\"data\":{\"x\":[1546300800000.0,1546301400000.0,1546301700000.0,1546301820000.0],\"y\":[10,20,10,1]},\"selected\":{\"id\":\"9074\",\"type\":\"Selection\"},\"selection_policy\":{\"id\":\"9073\",\"type\":\"UnionRenderers\"}},\"id\":\"8421\",\"type\":\"ColumnDataSource\"},{\"attributes\":{},\"id\":\"9055\",\"type\":\"BasicTickFormatter\"},{\"attributes\":{\"line_color\":{\"value\":\"#1f77b4\"},\"line_dash\":[4,4],\"line_width\":{\"value\":2},\"mode\":\"after\",\"x\":{\"field\":\"x\"},\"y\":{\"field\":\"y\"}},\"id\":\"8461\",\"type\":\"Step\"},{\"attributes\":{},\"id\":\"9057\",\"type\":\"DatetimeTickFormatter\"},{\"attributes\":{\"source\":{\"id\":\"8416\",\"type\":\"ColumnDataSource\"}},\"id\":\"8420\",\"type\":\"CDSView\"},{\"attributes\":{\"data_source\":{\"id\":\"8416\",\"type\":\"ColumnDataSource\"},\"glyph\":{\"id\":\"8417\",\"type\":\"Step\"},\"hover_glyph\":null,\"muted_glyph\":null,\"nonselection_glyph\":{\"id\":\"8418\",\"type\":\"Step\"},\"selection_glyph\":null,\"view\":{\"id\":\"8420\",\"type\":\"CDSView\"}},\"id\":\"8419\",\"type\":\"GlyphRenderer\"},{\"attributes\":{\"bottom_units\":\"screen\",\"fill_alpha\":{\"value\":0.5},\"fill_color\":{\"value\":\"lightgrey\"},\"left_units\":\"screen\",\"level\":\"overlay\",\"line_alpha\":{\"value\":1.0},\"line_color\":{\"value\":\"black\"},\"line_dash\":[4,4],\"line_width\":{\"value\":2},\"render_mode\":\"css\",\"right_units\":\"screen\",\"top_units\":\"screen\"},\"id\":\"9058\",\"type\":\"BoxAnnotation\"},{\"attributes\":{\"below\":[{\"id\":\"8393\",\"type\":\"DatetimeAxis\"}],\"center\":[{\"id\":\"8397\",\"type\":\"Grid\"},{\"id\":\"8402\",\"type\":\"Grid\"}],\"left\":[{\"id\":\"8398\",\"type\":\"LinearAxis\"}],\"plot_height\":220,\"plot_width\":400,\"renderers\":[{\"id\":\"8419\",\"type\":\"GlyphRenderer\"},{\"id\":\"8424\",\"type\":\"GlyphRenderer\"}],\"title\":{\"id\":\"8383\",\"type\":\"Title\"},\"toolbar\":{\"id\":\"8409\",\"type\":\"Toolbar\"},\"x_range\":{\"id\":\"8385\",\"type\":\"Range1d\"},\"x_scale\":{\"id\":\"8389\",\"type\":\"LinearScale\"},\"y_range\":{\"id\":\"8387\",\"type\":\"Range1d\"},\"y_scale\":{\"id\":\"8391\",\"type\":\"LinearScale\"}},\"id\":\"8382\",\"subtype\":\"Figure\",\"type\":\"Plot\"},{\"attributes\":{\"mantissas\":[1,2,5],\"max_interval\":500.0,\"num_minor_ticks\":0},\"id\":\"9059\",\"type\":\"AdaptiveTicker\"},{\"attributes\":{\"below\":[{\"id\":\"8437\",\"type\":\"DatetimeAxis\"}],\"center\":[{\"id\":\"8441\",\"type\":\"Grid\"},{\"id\":\"8446\",\"type\":\"Grid\"}],\"left\":[{\"id\":\"8442\",\"type\":\"LinearAxis\"}],\"plot_height\":220,\"plot_width\":400,\"renderers\":[{\"id\":\"8463\",\"type\":\"GlyphRenderer\"},{\"id\":\"8468\",\"type\":\"GlyphRenderer\"}],\"title\":{\"id\":\"8427\",\"type\":\"Title\"},\"toolbar\":{\"id\":\"8453\",\"type\":\"Toolbar\"},\"x_range\":{\"id\":\"8429\",\"type\":\"Range1d\"},\"x_scale\":{\"id\":\"8433\",\"type\":\"LinearScale\"},\"y_range\":{\"id\":\"8431\",\"type\":\"Range1d\"},\"y_scale\":{\"id\":\"8435\",\"type\":\"LinearScale\"}},\"id\":\"8426\",\"subtype\":\"Figure\",\"type\":\"Plot\"},{\"attributes\":{\"base\":60,\"mantissas\":[1,2,5,10,15,20,30],\"max_interval\":1800000.0,\"min_interval\":1000.0,\"num_minor_ticks\":0},\"id\":\"9060\",\"type\":\"AdaptiveTicker\"},{\"attributes\":{\"data_source\":{\"id\":\"8421\",\"type\":\"ColumnDataSource\"},\"glyph\":{\"id\":\"8422\",\"type\":\"Circle\"},\"hover_glyph\":null,\"muted_glyph\":null,\"nonselection_glyph\":{\"id\":\"8423\",\"type\":\"Circle\"},\"selection_glyph\":null,\"view\":{\"id\":\"8425\",\"type\":\"CDSView\"}},\"id\":\"8424\",\"type\":\"GlyphRenderer\"},{\"attributes\":{\"base\":24,\"mantissas\":[1,2,4,6,8,12],\"max_interval\":43200000.0,\"min_interval\":3600000.0,\"num_minor_ticks\":0},\"id\":\"9061\",\"type\":\"AdaptiveTicker\"},{\"attributes\":{\"text\":\"ts2\"},\"id\":\"8427\",\"type\":\"Title\"},{\"attributes\":{\"days\":[1,2,3,4,5,6,7,8,9,10,11,12,13,14,15,16,17,18,19,20,21,22,23,24,25,26,27,28,29,30,31]},\"id\":\"9062\",\"type\":\"DaysTicker\"},{\"attributes\":{\"days\":[1,4,7,10,13,16,19,22,25,28]},\"id\":\"9063\",\"type\":\"DaysTicker\"},{\"attributes\":{\"source\":{\"id\":\"8421\",\"type\":\"ColumnDataSource\"}},\"id\":\"8425\",\"type\":\"CDSView\"},{\"attributes\":{},\"id\":\"8433\",\"type\":\"LinearScale\"},{\"attributes\":{\"days\":[1,8,15,22]},\"id\":\"9064\",\"type\":\"DaysTicker\"},{\"attributes\":{\"days\":[1,15]},\"id\":\"9065\",\"type\":\"DaysTicker\"},{\"attributes\":{\"num_minor_ticks\":5,\"tickers\":[{\"id\":\"9059\",\"type\":\"AdaptiveTicker\"},{\"id\":\"9060\",\"type\":\"AdaptiveTicker\"},{\"id\":\"9061\",\"type\":\"AdaptiveTicker\"},{\"id\":\"9062\",\"type\":\"DaysTicker\"},{\"id\":\"9063\",\"type\":\"DaysTicker\"},{\"id\":\"9064\",\"type\":\"DaysTicker\"},{\"id\":\"9065\",\"type\":\"DaysTicker\"},{\"id\":\"9066\",\"type\":\"MonthsTicker\"},{\"id\":\"9067\",\"type\":\"MonthsTicker\"},{\"id\":\"9068\",\"type\":\"MonthsTicker\"},{\"id\":\"9069\",\"type\":\"MonthsTicker\"},{\"id\":\"9070\",\"type\":\"YearsTicker\"}]},\"id\":\"8394\",\"type\":\"DatetimeTicker\"},{\"attributes\":{\"callback\":null,\"end\":40,\"start\":-5},\"id\":\"8431\",\"type\":\"Range1d\"},{\"attributes\":{\"months\":[0,1,2,3,4,5,6,7,8,9,10,11]},\"id\":\"9066\",\"type\":\"MonthsTicker\"},{\"attributes\":{\"callback\":null,\"end\":1546302000000,\"start\":1546300620000},\"id\":\"8429\",\"type\":\"Range1d\"},{\"attributes\":{\"months\":[0,2,4,6,8,10]},\"id\":\"9067\",\"type\":\"MonthsTicker\"},{\"attributes\":{},\"id\":\"8435\",\"type\":\"LinearScale\"},{\"attributes\":{\"months\":[0,4,8]},\"id\":\"9068\",\"type\":\"MonthsTicker\"},{\"attributes\":{\"axis_label\":\"timestamp\",\"formatter\":{\"id\":\"9053\",\"type\":\"DatetimeTickFormatter\"},\"ticker\":{\"id\":\"8438\",\"type\":\"DatetimeTicker\"}},\"id\":\"8437\",\"type\":\"DatetimeAxis\"},{\"attributes\":{\"months\":[0,6]},\"id\":\"9069\",\"type\":\"MonthsTicker\"},{\"attributes\":{},\"id\":\"9070\",\"type\":\"YearsTicker\"},{\"attributes\":{\"ticker\":{\"id\":\"8438\",\"type\":\"DatetimeTicker\"}},\"id\":\"8441\",\"type\":\"Grid\"},{\"attributes\":{},\"id\":\"8403\",\"type\":\"PanTool\"},{\"attributes\":{},\"id\":\"9071\",\"type\":\"UnionRenderers\"},{\"attributes\":{\"num_minor_ticks\":5,\"tickers\":[{\"id\":\"9076\",\"type\":\"AdaptiveTicker\"},{\"id\":\"9077\",\"type\":\"AdaptiveTicker\"},{\"id\":\"9078\",\"type\":\"AdaptiveTicker\"},{\"id\":\"9079\",\"type\":\"DaysTicker\"},{\"id\":\"9080\",\"type\":\"DaysTicker\"},{\"id\":\"9081\",\"type\":\"DaysTicker\"},{\"id\":\"9082\",\"type\":\"DaysTicker\"},{\"id\":\"9083\",\"type\":\"MonthsTicker\"},{\"id\":\"9084\",\"type\":\"MonthsTicker\"},{\"id\":\"9085\",\"type\":\"MonthsTicker\"},{\"id\":\"9086\",\"type\":\"MonthsTicker\"},{\"id\":\"9087\",\"type\":\"YearsTicker\"}]},\"id\":\"8438\",\"type\":\"DatetimeTicker\"},{\"attributes\":{},\"id\":\"9072\",\"type\":\"Selection\"},{\"attributes\":{\"ticker\":{\"id\":\"8394\",\"type\":\"DatetimeTicker\"}},\"id\":\"8397\",\"type\":\"Grid\"},{\"attributes\":{},\"id\":\"9073\",\"type\":\"UnionRenderers\"},{\"attributes\":{},\"id\":\"8404\",\"type\":\"WheelZoomTool\"},{\"attributes\":{},\"id\":\"9074\",\"type\":\"Selection\"},{\"attributes\":{\"axis_label\":\"IoT sensor\",\"formatter\":{\"id\":\"9051\",\"type\":\"BasicTickFormatter\"},\"ticker\":{\"id\":\"8443\",\"type\":\"BasicTicker\"}},\"id\":\"8442\",\"type\":\"LinearAxis\"},{\"attributes\":{\"bottom_units\":\"screen\",\"fill_alpha\":{\"value\":0.5},\"fill_color\":{\"value\":\"lightgrey\"},\"left_units\":\"screen\",\"level\":\"overlay\",\"line_alpha\":{\"value\":1.0},\"line_color\":{\"value\":\"black\"},\"line_dash\":[4,4],\"line_width\":{\"value\":2},\"render_mode\":\"css\",\"right_units\":\"screen\",\"top_units\":\"screen\"},\"id\":\"9075\",\"type\":\"BoxAnnotation\"},{\"attributes\":{\"dimension\":1,\"ticker\":{\"id\":\"8443\",\"type\":\"BasicTicker\"}},\"id\":\"8446\",\"type\":\"Grid\"},{\"attributes\":{},\"id\":\"8443\",\"type\":\"BasicTicker\"},{\"attributes\":{\"mantissas\":[1,2,5],\"max_interval\":500.0,\"num_minor_ticks\":0},\"id\":\"9076\",\"type\":\"AdaptiveTicker\"},{\"attributes\":{\"base\":60,\"mantissas\":[1,2,5,10,15,20,30],\"max_interval\":1800000.0,\"min_interval\":1000.0,\"num_minor_ticks\":0},\"id\":\"9077\",\"type\":\"AdaptiveTicker\"},{\"attributes\":{\"line_alpha\":{\"value\":0.1},\"line_color\":{\"value\":\"#1f77b4\"},\"line_dash\":[4,4],\"line_width\":{\"value\":2},\"mode\":\"after\",\"x\":{\"field\":\"x\"},\"y\":{\"field\":\"y\"}},\"id\":\"8462\",\"type\":\"Step\"},{\"attributes\":{},\"id\":\"8391\",\"type\":\"LinearScale\"},{\"attributes\":{\"base\":24,\"mantissas\":[1,2,4,6,8,12],\"max_interval\":43200000.0,\"min_interval\":3600000.0,\"num_minor_ticks\":0},\"id\":\"9078\",\"type\":\"AdaptiveTicker\"},{\"attributes\":{\"callback\":null,\"data\":{\"x\":[1546301220000.0,1546301400000.0,1546301520000.0],\"y\":[-1,5,14]},\"selected\":{\"id\":\"9089\",\"type\":\"Selection\"},\"selection_policy\":{\"id\":\"9088\",\"type\":\"UnionRenderers\"}},\"id\":\"8460\",\"type\":\"ColumnDataSource\"},{\"attributes\":{\"days\":[1,2,3,4,5,6,7,8,9,10,11,12,13,14,15,16,17,18,19,20,21,22,23,24,25,26,27,28,29,30,31]},\"id\":\"9079\",\"type\":\"DaysTicker\"},{\"attributes\":{},\"id\":\"8452\",\"type\":\"HelpTool\"},{\"attributes\":{\"days\":[1,4,7,10,13,16,19,22,25,28]},\"id\":\"9080\",\"type\":\"DaysTicker\"},{\"attributes\":{},\"id\":\"8447\",\"type\":\"PanTool\"},{\"attributes\":{\"days\":[1,8,15,22]},\"id\":\"9081\",\"type\":\"DaysTicker\"},{\"attributes\":{\"callback\":null,\"data\":{\"x\":[1546300800000.0,1546301400000.0,1546301700000.0,1546301820000.0],\"y\":[10,20,10,1]},\"selected\":{\"id\":\"9072\",\"type\":\"Selection\"},\"selection_policy\":{\"id\":\"9071\",\"type\":\"UnionRenderers\"}},\"id\":\"8416\",\"type\":\"ColumnDataSource\"},{\"attributes\":{},\"id\":\"8448\",\"type\":\"WheelZoomTool\"},{\"attributes\":{},\"id\":\"8451\",\"type\":\"ResetTool\"},{\"attributes\":{\"days\":[1,15]},\"id\":\"9082\",\"type\":\"DaysTicker\"},{\"attributes\":{\"overlay\":{\"id\":\"9075\",\"type\":\"BoxAnnotation\"}},\"id\":\"8449\",\"type\":\"BoxZoomTool\"},{\"attributes\":{\"line_alpha\":{\"value\":0.1},\"line_color\":{\"value\":\"#1f77b4\"},\"line_dash\":[4,4],\"line_width\":{\"value\":2},\"mode\":\"after\",\"x\":{\"field\":\"x\"},\"y\":{\"field\":\"y\"}},\"id\":\"8418\",\"type\":\"Step\"},{\"attributes\":{},\"id\":\"8450\",\"type\":\"SaveTool\"}],\"root_ids\":[\"8514\"]},\"title\":\"Bokeh Application\",\"version\":\"1.2.0\"}};\n",
       "  var render_items = [{\"docid\":\"9c6ed98f-d3b9-4a1e-9edf-f6d32424d682\",\"roots\":{\"8514\":\"5f4d69e1-cbdd-410d-a4d7-f60da8382fa1\"}}];\n",
       "  root.Bokeh.embed.embed_items_notebook(docs_json, render_items);\n",
       "\n",
       "  }\n",
       "  if (root.Bokeh !== undefined) {\n",
       "    embed_document(root);\n",
       "  } else {\n",
       "    var attempts = 0;\n",
       "    var timer = setInterval(function(root) {\n",
       "      if (root.Bokeh !== undefined) {\n",
       "        embed_document(root);\n",
       "        clearInterval(timer);\n",
       "      }\n",
       "      attempts++;\n",
       "      if (attempts > 100) {\n",
       "        console.log(\"Bokeh: ERROR: Unable to run BokehJS code because BokehJS library is missing\");\n",
       "        clearInterval(timer);\n",
       "      }\n",
       "    }, 10, root)\n",
       "  }\n",
       "})(window);"
      ],
      "application/vnd.bokehjs_exec.v0+json": ""
     },
     "metadata": {
      "application/vnd.bokehjs_exec.v0+json": {
       "id": "8514"
      }
     },
     "output_type": "display_data"
    }
   ],
   "source": [
    "# Addition\n",
    "plot_row(ts, ts + 10, y_range=(-5, 40))\n",
    "plot_row(ts, ts2, ts + ts2, y_range=(-5, 40))"
   ]
  },
  {
   "cell_type": "code",
   "execution_count": 26,
   "metadata": {},
   "outputs": [
    {
     "data": {
      "text/html": [
       "\n",
       "\n",
       "\n",
       "\n",
       "\n",
       "\n",
       "  <div class=\"bk-root\" id=\"4e4f382d-a16e-4afd-b3d0-718eb5f82d2d\" data-root-id=\"9593\"></div>\n"
      ]
     },
     "metadata": {},
     "output_type": "display_data"
    },
    {
     "data": {
      "application/javascript": [
       "(function(root) {\n",
       "  function embed_document(root) {\n",
       "    \n",
       "  var docs_json = {\"4fea496c-acd6-4f94-bc6b-f1406d6a8a38\":{\"roots\":{\"references\":[{\"attributes\":{\"children\":[{\"id\":\"9505\",\"subtype\":\"Figure\",\"type\":\"Plot\"},{\"id\":\"9549\",\"subtype\":\"Figure\",\"type\":\"Plot\"}]},\"id\":\"9593\",\"type\":\"Row\"},{\"attributes\":{},\"id\":\"10212\",\"type\":\"Selection\"},{\"attributes\":{},\"id\":\"10213\",\"type\":\"UnionRenderers\"},{\"attributes\":{},\"id\":\"10214\",\"type\":\"Selection\"},{\"attributes\":{\"bottom_units\":\"screen\",\"fill_alpha\":{\"value\":0.5},\"fill_color\":{\"value\":\"lightgrey\"},\"left_units\":\"screen\",\"level\":\"overlay\",\"line_alpha\":{\"value\":1.0},\"line_color\":{\"value\":\"black\"},\"line_dash\":[4,4],\"line_width\":{\"value\":2},\"render_mode\":\"css\",\"right_units\":\"screen\",\"top_units\":\"screen\"},\"id\":\"10215\",\"type\":\"BoxAnnotation\"},{\"attributes\":{\"mantissas\":[1,2,5],\"max_interval\":500.0,\"num_minor_ticks\":0},\"id\":\"10216\",\"type\":\"AdaptiveTicker\"},{\"attributes\":{\"base\":60,\"mantissas\":[1,2,5,10,15,20,30],\"max_interval\":1800000.0,\"min_interval\":1000.0,\"num_minor_ticks\":0},\"id\":\"10217\",\"type\":\"AdaptiveTicker\"},{\"attributes\":{\"base\":24,\"mantissas\":[1,2,4,6,8,12],\"max_interval\":43200000.0,\"min_interval\":3600000.0,\"num_minor_ticks\":0},\"id\":\"10218\",\"type\":\"AdaptiveTicker\"},{\"attributes\":{\"days\":[1,2,3,4,5,6,7,8,9,10,11,12,13,14,15,16,17,18,19,20,21,22,23,24,25,26,27,28,29,30,31]},\"id\":\"10219\",\"type\":\"DaysTicker\"},{\"attributes\":{\"days\":[1,4,7,10,13,16,19,22,25,28]},\"id\":\"10220\",\"type\":\"DaysTicker\"},{\"attributes\":{\"days\":[1,8,15,22]},\"id\":\"10221\",\"type\":\"DaysTicker\"},{\"attributes\":{\"days\":[1,15]},\"id\":\"10222\",\"type\":\"DaysTicker\"},{\"attributes\":{\"months\":[0,1,2,3,4,5,6,7,8,9,10,11]},\"id\":\"10223\",\"type\":\"MonthsTicker\"},{\"attributes\":{\"months\":[0,2,4,6,8,10]},\"id\":\"10224\",\"type\":\"MonthsTicker\"},{\"attributes\":{\"months\":[0,4,8]},\"id\":\"10225\",\"type\":\"MonthsTicker\"},{\"attributes\":{\"months\":[0,6]},\"id\":\"10226\",\"type\":\"MonthsTicker\"},{\"attributes\":{},\"id\":\"10227\",\"type\":\"YearsTicker\"},{\"attributes\":{},\"id\":\"10228\",\"type\":\"UnionRenderers\"},{\"attributes\":{},\"id\":\"10229\",\"type\":\"Selection\"},{\"attributes\":{},\"id\":\"10230\",\"type\":\"UnionRenderers\"},{\"attributes\":{},\"id\":\"10231\",\"type\":\"Selection\"},{\"attributes\":{},\"id\":\"9512\",\"type\":\"LinearScale\"},{\"attributes\":{\"callback\":null,\"end\":25,\"start\":-20},\"id\":\"9510\",\"type\":\"Range1d\"},{\"attributes\":{\"callback\":null,\"data\":{\"x\":[1546300800000.0,1546301400000.0,1546301700000.0,1546301820000.0],\"y\":[10,20,10,1]},\"selected\":{\"id\":\"10212\",\"type\":\"Selection\"},\"selection_policy\":{\"id\":\"10211\",\"type\":\"UnionRenderers\"}},\"id\":\"9539\",\"type\":\"ColumnDataSource\"},{\"attributes\":{\"below\":[{\"id\":\"9516\",\"type\":\"DatetimeAxis\"}],\"center\":[{\"id\":\"9520\",\"type\":\"Grid\"},{\"id\":\"9525\",\"type\":\"Grid\"}],\"left\":[{\"id\":\"9521\",\"type\":\"LinearAxis\"}],\"plot_height\":220,\"plot_width\":400,\"renderers\":[{\"id\":\"9542\",\"type\":\"GlyphRenderer\"},{\"id\":\"9547\",\"type\":\"GlyphRenderer\"}],\"title\":{\"id\":\"9506\",\"type\":\"Title\"},\"toolbar\":{\"id\":\"9532\",\"type\":\"Toolbar\"},\"x_range\":{\"id\":\"9508\",\"type\":\"Range1d\"},\"x_scale\":{\"id\":\"9512\",\"type\":\"LinearScale\"},\"y_range\":{\"id\":\"9510\",\"type\":\"Range1d\"},\"y_scale\":{\"id\":\"9514\",\"type\":\"LinearScale\"}},\"id\":\"9505\",\"subtype\":\"Figure\",\"type\":\"Plot\"},{\"attributes\":{\"callback\":null,\"end\":1546302000000,\"start\":1546300620000},\"id\":\"9508\",\"type\":\"Range1d\"},{\"attributes\":{\"text\":\"ts1\"},\"id\":\"9506\",\"type\":\"Title\"},{\"attributes\":{\"dimension\":1,\"ticker\":{\"id\":\"9566\",\"type\":\"BasicTicker\"}},\"id\":\"9569\",\"type\":\"Grid\"},{\"attributes\":{\"axis_label\":\"timestamp\",\"formatter\":{\"id\":\"10193\",\"type\":\"DatetimeTickFormatter\"},\"ticker\":{\"id\":\"9517\",\"type\":\"DatetimeTicker\"}},\"id\":\"9516\",\"type\":\"DatetimeAxis\"},{\"attributes\":{\"num_minor_ticks\":5,\"tickers\":[{\"id\":\"10199\",\"type\":\"AdaptiveTicker\"},{\"id\":\"10200\",\"type\":\"AdaptiveTicker\"},{\"id\":\"10201\",\"type\":\"AdaptiveTicker\"},{\"id\":\"10202\",\"type\":\"DaysTicker\"},{\"id\":\"10203\",\"type\":\"DaysTicker\"},{\"id\":\"10204\",\"type\":\"DaysTicker\"},{\"id\":\"10205\",\"type\":\"DaysTicker\"},{\"id\":\"10206\",\"type\":\"MonthsTicker\"},{\"id\":\"10207\",\"type\":\"MonthsTicker\"},{\"id\":\"10208\",\"type\":\"MonthsTicker\"},{\"id\":\"10209\",\"type\":\"MonthsTicker\"},{\"id\":\"10210\",\"type\":\"YearsTicker\"}]},\"id\":\"9517\",\"type\":\"DatetimeTicker\"},{\"attributes\":{\"line_alpha\":{\"value\":0.1},\"line_color\":{\"value\":\"#1f77b4\"},\"line_dash\":[4,4],\"line_width\":{\"value\":2},\"mode\":\"after\",\"x\":{\"field\":\"x\"},\"y\":{\"field\":\"y\"}},\"id\":\"9585\",\"type\":\"Step\"},{\"attributes\":{\"line_color\":{\"value\":\"#1f77b4\"},\"line_dash\":[4,4],\"line_width\":{\"value\":2},\"mode\":\"after\",\"x\":{\"field\":\"x\"},\"y\":{\"field\":\"y\"}},\"id\":\"9584\",\"type\":\"Step\"},{\"attributes\":{\"ticker\":{\"id\":\"9517\",\"type\":\"DatetimeTicker\"}},\"id\":\"9520\",\"type\":\"Grid\"},{\"attributes\":{\"active_drag\":\"auto\",\"active_inspect\":\"auto\",\"active_multi\":null,\"active_scroll\":\"auto\",\"active_tap\":\"auto\",\"tools\":[{\"id\":\"9570\",\"type\":\"PanTool\"},{\"id\":\"9571\",\"type\":\"WheelZoomTool\"},{\"id\":\"9572\",\"type\":\"BoxZoomTool\"},{\"id\":\"9573\",\"type\":\"SaveTool\"},{\"id\":\"9574\",\"type\":\"ResetTool\"},{\"id\":\"9575\",\"type\":\"HelpTool\"}]},\"id\":\"9576\",\"type\":\"Toolbar\"},{\"attributes\":{\"axis_label\":\"IoT sensor\",\"formatter\":{\"id\":\"10191\",\"type\":\"BasicTickFormatter\"},\"ticker\":{\"id\":\"9522\",\"type\":\"BasicTicker\"}},\"id\":\"9521\",\"type\":\"LinearAxis\"},{\"attributes\":{},\"id\":\"9570\",\"type\":\"PanTool\"},{\"attributes\":{},\"id\":\"9522\",\"type\":\"BasicTicker\"},{\"attributes\":{},\"id\":\"9571\",\"type\":\"WheelZoomTool\"},{\"attributes\":{\"dimension\":1,\"ticker\":{\"id\":\"9522\",\"type\":\"BasicTicker\"}},\"id\":\"9525\",\"type\":\"Grid\"},{\"attributes\":{\"overlay\":{\"id\":\"10215\",\"type\":\"BoxAnnotation\"}},\"id\":\"9572\",\"type\":\"BoxZoomTool\"},{\"attributes\":{},\"id\":\"9573\",\"type\":\"SaveTool\"},{\"attributes\":{\"line_alpha\":{\"value\":0.1},\"line_color\":{\"value\":\"#1f77b4\"},\"line_dash\":[4,4],\"line_width\":{\"value\":2},\"mode\":\"after\",\"x\":{\"field\":\"x\"},\"y\":{\"field\":\"y\"}},\"id\":\"9541\",\"type\":\"Step\"},{\"attributes\":{\"line_color\":{\"value\":\"#1f77b4\"},\"line_dash\":[4,4],\"line_width\":{\"value\":2},\"mode\":\"after\",\"x\":{\"field\":\"x\"},\"y\":{\"field\":\"y\"}},\"id\":\"9540\",\"type\":\"Step\"},{\"attributes\":{},\"id\":\"9574\",\"type\":\"ResetTool\"},{\"attributes\":{\"active_drag\":\"auto\",\"active_inspect\":\"auto\",\"active_multi\":null,\"active_scroll\":\"auto\",\"active_tap\":\"auto\",\"tools\":[{\"id\":\"9526\",\"type\":\"PanTool\"},{\"id\":\"9527\",\"type\":\"WheelZoomTool\"},{\"id\":\"9528\",\"type\":\"BoxZoomTool\"},{\"id\":\"9529\",\"type\":\"SaveTool\"},{\"id\":\"9530\",\"type\":\"ResetTool\"},{\"id\":\"9531\",\"type\":\"HelpTool\"}]},\"id\":\"9532\",\"type\":\"Toolbar\"},{\"attributes\":{},\"id\":\"9575\",\"type\":\"HelpTool\"},{\"attributes\":{},\"id\":\"9526\",\"type\":\"PanTool\"},{\"attributes\":{},\"id\":\"9527\",\"type\":\"WheelZoomTool\"},{\"attributes\":{\"data_source\":{\"id\":\"9583\",\"type\":\"ColumnDataSource\"},\"glyph\":{\"id\":\"9584\",\"type\":\"Step\"},\"hover_glyph\":null,\"muted_glyph\":null,\"nonselection_glyph\":{\"id\":\"9585\",\"type\":\"Step\"},\"selection_glyph\":null,\"view\":{\"id\":\"9587\",\"type\":\"CDSView\"}},\"id\":\"9586\",\"type\":\"GlyphRenderer\"},{\"attributes\":{\"overlay\":{\"id\":\"10198\",\"type\":\"BoxAnnotation\"}},\"id\":\"9528\",\"type\":\"BoxZoomTool\"},{\"attributes\":{\"source\":{\"id\":\"9583\",\"type\":\"ColumnDataSource\"}},\"id\":\"9587\",\"type\":\"CDSView\"},{\"attributes\":{},\"id\":\"9529\",\"type\":\"SaveTool\"},{\"attributes\":{\"callback\":null,\"data\":{\"x\":[1546300800000.0,1546301400000.0,1546301700000.0,1546301820000.0],\"y\":[0,10,0,-9]},\"selected\":{\"id\":\"10231\",\"type\":\"Selection\"},\"selection_policy\":{\"id\":\"10230\",\"type\":\"UnionRenderers\"}},\"id\":\"9588\",\"type\":\"ColumnDataSource\"},{\"attributes\":{},\"id\":\"9530\",\"type\":\"ResetTool\"},{\"attributes\":{\"fill_color\":{\"value\":\"red\"},\"line_color\":{\"value\":\"#1f77b4\"},\"size\":{\"units\":\"screen\",\"value\":6},\"x\":{\"field\":\"x\"},\"y\":{\"field\":\"y\"}},\"id\":\"9589\",\"type\":\"Circle\"},{\"attributes\":{},\"id\":\"9531\",\"type\":\"HelpTool\"},{\"attributes\":{\"fill_alpha\":{\"value\":0.1},\"fill_color\":{\"value\":\"#1f77b4\"},\"line_alpha\":{\"value\":0.1},\"line_color\":{\"value\":\"#1f77b4\"},\"size\":{\"units\":\"screen\",\"value\":6},\"x\":{\"field\":\"x\"},\"y\":{\"field\":\"y\"}},\"id\":\"9590\",\"type\":\"Circle\"},{\"attributes\":{\"data_source\":{\"id\":\"9588\",\"type\":\"ColumnDataSource\"},\"glyph\":{\"id\":\"9589\",\"type\":\"Circle\"},\"hover_glyph\":null,\"muted_glyph\":null,\"nonselection_glyph\":{\"id\":\"9590\",\"type\":\"Circle\"},\"selection_glyph\":null,\"view\":{\"id\":\"9592\",\"type\":\"CDSView\"}},\"id\":\"9591\",\"type\":\"GlyphRenderer\"},{\"attributes\":{\"source\":{\"id\":\"9588\",\"type\":\"ColumnDataSource\"}},\"id\":\"9592\",\"type\":\"CDSView\"},{\"attributes\":{\"data_source\":{\"id\":\"9539\",\"type\":\"ColumnDataSource\"},\"glyph\":{\"id\":\"9540\",\"type\":\"Step\"},\"hover_glyph\":null,\"muted_glyph\":null,\"nonselection_glyph\":{\"id\":\"9541\",\"type\":\"Step\"},\"selection_glyph\":null,\"view\":{\"id\":\"9543\",\"type\":\"CDSView\"}},\"id\":\"9542\",\"type\":\"GlyphRenderer\"},{\"attributes\":{\"source\":{\"id\":\"9539\",\"type\":\"ColumnDataSource\"}},\"id\":\"9543\",\"type\":\"CDSView\"},{\"attributes\":{\"callback\":null,\"data\":{\"x\":[1546300800000.0,1546301400000.0,1546301700000.0,1546301820000.0],\"y\":[10,20,10,1]},\"selected\":{\"id\":\"10214\",\"type\":\"Selection\"},\"selection_policy\":{\"id\":\"10213\",\"type\":\"UnionRenderers\"}},\"id\":\"9544\",\"type\":\"ColumnDataSource\"},{\"attributes\":{},\"id\":\"10193\",\"type\":\"DatetimeTickFormatter\"},{\"attributes\":{\"fill_color\":{\"value\":\"red\"},\"line_color\":{\"value\":\"#1f77b4\"},\"size\":{\"units\":\"screen\",\"value\":6},\"x\":{\"field\":\"x\"},\"y\":{\"field\":\"y\"}},\"id\":\"9545\",\"type\":\"Circle\"},{\"attributes\":{\"fill_alpha\":{\"value\":0.1},\"fill_color\":{\"value\":\"#1f77b4\"},\"line_alpha\":{\"value\":0.1},\"line_color\":{\"value\":\"#1f77b4\"},\"size\":{\"units\":\"screen\",\"value\":6},\"x\":{\"field\":\"x\"},\"y\":{\"field\":\"y\"}},\"id\":\"9546\",\"type\":\"Circle\"},{\"attributes\":{},\"id\":\"10195\",\"type\":\"BasicTickFormatter\"},{\"attributes\":{},\"id\":\"10197\",\"type\":\"DatetimeTickFormatter\"},{\"attributes\":{\"data_source\":{\"id\":\"9544\",\"type\":\"ColumnDataSource\"},\"glyph\":{\"id\":\"9545\",\"type\":\"Circle\"},\"hover_glyph\":null,\"muted_glyph\":null,\"nonselection_glyph\":{\"id\":\"9546\",\"type\":\"Circle\"},\"selection_glyph\":null,\"view\":{\"id\":\"9548\",\"type\":\"CDSView\"}},\"id\":\"9547\",\"type\":\"GlyphRenderer\"},{\"attributes\":{\"bottom_units\":\"screen\",\"fill_alpha\":{\"value\":0.5},\"fill_color\":{\"value\":\"lightgrey\"},\"left_units\":\"screen\",\"level\":\"overlay\",\"line_alpha\":{\"value\":1.0},\"line_color\":{\"value\":\"black\"},\"line_dash\":[4,4],\"line_width\":{\"value\":2},\"render_mode\":\"css\",\"right_units\":\"screen\",\"top_units\":\"screen\"},\"id\":\"10198\",\"type\":\"BoxAnnotation\"},{\"attributes\":{\"source\":{\"id\":\"9544\",\"type\":\"ColumnDataSource\"}},\"id\":\"9548\",\"type\":\"CDSView\"},{\"attributes\":{\"mantissas\":[1,2,5],\"max_interval\":500.0,\"num_minor_ticks\":0},\"id\":\"10199\",\"type\":\"AdaptiveTicker\"},{\"attributes\":{\"below\":[{\"id\":\"9560\",\"type\":\"DatetimeAxis\"}],\"center\":[{\"id\":\"9564\",\"type\":\"Grid\"},{\"id\":\"9569\",\"type\":\"Grid\"}],\"left\":[{\"id\":\"9565\",\"type\":\"LinearAxis\"}],\"plot_height\":220,\"plot_width\":400,\"renderers\":[{\"id\":\"9586\",\"type\":\"GlyphRenderer\"},{\"id\":\"9591\",\"type\":\"GlyphRenderer\"}],\"title\":{\"id\":\"9550\",\"type\":\"Title\"},\"toolbar\":{\"id\":\"9576\",\"type\":\"Toolbar\"},\"x_range\":{\"id\":\"9552\",\"type\":\"Range1d\"},\"x_scale\":{\"id\":\"9556\",\"type\":\"LinearScale\"},\"y_range\":{\"id\":\"9554\",\"type\":\"Range1d\"},\"y_scale\":{\"id\":\"9558\",\"type\":\"LinearScale\"}},\"id\":\"9549\",\"subtype\":\"Figure\",\"type\":\"Plot\"},{\"attributes\":{\"base\":60,\"mantissas\":[1,2,5,10,15,20,30],\"max_interval\":1800000.0,\"min_interval\":1000.0,\"num_minor_ticks\":0},\"id\":\"10200\",\"type\":\"AdaptiveTicker\"},{\"attributes\":{\"callback\":null,\"data\":{\"x\":[1546300800000.0,1546301400000.0,1546301700000.0,1546301820000.0],\"y\":[0,10,0,-9]},\"selected\":{\"id\":\"10229\",\"type\":\"Selection\"},\"selection_policy\":{\"id\":\"10228\",\"type\":\"UnionRenderers\"}},\"id\":\"9583\",\"type\":\"ColumnDataSource\"},{\"attributes\":{\"text\":\"ts2\"},\"id\":\"9550\",\"type\":\"Title\"},{\"attributes\":{\"base\":24,\"mantissas\":[1,2,4,6,8,12],\"max_interval\":43200000.0,\"min_interval\":3600000.0,\"num_minor_ticks\":0},\"id\":\"10201\",\"type\":\"AdaptiveTicker\"},{\"attributes\":{\"callback\":null,\"end\":1546302000000,\"start\":1546300620000},\"id\":\"9552\",\"type\":\"Range1d\"},{\"attributes\":{\"days\":[1,2,3,4,5,6,7,8,9,10,11,12,13,14,15,16,17,18,19,20,21,22,23,24,25,26,27,28,29,30,31]},\"id\":\"10202\",\"type\":\"DaysTicker\"},{\"attributes\":{\"callback\":null,\"end\":25,\"start\":-20},\"id\":\"9554\",\"type\":\"Range1d\"},{\"attributes\":{\"days\":[1,4,7,10,13,16,19,22,25,28]},\"id\":\"10203\",\"type\":\"DaysTicker\"},{\"attributes\":{},\"id\":\"10191\",\"type\":\"BasicTickFormatter\"},{\"attributes\":{\"days\":[1,8,15,22]},\"id\":\"10204\",\"type\":\"DaysTicker\"},{\"attributes\":{},\"id\":\"9556\",\"type\":\"LinearScale\"},{\"attributes\":{\"days\":[1,15]},\"id\":\"10205\",\"type\":\"DaysTicker\"},{\"attributes\":{},\"id\":\"9558\",\"type\":\"LinearScale\"},{\"attributes\":{\"months\":[0,1,2,3,4,5,6,7,8,9,10,11]},\"id\":\"10206\",\"type\":\"MonthsTicker\"},{\"attributes\":{\"axis_label\":\"timestamp\",\"formatter\":{\"id\":\"10197\",\"type\":\"DatetimeTickFormatter\"},\"ticker\":{\"id\":\"9561\",\"type\":\"DatetimeTicker\"}},\"id\":\"9560\",\"type\":\"DatetimeAxis\"},{\"attributes\":{\"months\":[0,2,4,6,8,10]},\"id\":\"10207\",\"type\":\"MonthsTicker\"},{\"attributes\":{\"num_minor_ticks\":5,\"tickers\":[{\"id\":\"10216\",\"type\":\"AdaptiveTicker\"},{\"id\":\"10217\",\"type\":\"AdaptiveTicker\"},{\"id\":\"10218\",\"type\":\"AdaptiveTicker\"},{\"id\":\"10219\",\"type\":\"DaysTicker\"},{\"id\":\"10220\",\"type\":\"DaysTicker\"},{\"id\":\"10221\",\"type\":\"DaysTicker\"},{\"id\":\"10222\",\"type\":\"DaysTicker\"},{\"id\":\"10223\",\"type\":\"MonthsTicker\"},{\"id\":\"10224\",\"type\":\"MonthsTicker\"},{\"id\":\"10225\",\"type\":\"MonthsTicker\"},{\"id\":\"10226\",\"type\":\"MonthsTicker\"},{\"id\":\"10227\",\"type\":\"YearsTicker\"}]},\"id\":\"9561\",\"type\":\"DatetimeTicker\"},{\"attributes\":{\"months\":[0,4,8]},\"id\":\"10208\",\"type\":\"MonthsTicker\"},{\"attributes\":{\"ticker\":{\"id\":\"9561\",\"type\":\"DatetimeTicker\"}},\"id\":\"9564\",\"type\":\"Grid\"},{\"attributes\":{\"months\":[0,6]},\"id\":\"10209\",\"type\":\"MonthsTicker\"},{\"attributes\":{},\"id\":\"9514\",\"type\":\"LinearScale\"},{\"attributes\":{\"axis_label\":\"IoT sensor\",\"formatter\":{\"id\":\"10195\",\"type\":\"BasicTickFormatter\"},\"ticker\":{\"id\":\"9566\",\"type\":\"BasicTicker\"}},\"id\":\"9565\",\"type\":\"LinearAxis\"},{\"attributes\":{},\"id\":\"10210\",\"type\":\"YearsTicker\"},{\"attributes\":{},\"id\":\"9566\",\"type\":\"BasicTicker\"},{\"attributes\":{},\"id\":\"10211\",\"type\":\"UnionRenderers\"}],\"root_ids\":[\"9593\"]},\"title\":\"Bokeh Application\",\"version\":\"1.2.0\"}};\n",
       "  var render_items = [{\"docid\":\"4fea496c-acd6-4f94-bc6b-f1406d6a8a38\",\"roots\":{\"9593\":\"4e4f382d-a16e-4afd-b3d0-718eb5f82d2d\"}}];\n",
       "  root.Bokeh.embed.embed_items_notebook(docs_json, render_items);\n",
       "\n",
       "  }\n",
       "  if (root.Bokeh !== undefined) {\n",
       "    embed_document(root);\n",
       "  } else {\n",
       "    var attempts = 0;\n",
       "    var timer = setInterval(function(root) {\n",
       "      if (root.Bokeh !== undefined) {\n",
       "        embed_document(root);\n",
       "        clearInterval(timer);\n",
       "      }\n",
       "      attempts++;\n",
       "      if (attempts > 100) {\n",
       "        console.log(\"Bokeh: ERROR: Unable to run BokehJS code because BokehJS library is missing\");\n",
       "        clearInterval(timer);\n",
       "      }\n",
       "    }, 10, root)\n",
       "  }\n",
       "})(window);"
      ],
      "application/vnd.bokehjs_exec.v0+json": ""
     },
     "metadata": {
      "application/vnd.bokehjs_exec.v0+json": {
       "id": "9593"
      }
     },
     "output_type": "display_data"
    },
    {
     "data": {
      "text/html": [
       "\n",
       "\n",
       "\n",
       "\n",
       "\n",
       "\n",
       "  <div class=\"bk-root\" id=\"d367616d-494a-4280-814a-f9171f29184e\" data-root-id=\"10628\"></div>\n"
      ]
     },
     "metadata": {},
     "output_type": "display_data"
    },
    {
     "data": {
      "application/javascript": [
       "(function(root) {\n",
       "  function embed_document(root) {\n",
       "    \n",
       "  var docs_json = {\"951928aa-203d-41c3-8872-5fc998e2ed86\":{\"roots\":{\"references\":[{\"attributes\":{\"children\":[{\"id\":\"10496\",\"subtype\":\"Figure\",\"type\":\"Plot\"},{\"id\":\"10540\",\"subtype\":\"Figure\",\"type\":\"Plot\"},{\"id\":\"10584\",\"subtype\":\"Figure\",\"type\":\"Plot\"}]},\"id\":\"10628\",\"type\":\"Row\"},{\"attributes\":{},\"id\":\"10565\",\"type\":\"ResetTool\"},{\"attributes\":{},\"id\":\"10566\",\"type\":\"HelpTool\"},{\"attributes\":{\"active_drag\":\"auto\",\"active_inspect\":\"auto\",\"active_multi\":null,\"active_scroll\":\"auto\",\"active_tap\":\"auto\",\"tools\":[{\"id\":\"10561\",\"type\":\"PanTool\"},{\"id\":\"10562\",\"type\":\"WheelZoomTool\"},{\"id\":\"10563\",\"type\":\"BoxZoomTool\"},{\"id\":\"10564\",\"type\":\"SaveTool\"},{\"id\":\"10565\",\"type\":\"ResetTool\"},{\"id\":\"10566\",\"type\":\"HelpTool\"}]},\"id\":\"10567\",\"type\":\"Toolbar\"},{\"attributes\":{\"data_source\":{\"id\":\"10574\",\"type\":\"ColumnDataSource\"},\"glyph\":{\"id\":\"10575\",\"type\":\"Step\"},\"hover_glyph\":null,\"muted_glyph\":null,\"nonselection_glyph\":{\"id\":\"10576\",\"type\":\"Step\"},\"selection_glyph\":null,\"view\":{\"id\":\"10578\",\"type\":\"CDSView\"}},\"id\":\"10577\",\"type\":\"GlyphRenderer\"},{\"attributes\":{\"source\":{\"id\":\"10574\",\"type\":\"ColumnDataSource\"}},\"id\":\"10578\",\"type\":\"CDSView\"},{\"attributes\":{\"callback\":null,\"data\":{\"x\":[1546301220000.0,1546301400000.0,1546301520000.0],\"y\":[-1,5,14]},\"selected\":{\"id\":\"11315\",\"type\":\"Selection\"},\"selection_policy\":{\"id\":\"11314\",\"type\":\"UnionRenderers\"}},\"id\":\"10579\",\"type\":\"ColumnDataSource\"},{\"attributes\":{\"days\":[1,4,7,10,13,16,19,22,25,28]},\"id\":\"11304\",\"type\":\"DaysTicker\"},{\"attributes\":{\"fill_color\":{\"value\":\"red\"},\"line_color\":{\"value\":\"#1f77b4\"},\"size\":{\"units\":\"screen\",\"value\":6},\"x\":{\"field\":\"x\"},\"y\":{\"field\":\"y\"}},\"id\":\"10580\",\"type\":\"Circle\"},{\"attributes\":{\"fill_alpha\":{\"value\":0.1},\"fill_color\":{\"value\":\"#1f77b4\"},\"line_alpha\":{\"value\":0.1},\"line_color\":{\"value\":\"#1f77b4\"},\"size\":{\"units\":\"screen\",\"value\":6},\"x\":{\"field\":\"x\"},\"y\":{\"field\":\"y\"}},\"id\":\"10581\",\"type\":\"Circle\"},{\"attributes\":{\"data_source\":{\"id\":\"10579\",\"type\":\"ColumnDataSource\"},\"glyph\":{\"id\":\"10580\",\"type\":\"Circle\"},\"hover_glyph\":null,\"muted_glyph\":null,\"nonselection_glyph\":{\"id\":\"10581\",\"type\":\"Circle\"},\"selection_glyph\":null,\"view\":{\"id\":\"10583\",\"type\":\"CDSView\"}},\"id\":\"10582\",\"type\":\"GlyphRenderer\"},{\"attributes\":{\"source\":{\"id\":\"10579\",\"type\":\"ColumnDataSource\"}},\"id\":\"10583\",\"type\":\"CDSView\"},{\"attributes\":{\"below\":[{\"id\":\"10595\",\"type\":\"DatetimeAxis\"}],\"center\":[{\"id\":\"10599\",\"type\":\"Grid\"},{\"id\":\"10604\",\"type\":\"Grid\"}],\"left\":[{\"id\":\"10600\",\"type\":\"LinearAxis\"}],\"plot_height\":220,\"plot_width\":400,\"renderers\":[{\"id\":\"10621\",\"type\":\"GlyphRenderer\"},{\"id\":\"10626\",\"type\":\"GlyphRenderer\"}],\"title\":{\"id\":\"10585\",\"type\":\"Title\"},\"toolbar\":{\"id\":\"10611\",\"type\":\"Toolbar\"},\"x_range\":{\"id\":\"10587\",\"type\":\"Range1d\"},\"x_scale\":{\"id\":\"10591\",\"type\":\"LinearScale\"},\"y_range\":{\"id\":\"10589\",\"type\":\"Range1d\"},\"y_scale\":{\"id\":\"10593\",\"type\":\"LinearScale\"}},\"id\":\"10584\",\"subtype\":\"Figure\",\"type\":\"Plot\"},{\"attributes\":{\"text\":\"ts3\"},\"id\":\"10585\",\"type\":\"Title\"},{\"attributes\":{\"callback\":null,\"end\":1546302000000,\"start\":1546300620000},\"id\":\"10587\",\"type\":\"Range1d\"},{\"attributes\":{\"callback\":null,\"end\":25,\"start\":-20},\"id\":\"10589\",\"type\":\"Range1d\"},{\"attributes\":{},\"id\":\"10591\",\"type\":\"LinearScale\"},{\"attributes\":{},\"id\":\"10593\",\"type\":\"LinearScale\"},{\"attributes\":{\"axis_label\":\"timestamp\",\"formatter\":{\"id\":\"11281\",\"type\":\"DatetimeTickFormatter\"},\"ticker\":{\"id\":\"10596\",\"type\":\"DatetimeTicker\"}},\"id\":\"10595\",\"type\":\"DatetimeAxis\"},{\"attributes\":{\"num_minor_ticks\":5,\"tickers\":[{\"id\":\"11317\",\"type\":\"AdaptiveTicker\"},{\"id\":\"11318\",\"type\":\"AdaptiveTicker\"},{\"id\":\"11319\",\"type\":\"AdaptiveTicker\"},{\"id\":\"11320\",\"type\":\"DaysTicker\"},{\"id\":\"11321\",\"type\":\"DaysTicker\"},{\"id\":\"11322\",\"type\":\"DaysTicker\"},{\"id\":\"11323\",\"type\":\"DaysTicker\"},{\"id\":\"11324\",\"type\":\"MonthsTicker\"},{\"id\":\"11325\",\"type\":\"MonthsTicker\"},{\"id\":\"11326\",\"type\":\"MonthsTicker\"},{\"id\":\"11327\",\"type\":\"MonthsTicker\"},{\"id\":\"11328\",\"type\":\"YearsTicker\"}]},\"id\":\"10596\",\"type\":\"DatetimeTicker\"},{\"attributes\":{\"ticker\":{\"id\":\"10596\",\"type\":\"DatetimeTicker\"}},\"id\":\"10599\",\"type\":\"Grid\"},{\"attributes\":{\"axis_label\":\"IoT sensor\",\"formatter\":{\"id\":\"11279\",\"type\":\"BasicTickFormatter\"},\"ticker\":{\"id\":\"10601\",\"type\":\"BasicTicker\"}},\"id\":\"10600\",\"type\":\"LinearAxis\"},{\"attributes\":{\"dimension\":1,\"ticker\":{\"id\":\"10513\",\"type\":\"BasicTicker\"}},\"id\":\"10516\",\"type\":\"Grid\"},{\"attributes\":{},\"id\":\"10601\",\"type\":\"BasicTicker\"},{\"attributes\":{\"below\":[{\"id\":\"10507\",\"type\":\"DatetimeAxis\"}],\"center\":[{\"id\":\"10511\",\"type\":\"Grid\"},{\"id\":\"10516\",\"type\":\"Grid\"}],\"left\":[{\"id\":\"10512\",\"type\":\"LinearAxis\"}],\"plot_height\":220,\"plot_width\":400,\"renderers\":[{\"id\":\"10533\",\"type\":\"GlyphRenderer\"},{\"id\":\"10538\",\"type\":\"GlyphRenderer\"}],\"title\":{\"id\":\"10497\",\"type\":\"Title\"},\"toolbar\":{\"id\":\"10523\",\"type\":\"Toolbar\"},\"x_range\":{\"id\":\"10499\",\"type\":\"Range1d\"},\"x_scale\":{\"id\":\"10503\",\"type\":\"LinearScale\"},\"y_range\":{\"id\":\"10501\",\"type\":\"Range1d\"},\"y_scale\":{\"id\":\"10505\",\"type\":\"LinearScale\"}},\"id\":\"10496\",\"subtype\":\"Figure\",\"type\":\"Plot\"},{\"attributes\":{\"dimension\":1,\"ticker\":{\"id\":\"10601\",\"type\":\"BasicTicker\"}},\"id\":\"10604\",\"type\":\"Grid\"},{\"attributes\":{},\"id\":\"10513\",\"type\":\"BasicTicker\"},{\"attributes\":{\"line_alpha\":{\"value\":0.1},\"line_color\":{\"value\":\"#1f77b4\"},\"line_dash\":[4,4],\"line_width\":{\"value\":2},\"mode\":\"after\",\"x\":{\"field\":\"x\"},\"y\":{\"field\":\"y\"}},\"id\":\"10620\",\"type\":\"Step\"},{\"attributes\":{\"line_color\":{\"value\":\"#1f77b4\"},\"line_dash\":[4,4],\"line_width\":{\"value\":2},\"mode\":\"after\",\"x\":{\"field\":\"x\"},\"y\":{\"field\":\"y\"}},\"id\":\"10619\",\"type\":\"Step\"},{\"attributes\":{\"callback\":null,\"data\":{\"x\":[1546300800000.0,1546301220000.0,1546301400000.0,1546301520000.0,1546301700000.0,1546301820000.0],\"y\":[10,11,15,6,-4,-13]},\"selected\":{\"id\":\"11330\",\"type\":\"Selection\"},\"selection_policy\":{\"id\":\"11329\",\"type\":\"UnionRenderers\"}},\"id\":\"10618\",\"type\":\"ColumnDataSource\"},{\"attributes\":{\"active_drag\":\"auto\",\"active_inspect\":\"auto\",\"active_multi\":null,\"active_scroll\":\"auto\",\"active_tap\":\"auto\",\"tools\":[{\"id\":\"10605\",\"type\":\"PanTool\"},{\"id\":\"10606\",\"type\":\"WheelZoomTool\"},{\"id\":\"10607\",\"type\":\"BoxZoomTool\"},{\"id\":\"10608\",\"type\":\"SaveTool\"},{\"id\":\"10609\",\"type\":\"ResetTool\"},{\"id\":\"10610\",\"type\":\"HelpTool\"}]},\"id\":\"10611\",\"type\":\"Toolbar\"},{\"attributes\":{\"callback\":null,\"data\":{\"x\":[1546300800000.0,1546301400000.0,1546301700000.0,1546301820000.0],\"y\":[10,20,10,1]},\"selected\":{\"id\":\"11296\",\"type\":\"Selection\"},\"selection_policy\":{\"id\":\"11295\",\"type\":\"UnionRenderers\"}},\"id\":\"10530\",\"type\":\"ColumnDataSource\"},{\"attributes\":{},\"id\":\"10605\",\"type\":\"PanTool\"},{\"attributes\":{\"callback\":null,\"end\":1546302000000,\"start\":1546300620000},\"id\":\"10499\",\"type\":\"Range1d\"},{\"attributes\":{},\"id\":\"10606\",\"type\":\"WheelZoomTool\"},{\"attributes\":{\"text\":\"ts1\"},\"id\":\"10497\",\"type\":\"Title\"},{\"attributes\":{\"overlay\":{\"id\":\"11316\",\"type\":\"BoxAnnotation\"}},\"id\":\"10607\",\"type\":\"BoxZoomTool\"},{\"attributes\":{\"callback\":null,\"end\":25,\"start\":-20},\"id\":\"10501\",\"type\":\"Range1d\"},{\"attributes\":{},\"id\":\"10608\",\"type\":\"SaveTool\"},{\"attributes\":{},\"id\":\"10609\",\"type\":\"ResetTool\"},{\"attributes\":{\"axis_label\":\"timestamp\",\"formatter\":{\"id\":\"11273\",\"type\":\"DatetimeTickFormatter\"},\"ticker\":{\"id\":\"10508\",\"type\":\"DatetimeTicker\"}},\"id\":\"10507\",\"type\":\"DatetimeAxis\"},{\"attributes\":{\"ticker\":{\"id\":\"10508\",\"type\":\"DatetimeTicker\"}},\"id\":\"10511\",\"type\":\"Grid\"},{\"attributes\":{},\"id\":\"10610\",\"type\":\"HelpTool\"},{\"attributes\":{\"num_minor_ticks\":5,\"tickers\":[{\"id\":\"11283\",\"type\":\"AdaptiveTicker\"},{\"id\":\"11284\",\"type\":\"AdaptiveTicker\"},{\"id\":\"11285\",\"type\":\"AdaptiveTicker\"},{\"id\":\"11286\",\"type\":\"DaysTicker\"},{\"id\":\"11287\",\"type\":\"DaysTicker\"},{\"id\":\"11288\",\"type\":\"DaysTicker\"},{\"id\":\"11289\",\"type\":\"DaysTicker\"},{\"id\":\"11290\",\"type\":\"MonthsTicker\"},{\"id\":\"11291\",\"type\":\"MonthsTicker\"},{\"id\":\"11292\",\"type\":\"MonthsTicker\"},{\"id\":\"11293\",\"type\":\"MonthsTicker\"},{\"id\":\"11294\",\"type\":\"YearsTicker\"}]},\"id\":\"10508\",\"type\":\"DatetimeTicker\"},{\"attributes\":{\"data_source\":{\"id\":\"10618\",\"type\":\"ColumnDataSource\"},\"glyph\":{\"id\":\"10619\",\"type\":\"Step\"},\"hover_glyph\":null,\"muted_glyph\":null,\"nonselection_glyph\":{\"id\":\"10620\",\"type\":\"Step\"},\"selection_glyph\":null,\"view\":{\"id\":\"10622\",\"type\":\"CDSView\"}},\"id\":\"10621\",\"type\":\"GlyphRenderer\"},{\"attributes\":{\"source\":{\"id\":\"10618\",\"type\":\"ColumnDataSource\"}},\"id\":\"10622\",\"type\":\"CDSView\"},{\"attributes\":{},\"id\":\"10505\",\"type\":\"LinearScale\"},{\"attributes\":{\"axis_label\":\"IoT sensor\",\"formatter\":{\"id\":\"11271\",\"type\":\"BasicTickFormatter\"},\"ticker\":{\"id\":\"10513\",\"type\":\"BasicTicker\"}},\"id\":\"10512\",\"type\":\"LinearAxis\"},{\"attributes\":{},\"id\":\"10503\",\"type\":\"LinearScale\"},{\"attributes\":{\"callback\":null,\"data\":{\"x\":[1546300800000.0,1546301220000.0,1546301400000.0,1546301520000.0,1546301700000.0,1546301820000.0],\"y\":[10,11,15,6,-4,-13]},\"selected\":{\"id\":\"11332\",\"type\":\"Selection\"},\"selection_policy\":{\"id\":\"11331\",\"type\":\"UnionRenderers\"}},\"id\":\"10623\",\"type\":\"ColumnDataSource\"},{\"attributes\":{\"days\":[1,15]},\"id\":\"11306\",\"type\":\"DaysTicker\"},{\"attributes\":{\"line_alpha\":{\"value\":0.1},\"line_color\":{\"value\":\"#1f77b4\"},\"line_dash\":[4,4],\"line_width\":{\"value\":2},\"mode\":\"after\",\"x\":{\"field\":\"x\"},\"y\":{\"field\":\"y\"}},\"id\":\"10532\",\"type\":\"Step\"},{\"attributes\":{\"fill_color\":{\"value\":\"red\"},\"line_color\":{\"value\":\"#1f77b4\"},\"size\":{\"units\":\"screen\",\"value\":6},\"x\":{\"field\":\"x\"},\"y\":{\"field\":\"y\"}},\"id\":\"10624\",\"type\":\"Circle\"},{\"attributes\":{\"line_color\":{\"value\":\"#1f77b4\"},\"line_dash\":[4,4],\"line_width\":{\"value\":2},\"mode\":\"after\",\"x\":{\"field\":\"x\"},\"y\":{\"field\":\"y\"}},\"id\":\"10531\",\"type\":\"Step\"},{\"attributes\":{\"fill_alpha\":{\"value\":0.1},\"fill_color\":{\"value\":\"#1f77b4\"},\"line_alpha\":{\"value\":0.1},\"line_color\":{\"value\":\"#1f77b4\"},\"size\":{\"units\":\"screen\",\"value\":6},\"x\":{\"field\":\"x\"},\"y\":{\"field\":\"y\"}},\"id\":\"10625\",\"type\":\"Circle\"},{\"attributes\":{\"months\":[0,1,2,3,4,5,6,7,8,9,10,11]},\"id\":\"11307\",\"type\":\"MonthsTicker\"},{\"attributes\":{\"active_drag\":\"auto\",\"active_inspect\":\"auto\",\"active_multi\":null,\"active_scroll\":\"auto\",\"active_tap\":\"auto\",\"tools\":[{\"id\":\"10517\",\"type\":\"PanTool\"},{\"id\":\"10518\",\"type\":\"WheelZoomTool\"},{\"id\":\"10519\",\"type\":\"BoxZoomTool\"},{\"id\":\"10520\",\"type\":\"SaveTool\"},{\"id\":\"10521\",\"type\":\"ResetTool\"},{\"id\":\"10522\",\"type\":\"HelpTool\"}]},\"id\":\"10523\",\"type\":\"Toolbar\"},{\"attributes\":{\"data_source\":{\"id\":\"10623\",\"type\":\"ColumnDataSource\"},\"glyph\":{\"id\":\"10624\",\"type\":\"Circle\"},\"hover_glyph\":null,\"muted_glyph\":null,\"nonselection_glyph\":{\"id\":\"10625\",\"type\":\"Circle\"},\"selection_glyph\":null,\"view\":{\"id\":\"10627\",\"type\":\"CDSView\"}},\"id\":\"10626\",\"type\":\"GlyphRenderer\"},{\"attributes\":{\"months\":[0,2,4,6,8,10]},\"id\":\"11308\",\"type\":\"MonthsTicker\"},{\"attributes\":{},\"id\":\"10517\",\"type\":\"PanTool\"},{\"attributes\":{\"months\":[0,4,8]},\"id\":\"11309\",\"type\":\"MonthsTicker\"},{\"attributes\":{},\"id\":\"10518\",\"type\":\"WheelZoomTool\"},{\"attributes\":{\"source\":{\"id\":\"10623\",\"type\":\"ColumnDataSource\"}},\"id\":\"10627\",\"type\":\"CDSView\"},{\"attributes\":{\"months\":[0,6]},\"id\":\"11310\",\"type\":\"MonthsTicker\"},{\"attributes\":{\"overlay\":{\"id\":\"11282\",\"type\":\"BoxAnnotation\"}},\"id\":\"10519\",\"type\":\"BoxZoomTool\"},{\"attributes\":{},\"id\":\"11311\",\"type\":\"YearsTicker\"},{\"attributes\":{},\"id\":\"10520\",\"type\":\"SaveTool\"},{\"attributes\":{},\"id\":\"11277\",\"type\":\"DatetimeTickFormatter\"},{\"attributes\":{},\"id\":\"11273\",\"type\":\"DatetimeTickFormatter\"},{\"attributes\":{},\"id\":\"11312\",\"type\":\"UnionRenderers\"},{\"attributes\":{},\"id\":\"10521\",\"type\":\"ResetTool\"},{\"attributes\":{},\"id\":\"11275\",\"type\":\"BasicTickFormatter\"},{\"attributes\":{},\"id\":\"11313\",\"type\":\"Selection\"},{\"attributes\":{},\"id\":\"10522\",\"type\":\"HelpTool\"},{\"attributes\":{},\"id\":\"11314\",\"type\":\"UnionRenderers\"},{\"attributes\":{},\"id\":\"11279\",\"type\":\"BasicTickFormatter\"},{\"attributes\":{},\"id\":\"11315\",\"type\":\"Selection\"},{\"attributes\":{\"data_source\":{\"id\":\"10530\",\"type\":\"ColumnDataSource\"},\"glyph\":{\"id\":\"10531\",\"type\":\"Step\"},\"hover_glyph\":null,\"muted_glyph\":null,\"nonselection_glyph\":{\"id\":\"10532\",\"type\":\"Step\"},\"selection_glyph\":null,\"view\":{\"id\":\"10534\",\"type\":\"CDSView\"}},\"id\":\"10533\",\"type\":\"GlyphRenderer\"},{\"attributes\":{\"base\":60,\"mantissas\":[1,2,5,10,15,20,30],\"max_interval\":1800000.0,\"min_interval\":1000.0,\"num_minor_ticks\":0},\"id\":\"11284\",\"type\":\"AdaptiveTicker\"},{\"attributes\":{\"bottom_units\":\"screen\",\"fill_alpha\":{\"value\":0.5},\"fill_color\":{\"value\":\"lightgrey\"},\"left_units\":\"screen\",\"level\":\"overlay\",\"line_alpha\":{\"value\":1.0},\"line_color\":{\"value\":\"black\"},\"line_dash\":[4,4],\"line_width\":{\"value\":2},\"render_mode\":\"css\",\"right_units\":\"screen\",\"top_units\":\"screen\"},\"id\":\"11316\",\"type\":\"BoxAnnotation\"},{\"attributes\":{\"source\":{\"id\":\"10530\",\"type\":\"ColumnDataSource\"}},\"id\":\"10534\",\"type\":\"CDSView\"},{\"attributes\":{},\"id\":\"11281\",\"type\":\"DatetimeTickFormatter\"},{\"attributes\":{\"mantissas\":[1,2,5],\"max_interval\":500.0,\"num_minor_ticks\":0},\"id\":\"11317\",\"type\":\"AdaptiveTicker\"},{\"attributes\":{\"callback\":null,\"data\":{\"x\":[1546300800000.0,1546301400000.0,1546301700000.0,1546301820000.0],\"y\":[10,20,10,1]},\"selected\":{\"id\":\"11298\",\"type\":\"Selection\"},\"selection_policy\":{\"id\":\"11297\",\"type\":\"UnionRenderers\"}},\"id\":\"10535\",\"type\":\"ColumnDataSource\"},{\"attributes\":{\"bottom_units\":\"screen\",\"fill_alpha\":{\"value\":0.5},\"fill_color\":{\"value\":\"lightgrey\"},\"left_units\":\"screen\",\"level\":\"overlay\",\"line_alpha\":{\"value\":1.0},\"line_color\":{\"value\":\"black\"},\"line_dash\":[4,4],\"line_width\":{\"value\":2},\"render_mode\":\"css\",\"right_units\":\"screen\",\"top_units\":\"screen\"},\"id\":\"11282\",\"type\":\"BoxAnnotation\"},{\"attributes\":{\"fill_color\":{\"value\":\"red\"},\"line_color\":{\"value\":\"#1f77b4\"},\"size\":{\"units\":\"screen\",\"value\":6},\"x\":{\"field\":\"x\"},\"y\":{\"field\":\"y\"}},\"id\":\"10536\",\"type\":\"Circle\"},{\"attributes\":{\"mantissas\":[1,2,5],\"max_interval\":500.0,\"num_minor_ticks\":0},\"id\":\"11283\",\"type\":\"AdaptiveTicker\"},{\"attributes\":{\"base\":60,\"mantissas\":[1,2,5,10,15,20,30],\"max_interval\":1800000.0,\"min_interval\":1000.0,\"num_minor_ticks\":0},\"id\":\"11318\",\"type\":\"AdaptiveTicker\"},{\"attributes\":{\"fill_alpha\":{\"value\":0.1},\"fill_color\":{\"value\":\"#1f77b4\"},\"line_alpha\":{\"value\":0.1},\"line_color\":{\"value\":\"#1f77b4\"},\"size\":{\"units\":\"screen\",\"value\":6},\"x\":{\"field\":\"x\"},\"y\":{\"field\":\"y\"}},\"id\":\"10537\",\"type\":\"Circle\"},{\"attributes\":{\"base\":24,\"mantissas\":[1,2,4,6,8,12],\"max_interval\":43200000.0,\"min_interval\":3600000.0,\"num_minor_ticks\":0},\"id\":\"11319\",\"type\":\"AdaptiveTicker\"},{\"attributes\":{\"data_source\":{\"id\":\"10535\",\"type\":\"ColumnDataSource\"},\"glyph\":{\"id\":\"10536\",\"type\":\"Circle\"},\"hover_glyph\":null,\"muted_glyph\":null,\"nonselection_glyph\":{\"id\":\"10537\",\"type\":\"Circle\"},\"selection_glyph\":null,\"view\":{\"id\":\"10539\",\"type\":\"CDSView\"}},\"id\":\"10538\",\"type\":\"GlyphRenderer\"},{\"attributes\":{\"base\":24,\"mantissas\":[1,2,4,6,8,12],\"max_interval\":43200000.0,\"min_interval\":3600000.0,\"num_minor_ticks\":0},\"id\":\"11285\",\"type\":\"AdaptiveTicker\"},{\"attributes\":{\"days\":[1,2,3,4,5,6,7,8,9,10,11,12,13,14,15,16,17,18,19,20,21,22,23,24,25,26,27,28,29,30,31]},\"id\":\"11320\",\"type\":\"DaysTicker\"},{\"attributes\":{\"days\":[1,2,3,4,5,6,7,8,9,10,11,12,13,14,15,16,17,18,19,20,21,22,23,24,25,26,27,28,29,30,31]},\"id\":\"11303\",\"type\":\"DaysTicker\"},{\"attributes\":{\"source\":{\"id\":\"10535\",\"type\":\"ColumnDataSource\"}},\"id\":\"10539\",\"type\":\"CDSView\"},{\"attributes\":{\"days\":[1,4,7,10,13,16,19,22,25,28]},\"id\":\"11321\",\"type\":\"DaysTicker\"},{\"attributes\":{\"days\":[1,2,3,4,5,6,7,8,9,10,11,12,13,14,15,16,17,18,19,20,21,22,23,24,25,26,27,28,29,30,31]},\"id\":\"11286\",\"type\":\"DaysTicker\"},{\"attributes\":{\"days\":[1,8,15,22]},\"id\":\"11322\",\"type\":\"DaysTicker\"},{\"attributes\":{\"below\":[{\"id\":\"10551\",\"type\":\"DatetimeAxis\"}],\"center\":[{\"id\":\"10555\",\"type\":\"Grid\"},{\"id\":\"10560\",\"type\":\"Grid\"}],\"left\":[{\"id\":\"10556\",\"type\":\"LinearAxis\"}],\"plot_height\":220,\"plot_width\":400,\"renderers\":[{\"id\":\"10577\",\"type\":\"GlyphRenderer\"},{\"id\":\"10582\",\"type\":\"GlyphRenderer\"}],\"title\":{\"id\":\"10541\",\"type\":\"Title\"},\"toolbar\":{\"id\":\"10567\",\"type\":\"Toolbar\"},\"x_range\":{\"id\":\"10543\",\"type\":\"Range1d\"},\"x_scale\":{\"id\":\"10547\",\"type\":\"LinearScale\"},\"y_range\":{\"id\":\"10545\",\"type\":\"Range1d\"},\"y_scale\":{\"id\":\"10549\",\"type\":\"LinearScale\"}},\"id\":\"10540\",\"subtype\":\"Figure\",\"type\":\"Plot\"},{\"attributes\":{\"days\":[1,4,7,10,13,16,19,22,25,28]},\"id\":\"11287\",\"type\":\"DaysTicker\"},{\"attributes\":{\"days\":[1,15]},\"id\":\"11323\",\"type\":\"DaysTicker\"},{\"attributes\":{\"text\":\"ts2\"},\"id\":\"10541\",\"type\":\"Title\"},{\"attributes\":{\"days\":[1,8,15,22]},\"id\":\"11288\",\"type\":\"DaysTicker\"},{\"attributes\":{\"months\":[0,1,2,3,4,5,6,7,8,9,10,11]},\"id\":\"11324\",\"type\":\"MonthsTicker\"},{\"attributes\":{\"callback\":null,\"end\":1546302000000,\"start\":1546300620000},\"id\":\"10543\",\"type\":\"Range1d\"},{\"attributes\":{\"days\":[1,15]},\"id\":\"11289\",\"type\":\"DaysTicker\"},{\"attributes\":{\"months\":[0,2,4,6,8,10]},\"id\":\"11325\",\"type\":\"MonthsTicker\"},{\"attributes\":{\"callback\":null,\"end\":25,\"start\":-20},\"id\":\"10545\",\"type\":\"Range1d\"},{\"attributes\":{\"months\":[0,1,2,3,4,5,6,7,8,9,10,11]},\"id\":\"11290\",\"type\":\"MonthsTicker\"},{\"attributes\":{\"months\":[0,4,8]},\"id\":\"11326\",\"type\":\"MonthsTicker\"},{\"attributes\":{},\"id\":\"11271\",\"type\":\"BasicTickFormatter\"},{\"attributes\":{\"months\":[0,2,4,6,8,10]},\"id\":\"11291\",\"type\":\"MonthsTicker\"},{\"attributes\":{\"months\":[0,6]},\"id\":\"11327\",\"type\":\"MonthsTicker\"},{\"attributes\":{},\"id\":\"10547\",\"type\":\"LinearScale\"},{\"attributes\":{\"months\":[0,4,8]},\"id\":\"11292\",\"type\":\"MonthsTicker\"},{\"attributes\":{},\"id\":\"11328\",\"type\":\"YearsTicker\"},{\"attributes\":{},\"id\":\"10549\",\"type\":\"LinearScale\"},{\"attributes\":{\"months\":[0,6]},\"id\":\"11293\",\"type\":\"MonthsTicker\"},{\"attributes\":{},\"id\":\"11329\",\"type\":\"UnionRenderers\"},{\"attributes\":{\"axis_label\":\"timestamp\",\"formatter\":{\"id\":\"11277\",\"type\":\"DatetimeTickFormatter\"},\"ticker\":{\"id\":\"10552\",\"type\":\"DatetimeTicker\"}},\"id\":\"10551\",\"type\":\"DatetimeAxis\"},{\"attributes\":{},\"id\":\"11294\",\"type\":\"YearsTicker\"},{\"attributes\":{},\"id\":\"11330\",\"type\":\"Selection\"},{\"attributes\":{\"num_minor_ticks\":5,\"tickers\":[{\"id\":\"11300\",\"type\":\"AdaptiveTicker\"},{\"id\":\"11301\",\"type\":\"AdaptiveTicker\"},{\"id\":\"11302\",\"type\":\"AdaptiveTicker\"},{\"id\":\"11303\",\"type\":\"DaysTicker\"},{\"id\":\"11304\",\"type\":\"DaysTicker\"},{\"id\":\"11305\",\"type\":\"DaysTicker\"},{\"id\":\"11306\",\"type\":\"DaysTicker\"},{\"id\":\"11307\",\"type\":\"MonthsTicker\"},{\"id\":\"11308\",\"type\":\"MonthsTicker\"},{\"id\":\"11309\",\"type\":\"MonthsTicker\"},{\"id\":\"11310\",\"type\":\"MonthsTicker\"},{\"id\":\"11311\",\"type\":\"YearsTicker\"}]},\"id\":\"10552\",\"type\":\"DatetimeTicker\"},{\"attributes\":{},\"id\":\"11295\",\"type\":\"UnionRenderers\"},{\"attributes\":{},\"id\":\"11331\",\"type\":\"UnionRenderers\"},{\"attributes\":{\"ticker\":{\"id\":\"10552\",\"type\":\"DatetimeTicker\"}},\"id\":\"10555\",\"type\":\"Grid\"},{\"attributes\":{},\"id\":\"11296\",\"type\":\"Selection\"},{\"attributes\":{},\"id\":\"11332\",\"type\":\"Selection\"},{\"attributes\":{\"axis_label\":\"IoT sensor\",\"formatter\":{\"id\":\"11275\",\"type\":\"BasicTickFormatter\"},\"ticker\":{\"id\":\"10557\",\"type\":\"BasicTicker\"}},\"id\":\"10556\",\"type\":\"LinearAxis\"},{\"attributes\":{},\"id\":\"11297\",\"type\":\"UnionRenderers\"},{\"attributes\":{},\"id\":\"10557\",\"type\":\"BasicTicker\"},{\"attributes\":{},\"id\":\"11298\",\"type\":\"Selection\"},{\"attributes\":{\"dimension\":1,\"ticker\":{\"id\":\"10557\",\"type\":\"BasicTicker\"}},\"id\":\"10560\",\"type\":\"Grid\"},{\"attributes\":{\"bottom_units\":\"screen\",\"fill_alpha\":{\"value\":0.5},\"fill_color\":{\"value\":\"lightgrey\"},\"left_units\":\"screen\",\"level\":\"overlay\",\"line_alpha\":{\"value\":1.0},\"line_color\":{\"value\":\"black\"},\"line_dash\":[4,4],\"line_width\":{\"value\":2},\"render_mode\":\"css\",\"right_units\":\"screen\",\"top_units\":\"screen\"},\"id\":\"11299\",\"type\":\"BoxAnnotation\"},{\"attributes\":{\"line_alpha\":{\"value\":0.1},\"line_color\":{\"value\":\"#1f77b4\"},\"line_dash\":[4,4],\"line_width\":{\"value\":2},\"mode\":\"after\",\"x\":{\"field\":\"x\"},\"y\":{\"field\":\"y\"}},\"id\":\"10576\",\"type\":\"Step\"},{\"attributes\":{\"line_color\":{\"value\":\"#1f77b4\"},\"line_dash\":[4,4],\"line_width\":{\"value\":2},\"mode\":\"after\",\"x\":{\"field\":\"x\"},\"y\":{\"field\":\"y\"}},\"id\":\"10575\",\"type\":\"Step\"},{\"attributes\":{\"mantissas\":[1,2,5],\"max_interval\":500.0,\"num_minor_ticks\":0},\"id\":\"11300\",\"type\":\"AdaptiveTicker\"},{\"attributes\":{\"callback\":null,\"data\":{\"x\":[1546301220000.0,1546301400000.0,1546301520000.0],\"y\":[-1,5,14]},\"selected\":{\"id\":\"11313\",\"type\":\"Selection\"},\"selection_policy\":{\"id\":\"11312\",\"type\":\"UnionRenderers\"}},\"id\":\"10574\",\"type\":\"ColumnDataSource\"},{\"attributes\":{\"base\":60,\"mantissas\":[1,2,5,10,15,20,30],\"max_interval\":1800000.0,\"min_interval\":1000.0,\"num_minor_ticks\":0},\"id\":\"11301\",\"type\":\"AdaptiveTicker\"},{\"attributes\":{},\"id\":\"10561\",\"type\":\"PanTool\"},{\"attributes\":{\"base\":24,\"mantissas\":[1,2,4,6,8,12],\"max_interval\":43200000.0,\"min_interval\":3600000.0,\"num_minor_ticks\":0},\"id\":\"11302\",\"type\":\"AdaptiveTicker\"},{\"attributes\":{},\"id\":\"10562\",\"type\":\"WheelZoomTool\"},{\"attributes\":{\"overlay\":{\"id\":\"11299\",\"type\":\"BoxAnnotation\"}},\"id\":\"10563\",\"type\":\"BoxZoomTool\"},{\"attributes\":{\"days\":[1,8,15,22]},\"id\":\"11305\",\"type\":\"DaysTicker\"},{\"attributes\":{},\"id\":\"10564\",\"type\":\"SaveTool\"}],\"root_ids\":[\"10628\"]},\"title\":\"Bokeh Application\",\"version\":\"1.2.0\"}};\n",
       "  var render_items = [{\"docid\":\"951928aa-203d-41c3-8872-5fc998e2ed86\",\"roots\":{\"10628\":\"d367616d-494a-4280-814a-f9171f29184e\"}}];\n",
       "  root.Bokeh.embed.embed_items_notebook(docs_json, render_items);\n",
       "\n",
       "  }\n",
       "  if (root.Bokeh !== undefined) {\n",
       "    embed_document(root);\n",
       "  } else {\n",
       "    var attempts = 0;\n",
       "    var timer = setInterval(function(root) {\n",
       "      if (root.Bokeh !== undefined) {\n",
       "        embed_document(root);\n",
       "        clearInterval(timer);\n",
       "      }\n",
       "      attempts++;\n",
       "      if (attempts > 100) {\n",
       "        console.log(\"Bokeh: ERROR: Unable to run BokehJS code because BokehJS library is missing\");\n",
       "        clearInterval(timer);\n",
       "      }\n",
       "    }, 10, root)\n",
       "  }\n",
       "})(window);"
      ],
      "application/vnd.bokehjs_exec.v0+json": ""
     },
     "metadata": {
      "application/vnd.bokehjs_exec.v0+json": {
       "id": "10628"
      }
     },
     "output_type": "display_data"
    }
   ],
   "source": [
    "# Substraction\n",
    "plot_row(ts, ts - 10, y_range=(-20, 25))\n",
    "plot_row(ts, ts2, ts - ts2, y_range=(-20, 25))"
   ]
  },
  {
   "cell_type": "code",
   "execution_count": 27,
   "metadata": {},
   "outputs": [
    {
     "data": {
      "text/html": [
       "\n",
       "\n",
       "\n",
       "\n",
       "\n",
       "\n",
       "  <div class=\"bk-root\" id=\"89b94e3a-bc1b-4329-ac42-557e87733f21\" data-root-id=\"11817\"></div>\n"
      ]
     },
     "metadata": {},
     "output_type": "display_data"
    },
    {
     "data": {
      "application/javascript": [
       "(function(root) {\n",
       "  function embed_document(root) {\n",
       "    \n",
       "  var docs_json = {\"1f1b0278-ca49-463e-af86-f1335ee64836\":{\"roots\":{\"references\":[{\"attributes\":{\"children\":[{\"id\":\"11729\",\"subtype\":\"Figure\",\"type\":\"Plot\"},{\"id\":\"11773\",\"subtype\":\"Figure\",\"type\":\"Plot\"}]},\"id\":\"11817\",\"type\":\"Row\"},{\"attributes\":{\"ticker\":{\"id\":\"11741\",\"type\":\"DatetimeTicker\"}},\"id\":\"11744\",\"type\":\"Grid\"},{\"attributes\":{\"base\":60,\"mantissas\":[1,2,5,10,15,20,30],\"max_interval\":1800000.0,\"min_interval\":1000.0,\"num_minor_ticks\":0},\"id\":\"12551\",\"type\":\"AdaptiveTicker\"},{\"attributes\":{\"axis_label\":\"IoT sensor\",\"formatter\":{\"id\":\"12525\",\"type\":\"BasicTickFormatter\"},\"ticker\":{\"id\":\"11746\",\"type\":\"BasicTicker\"}},\"id\":\"11745\",\"type\":\"LinearAxis\"},{\"attributes\":{\"base\":24,\"mantissas\":[1,2,4,6,8,12],\"max_interval\":43200000.0,\"min_interval\":3600000.0,\"num_minor_ticks\":0},\"id\":\"12552\",\"type\":\"AdaptiveTicker\"},{\"attributes\":{},\"id\":\"11746\",\"type\":\"BasicTicker\"},{\"attributes\":{\"days\":[1,2,3,4,5,6,7,8,9,10,11,12,13,14,15,16,17,18,19,20,21,22,23,24,25,26,27,28,29,30,31]},\"id\":\"12553\",\"type\":\"DaysTicker\"},{\"attributes\":{\"dimension\":1,\"ticker\":{\"id\":\"11746\",\"type\":\"BasicTicker\"}},\"id\":\"11749\",\"type\":\"Grid\"},{\"attributes\":{\"days\":[1,4,7,10,13,16,19,22,25,28]},\"id\":\"12554\",\"type\":\"DaysTicker\"},{\"attributes\":{\"days\":[1,8,15,22]},\"id\":\"12555\",\"type\":\"DaysTicker\"},{\"attributes\":{\"line_alpha\":{\"value\":0.1},\"line_color\":{\"value\":\"#1f77b4\"},\"line_dash\":[4,4],\"line_width\":{\"value\":2},\"mode\":\"after\",\"x\":{\"field\":\"x\"},\"y\":{\"field\":\"y\"}},\"id\":\"11765\",\"type\":\"Step\"},{\"attributes\":{},\"id\":\"12562\",\"type\":\"UnionRenderers\"},{\"attributes\":{\"line_color\":{\"value\":\"#1f77b4\"},\"line_dash\":[4,4],\"line_width\":{\"value\":2},\"mode\":\"after\",\"x\":{\"field\":\"x\"},\"y\":{\"field\":\"y\"}},\"id\":\"11764\",\"type\":\"Step\"},{\"attributes\":{\"months\":[0,1,2,3,4,5,6,7,8,9,10,11]},\"id\":\"12557\",\"type\":\"MonthsTicker\"},{\"attributes\":{\"active_drag\":\"auto\",\"active_inspect\":\"auto\",\"active_multi\":null,\"active_scroll\":\"auto\",\"active_tap\":\"auto\",\"tools\":[{\"id\":\"11750\",\"type\":\"PanTool\"},{\"id\":\"11751\",\"type\":\"WheelZoomTool\"},{\"id\":\"11752\",\"type\":\"BoxZoomTool\"},{\"id\":\"11753\",\"type\":\"SaveTool\"},{\"id\":\"11754\",\"type\":\"ResetTool\"},{\"id\":\"11755\",\"type\":\"HelpTool\"}]},\"id\":\"11756\",\"type\":\"Toolbar\"},{\"attributes\":{\"days\":[1,15]},\"id\":\"12556\",\"type\":\"DaysTicker\"},{\"attributes\":{},\"id\":\"11750\",\"type\":\"PanTool\"},{\"attributes\":{\"months\":[0,4,8]},\"id\":\"12559\",\"type\":\"MonthsTicker\"},{\"attributes\":{},\"id\":\"11751\",\"type\":\"WheelZoomTool\"},{\"attributes\":{\"months\":[0,2,4,6,8,10]},\"id\":\"12558\",\"type\":\"MonthsTicker\"},{\"attributes\":{\"overlay\":{\"id\":\"12532\",\"type\":\"BoxAnnotation\"}},\"id\":\"11752\",\"type\":\"BoxZoomTool\"},{\"attributes\":{},\"id\":\"11753\",\"type\":\"SaveTool\"},{\"attributes\":{\"months\":[0,6]},\"id\":\"12560\",\"type\":\"MonthsTicker\"},{\"attributes\":{},\"id\":\"11754\",\"type\":\"ResetTool\"},{\"attributes\":{},\"id\":\"12561\",\"type\":\"YearsTicker\"},{\"attributes\":{},\"id\":\"11755\",\"type\":\"HelpTool\"},{\"attributes\":{},\"id\":\"12563\",\"type\":\"Selection\"},{\"attributes\":{\"data_source\":{\"id\":\"11763\",\"type\":\"ColumnDataSource\"},\"glyph\":{\"id\":\"11764\",\"type\":\"Step\"},\"hover_glyph\":null,\"muted_glyph\":null,\"nonselection_glyph\":{\"id\":\"11765\",\"type\":\"Step\"},\"selection_glyph\":null,\"view\":{\"id\":\"11767\",\"type\":\"CDSView\"}},\"id\":\"11766\",\"type\":\"GlyphRenderer\"},{\"attributes\":{\"source\":{\"id\":\"11763\",\"type\":\"ColumnDataSource\"}},\"id\":\"11767\",\"type\":\"CDSView\"},{\"attributes\":{},\"id\":\"12564\",\"type\":\"UnionRenderers\"},{\"attributes\":{\"callback\":null,\"data\":{\"x\":[1546300800000.0,1546301400000.0,1546301700000.0,1546301820000.0],\"y\":[10,20,10,1]},\"selected\":{\"id\":\"12548\",\"type\":\"Selection\"},\"selection_policy\":{\"id\":\"12547\",\"type\":\"UnionRenderers\"}},\"id\":\"11768\",\"type\":\"ColumnDataSource\"},{\"attributes\":{},\"id\":\"12565\",\"type\":\"Selection\"},{\"attributes\":{\"fill_color\":{\"value\":\"red\"},\"line_color\":{\"value\":\"#1f77b4\"},\"size\":{\"units\":\"screen\",\"value\":6},\"x\":{\"field\":\"x\"},\"y\":{\"field\":\"y\"}},\"id\":\"11769\",\"type\":\"Circle\"},{\"attributes\":{},\"id\":\"12529\",\"type\":\"BasicTickFormatter\"},{\"attributes\":{\"fill_alpha\":{\"value\":0.1},\"fill_color\":{\"value\":\"#1f77b4\"},\"line_alpha\":{\"value\":0.1},\"line_color\":{\"value\":\"#1f77b4\"},\"size\":{\"units\":\"screen\",\"value\":6},\"x\":{\"field\":\"x\"},\"y\":{\"field\":\"y\"}},\"id\":\"11770\",\"type\":\"Circle\"},{\"attributes\":{\"data_source\":{\"id\":\"11768\",\"type\":\"ColumnDataSource\"},\"glyph\":{\"id\":\"11769\",\"type\":\"Circle\"},\"hover_glyph\":null,\"muted_glyph\":null,\"nonselection_glyph\":{\"id\":\"11770\",\"type\":\"Circle\"},\"selection_glyph\":null,\"view\":{\"id\":\"11772\",\"type\":\"CDSView\"}},\"id\":\"11771\",\"type\":\"GlyphRenderer\"},{\"attributes\":{\"source\":{\"id\":\"11768\",\"type\":\"ColumnDataSource\"}},\"id\":\"11772\",\"type\":\"CDSView\"},{\"attributes\":{},\"id\":\"12527\",\"type\":\"DatetimeTickFormatter\"},{\"attributes\":{\"below\":[{\"id\":\"11784\",\"type\":\"DatetimeAxis\"}],\"center\":[{\"id\":\"11788\",\"type\":\"Grid\"},{\"id\":\"11793\",\"type\":\"Grid\"}],\"left\":[{\"id\":\"11789\",\"type\":\"LinearAxis\"}],\"plot_height\":220,\"plot_width\":400,\"renderers\":[{\"id\":\"11810\",\"type\":\"GlyphRenderer\"},{\"id\":\"11815\",\"type\":\"GlyphRenderer\"}],\"title\":{\"id\":\"11774\",\"type\":\"Title\"},\"toolbar\":{\"id\":\"11800\",\"type\":\"Toolbar\"},\"x_range\":{\"id\":\"11776\",\"type\":\"Range1d\"},\"x_scale\":{\"id\":\"11780\",\"type\":\"LinearScale\"},\"y_range\":{\"id\":\"11778\",\"type\":\"Range1d\"},\"y_scale\":{\"id\":\"11782\",\"type\":\"LinearScale\"}},\"id\":\"11773\",\"subtype\":\"Figure\",\"type\":\"Plot\"},{\"attributes\":{\"line_color\":{\"value\":\"#1f77b4\"},\"line_dash\":[4,4],\"line_width\":{\"value\":2},\"mode\":\"after\",\"x\":{\"field\":\"x\"},\"y\":{\"field\":\"y\"}},\"id\":\"11808\",\"type\":\"Step\"},{\"attributes\":{\"text\":\"ts2\"},\"id\":\"11774\",\"type\":\"Title\"},{\"attributes\":{\"callback\":null,\"end\":1546302000000,\"start\":1546300620000},\"id\":\"11776\",\"type\":\"Range1d\"},{\"attributes\":{},\"id\":\"12531\",\"type\":\"DatetimeTickFormatter\"},{\"attributes\":{\"callback\":null,\"end\":30,\"start\":-5},\"id\":\"11778\",\"type\":\"Range1d\"},{\"attributes\":{},\"id\":\"11780\",\"type\":\"LinearScale\"},{\"attributes\":{},\"id\":\"11782\",\"type\":\"LinearScale\"},{\"attributes\":{\"axis_label\":\"timestamp\",\"formatter\":{\"id\":\"12531\",\"type\":\"DatetimeTickFormatter\"},\"ticker\":{\"id\":\"11785\",\"type\":\"DatetimeTicker\"}},\"id\":\"11784\",\"type\":\"DatetimeAxis\"},{\"attributes\":{\"num_minor_ticks\":5,\"tickers\":[{\"id\":\"12550\",\"type\":\"AdaptiveTicker\"},{\"id\":\"12551\",\"type\":\"AdaptiveTicker\"},{\"id\":\"12552\",\"type\":\"AdaptiveTicker\"},{\"id\":\"12553\",\"type\":\"DaysTicker\"},{\"id\":\"12554\",\"type\":\"DaysTicker\"},{\"id\":\"12555\",\"type\":\"DaysTicker\"},{\"id\":\"12556\",\"type\":\"DaysTicker\"},{\"id\":\"12557\",\"type\":\"MonthsTicker\"},{\"id\":\"12558\",\"type\":\"MonthsTicker\"},{\"id\":\"12559\",\"type\":\"MonthsTicker\"},{\"id\":\"12560\",\"type\":\"MonthsTicker\"},{\"id\":\"12561\",\"type\":\"YearsTicker\"}]},\"id\":\"11785\",\"type\":\"DatetimeTicker\"},{\"attributes\":{\"ticker\":{\"id\":\"11785\",\"type\":\"DatetimeTicker\"}},\"id\":\"11788\",\"type\":\"Grid\"},{\"attributes\":{\"axis_label\":\"IoT sensor\",\"formatter\":{\"id\":\"12529\",\"type\":\"BasicTickFormatter\"},\"ticker\":{\"id\":\"11790\",\"type\":\"BasicTicker\"}},\"id\":\"11789\",\"type\":\"LinearAxis\"},{\"attributes\":{},\"id\":\"11790\",\"type\":\"BasicTicker\"},{\"attributes\":{\"dimension\":1,\"ticker\":{\"id\":\"11790\",\"type\":\"BasicTicker\"}},\"id\":\"11793\",\"type\":\"Grid\"},{\"attributes\":{\"callback\":null,\"data\":{\"x\":[1546300800000.0,1546301400000.0,1546301700000.0,1546301820000.0],\"y\":[10,10,10,1]},\"selected\":{\"id\":\"12563\",\"type\":\"Selection\"},\"selection_policy\":{\"id\":\"12562\",\"type\":\"UnionRenderers\"}},\"id\":\"11807\",\"type\":\"ColumnDataSource\"},{\"attributes\":{\"line_alpha\":{\"value\":0.1},\"line_color\":{\"value\":\"#1f77b4\"},\"line_dash\":[4,4],\"line_width\":{\"value\":2},\"mode\":\"after\",\"x\":{\"field\":\"x\"},\"y\":{\"field\":\"y\"}},\"id\":\"11809\",\"type\":\"Step\"},{\"attributes\":{\"active_drag\":\"auto\",\"active_inspect\":\"auto\",\"active_multi\":null,\"active_scroll\":\"auto\",\"active_tap\":\"auto\",\"tools\":[{\"id\":\"11794\",\"type\":\"PanTool\"},{\"id\":\"11795\",\"type\":\"WheelZoomTool\"},{\"id\":\"11796\",\"type\":\"BoxZoomTool\"},{\"id\":\"11797\",\"type\":\"SaveTool\"},{\"id\":\"11798\",\"type\":\"ResetTool\"},{\"id\":\"11799\",\"type\":\"HelpTool\"}]},\"id\":\"11800\",\"type\":\"Toolbar\"},{\"attributes\":{},\"id\":\"11736\",\"type\":\"LinearScale\"},{\"attributes\":{},\"id\":\"11794\",\"type\":\"PanTool\"},{\"attributes\":{},\"id\":\"11795\",\"type\":\"WheelZoomTool\"},{\"attributes\":{\"overlay\":{\"id\":\"12549\",\"type\":\"BoxAnnotation\"}},\"id\":\"11796\",\"type\":\"BoxZoomTool\"},{\"attributes\":{},\"id\":\"11797\",\"type\":\"SaveTool\"},{\"attributes\":{},\"id\":\"11798\",\"type\":\"ResetTool\"},{\"attributes\":{},\"id\":\"11799\",\"type\":\"HelpTool\"},{\"attributes\":{\"data_source\":{\"id\":\"11807\",\"type\":\"ColumnDataSource\"},\"glyph\":{\"id\":\"11808\",\"type\":\"Step\"},\"hover_glyph\":null,\"muted_glyph\":null,\"nonselection_glyph\":{\"id\":\"11809\",\"type\":\"Step\"},\"selection_glyph\":null,\"view\":{\"id\":\"11811\",\"type\":\"CDSView\"}},\"id\":\"11810\",\"type\":\"GlyphRenderer\"},{\"attributes\":{\"source\":{\"id\":\"11807\",\"type\":\"ColumnDataSource\"}},\"id\":\"11811\",\"type\":\"CDSView\"},{\"attributes\":{\"callback\":null,\"data\":{\"x\":[1546300800000.0,1546301400000.0,1546301700000.0,1546301820000.0],\"y\":[10,10,10,1]},\"selected\":{\"id\":\"12565\",\"type\":\"Selection\"},\"selection_policy\":{\"id\":\"12564\",\"type\":\"UnionRenderers\"}},\"id\":\"11812\",\"type\":\"ColumnDataSource\"},{\"attributes\":{\"fill_color\":{\"value\":\"red\"},\"line_color\":{\"value\":\"#1f77b4\"},\"size\":{\"units\":\"screen\",\"value\":6},\"x\":{\"field\":\"x\"},\"y\":{\"field\":\"y\"}},\"id\":\"11813\",\"type\":\"Circle\"},{\"attributes\":{\"fill_alpha\":{\"value\":0.1},\"fill_color\":{\"value\":\"#1f77b4\"},\"line_alpha\":{\"value\":0.1},\"line_color\":{\"value\":\"#1f77b4\"},\"size\":{\"units\":\"screen\",\"value\":6},\"x\":{\"field\":\"x\"},\"y\":{\"field\":\"y\"}},\"id\":\"11814\",\"type\":\"Circle\"},{\"attributes\":{\"data_source\":{\"id\":\"11812\",\"type\":\"ColumnDataSource\"},\"glyph\":{\"id\":\"11813\",\"type\":\"Circle\"},\"hover_glyph\":null,\"muted_glyph\":null,\"nonselection_glyph\":{\"id\":\"11814\",\"type\":\"Circle\"},\"selection_glyph\":null,\"view\":{\"id\":\"11816\",\"type\":\"CDSView\"}},\"id\":\"11815\",\"type\":\"GlyphRenderer\"},{\"attributes\":{\"source\":{\"id\":\"11812\",\"type\":\"ColumnDataSource\"}},\"id\":\"11816\",\"type\":\"CDSView\"},{\"attributes\":{\"bottom_units\":\"screen\",\"fill_alpha\":{\"value\":0.5},\"fill_color\":{\"value\":\"lightgrey\"},\"left_units\":\"screen\",\"level\":\"overlay\",\"line_alpha\":{\"value\":1.0},\"line_color\":{\"value\":\"black\"},\"line_dash\":[4,4],\"line_width\":{\"value\":2},\"render_mode\":\"css\",\"right_units\":\"screen\",\"top_units\":\"screen\"},\"id\":\"12532\",\"type\":\"BoxAnnotation\"},{\"attributes\":{\"num_minor_ticks\":5,\"tickers\":[{\"id\":\"12533\",\"type\":\"AdaptiveTicker\"},{\"id\":\"12534\",\"type\":\"AdaptiveTicker\"},{\"id\":\"12535\",\"type\":\"AdaptiveTicker\"},{\"id\":\"12536\",\"type\":\"DaysTicker\"},{\"id\":\"12537\",\"type\":\"DaysTicker\"},{\"id\":\"12538\",\"type\":\"DaysTicker\"},{\"id\":\"12539\",\"type\":\"DaysTicker\"},{\"id\":\"12540\",\"type\":\"MonthsTicker\"},{\"id\":\"12541\",\"type\":\"MonthsTicker\"},{\"id\":\"12542\",\"type\":\"MonthsTicker\"},{\"id\":\"12543\",\"type\":\"MonthsTicker\"},{\"id\":\"12544\",\"type\":\"YearsTicker\"}]},\"id\":\"11741\",\"type\":\"DatetimeTicker\"},{\"attributes\":{\"mantissas\":[1,2,5],\"max_interval\":500.0,\"num_minor_ticks\":0},\"id\":\"12533\",\"type\":\"AdaptiveTicker\"},{\"attributes\":{\"base\":60,\"mantissas\":[1,2,5,10,15,20,30],\"max_interval\":1800000.0,\"min_interval\":1000.0,\"num_minor_ticks\":0},\"id\":\"12534\",\"type\":\"AdaptiveTicker\"},{\"attributes\":{\"base\":24,\"mantissas\":[1,2,4,6,8,12],\"max_interval\":43200000.0,\"min_interval\":3600000.0,\"num_minor_ticks\":0},\"id\":\"12535\",\"type\":\"AdaptiveTicker\"},{\"attributes\":{\"days\":[1,2,3,4,5,6,7,8,9,10,11,12,13,14,15,16,17,18,19,20,21,22,23,24,25,26,27,28,29,30,31]},\"id\":\"12536\",\"type\":\"DaysTicker\"},{\"attributes\":{\"days\":[1,4,7,10,13,16,19,22,25,28]},\"id\":\"12537\",\"type\":\"DaysTicker\"},{\"attributes\":{\"days\":[1,8,15,22]},\"id\":\"12538\",\"type\":\"DaysTicker\"},{\"attributes\":{\"days\":[1,15]},\"id\":\"12539\",\"type\":\"DaysTicker\"},{\"attributes\":{\"months\":[0,1,2,3,4,5,6,7,8,9,10,11]},\"id\":\"12540\",\"type\":\"MonthsTicker\"},{\"attributes\":{\"months\":[0,2,4,6,8,10]},\"id\":\"12541\",\"type\":\"MonthsTicker\"},{\"attributes\":{\"months\":[0,4,8]},\"id\":\"12542\",\"type\":\"MonthsTicker\"},{\"attributes\":{},\"id\":\"12525\",\"type\":\"BasicTickFormatter\"},{\"attributes\":{\"months\":[0,6]},\"id\":\"12543\",\"type\":\"MonthsTicker\"},{\"attributes\":{\"below\":[{\"id\":\"11740\",\"type\":\"DatetimeAxis\"}],\"center\":[{\"id\":\"11744\",\"type\":\"Grid\"},{\"id\":\"11749\",\"type\":\"Grid\"}],\"left\":[{\"id\":\"11745\",\"type\":\"LinearAxis\"}],\"plot_height\":220,\"plot_width\":400,\"renderers\":[{\"id\":\"11766\",\"type\":\"GlyphRenderer\"},{\"id\":\"11771\",\"type\":\"GlyphRenderer\"}],\"title\":{\"id\":\"11730\",\"type\":\"Title\"},\"toolbar\":{\"id\":\"11756\",\"type\":\"Toolbar\"},\"x_range\":{\"id\":\"11732\",\"type\":\"Range1d\"},\"x_scale\":{\"id\":\"11736\",\"type\":\"LinearScale\"},\"y_range\":{\"id\":\"11734\",\"type\":\"Range1d\"},\"y_scale\":{\"id\":\"11738\",\"type\":\"LinearScale\"}},\"id\":\"11729\",\"subtype\":\"Figure\",\"type\":\"Plot\"},{\"attributes\":{},\"id\":\"12544\",\"type\":\"YearsTicker\"},{\"attributes\":{\"callback\":null,\"data\":{\"x\":[1546300800000.0,1546301400000.0,1546301700000.0,1546301820000.0],\"y\":[10,20,10,1]},\"selected\":{\"id\":\"12546\",\"type\":\"Selection\"},\"selection_policy\":{\"id\":\"12545\",\"type\":\"UnionRenderers\"}},\"id\":\"11763\",\"type\":\"ColumnDataSource\"},{\"attributes\":{\"callback\":null,\"end\":1546302000000,\"start\":1546300620000},\"id\":\"11732\",\"type\":\"Range1d\"},{\"attributes\":{},\"id\":\"12545\",\"type\":\"UnionRenderers\"},{\"attributes\":{\"axis_label\":\"timestamp\",\"formatter\":{\"id\":\"12527\",\"type\":\"DatetimeTickFormatter\"},\"ticker\":{\"id\":\"11741\",\"type\":\"DatetimeTicker\"}},\"id\":\"11740\",\"type\":\"DatetimeAxis\"},{\"attributes\":{},\"id\":\"11738\",\"type\":\"LinearScale\"},{\"attributes\":{},\"id\":\"12546\",\"type\":\"Selection\"},{\"attributes\":{\"text\":\"ts1\"},\"id\":\"11730\",\"type\":\"Title\"},{\"attributes\":{},\"id\":\"12547\",\"type\":\"UnionRenderers\"},{\"attributes\":{\"callback\":null,\"end\":30,\"start\":-5},\"id\":\"11734\",\"type\":\"Range1d\"},{\"attributes\":{},\"id\":\"12548\",\"type\":\"Selection\"},{\"attributes\":{\"bottom_units\":\"screen\",\"fill_alpha\":{\"value\":0.5},\"fill_color\":{\"value\":\"lightgrey\"},\"left_units\":\"screen\",\"level\":\"overlay\",\"line_alpha\":{\"value\":1.0},\"line_color\":{\"value\":\"black\"},\"line_dash\":[4,4],\"line_width\":{\"value\":2},\"render_mode\":\"css\",\"right_units\":\"screen\",\"top_units\":\"screen\"},\"id\":\"12549\",\"type\":\"BoxAnnotation\"},{\"attributes\":{\"mantissas\":[1,2,5],\"max_interval\":500.0,\"num_minor_ticks\":0},\"id\":\"12550\",\"type\":\"AdaptiveTicker\"}],\"root_ids\":[\"11817\"]},\"title\":\"Bokeh Application\",\"version\":\"1.2.0\"}};\n",
       "  var render_items = [{\"docid\":\"1f1b0278-ca49-463e-af86-f1335ee64836\",\"roots\":{\"11817\":\"89b94e3a-bc1b-4329-ac42-557e87733f21\"}}];\n",
       "  root.Bokeh.embed.embed_items_notebook(docs_json, render_items);\n",
       "\n",
       "  }\n",
       "  if (root.Bokeh !== undefined) {\n",
       "    embed_document(root);\n",
       "  } else {\n",
       "    var attempts = 0;\n",
       "    var timer = setInterval(function(root) {\n",
       "      if (root.Bokeh !== undefined) {\n",
       "        embed_document(root);\n",
       "        clearInterval(timer);\n",
       "      }\n",
       "      attempts++;\n",
       "      if (attempts > 100) {\n",
       "        console.log(\"Bokeh: ERROR: Unable to run BokehJS code because BokehJS library is missing\");\n",
       "        clearInterval(timer);\n",
       "      }\n",
       "    }, 10, root)\n",
       "  }\n",
       "})(window);"
      ],
      "application/vnd.bokehjs_exec.v0+json": ""
     },
     "metadata": {
      "application/vnd.bokehjs_exec.v0+json": {
       "id": "11817"
      }
     },
     "output_type": "display_data"
    },
    {
     "data": {
      "text/html": [
       "\n",
       "\n",
       "\n",
       "\n",
       "\n",
       "\n",
       "  <div class=\"bk-root\" id=\"399bfe38-cb76-44db-89bb-63d02ae81929\" data-root-id=\"12962\"></div>\n"
      ]
     },
     "metadata": {},
     "output_type": "display_data"
    },
    {
     "data": {
      "application/javascript": [
       "(function(root) {\n",
       "  function embed_document(root) {\n",
       "    \n",
       "  var docs_json = {\"7dfe786a-826e-4072-94c7-8e7bde82e656\":{\"roots\":{\"references\":[{\"attributes\":{\"children\":[{\"id\":\"12830\",\"subtype\":\"Figure\",\"type\":\"Plot\"},{\"id\":\"12874\",\"subtype\":\"Figure\",\"type\":\"Plot\"},{\"id\":\"12918\",\"subtype\":\"Figure\",\"type\":\"Plot\"}]},\"id\":\"12962\",\"type\":\"Row\"},{\"attributes\":{\"data_source\":{\"id\":\"12908\",\"type\":\"ColumnDataSource\"},\"glyph\":{\"id\":\"12909\",\"type\":\"Step\"},\"hover_glyph\":null,\"muted_glyph\":null,\"nonselection_glyph\":{\"id\":\"12910\",\"type\":\"Step\"},\"selection_glyph\":null,\"view\":{\"id\":\"12912\",\"type\":\"CDSView\"}},\"id\":\"12911\",\"type\":\"GlyphRenderer\"},{\"attributes\":{\"source\":{\"id\":\"12908\",\"type\":\"ColumnDataSource\"}},\"id\":\"12912\",\"type\":\"CDSView\"},{\"attributes\":{},\"id\":\"13717\",\"type\":\"DatetimeTickFormatter\"},{\"attributes\":{\"callback\":null,\"data\":{\"x\":[1546301220000.0,1546301400000.0,1546301520000.0],\"y\":[-1,5,14]},\"selected\":{\"id\":\"13759\",\"type\":\"Selection\"},\"selection_policy\":{\"id\":\"13758\",\"type\":\"UnionRenderers\"}},\"id\":\"12913\",\"type\":\"ColumnDataSource\"},{\"attributes\":{\"fill_color\":{\"value\":\"red\"},\"line_color\":{\"value\":\"#1f77b4\"},\"size\":{\"units\":\"screen\",\"value\":6},\"x\":{\"field\":\"x\"},\"y\":{\"field\":\"y\"}},\"id\":\"12958\",\"type\":\"Circle\"},{\"attributes\":{\"fill_color\":{\"value\":\"red\"},\"line_color\":{\"value\":\"#1f77b4\"},\"size\":{\"units\":\"screen\",\"value\":6},\"x\":{\"field\":\"x\"},\"y\":{\"field\":\"y\"}},\"id\":\"12914\",\"type\":\"Circle\"},{\"attributes\":{\"fill_alpha\":{\"value\":0.1},\"fill_color\":{\"value\":\"#1f77b4\"},\"line_alpha\":{\"value\":0.1},\"line_color\":{\"value\":\"#1f77b4\"},\"size\":{\"units\":\"screen\",\"value\":6},\"x\":{\"field\":\"x\"},\"y\":{\"field\":\"y\"}},\"id\":\"12915\",\"type\":\"Circle\"},{\"attributes\":{},\"id\":\"13719\",\"type\":\"BasicTickFormatter\"},{\"attributes\":{},\"id\":\"13721\",\"type\":\"DatetimeTickFormatter\"},{\"attributes\":{\"data_source\":{\"id\":\"12913\",\"type\":\"ColumnDataSource\"},\"glyph\":{\"id\":\"12914\",\"type\":\"Circle\"},\"hover_glyph\":null,\"muted_glyph\":null,\"nonselection_glyph\":{\"id\":\"12915\",\"type\":\"Circle\"},\"selection_glyph\":null,\"view\":{\"id\":\"12917\",\"type\":\"CDSView\"}},\"id\":\"12916\",\"type\":\"GlyphRenderer\"},{\"attributes\":{},\"id\":\"13723\",\"type\":\"BasicTickFormatter\"},{\"attributes\":{\"source\":{\"id\":\"12913\",\"type\":\"ColumnDataSource\"}},\"id\":\"12917\",\"type\":\"CDSView\"},{\"attributes\":{},\"id\":\"13725\",\"type\":\"DatetimeTickFormatter\"},{\"attributes\":{\"bottom_units\":\"screen\",\"fill_alpha\":{\"value\":0.5},\"fill_color\":{\"value\":\"lightgrey\"},\"left_units\":\"screen\",\"level\":\"overlay\",\"line_alpha\":{\"value\":1.0},\"line_color\":{\"value\":\"black\"},\"line_dash\":[4,4],\"line_width\":{\"value\":2},\"render_mode\":\"css\",\"right_units\":\"screen\",\"top_units\":\"screen\"},\"id\":\"13726\",\"type\":\"BoxAnnotation\"},{\"attributes\":{\"below\":[{\"id\":\"12929\",\"type\":\"DatetimeAxis\"}],\"center\":[{\"id\":\"12933\",\"type\":\"Grid\"},{\"id\":\"12938\",\"type\":\"Grid\"}],\"left\":[{\"id\":\"12934\",\"type\":\"LinearAxis\"}],\"plot_height\":220,\"plot_width\":400,\"renderers\":[{\"id\":\"12955\",\"type\":\"GlyphRenderer\"},{\"id\":\"12960\",\"type\":\"GlyphRenderer\"}],\"title\":{\"id\":\"12919\",\"type\":\"Title\"},\"toolbar\":{\"id\":\"12945\",\"type\":\"Toolbar\"},\"x_range\":{\"id\":\"12921\",\"type\":\"Range1d\"},\"x_scale\":{\"id\":\"12925\",\"type\":\"LinearScale\"},\"y_range\":{\"id\":\"12923\",\"type\":\"Range1d\"},\"y_scale\":{\"id\":\"12927\",\"type\":\"LinearScale\"}},\"id\":\"12918\",\"subtype\":\"Figure\",\"type\":\"Plot\"},{\"attributes\":{\"mantissas\":[1,2,5],\"max_interval\":500.0,\"num_minor_ticks\":0},\"id\":\"13727\",\"type\":\"AdaptiveTicker\"},{\"attributes\":{\"text\":\"ts3\"},\"id\":\"12919\",\"type\":\"Title\"},{\"attributes\":{\"base\":60,\"mantissas\":[1,2,5,10,15,20,30],\"max_interval\":1800000.0,\"min_interval\":1000.0,\"num_minor_ticks\":0},\"id\":\"13728\",\"type\":\"AdaptiveTicker\"},{\"attributes\":{\"callback\":null,\"end\":1546302000000,\"start\":1546300620000},\"id\":\"12921\",\"type\":\"Range1d\"},{\"attributes\":{\"base\":24,\"mantissas\":[1,2,4,6,8,12],\"max_interval\":43200000.0,\"min_interval\":3600000.0,\"num_minor_ticks\":0},\"id\":\"13729\",\"type\":\"AdaptiveTicker\"},{\"attributes\":{\"callback\":null,\"end\":30,\"start\":-5},\"id\":\"12923\",\"type\":\"Range1d\"},{\"attributes\":{\"days\":[1,2,3,4,5,6,7,8,9,10,11,12,13,14,15,16,17,18,19,20,21,22,23,24,25,26,27,28,29,30,31]},\"id\":\"13730\",\"type\":\"DaysTicker\"},{\"attributes\":{},\"id\":\"12925\",\"type\":\"LinearScale\"},{\"attributes\":{},\"id\":\"12927\",\"type\":\"LinearScale\"},{\"attributes\":{\"days\":[1,4,7,10,13,16,19,22,25,28]},\"id\":\"13731\",\"type\":\"DaysTicker\"},{\"attributes\":{\"axis_label\":\"timestamp\",\"formatter\":{\"id\":\"13725\",\"type\":\"DatetimeTickFormatter\"},\"ticker\":{\"id\":\"12930\",\"type\":\"DatetimeTicker\"}},\"id\":\"12929\",\"type\":\"DatetimeAxis\"},{\"attributes\":{\"days\":[1,8,15,22]},\"id\":\"13732\",\"type\":\"DaysTicker\"},{\"attributes\":{\"num_minor_ticks\":5,\"tickers\":[{\"id\":\"13761\",\"type\":\"AdaptiveTicker\"},{\"id\":\"13762\",\"type\":\"AdaptiveTicker\"},{\"id\":\"13763\",\"type\":\"AdaptiveTicker\"},{\"id\":\"13764\",\"type\":\"DaysTicker\"},{\"id\":\"13765\",\"type\":\"DaysTicker\"},{\"id\":\"13766\",\"type\":\"DaysTicker\"},{\"id\":\"13767\",\"type\":\"DaysTicker\"},{\"id\":\"13768\",\"type\":\"MonthsTicker\"},{\"id\":\"13769\",\"type\":\"MonthsTicker\"},{\"id\":\"13770\",\"type\":\"MonthsTicker\"},{\"id\":\"13771\",\"type\":\"MonthsTicker\"},{\"id\":\"13772\",\"type\":\"YearsTicker\"}]},\"id\":\"12930\",\"type\":\"DatetimeTicker\"},{\"attributes\":{\"days\":[1,15]},\"id\":\"13733\",\"type\":\"DaysTicker\"},{\"attributes\":{\"months\":[0,1,2,3,4,5,6,7,8,9,10,11]},\"id\":\"13734\",\"type\":\"MonthsTicker\"},{\"attributes\":{\"ticker\":{\"id\":\"12930\",\"type\":\"DatetimeTicker\"}},\"id\":\"12933\",\"type\":\"Grid\"},{\"attributes\":{\"axis_label\":\"IoT sensor\",\"formatter\":{\"id\":\"13723\",\"type\":\"BasicTickFormatter\"},\"ticker\":{\"id\":\"12935\",\"type\":\"BasicTicker\"}},\"id\":\"12934\",\"type\":\"LinearAxis\"},{\"attributes\":{\"months\":[0,6]},\"id\":\"13737\",\"type\":\"MonthsTicker\"},{\"attributes\":{\"months\":[0,2,4,6,8,10]},\"id\":\"13735\",\"type\":\"MonthsTicker\"},{\"attributes\":{},\"id\":\"12852\",\"type\":\"WheelZoomTool\"},{\"attributes\":{},\"id\":\"12935\",\"type\":\"BasicTicker\"},{\"attributes\":{\"months\":[0,4,8]},\"id\":\"13736\",\"type\":\"MonthsTicker\"},{\"attributes\":{\"dimension\":1,\"ticker\":{\"id\":\"12935\",\"type\":\"BasicTicker\"}},\"id\":\"12938\",\"type\":\"Grid\"},{\"attributes\":{},\"id\":\"12851\",\"type\":\"PanTool\"},{\"attributes\":{},\"id\":\"13738\",\"type\":\"YearsTicker\"},{\"attributes\":{\"dimension\":1,\"ticker\":{\"id\":\"12847\",\"type\":\"BasicTicker\"}},\"id\":\"12850\",\"type\":\"Grid\"},{\"attributes\":{\"line_alpha\":{\"value\":0.1},\"line_color\":{\"value\":\"#1f77b4\"},\"line_dash\":[4,4],\"line_width\":{\"value\":2},\"mode\":\"after\",\"x\":{\"field\":\"x\"},\"y\":{\"field\":\"y\"}},\"id\":\"12954\",\"type\":\"Step\"},{\"attributes\":{\"line_color\":{\"value\":\"#1f77b4\"},\"line_dash\":[4,4],\"line_width\":{\"value\":2},\"mode\":\"after\",\"x\":{\"field\":\"x\"},\"y\":{\"field\":\"y\"}},\"id\":\"12953\",\"type\":\"Step\"},{\"attributes\":{},\"id\":\"13739\",\"type\":\"UnionRenderers\"},{\"attributes\":{\"below\":[{\"id\":\"12841\",\"type\":\"DatetimeAxis\"}],\"center\":[{\"id\":\"12845\",\"type\":\"Grid\"},{\"id\":\"12850\",\"type\":\"Grid\"}],\"left\":[{\"id\":\"12846\",\"type\":\"LinearAxis\"}],\"plot_height\":220,\"plot_width\":400,\"renderers\":[{\"id\":\"12867\",\"type\":\"GlyphRenderer\"},{\"id\":\"12872\",\"type\":\"GlyphRenderer\"}],\"title\":{\"id\":\"12831\",\"type\":\"Title\"},\"toolbar\":{\"id\":\"12857\",\"type\":\"Toolbar\"},\"x_range\":{\"id\":\"12833\",\"type\":\"Range1d\"},\"x_scale\":{\"id\":\"12837\",\"type\":\"LinearScale\"},\"y_range\":{\"id\":\"12835\",\"type\":\"Range1d\"},\"y_scale\":{\"id\":\"12839\",\"type\":\"LinearScale\"}},\"id\":\"12830\",\"subtype\":\"Figure\",\"type\":\"Plot\"},{\"attributes\":{\"callback\":null,\"data\":{\"x\":[1546300800000.0,1546301220000.0,1546301400000.0,1546301520000.0,1546301700000.0,1546301820000.0],\"y\":[0,-1,5,14,10,1]},\"selected\":{\"id\":\"13774\",\"type\":\"Selection\"},\"selection_policy\":{\"id\":\"13773\",\"type\":\"UnionRenderers\"}},\"id\":\"12952\",\"type\":\"ColumnDataSource\"},{\"attributes\":{\"active_drag\":\"auto\",\"active_inspect\":\"auto\",\"active_multi\":null,\"active_scroll\":\"auto\",\"active_tap\":\"auto\",\"tools\":[{\"id\":\"12939\",\"type\":\"PanTool\"},{\"id\":\"12940\",\"type\":\"WheelZoomTool\"},{\"id\":\"12941\",\"type\":\"BoxZoomTool\"},{\"id\":\"12942\",\"type\":\"SaveTool\"},{\"id\":\"12943\",\"type\":\"ResetTool\"},{\"id\":\"12944\",\"type\":\"HelpTool\"}]},\"id\":\"12945\",\"type\":\"Toolbar\"},{\"attributes\":{},\"id\":\"13740\",\"type\":\"Selection\"},{\"attributes\":{\"ticker\":{\"id\":\"12842\",\"type\":\"DatetimeTicker\"}},\"id\":\"12845\",\"type\":\"Grid\"},{\"attributes\":{},\"id\":\"12939\",\"type\":\"PanTool\"},{\"attributes\":{},\"id\":\"13741\",\"type\":\"UnionRenderers\"},{\"attributes\":{\"num_minor_ticks\":5,\"tickers\":[{\"id\":\"13727\",\"type\":\"AdaptiveTicker\"},{\"id\":\"13728\",\"type\":\"AdaptiveTicker\"},{\"id\":\"13729\",\"type\":\"AdaptiveTicker\"},{\"id\":\"13730\",\"type\":\"DaysTicker\"},{\"id\":\"13731\",\"type\":\"DaysTicker\"},{\"id\":\"13732\",\"type\":\"DaysTicker\"},{\"id\":\"13733\",\"type\":\"DaysTicker\"},{\"id\":\"13734\",\"type\":\"MonthsTicker\"},{\"id\":\"13735\",\"type\":\"MonthsTicker\"},{\"id\":\"13736\",\"type\":\"MonthsTicker\"},{\"id\":\"13737\",\"type\":\"MonthsTicker\"},{\"id\":\"13738\",\"type\":\"YearsTicker\"}]},\"id\":\"12842\",\"type\":\"DatetimeTicker\"},{\"attributes\":{},\"id\":\"12940\",\"type\":\"WheelZoomTool\"},{\"attributes\":{},\"id\":\"13742\",\"type\":\"Selection\"},{\"attributes\":{\"text\":\"ts1\"},\"id\":\"12831\",\"type\":\"Title\"},{\"attributes\":{\"overlay\":{\"id\":\"13760\",\"type\":\"BoxAnnotation\"}},\"id\":\"12941\",\"type\":\"BoxZoomTool\"},{\"attributes\":{\"bottom_units\":\"screen\",\"fill_alpha\":{\"value\":0.5},\"fill_color\":{\"value\":\"lightgrey\"},\"left_units\":\"screen\",\"level\":\"overlay\",\"line_alpha\":{\"value\":1.0},\"line_color\":{\"value\":\"black\"},\"line_dash\":[4,4],\"line_width\":{\"value\":2},\"render_mode\":\"css\",\"right_units\":\"screen\",\"top_units\":\"screen\"},\"id\":\"13743\",\"type\":\"BoxAnnotation\"},{\"attributes\":{},\"id\":\"12942\",\"type\":\"SaveTool\"},{\"attributes\":{\"mantissas\":[1,2,5],\"max_interval\":500.0,\"num_minor_ticks\":0},\"id\":\"13744\",\"type\":\"AdaptiveTicker\"},{\"attributes\":{\"callback\":null,\"end\":30,\"start\":-5},\"id\":\"12835\",\"type\":\"Range1d\"},{\"attributes\":{},\"id\":\"12837\",\"type\":\"LinearScale\"},{\"attributes\":{},\"id\":\"12943\",\"type\":\"ResetTool\"},{\"attributes\":{\"axis_label\":\"timestamp\",\"formatter\":{\"id\":\"13717\",\"type\":\"DatetimeTickFormatter\"},\"ticker\":{\"id\":\"12842\",\"type\":\"DatetimeTicker\"}},\"id\":\"12841\",\"type\":\"DatetimeAxis\"},{\"attributes\":{\"base\":60,\"mantissas\":[1,2,5,10,15,20,30],\"max_interval\":1800000.0,\"min_interval\":1000.0,\"num_minor_ticks\":0},\"id\":\"13745\",\"type\":\"AdaptiveTicker\"},{\"attributes\":{},\"id\":\"12944\",\"type\":\"HelpTool\"},{\"attributes\":{\"callback\":null,\"end\":1546302000000,\"start\":1546300620000},\"id\":\"12833\",\"type\":\"Range1d\"},{\"attributes\":{\"base\":24,\"mantissas\":[1,2,4,6,8,12],\"max_interval\":43200000.0,\"min_interval\":3600000.0,\"num_minor_ticks\":0},\"id\":\"13746\",\"type\":\"AdaptiveTicker\"},{\"attributes\":{\"days\":[1,2,3,4,5,6,7,8,9,10,11,12,13,14,15,16,17,18,19,20,21,22,23,24,25,26,27,28,29,30,31]},\"id\":\"13747\",\"type\":\"DaysTicker\"},{\"attributes\":{},\"id\":\"12839\",\"type\":\"LinearScale\"},{\"attributes\":{\"data_source\":{\"id\":\"12952\",\"type\":\"ColumnDataSource\"},\"glyph\":{\"id\":\"12953\",\"type\":\"Step\"},\"hover_glyph\":null,\"muted_glyph\":null,\"nonselection_glyph\":{\"id\":\"12954\",\"type\":\"Step\"},\"selection_glyph\":null,\"view\":{\"id\":\"12956\",\"type\":\"CDSView\"}},\"id\":\"12955\",\"type\":\"GlyphRenderer\"},{\"attributes\":{\"months\":[0,4,8]},\"id\":\"13753\",\"type\":\"MonthsTicker\"},{\"attributes\":{\"source\":{\"id\":\"12952\",\"type\":\"ColumnDataSource\"}},\"id\":\"12956\",\"type\":\"CDSView\"},{\"attributes\":{\"days\":[1,8,15,22]},\"id\":\"13749\",\"type\":\"DaysTicker\"},{\"attributes\":{},\"id\":\"12847\",\"type\":\"BasicTicker\"},{\"attributes\":{\"callback\":null,\"data\":{\"x\":[1546300800000.0,1546301220000.0,1546301400000.0,1546301520000.0,1546301700000.0,1546301820000.0],\"y\":[0,-1,5,14,10,1]},\"selected\":{\"id\":\"13776\",\"type\":\"Selection\"},\"selection_policy\":{\"id\":\"13775\",\"type\":\"UnionRenderers\"}},\"id\":\"12957\",\"type\":\"ColumnDataSource\"},{\"attributes\":{\"days\":[1,4,7,10,13,16,19,22,25,28]},\"id\":\"13748\",\"type\":\"DaysTicker\"},{\"attributes\":{\"axis_label\":\"IoT sensor\",\"formatter\":{\"id\":\"13715\",\"type\":\"BasicTickFormatter\"},\"ticker\":{\"id\":\"12847\",\"type\":\"BasicTicker\"}},\"id\":\"12846\",\"type\":\"LinearAxis\"},{\"attributes\":{\"callback\":null,\"data\":{\"x\":[1546300800000.0,1546301400000.0,1546301700000.0,1546301820000.0],\"y\":[10,20,10,1]},\"selected\":{\"id\":\"13740\",\"type\":\"Selection\"},\"selection_policy\":{\"id\":\"13739\",\"type\":\"UnionRenderers\"}},\"id\":\"12864\",\"type\":\"ColumnDataSource\"},{\"attributes\":{\"fill_alpha\":{\"value\":0.1},\"fill_color\":{\"value\":\"#1f77b4\"},\"line_alpha\":{\"value\":0.1},\"line_color\":{\"value\":\"#1f77b4\"},\"size\":{\"units\":\"screen\",\"value\":6},\"x\":{\"field\":\"x\"},\"y\":{\"field\":\"y\"}},\"id\":\"12959\",\"type\":\"Circle\"},{\"attributes\":{\"days\":[1,15]},\"id\":\"13750\",\"type\":\"DaysTicker\"},{\"attributes\":{\"data_source\":{\"id\":\"12957\",\"type\":\"ColumnDataSource\"},\"glyph\":{\"id\":\"12958\",\"type\":\"Circle\"},\"hover_glyph\":null,\"muted_glyph\":null,\"nonselection_glyph\":{\"id\":\"12959\",\"type\":\"Circle\"},\"selection_glyph\":null,\"view\":{\"id\":\"12961\",\"type\":\"CDSView\"}},\"id\":\"12960\",\"type\":\"GlyphRenderer\"},{\"attributes\":{\"months\":[0,1,2,3,4,5,6,7,8,9,10,11]},\"id\":\"13751\",\"type\":\"MonthsTicker\"},{\"attributes\":{\"line_alpha\":{\"value\":0.1},\"line_color\":{\"value\":\"#1f77b4\"},\"line_dash\":[4,4],\"line_width\":{\"value\":2},\"mode\":\"after\",\"x\":{\"field\":\"x\"},\"y\":{\"field\":\"y\"}},\"id\":\"12866\",\"type\":\"Step\"},{\"attributes\":{\"source\":{\"id\":\"12957\",\"type\":\"ColumnDataSource\"}},\"id\":\"12961\",\"type\":\"CDSView\"},{\"attributes\":{\"line_color\":{\"value\":\"#1f77b4\"},\"line_dash\":[4,4],\"line_width\":{\"value\":2},\"mode\":\"after\",\"x\":{\"field\":\"x\"},\"y\":{\"field\":\"y\"}},\"id\":\"12865\",\"type\":\"Step\"},{\"attributes\":{\"months\":[0,2,4,6,8,10]},\"id\":\"13752\",\"type\":\"MonthsTicker\"},{\"attributes\":{\"months\":[0,6]},\"id\":\"13754\",\"type\":\"MonthsTicker\"},{\"attributes\":{},\"id\":\"12854\",\"type\":\"SaveTool\"},{\"attributes\":{},\"id\":\"13755\",\"type\":\"YearsTicker\"},{\"attributes\":{},\"id\":\"12856\",\"type\":\"HelpTool\"},{\"attributes\":{},\"id\":\"13756\",\"type\":\"UnionRenderers\"},{\"attributes\":{},\"id\":\"12855\",\"type\":\"ResetTool\"},{\"attributes\":{},\"id\":\"13757\",\"type\":\"Selection\"},{\"attributes\":{},\"id\":\"13715\",\"type\":\"BasicTickFormatter\"},{\"attributes\":{},\"id\":\"13758\",\"type\":\"UnionRenderers\"},{\"attributes\":{},\"id\":\"12881\",\"type\":\"LinearScale\"},{\"attributes\":{},\"id\":\"13759\",\"type\":\"Selection\"},{\"attributes\":{\"callback\":null,\"end\":1546302000000,\"start\":1546300620000},\"id\":\"12877\",\"type\":\"Range1d\"},{\"attributes\":{\"bottom_units\":\"screen\",\"fill_alpha\":{\"value\":0.5},\"fill_color\":{\"value\":\"lightgrey\"},\"left_units\":\"screen\",\"level\":\"overlay\",\"line_alpha\":{\"value\":1.0},\"line_color\":{\"value\":\"black\"},\"line_dash\":[4,4],\"line_width\":{\"value\":2},\"render_mode\":\"css\",\"right_units\":\"screen\",\"top_units\":\"screen\"},\"id\":\"13760\",\"type\":\"BoxAnnotation\"},{\"attributes\":{\"callback\":null,\"end\":30,\"start\":-5},\"id\":\"12879\",\"type\":\"Range1d\"},{\"attributes\":{\"mantissas\":[1,2,5],\"max_interval\":500.0,\"num_minor_ticks\":0},\"id\":\"13761\",\"type\":\"AdaptiveTicker\"},{\"attributes\":{\"text\":\"ts2\"},\"id\":\"12875\",\"type\":\"Title\"},{\"attributes\":{\"base\":60,\"mantissas\":[1,2,5,10,15,20,30],\"max_interval\":1800000.0,\"min_interval\":1000.0,\"num_minor_ticks\":0},\"id\":\"13762\",\"type\":\"AdaptiveTicker\"},{\"attributes\":{\"overlay\":{\"id\":\"13726\",\"type\":\"BoxAnnotation\"}},\"id\":\"12853\",\"type\":\"BoxZoomTool\"},{\"attributes\":{\"below\":[{\"id\":\"12885\",\"type\":\"DatetimeAxis\"}],\"center\":[{\"id\":\"12889\",\"type\":\"Grid\"},{\"id\":\"12894\",\"type\":\"Grid\"}],\"left\":[{\"id\":\"12890\",\"type\":\"LinearAxis\"}],\"plot_height\":220,\"plot_width\":400,\"renderers\":[{\"id\":\"12911\",\"type\":\"GlyphRenderer\"},{\"id\":\"12916\",\"type\":\"GlyphRenderer\"}],\"title\":{\"id\":\"12875\",\"type\":\"Title\"},\"toolbar\":{\"id\":\"12901\",\"type\":\"Toolbar\"},\"x_range\":{\"id\":\"12877\",\"type\":\"Range1d\"},\"x_scale\":{\"id\":\"12881\",\"type\":\"LinearScale\"},\"y_range\":{\"id\":\"12879\",\"type\":\"Range1d\"},\"y_scale\":{\"id\":\"12883\",\"type\":\"LinearScale\"}},\"id\":\"12874\",\"subtype\":\"Figure\",\"type\":\"Plot\"},{\"attributes\":{\"base\":24,\"mantissas\":[1,2,4,6,8,12],\"max_interval\":43200000.0,\"min_interval\":3600000.0,\"num_minor_ticks\":0},\"id\":\"13763\",\"type\":\"AdaptiveTicker\"},{\"attributes\":{\"days\":[1,2,3,4,5,6,7,8,9,10,11,12,13,14,15,16,17,18,19,20,21,22,23,24,25,26,27,28,29,30,31]},\"id\":\"13764\",\"type\":\"DaysTicker\"},{\"attributes\":{\"source\":{\"id\":\"12869\",\"type\":\"ColumnDataSource\"}},\"id\":\"12873\",\"type\":\"CDSView\"},{\"attributes\":{\"days\":[1,4,7,10,13,16,19,22,25,28]},\"id\":\"13765\",\"type\":\"DaysTicker\"},{\"attributes\":{\"data_source\":{\"id\":\"12869\",\"type\":\"ColumnDataSource\"},\"glyph\":{\"id\":\"12870\",\"type\":\"Circle\"},\"hover_glyph\":null,\"muted_glyph\":null,\"nonselection_glyph\":{\"id\":\"12871\",\"type\":\"Circle\"},\"selection_glyph\":null,\"view\":{\"id\":\"12873\",\"type\":\"CDSView\"}},\"id\":\"12872\",\"type\":\"GlyphRenderer\"},{\"attributes\":{\"days\":[1,8,15,22]},\"id\":\"13766\",\"type\":\"DaysTicker\"},{\"attributes\":{\"fill_alpha\":{\"value\":0.1},\"fill_color\":{\"value\":\"#1f77b4\"},\"line_alpha\":{\"value\":0.1},\"line_color\":{\"value\":\"#1f77b4\"},\"size\":{\"units\":\"screen\",\"value\":6},\"x\":{\"field\":\"x\"},\"y\":{\"field\":\"y\"}},\"id\":\"12871\",\"type\":\"Circle\"},{\"attributes\":{\"days\":[1,15]},\"id\":\"13767\",\"type\":\"DaysTicker\"},{\"attributes\":{\"fill_color\":{\"value\":\"red\"},\"line_color\":{\"value\":\"#1f77b4\"},\"size\":{\"units\":\"screen\",\"value\":6},\"x\":{\"field\":\"x\"},\"y\":{\"field\":\"y\"}},\"id\":\"12870\",\"type\":\"Circle\"},{\"attributes\":{\"months\":[0,1,2,3,4,5,6,7,8,9,10,11]},\"id\":\"13768\",\"type\":\"MonthsTicker\"},{\"attributes\":{\"callback\":null,\"data\":{\"x\":[1546300800000.0,1546301400000.0,1546301700000.0,1546301820000.0],\"y\":[10,20,10,1]},\"selected\":{\"id\":\"13742\",\"type\":\"Selection\"},\"selection_policy\":{\"id\":\"13741\",\"type\":\"UnionRenderers\"}},\"id\":\"12869\",\"type\":\"ColumnDataSource\"},{\"attributes\":{\"months\":[0,2,4,6,8,10]},\"id\":\"13769\",\"type\":\"MonthsTicker\"},{\"attributes\":{\"source\":{\"id\":\"12864\",\"type\":\"ColumnDataSource\"}},\"id\":\"12868\",\"type\":\"CDSView\"},{\"attributes\":{\"data_source\":{\"id\":\"12864\",\"type\":\"ColumnDataSource\"},\"glyph\":{\"id\":\"12865\",\"type\":\"Step\"},\"hover_glyph\":null,\"muted_glyph\":null,\"nonselection_glyph\":{\"id\":\"12866\",\"type\":\"Step\"},\"selection_glyph\":null,\"view\":{\"id\":\"12868\",\"type\":\"CDSView\"}},\"id\":\"12867\",\"type\":\"GlyphRenderer\"},{\"attributes\":{\"months\":[0,4,8]},\"id\":\"13770\",\"type\":\"MonthsTicker\"},{\"attributes\":{\"active_drag\":\"auto\",\"active_inspect\":\"auto\",\"active_multi\":null,\"active_scroll\":\"auto\",\"active_tap\":\"auto\",\"tools\":[{\"id\":\"12851\",\"type\":\"PanTool\"},{\"id\":\"12852\",\"type\":\"WheelZoomTool\"},{\"id\":\"12853\",\"type\":\"BoxZoomTool\"},{\"id\":\"12854\",\"type\":\"SaveTool\"},{\"id\":\"12855\",\"type\":\"ResetTool\"},{\"id\":\"12856\",\"type\":\"HelpTool\"}]},\"id\":\"12857\",\"type\":\"Toolbar\"},{\"attributes\":{\"months\":[0,6]},\"id\":\"13771\",\"type\":\"MonthsTicker\"},{\"attributes\":{},\"id\":\"13772\",\"type\":\"YearsTicker\"},{\"attributes\":{\"axis_label\":\"timestamp\",\"formatter\":{\"id\":\"13721\",\"type\":\"DatetimeTickFormatter\"},\"ticker\":{\"id\":\"12886\",\"type\":\"DatetimeTicker\"}},\"id\":\"12885\",\"type\":\"DatetimeAxis\"},{\"attributes\":{},\"id\":\"13773\",\"type\":\"UnionRenderers\"},{\"attributes\":{},\"id\":\"12883\",\"type\":\"LinearScale\"},{\"attributes\":{},\"id\":\"13774\",\"type\":\"Selection\"},{\"attributes\":{\"ticker\":{\"id\":\"12886\",\"type\":\"DatetimeTicker\"}},\"id\":\"12889\",\"type\":\"Grid\"},{\"attributes\":{},\"id\":\"13775\",\"type\":\"UnionRenderers\"},{\"attributes\":{\"num_minor_ticks\":5,\"tickers\":[{\"id\":\"13744\",\"type\":\"AdaptiveTicker\"},{\"id\":\"13745\",\"type\":\"AdaptiveTicker\"},{\"id\":\"13746\",\"type\":\"AdaptiveTicker\"},{\"id\":\"13747\",\"type\":\"DaysTicker\"},{\"id\":\"13748\",\"type\":\"DaysTicker\"},{\"id\":\"13749\",\"type\":\"DaysTicker\"},{\"id\":\"13750\",\"type\":\"DaysTicker\"},{\"id\":\"13751\",\"type\":\"MonthsTicker\"},{\"id\":\"13752\",\"type\":\"MonthsTicker\"},{\"id\":\"13753\",\"type\":\"MonthsTicker\"},{\"id\":\"13754\",\"type\":\"MonthsTicker\"},{\"id\":\"13755\",\"type\":\"YearsTicker\"}]},\"id\":\"12886\",\"type\":\"DatetimeTicker\"},{\"attributes\":{},\"id\":\"13776\",\"type\":\"Selection\"},{\"attributes\":{},\"id\":\"12891\",\"type\":\"BasicTicker\"},{\"attributes\":{\"axis_label\":\"IoT sensor\",\"formatter\":{\"id\":\"13719\",\"type\":\"BasicTickFormatter\"},\"ticker\":{\"id\":\"12891\",\"type\":\"BasicTicker\"}},\"id\":\"12890\",\"type\":\"LinearAxis\"},{\"attributes\":{\"dimension\":1,\"ticker\":{\"id\":\"12891\",\"type\":\"BasicTicker\"}},\"id\":\"12894\",\"type\":\"Grid\"},{\"attributes\":{\"line_alpha\":{\"value\":0.1},\"line_color\":{\"value\":\"#1f77b4\"},\"line_dash\":[4,4],\"line_width\":{\"value\":2},\"mode\":\"after\",\"x\":{\"field\":\"x\"},\"y\":{\"field\":\"y\"}},\"id\":\"12910\",\"type\":\"Step\"},{\"attributes\":{\"line_color\":{\"value\":\"#1f77b4\"},\"line_dash\":[4,4],\"line_width\":{\"value\":2},\"mode\":\"after\",\"x\":{\"field\":\"x\"},\"y\":{\"field\":\"y\"}},\"id\":\"12909\",\"type\":\"Step\"},{\"attributes\":{},\"id\":\"12895\",\"type\":\"PanTool\"},{\"attributes\":{\"active_drag\":\"auto\",\"active_inspect\":\"auto\",\"active_multi\":null,\"active_scroll\":\"auto\",\"active_tap\":\"auto\",\"tools\":[{\"id\":\"12895\",\"type\":\"PanTool\"},{\"id\":\"12896\",\"type\":\"WheelZoomTool\"},{\"id\":\"12897\",\"type\":\"BoxZoomTool\"},{\"id\":\"12898\",\"type\":\"SaveTool\"},{\"id\":\"12899\",\"type\":\"ResetTool\"},{\"id\":\"12900\",\"type\":\"HelpTool\"}]},\"id\":\"12901\",\"type\":\"Toolbar\"},{\"attributes\":{\"callback\":null,\"data\":{\"x\":[1546301220000.0,1546301400000.0,1546301520000.0],\"y\":[-1,5,14]},\"selected\":{\"id\":\"13757\",\"type\":\"Selection\"},\"selection_policy\":{\"id\":\"13756\",\"type\":\"UnionRenderers\"}},\"id\":\"12908\",\"type\":\"ColumnDataSource\"},{\"attributes\":{},\"id\":\"12896\",\"type\":\"WheelZoomTool\"},{\"attributes\":{\"overlay\":{\"id\":\"13743\",\"type\":\"BoxAnnotation\"}},\"id\":\"12897\",\"type\":\"BoxZoomTool\"},{\"attributes\":{},\"id\":\"12898\",\"type\":\"SaveTool\"},{\"attributes\":{},\"id\":\"12899\",\"type\":\"ResetTool\"},{\"attributes\":{},\"id\":\"12900\",\"type\":\"HelpTool\"}],\"root_ids\":[\"12962\"]},\"title\":\"Bokeh Application\",\"version\":\"1.2.0\"}};\n",
       "  var render_items = [{\"docid\":\"7dfe786a-826e-4072-94c7-8e7bde82e656\",\"roots\":{\"12962\":\"399bfe38-cb76-44db-89bb-63d02ae81929\"}}];\n",
       "  root.Bokeh.embed.embed_items_notebook(docs_json, render_items);\n",
       "\n",
       "  }\n",
       "  if (root.Bokeh !== undefined) {\n",
       "    embed_document(root);\n",
       "  } else {\n",
       "    var attempts = 0;\n",
       "    var timer = setInterval(function(root) {\n",
       "      if (root.Bokeh !== undefined) {\n",
       "        embed_document(root);\n",
       "        clearInterval(timer);\n",
       "      }\n",
       "      attempts++;\n",
       "      if (attempts > 100) {\n",
       "        console.log(\"Bokeh: ERROR: Unable to run BokehJS code because BokehJS library is missing\");\n",
       "        clearInterval(timer);\n",
       "      }\n",
       "    }, 10, root)\n",
       "  }\n",
       "})(window);"
      ],
      "application/vnd.bokehjs_exec.v0+json": ""
     },
     "metadata": {
      "application/vnd.bokehjs_exec.v0+json": {
       "id": "12962"
      }
     },
     "output_type": "display_data"
    }
   ],
   "source": [
    "# Floor (it applies a max on each key)\n",
    "plot_row(ts, ts.floor(10))\n",
    "plot_row(ts, ts2, ts.floor(ts2))"
   ]
  },
  {
   "cell_type": "code",
   "execution_count": 28,
   "metadata": {},
   "outputs": [
    {
     "data": {
      "text/html": [
       "\n",
       "\n",
       "\n",
       "\n",
       "\n",
       "\n",
       "  <div class=\"bk-root\" id=\"56e72da2-08b5-4f50-89c0-527afa5da16a\" data-root-id=\"14261\"></div>\n"
      ]
     },
     "metadata": {},
     "output_type": "display_data"
    },
    {
     "data": {
      "application/javascript": [
       "(function(root) {\n",
       "  function embed_document(root) {\n",
       "    \n",
       "  var docs_json = {\"3f276df3-8302-4765-b947-4150d0336fcd\":{\"roots\":{\"references\":[{\"attributes\":{\"children\":[{\"id\":\"14173\",\"subtype\":\"Figure\",\"type\":\"Plot\"},{\"id\":\"14217\",\"subtype\":\"Figure\",\"type\":\"Plot\"}]},\"id\":\"14261\",\"type\":\"Row\"},{\"attributes\":{\"ticker\":{\"id\":\"14185\",\"type\":\"DatetimeTicker\"}},\"id\":\"14188\",\"type\":\"Grid\"},{\"attributes\":{},\"id\":\"14238\",\"type\":\"PanTool\"},{\"attributes\":{\"bottom_units\":\"screen\",\"fill_alpha\":{\"value\":0.5},\"fill_color\":{\"value\":\"lightgrey\"},\"left_units\":\"screen\",\"level\":\"overlay\",\"line_alpha\":{\"value\":1.0},\"line_color\":{\"value\":\"black\"},\"line_dash\":[4,4],\"line_width\":{\"value\":2},\"render_mode\":\"css\",\"right_units\":\"screen\",\"top_units\":\"screen\"},\"id\":\"15103\",\"type\":\"BoxAnnotation\"},{\"attributes\":{\"axis_label\":\"IoT sensor\",\"formatter\":{\"id\":\"15079\",\"type\":\"BasicTickFormatter\"},\"ticker\":{\"id\":\"14190\",\"type\":\"BasicTicker\"}},\"id\":\"14189\",\"type\":\"LinearAxis\"},{\"attributes\":{},\"id\":\"14239\",\"type\":\"WheelZoomTool\"},{\"attributes\":{\"mantissas\":[1,2,5],\"max_interval\":500.0,\"num_minor_ticks\":0},\"id\":\"15104\",\"type\":\"AdaptiveTicker\"},{\"attributes\":{},\"id\":\"14190\",\"type\":\"BasicTicker\"},{\"attributes\":{\"overlay\":{\"id\":\"15103\",\"type\":\"BoxAnnotation\"}},\"id\":\"14240\",\"type\":\"BoxZoomTool\"},{\"attributes\":{\"dimension\":1,\"ticker\":{\"id\":\"14190\",\"type\":\"BasicTicker\"}},\"id\":\"14193\",\"type\":\"Grid\"},{\"attributes\":{},\"id\":\"14241\",\"type\":\"SaveTool\"},{\"attributes\":{\"base\":60,\"mantissas\":[1,2,5,10,15,20,30],\"max_interval\":1800000.0,\"min_interval\":1000.0,\"num_minor_ticks\":0},\"id\":\"15105\",\"type\":\"AdaptiveTicker\"},{\"attributes\":{},\"id\":\"14242\",\"type\":\"ResetTool\"},{\"attributes\":{\"base\":24,\"mantissas\":[1,2,4,6,8,12],\"max_interval\":43200000.0,\"min_interval\":3600000.0,\"num_minor_ticks\":0},\"id\":\"15106\",\"type\":\"AdaptiveTicker\"},{\"attributes\":{\"line_alpha\":{\"value\":0.1},\"line_color\":{\"value\":\"#1f77b4\"},\"line_dash\":[4,4],\"line_width\":{\"value\":2},\"mode\":\"after\",\"x\":{\"field\":\"x\"},\"y\":{\"field\":\"y\"}},\"id\":\"14209\",\"type\":\"Step\"},{\"attributes\":{\"line_color\":{\"value\":\"#1f77b4\"},\"line_dash\":[4,4],\"line_width\":{\"value\":2},\"mode\":\"after\",\"x\":{\"field\":\"x\"},\"y\":{\"field\":\"y\"}},\"id\":\"14208\",\"type\":\"Step\"},{\"attributes\":{},\"id\":\"14243\",\"type\":\"HelpTool\"},{\"attributes\":{\"days\":[1,2,3,4,5,6,7,8,9,10,11,12,13,14,15,16,17,18,19,20,21,22,23,24,25,26,27,28,29,30,31]},\"id\":\"15107\",\"type\":\"DaysTicker\"},{\"attributes\":{\"active_drag\":\"auto\",\"active_inspect\":\"auto\",\"active_multi\":null,\"active_scroll\":\"auto\",\"active_tap\":\"auto\",\"tools\":[{\"id\":\"14194\",\"type\":\"PanTool\"},{\"id\":\"14195\",\"type\":\"WheelZoomTool\"},{\"id\":\"14196\",\"type\":\"BoxZoomTool\"},{\"id\":\"14197\",\"type\":\"SaveTool\"},{\"id\":\"14198\",\"type\":\"ResetTool\"},{\"id\":\"14199\",\"type\":\"HelpTool\"}]},\"id\":\"14200\",\"type\":\"Toolbar\"},{\"attributes\":{\"days\":[1,4,7,10,13,16,19,22,25,28]},\"id\":\"15108\",\"type\":\"DaysTicker\"},{\"attributes\":{\"active_drag\":\"auto\",\"active_inspect\":\"auto\",\"active_multi\":null,\"active_scroll\":\"auto\",\"active_tap\":\"auto\",\"tools\":[{\"id\":\"14238\",\"type\":\"PanTool\"},{\"id\":\"14239\",\"type\":\"WheelZoomTool\"},{\"id\":\"14240\",\"type\":\"BoxZoomTool\"},{\"id\":\"14241\",\"type\":\"SaveTool\"},{\"id\":\"14242\",\"type\":\"ResetTool\"},{\"id\":\"14243\",\"type\":\"HelpTool\"}]},\"id\":\"14244\",\"type\":\"Toolbar\"},{\"attributes\":{},\"id\":\"14194\",\"type\":\"PanTool\"},{\"attributes\":{\"days\":[1,8,15,22]},\"id\":\"15109\",\"type\":\"DaysTicker\"},{\"attributes\":{\"data_source\":{\"id\":\"14251\",\"type\":\"ColumnDataSource\"},\"glyph\":{\"id\":\"14252\",\"type\":\"Step\"},\"hover_glyph\":null,\"muted_glyph\":null,\"nonselection_glyph\":{\"id\":\"14253\",\"type\":\"Step\"},\"selection_glyph\":null,\"view\":{\"id\":\"14255\",\"type\":\"CDSView\"}},\"id\":\"14254\",\"type\":\"GlyphRenderer\"},{\"attributes\":{},\"id\":\"14195\",\"type\":\"WheelZoomTool\"},{\"attributes\":{\"source\":{\"id\":\"14251\",\"type\":\"ColumnDataSource\"}},\"id\":\"14255\",\"type\":\"CDSView\"},{\"attributes\":{\"days\":[1,15]},\"id\":\"15110\",\"type\":\"DaysTicker\"},{\"attributes\":{\"overlay\":{\"id\":\"15086\",\"type\":\"BoxAnnotation\"}},\"id\":\"14196\",\"type\":\"BoxZoomTool\"},{\"attributes\":{\"callback\":null,\"data\":{\"x\":[1546300800000.0,1546301400000.0,1546301700000.0,1546301820000.0],\"y\":[10,20,10,10]},\"selected\":{\"id\":\"15119\",\"type\":\"Selection\"},\"selection_policy\":{\"id\":\"15118\",\"type\":\"UnionRenderers\"}},\"id\":\"14256\",\"type\":\"ColumnDataSource\"},{\"attributes\":{\"months\":[0,1,2,3,4,5,6,7,8,9,10,11]},\"id\":\"15111\",\"type\":\"MonthsTicker\"},{\"attributes\":{},\"id\":\"14197\",\"type\":\"SaveTool\"},{\"attributes\":{\"fill_color\":{\"value\":\"red\"},\"line_color\":{\"value\":\"#1f77b4\"},\"size\":{\"units\":\"screen\",\"value\":6},\"x\":{\"field\":\"x\"},\"y\":{\"field\":\"y\"}},\"id\":\"14257\",\"type\":\"Circle\"},{\"attributes\":{\"months\":[0,2,4,6,8,10]},\"id\":\"15112\",\"type\":\"MonthsTicker\"},{\"attributes\":{},\"id\":\"14198\",\"type\":\"ResetTool\"},{\"attributes\":{\"fill_alpha\":{\"value\":0.1},\"fill_color\":{\"value\":\"#1f77b4\"},\"line_alpha\":{\"value\":0.1},\"line_color\":{\"value\":\"#1f77b4\"},\"size\":{\"units\":\"screen\",\"value\":6},\"x\":{\"field\":\"x\"},\"y\":{\"field\":\"y\"}},\"id\":\"14258\",\"type\":\"Circle\"},{\"attributes\":{\"months\":[0,4,8]},\"id\":\"15113\",\"type\":\"MonthsTicker\"},{\"attributes\":{},\"id\":\"14199\",\"type\":\"HelpTool\"},{\"attributes\":{\"data_source\":{\"id\":\"14256\",\"type\":\"ColumnDataSource\"},\"glyph\":{\"id\":\"14257\",\"type\":\"Circle\"},\"hover_glyph\":null,\"muted_glyph\":null,\"nonselection_glyph\":{\"id\":\"14258\",\"type\":\"Circle\"},\"selection_glyph\":null,\"view\":{\"id\":\"14260\",\"type\":\"CDSView\"}},\"id\":\"14259\",\"type\":\"GlyphRenderer\"},{\"attributes\":{\"months\":[0,6]},\"id\":\"15114\",\"type\":\"MonthsTicker\"},{\"attributes\":{\"source\":{\"id\":\"14256\",\"type\":\"ColumnDataSource\"}},\"id\":\"14260\",\"type\":\"CDSView\"},{\"attributes\":{},\"id\":\"15115\",\"type\":\"YearsTicker\"},{\"attributes\":{\"data_source\":{\"id\":\"14207\",\"type\":\"ColumnDataSource\"},\"glyph\":{\"id\":\"14208\",\"type\":\"Step\"},\"hover_glyph\":null,\"muted_glyph\":null,\"nonselection_glyph\":{\"id\":\"14209\",\"type\":\"Step\"},\"selection_glyph\":null,\"view\":{\"id\":\"14211\",\"type\":\"CDSView\"}},\"id\":\"14210\",\"type\":\"GlyphRenderer\"},{\"attributes\":{},\"id\":\"15116\",\"type\":\"UnionRenderers\"},{\"attributes\":{\"source\":{\"id\":\"14207\",\"type\":\"ColumnDataSource\"}},\"id\":\"14211\",\"type\":\"CDSView\"},{\"attributes\":{},\"id\":\"15079\",\"type\":\"BasicTickFormatter\"},{\"attributes\":{},\"id\":\"15117\",\"type\":\"Selection\"},{\"attributes\":{\"callback\":null,\"data\":{\"x\":[1546300800000.0,1546301400000.0,1546301700000.0,1546301820000.0],\"y\":[10,20,10,1]},\"selected\":{\"id\":\"15102\",\"type\":\"Selection\"},\"selection_policy\":{\"id\":\"15101\",\"type\":\"UnionRenderers\"}},\"id\":\"14212\",\"type\":\"ColumnDataSource\"},{\"attributes\":{},\"id\":\"15118\",\"type\":\"UnionRenderers\"},{\"attributes\":{},\"id\":\"15081\",\"type\":\"DatetimeTickFormatter\"},{\"attributes\":{\"fill_color\":{\"value\":\"red\"},\"line_color\":{\"value\":\"#1f77b4\"},\"size\":{\"units\":\"screen\",\"value\":6},\"x\":{\"field\":\"x\"},\"y\":{\"field\":\"y\"}},\"id\":\"14213\",\"type\":\"Circle\"},{\"attributes\":{},\"id\":\"15083\",\"type\":\"BasicTickFormatter\"},{\"attributes\":{\"fill_alpha\":{\"value\":0.1},\"fill_color\":{\"value\":\"#1f77b4\"},\"line_alpha\":{\"value\":0.1},\"line_color\":{\"value\":\"#1f77b4\"},\"size\":{\"units\":\"screen\",\"value\":6},\"x\":{\"field\":\"x\"},\"y\":{\"field\":\"y\"}},\"id\":\"14214\",\"type\":\"Circle\"},{\"attributes\":{},\"id\":\"15119\",\"type\":\"Selection\"},{\"attributes\":{},\"id\":\"15085\",\"type\":\"DatetimeTickFormatter\"},{\"attributes\":{\"data_source\":{\"id\":\"14212\",\"type\":\"ColumnDataSource\"},\"glyph\":{\"id\":\"14213\",\"type\":\"Circle\"},\"hover_glyph\":null,\"muted_glyph\":null,\"nonselection_glyph\":{\"id\":\"14214\",\"type\":\"Circle\"},\"selection_glyph\":null,\"view\":{\"id\":\"14216\",\"type\":\"CDSView\"}},\"id\":\"14215\",\"type\":\"GlyphRenderer\"},{\"attributes\":{\"bottom_units\":\"screen\",\"fill_alpha\":{\"value\":0.5},\"fill_color\":{\"value\":\"lightgrey\"},\"left_units\":\"screen\",\"level\":\"overlay\",\"line_alpha\":{\"value\":1.0},\"line_color\":{\"value\":\"black\"},\"line_dash\":[4,4],\"line_width\":{\"value\":2},\"render_mode\":\"css\",\"right_units\":\"screen\",\"top_units\":\"screen\"},\"id\":\"15086\",\"type\":\"BoxAnnotation\"},{\"attributes\":{\"source\":{\"id\":\"14212\",\"type\":\"ColumnDataSource\"}},\"id\":\"14216\",\"type\":\"CDSView\"},{\"attributes\":{\"mantissas\":[1,2,5],\"max_interval\":500.0,\"num_minor_ticks\":0},\"id\":\"15087\",\"type\":\"AdaptiveTicker\"},{\"attributes\":{\"below\":[{\"id\":\"14228\",\"type\":\"DatetimeAxis\"}],\"center\":[{\"id\":\"14232\",\"type\":\"Grid\"},{\"id\":\"14237\",\"type\":\"Grid\"}],\"left\":[{\"id\":\"14233\",\"type\":\"LinearAxis\"}],\"plot_height\":220,\"plot_width\":400,\"renderers\":[{\"id\":\"14254\",\"type\":\"GlyphRenderer\"},{\"id\":\"14259\",\"type\":\"GlyphRenderer\"}],\"title\":{\"id\":\"14218\",\"type\":\"Title\"},\"toolbar\":{\"id\":\"14244\",\"type\":\"Toolbar\"},\"x_range\":{\"id\":\"14220\",\"type\":\"Range1d\"},\"x_scale\":{\"id\":\"14224\",\"type\":\"LinearScale\"},\"y_range\":{\"id\":\"14222\",\"type\":\"Range1d\"},\"y_scale\":{\"id\":\"14226\",\"type\":\"LinearScale\"}},\"id\":\"14217\",\"subtype\":\"Figure\",\"type\":\"Plot\"},{\"attributes\":{\"base\":60,\"mantissas\":[1,2,5,10,15,20,30],\"max_interval\":1800000.0,\"min_interval\":1000.0,\"num_minor_ticks\":0},\"id\":\"15088\",\"type\":\"AdaptiveTicker\"},{\"attributes\":{\"text\":\"ts2\"},\"id\":\"14218\",\"type\":\"Title\"},{\"attributes\":{\"base\":24,\"mantissas\":[1,2,4,6,8,12],\"max_interval\":43200000.0,\"min_interval\":3600000.0,\"num_minor_ticks\":0},\"id\":\"15089\",\"type\":\"AdaptiveTicker\"},{\"attributes\":{\"callback\":null,\"end\":1546302000000,\"start\":1546300620000},\"id\":\"14220\",\"type\":\"Range1d\"},{\"attributes\":{\"days\":[1,2,3,4,5,6,7,8,9,10,11,12,13,14,15,16,17,18,19,20,21,22,23,24,25,26,27,28,29,30,31]},\"id\":\"15090\",\"type\":\"DaysTicker\"},{\"attributes\":{\"callback\":null,\"end\":30,\"start\":-5},\"id\":\"14222\",\"type\":\"Range1d\"},{\"attributes\":{\"days\":[1,4,7,10,13,16,19,22,25,28]},\"id\":\"15091\",\"type\":\"DaysTicker\"},{\"attributes\":{},\"id\":\"14224\",\"type\":\"LinearScale\"},{\"attributes\":{\"days\":[1,8,15,22]},\"id\":\"15092\",\"type\":\"DaysTicker\"},{\"attributes\":{},\"id\":\"14226\",\"type\":\"LinearScale\"},{\"attributes\":{\"days\":[1,15]},\"id\":\"15093\",\"type\":\"DaysTicker\"},{\"attributes\":{\"axis_label\":\"timestamp\",\"formatter\":{\"id\":\"15085\",\"type\":\"DatetimeTickFormatter\"},\"ticker\":{\"id\":\"14229\",\"type\":\"DatetimeTicker\"}},\"id\":\"14228\",\"type\":\"DatetimeAxis\"},{\"attributes\":{\"months\":[0,1,2,3,4,5,6,7,8,9,10,11]},\"id\":\"15094\",\"type\":\"MonthsTicker\"},{\"attributes\":{\"num_minor_ticks\":5,\"tickers\":[{\"id\":\"15104\",\"type\":\"AdaptiveTicker\"},{\"id\":\"15105\",\"type\":\"AdaptiveTicker\"},{\"id\":\"15106\",\"type\":\"AdaptiveTicker\"},{\"id\":\"15107\",\"type\":\"DaysTicker\"},{\"id\":\"15108\",\"type\":\"DaysTicker\"},{\"id\":\"15109\",\"type\":\"DaysTicker\"},{\"id\":\"15110\",\"type\":\"DaysTicker\"},{\"id\":\"15111\",\"type\":\"MonthsTicker\"},{\"id\":\"15112\",\"type\":\"MonthsTicker\"},{\"id\":\"15113\",\"type\":\"MonthsTicker\"},{\"id\":\"15114\",\"type\":\"MonthsTicker\"},{\"id\":\"15115\",\"type\":\"YearsTicker\"}]},\"id\":\"14229\",\"type\":\"DatetimeTicker\"},{\"attributes\":{\"months\":[0,2,4,6,8,10]},\"id\":\"15095\",\"type\":\"MonthsTicker\"},{\"attributes\":{\"ticker\":{\"id\":\"14229\",\"type\":\"DatetimeTicker\"}},\"id\":\"14232\",\"type\":\"Grid\"},{\"attributes\":{\"months\":[0,4,8]},\"id\":\"15096\",\"type\":\"MonthsTicker\"},{\"attributes\":{\"axis_label\":\"IoT sensor\",\"formatter\":{\"id\":\"15083\",\"type\":\"BasicTickFormatter\"},\"ticker\":{\"id\":\"14234\",\"type\":\"BasicTicker\"}},\"id\":\"14233\",\"type\":\"LinearAxis\"},{\"attributes\":{\"months\":[0,6]},\"id\":\"15097\",\"type\":\"MonthsTicker\"},{\"attributes\":{},\"id\":\"14234\",\"type\":\"BasicTicker\"},{\"attributes\":{},\"id\":\"15098\",\"type\":\"YearsTicker\"},{\"attributes\":{\"dimension\":1,\"ticker\":{\"id\":\"14234\",\"type\":\"BasicTicker\"}},\"id\":\"14237\",\"type\":\"Grid\"},{\"attributes\":{},\"id\":\"15099\",\"type\":\"UnionRenderers\"},{\"attributes\":{\"line_alpha\":{\"value\":0.1},\"line_color\":{\"value\":\"#1f77b4\"},\"line_dash\":[4,4],\"line_width\":{\"value\":2},\"mode\":\"after\",\"x\":{\"field\":\"x\"},\"y\":{\"field\":\"y\"}},\"id\":\"14253\",\"type\":\"Step\"},{\"attributes\":{},\"id\":\"15100\",\"type\":\"Selection\"},{\"attributes\":{\"line_color\":{\"value\":\"#1f77b4\"},\"line_dash\":[4,4],\"line_width\":{\"value\":2},\"mode\":\"after\",\"x\":{\"field\":\"x\"},\"y\":{\"field\":\"y\"}},\"id\":\"14252\",\"type\":\"Step\"},{\"attributes\":{},\"id\":\"15101\",\"type\":\"UnionRenderers\"},{\"attributes\":{\"callback\":null,\"data\":{\"x\":[1546300800000.0,1546301400000.0,1546301700000.0,1546301820000.0],\"y\":[10,20,10,10]},\"selected\":{\"id\":\"15117\",\"type\":\"Selection\"},\"selection_policy\":{\"id\":\"15116\",\"type\":\"UnionRenderers\"}},\"id\":\"14251\",\"type\":\"ColumnDataSource\"},{\"attributes\":{},\"id\":\"15102\",\"type\":\"Selection\"},{\"attributes\":{\"num_minor_ticks\":5,\"tickers\":[{\"id\":\"15087\",\"type\":\"AdaptiveTicker\"},{\"id\":\"15088\",\"type\":\"AdaptiveTicker\"},{\"id\":\"15089\",\"type\":\"AdaptiveTicker\"},{\"id\":\"15090\",\"type\":\"DaysTicker\"},{\"id\":\"15091\",\"type\":\"DaysTicker\"},{\"id\":\"15092\",\"type\":\"DaysTicker\"},{\"id\":\"15093\",\"type\":\"DaysTicker\"},{\"id\":\"15094\",\"type\":\"MonthsTicker\"},{\"id\":\"15095\",\"type\":\"MonthsTicker\"},{\"id\":\"15096\",\"type\":\"MonthsTicker\"},{\"id\":\"15097\",\"type\":\"MonthsTicker\"},{\"id\":\"15098\",\"type\":\"YearsTicker\"}]},\"id\":\"14185\",\"type\":\"DatetimeTicker\"},{\"attributes\":{\"callback\":null,\"end\":30,\"start\":-5},\"id\":\"14178\",\"type\":\"Range1d\"},{\"attributes\":{},\"id\":\"14180\",\"type\":\"LinearScale\"},{\"attributes\":{\"below\":[{\"id\":\"14184\",\"type\":\"DatetimeAxis\"}],\"center\":[{\"id\":\"14188\",\"type\":\"Grid\"},{\"id\":\"14193\",\"type\":\"Grid\"}],\"left\":[{\"id\":\"14189\",\"type\":\"LinearAxis\"}],\"plot_height\":220,\"plot_width\":400,\"renderers\":[{\"id\":\"14210\",\"type\":\"GlyphRenderer\"},{\"id\":\"14215\",\"type\":\"GlyphRenderer\"}],\"title\":{\"id\":\"14174\",\"type\":\"Title\"},\"toolbar\":{\"id\":\"14200\",\"type\":\"Toolbar\"},\"x_range\":{\"id\":\"14176\",\"type\":\"Range1d\"},\"x_scale\":{\"id\":\"14180\",\"type\":\"LinearScale\"},\"y_range\":{\"id\":\"14178\",\"type\":\"Range1d\"},\"y_scale\":{\"id\":\"14182\",\"type\":\"LinearScale\"}},\"id\":\"14173\",\"subtype\":\"Figure\",\"type\":\"Plot\"},{\"attributes\":{\"text\":\"ts1\"},\"id\":\"14174\",\"type\":\"Title\"},{\"attributes\":{\"callback\":null,\"data\":{\"x\":[1546300800000.0,1546301400000.0,1546301700000.0,1546301820000.0],\"y\":[10,20,10,1]},\"selected\":{\"id\":\"15100\",\"type\":\"Selection\"},\"selection_policy\":{\"id\":\"15099\",\"type\":\"UnionRenderers\"}},\"id\":\"14207\",\"type\":\"ColumnDataSource\"},{\"attributes\":{\"callback\":null,\"end\":1546302000000,\"start\":1546300620000},\"id\":\"14176\",\"type\":\"Range1d\"},{\"attributes\":{\"axis_label\":\"timestamp\",\"formatter\":{\"id\":\"15081\",\"type\":\"DatetimeTickFormatter\"},\"ticker\":{\"id\":\"14185\",\"type\":\"DatetimeTicker\"}},\"id\":\"14184\",\"type\":\"DatetimeAxis\"},{\"attributes\":{},\"id\":\"14182\",\"type\":\"LinearScale\"}],\"root_ids\":[\"14261\"]},\"title\":\"Bokeh Application\",\"version\":\"1.2.0\"}};\n",
       "  var render_items = [{\"docid\":\"3f276df3-8302-4765-b947-4150d0336fcd\",\"roots\":{\"14261\":\"56e72da2-08b5-4f50-89c0-527afa5da16a\"}}];\n",
       "  root.Bokeh.embed.embed_items_notebook(docs_json, render_items);\n",
       "\n",
       "  }\n",
       "  if (root.Bokeh !== undefined) {\n",
       "    embed_document(root);\n",
       "  } else {\n",
       "    var attempts = 0;\n",
       "    var timer = setInterval(function(root) {\n",
       "      if (root.Bokeh !== undefined) {\n",
       "        embed_document(root);\n",
       "        clearInterval(timer);\n",
       "      }\n",
       "      attempts++;\n",
       "      if (attempts > 100) {\n",
       "        console.log(\"Bokeh: ERROR: Unable to run BokehJS code because BokehJS library is missing\");\n",
       "        clearInterval(timer);\n",
       "      }\n",
       "    }, 10, root)\n",
       "  }\n",
       "})(window);"
      ],
      "application/vnd.bokehjs_exec.v0+json": ""
     },
     "metadata": {
      "application/vnd.bokehjs_exec.v0+json": {
       "id": "14261"
      }
     },
     "output_type": "display_data"
    },
    {
     "data": {
      "text/html": [
       "\n",
       "\n",
       "\n",
       "\n",
       "\n",
       "\n",
       "  <div class=\"bk-root\" id=\"59f9a1f6-46ef-4f13-97cd-8226164a4a94\" data-root-id=\"15516\"></div>\n"
      ]
     },
     "metadata": {},
     "output_type": "display_data"
    },
    {
     "data": {
      "application/javascript": [
       "(function(root) {\n",
       "  function embed_document(root) {\n",
       "    \n",
       "  var docs_json = {\"c81b6841-84f3-4f32-9ef6-812ef5ffb55a\":{\"roots\":{\"references\":[{\"attributes\":{\"children\":[{\"id\":\"15384\",\"subtype\":\"Figure\",\"type\":\"Plot\"},{\"id\":\"15428\",\"subtype\":\"Figure\",\"type\":\"Plot\"},{\"id\":\"15472\",\"subtype\":\"Figure\",\"type\":\"Plot\"}]},\"id\":\"15516\",\"type\":\"Row\"},{\"attributes\":{\"active_drag\":\"auto\",\"active_inspect\":\"auto\",\"active_multi\":null,\"active_scroll\":\"auto\",\"active_tap\":\"auto\",\"tools\":[{\"id\":\"15405\",\"type\":\"PanTool\"},{\"id\":\"15406\",\"type\":\"WheelZoomTool\"},{\"id\":\"15407\",\"type\":\"BoxZoomTool\"},{\"id\":\"15408\",\"type\":\"SaveTool\"},{\"id\":\"15409\",\"type\":\"ResetTool\"},{\"id\":\"15410\",\"type\":\"HelpTool\"}]},\"id\":\"15411\",\"type\":\"Toolbar\"},{\"attributes\":{},\"id\":\"15405\",\"type\":\"PanTool\"},{\"attributes\":{\"callback\":null,\"data\":{\"x\":[1546300800000.0,1546301400000.0,1546301700000.0,1546301820000.0],\"y\":[10,20,10,1]},\"selected\":{\"id\":\"16404\",\"type\":\"Selection\"},\"selection_policy\":{\"id\":\"16403\",\"type\":\"UnionRenderers\"}},\"id\":\"15418\",\"type\":\"ColumnDataSource\"},{\"attributes\":{},\"id\":\"16383\",\"type\":\"BasicTickFormatter\"},{\"attributes\":{\"source\":{\"id\":\"15511\",\"type\":\"ColumnDataSource\"}},\"id\":\"15515\",\"type\":\"CDSView\"},{\"attributes\":{\"months\":[0,4,8]},\"id\":\"16417\",\"type\":\"MonthsTicker\"},{\"attributes\":{},\"id\":\"15406\",\"type\":\"WheelZoomTool\"},{\"attributes\":{\"months\":[0,6]},\"id\":\"16418\",\"type\":\"MonthsTicker\"},{\"attributes\":{\"overlay\":{\"id\":\"16390\",\"type\":\"BoxAnnotation\"}},\"id\":\"15407\",\"type\":\"BoxZoomTool\"},{\"attributes\":{},\"id\":\"16419\",\"type\":\"YearsTicker\"},{\"attributes\":{},\"id\":\"15408\",\"type\":\"SaveTool\"},{\"attributes\":{},\"id\":\"16379\",\"type\":\"BasicTickFormatter\"},{\"attributes\":{},\"id\":\"16420\",\"type\":\"UnionRenderers\"},{\"attributes\":{},\"id\":\"15409\",\"type\":\"ResetTool\"},{\"attributes\":{},\"id\":\"16389\",\"type\":\"DatetimeTickFormatter\"},{\"attributes\":{},\"id\":\"16421\",\"type\":\"Selection\"},{\"attributes\":{},\"id\":\"16381\",\"type\":\"DatetimeTickFormatter\"},{\"attributes\":{},\"id\":\"15410\",\"type\":\"HelpTool\"},{\"attributes\":{},\"id\":\"16387\",\"type\":\"BasicTickFormatter\"},{\"attributes\":{},\"id\":\"16422\",\"type\":\"UnionRenderers\"},{\"attributes\":{},\"id\":\"16385\",\"type\":\"DatetimeTickFormatter\"},{\"attributes\":{},\"id\":\"16423\",\"type\":\"Selection\"},{\"attributes\":{\"bottom_units\":\"screen\",\"fill_alpha\":{\"value\":0.5},\"fill_color\":{\"value\":\"lightgrey\"},\"left_units\":\"screen\",\"level\":\"overlay\",\"line_alpha\":{\"value\":1.0},\"line_color\":{\"value\":\"black\"},\"line_dash\":[4,4],\"line_width\":{\"value\":2},\"render_mode\":\"css\",\"right_units\":\"screen\",\"top_units\":\"screen\"},\"id\":\"16424\",\"type\":\"BoxAnnotation\"},{\"attributes\":{\"data_source\":{\"id\":\"15418\",\"type\":\"ColumnDataSource\"},\"glyph\":{\"id\":\"15419\",\"type\":\"Step\"},\"hover_glyph\":null,\"muted_glyph\":null,\"nonselection_glyph\":{\"id\":\"15420\",\"type\":\"Step\"},\"selection_glyph\":null,\"view\":{\"id\":\"15422\",\"type\":\"CDSView\"}},\"id\":\"15421\",\"type\":\"GlyphRenderer\"},{\"attributes\":{},\"id\":\"16405\",\"type\":\"UnionRenderers\"},{\"attributes\":{\"source\":{\"id\":\"15418\",\"type\":\"ColumnDataSource\"}},\"id\":\"15422\",\"type\":\"CDSView\"},{\"attributes\":{\"mantissas\":[1,2,5],\"max_interval\":500.0,\"num_minor_ticks\":0},\"id\":\"16425\",\"type\":\"AdaptiveTicker\"},{\"attributes\":{\"callback\":null,\"data\":{\"x\":[1546300800000.0,1546301400000.0,1546301700000.0,1546301820000.0],\"y\":[10,20,10,1]},\"selected\":{\"id\":\"16406\",\"type\":\"Selection\"},\"selection_policy\":{\"id\":\"16405\",\"type\":\"UnionRenderers\"}},\"id\":\"15423\",\"type\":\"ColumnDataSource\"},{\"attributes\":{\"bottom_units\":\"screen\",\"fill_alpha\":{\"value\":0.5},\"fill_color\":{\"value\":\"lightgrey\"},\"left_units\":\"screen\",\"level\":\"overlay\",\"line_alpha\":{\"value\":1.0},\"line_color\":{\"value\":\"black\"},\"line_dash\":[4,4],\"line_width\":{\"value\":2},\"render_mode\":\"css\",\"right_units\":\"screen\",\"top_units\":\"screen\"},\"id\":\"16390\",\"type\":\"BoxAnnotation\"},{\"attributes\":{\"base\":60,\"mantissas\":[1,2,5,10,15,20,30],\"max_interval\":1800000.0,\"min_interval\":1000.0,\"num_minor_ticks\":0},\"id\":\"16426\",\"type\":\"AdaptiveTicker\"},{\"attributes\":{\"fill_color\":{\"value\":\"red\"},\"line_color\":{\"value\":\"#1f77b4\"},\"size\":{\"units\":\"screen\",\"value\":6},\"x\":{\"field\":\"x\"},\"y\":{\"field\":\"y\"}},\"id\":\"15424\",\"type\":\"Circle\"},{\"attributes\":{\"fill_alpha\":{\"value\":0.1},\"fill_color\":{\"value\":\"#1f77b4\"},\"line_alpha\":{\"value\":0.1},\"line_color\":{\"value\":\"#1f77b4\"},\"size\":{\"units\":\"screen\",\"value\":6},\"x\":{\"field\":\"x\"},\"y\":{\"field\":\"y\"}},\"id\":\"15425\",\"type\":\"Circle\"},{\"attributes\":{\"mantissas\":[1,2,5],\"max_interval\":500.0,\"num_minor_ticks\":0},\"id\":\"16391\",\"type\":\"AdaptiveTicker\"},{\"attributes\":{\"base\":24,\"mantissas\":[1,2,4,6,8,12],\"max_interval\":43200000.0,\"min_interval\":3600000.0,\"num_minor_ticks\":0},\"id\":\"16427\",\"type\":\"AdaptiveTicker\"},{\"attributes\":{\"base\":60,\"mantissas\":[1,2,5,10,15,20,30],\"max_interval\":1800000.0,\"min_interval\":1000.0,\"num_minor_ticks\":0},\"id\":\"16392\",\"type\":\"AdaptiveTicker\"},{\"attributes\":{\"days\":[1,2,3,4,5,6,7,8,9,10,11,12,13,14,15,16,17,18,19,20,21,22,23,24,25,26,27,28,29,30,31]},\"id\":\"16394\",\"type\":\"DaysTicker\"},{\"attributes\":{\"days\":[1,2,3,4,5,6,7,8,9,10,11,12,13,14,15,16,17,18,19,20,21,22,23,24,25,26,27,28,29,30,31]},\"id\":\"16428\",\"type\":\"DaysTicker\"},{\"attributes\":{\"data_source\":{\"id\":\"15423\",\"type\":\"ColumnDataSource\"},\"glyph\":{\"id\":\"15424\",\"type\":\"Circle\"},\"hover_glyph\":null,\"muted_glyph\":null,\"nonselection_glyph\":{\"id\":\"15425\",\"type\":\"Circle\"},\"selection_glyph\":null,\"view\":{\"id\":\"15427\",\"type\":\"CDSView\"}},\"id\":\"15426\",\"type\":\"GlyphRenderer\"},{\"attributes\":{\"base\":24,\"mantissas\":[1,2,4,6,8,12],\"max_interval\":43200000.0,\"min_interval\":3600000.0,\"num_minor_ticks\":0},\"id\":\"16393\",\"type\":\"AdaptiveTicker\"},{\"attributes\":{\"days\":[1,4,7,10,13,16,19,22,25,28]},\"id\":\"16429\",\"type\":\"DaysTicker\"},{\"attributes\":{\"source\":{\"id\":\"15423\",\"type\":\"ColumnDataSource\"}},\"id\":\"15427\",\"type\":\"CDSView\"},{\"attributes\":{\"days\":[1,8,15,22]},\"id\":\"16430\",\"type\":\"DaysTicker\"},{\"attributes\":{\"days\":[1,4,7,10,13,16,19,22,25,28]},\"id\":\"16395\",\"type\":\"DaysTicker\"},{\"attributes\":{\"below\":[{\"id\":\"15439\",\"type\":\"DatetimeAxis\"}],\"center\":[{\"id\":\"15443\",\"type\":\"Grid\"},{\"id\":\"15448\",\"type\":\"Grid\"}],\"left\":[{\"id\":\"15444\",\"type\":\"LinearAxis\"}],\"plot_height\":220,\"plot_width\":400,\"renderers\":[{\"id\":\"15465\",\"type\":\"GlyphRenderer\"},{\"id\":\"15470\",\"type\":\"GlyphRenderer\"}],\"title\":{\"id\":\"15429\",\"type\":\"Title\"},\"toolbar\":{\"id\":\"15455\",\"type\":\"Toolbar\"},\"x_range\":{\"id\":\"15431\",\"type\":\"Range1d\"},\"x_scale\":{\"id\":\"15435\",\"type\":\"LinearScale\"},\"y_range\":{\"id\":\"15433\",\"type\":\"Range1d\"},\"y_scale\":{\"id\":\"15437\",\"type\":\"LinearScale\"}},\"id\":\"15428\",\"subtype\":\"Figure\",\"type\":\"Plot\"},{\"attributes\":{\"days\":[1,15]},\"id\":\"16397\",\"type\":\"DaysTicker\"},{\"attributes\":{\"days\":[1,15]},\"id\":\"16431\",\"type\":\"DaysTicker\"},{\"attributes\":{\"months\":[0,1,2,3,4,5,6,7,8,9,10,11]},\"id\":\"16432\",\"type\":\"MonthsTicker\"},{\"attributes\":{\"text\":\"ts2\"},\"id\":\"15429\",\"type\":\"Title\"},{\"attributes\":{\"days\":[1,8,15,22]},\"id\":\"16396\",\"type\":\"DaysTicker\"},{\"attributes\":{\"dimension\":1,\"ticker\":{\"id\":\"15445\",\"type\":\"BasicTicker\"}},\"id\":\"15448\",\"type\":\"Grid\"},{\"attributes\":{\"months\":[0,2,4,6,8,10]},\"id\":\"16433\",\"type\":\"MonthsTicker\"},{\"attributes\":{\"callback\":null,\"end\":1546302000000,\"start\":1546300620000},\"id\":\"15431\",\"type\":\"Range1d\"},{\"attributes\":{\"months\":[0,1,2,3,4,5,6,7,8,9,10,11]},\"id\":\"16398\",\"type\":\"MonthsTicker\"},{\"attributes\":{\"months\":[0,4,8]},\"id\":\"16434\",\"type\":\"MonthsTicker\"},{\"attributes\":{\"callback\":null,\"end\":30,\"start\":-5},\"id\":\"15433\",\"type\":\"Range1d\"},{\"attributes\":{\"months\":[0,4,8]},\"id\":\"16400\",\"type\":\"MonthsTicker\"},{\"attributes\":{\"months\":[0,6]},\"id\":\"16435\",\"type\":\"MonthsTicker\"},{\"attributes\":{},\"id\":\"15435\",\"type\":\"LinearScale\"},{\"attributes\":{\"line_color\":{\"value\":\"#1f77b4\"},\"line_dash\":[4,4],\"line_width\":{\"value\":2},\"mode\":\"after\",\"x\":{\"field\":\"x\"},\"y\":{\"field\":\"y\"}},\"id\":\"15419\",\"type\":\"Step\"},{\"attributes\":{\"months\":[0,2,4,6,8,10]},\"id\":\"16399\",\"type\":\"MonthsTicker\"},{\"attributes\":{\"line_alpha\":{\"value\":0.1},\"line_color\":{\"value\":\"#1f77b4\"},\"line_dash\":[4,4],\"line_width\":{\"value\":2},\"mode\":\"after\",\"x\":{\"field\":\"x\"},\"y\":{\"field\":\"y\"}},\"id\":\"15420\",\"type\":\"Step\"},{\"attributes\":{},\"id\":\"16436\",\"type\":\"YearsTicker\"},{\"attributes\":{},\"id\":\"15437\",\"type\":\"LinearScale\"},{\"attributes\":{\"months\":[0,6]},\"id\":\"16401\",\"type\":\"MonthsTicker\"},{\"attributes\":{},\"id\":\"16437\",\"type\":\"UnionRenderers\"},{\"attributes\":{\"axis_label\":\"timestamp\",\"formatter\":{\"id\":\"16385\",\"type\":\"DatetimeTickFormatter\"},\"ticker\":{\"id\":\"15440\",\"type\":\"DatetimeTicker\"}},\"id\":\"15439\",\"type\":\"DatetimeAxis\"},{\"attributes\":{},\"id\":\"16438\",\"type\":\"Selection\"},{\"attributes\":{\"num_minor_ticks\":5,\"tickers\":[{\"id\":\"16408\",\"type\":\"AdaptiveTicker\"},{\"id\":\"16409\",\"type\":\"AdaptiveTicker\"},{\"id\":\"16410\",\"type\":\"AdaptiveTicker\"},{\"id\":\"16411\",\"type\":\"DaysTicker\"},{\"id\":\"16412\",\"type\":\"DaysTicker\"},{\"id\":\"16413\",\"type\":\"DaysTicker\"},{\"id\":\"16414\",\"type\":\"DaysTicker\"},{\"id\":\"16415\",\"type\":\"MonthsTicker\"},{\"id\":\"16416\",\"type\":\"MonthsTicker\"},{\"id\":\"16417\",\"type\":\"MonthsTicker\"},{\"id\":\"16418\",\"type\":\"MonthsTicker\"},{\"id\":\"16419\",\"type\":\"YearsTicker\"}]},\"id\":\"15440\",\"type\":\"DatetimeTicker\"},{\"attributes\":{},\"id\":\"16402\",\"type\":\"YearsTicker\"},{\"attributes\":{\"base\":60,\"mantissas\":[1,2,5,10,15,20,30],\"max_interval\":1800000.0,\"min_interval\":1000.0,\"num_minor_ticks\":0},\"id\":\"16409\",\"type\":\"AdaptiveTicker\"},{\"attributes\":{},\"id\":\"16439\",\"type\":\"UnionRenderers\"},{\"attributes\":{\"ticker\":{\"id\":\"15440\",\"type\":\"DatetimeTicker\"}},\"id\":\"15443\",\"type\":\"Grid\"},{\"attributes\":{},\"id\":\"16403\",\"type\":\"UnionRenderers\"},{\"attributes\":{},\"id\":\"16440\",\"type\":\"Selection\"},{\"attributes\":{\"below\":[{\"id\":\"15395\",\"type\":\"DatetimeAxis\"}],\"center\":[{\"id\":\"15399\",\"type\":\"Grid\"},{\"id\":\"15404\",\"type\":\"Grid\"}],\"left\":[{\"id\":\"15400\",\"type\":\"LinearAxis\"}],\"plot_height\":220,\"plot_width\":400,\"renderers\":[{\"id\":\"15421\",\"type\":\"GlyphRenderer\"},{\"id\":\"15426\",\"type\":\"GlyphRenderer\"}],\"title\":{\"id\":\"15385\",\"type\":\"Title\"},\"toolbar\":{\"id\":\"15411\",\"type\":\"Toolbar\"},\"x_range\":{\"id\":\"15387\",\"type\":\"Range1d\"},\"x_scale\":{\"id\":\"15391\",\"type\":\"LinearScale\"},\"y_range\":{\"id\":\"15389\",\"type\":\"Range1d\"},\"y_scale\":{\"id\":\"15393\",\"type\":\"LinearScale\"}},\"id\":\"15384\",\"subtype\":\"Figure\",\"type\":\"Plot\"},{\"attributes\":{\"axis_label\":\"IoT sensor\",\"formatter\":{\"id\":\"16383\",\"type\":\"BasicTickFormatter\"},\"ticker\":{\"id\":\"15445\",\"type\":\"BasicTicker\"}},\"id\":\"15444\",\"type\":\"LinearAxis\"},{\"attributes\":{},\"id\":\"16404\",\"type\":\"Selection\"},{\"attributes\":{\"text\":\"ts1\"},\"id\":\"15385\",\"type\":\"Title\"},{\"attributes\":{},\"id\":\"15445\",\"type\":\"BasicTicker\"},{\"attributes\":{},\"id\":\"16406\",\"type\":\"Selection\"},{\"attributes\":{\"axis_label\":\"IoT sensor\",\"formatter\":{\"id\":\"16387\",\"type\":\"BasicTickFormatter\"},\"ticker\":{\"id\":\"15489\",\"type\":\"BasicTicker\"}},\"id\":\"15488\",\"type\":\"LinearAxis\"},{\"attributes\":{\"days\":[1,4,7,10,13,16,19,22,25,28]},\"id\":\"16412\",\"type\":\"DaysTicker\"},{\"attributes\":{\"callback\":null,\"end\":30,\"start\":-5},\"id\":\"15389\",\"type\":\"Range1d\"},{\"attributes\":{},\"id\":\"15391\",\"type\":\"LinearScale\"},{\"attributes\":{\"line_alpha\":{\"value\":0.1},\"line_color\":{\"value\":\"#1f77b4\"},\"line_dash\":[4,4],\"line_width\":{\"value\":2},\"mode\":\"after\",\"x\":{\"field\":\"x\"},\"y\":{\"field\":\"y\"}},\"id\":\"15464\",\"type\":\"Step\"},{\"attributes\":{\"bottom_units\":\"screen\",\"fill_alpha\":{\"value\":0.5},\"fill_color\":{\"value\":\"lightgrey\"},\"left_units\":\"screen\",\"level\":\"overlay\",\"line_alpha\":{\"value\":1.0},\"line_color\":{\"value\":\"black\"},\"line_dash\":[4,4],\"line_width\":{\"value\":2},\"render_mode\":\"css\",\"right_units\":\"screen\",\"top_units\":\"screen\"},\"id\":\"16407\",\"type\":\"BoxAnnotation\"},{\"attributes\":{\"line_color\":{\"value\":\"#1f77b4\"},\"line_dash\":[4,4],\"line_width\":{\"value\":2},\"mode\":\"after\",\"x\":{\"field\":\"x\"},\"y\":{\"field\":\"y\"}},\"id\":\"15463\",\"type\":\"Step\"},{\"attributes\":{\"mantissas\":[1,2,5],\"max_interval\":500.0,\"num_minor_ticks\":0},\"id\":\"16408\",\"type\":\"AdaptiveTicker\"},{\"attributes\":{\"callback\":null,\"end\":1546302000000,\"start\":1546300620000},\"id\":\"15387\",\"type\":\"Range1d\"},{\"attributes\":{\"callback\":null,\"data\":{\"x\":[1546301220000.0,1546301400000.0,1546301520000.0],\"y\":[-1,5,14]},\"selected\":{\"id\":\"16421\",\"type\":\"Selection\"},\"selection_policy\":{\"id\":\"16420\",\"type\":\"UnionRenderers\"}},\"id\":\"15462\",\"type\":\"ColumnDataSource\"},{\"attributes\":{\"num_minor_ticks\":5,\"tickers\":[{\"id\":\"16391\",\"type\":\"AdaptiveTicker\"},{\"id\":\"16392\",\"type\":\"AdaptiveTicker\"},{\"id\":\"16393\",\"type\":\"AdaptiveTicker\"},{\"id\":\"16394\",\"type\":\"DaysTicker\"},{\"id\":\"16395\",\"type\":\"DaysTicker\"},{\"id\":\"16396\",\"type\":\"DaysTicker\"},{\"id\":\"16397\",\"type\":\"DaysTicker\"},{\"id\":\"16398\",\"type\":\"MonthsTicker\"},{\"id\":\"16399\",\"type\":\"MonthsTicker\"},{\"id\":\"16400\",\"type\":\"MonthsTicker\"},{\"id\":\"16401\",\"type\":\"MonthsTicker\"},{\"id\":\"16402\",\"type\":\"YearsTicker\"}]},\"id\":\"15396\",\"type\":\"DatetimeTicker\"},{\"attributes\":{},\"id\":\"15449\",\"type\":\"PanTool\"},{\"attributes\":{\"days\":[1,2,3,4,5,6,7,8,9,10,11,12,13,14,15,16,17,18,19,20,21,22,23,24,25,26,27,28,29,30,31]},\"id\":\"16411\",\"type\":\"DaysTicker\"},{\"attributes\":{\"axis_label\":\"IoT sensor\",\"formatter\":{\"id\":\"16379\",\"type\":\"BasicTickFormatter\"},\"ticker\":{\"id\":\"15401\",\"type\":\"BasicTicker\"}},\"id\":\"15400\",\"type\":\"LinearAxis\"},{\"attributes\":{\"base\":24,\"mantissas\":[1,2,4,6,8,12],\"max_interval\":43200000.0,\"min_interval\":3600000.0,\"num_minor_ticks\":0},\"id\":\"16410\",\"type\":\"AdaptiveTicker\"},{\"attributes\":{},\"id\":\"15450\",\"type\":\"WheelZoomTool\"},{\"attributes\":{\"ticker\":{\"id\":\"15396\",\"type\":\"DatetimeTicker\"}},\"id\":\"15399\",\"type\":\"Grid\"},{\"attributes\":{\"overlay\":{\"id\":\"16407\",\"type\":\"BoxAnnotation\"}},\"id\":\"15451\",\"type\":\"BoxZoomTool\"},{\"attributes\":{},\"id\":\"15401\",\"type\":\"BasicTicker\"},{\"attributes\":{},\"id\":\"15393\",\"type\":\"LinearScale\"},{\"attributes\":{},\"id\":\"15452\",\"type\":\"SaveTool\"},{\"attributes\":{\"months\":[0,1,2,3,4,5,6,7,8,9,10,11]},\"id\":\"16415\",\"type\":\"MonthsTicker\"},{\"attributes\":{\"days\":[1,8,15,22]},\"id\":\"16413\",\"type\":\"DaysTicker\"},{\"attributes\":{\"axis_label\":\"timestamp\",\"formatter\":{\"id\":\"16381\",\"type\":\"DatetimeTickFormatter\"},\"ticker\":{\"id\":\"15396\",\"type\":\"DatetimeTicker\"}},\"id\":\"15395\",\"type\":\"DatetimeAxis\"},{\"attributes\":{},\"id\":\"15453\",\"type\":\"ResetTool\"},{\"attributes\":{\"days\":[1,15]},\"id\":\"16414\",\"type\":\"DaysTicker\"},{\"attributes\":{},\"id\":\"15454\",\"type\":\"HelpTool\"},{\"attributes\":{\"dimension\":1,\"ticker\":{\"id\":\"15401\",\"type\":\"BasicTicker\"}},\"id\":\"15404\",\"type\":\"Grid\"},{\"attributes\":{\"months\":[0,2,4,6,8,10]},\"id\":\"16416\",\"type\":\"MonthsTicker\"},{\"attributes\":{\"active_drag\":\"auto\",\"active_inspect\":\"auto\",\"active_multi\":null,\"active_scroll\":\"auto\",\"active_tap\":\"auto\",\"tools\":[{\"id\":\"15449\",\"type\":\"PanTool\"},{\"id\":\"15450\",\"type\":\"WheelZoomTool\"},{\"id\":\"15451\",\"type\":\"BoxZoomTool\"},{\"id\":\"15452\",\"type\":\"SaveTool\"},{\"id\":\"15453\",\"type\":\"ResetTool\"},{\"id\":\"15454\",\"type\":\"HelpTool\"}]},\"id\":\"15455\",\"type\":\"Toolbar\"},{\"attributes\":{\"data_source\":{\"id\":\"15462\",\"type\":\"ColumnDataSource\"},\"glyph\":{\"id\":\"15463\",\"type\":\"Step\"},\"hover_glyph\":null,\"muted_glyph\":null,\"nonselection_glyph\":{\"id\":\"15464\",\"type\":\"Step\"},\"selection_glyph\":null,\"view\":{\"id\":\"15466\",\"type\":\"CDSView\"}},\"id\":\"15465\",\"type\":\"GlyphRenderer\"},{\"attributes\":{\"source\":{\"id\":\"15462\",\"type\":\"ColumnDataSource\"}},\"id\":\"15466\",\"type\":\"CDSView\"},{\"attributes\":{\"callback\":null,\"data\":{\"x\":[1546301220000.0,1546301400000.0,1546301520000.0],\"y\":[-1,5,14]},\"selected\":{\"id\":\"16423\",\"type\":\"Selection\"},\"selection_policy\":{\"id\":\"16422\",\"type\":\"UnionRenderers\"}},\"id\":\"15467\",\"type\":\"ColumnDataSource\"},{\"attributes\":{\"fill_color\":{\"value\":\"red\"},\"line_color\":{\"value\":\"#1f77b4\"},\"size\":{\"units\":\"screen\",\"value\":6},\"x\":{\"field\":\"x\"},\"y\":{\"field\":\"y\"}},\"id\":\"15468\",\"type\":\"Circle\"},{\"attributes\":{\"fill_alpha\":{\"value\":0.1},\"fill_color\":{\"value\":\"#1f77b4\"},\"line_alpha\":{\"value\":0.1},\"line_color\":{\"value\":\"#1f77b4\"},\"size\":{\"units\":\"screen\",\"value\":6},\"x\":{\"field\":\"x\"},\"y\":{\"field\":\"y\"}},\"id\":\"15469\",\"type\":\"Circle\"},{\"attributes\":{\"data_source\":{\"id\":\"15467\",\"type\":\"ColumnDataSource\"},\"glyph\":{\"id\":\"15468\",\"type\":\"Circle\"},\"hover_glyph\":null,\"muted_glyph\":null,\"nonselection_glyph\":{\"id\":\"15469\",\"type\":\"Circle\"},\"selection_glyph\":null,\"view\":{\"id\":\"15471\",\"type\":\"CDSView\"}},\"id\":\"15470\",\"type\":\"GlyphRenderer\"},{\"attributes\":{\"source\":{\"id\":\"15467\",\"type\":\"ColumnDataSource\"}},\"id\":\"15471\",\"type\":\"CDSView\"},{\"attributes\":{\"below\":[{\"id\":\"15483\",\"type\":\"DatetimeAxis\"}],\"center\":[{\"id\":\"15487\",\"type\":\"Grid\"},{\"id\":\"15492\",\"type\":\"Grid\"}],\"left\":[{\"id\":\"15488\",\"type\":\"LinearAxis\"}],\"plot_height\":220,\"plot_width\":400,\"renderers\":[{\"id\":\"15509\",\"type\":\"GlyphRenderer\"},{\"id\":\"15514\",\"type\":\"GlyphRenderer\"}],\"title\":{\"id\":\"15473\",\"type\":\"Title\"},\"toolbar\":{\"id\":\"15499\",\"type\":\"Toolbar\"},\"x_range\":{\"id\":\"15475\",\"type\":\"Range1d\"},\"x_scale\":{\"id\":\"15479\",\"type\":\"LinearScale\"},\"y_range\":{\"id\":\"15477\",\"type\":\"Range1d\"},\"y_scale\":{\"id\":\"15481\",\"type\":\"LinearScale\"}},\"id\":\"15472\",\"subtype\":\"Figure\",\"type\":\"Plot\"},{\"attributes\":{\"text\":\"ts3\"},\"id\":\"15473\",\"type\":\"Title\"},{\"attributes\":{\"callback\":null,\"end\":1546302000000,\"start\":1546300620000},\"id\":\"15475\",\"type\":\"Range1d\"},{\"attributes\":{\"callback\":null,\"end\":30,\"start\":-5},\"id\":\"15477\",\"type\":\"Range1d\"},{\"attributes\":{},\"id\":\"15479\",\"type\":\"LinearScale\"},{\"attributes\":{},\"id\":\"15481\",\"type\":\"LinearScale\"},{\"attributes\":{\"axis_label\":\"timestamp\",\"formatter\":{\"id\":\"16389\",\"type\":\"DatetimeTickFormatter\"},\"ticker\":{\"id\":\"15484\",\"type\":\"DatetimeTicker\"}},\"id\":\"15483\",\"type\":\"DatetimeAxis\"},{\"attributes\":{\"num_minor_ticks\":5,\"tickers\":[{\"id\":\"16425\",\"type\":\"AdaptiveTicker\"},{\"id\":\"16426\",\"type\":\"AdaptiveTicker\"},{\"id\":\"16427\",\"type\":\"AdaptiveTicker\"},{\"id\":\"16428\",\"type\":\"DaysTicker\"},{\"id\":\"16429\",\"type\":\"DaysTicker\"},{\"id\":\"16430\",\"type\":\"DaysTicker\"},{\"id\":\"16431\",\"type\":\"DaysTicker\"},{\"id\":\"16432\",\"type\":\"MonthsTicker\"},{\"id\":\"16433\",\"type\":\"MonthsTicker\"},{\"id\":\"16434\",\"type\":\"MonthsTicker\"},{\"id\":\"16435\",\"type\":\"MonthsTicker\"},{\"id\":\"16436\",\"type\":\"YearsTicker\"}]},\"id\":\"15484\",\"type\":\"DatetimeTicker\"},{\"attributes\":{\"ticker\":{\"id\":\"15484\",\"type\":\"DatetimeTicker\"}},\"id\":\"15487\",\"type\":\"Grid\"},{\"attributes\":{},\"id\":\"15489\",\"type\":\"BasicTicker\"},{\"attributes\":{\"dimension\":1,\"ticker\":{\"id\":\"15489\",\"type\":\"BasicTicker\"}},\"id\":\"15492\",\"type\":\"Grid\"},{\"attributes\":{\"line_alpha\":{\"value\":0.1},\"line_color\":{\"value\":\"#1f77b4\"},\"line_dash\":[4,4],\"line_width\":{\"value\":2},\"mode\":\"after\",\"x\":{\"field\":\"x\"},\"y\":{\"field\":\"y\"}},\"id\":\"15508\",\"type\":\"Step\"},{\"attributes\":{\"line_color\":{\"value\":\"#1f77b4\"},\"line_dash\":[4,4],\"line_width\":{\"value\":2},\"mode\":\"after\",\"x\":{\"field\":\"x\"},\"y\":{\"field\":\"y\"}},\"id\":\"15507\",\"type\":\"Step\"},{\"attributes\":{\"callback\":null,\"data\":{\"x\":[1546300800000.0,1546301220000.0,1546301400000.0,1546301520000.0,1546301700000.0,1546301820000.0],\"y\":[10,10,20,20,14,14]},\"selected\":{\"id\":\"16438\",\"type\":\"Selection\"},\"selection_policy\":{\"id\":\"16437\",\"type\":\"UnionRenderers\"}},\"id\":\"15506\",\"type\":\"ColumnDataSource\"},{\"attributes\":{\"active_drag\":\"auto\",\"active_inspect\":\"auto\",\"active_multi\":null,\"active_scroll\":\"auto\",\"active_tap\":\"auto\",\"tools\":[{\"id\":\"15493\",\"type\":\"PanTool\"},{\"id\":\"15494\",\"type\":\"WheelZoomTool\"},{\"id\":\"15495\",\"type\":\"BoxZoomTool\"},{\"id\":\"15496\",\"type\":\"SaveTool\"},{\"id\":\"15497\",\"type\":\"ResetTool\"},{\"id\":\"15498\",\"type\":\"HelpTool\"}]},\"id\":\"15499\",\"type\":\"Toolbar\"},{\"attributes\":{},\"id\":\"15493\",\"type\":\"PanTool\"},{\"attributes\":{},\"id\":\"15494\",\"type\":\"WheelZoomTool\"},{\"attributes\":{\"overlay\":{\"id\":\"16424\",\"type\":\"BoxAnnotation\"}},\"id\":\"15495\",\"type\":\"BoxZoomTool\"},{\"attributes\":{},\"id\":\"15496\",\"type\":\"SaveTool\"},{\"attributes\":{},\"id\":\"15497\",\"type\":\"ResetTool\"},{\"attributes\":{},\"id\":\"15498\",\"type\":\"HelpTool\"},{\"attributes\":{\"data_source\":{\"id\":\"15506\",\"type\":\"ColumnDataSource\"},\"glyph\":{\"id\":\"15507\",\"type\":\"Step\"},\"hover_glyph\":null,\"muted_glyph\":null,\"nonselection_glyph\":{\"id\":\"15508\",\"type\":\"Step\"},\"selection_glyph\":null,\"view\":{\"id\":\"15510\",\"type\":\"CDSView\"}},\"id\":\"15509\",\"type\":\"GlyphRenderer\"},{\"attributes\":{\"source\":{\"id\":\"15506\",\"type\":\"ColumnDataSource\"}},\"id\":\"15510\",\"type\":\"CDSView\"},{\"attributes\":{\"callback\":null,\"data\":{\"x\":[1546300800000.0,1546301220000.0,1546301400000.0,1546301520000.0,1546301700000.0,1546301820000.0],\"y\":[10,10,20,20,14,14]},\"selected\":{\"id\":\"16440\",\"type\":\"Selection\"},\"selection_policy\":{\"id\":\"16439\",\"type\":\"UnionRenderers\"}},\"id\":\"15511\",\"type\":\"ColumnDataSource\"},{\"attributes\":{\"fill_color\":{\"value\":\"red\"},\"line_color\":{\"value\":\"#1f77b4\"},\"size\":{\"units\":\"screen\",\"value\":6},\"x\":{\"field\":\"x\"},\"y\":{\"field\":\"y\"}},\"id\":\"15512\",\"type\":\"Circle\"},{\"attributes\":{\"fill_alpha\":{\"value\":0.1},\"fill_color\":{\"value\":\"#1f77b4\"},\"line_alpha\":{\"value\":0.1},\"line_color\":{\"value\":\"#1f77b4\"},\"size\":{\"units\":\"screen\",\"value\":6},\"x\":{\"field\":\"x\"},\"y\":{\"field\":\"y\"}},\"id\":\"15513\",\"type\":\"Circle\"},{\"attributes\":{\"data_source\":{\"id\":\"15511\",\"type\":\"ColumnDataSource\"},\"glyph\":{\"id\":\"15512\",\"type\":\"Circle\"},\"hover_glyph\":null,\"muted_glyph\":null,\"nonselection_glyph\":{\"id\":\"15513\",\"type\":\"Circle\"},\"selection_glyph\":null,\"view\":{\"id\":\"15515\",\"type\":\"CDSView\"}},\"id\":\"15514\",\"type\":\"GlyphRenderer\"}],\"root_ids\":[\"15516\"]},\"title\":\"Bokeh Application\",\"version\":\"1.2.0\"}};\n",
       "  var render_items = [{\"docid\":\"c81b6841-84f3-4f32-9ef6-812ef5ffb55a\",\"roots\":{\"15516\":\"59f9a1f6-46ef-4f13-97cd-8226164a4a94\"}}];\n",
       "  root.Bokeh.embed.embed_items_notebook(docs_json, render_items);\n",
       "\n",
       "  }\n",
       "  if (root.Bokeh !== undefined) {\n",
       "    embed_document(root);\n",
       "  } else {\n",
       "    var attempts = 0;\n",
       "    var timer = setInterval(function(root) {\n",
       "      if (root.Bokeh !== undefined) {\n",
       "        embed_document(root);\n",
       "        clearInterval(timer);\n",
       "      }\n",
       "      attempts++;\n",
       "      if (attempts > 100) {\n",
       "        console.log(\"Bokeh: ERROR: Unable to run BokehJS code because BokehJS library is missing\");\n",
       "        clearInterval(timer);\n",
       "      }\n",
       "    }, 10, root)\n",
       "  }\n",
       "})(window);"
      ],
      "application/vnd.bokehjs_exec.v0+json": ""
     },
     "metadata": {
      "application/vnd.bokehjs_exec.v0+json": {
       "id": "15516"
      }
     },
     "output_type": "display_data"
    }
   ],
   "source": [
    "# Ceil (it applies a min on each key)\n",
    "plot_row(ts, ts.ceil(10))\n",
    "plot_row(ts, ts2, ts.ceil(ts2))"
   ]
  },
  {
   "cell_type": "markdown",
   "metadata": {},
   "source": [
    "## Some sugar"
   ]
  },
  {
   "cell_type": "code",
   "execution_count": 29,
   "metadata": {},
   "outputs": [
    {
     "data": {
      "text/html": [
       "\n",
       "\n",
       "\n",
       "\n",
       "\n",
       "\n",
       "  <div class=\"bk-root\" id=\"2bf5e706-91b9-4f01-b9e7-cb0ffd5cd6ed\" data-root-id=\"16837\"></div>\n"
      ]
     },
     "metadata": {},
     "output_type": "display_data"
    },
    {
     "data": {
      "application/javascript": [
       "(function(root) {\n",
       "  function embed_document(root) {\n",
       "    \n",
       "  var docs_json = {\"af8d200a-cda9-45c0-9ce6-2d07f360daee\":{\"roots\":{\"references\":[{\"attributes\":{\"below\":[{\"id\":\"16848\",\"type\":\"DatetimeAxis\"}],\"center\":[{\"id\":\"16852\",\"type\":\"Grid\"},{\"id\":\"16857\",\"type\":\"Grid\"}],\"left\":[{\"id\":\"16853\",\"type\":\"LinearAxis\"}],\"plot_height\":220,\"plot_width\":400,\"renderers\":[{\"id\":\"16874\",\"type\":\"GlyphRenderer\"},{\"id\":\"16879\",\"type\":\"GlyphRenderer\"}],\"title\":{\"id\":\"16838\",\"type\":\"Title\"},\"toolbar\":{\"id\":\"16864\",\"type\":\"Toolbar\"},\"x_range\":{\"id\":\"16840\",\"type\":\"Range1d\"},\"x_scale\":{\"id\":\"16844\",\"type\":\"LinearScale\"},\"y_range\":{\"id\":\"16842\",\"type\":\"Range1d\"},\"y_scale\":{\"id\":\"16846\",\"type\":\"LinearScale\"}},\"id\":\"16837\",\"subtype\":\"Figure\",\"type\":\"Plot\"},{\"attributes\":{\"ticker\":{\"id\":\"16849\",\"type\":\"DatetimeTicker\"}},\"id\":\"16852\",\"type\":\"Grid\"},{\"attributes\":{\"data_source\":{\"id\":\"16876\",\"type\":\"ColumnDataSource\"},\"glyph\":{\"id\":\"16877\",\"type\":\"Circle\"},\"hover_glyph\":null,\"muted_glyph\":null,\"nonselection_glyph\":{\"id\":\"16878\",\"type\":\"Circle\"},\"selection_glyph\":null,\"view\":{\"id\":\"16880\",\"type\":\"CDSView\"}},\"id\":\"16879\",\"type\":\"GlyphRenderer\"},{\"attributes\":{},\"id\":\"17823\",\"type\":\"UnionRenderers\"},{\"attributes\":{\"axis_label\":\"IoT sensor\",\"formatter\":{\"id\":\"17807\",\"type\":\"BasicTickFormatter\"},\"ticker\":{\"id\":\"16854\",\"type\":\"BasicTicker\"}},\"id\":\"16853\",\"type\":\"LinearAxis\"},{\"attributes\":{\"source\":{\"id\":\"16876\",\"type\":\"ColumnDataSource\"}},\"id\":\"16880\",\"type\":\"CDSView\"},{\"attributes\":{},\"id\":\"17824\",\"type\":\"Selection\"},{\"attributes\":{},\"id\":\"16854\",\"type\":\"BasicTicker\"},{\"attributes\":{},\"id\":\"17825\",\"type\":\"UnionRenderers\"},{\"attributes\":{\"dimension\":1,\"ticker\":{\"id\":\"16854\",\"type\":\"BasicTicker\"}},\"id\":\"16857\",\"type\":\"Grid\"},{\"attributes\":{},\"id\":\"17809\",\"type\":\"DatetimeTickFormatter\"},{\"attributes\":{},\"id\":\"17826\",\"type\":\"Selection\"},{\"attributes\":{},\"id\":\"17807\",\"type\":\"BasicTickFormatter\"},{\"attributes\":{\"line_alpha\":{\"value\":0.1},\"line_color\":{\"value\":\"#1f77b4\"},\"line_dash\":[4,4],\"line_width\":{\"value\":2},\"mode\":\"after\",\"x\":{\"field\":\"x\"},\"y\":{\"field\":\"y\"}},\"id\":\"16873\",\"type\":\"Step\"},{\"attributes\":{\"line_color\":{\"value\":\"#1f77b4\"},\"line_dash\":[4,4],\"line_width\":{\"value\":2},\"mode\":\"after\",\"x\":{\"field\":\"x\"},\"y\":{\"field\":\"y\"}},\"id\":\"16872\",\"type\":\"Step\"},{\"attributes\":{\"bottom_units\":\"screen\",\"fill_alpha\":{\"value\":0.5},\"fill_color\":{\"value\":\"lightgrey\"},\"left_units\":\"screen\",\"level\":\"overlay\",\"line_alpha\":{\"value\":1.0},\"line_color\":{\"value\":\"black\"},\"line_dash\":[4,4],\"line_width\":{\"value\":2},\"render_mode\":\"css\",\"right_units\":\"screen\",\"top_units\":\"screen\"},\"id\":\"17810\",\"type\":\"BoxAnnotation\"},{\"attributes\":{\"mantissas\":[1,2,5],\"max_interval\":500.0,\"num_minor_ticks\":0},\"id\":\"17811\",\"type\":\"AdaptiveTicker\"},{\"attributes\":{\"active_drag\":\"auto\",\"active_inspect\":\"auto\",\"active_multi\":null,\"active_scroll\":\"auto\",\"active_tap\":\"auto\",\"tools\":[{\"id\":\"16858\",\"type\":\"PanTool\"},{\"id\":\"16859\",\"type\":\"WheelZoomTool\"},{\"id\":\"16860\",\"type\":\"BoxZoomTool\"},{\"id\":\"16861\",\"type\":\"SaveTool\"},{\"id\":\"16862\",\"type\":\"ResetTool\"},{\"id\":\"16863\",\"type\":\"HelpTool\"}]},\"id\":\"16864\",\"type\":\"Toolbar\"},{\"attributes\":{},\"id\":\"16858\",\"type\":\"PanTool\"},{\"attributes\":{\"callback\":null,\"end\":1546302000000,\"start\":1546300620000},\"id\":\"16840\",\"type\":\"Range1d\"},{\"attributes\":{\"base\":60,\"mantissas\":[1,2,5,10,15,20,30],\"max_interval\":1800000.0,\"min_interval\":1000.0,\"num_minor_ticks\":0},\"id\":\"17812\",\"type\":\"AdaptiveTicker\"},{\"attributes\":{},\"id\":\"16859\",\"type\":\"WheelZoomTool\"},{\"attributes\":{\"num_minor_ticks\":5,\"tickers\":[{\"id\":\"17811\",\"type\":\"AdaptiveTicker\"},{\"id\":\"17812\",\"type\":\"AdaptiveTicker\"},{\"id\":\"17813\",\"type\":\"AdaptiveTicker\"},{\"id\":\"17814\",\"type\":\"DaysTicker\"},{\"id\":\"17815\",\"type\":\"DaysTicker\"},{\"id\":\"17816\",\"type\":\"DaysTicker\"},{\"id\":\"17817\",\"type\":\"DaysTicker\"},{\"id\":\"17818\",\"type\":\"MonthsTicker\"},{\"id\":\"17819\",\"type\":\"MonthsTicker\"},{\"id\":\"17820\",\"type\":\"MonthsTicker\"},{\"id\":\"17821\",\"type\":\"MonthsTicker\"},{\"id\":\"17822\",\"type\":\"YearsTicker\"}]},\"id\":\"16849\",\"type\":\"DatetimeTicker\"},{\"attributes\":{\"base\":24,\"mantissas\":[1,2,4,6,8,12],\"max_interval\":43200000.0,\"min_interval\":3600000.0,\"num_minor_ticks\":0},\"id\":\"17813\",\"type\":\"AdaptiveTicker\"},{\"attributes\":{\"overlay\":{\"id\":\"17810\",\"type\":\"BoxAnnotation\"}},\"id\":\"16860\",\"type\":\"BoxZoomTool\"},{\"attributes\":{\"callback\":null,\"data\":{\"x\":[1546300800000.0,1546300860000.0,1546300920000.0,1546300980000.0,1546301040000.0,1546301100000.0,1546301160000.0,1546301220000.0,1546301280000.0,1546301340000.0,1546301400000.0,1546301460000.0,1546301520000.0,1546301580000.0,1546301640000.0,1546301700000.0,1546301760000.0,1546301820000.0],\"y\":[10,10,10,10,10,10,10,10,10,10,20,20,20,20,20,10,10,1]},\"selected\":{\"id\":\"17824\",\"type\":\"Selection\"},\"selection_policy\":{\"id\":\"17823\",\"type\":\"UnionRenderers\"}},\"id\":\"16871\",\"type\":\"ColumnDataSource\"},{\"attributes\":{\"days\":[1,2,3,4,5,6,7,8,9,10,11,12,13,14,15,16,17,18,19,20,21,22,23,24,25,26,27,28,29,30,31]},\"id\":\"17814\",\"type\":\"DaysTicker\"},{\"attributes\":{},\"id\":\"16861\",\"type\":\"SaveTool\"},{\"attributes\":{\"days\":[1,4,7,10,13,16,19,22,25,28]},\"id\":\"17815\",\"type\":\"DaysTicker\"},{\"attributes\":{},\"id\":\"16862\",\"type\":\"ResetTool\"},{\"attributes\":{\"days\":[1,8,15,22]},\"id\":\"17816\",\"type\":\"DaysTicker\"},{\"attributes\":{},\"id\":\"16863\",\"type\":\"HelpTool\"},{\"attributes\":{\"text\":\"Unevenly Spaced\"},\"id\":\"16838\",\"type\":\"Title\"},{\"attributes\":{\"days\":[1,15]},\"id\":\"17817\",\"type\":\"DaysTicker\"},{\"attributes\":{\"callback\":null,\"end\":30,\"start\":-5},\"id\":\"16842\",\"type\":\"Range1d\"},{\"attributes\":{\"months\":[0,1,2,3,4,5,6,7,8,9,10,11]},\"id\":\"17818\",\"type\":\"MonthsTicker\"},{\"attributes\":{\"data_source\":{\"id\":\"16871\",\"type\":\"ColumnDataSource\"},\"glyph\":{\"id\":\"16872\",\"type\":\"Step\"},\"hover_glyph\":null,\"muted_glyph\":null,\"nonselection_glyph\":{\"id\":\"16873\",\"type\":\"Step\"},\"selection_glyph\":null,\"view\":{\"id\":\"16875\",\"type\":\"CDSView\"}},\"id\":\"16874\",\"type\":\"GlyphRenderer\"},{\"attributes\":{\"months\":[0,2,4,6,8,10]},\"id\":\"17819\",\"type\":\"MonthsTicker\"},{\"attributes\":{\"source\":{\"id\":\"16871\",\"type\":\"ColumnDataSource\"}},\"id\":\"16875\",\"type\":\"CDSView\"},{\"attributes\":{},\"id\":\"16844\",\"type\":\"LinearScale\"},{\"attributes\":{\"months\":[0,4,8]},\"id\":\"17820\",\"type\":\"MonthsTicker\"},{\"attributes\":{\"callback\":null,\"data\":{\"x\":[1546300800000.0,1546300860000.0,1546300920000.0,1546300980000.0,1546301040000.0,1546301100000.0,1546301160000.0,1546301220000.0,1546301280000.0,1546301340000.0,1546301400000.0,1546301460000.0,1546301520000.0,1546301580000.0,1546301640000.0,1546301700000.0,1546301760000.0,1546301820000.0],\"y\":[10,10,10,10,10,10,10,10,10,10,20,20,20,20,20,10,10,1]},\"selected\":{\"id\":\"17826\",\"type\":\"Selection\"},\"selection_policy\":{\"id\":\"17825\",\"type\":\"UnionRenderers\"}},\"id\":\"16876\",\"type\":\"ColumnDataSource\"},{\"attributes\":{\"axis_label\":\"timestamp\",\"formatter\":{\"id\":\"17809\",\"type\":\"DatetimeTickFormatter\"},\"ticker\":{\"id\":\"16849\",\"type\":\"DatetimeTicker\"}},\"id\":\"16848\",\"type\":\"DatetimeAxis\"},{\"attributes\":{\"months\":[0,6]},\"id\":\"17821\",\"type\":\"MonthsTicker\"},{\"attributes\":{\"fill_color\":{\"value\":\"red\"},\"line_color\":{\"value\":\"#1f77b4\"},\"size\":{\"units\":\"screen\",\"value\":6},\"x\":{\"field\":\"x\"},\"y\":{\"field\":\"y\"}},\"id\":\"16877\",\"type\":\"Circle\"},{\"attributes\":{},\"id\":\"16846\",\"type\":\"LinearScale\"},{\"attributes\":{\"fill_alpha\":{\"value\":0.1},\"fill_color\":{\"value\":\"#1f77b4\"},\"line_alpha\":{\"value\":0.1},\"line_color\":{\"value\":\"#1f77b4\"},\"size\":{\"units\":\"screen\",\"value\":6},\"x\":{\"field\":\"x\"},\"y\":{\"field\":\"y\"}},\"id\":\"16878\",\"type\":\"Circle\"},{\"attributes\":{},\"id\":\"17822\",\"type\":\"YearsTicker\"}],\"root_ids\":[\"16837\"]},\"title\":\"Bokeh Application\",\"version\":\"1.2.0\"}};\n",
       "  var render_items = [{\"docid\":\"af8d200a-cda9-45c0-9ce6-2d07f360daee\",\"roots\":{\"16837\":\"2bf5e706-91b9-4f01-b9e7-cb0ffd5cd6ed\"}}];\n",
       "  root.Bokeh.embed.embed_items_notebook(docs_json, render_items);\n",
       "\n",
       "  }\n",
       "  if (root.Bokeh !== undefined) {\n",
       "    embed_document(root);\n",
       "  } else {\n",
       "    var attempts = 0;\n",
       "    var timer = setInterval(function(root) {\n",
       "      if (root.Bokeh !== undefined) {\n",
       "        embed_document(root);\n",
       "        clearInterval(timer);\n",
       "      }\n",
       "      attempts++;\n",
       "      if (attempts > 100) {\n",
       "        console.log(\"Bokeh: ERROR: Unable to run BokehJS code because BokehJS library is missing\");\n",
       "        clearInterval(timer);\n",
       "      }\n",
       "    }, 10, root)\n",
       "  }\n",
       "})(window);"
      ],
      "application/vnd.bokehjs_exec.v0+json": ""
     },
     "metadata": {
      "application/vnd.bokehjs_exec.v0+json": {
       "id": "16837"
      }
     },
     "output_type": "display_data"
    }
   ],
   "source": [
    "# Go back to Evenly Spaced timeseries\n",
    "from datetime import timedelta\n",
    "onemin = timedelta(minutes=1)\n",
    "evenly_ts = ts.sample(freq=onemin)\n",
    "plot(evenly_ts)"
   ]
  },
  {
   "cell_type": "code",
   "execution_count": 30,
   "metadata": {},
   "outputs": [
    {
     "data": {
      "text/html": [
       "\n",
       "\n",
       "\n",
       "\n",
       "\n",
       "\n",
       "  <div class=\"bk-root\" id=\"12db1d34-83c5-4570-8eb2-e28da6853701\" data-root-id=\"17959\"></div>\n"
      ]
     },
     "metadata": {},
     "output_type": "display_data"
    },
    {
     "data": {
      "application/javascript": [
       "(function(root) {\n",
       "  function embed_document(root) {\n",
       "    \n",
       "  var docs_json = {\"9aad1108-78f4-4d89-a20d-46466187aa98\":{\"roots\":{\"references\":[{\"attributes\":{\"below\":[{\"id\":\"17970\",\"type\":\"DatetimeAxis\"}],\"center\":[{\"id\":\"17974\",\"type\":\"Grid\"},{\"id\":\"17979\",\"type\":\"Grid\"}],\"left\":[{\"id\":\"17975\",\"type\":\"LinearAxis\"}],\"plot_height\":220,\"plot_width\":400,\"renderers\":[{\"id\":\"17996\",\"type\":\"GlyphRenderer\"},{\"id\":\"18001\",\"type\":\"GlyphRenderer\"}],\"title\":{\"id\":\"17960\",\"type\":\"Title\"},\"toolbar\":{\"id\":\"17986\",\"type\":\"Toolbar\"},\"x_range\":{\"id\":\"17962\",\"type\":\"Range1d\"},\"x_scale\":{\"id\":\"17966\",\"type\":\"LinearScale\"},\"y_range\":{\"id\":\"17964\",\"type\":\"Range1d\"},\"y_scale\":{\"id\":\"17968\",\"type\":\"LinearScale\"}},\"id\":\"17959\",\"subtype\":\"Figure\",\"type\":\"Plot\"},{\"attributes\":{\"line_color\":{\"value\":\"#1f77b4\"},\"line_dash\":[4,4],\"line_width\":{\"value\":2},\"mode\":\"after\",\"x\":{\"field\":\"x\"},\"y\":{\"field\":\"y\"}},\"id\":\"17994\",\"type\":\"Step\"},{\"attributes\":{\"base\":24,\"mantissas\":[1,2,4,6,8,12],\"max_interval\":43200000.0,\"min_interval\":3600000.0,\"num_minor_ticks\":0},\"id\":\"18957\",\"type\":\"AdaptiveTicker\"},{\"attributes\":{\"line_alpha\":{\"value\":0.1},\"line_color\":{\"value\":\"#1f77b4\"},\"line_dash\":[4,4],\"line_width\":{\"value\":2},\"mode\":\"after\",\"x\":{\"field\":\"x\"},\"y\":{\"field\":\"y\"}},\"id\":\"17995\",\"type\":\"Step\"},{\"attributes\":{\"callback\":null,\"end\":1546302000000,\"start\":1546300620000},\"id\":\"17962\",\"type\":\"Range1d\"},{\"attributes\":{\"days\":[1,2,3,4,5,6,7,8,9,10,11,12,13,14,15,16,17,18,19,20,21,22,23,24,25,26,27,28,29,30,31]},\"id\":\"18958\",\"type\":\"DaysTicker\"},{\"attributes\":{\"days\":[1,4,7,10,13,16,19,22,25,28]},\"id\":\"18959\",\"type\":\"DaysTicker\"},{\"attributes\":{\"dimension\":1,\"ticker\":{\"id\":\"17976\",\"type\":\"BasicTicker\"}},\"id\":\"17979\",\"type\":\"Grid\"},{\"attributes\":{\"days\":[1,8,15,22]},\"id\":\"18960\",\"type\":\"DaysTicker\"},{\"attributes\":{},\"id\":\"17976\",\"type\":\"BasicTicker\"},{\"attributes\":{\"months\":[0,1,2,3,4,5,6,7,8,9,10,11]},\"id\":\"18962\",\"type\":\"MonthsTicker\"},{\"attributes\":{\"axis_label\":\"IoT sensor\",\"formatter\":{\"id\":\"18951\",\"type\":\"BasicTickFormatter\"},\"ticker\":{\"id\":\"17976\",\"type\":\"BasicTicker\"}},\"id\":\"17975\",\"type\":\"LinearAxis\"},{\"attributes\":{\"days\":[1,15]},\"id\":\"18961\",\"type\":\"DaysTicker\"},{\"attributes\":{},\"id\":\"17966\",\"type\":\"LinearScale\"},{\"attributes\":{\"months\":[0,2,4,6,8,10]},\"id\":\"18963\",\"type\":\"MonthsTicker\"},{\"attributes\":{\"text\":\"Unevenly Spaced\"},\"id\":\"17960\",\"type\":\"Title\"},{\"attributes\":{\"axis_label\":\"timestamp\",\"formatter\":{\"id\":\"18953\",\"type\":\"DatetimeTickFormatter\"},\"ticker\":{\"id\":\"17971\",\"type\":\"DatetimeTicker\"}},\"id\":\"17970\",\"type\":\"DatetimeAxis\"},{\"attributes\":{\"base\":60,\"mantissas\":[1,2,5,10,15,20,30],\"max_interval\":1800000.0,\"min_interval\":1000.0,\"num_minor_ticks\":0},\"id\":\"18956\",\"type\":\"AdaptiveTicker\"},{\"attributes\":{\"ticker\":{\"id\":\"17971\",\"type\":\"DatetimeTicker\"}},\"id\":\"17974\",\"type\":\"Grid\"},{\"attributes\":{\"callback\":null,\"data\":{\"x\":[1546300800000.0,1546301400000.0,1546301700000.0,1546301820000.0],\"y\":[10,20,10,1]},\"selected\":{\"id\":\"18968\",\"type\":\"Selection\"},\"selection_policy\":{\"id\":\"18967\",\"type\":\"UnionRenderers\"}},\"id\":\"17993\",\"type\":\"ColumnDataSource\"},{\"attributes\":{\"months\":[0,4,8]},\"id\":\"18964\",\"type\":\"MonthsTicker\"},{\"attributes\":{\"months\":[0,6]},\"id\":\"18965\",\"type\":\"MonthsTicker\"},{\"attributes\":{\"source\":{\"id\":\"17993\",\"type\":\"ColumnDataSource\"}},\"id\":\"17997\",\"type\":\"CDSView\"},{\"attributes\":{},\"id\":\"18966\",\"type\":\"YearsTicker\"},{\"attributes\":{\"data_source\":{\"id\":\"17993\",\"type\":\"ColumnDataSource\"},\"glyph\":{\"id\":\"17994\",\"type\":\"Step\"},\"hover_glyph\":null,\"muted_glyph\":null,\"nonselection_glyph\":{\"id\":\"17995\",\"type\":\"Step\"},\"selection_glyph\":null,\"view\":{\"id\":\"17997\",\"type\":\"CDSView\"}},\"id\":\"17996\",\"type\":\"GlyphRenderer\"},{\"attributes\":{\"callback\":null,\"data\":{\"x\":[1546300800000.0,1546301400000.0,1546301700000.0,1546301820000.0],\"y\":[10,20,10,1]},\"selected\":{\"id\":\"18970\",\"type\":\"Selection\"},\"selection_policy\":{\"id\":\"18969\",\"type\":\"UnionRenderers\"}},\"id\":\"17998\",\"type\":\"ColumnDataSource\"},{\"attributes\":{\"mantissas\":[1,2,5],\"max_interval\":500.0,\"num_minor_ticks\":0},\"id\":\"18955\",\"type\":\"AdaptiveTicker\"},{\"attributes\":{},\"id\":\"18967\",\"type\":\"UnionRenderers\"},{\"attributes\":{},\"id\":\"17968\",\"type\":\"LinearScale\"},{\"attributes\":{\"source\":{\"id\":\"17998\",\"type\":\"ColumnDataSource\"}},\"id\":\"18002\",\"type\":\"CDSView\"},{\"attributes\":{\"num_minor_ticks\":5,\"tickers\":[{\"id\":\"18955\",\"type\":\"AdaptiveTicker\"},{\"id\":\"18956\",\"type\":\"AdaptiveTicker\"},{\"id\":\"18957\",\"type\":\"AdaptiveTicker\"},{\"id\":\"18958\",\"type\":\"DaysTicker\"},{\"id\":\"18959\",\"type\":\"DaysTicker\"},{\"id\":\"18960\",\"type\":\"DaysTicker\"},{\"id\":\"18961\",\"type\":\"DaysTicker\"},{\"id\":\"18962\",\"type\":\"MonthsTicker\"},{\"id\":\"18963\",\"type\":\"MonthsTicker\"},{\"id\":\"18964\",\"type\":\"MonthsTicker\"},{\"id\":\"18965\",\"type\":\"MonthsTicker\"},{\"id\":\"18966\",\"type\":\"YearsTicker\"}]},\"id\":\"17971\",\"type\":\"DatetimeTicker\"},{\"attributes\":{},\"id\":\"18968\",\"type\":\"Selection\"},{\"attributes\":{\"data_source\":{\"id\":\"17998\",\"type\":\"ColumnDataSource\"},\"glyph\":{\"id\":\"17999\",\"type\":\"Circle\"},\"hover_glyph\":null,\"muted_glyph\":null,\"nonselection_glyph\":{\"id\":\"18000\",\"type\":\"Circle\"},\"selection_glyph\":null,\"view\":{\"id\":\"18002\",\"type\":\"CDSView\"}},\"id\":\"18001\",\"type\":\"GlyphRenderer\"},{\"attributes\":{},\"id\":\"18969\",\"type\":\"UnionRenderers\"},{\"attributes\":{},\"id\":\"17985\",\"type\":\"HelpTool\"},{\"attributes\":{},\"id\":\"18970\",\"type\":\"Selection\"},{\"attributes\":{\"fill_alpha\":{\"value\":0.1},\"fill_color\":{\"value\":\"#1f77b4\"},\"line_alpha\":{\"value\":0.1},\"line_color\":{\"value\":\"#1f77b4\"},\"size\":{\"units\":\"screen\",\"value\":6},\"x\":{\"field\":\"x\"},\"y\":{\"field\":\"y\"}},\"id\":\"18000\",\"type\":\"Circle\"},{\"attributes\":{},\"id\":\"17983\",\"type\":\"SaveTool\"},{\"attributes\":{\"fill_color\":{\"value\":\"red\"},\"line_color\":{\"value\":\"#1f77b4\"},\"size\":{\"units\":\"screen\",\"value\":6},\"x\":{\"field\":\"x\"},\"y\":{\"field\":\"y\"}},\"id\":\"17999\",\"type\":\"Circle\"},{\"attributes\":{},\"id\":\"17984\",\"type\":\"ResetTool\"},{\"attributes\":{\"callback\":null,\"end\":30,\"start\":-5},\"id\":\"17964\",\"type\":\"Range1d\"},{\"attributes\":{},\"id\":\"18951\",\"type\":\"BasicTickFormatter\"},{\"attributes\":{\"overlay\":{\"id\":\"18954\",\"type\":\"BoxAnnotation\"}},\"id\":\"17982\",\"type\":\"BoxZoomTool\"},{\"attributes\":{\"bottom_units\":\"screen\",\"fill_alpha\":{\"value\":0.5},\"fill_color\":{\"value\":\"lightgrey\"},\"left_units\":\"screen\",\"level\":\"overlay\",\"line_alpha\":{\"value\":1.0},\"line_color\":{\"value\":\"black\"},\"line_dash\":[4,4],\"line_width\":{\"value\":2},\"render_mode\":\"css\",\"right_units\":\"screen\",\"top_units\":\"screen\"},\"id\":\"18954\",\"type\":\"BoxAnnotation\"},{\"attributes\":{},\"id\":\"17981\",\"type\":\"WheelZoomTool\"},{\"attributes\":{},\"id\":\"18953\",\"type\":\"DatetimeTickFormatter\"},{\"attributes\":{},\"id\":\"17980\",\"type\":\"PanTool\"},{\"attributes\":{\"active_drag\":\"auto\",\"active_inspect\":\"auto\",\"active_multi\":null,\"active_scroll\":\"auto\",\"active_tap\":\"auto\",\"tools\":[{\"id\":\"17980\",\"type\":\"PanTool\"},{\"id\":\"17981\",\"type\":\"WheelZoomTool\"},{\"id\":\"17982\",\"type\":\"BoxZoomTool\"},{\"id\":\"17983\",\"type\":\"SaveTool\"},{\"id\":\"17984\",\"type\":\"ResetTool\"},{\"id\":\"17985\",\"type\":\"HelpTool\"}]},\"id\":\"17986\",\"type\":\"Toolbar\"}],\"root_ids\":[\"17959\"]},\"title\":\"Bokeh Application\",\"version\":\"1.2.0\"}};\n",
       "  var render_items = [{\"docid\":\"9aad1108-78f4-4d89-a20d-46466187aa98\",\"roots\":{\"17959\":\"12db1d34-83c5-4570-8eb2-e28da6853701\"}}];\n",
       "  root.Bokeh.embed.embed_items_notebook(docs_json, render_items);\n",
       "\n",
       "  }\n",
       "  if (root.Bokeh !== undefined) {\n",
       "    embed_document(root);\n",
       "  } else {\n",
       "    var attempts = 0;\n",
       "    var timer = setInterval(function(root) {\n",
       "      if (root.Bokeh !== undefined) {\n",
       "        embed_document(root);\n",
       "        clearInterval(timer);\n",
       "      }\n",
       "      attempts++;\n",
       "      if (attempts > 100) {\n",
       "        console.log(\"Bokeh: ERROR: Unable to run BokehJS code because BokehJS library is missing\");\n",
       "        clearInterval(timer);\n",
       "      }\n",
       "    }, 10, root)\n",
       "  }\n",
       "})(window);"
      ],
      "application/vnd.bokehjs_exec.v0+json": ""
     },
     "metadata": {
      "application/vnd.bokehjs_exec.v0+json": {
       "id": "17959"
      }
     },
     "output_type": "display_data"
    }
   ],
   "source": [
    "# Compact\n",
    "plot(evenly_ts.compact())"
   ]
  },
  {
   "cell_type": "code",
   "execution_count": 31,
   "metadata": {},
   "outputs": [
    {
     "data": {
      "text/html": [
       "<div>\n",
       "<style scoped>\n",
       "    .dataframe tbody tr th:only-of-type {\n",
       "        vertical-align: middle;\n",
       "    }\n",
       "\n",
       "    .dataframe tbody tr th {\n",
       "        vertical-align: top;\n",
       "    }\n",
       "\n",
       "    .dataframe thead th {\n",
       "        text-align: right;\n",
       "    }\n",
       "</style>\n",
       "<table border=\"1\" class=\"dataframe\">\n",
       "  <thead>\n",
       "    <tr style=\"text-align: right;\">\n",
       "      <th></th>\n",
       "      <th>value</th>\n",
       "    </tr>\n",
       "  </thead>\n",
       "  <tbody>\n",
       "    <tr>\n",
       "      <th>2019-01-01 00:00:00+00:00</th>\n",
       "      <td>10</td>\n",
       "    </tr>\n",
       "    <tr>\n",
       "      <th>2019-01-01 00:10:00+00:00</th>\n",
       "      <td>20</td>\n",
       "    </tr>\n",
       "    <tr>\n",
       "      <th>2019-01-01 00:15:00+00:00</th>\n",
       "      <td>10</td>\n",
       "    </tr>\n",
       "    <tr>\n",
       "      <th>2019-01-01 00:17:00+00:00</th>\n",
       "      <td>1</td>\n",
       "    </tr>\n",
       "  </tbody>\n",
       "</table>\n",
       "</div>"
      ],
      "text/plain": [
       "                           value\n",
       "2019-01-01 00:00:00+00:00     10\n",
       "2019-01-01 00:10:00+00:00     20\n",
       "2019-01-01 00:15:00+00:00     10\n",
       "2019-01-01 00:17:00+00:00      1"
      ]
     },
     "execution_count": 31,
     "metadata": {},
     "output_type": "execute_result"
    }
   ],
   "source": [
    "# if you got pandas installed\n",
    "ts.to_dataframe()"
   ]
  }
 ],
 "metadata": {
  "kernelspec": {
   "display_name": "Python 3",
   "language": "python",
   "name": "python3"
  },
  "language_info": {
   "codemirror_mode": {
    "name": "ipython",
    "version": 3
   },
   "file_extension": ".py",
   "mimetype": "text/x-python",
   "name": "python",
   "nbconvert_exporter": "python",
   "pygments_lexer": "ipython3",
   "version": "3.6.8"
  }
 },
 "nbformat": 4,
 "nbformat_minor": 2
}
