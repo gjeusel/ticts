{
 "cells": [
  {
   "cell_type": "markdown",
   "metadata": {},
   "source": [
    "# Tutorial - Overview of TicTs\n",
    "\n",
    "---\n",
    "\n",
    "## Design\n",
    "\n",
    "TimeSeries object is inheriting from [Sorted Dict](http://www.grantjenks.com/docs/sortedcontainers/sorteddict.html) of *sortedcontainers* python library to ensure good performances and ease of use.\n",
    "\n",
    "- designed to **feel like** manipulating a **pandas.Series** in the unevenly-spaced timeseries world.\n",
    "- time intervals are considered **left closed** and **right open**.\n",
    "- ensure timezone localization.\n",
    "\n",
    "Let's see the potential !"
   ]
  },
  {
   "cell_type": "code",
   "execution_count": 1,
   "metadata": {},
   "outputs": [
    {
     "data": {
      "text/html": [
       "\n",
       "    <div class=\"bk-root\">\n",
       "        <a href=\"https://bokeh.pydata.org\" target=\"_blank\" class=\"bk-logo bk-logo-small bk-logo-notebook\"></a>\n",
       "        <span id=\"1001\">Loading BokehJS ...</span>\n",
       "    </div>"
      ]
     },
     "metadata": {},
     "output_type": "display_data"
    },
    {
     "data": {
      "application/javascript": [
       "\n",
       "(function(root) {\n",
       "  function now() {\n",
       "    return new Date();\n",
       "  }\n",
       "\n",
       "  var force = true;\n",
       "\n",
       "  if (typeof root._bokeh_onload_callbacks === \"undefined\" || force === true) {\n",
       "    root._bokeh_onload_callbacks = [];\n",
       "    root._bokeh_is_loading = undefined;\n",
       "  }\n",
       "\n",
       "  var JS_MIME_TYPE = 'application/javascript';\n",
       "  var HTML_MIME_TYPE = 'text/html';\n",
       "  var EXEC_MIME_TYPE = 'application/vnd.bokehjs_exec.v0+json';\n",
       "  var CLASS_NAME = 'output_bokeh rendered_html';\n",
       "\n",
       "  /**\n",
       "   * Render data to the DOM node\n",
       "   */\n",
       "  function render(props, node) {\n",
       "    var script = document.createElement(\"script\");\n",
       "    node.appendChild(script);\n",
       "  }\n",
       "\n",
       "  /**\n",
       "   * Handle when an output is cleared or removed\n",
       "   */\n",
       "  function handleClearOutput(event, handle) {\n",
       "    var cell = handle.cell;\n",
       "\n",
       "    var id = cell.output_area._bokeh_element_id;\n",
       "    var server_id = cell.output_area._bokeh_server_id;\n",
       "    // Clean up Bokeh references\n",
       "    if (id != null && id in Bokeh.index) {\n",
       "      Bokeh.index[id].model.document.clear();\n",
       "      delete Bokeh.index[id];\n",
       "    }\n",
       "\n",
       "    if (server_id !== undefined) {\n",
       "      // Clean up Bokeh references\n",
       "      var cmd = \"from bokeh.io.state import curstate; print(curstate().uuid_to_server['\" + server_id + \"'].get_sessions()[0].document.roots[0]._id)\";\n",
       "      cell.notebook.kernel.execute(cmd, {\n",
       "        iopub: {\n",
       "          output: function(msg) {\n",
       "            var id = msg.content.text.trim();\n",
       "            if (id in Bokeh.index) {\n",
       "              Bokeh.index[id].model.document.clear();\n",
       "              delete Bokeh.index[id];\n",
       "            }\n",
       "          }\n",
       "        }\n",
       "      });\n",
       "      // Destroy server and session\n",
       "      var cmd = \"import bokeh.io.notebook as ion; ion.destroy_server('\" + server_id + \"')\";\n",
       "      cell.notebook.kernel.execute(cmd);\n",
       "    }\n",
       "  }\n",
       "\n",
       "  /**\n",
       "   * Handle when a new output is added\n",
       "   */\n",
       "  function handleAddOutput(event, handle) {\n",
       "    var output_area = handle.output_area;\n",
       "    var output = handle.output;\n",
       "\n",
       "    // limit handleAddOutput to display_data with EXEC_MIME_TYPE content only\n",
       "    if ((output.output_type != \"display_data\") || (!output.data.hasOwnProperty(EXEC_MIME_TYPE))) {\n",
       "      return\n",
       "    }\n",
       "\n",
       "    var toinsert = output_area.element.find(\".\" + CLASS_NAME.split(' ')[0]);\n",
       "\n",
       "    if (output.metadata[EXEC_MIME_TYPE][\"id\"] !== undefined) {\n",
       "      toinsert[toinsert.length - 1].firstChild.textContent = output.data[JS_MIME_TYPE];\n",
       "      // store reference to embed id on output_area\n",
       "      output_area._bokeh_element_id = output.metadata[EXEC_MIME_TYPE][\"id\"];\n",
       "    }\n",
       "    if (output.metadata[EXEC_MIME_TYPE][\"server_id\"] !== undefined) {\n",
       "      var bk_div = document.createElement(\"div\");\n",
       "      bk_div.innerHTML = output.data[HTML_MIME_TYPE];\n",
       "      var script_attrs = bk_div.children[0].attributes;\n",
       "      for (var i = 0; i < script_attrs.length; i++) {\n",
       "        toinsert[toinsert.length - 1].firstChild.setAttribute(script_attrs[i].name, script_attrs[i].value);\n",
       "      }\n",
       "      // store reference to server id on output_area\n",
       "      output_area._bokeh_server_id = output.metadata[EXEC_MIME_TYPE][\"server_id\"];\n",
       "    }\n",
       "  }\n",
       "\n",
       "  function register_renderer(events, OutputArea) {\n",
       "\n",
       "    function append_mime(data, metadata, element) {\n",
       "      // create a DOM node to render to\n",
       "      var toinsert = this.create_output_subarea(\n",
       "        metadata,\n",
       "        CLASS_NAME,\n",
       "        EXEC_MIME_TYPE\n",
       "      );\n",
       "      this.keyboard_manager.register_events(toinsert);\n",
       "      // Render to node\n",
       "      var props = {data: data, metadata: metadata[EXEC_MIME_TYPE]};\n",
       "      render(props, toinsert[toinsert.length - 1]);\n",
       "      element.append(toinsert);\n",
       "      return toinsert\n",
       "    }\n",
       "\n",
       "    /* Handle when an output is cleared or removed */\n",
       "    events.on('clear_output.CodeCell', handleClearOutput);\n",
       "    events.on('delete.Cell', handleClearOutput);\n",
       "\n",
       "    /* Handle when a new output is added */\n",
       "    events.on('output_added.OutputArea', handleAddOutput);\n",
       "\n",
       "    /**\n",
       "     * Register the mime type and append_mime function with output_area\n",
       "     */\n",
       "    OutputArea.prototype.register_mime_type(EXEC_MIME_TYPE, append_mime, {\n",
       "      /* Is output safe? */\n",
       "      safe: true,\n",
       "      /* Index of renderer in `output_area.display_order` */\n",
       "      index: 0\n",
       "    });\n",
       "  }\n",
       "\n",
       "  // register the mime type if in Jupyter Notebook environment and previously unregistered\n",
       "  if (root.Jupyter !== undefined) {\n",
       "    var events = require('base/js/events');\n",
       "    var OutputArea = require('notebook/js/outputarea').OutputArea;\n",
       "\n",
       "    if (OutputArea.prototype.mime_types().indexOf(EXEC_MIME_TYPE) == -1) {\n",
       "      register_renderer(events, OutputArea);\n",
       "    }\n",
       "  }\n",
       "\n",
       "  \n",
       "  if (typeof (root._bokeh_timeout) === \"undefined\" || force === true) {\n",
       "    root._bokeh_timeout = Date.now() + 5000;\n",
       "    root._bokeh_failed_load = false;\n",
       "  }\n",
       "\n",
       "  var NB_LOAD_WARNING = {'data': {'text/html':\n",
       "     \"<div style='background-color: #fdd'>\\n\"+\n",
       "     \"<p>\\n\"+\n",
       "     \"BokehJS does not appear to have successfully loaded. If loading BokehJS from CDN, this \\n\"+\n",
       "     \"may be due to a slow or bad network connection. Possible fixes:\\n\"+\n",
       "     \"</p>\\n\"+\n",
       "     \"<ul>\\n\"+\n",
       "     \"<li>re-rerun `output_notebook()` to attempt to load from CDN again, or</li>\\n\"+\n",
       "     \"<li>use INLINE resources instead, as so:</li>\\n\"+\n",
       "     \"</ul>\\n\"+\n",
       "     \"<code>\\n\"+\n",
       "     \"from bokeh.resources import INLINE\\n\"+\n",
       "     \"output_notebook(resources=INLINE)\\n\"+\n",
       "     \"</code>\\n\"+\n",
       "     \"</div>\"}};\n",
       "\n",
       "  function display_loaded() {\n",
       "    var el = document.getElementById(\"1001\");\n",
       "    if (el != null) {\n",
       "      el.textContent = \"BokehJS is loading...\";\n",
       "    }\n",
       "    if (root.Bokeh !== undefined) {\n",
       "      if (el != null) {\n",
       "        el.textContent = \"BokehJS \" + root.Bokeh.version + \" successfully loaded.\";\n",
       "      }\n",
       "    } else if (Date.now() < root._bokeh_timeout) {\n",
       "      setTimeout(display_loaded, 100)\n",
       "    }\n",
       "  }\n",
       "\n",
       "\n",
       "  function run_callbacks() {\n",
       "    try {\n",
       "      root._bokeh_onload_callbacks.forEach(function(callback) {\n",
       "        if (callback != null)\n",
       "          callback();\n",
       "      });\n",
       "    } finally {\n",
       "      delete root._bokeh_onload_callbacks\n",
       "    }\n",
       "    console.debug(\"Bokeh: all callbacks have finished\");\n",
       "  }\n",
       "\n",
       "  function load_libs(css_urls, js_urls, callback) {\n",
       "    if (css_urls == null) css_urls = [];\n",
       "    if (js_urls == null) js_urls = [];\n",
       "\n",
       "    root._bokeh_onload_callbacks.push(callback);\n",
       "    if (root._bokeh_is_loading > 0) {\n",
       "      console.debug(\"Bokeh: BokehJS is being loaded, scheduling callback at\", now());\n",
       "      return null;\n",
       "    }\n",
       "    if (js_urls == null || js_urls.length === 0) {\n",
       "      run_callbacks();\n",
       "      return null;\n",
       "    }\n",
       "    console.debug(\"Bokeh: BokehJS not loaded, scheduling load and callback at\", now());\n",
       "    root._bokeh_is_loading = css_urls.length + js_urls.length;\n",
       "\n",
       "    function on_load() {\n",
       "      root._bokeh_is_loading--;\n",
       "      if (root._bokeh_is_loading === 0) {\n",
       "        console.debug(\"Bokeh: all BokehJS libraries/stylesheets loaded\");\n",
       "        run_callbacks()\n",
       "      }\n",
       "    }\n",
       "\n",
       "    function on_error() {\n",
       "      console.error(\"failed to load \" + url);\n",
       "    }\n",
       "\n",
       "    for (var i = 0; i < css_urls.length; i++) {\n",
       "      var url = css_urls[i];\n",
       "      const element = document.createElement(\"link\");\n",
       "      element.onload = on_load;\n",
       "      element.onerror = on_error;\n",
       "      element.rel = \"stylesheet\";\n",
       "      element.type = \"text/css\";\n",
       "      element.href = url;\n",
       "      console.debug(\"Bokeh: injecting link tag for BokehJS stylesheet: \", url);\n",
       "      document.body.appendChild(element);\n",
       "    }\n",
       "\n",
       "    for (var i = 0; i < js_urls.length; i++) {\n",
       "      var url = js_urls[i];\n",
       "      var element = document.createElement('script');\n",
       "      element.onload = on_load;\n",
       "      element.onerror = on_error;\n",
       "      element.async = false;\n",
       "      element.src = url;\n",
       "      console.debug(\"Bokeh: injecting script tag for BokehJS library: \", url);\n",
       "      document.head.appendChild(element);\n",
       "    }\n",
       "  };var element = document.getElementById(\"1001\");\n",
       "  if (element == null) {\n",
       "    console.error(\"Bokeh: ERROR: autoload.js configured with elementid '1001' but no matching script tag was found. \")\n",
       "    return false;\n",
       "  }\n",
       "\n",
       "  function inject_raw_css(css) {\n",
       "    const element = document.createElement(\"style\");\n",
       "    element.appendChild(document.createTextNode(css));\n",
       "    document.body.appendChild(element);\n",
       "  }\n",
       "\n",
       "  var js_urls = [\"https://cdn.pydata.org/bokeh/release/bokeh-1.2.0.min.js\", \"https://cdn.pydata.org/bokeh/release/bokeh-widgets-1.2.0.min.js\", \"https://cdn.pydata.org/bokeh/release/bokeh-tables-1.2.0.min.js\", \"https://cdn.pydata.org/bokeh/release/bokeh-gl-1.2.0.min.js\"];\n",
       "  var css_urls = [\"https://cdn.pydata.org/bokeh/release/bokeh-1.2.0.min.css\", \"https://cdn.pydata.org/bokeh/release/bokeh-widgets-1.2.0.min.css\", \"https://cdn.pydata.org/bokeh/release/bokeh-tables-1.2.0.min.css\"];\n",
       "\n",
       "  var inline_js = [\n",
       "    function(Bokeh) {\n",
       "      Bokeh.set_log_level(\"info\");\n",
       "    },\n",
       "    \n",
       "    function(Bokeh) {\n",
       "      \n",
       "    },\n",
       "    function(Bokeh) {} // ensure no trailing comma for IE\n",
       "  ];\n",
       "\n",
       "  function run_inline_js() {\n",
       "    \n",
       "    if ((root.Bokeh !== undefined) || (force === true)) {\n",
       "      for (var i = 0; i < inline_js.length; i++) {\n",
       "        inline_js[i].call(root, root.Bokeh);\n",
       "      }if (force === true) {\n",
       "        display_loaded();\n",
       "      }} else if (Date.now() < root._bokeh_timeout) {\n",
       "      setTimeout(run_inline_js, 100);\n",
       "    } else if (!root._bokeh_failed_load) {\n",
       "      console.log(\"Bokeh: BokehJS failed to load within specified timeout.\");\n",
       "      root._bokeh_failed_load = true;\n",
       "    } else if (force !== true) {\n",
       "      var cell = $(document.getElementById(\"1001\")).parents('.cell').data().cell;\n",
       "      cell.output_area.append_execute_result(NB_LOAD_WARNING)\n",
       "    }\n",
       "\n",
       "  }\n",
       "\n",
       "  if (root._bokeh_is_loading === 0) {\n",
       "    console.debug(\"Bokeh: BokehJS loaded, going straight to plotting\");\n",
       "    run_inline_js();\n",
       "  } else {\n",
       "    load_libs(css_urls, js_urls, function() {\n",
       "      console.debug(\"Bokeh: BokehJS plotting callback run at\", now());\n",
       "      run_inline_js();\n",
       "    });\n",
       "  }\n",
       "}(window));"
      ],
      "application/vnd.bokehjs_load.v0+json": "\n(function(root) {\n  function now() {\n    return new Date();\n  }\n\n  var force = true;\n\n  if (typeof root._bokeh_onload_callbacks === \"undefined\" || force === true) {\n    root._bokeh_onload_callbacks = [];\n    root._bokeh_is_loading = undefined;\n  }\n\n  \n\n  \n  if (typeof (root._bokeh_timeout) === \"undefined\" || force === true) {\n    root._bokeh_timeout = Date.now() + 5000;\n    root._bokeh_failed_load = false;\n  }\n\n  var NB_LOAD_WARNING = {'data': {'text/html':\n     \"<div style='background-color: #fdd'>\\n\"+\n     \"<p>\\n\"+\n     \"BokehJS does not appear to have successfully loaded. If loading BokehJS from CDN, this \\n\"+\n     \"may be due to a slow or bad network connection. Possible fixes:\\n\"+\n     \"</p>\\n\"+\n     \"<ul>\\n\"+\n     \"<li>re-rerun `output_notebook()` to attempt to load from CDN again, or</li>\\n\"+\n     \"<li>use INLINE resources instead, as so:</li>\\n\"+\n     \"</ul>\\n\"+\n     \"<code>\\n\"+\n     \"from bokeh.resources import INLINE\\n\"+\n     \"output_notebook(resources=INLINE)\\n\"+\n     \"</code>\\n\"+\n     \"</div>\"}};\n\n  function display_loaded() {\n    var el = document.getElementById(\"1001\");\n    if (el != null) {\n      el.textContent = \"BokehJS is loading...\";\n    }\n    if (root.Bokeh !== undefined) {\n      if (el != null) {\n        el.textContent = \"BokehJS \" + root.Bokeh.version + \" successfully loaded.\";\n      }\n    } else if (Date.now() < root._bokeh_timeout) {\n      setTimeout(display_loaded, 100)\n    }\n  }\n\n\n  function run_callbacks() {\n    try {\n      root._bokeh_onload_callbacks.forEach(function(callback) {\n        if (callback != null)\n          callback();\n      });\n    } finally {\n      delete root._bokeh_onload_callbacks\n    }\n    console.debug(\"Bokeh: all callbacks have finished\");\n  }\n\n  function load_libs(css_urls, js_urls, callback) {\n    if (css_urls == null) css_urls = [];\n    if (js_urls == null) js_urls = [];\n\n    root._bokeh_onload_callbacks.push(callback);\n    if (root._bokeh_is_loading > 0) {\n      console.debug(\"Bokeh: BokehJS is being loaded, scheduling callback at\", now());\n      return null;\n    }\n    if (js_urls == null || js_urls.length === 0) {\n      run_callbacks();\n      return null;\n    }\n    console.debug(\"Bokeh: BokehJS not loaded, scheduling load and callback at\", now());\n    root._bokeh_is_loading = css_urls.length + js_urls.length;\n\n    function on_load() {\n      root._bokeh_is_loading--;\n      if (root._bokeh_is_loading === 0) {\n        console.debug(\"Bokeh: all BokehJS libraries/stylesheets loaded\");\n        run_callbacks()\n      }\n    }\n\n    function on_error() {\n      console.error(\"failed to load \" + url);\n    }\n\n    for (var i = 0; i < css_urls.length; i++) {\n      var url = css_urls[i];\n      const element = document.createElement(\"link\");\n      element.onload = on_load;\n      element.onerror = on_error;\n      element.rel = \"stylesheet\";\n      element.type = \"text/css\";\n      element.href = url;\n      console.debug(\"Bokeh: injecting link tag for BokehJS stylesheet: \", url);\n      document.body.appendChild(element);\n    }\n\n    for (var i = 0; i < js_urls.length; i++) {\n      var url = js_urls[i];\n      var element = document.createElement('script');\n      element.onload = on_load;\n      element.onerror = on_error;\n      element.async = false;\n      element.src = url;\n      console.debug(\"Bokeh: injecting script tag for BokehJS library: \", url);\n      document.head.appendChild(element);\n    }\n  };var element = document.getElementById(\"1001\");\n  if (element == null) {\n    console.error(\"Bokeh: ERROR: autoload.js configured with elementid '1001' but no matching script tag was found. \")\n    return false;\n  }\n\n  function inject_raw_css(css) {\n    const element = document.createElement(\"style\");\n    element.appendChild(document.createTextNode(css));\n    document.body.appendChild(element);\n  }\n\n  var js_urls = [\"https://cdn.pydata.org/bokeh/release/bokeh-1.2.0.min.js\", \"https://cdn.pydata.org/bokeh/release/bokeh-widgets-1.2.0.min.js\", \"https://cdn.pydata.org/bokeh/release/bokeh-tables-1.2.0.min.js\", \"https://cdn.pydata.org/bokeh/release/bokeh-gl-1.2.0.min.js\"];\n  var css_urls = [\"https://cdn.pydata.org/bokeh/release/bokeh-1.2.0.min.css\", \"https://cdn.pydata.org/bokeh/release/bokeh-widgets-1.2.0.min.css\", \"https://cdn.pydata.org/bokeh/release/bokeh-tables-1.2.0.min.css\"];\n\n  var inline_js = [\n    function(Bokeh) {\n      Bokeh.set_log_level(\"info\");\n    },\n    \n    function(Bokeh) {\n      \n    },\n    function(Bokeh) {} // ensure no trailing comma for IE\n  ];\n\n  function run_inline_js() {\n    \n    if ((root.Bokeh !== undefined) || (force === true)) {\n      for (var i = 0; i < inline_js.length; i++) {\n        inline_js[i].call(root, root.Bokeh);\n      }if (force === true) {\n        display_loaded();\n      }} else if (Date.now() < root._bokeh_timeout) {\n      setTimeout(run_inline_js, 100);\n    } else if (!root._bokeh_failed_load) {\n      console.log(\"Bokeh: BokehJS failed to load within specified timeout.\");\n      root._bokeh_failed_load = true;\n    } else if (force !== true) {\n      var cell = $(document.getElementById(\"1001\")).parents('.cell').data().cell;\n      cell.output_area.append_execute_result(NB_LOAD_WARNING)\n    }\n\n  }\n\n  if (root._bokeh_is_loading === 0) {\n    console.debug(\"Bokeh: BokehJS loaded, going straight to plotting\");\n    run_inline_js();\n  } else {\n    load_libs(css_urls, js_urls, function() {\n      console.debug(\"Bokeh: BokehJS plotting callback run at\", now());\n      run_inline_js();\n    });\n  }\n}(window));"
     },
     "metadata": {},
     "output_type": "display_data"
    }
   ],
   "source": [
    "# Plotting imports\n",
    "from bokeh.plotting import figure, show\n",
    "from bokeh.layouts import row\n",
    "from bokeh.io import output_notebook\n",
    "output_notebook()\n",
    "\n",
    "# Standard lib\n",
    "from copy import deepcopy\n",
    "\n",
    "from ticts import TimeSeries"
   ]
  },
  {
   "cell_type": "code",
   "execution_count": 98,
   "metadata": {},
   "outputs": [],
   "source": [
    "# Plot tools with bokeh\n",
    "import arrow\n",
    "X_RANGE = (arrow.get('2018-12-31 23:57:00').timestamp * 1000, arrow.get('2019-01-01 00:20:00').timestamp * 1000)\n",
    "Y_RANGE = (-5, 30)\n",
    "def get_figure(ts, title='Unevenly Spaced', x_range=X_RANGE, y_range=Y_RANGE):\n",
    "    p = figure(title=title, x_axis_type=\"datetime\",\n",
    "               x_axis_label=\"timestamp\", y_axis_label=\"IoT sensor\",\n",
    "               x_range=x_range, y_range=y_range,\n",
    "               plot_width=400, plot_height=250)\n",
    "    p.step(ts.keys(), ts.values(), line_width=2, line_dash=\"4 4\", mode=\"after\")\n",
    "    p.circle(ts.keys(), ts.values(), fill_color=\"red\", size=6)\n",
    "    return p\n",
    "\n",
    "def plot(ts):\n",
    "    show(get_figure(ts))\n",
    "    \n",
    "def plot_row(ts1, ts2, *args, x_range=X_RANGE, y_range=Y_RANGE):\n",
    "    figures = []\n",
    "    for i, ts in enumerate([ts1, ts2, *args]):\n",
    "        figure = get_figure(ts, title='ts{}'.format(i+1), x_range=x_range, y_range=y_range)\n",
    "        figures.append(figure)\n",
    "    show(row(figures))"
   ]
  },
  {
   "cell_type": "markdown",
   "metadata": {},
   "source": [
    "# Instanciation"
   ]
  },
  {
   "cell_type": "code",
   "execution_count": 99,
   "metadata": {},
   "outputs": [],
   "source": [
    "dct = {\n",
    "  '2019-01-01': 10,\n",
    "  '2019-01-01 00:10:00': 20,\n",
    "  '2019-01-01 00:15:00': 10,\n",
    "}\n",
    "ts = TimeSeries(dct)\n",
    "\n",
    "# Can set item like a dict:\n",
    "ts['2019-01-01 00:17:00'] = 1"
   ]
  },
  {
   "cell_type": "code",
   "execution_count": 100,
   "metadata": {},
   "outputs": [
    {
     "name": "stdout",
     "output_type": "stream",
     "text": [
      "<TimeSeries>\n",
      "2019-01-01T00:00:00+00:00: 10,\n",
      "2019-01-01T00:10:00+00:00: 20,\n",
      "2019-01-01T00:15:00+00:00: 10,\n",
      "2019-01-01T00:17:00+00:00: 1,\n"
     ]
    }
   ],
   "source": [
    "# Let's see it:\n",
    "print(ts)"
   ]
  },
  {
   "cell_type": "code",
   "execution_count": 101,
   "metadata": {},
   "outputs": [
    {
     "data": {
      "text/html": [
       "\n",
       "\n",
       "\n",
       "\n",
       "\n",
       "\n",
       "  <div class=\"bk-root\" id=\"e5d8e8e4-644f-4b4f-8001-ba438b9c31e2\" data-root-id=\"86382\"></div>\n"
      ]
     },
     "metadata": {},
     "output_type": "display_data"
    },
    {
     "data": {
      "application/javascript": [
       "(function(root) {\n",
       "  function embed_document(root) {\n",
       "    \n",
       "  var docs_json = {\"71a5c682-0117-4b90-95a3-3e68196f93d0\":{\"roots\":{\"references\":[{\"attributes\":{\"below\":[{\"id\":\"86393\",\"type\":\"DatetimeAxis\"}],\"center\":[{\"id\":\"86397\",\"type\":\"Grid\"},{\"id\":\"86402\",\"type\":\"Grid\"}],\"left\":[{\"id\":\"86398\",\"type\":\"LinearAxis\"}],\"plot_height\":250,\"plot_width\":400,\"renderers\":[{\"id\":\"86419\",\"type\":\"GlyphRenderer\"},{\"id\":\"86424\",\"type\":\"GlyphRenderer\"}],\"title\":{\"id\":\"86383\",\"type\":\"Title\"},\"toolbar\":{\"id\":\"86409\",\"type\":\"Toolbar\"},\"x_range\":{\"id\":\"86385\",\"type\":\"Range1d\"},\"x_scale\":{\"id\":\"86389\",\"type\":\"LinearScale\"},\"y_range\":{\"id\":\"86387\",\"type\":\"Range1d\"},\"y_scale\":{\"id\":\"86391\",\"type\":\"LinearScale\"}},\"id\":\"86382\",\"subtype\":\"Figure\",\"type\":\"Plot\"},{\"attributes\":{},\"id\":\"86391\",\"type\":\"LinearScale\"},{\"attributes\":{},\"id\":\"88960\",\"type\":\"DatetimeTickFormatter\"},{\"attributes\":{},\"id\":\"88975\",\"type\":\"Selection\"},{\"attributes\":{\"callback\":null,\"end\":1546302000000,\"start\":1546300620000},\"id\":\"86385\",\"type\":\"Range1d\"},{\"attributes\":{\"mantissas\":[1,2,5],\"max_interval\":500.0,\"num_minor_ticks\":0},\"id\":\"88961\",\"type\":\"AdaptiveTicker\"},{\"attributes\":{\"data_source\":{\"id\":\"86421\",\"type\":\"ColumnDataSource\"},\"glyph\":{\"id\":\"86422\",\"type\":\"Circle\"},\"hover_glyph\":null,\"muted_glyph\":null,\"nonselection_glyph\":{\"id\":\"86423\",\"type\":\"Circle\"},\"selection_glyph\":null,\"view\":{\"id\":\"86425\",\"type\":\"CDSView\"}},\"id\":\"86424\",\"type\":\"GlyphRenderer\"},{\"attributes\":{},\"id\":\"86389\",\"type\":\"LinearScale\"},{\"attributes\":{},\"id\":\"88976\",\"type\":\"UnionRenderers\"},{\"attributes\":{},\"id\":\"86399\",\"type\":\"BasicTicker\"},{\"attributes\":{\"bottom_units\":\"screen\",\"fill_alpha\":{\"value\":0.5},\"fill_color\":{\"value\":\"lightgrey\"},\"left_units\":\"screen\",\"level\":\"overlay\",\"line_alpha\":{\"value\":1.0},\"line_color\":{\"value\":\"black\"},\"line_dash\":[4,4],\"line_width\":{\"value\":2},\"render_mode\":\"css\",\"right_units\":\"screen\",\"top_units\":\"screen\"},\"id\":\"88977\",\"type\":\"BoxAnnotation\"},{\"attributes\":{\"dimension\":1,\"ticker\":{\"id\":\"86399\",\"type\":\"BasicTicker\"}},\"id\":\"86402\",\"type\":\"Grid\"},{\"attributes\":{\"source\":{\"id\":\"86421\",\"type\":\"ColumnDataSource\"}},\"id\":\"86425\",\"type\":\"CDSView\"},{\"attributes\":{\"fill_color\":{\"value\":\"red\"},\"line_color\":{\"value\":\"#1f77b4\"},\"size\":{\"units\":\"screen\",\"value\":6},\"x\":{\"field\":\"x\"},\"y\":{\"field\":\"y\"}},\"id\":\"86422\",\"type\":\"Circle\"},{\"attributes\":{\"base\":60,\"mantissas\":[1,2,5,10,15,20,30],\"max_interval\":1800000.0,\"min_interval\":1000.0,\"num_minor_ticks\":0},\"id\":\"88962\",\"type\":\"AdaptiveTicker\"},{\"attributes\":{\"fill_alpha\":{\"value\":0.1},\"fill_color\":{\"value\":\"#1f77b4\"},\"line_alpha\":{\"value\":0.1},\"line_color\":{\"value\":\"#1f77b4\"},\"size\":{\"units\":\"screen\",\"value\":6},\"x\":{\"field\":\"x\"},\"y\":{\"field\":\"y\"}},\"id\":\"86423\",\"type\":\"Circle\"},{\"attributes\":{\"ticker\":{\"id\":\"86394\",\"type\":\"DatetimeTicker\"}},\"id\":\"86397\",\"type\":\"Grid\"},{\"attributes\":{\"data_source\":{\"id\":\"86416\",\"type\":\"ColumnDataSource\"},\"glyph\":{\"id\":\"86417\",\"type\":\"Step\"},\"hover_glyph\":null,\"muted_glyph\":null,\"nonselection_glyph\":{\"id\":\"86418\",\"type\":\"Step\"},\"selection_glyph\":null,\"view\":{\"id\":\"86420\",\"type\":\"CDSView\"}},\"id\":\"86419\",\"type\":\"GlyphRenderer\"},{\"attributes\":{\"source\":{\"id\":\"86416\",\"type\":\"ColumnDataSource\"}},\"id\":\"86420\",\"type\":\"CDSView\"},{\"attributes\":{\"days\":[1,8,15,22]},\"id\":\"88966\",\"type\":\"DaysTicker\"},{\"attributes\":{\"days\":[1,15]},\"id\":\"88967\",\"type\":\"DaysTicker\"},{\"attributes\":{\"callback\":null,\"data\":{\"x\":[1546300800000.0,1546301400000.0,1546301700000.0,1546301820000.0],\"y\":[10,20,10,1]},\"selected\":{\"id\":\"88975\",\"type\":\"Selection\"},\"selection_policy\":{\"id\":\"88976\",\"type\":\"UnionRenderers\"}},\"id\":\"86421\",\"type\":\"ColumnDataSource\"},{\"attributes\":{\"callback\":null,\"data\":{\"x\":[1546300800000.0,1546301400000.0,1546301700000.0,1546301820000.0],\"y\":[10,20,10,1]},\"selected\":{\"id\":\"88973\",\"type\":\"Selection\"},\"selection_policy\":{\"id\":\"88974\",\"type\":\"UnionRenderers\"}},\"id\":\"86416\",\"type\":\"ColumnDataSource\"},{\"attributes\":{\"days\":[1,2,3,4,5,6,7,8,9,10,11,12,13,14,15,16,17,18,19,20,21,22,23,24,25,26,27,28,29,30,31]},\"id\":\"88964\",\"type\":\"DaysTicker\"},{\"attributes\":{\"axis_label\":\"IoT sensor\",\"formatter\":{\"id\":\"88958\",\"type\":\"BasicTickFormatter\"},\"ticker\":{\"id\":\"86399\",\"type\":\"BasicTicker\"}},\"id\":\"86398\",\"type\":\"LinearAxis\"},{\"attributes\":{\"days\":[1,4,7,10,13,16,19,22,25,28]},\"id\":\"88965\",\"type\":\"DaysTicker\"},{\"attributes\":{\"callback\":null,\"end\":30,\"start\":-5},\"id\":\"86387\",\"type\":\"Range1d\"},{\"attributes\":{},\"id\":\"86407\",\"type\":\"ResetTool\"},{\"attributes\":{\"base\":24,\"mantissas\":[1,2,4,6,8,12],\"max_interval\":43200000.0,\"min_interval\":3600000.0,\"num_minor_ticks\":0},\"id\":\"88963\",\"type\":\"AdaptiveTicker\"},{\"attributes\":{\"line_alpha\":{\"value\":0.1},\"line_color\":{\"value\":\"#1f77b4\"},\"line_dash\":[4,4],\"line_width\":{\"value\":2},\"mode\":\"after\",\"x\":{\"field\":\"x\"},\"y\":{\"field\":\"y\"}},\"id\":\"86418\",\"type\":\"Step\"},{\"attributes\":{\"text\":\"Unevenly Spaced\"},\"id\":\"86383\",\"type\":\"Title\"},{\"attributes\":{\"months\":[0,1,2,3,4,5,6,7,8,9,10,11]},\"id\":\"88968\",\"type\":\"MonthsTicker\"},{\"attributes\":{\"line_color\":{\"value\":\"#1f77b4\"},\"line_dash\":[4,4],\"line_width\":{\"value\":2},\"mode\":\"after\",\"x\":{\"field\":\"x\"},\"y\":{\"field\":\"y\"}},\"id\":\"86417\",\"type\":\"Step\"},{\"attributes\":{\"months\":[0,2,4,6,8,10]},\"id\":\"88969\",\"type\":\"MonthsTicker\"},{\"attributes\":{},\"id\":\"86404\",\"type\":\"WheelZoomTool\"},{\"attributes\":{\"months\":[0,4,8]},\"id\":\"88970\",\"type\":\"MonthsTicker\"},{\"attributes\":{},\"id\":\"86403\",\"type\":\"PanTool\"},{\"attributes\":{\"active_drag\":\"auto\",\"active_inspect\":\"auto\",\"active_multi\":null,\"active_scroll\":\"auto\",\"active_tap\":\"auto\",\"tools\":[{\"id\":\"86403\",\"type\":\"PanTool\"},{\"id\":\"86404\",\"type\":\"WheelZoomTool\"},{\"id\":\"86405\",\"type\":\"BoxZoomTool\"},{\"id\":\"86406\",\"type\":\"SaveTool\"},{\"id\":\"86407\",\"type\":\"ResetTool\"},{\"id\":\"86408\",\"type\":\"HelpTool\"}]},\"id\":\"86409\",\"type\":\"Toolbar\"},{\"attributes\":{\"axis_label\":\"timestamp\",\"formatter\":{\"id\":\"88960\",\"type\":\"DatetimeTickFormatter\"},\"ticker\":{\"id\":\"86394\",\"type\":\"DatetimeTicker\"}},\"id\":\"86393\",\"type\":\"DatetimeAxis\"},{\"attributes\":{\"months\":[0,6]},\"id\":\"88971\",\"type\":\"MonthsTicker\"},{\"attributes\":{\"overlay\":{\"id\":\"88977\",\"type\":\"BoxAnnotation\"}},\"id\":\"86405\",\"type\":\"BoxZoomTool\"},{\"attributes\":{},\"id\":\"88972\",\"type\":\"YearsTicker\"},{\"attributes\":{},\"id\":\"86406\",\"type\":\"SaveTool\"},{\"attributes\":{\"num_minor_ticks\":5,\"tickers\":[{\"id\":\"88961\",\"type\":\"AdaptiveTicker\"},{\"id\":\"88962\",\"type\":\"AdaptiveTicker\"},{\"id\":\"88963\",\"type\":\"AdaptiveTicker\"},{\"id\":\"88964\",\"type\":\"DaysTicker\"},{\"id\":\"88965\",\"type\":\"DaysTicker\"},{\"id\":\"88966\",\"type\":\"DaysTicker\"},{\"id\":\"88967\",\"type\":\"DaysTicker\"},{\"id\":\"88968\",\"type\":\"MonthsTicker\"},{\"id\":\"88969\",\"type\":\"MonthsTicker\"},{\"id\":\"88970\",\"type\":\"MonthsTicker\"},{\"id\":\"88971\",\"type\":\"MonthsTicker\"},{\"id\":\"88972\",\"type\":\"YearsTicker\"}]},\"id\":\"86394\",\"type\":\"DatetimeTicker\"},{\"attributes\":{},\"id\":\"88973\",\"type\":\"Selection\"},{\"attributes\":{},\"id\":\"86408\",\"type\":\"HelpTool\"},{\"attributes\":{},\"id\":\"88958\",\"type\":\"BasicTickFormatter\"},{\"attributes\":{},\"id\":\"88974\",\"type\":\"UnionRenderers\"}],\"root_ids\":[\"86382\"]},\"title\":\"Bokeh Application\",\"version\":\"1.2.0\"}};\n",
       "  var render_items = [{\"docid\":\"71a5c682-0117-4b90-95a3-3e68196f93d0\",\"roots\":{\"86382\":\"e5d8e8e4-644f-4b4f-8001-ba438b9c31e2\"}}];\n",
       "  root.Bokeh.embed.embed_items_notebook(docs_json, render_items);\n",
       "\n",
       "  }\n",
       "  if (root.Bokeh !== undefined) {\n",
       "    embed_document(root);\n",
       "  } else {\n",
       "    var attempts = 0;\n",
       "    var timer = setInterval(function(root) {\n",
       "      if (root.Bokeh !== undefined) {\n",
       "        embed_document(root);\n",
       "        clearInterval(timer);\n",
       "      }\n",
       "      attempts++;\n",
       "      if (attempts > 100) {\n",
       "        console.log(\"Bokeh: ERROR: Unable to run BokehJS code because BokehJS library is missing\");\n",
       "        clearInterval(timer);\n",
       "      }\n",
       "    }, 10, root)\n",
       "  }\n",
       "})(window);"
      ],
      "application/vnd.bokehjs_exec.v0+json": ""
     },
     "metadata": {
      "application/vnd.bokehjs_exec.v0+json": {
       "id": "86382"
      }
     },
     "output_type": "display_data"
    }
   ],
   "source": [
    "plot(ts)"
   ]
  },
  {
   "cell_type": "markdown",
   "metadata": {},
   "source": [
    "# Some rules\n",
    "\n",
    "- A value is applied from its timestamp, until the next one"
   ]
  },
  {
   "cell_type": "code",
   "execution_count": 102,
   "metadata": {},
   "outputs": [
    {
     "name": "stdout",
     "output_type": "stream",
     "text": [
      "At '2019-01-01 00:13:00' got 20\n"
     ]
    }
   ],
   "source": [
    "# Can access any timestamp, if the timestamp is not part of the keys, it will get the previous value\n",
    "dt = '2019-01-01 00:13:00'\n",
    "value = ts[dt]\n",
    "print(\"At '{}' got {}\".format(dt, value))"
   ]
  },
  {
   "cell_type": "code",
   "execution_count": 103,
   "metadata": {},
   "outputs": [
    {
     "name": "stdout",
     "output_type": "stream",
     "text": [
      "At '2060-12-30' got 1\n"
     ]
    }
   ],
   "source": [
    "# Above right bound\n",
    "dt = '2060-12-30'\n",
    "value = ts[dt]\n",
    "print(\"At '{}' got {}\".format(dt, value))"
   ]
  },
  {
   "cell_type": "code",
   "execution_count": 104,
   "metadata": {},
   "outputs": [
    {
     "name": "stdout",
     "output_type": "stream",
     "text": [
      "At '2018-12-30' got None\n"
     ]
    }
   ],
   "source": [
    "# Below left bound\n",
    "dt = '2018-12-30'\n",
    "value = ts[dt]\n",
    "print(\"At '{}' got {}\".format(dt, value))"
   ]
  },
  {
   "cell_type": "code",
   "execution_count": 105,
   "metadata": {},
   "outputs": [
    {
     "name": "stdout",
     "output_type": "stream",
     "text": [
      "At '2018-12-30' got 100\n",
      "At '2018-12-30' got 5\n"
     ]
    }
   ],
   "source": [
    "# This happen when no default is set, as there is no previous value !\n",
    "# Here is how to set your default:\n",
    "ts_withdefault = TimeSeries(ts, default=100)\n",
    "value = ts_withdefault[dt]\n",
    "print(\"At '{}' got {}\".format(dt, value))\n",
    "\n",
    "# or\n",
    "ts_withdefault.default=5\n",
    "value = ts_withdefault[dt]\n",
    "print(\"At '{}' got {}\".format(dt, value))"
   ]
  },
  {
   "cell_type": "markdown",
   "metadata": {},
   "source": [
    "## Operations\n",
    "\n",
    "- sum and rsum\n",
    "- sub\n",
    "- mul\n",
    "- div\n",
    "- le\n",
    "- lt\n",
    "- ge\n",
    "- gt\n",
    "- ceil\n",
    "- floor"
   ]
  },
  {
   "cell_type": "code",
   "execution_count": 106,
   "metadata": {},
   "outputs": [],
   "source": [
    "# Let's define another one\n",
    "ts2 = TimeSeries(default=0)\n",
    "ts2['2019-01-01 00:07:00'] = -1\n",
    "ts2['2019-01-01 00:10:00'] = 5\n",
    "ts2['2019-01-01 00:12:00'] = 14"
   ]
  },
  {
   "cell_type": "code",
   "execution_count": 109,
   "metadata": {},
   "outputs": [
    {
     "data": {
      "text/html": [
       "\n",
       "\n",
       "\n",
       "\n",
       "\n",
       "\n",
       "  <div class=\"bk-root\" id=\"27a40ae9-11da-4beb-b536-45d0e4591252\" data-root-id=\"101698\"></div>\n"
      ]
     },
     "metadata": {},
     "output_type": "display_data"
    },
    {
     "data": {
      "application/javascript": [
       "(function(root) {\n",
       "  function embed_document(root) {\n",
       "    \n",
       "  var docs_json = {\"f00dc1e5-594a-44f8-b353-23ee55680a80\":{\"roots\":{\"references\":[{\"attributes\":{\"children\":[{\"id\":\"101610\",\"subtype\":\"Figure\",\"type\":\"Plot\"},{\"id\":\"101654\",\"subtype\":\"Figure\",\"type\":\"Plot\"}]},\"id\":\"101698\",\"type\":\"Row\"},{\"attributes\":{\"ticker\":{\"id\":\"101622\",\"type\":\"DatetimeTicker\"}},\"id\":\"101625\",\"type\":\"Grid\"},{\"attributes\":{\"num_minor_ticks\":5,\"tickers\":[{\"id\":\"104481\",\"type\":\"AdaptiveTicker\"},{\"id\":\"104482\",\"type\":\"AdaptiveTicker\"},{\"id\":\"104483\",\"type\":\"AdaptiveTicker\"},{\"id\":\"104484\",\"type\":\"DaysTicker\"},{\"id\":\"104485\",\"type\":\"DaysTicker\"},{\"id\":\"104486\",\"type\":\"DaysTicker\"},{\"id\":\"104487\",\"type\":\"DaysTicker\"},{\"id\":\"104488\",\"type\":\"MonthsTicker\"},{\"id\":\"104489\",\"type\":\"MonthsTicker\"},{\"id\":\"104490\",\"type\":\"MonthsTicker\"},{\"id\":\"104491\",\"type\":\"MonthsTicker\"},{\"id\":\"104492\",\"type\":\"YearsTicker\"}]},\"id\":\"101622\",\"type\":\"DatetimeTicker\"},{\"attributes\":{\"line_alpha\":{\"value\":0.1},\"line_color\":{\"value\":\"#1f77b4\"},\"line_dash\":[4,4],\"line_width\":{\"value\":2},\"mode\":\"after\",\"x\":{\"field\":\"x\"},\"y\":{\"field\":\"y\"}},\"id\":\"101646\",\"type\":\"Step\"},{\"attributes\":{\"months\":[0,2,4,6,8,10]},\"id\":\"104506\",\"type\":\"MonthsTicker\"},{\"attributes\":{\"active_drag\":\"auto\",\"active_inspect\":\"auto\",\"active_multi\":null,\"active_scroll\":\"auto\",\"active_tap\":\"auto\",\"tools\":[{\"id\":\"101631\",\"type\":\"PanTool\"},{\"id\":\"101632\",\"type\":\"WheelZoomTool\"},{\"id\":\"101633\",\"type\":\"BoxZoomTool\"},{\"id\":\"101634\",\"type\":\"SaveTool\"},{\"id\":\"101635\",\"type\":\"ResetTool\"},{\"id\":\"101636\",\"type\":\"HelpTool\"}]},\"id\":\"101637\",\"type\":\"Toolbar\"},{\"attributes\":{},\"id\":\"101680\",\"type\":\"HelpTool\"},{\"attributes\":{\"days\":[1,8,15,22]},\"id\":\"104503\",\"type\":\"DaysTicker\"},{\"attributes\":{},\"id\":\"101631\",\"type\":\"PanTool\"},{\"attributes\":{\"days\":[1,15]},\"id\":\"104504\",\"type\":\"DaysTicker\"},{\"attributes\":{\"active_drag\":\"auto\",\"active_inspect\":\"auto\",\"active_multi\":null,\"active_scroll\":\"auto\",\"active_tap\":\"auto\",\"tools\":[{\"id\":\"101675\",\"type\":\"PanTool\"},{\"id\":\"101676\",\"type\":\"WheelZoomTool\"},{\"id\":\"101677\",\"type\":\"BoxZoomTool\"},{\"id\":\"101678\",\"type\":\"SaveTool\"},{\"id\":\"101679\",\"type\":\"ResetTool\"},{\"id\":\"101680\",\"type\":\"HelpTool\"}]},\"id\":\"101681\",\"type\":\"Toolbar\"},{\"attributes\":{},\"id\":\"101632\",\"type\":\"WheelZoomTool\"},{\"attributes\":{\"months\":[0,1,2,3,4,5,6,7,8,9,10,11]},\"id\":\"104505\",\"type\":\"MonthsTicker\"},{\"attributes\":{\"data_source\":{\"id\":\"101688\",\"type\":\"ColumnDataSource\"},\"glyph\":{\"id\":\"101689\",\"type\":\"Step\"},\"hover_glyph\":null,\"muted_glyph\":null,\"nonselection_glyph\":{\"id\":\"101690\",\"type\":\"Step\"},\"selection_glyph\":null,\"view\":{\"id\":\"101692\",\"type\":\"CDSView\"}},\"id\":\"101691\",\"type\":\"GlyphRenderer\"},{\"attributes\":{\"overlay\":{\"id\":\"104497\",\"type\":\"BoxAnnotation\"}},\"id\":\"101633\",\"type\":\"BoxZoomTool\"},{\"attributes\":{\"source\":{\"id\":\"101688\",\"type\":\"ColumnDataSource\"}},\"id\":\"101692\",\"type\":\"CDSView\"},{\"attributes\":{},\"id\":\"101634\",\"type\":\"SaveTool\"},{\"attributes\":{\"callback\":null,\"data\":{\"x\":[1546300800000.0,1546301400000.0,1546301700000.0,1546301820000.0],\"y\":[20,30,20,11]},\"selected\":{\"id\":\"104512\",\"type\":\"Selection\"},\"selection_policy\":{\"id\":\"104513\",\"type\":\"UnionRenderers\"}},\"id\":\"101693\",\"type\":\"ColumnDataSource\"},{\"attributes\":{},\"id\":\"101635\",\"type\":\"ResetTool\"},{\"attributes\":{\"months\":[0,4,8]},\"id\":\"104507\",\"type\":\"MonthsTicker\"},{\"attributes\":{\"fill_color\":{\"value\":\"red\"},\"line_color\":{\"value\":\"#1f77b4\"},\"size\":{\"units\":\"screen\",\"value\":6},\"x\":{\"field\":\"x\"},\"y\":{\"field\":\"y\"}},\"id\":\"101694\",\"type\":\"Circle\"},{\"attributes\":{},\"id\":\"101636\",\"type\":\"HelpTool\"},{\"attributes\":{\"fill_alpha\":{\"value\":0.1},\"fill_color\":{\"value\":\"#1f77b4\"},\"line_alpha\":{\"value\":0.1},\"line_color\":{\"value\":\"#1f77b4\"},\"size\":{\"units\":\"screen\",\"value\":6},\"x\":{\"field\":\"x\"},\"y\":{\"field\":\"y\"}},\"id\":\"101695\",\"type\":\"Circle\"},{\"attributes\":{\"callback\":null,\"data\":{\"x\":[1546300800000.0,1546301400000.0,1546301700000.0,1546301820000.0],\"y\":[10,20,10,1]},\"selected\":{\"id\":\"104493\",\"type\":\"Selection\"},\"selection_policy\":{\"id\":\"104494\",\"type\":\"UnionRenderers\"}},\"id\":\"101644\",\"type\":\"ColumnDataSource\"},{\"attributes\":{},\"id\":\"104510\",\"type\":\"Selection\"},{\"attributes\":{\"months\":[0,6]},\"id\":\"104508\",\"type\":\"MonthsTicker\"},{\"attributes\":{\"data_source\":{\"id\":\"101693\",\"type\":\"ColumnDataSource\"},\"glyph\":{\"id\":\"101694\",\"type\":\"Circle\"},\"hover_glyph\":null,\"muted_glyph\":null,\"nonselection_glyph\":{\"id\":\"101695\",\"type\":\"Circle\"},\"selection_glyph\":null,\"view\":{\"id\":\"101697\",\"type\":\"CDSView\"}},\"id\":\"101696\",\"type\":\"GlyphRenderer\"},{\"attributes\":{},\"id\":\"104509\",\"type\":\"YearsTicker\"},{\"attributes\":{\"data_source\":{\"id\":\"101644\",\"type\":\"ColumnDataSource\"},\"glyph\":{\"id\":\"101645\",\"type\":\"Step\"},\"hover_glyph\":null,\"muted_glyph\":null,\"nonselection_glyph\":{\"id\":\"101646\",\"type\":\"Step\"},\"selection_glyph\":null,\"view\":{\"id\":\"101648\",\"type\":\"CDSView\"}},\"id\":\"101647\",\"type\":\"GlyphRenderer\"},{\"attributes\":{\"source\":{\"id\":\"101693\",\"type\":\"ColumnDataSource\"}},\"id\":\"101697\",\"type\":\"CDSView\"},{\"attributes\":{},\"id\":\"104512\",\"type\":\"Selection\"},{\"attributes\":{\"source\":{\"id\":\"101644\",\"type\":\"ColumnDataSource\"}},\"id\":\"101648\",\"type\":\"CDSView\"},{\"attributes\":{\"callback\":null,\"data\":{\"x\":[1546300800000.0,1546301400000.0,1546301700000.0,1546301820000.0],\"y\":[10,20,10,1]},\"selected\":{\"id\":\"104495\",\"type\":\"Selection\"},\"selection_policy\":{\"id\":\"104496\",\"type\":\"UnionRenderers\"}},\"id\":\"101649\",\"type\":\"ColumnDataSource\"},{\"attributes\":{},\"id\":\"104511\",\"type\":\"UnionRenderers\"},{\"attributes\":{},\"id\":\"104474\",\"type\":\"BasicTickFormatter\"},{\"attributes\":{},\"id\":\"104478\",\"type\":\"BasicTickFormatter\"},{\"attributes\":{\"bottom_units\":\"screen\",\"fill_alpha\":{\"value\":0.5},\"fill_color\":{\"value\":\"lightgrey\"},\"left_units\":\"screen\",\"level\":\"overlay\",\"line_alpha\":{\"value\":1.0},\"line_color\":{\"value\":\"black\"},\"line_dash\":[4,4],\"line_width\":{\"value\":2},\"render_mode\":\"css\",\"right_units\":\"screen\",\"top_units\":\"screen\"},\"id\":\"104514\",\"type\":\"BoxAnnotation\"},{\"attributes\":{\"fill_color\":{\"value\":\"red\"},\"line_color\":{\"value\":\"#1f77b4\"},\"size\":{\"units\":\"screen\",\"value\":6},\"x\":{\"field\":\"x\"},\"y\":{\"field\":\"y\"}},\"id\":\"101650\",\"type\":\"Circle\"},{\"attributes\":{},\"id\":\"104480\",\"type\":\"DatetimeTickFormatter\"},{\"attributes\":{},\"id\":\"104513\",\"type\":\"UnionRenderers\"},{\"attributes\":{\"fill_alpha\":{\"value\":0.1},\"fill_color\":{\"value\":\"#1f77b4\"},\"line_alpha\":{\"value\":0.1},\"line_color\":{\"value\":\"#1f77b4\"},\"size\":{\"units\":\"screen\",\"value\":6},\"x\":{\"field\":\"x\"},\"y\":{\"field\":\"y\"}},\"id\":\"101651\",\"type\":\"Circle\"},{\"attributes\":{\"mantissas\":[1,2,5],\"max_interval\":500.0,\"num_minor_ticks\":0},\"id\":\"104481\",\"type\":\"AdaptiveTicker\"},{\"attributes\":{},\"id\":\"104476\",\"type\":\"DatetimeTickFormatter\"},{\"attributes\":{\"data_source\":{\"id\":\"101649\",\"type\":\"ColumnDataSource\"},\"glyph\":{\"id\":\"101650\",\"type\":\"Circle\"},\"hover_glyph\":null,\"muted_glyph\":null,\"nonselection_glyph\":{\"id\":\"101651\",\"type\":\"Circle\"},\"selection_glyph\":null,\"view\":{\"id\":\"101653\",\"type\":\"CDSView\"}},\"id\":\"101652\",\"type\":\"GlyphRenderer\"},{\"attributes\":{\"line_color\":{\"value\":\"#1f77b4\"},\"line_dash\":[4,4],\"line_width\":{\"value\":2},\"mode\":\"after\",\"x\":{\"field\":\"x\"},\"y\":{\"field\":\"y\"}},\"id\":\"101645\",\"type\":\"Step\"},{\"attributes\":{\"base\":60,\"mantissas\":[1,2,5,10,15,20,30],\"max_interval\":1800000.0,\"min_interval\":1000.0,\"num_minor_ticks\":0},\"id\":\"104482\",\"type\":\"AdaptiveTicker\"},{\"attributes\":{\"source\":{\"id\":\"101649\",\"type\":\"ColumnDataSource\"}},\"id\":\"101653\",\"type\":\"CDSView\"},{\"attributes\":{\"base\":24,\"mantissas\":[1,2,4,6,8,12],\"max_interval\":43200000.0,\"min_interval\":3600000.0,\"num_minor_ticks\":0},\"id\":\"104483\",\"type\":\"AdaptiveTicker\"},{\"attributes\":{\"days\":[1,2,3,4,5,6,7,8,9,10,11,12,13,14,15,16,17,18,19,20,21,22,23,24,25,26,27,28,29,30,31]},\"id\":\"104484\",\"type\":\"DaysTicker\"},{\"attributes\":{\"below\":[{\"id\":\"101665\",\"type\":\"DatetimeAxis\"}],\"center\":[{\"id\":\"101669\",\"type\":\"Grid\"},{\"id\":\"101674\",\"type\":\"Grid\"}],\"left\":[{\"id\":\"101670\",\"type\":\"LinearAxis\"}],\"plot_height\":250,\"plot_width\":400,\"renderers\":[{\"id\":\"101691\",\"type\":\"GlyphRenderer\"},{\"id\":\"101696\",\"type\":\"GlyphRenderer\"}],\"title\":{\"id\":\"101655\",\"type\":\"Title\"},\"toolbar\":{\"id\":\"101681\",\"type\":\"Toolbar\"},\"x_range\":{\"id\":\"101657\",\"type\":\"Range1d\"},\"x_scale\":{\"id\":\"101661\",\"type\":\"LinearScale\"},\"y_range\":{\"id\":\"101659\",\"type\":\"Range1d\"},\"y_scale\":{\"id\":\"101663\",\"type\":\"LinearScale\"}},\"id\":\"101654\",\"subtype\":\"Figure\",\"type\":\"Plot\"},{\"attributes\":{\"days\":[1,4,7,10,13,16,19,22,25,28]},\"id\":\"104485\",\"type\":\"DaysTicker\"},{\"attributes\":{\"text\":\"ts2\"},\"id\":\"101655\",\"type\":\"Title\"},{\"attributes\":{\"days\":[1,8,15,22]},\"id\":\"104486\",\"type\":\"DaysTicker\"},{\"attributes\":{\"callback\":null,\"end\":1546302000000,\"start\":1546300620000},\"id\":\"101657\",\"type\":\"Range1d\"},{\"attributes\":{\"days\":[1,15]},\"id\":\"104487\",\"type\":\"DaysTicker\"},{\"attributes\":{\"callback\":null,\"end\":40,\"start\":-5},\"id\":\"101659\",\"type\":\"Range1d\"},{\"attributes\":{\"months\":[0,1,2,3,4,5,6,7,8,9,10,11]},\"id\":\"104488\",\"type\":\"MonthsTicker\"},{\"attributes\":{},\"id\":\"101661\",\"type\":\"LinearScale\"},{\"attributes\":{\"months\":[0,2,4,6,8,10]},\"id\":\"104489\",\"type\":\"MonthsTicker\"},{\"attributes\":{},\"id\":\"101663\",\"type\":\"LinearScale\"},{\"attributes\":{\"months\":[0,4,8]},\"id\":\"104490\",\"type\":\"MonthsTicker\"},{\"attributes\":{\"axis_label\":\"timestamp\",\"formatter\":{\"id\":\"104480\",\"type\":\"DatetimeTickFormatter\"},\"ticker\":{\"id\":\"101666\",\"type\":\"DatetimeTicker\"}},\"id\":\"101665\",\"type\":\"DatetimeAxis\"},{\"attributes\":{\"months\":[0,6]},\"id\":\"104491\",\"type\":\"MonthsTicker\"},{\"attributes\":{\"num_minor_ticks\":5,\"tickers\":[{\"id\":\"104498\",\"type\":\"AdaptiveTicker\"},{\"id\":\"104499\",\"type\":\"AdaptiveTicker\"},{\"id\":\"104500\",\"type\":\"AdaptiveTicker\"},{\"id\":\"104501\",\"type\":\"DaysTicker\"},{\"id\":\"104502\",\"type\":\"DaysTicker\"},{\"id\":\"104503\",\"type\":\"DaysTicker\"},{\"id\":\"104504\",\"type\":\"DaysTicker\"},{\"id\":\"104505\",\"type\":\"MonthsTicker\"},{\"id\":\"104506\",\"type\":\"MonthsTicker\"},{\"id\":\"104507\",\"type\":\"MonthsTicker\"},{\"id\":\"104508\",\"type\":\"MonthsTicker\"},{\"id\":\"104509\",\"type\":\"YearsTicker\"}]},\"id\":\"101666\",\"type\":\"DatetimeTicker\"},{\"attributes\":{\"below\":[{\"id\":\"101621\",\"type\":\"DatetimeAxis\"}],\"center\":[{\"id\":\"101625\",\"type\":\"Grid\"},{\"id\":\"101630\",\"type\":\"Grid\"}],\"left\":[{\"id\":\"101626\",\"type\":\"LinearAxis\"}],\"plot_height\":250,\"plot_width\":400,\"renderers\":[{\"id\":\"101647\",\"type\":\"GlyphRenderer\"},{\"id\":\"101652\",\"type\":\"GlyphRenderer\"}],\"title\":{\"id\":\"101611\",\"type\":\"Title\"},\"toolbar\":{\"id\":\"101637\",\"type\":\"Toolbar\"},\"x_range\":{\"id\":\"101613\",\"type\":\"Range1d\"},\"x_scale\":{\"id\":\"101617\",\"type\":\"LinearScale\"},\"y_range\":{\"id\":\"101615\",\"type\":\"Range1d\"},\"y_scale\":{\"id\":\"101619\",\"type\":\"LinearScale\"}},\"id\":\"101610\",\"subtype\":\"Figure\",\"type\":\"Plot\"},{\"attributes\":{},\"id\":\"104492\",\"type\":\"YearsTicker\"},{\"attributes\":{\"ticker\":{\"id\":\"101666\",\"type\":\"DatetimeTicker\"}},\"id\":\"101669\",\"type\":\"Grid\"},{\"attributes\":{},\"id\":\"104493\",\"type\":\"Selection\"},{\"attributes\":{\"axis_label\":\"IoT sensor\",\"formatter\":{\"id\":\"104478\",\"type\":\"BasicTickFormatter\"},\"ticker\":{\"id\":\"101671\",\"type\":\"BasicTicker\"}},\"id\":\"101670\",\"type\":\"LinearAxis\"},{\"attributes\":{\"text\":\"ts1\"},\"id\":\"101611\",\"type\":\"Title\"},{\"attributes\":{},\"id\":\"104494\",\"type\":\"UnionRenderers\"},{\"attributes\":{\"callback\":null,\"end\":1546302000000,\"start\":1546300620000},\"id\":\"101613\",\"type\":\"Range1d\"},{\"attributes\":{},\"id\":\"101671\",\"type\":\"BasicTicker\"},{\"attributes\":{},\"id\":\"104495\",\"type\":\"Selection\"},{\"attributes\":{\"dimension\":1,\"ticker\":{\"id\":\"101671\",\"type\":\"BasicTicker\"}},\"id\":\"101674\",\"type\":\"Grid\"},{\"attributes\":{\"callback\":null,\"end\":40,\"start\":-5},\"id\":\"101615\",\"type\":\"Range1d\"},{\"attributes\":{},\"id\":\"104496\",\"type\":\"UnionRenderers\"},{\"attributes\":{\"line_alpha\":{\"value\":0.1},\"line_color\":{\"value\":\"#1f77b4\"},\"line_dash\":[4,4],\"line_width\":{\"value\":2},\"mode\":\"after\",\"x\":{\"field\":\"x\"},\"y\":{\"field\":\"y\"}},\"id\":\"101690\",\"type\":\"Step\"},{\"attributes\":{},\"id\":\"101617\",\"type\":\"LinearScale\"},{\"attributes\":{\"line_color\":{\"value\":\"#1f77b4\"},\"line_dash\":[4,4],\"line_width\":{\"value\":2},\"mode\":\"after\",\"x\":{\"field\":\"x\"},\"y\":{\"field\":\"y\"}},\"id\":\"101689\",\"type\":\"Step\"},{\"attributes\":{\"bottom_units\":\"screen\",\"fill_alpha\":{\"value\":0.5},\"fill_color\":{\"value\":\"lightgrey\"},\"left_units\":\"screen\",\"level\":\"overlay\",\"line_alpha\":{\"value\":1.0},\"line_color\":{\"value\":\"black\"},\"line_dash\":[4,4],\"line_width\":{\"value\":2},\"render_mode\":\"css\",\"right_units\":\"screen\",\"top_units\":\"screen\"},\"id\":\"104497\",\"type\":\"BoxAnnotation\"},{\"attributes\":{},\"id\":\"101619\",\"type\":\"LinearScale\"},{\"attributes\":{\"callback\":null,\"data\":{\"x\":[1546300800000.0,1546301400000.0,1546301700000.0,1546301820000.0],\"y\":[20,30,20,11]},\"selected\":{\"id\":\"104510\",\"type\":\"Selection\"},\"selection_policy\":{\"id\":\"104511\",\"type\":\"UnionRenderers\"}},\"id\":\"101688\",\"type\":\"ColumnDataSource\"},{\"attributes\":{\"mantissas\":[1,2,5],\"max_interval\":500.0,\"num_minor_ticks\":0},\"id\":\"104498\",\"type\":\"AdaptiveTicker\"},{\"attributes\":{\"axis_label\":\"timestamp\",\"formatter\":{\"id\":\"104476\",\"type\":\"DatetimeTickFormatter\"},\"ticker\":{\"id\":\"101622\",\"type\":\"DatetimeTicker\"}},\"id\":\"101621\",\"type\":\"DatetimeAxis\"},{\"attributes\":{},\"id\":\"101675\",\"type\":\"PanTool\"},{\"attributes\":{\"dimension\":1,\"ticker\":{\"id\":\"101627\",\"type\":\"BasicTicker\"}},\"id\":\"101630\",\"type\":\"Grid\"},{\"attributes\":{\"base\":60,\"mantissas\":[1,2,5,10,15,20,30],\"max_interval\":1800000.0,\"min_interval\":1000.0,\"num_minor_ticks\":0},\"id\":\"104499\",\"type\":\"AdaptiveTicker\"},{\"attributes\":{},\"id\":\"101676\",\"type\":\"WheelZoomTool\"},{\"attributes\":{\"base\":24,\"mantissas\":[1,2,4,6,8,12],\"max_interval\":43200000.0,\"min_interval\":3600000.0,\"num_minor_ticks\":0},\"id\":\"104500\",\"type\":\"AdaptiveTicker\"},{\"attributes\":{},\"id\":\"101627\",\"type\":\"BasicTicker\"},{\"attributes\":{\"overlay\":{\"id\":\"104514\",\"type\":\"BoxAnnotation\"}},\"id\":\"101677\",\"type\":\"BoxZoomTool\"},{\"attributes\":{\"days\":[1,2,3,4,5,6,7,8,9,10,11,12,13,14,15,16,17,18,19,20,21,22,23,24,25,26,27,28,29,30,31]},\"id\":\"104501\",\"type\":\"DaysTicker\"},{\"attributes\":{\"axis_label\":\"IoT sensor\",\"formatter\":{\"id\":\"104474\",\"type\":\"BasicTickFormatter\"},\"ticker\":{\"id\":\"101627\",\"type\":\"BasicTicker\"}},\"id\":\"101626\",\"type\":\"LinearAxis\"},{\"attributes\":{},\"id\":\"101678\",\"type\":\"SaveTool\"},{\"attributes\":{\"days\":[1,4,7,10,13,16,19,22,25,28]},\"id\":\"104502\",\"type\":\"DaysTicker\"},{\"attributes\":{},\"id\":\"101679\",\"type\":\"ResetTool\"}],\"root_ids\":[\"101698\"]},\"title\":\"Bokeh Application\",\"version\":\"1.2.0\"}};\n",
       "  var render_items = [{\"docid\":\"f00dc1e5-594a-44f8-b353-23ee55680a80\",\"roots\":{\"101698\":\"27a40ae9-11da-4beb-b536-45d0e4591252\"}}];\n",
       "  root.Bokeh.embed.embed_items_notebook(docs_json, render_items);\n",
       "\n",
       "  }\n",
       "  if (root.Bokeh !== undefined) {\n",
       "    embed_document(root);\n",
       "  } else {\n",
       "    var attempts = 0;\n",
       "    var timer = setInterval(function(root) {\n",
       "      if (root.Bokeh !== undefined) {\n",
       "        embed_document(root);\n",
       "        clearInterval(timer);\n",
       "      }\n",
       "      attempts++;\n",
       "      if (attempts > 100) {\n",
       "        console.log(\"Bokeh: ERROR: Unable to run BokehJS code because BokehJS library is missing\");\n",
       "        clearInterval(timer);\n",
       "      }\n",
       "    }, 10, root)\n",
       "  }\n",
       "})(window);"
      ],
      "application/vnd.bokehjs_exec.v0+json": ""
     },
     "metadata": {
      "application/vnd.bokehjs_exec.v0+json": {
       "id": "101698"
      }
     },
     "output_type": "display_data"
    },
    {
     "data": {
      "text/html": [
       "\n",
       "\n",
       "\n",
       "\n",
       "\n",
       "\n",
       "  <div class=\"bk-root\" id=\"5df325d2-b8a1-419d-9724-f827231aa839\" data-root-id=\"104911\"></div>\n"
      ]
     },
     "metadata": {},
     "output_type": "display_data"
    },
    {
     "data": {
      "application/javascript": [
       "(function(root) {\n",
       "  function embed_document(root) {\n",
       "    \n",
       "  var docs_json = {\"5505f6ba-b94c-4447-8cba-c1131235203a\":{\"roots\":{\"references\":[{\"attributes\":{\"children\":[{\"id\":\"104779\",\"subtype\":\"Figure\",\"type\":\"Plot\"},{\"id\":\"104823\",\"subtype\":\"Figure\",\"type\":\"Plot\"},{\"id\":\"104867\",\"subtype\":\"Figure\",\"type\":\"Plot\"}]},\"id\":\"104911\",\"type\":\"Row\"},{\"attributes\":{\"data_source\":{\"id\":\"104862\",\"type\":\"ColumnDataSource\"},\"glyph\":{\"id\":\"104863\",\"type\":\"Circle\"},\"hover_glyph\":null,\"muted_glyph\":null,\"nonselection_glyph\":{\"id\":\"104864\",\"type\":\"Circle\"},\"selection_glyph\":null,\"view\":{\"id\":\"104866\",\"type\":\"CDSView\"}},\"id\":\"104865\",\"type\":\"GlyphRenderer\"},{\"attributes\":{\"bottom_units\":\"screen\",\"fill_alpha\":{\"value\":0.5},\"fill_color\":{\"value\":\"lightgrey\"},\"left_units\":\"screen\",\"level\":\"overlay\",\"line_alpha\":{\"value\":1.0},\"line_color\":{\"value\":\"black\"},\"line_dash\":[4,4],\"line_width\":{\"value\":2},\"render_mode\":\"css\",\"right_units\":\"screen\",\"top_units\":\"screen\"},\"id\":\"107776\",\"type\":\"BoxAnnotation\"},{\"attributes\":{\"source\":{\"id\":\"104862\",\"type\":\"ColumnDataSource\"}},\"id\":\"104866\",\"type\":\"CDSView\"},{\"attributes\":{\"mantissas\":[1,2,5],\"max_interval\":500.0,\"num_minor_ticks\":0},\"id\":\"107777\",\"type\":\"AdaptiveTicker\"},{\"attributes\":{\"below\":[{\"id\":\"104878\",\"type\":\"DatetimeAxis\"}],\"center\":[{\"id\":\"104882\",\"type\":\"Grid\"},{\"id\":\"104887\",\"type\":\"Grid\"}],\"left\":[{\"id\":\"104883\",\"type\":\"LinearAxis\"}],\"plot_height\":250,\"plot_width\":400,\"renderers\":[{\"id\":\"104904\",\"type\":\"GlyphRenderer\"},{\"id\":\"104909\",\"type\":\"GlyphRenderer\"}],\"title\":{\"id\":\"104868\",\"type\":\"Title\"},\"toolbar\":{\"id\":\"104894\",\"type\":\"Toolbar\"},\"x_range\":{\"id\":\"104870\",\"type\":\"Range1d\"},\"x_scale\":{\"id\":\"104874\",\"type\":\"LinearScale\"},\"y_range\":{\"id\":\"104872\",\"type\":\"Range1d\"},\"y_scale\":{\"id\":\"104876\",\"type\":\"LinearScale\"}},\"id\":\"104867\",\"subtype\":\"Figure\",\"type\":\"Plot\"},{\"attributes\":{\"base\":60,\"mantissas\":[1,2,5,10,15,20,30],\"max_interval\":1800000.0,\"min_interval\":1000.0,\"num_minor_ticks\":0},\"id\":\"107778\",\"type\":\"AdaptiveTicker\"},{\"attributes\":{\"base\":24,\"mantissas\":[1,2,4,6,8,12],\"max_interval\":43200000.0,\"min_interval\":3600000.0,\"num_minor_ticks\":0},\"id\":\"107779\",\"type\":\"AdaptiveTicker\"},{\"attributes\":{\"text\":\"ts3\"},\"id\":\"104868\",\"type\":\"Title\"},{\"attributes\":{\"days\":[1,2,3,4,5,6,7,8,9,10,11,12,13,14,15,16,17,18,19,20,21,22,23,24,25,26,27,28,29,30,31]},\"id\":\"107780\",\"type\":\"DaysTicker\"},{\"attributes\":{\"callback\":null,\"end\":1546302000000,\"start\":1546300620000},\"id\":\"104870\",\"type\":\"Range1d\"},{\"attributes\":{\"days\":[1,4,7,10,13,16,19,22,25,28]},\"id\":\"107781\",\"type\":\"DaysTicker\"},{\"attributes\":{\"callback\":null,\"end\":40,\"start\":-5},\"id\":\"104872\",\"type\":\"Range1d\"},{\"attributes\":{\"days\":[1,8,15,22]},\"id\":\"107782\",\"type\":\"DaysTicker\"},{\"attributes\":{},\"id\":\"104874\",\"type\":\"LinearScale\"},{\"attributes\":{\"days\":[1,15]},\"id\":\"107783\",\"type\":\"DaysTicker\"},{\"attributes\":{},\"id\":\"104876\",\"type\":\"LinearScale\"},{\"attributes\":{\"months\":[0,1,2,3,4,5,6,7,8,9,10,11]},\"id\":\"107784\",\"type\":\"MonthsTicker\"},{\"attributes\":{\"axis_label\":\"timestamp\",\"formatter\":{\"id\":\"107742\",\"type\":\"DatetimeTickFormatter\"},\"ticker\":{\"id\":\"104879\",\"type\":\"DatetimeTicker\"}},\"id\":\"104878\",\"type\":\"DatetimeAxis\"},{\"attributes\":{\"months\":[0,2,4,6,8,10]},\"id\":\"107785\",\"type\":\"MonthsTicker\"},{\"attributes\":{\"num_minor_ticks\":5,\"tickers\":[{\"id\":\"107777\",\"type\":\"AdaptiveTicker\"},{\"id\":\"107778\",\"type\":\"AdaptiveTicker\"},{\"id\":\"107779\",\"type\":\"AdaptiveTicker\"},{\"id\":\"107780\",\"type\":\"DaysTicker\"},{\"id\":\"107781\",\"type\":\"DaysTicker\"},{\"id\":\"107782\",\"type\":\"DaysTicker\"},{\"id\":\"107783\",\"type\":\"DaysTicker\"},{\"id\":\"107784\",\"type\":\"MonthsTicker\"},{\"id\":\"107785\",\"type\":\"MonthsTicker\"},{\"id\":\"107786\",\"type\":\"MonthsTicker\"},{\"id\":\"107787\",\"type\":\"MonthsTicker\"},{\"id\":\"107788\",\"type\":\"YearsTicker\"}]},\"id\":\"104879\",\"type\":\"DatetimeTicker\"},{\"attributes\":{\"months\":[0,4,8]},\"id\":\"107786\",\"type\":\"MonthsTicker\"},{\"attributes\":{\"ticker\":{\"id\":\"104879\",\"type\":\"DatetimeTicker\"}},\"id\":\"104882\",\"type\":\"Grid\"},{\"attributes\":{\"months\":[0,6]},\"id\":\"107787\",\"type\":\"MonthsTicker\"},{\"attributes\":{\"axis_label\":\"IoT sensor\",\"formatter\":{\"id\":\"107740\",\"type\":\"BasicTickFormatter\"},\"ticker\":{\"id\":\"104884\",\"type\":\"BasicTicker\"}},\"id\":\"104883\",\"type\":\"LinearAxis\"},{\"attributes\":{},\"id\":\"107788\",\"type\":\"YearsTicker\"},{\"attributes\":{},\"id\":\"104884\",\"type\":\"BasicTicker\"},{\"attributes\":{},\"id\":\"107789\",\"type\":\"Selection\"},{\"attributes\":{\"dimension\":1,\"ticker\":{\"id\":\"104884\",\"type\":\"BasicTicker\"}},\"id\":\"104887\",\"type\":\"Grid\"},{\"attributes\":{},\"id\":\"107790\",\"type\":\"UnionRenderers\"},{\"attributes\":{\"line_alpha\":{\"value\":0.1},\"line_color\":{\"value\":\"#1f77b4\"},\"line_dash\":[4,4],\"line_width\":{\"value\":2},\"mode\":\"after\",\"x\":{\"field\":\"x\"},\"y\":{\"field\":\"y\"}},\"id\":\"104903\",\"type\":\"Step\"},{\"attributes\":{},\"id\":\"107791\",\"type\":\"Selection\"},{\"attributes\":{\"line_color\":{\"value\":\"#1f77b4\"},\"line_dash\":[4,4],\"line_width\":{\"value\":2},\"mode\":\"after\",\"x\":{\"field\":\"x\"},\"y\":{\"field\":\"y\"}},\"id\":\"104902\",\"type\":\"Step\"},{\"attributes\":{},\"id\":\"107792\",\"type\":\"UnionRenderers\"},{\"attributes\":{\"active_drag\":\"auto\",\"active_inspect\":\"auto\",\"active_multi\":null,\"active_scroll\":\"auto\",\"active_tap\":\"auto\",\"tools\":[{\"id\":\"104888\",\"type\":\"PanTool\"},{\"id\":\"104889\",\"type\":\"WheelZoomTool\"},{\"id\":\"104890\",\"type\":\"BoxZoomTool\"},{\"id\":\"104891\",\"type\":\"SaveTool\"},{\"id\":\"104892\",\"type\":\"ResetTool\"},{\"id\":\"104893\",\"type\":\"HelpTool\"}]},\"id\":\"104894\",\"type\":\"Toolbar\"},{\"attributes\":{},\"id\":\"104888\",\"type\":\"PanTool\"},{\"attributes\":{\"bottom_units\":\"screen\",\"fill_alpha\":{\"value\":0.5},\"fill_color\":{\"value\":\"lightgrey\"},\"left_units\":\"screen\",\"level\":\"overlay\",\"line_alpha\":{\"value\":1.0},\"line_color\":{\"value\":\"black\"},\"line_dash\":[4,4],\"line_width\":{\"value\":2},\"render_mode\":\"css\",\"right_units\":\"screen\",\"top_units\":\"screen\"},\"id\":\"107793\",\"type\":\"BoxAnnotation\"},{\"attributes\":{},\"id\":\"104889\",\"type\":\"WheelZoomTool\"},{\"attributes\":{\"overlay\":{\"id\":\"107793\",\"type\":\"BoxAnnotation\"}},\"id\":\"104890\",\"type\":\"BoxZoomTool\"},{\"attributes\":{},\"id\":\"104891\",\"type\":\"SaveTool\"},{\"attributes\":{},\"id\":\"104892\",\"type\":\"ResetTool\"},{\"attributes\":{},\"id\":\"104893\",\"type\":\"HelpTool\"},{\"attributes\":{\"data_source\":{\"id\":\"104901\",\"type\":\"ColumnDataSource\"},\"glyph\":{\"id\":\"104902\",\"type\":\"Step\"},\"hover_glyph\":null,\"muted_glyph\":null,\"nonselection_glyph\":{\"id\":\"104903\",\"type\":\"Step\"},\"selection_glyph\":null,\"view\":{\"id\":\"104905\",\"type\":\"CDSView\"}},\"id\":\"104904\",\"type\":\"GlyphRenderer\"},{\"attributes\":{\"source\":{\"id\":\"104901\",\"type\":\"ColumnDataSource\"}},\"id\":\"104905\",\"type\":\"CDSView\"},{\"attributes\":{\"callback\":null,\"data\":{\"x\":[1546300800000.0,1546301220000.0,1546301400000.0,1546301520000.0,1546301700000.0,1546301820000.0],\"y\":[10,9,25,34,24,15]},\"selected\":{\"id\":\"107791\",\"type\":\"Selection\"},\"selection_policy\":{\"id\":\"107792\",\"type\":\"UnionRenderers\"}},\"id\":\"104906\",\"type\":\"ColumnDataSource\"},{\"attributes\":{\"fill_color\":{\"value\":\"red\"},\"line_color\":{\"value\":\"#1f77b4\"},\"size\":{\"units\":\"screen\",\"value\":6},\"x\":{\"field\":\"x\"},\"y\":{\"field\":\"y\"}},\"id\":\"104907\",\"type\":\"Circle\"},{\"attributes\":{\"fill_alpha\":{\"value\":0.1},\"fill_color\":{\"value\":\"#1f77b4\"},\"line_alpha\":{\"value\":0.1},\"line_color\":{\"value\":\"#1f77b4\"},\"size\":{\"units\":\"screen\",\"value\":6},\"x\":{\"field\":\"x\"},\"y\":{\"field\":\"y\"}},\"id\":\"104908\",\"type\":\"Circle\"},{\"attributes\":{\"data_source\":{\"id\":\"104906\",\"type\":\"ColumnDataSource\"},\"glyph\":{\"id\":\"104907\",\"type\":\"Circle\"},\"hover_glyph\":null,\"muted_glyph\":null,\"nonselection_glyph\":{\"id\":\"104908\",\"type\":\"Circle\"},\"selection_glyph\":null,\"view\":{\"id\":\"104910\",\"type\":\"CDSView\"}},\"id\":\"104909\",\"type\":\"GlyphRenderer\"},{\"attributes\":{\"source\":{\"id\":\"104906\",\"type\":\"ColumnDataSource\"}},\"id\":\"104910\",\"type\":\"CDSView\"},{\"attributes\":{},\"id\":\"107732\",\"type\":\"BasicTickFormatter\"},{\"attributes\":{},\"id\":\"107734\",\"type\":\"DatetimeTickFormatter\"},{\"attributes\":{},\"id\":\"107736\",\"type\":\"BasicTickFormatter\"},{\"attributes\":{},\"id\":\"107738\",\"type\":\"DatetimeTickFormatter\"},{\"attributes\":{},\"id\":\"107740\",\"type\":\"BasicTickFormatter\"},{\"attributes\":{\"active_drag\":\"auto\",\"active_inspect\":\"auto\",\"active_multi\":null,\"active_scroll\":\"auto\",\"active_tap\":\"auto\",\"tools\":[{\"id\":\"104800\",\"type\":\"PanTool\"},{\"id\":\"104801\",\"type\":\"WheelZoomTool\"},{\"id\":\"104802\",\"type\":\"BoxZoomTool\"},{\"id\":\"104803\",\"type\":\"SaveTool\"},{\"id\":\"104804\",\"type\":\"ResetTool\"},{\"id\":\"104805\",\"type\":\"HelpTool\"}]},\"id\":\"104806\",\"type\":\"Toolbar\"},{\"attributes\":{},\"id\":\"107742\",\"type\":\"DatetimeTickFormatter\"},{\"attributes\":{\"data_source\":{\"id\":\"104813\",\"type\":\"ColumnDataSource\"},\"glyph\":{\"id\":\"104814\",\"type\":\"Step\"},\"hover_glyph\":null,\"muted_glyph\":null,\"nonselection_glyph\":{\"id\":\"104815\",\"type\":\"Step\"},\"selection_glyph\":null,\"view\":{\"id\":\"104817\",\"type\":\"CDSView\"}},\"id\":\"104816\",\"type\":\"GlyphRenderer\"},{\"attributes\":{\"mantissas\":[1,2,5],\"max_interval\":500.0,\"num_minor_ticks\":0},\"id\":\"107743\",\"type\":\"AdaptiveTicker\"},{\"attributes\":{\"source\":{\"id\":\"104813\",\"type\":\"ColumnDataSource\"}},\"id\":\"104817\",\"type\":\"CDSView\"},{\"attributes\":{\"callback\":null,\"data\":{\"x\":[1546300800000.0,1546301400000.0,1546301700000.0,1546301820000.0],\"y\":[10,20,10,1]},\"selected\":{\"id\":\"107757\",\"type\":\"Selection\"},\"selection_policy\":{\"id\":\"107758\",\"type\":\"UnionRenderers\"}},\"id\":\"104818\",\"type\":\"ColumnDataSource\"},{\"attributes\":{\"base\":60,\"mantissas\":[1,2,5,10,15,20,30],\"max_interval\":1800000.0,\"min_interval\":1000.0,\"num_minor_ticks\":0},\"id\":\"107744\",\"type\":\"AdaptiveTicker\"},{\"attributes\":{\"fill_color\":{\"value\":\"red\"},\"line_color\":{\"value\":\"#1f77b4\"},\"size\":{\"units\":\"screen\",\"value\":6},\"x\":{\"field\":\"x\"},\"y\":{\"field\":\"y\"}},\"id\":\"104819\",\"type\":\"Circle\"},{\"attributes\":{\"base\":24,\"mantissas\":[1,2,4,6,8,12],\"max_interval\":43200000.0,\"min_interval\":3600000.0,\"num_minor_ticks\":0},\"id\":\"107745\",\"type\":\"AdaptiveTicker\"},{\"attributes\":{\"fill_alpha\":{\"value\":0.1},\"fill_color\":{\"value\":\"#1f77b4\"},\"line_alpha\":{\"value\":0.1},\"line_color\":{\"value\":\"#1f77b4\"},\"size\":{\"units\":\"screen\",\"value\":6},\"x\":{\"field\":\"x\"},\"y\":{\"field\":\"y\"}},\"id\":\"104820\",\"type\":\"Circle\"},{\"attributes\":{},\"id\":\"104801\",\"type\":\"WheelZoomTool\"},{\"attributes\":{\"days\":[1,2,3,4,5,6,7,8,9,10,11,12,13,14,15,16,17,18,19,20,21,22,23,24,25,26,27,28,29,30,31]},\"id\":\"107746\",\"type\":\"DaysTicker\"},{\"attributes\":{\"data_source\":{\"id\":\"104818\",\"type\":\"ColumnDataSource\"},\"glyph\":{\"id\":\"104819\",\"type\":\"Circle\"},\"hover_glyph\":null,\"muted_glyph\":null,\"nonselection_glyph\":{\"id\":\"104820\",\"type\":\"Circle\"},\"selection_glyph\":null,\"view\":{\"id\":\"104822\",\"type\":\"CDSView\"}},\"id\":\"104821\",\"type\":\"GlyphRenderer\"},{\"attributes\":{\"days\":[1,4,7,10,13,16,19,22,25,28]},\"id\":\"107747\",\"type\":\"DaysTicker\"},{\"attributes\":{\"source\":{\"id\":\"104818\",\"type\":\"ColumnDataSource\"}},\"id\":\"104822\",\"type\":\"CDSView\"},{\"attributes\":{\"days\":[1,8,15,22]},\"id\":\"107748\",\"type\":\"DaysTicker\"},{\"attributes\":{\"days\":[1,15]},\"id\":\"107749\",\"type\":\"DaysTicker\"},{\"attributes\":{\"below\":[{\"id\":\"104834\",\"type\":\"DatetimeAxis\"}],\"center\":[{\"id\":\"104838\",\"type\":\"Grid\"},{\"id\":\"104843\",\"type\":\"Grid\"}],\"left\":[{\"id\":\"104839\",\"type\":\"LinearAxis\"}],\"plot_height\":250,\"plot_width\":400,\"renderers\":[{\"id\":\"104860\",\"type\":\"GlyphRenderer\"},{\"id\":\"104865\",\"type\":\"GlyphRenderer\"}],\"title\":{\"id\":\"104824\",\"type\":\"Title\"},\"toolbar\":{\"id\":\"104850\",\"type\":\"Toolbar\"},\"x_range\":{\"id\":\"104826\",\"type\":\"Range1d\"},\"x_scale\":{\"id\":\"104830\",\"type\":\"LinearScale\"},\"y_range\":{\"id\":\"104828\",\"type\":\"Range1d\"},\"y_scale\":{\"id\":\"104832\",\"type\":\"LinearScale\"}},\"id\":\"104823\",\"subtype\":\"Figure\",\"type\":\"Plot\"},{\"attributes\":{\"months\":[0,1,2,3,4,5,6,7,8,9,10,11]},\"id\":\"107750\",\"type\":\"MonthsTicker\"},{\"attributes\":{},\"id\":\"107775\",\"type\":\"UnionRenderers\"},{\"attributes\":{\"text\":\"ts2\"},\"id\":\"104824\",\"type\":\"Title\"},{\"attributes\":{\"months\":[0,2,4,6,8,10]},\"id\":\"107751\",\"type\":\"MonthsTicker\"},{\"attributes\":{\"callback\":null,\"end\":1546302000000,\"start\":1546300620000},\"id\":\"104826\",\"type\":\"Range1d\"},{\"attributes\":{\"months\":[0,4,8]},\"id\":\"107752\",\"type\":\"MonthsTicker\"},{\"attributes\":{\"callback\":null,\"end\":40,\"start\":-5},\"id\":\"104828\",\"type\":\"Range1d\"},{\"attributes\":{\"months\":[0,6]},\"id\":\"107753\",\"type\":\"MonthsTicker\"},{\"attributes\":{\"overlay\":{\"id\":\"107759\",\"type\":\"BoxAnnotation\"}},\"id\":\"104802\",\"type\":\"BoxZoomTool\"},{\"attributes\":{},\"id\":\"104830\",\"type\":\"LinearScale\"},{\"attributes\":{},\"id\":\"107754\",\"type\":\"YearsTicker\"},{\"attributes\":{},\"id\":\"104832\",\"type\":\"LinearScale\"},{\"attributes\":{\"callback\":null,\"data\":{\"x\":[1546301220000.0,1546301400000.0,1546301520000.0],\"y\":[-1,5,14]},\"selected\":{\"id\":\"107772\",\"type\":\"Selection\"},\"selection_policy\":{\"id\":\"107773\",\"type\":\"UnionRenderers\"}},\"id\":\"104857\",\"type\":\"ColumnDataSource\"},{\"attributes\":{},\"id\":\"107755\",\"type\":\"Selection\"},{\"attributes\":{\"axis_label\":\"timestamp\",\"formatter\":{\"id\":\"107738\",\"type\":\"DatetimeTickFormatter\"},\"ticker\":{\"id\":\"104835\",\"type\":\"DatetimeTicker\"}},\"id\":\"104834\",\"type\":\"DatetimeAxis\"},{\"attributes\":{},\"id\":\"107756\",\"type\":\"UnionRenderers\"},{\"attributes\":{\"callback\":null,\"end\":40,\"start\":-5},\"id\":\"104784\",\"type\":\"Range1d\"},{\"attributes\":{\"num_minor_ticks\":5,\"tickers\":[{\"id\":\"107760\",\"type\":\"AdaptiveTicker\"},{\"id\":\"107761\",\"type\":\"AdaptiveTicker\"},{\"id\":\"107762\",\"type\":\"AdaptiveTicker\"},{\"id\":\"107763\",\"type\":\"DaysTicker\"},{\"id\":\"107764\",\"type\":\"DaysTicker\"},{\"id\":\"107765\",\"type\":\"DaysTicker\"},{\"id\":\"107766\",\"type\":\"DaysTicker\"},{\"id\":\"107767\",\"type\":\"MonthsTicker\"},{\"id\":\"107768\",\"type\":\"MonthsTicker\"},{\"id\":\"107769\",\"type\":\"MonthsTicker\"},{\"id\":\"107770\",\"type\":\"MonthsTicker\"},{\"id\":\"107771\",\"type\":\"YearsTicker\"}]},\"id\":\"104835\",\"type\":\"DatetimeTicker\"},{\"attributes\":{\"text\":\"ts1\"},\"id\":\"104780\",\"type\":\"Title\"},{\"attributes\":{},\"id\":\"107757\",\"type\":\"Selection\"},{\"attributes\":{\"ticker\":{\"id\":\"104835\",\"type\":\"DatetimeTicker\"}},\"id\":\"104838\",\"type\":\"Grid\"},{\"attributes\":{},\"id\":\"107758\",\"type\":\"UnionRenderers\"},{\"attributes\":{\"axis_label\":\"IoT sensor\",\"formatter\":{\"id\":\"107736\",\"type\":\"BasicTickFormatter\"},\"ticker\":{\"id\":\"104840\",\"type\":\"BasicTicker\"}},\"id\":\"104839\",\"type\":\"LinearAxis\"},{\"attributes\":{\"bottom_units\":\"screen\",\"fill_alpha\":{\"value\":0.5},\"fill_color\":{\"value\":\"lightgrey\"},\"left_units\":\"screen\",\"level\":\"overlay\",\"line_alpha\":{\"value\":1.0},\"line_color\":{\"value\":\"black\"},\"line_dash\":[4,4],\"line_width\":{\"value\":2},\"render_mode\":\"css\",\"right_units\":\"screen\",\"top_units\":\"screen\"},\"id\":\"107759\",\"type\":\"BoxAnnotation\"},{\"attributes\":{\"below\":[{\"id\":\"104790\",\"type\":\"DatetimeAxis\"}],\"center\":[{\"id\":\"104794\",\"type\":\"Grid\"},{\"id\":\"104799\",\"type\":\"Grid\"}],\"left\":[{\"id\":\"104795\",\"type\":\"LinearAxis\"}],\"plot_height\":250,\"plot_width\":400,\"renderers\":[{\"id\":\"104816\",\"type\":\"GlyphRenderer\"},{\"id\":\"104821\",\"type\":\"GlyphRenderer\"}],\"title\":{\"id\":\"104780\",\"type\":\"Title\"},\"toolbar\":{\"id\":\"104806\",\"type\":\"Toolbar\"},\"x_range\":{\"id\":\"104782\",\"type\":\"Range1d\"},\"x_scale\":{\"id\":\"104786\",\"type\":\"LinearScale\"},\"y_range\":{\"id\":\"104784\",\"type\":\"Range1d\"},\"y_scale\":{\"id\":\"104788\",\"type\":\"LinearScale\"}},\"id\":\"104779\",\"subtype\":\"Figure\",\"type\":\"Plot\"},{\"attributes\":{},\"id\":\"104840\",\"type\":\"BasicTicker\"},{\"attributes\":{\"mantissas\":[1,2,5],\"max_interval\":500.0,\"num_minor_ticks\":0},\"id\":\"107760\",\"type\":\"AdaptiveTicker\"},{\"attributes\":{\"dimension\":1,\"ticker\":{\"id\":\"104840\",\"type\":\"BasicTicker\"}},\"id\":\"104843\",\"type\":\"Grid\"},{\"attributes\":{\"num_minor_ticks\":5,\"tickers\":[{\"id\":\"107743\",\"type\":\"AdaptiveTicker\"},{\"id\":\"107744\",\"type\":\"AdaptiveTicker\"},{\"id\":\"107745\",\"type\":\"AdaptiveTicker\"},{\"id\":\"107746\",\"type\":\"DaysTicker\"},{\"id\":\"107747\",\"type\":\"DaysTicker\"},{\"id\":\"107748\",\"type\":\"DaysTicker\"},{\"id\":\"107749\",\"type\":\"DaysTicker\"},{\"id\":\"107750\",\"type\":\"MonthsTicker\"},{\"id\":\"107751\",\"type\":\"MonthsTicker\"},{\"id\":\"107752\",\"type\":\"MonthsTicker\"},{\"id\":\"107753\",\"type\":\"MonthsTicker\"},{\"id\":\"107754\",\"type\":\"YearsTicker\"}]},\"id\":\"104791\",\"type\":\"DatetimeTicker\"},{\"attributes\":{\"base\":60,\"mantissas\":[1,2,5,10,15,20,30],\"max_interval\":1800000.0,\"min_interval\":1000.0,\"num_minor_ticks\":0},\"id\":\"107761\",\"type\":\"AdaptiveTicker\"},{\"attributes\":{\"callback\":null,\"data\":{\"x\":[1546300800000.0,1546301220000.0,1546301400000.0,1546301520000.0,1546301700000.0,1546301820000.0],\"y\":[10,9,25,34,24,15]},\"selected\":{\"id\":\"107789\",\"type\":\"Selection\"},\"selection_policy\":{\"id\":\"107790\",\"type\":\"UnionRenderers\"}},\"id\":\"104901\",\"type\":\"ColumnDataSource\"},{\"attributes\":{},\"id\":\"104803\",\"type\":\"SaveTool\"},{\"attributes\":{\"line_alpha\":{\"value\":0.1},\"line_color\":{\"value\":\"#1f77b4\"},\"line_dash\":[4,4],\"line_width\":{\"value\":2},\"mode\":\"after\",\"x\":{\"field\":\"x\"},\"y\":{\"field\":\"y\"}},\"id\":\"104859\",\"type\":\"Step\"},{\"attributes\":{\"base\":24,\"mantissas\":[1,2,4,6,8,12],\"max_interval\":43200000.0,\"min_interval\":3600000.0,\"num_minor_ticks\":0},\"id\":\"107762\",\"type\":\"AdaptiveTicker\"},{\"attributes\":{\"line_color\":{\"value\":\"#1f77b4\"},\"line_dash\":[4,4],\"line_width\":{\"value\":2},\"mode\":\"after\",\"x\":{\"field\":\"x\"},\"y\":{\"field\":\"y\"}},\"id\":\"104858\",\"type\":\"Step\"},{\"attributes\":{\"days\":[1,2,3,4,5,6,7,8,9,10,11,12,13,14,15,16,17,18,19,20,21,22,23,24,25,26,27,28,29,30,31]},\"id\":\"107763\",\"type\":\"DaysTicker\"},{\"attributes\":{\"active_drag\":\"auto\",\"active_inspect\":\"auto\",\"active_multi\":null,\"active_scroll\":\"auto\",\"active_tap\":\"auto\",\"tools\":[{\"id\":\"104844\",\"type\":\"PanTool\"},{\"id\":\"104845\",\"type\":\"WheelZoomTool\"},{\"id\":\"104846\",\"type\":\"BoxZoomTool\"},{\"id\":\"104847\",\"type\":\"SaveTool\"},{\"id\":\"104848\",\"type\":\"ResetTool\"},{\"id\":\"104849\",\"type\":\"HelpTool\"}]},\"id\":\"104850\",\"type\":\"Toolbar\"},{\"attributes\":{\"callback\":null,\"end\":1546302000000,\"start\":1546300620000},\"id\":\"104782\",\"type\":\"Range1d\"},{\"attributes\":{},\"id\":\"104844\",\"type\":\"PanTool\"},{\"attributes\":{\"days\":[1,4,7,10,13,16,19,22,25,28]},\"id\":\"107764\",\"type\":\"DaysTicker\"},{\"attributes\":{},\"id\":\"104845\",\"type\":\"WheelZoomTool\"},{\"attributes\":{\"days\":[1,8,15,22]},\"id\":\"107765\",\"type\":\"DaysTicker\"},{\"attributes\":{\"line_alpha\":{\"value\":0.1},\"line_color\":{\"value\":\"#1f77b4\"},\"line_dash\":[4,4],\"line_width\":{\"value\":2},\"mode\":\"after\",\"x\":{\"field\":\"x\"},\"y\":{\"field\":\"y\"}},\"id\":\"104815\",\"type\":\"Step\"},{\"attributes\":{\"axis_label\":\"timestamp\",\"formatter\":{\"id\":\"107734\",\"type\":\"DatetimeTickFormatter\"},\"ticker\":{\"id\":\"104791\",\"type\":\"DatetimeTicker\"}},\"id\":\"104790\",\"type\":\"DatetimeAxis\"},{\"attributes\":{\"overlay\":{\"id\":\"107776\",\"type\":\"BoxAnnotation\"}},\"id\":\"104846\",\"type\":\"BoxZoomTool\"},{\"attributes\":{\"days\":[1,15]},\"id\":\"107766\",\"type\":\"DaysTicker\"},{\"attributes\":{},\"id\":\"104788\",\"type\":\"LinearScale\"},{\"attributes\":{},\"id\":\"104847\",\"type\":\"SaveTool\"},{\"attributes\":{\"months\":[0,1,2,3,4,5,6,7,8,9,10,11]},\"id\":\"107767\",\"type\":\"MonthsTicker\"},{\"attributes\":{},\"id\":\"104848\",\"type\":\"ResetTool\"},{\"attributes\":{\"months\":[0,2,4,6,8,10]},\"id\":\"107768\",\"type\":\"MonthsTicker\"},{\"attributes\":{},\"id\":\"104786\",\"type\":\"LinearScale\"},{\"attributes\":{},\"id\":\"104805\",\"type\":\"HelpTool\"},{\"attributes\":{},\"id\":\"104849\",\"type\":\"HelpTool\"},{\"attributes\":{\"months\":[0,4,8]},\"id\":\"107769\",\"type\":\"MonthsTicker\"},{\"attributes\":{\"ticker\":{\"id\":\"104791\",\"type\":\"DatetimeTicker\"}},\"id\":\"104794\",\"type\":\"Grid\"},{\"attributes\":{\"months\":[0,6]},\"id\":\"107770\",\"type\":\"MonthsTicker\"},{\"attributes\":{\"axis_label\":\"IoT sensor\",\"formatter\":{\"id\":\"107732\",\"type\":\"BasicTickFormatter\"},\"ticker\":{\"id\":\"104796\",\"type\":\"BasicTicker\"}},\"id\":\"104795\",\"type\":\"LinearAxis\"},{\"attributes\":{},\"id\":\"107771\",\"type\":\"YearsTicker\"},{\"attributes\":{\"data_source\":{\"id\":\"104857\",\"type\":\"ColumnDataSource\"},\"glyph\":{\"id\":\"104858\",\"type\":\"Step\"},\"hover_glyph\":null,\"muted_glyph\":null,\"nonselection_glyph\":{\"id\":\"104859\",\"type\":\"Step\"},\"selection_glyph\":null,\"view\":{\"id\":\"104861\",\"type\":\"CDSView\"}},\"id\":\"104860\",\"type\":\"GlyphRenderer\"},{\"attributes\":{},\"id\":\"104796\",\"type\":\"BasicTicker\"},{\"attributes\":{\"callback\":null,\"data\":{\"x\":[1546300800000.0,1546301400000.0,1546301700000.0,1546301820000.0],\"y\":[10,20,10,1]},\"selected\":{\"id\":\"107755\",\"type\":\"Selection\"},\"selection_policy\":{\"id\":\"107756\",\"type\":\"UnionRenderers\"}},\"id\":\"104813\",\"type\":\"ColumnDataSource\"},{\"attributes\":{\"source\":{\"id\":\"104857\",\"type\":\"ColumnDataSource\"}},\"id\":\"104861\",\"type\":\"CDSView\"},{\"attributes\":{},\"id\":\"107772\",\"type\":\"Selection\"},{\"attributes\":{\"dimension\":1,\"ticker\":{\"id\":\"104796\",\"type\":\"BasicTicker\"}},\"id\":\"104799\",\"type\":\"Grid\"},{\"attributes\":{\"callback\":null,\"data\":{\"x\":[1546301220000.0,1546301400000.0,1546301520000.0],\"y\":[-1,5,14]},\"selected\":{\"id\":\"107774\",\"type\":\"Selection\"},\"selection_policy\":{\"id\":\"107775\",\"type\":\"UnionRenderers\"}},\"id\":\"104862\",\"type\":\"ColumnDataSource\"},{\"attributes\":{},\"id\":\"107773\",\"type\":\"UnionRenderers\"},{\"attributes\":{\"line_color\":{\"value\":\"#1f77b4\"},\"line_dash\":[4,4],\"line_width\":{\"value\":2},\"mode\":\"after\",\"x\":{\"field\":\"x\"},\"y\":{\"field\":\"y\"}},\"id\":\"104814\",\"type\":\"Step\"},{\"attributes\":{\"fill_color\":{\"value\":\"red\"},\"line_color\":{\"value\":\"#1f77b4\"},\"size\":{\"units\":\"screen\",\"value\":6},\"x\":{\"field\":\"x\"},\"y\":{\"field\":\"y\"}},\"id\":\"104863\",\"type\":\"Circle\"},{\"attributes\":{},\"id\":\"107774\",\"type\":\"Selection\"},{\"attributes\":{},\"id\":\"104800\",\"type\":\"PanTool\"},{\"attributes\":{\"fill_alpha\":{\"value\":0.1},\"fill_color\":{\"value\":\"#1f77b4\"},\"line_alpha\":{\"value\":0.1},\"line_color\":{\"value\":\"#1f77b4\"},\"size\":{\"units\":\"screen\",\"value\":6},\"x\":{\"field\":\"x\"},\"y\":{\"field\":\"y\"}},\"id\":\"104864\",\"type\":\"Circle\"},{\"attributes\":{},\"id\":\"104804\",\"type\":\"ResetTool\"}],\"root_ids\":[\"104911\"]},\"title\":\"Bokeh Application\",\"version\":\"1.2.0\"}};\n",
       "  var render_items = [{\"docid\":\"5505f6ba-b94c-4447-8cba-c1131235203a\",\"roots\":{\"104911\":\"5df325d2-b8a1-419d-9724-f827231aa839\"}}];\n",
       "  root.Bokeh.embed.embed_items_notebook(docs_json, render_items);\n",
       "\n",
       "  }\n",
       "  if (root.Bokeh !== undefined) {\n",
       "    embed_document(root);\n",
       "  } else {\n",
       "    var attempts = 0;\n",
       "    var timer = setInterval(function(root) {\n",
       "      if (root.Bokeh !== undefined) {\n",
       "        embed_document(root);\n",
       "        clearInterval(timer);\n",
       "      }\n",
       "      attempts++;\n",
       "      if (attempts > 100) {\n",
       "        console.log(\"Bokeh: ERROR: Unable to run BokehJS code because BokehJS library is missing\");\n",
       "        clearInterval(timer);\n",
       "      }\n",
       "    }, 10, root)\n",
       "  }\n",
       "})(window);"
      ],
      "application/vnd.bokehjs_exec.v0+json": ""
     },
     "metadata": {
      "application/vnd.bokehjs_exec.v0+json": {
       "id": "104911"
      }
     },
     "output_type": "display_data"
    }
   ],
   "source": [
    "# Addition\n",
    "plot_row(ts, ts + 10, y_range=(-5, 40))\n",
    "plot_row(ts, ts2, ts + ts2, y_range=(-5, 40))"
   ]
  },
  {
   "cell_type": "code",
   "execution_count": 108,
   "metadata": {},
   "outputs": [
    {
     "data": {
      "text/html": [
       "\n",
       "\n",
       "\n",
       "\n",
       "\n",
       "\n",
       "  <div class=\"bk-root\" id=\"6329b687-d15e-4ff5-b48b-0f33acd59a5b\" data-root-id=\"95338\"></div>\n"
      ]
     },
     "metadata": {},
     "output_type": "display_data"
    },
    {
     "data": {
      "application/javascript": [
       "(function(root) {\n",
       "  function embed_document(root) {\n",
       "    \n",
       "  var docs_json = {\"f1c8214b-589a-4c78-9b71-95b5f6709898\":{\"roots\":{\"references\":[{\"attributes\":{\"children\":[{\"id\":\"95250\",\"subtype\":\"Figure\",\"type\":\"Plot\"},{\"id\":\"95294\",\"subtype\":\"Figure\",\"type\":\"Plot\"}]},\"id\":\"95338\",\"type\":\"Row\"},{\"attributes\":{\"overlay\":{\"id\":\"98027\",\"type\":\"BoxAnnotation\"}},\"id\":\"95273\",\"type\":\"BoxZoomTool\"},{\"attributes\":{\"source\":{\"id\":\"95328\",\"type\":\"ColumnDataSource\"}},\"id\":\"95332\",\"type\":\"CDSView\"},{\"attributes\":{},\"id\":\"95274\",\"type\":\"SaveTool\"},{\"attributes\":{\"months\":[0,4,8]},\"id\":\"98037\",\"type\":\"MonthsTicker\"},{\"attributes\":{\"callback\":null,\"data\":{\"x\":[1546300800000.0,1546301400000.0,1546301700000.0,1546301820000.0],\"y\":[0,10,0,-9]},\"selected\":{\"id\":\"98042\",\"type\":\"Selection\"},\"selection_policy\":{\"id\":\"98043\",\"type\":\"UnionRenderers\"}},\"id\":\"95333\",\"type\":\"ColumnDataSource\"},{\"attributes\":{},\"id\":\"95275\",\"type\":\"ResetTool\"},{\"attributes\":{\"months\":[0,6]},\"id\":\"98038\",\"type\":\"MonthsTicker\"},{\"attributes\":{\"fill_color\":{\"value\":\"red\"},\"line_color\":{\"value\":\"#1f77b4\"},\"size\":{\"units\":\"screen\",\"value\":6},\"x\":{\"field\":\"x\"},\"y\":{\"field\":\"y\"}},\"id\":\"95334\",\"type\":\"Circle\"},{\"attributes\":{},\"id\":\"95276\",\"type\":\"HelpTool\"},{\"attributes\":{\"fill_alpha\":{\"value\":0.1},\"fill_color\":{\"value\":\"#1f77b4\"},\"line_alpha\":{\"value\":0.1},\"line_color\":{\"value\":\"#1f77b4\"},\"size\":{\"units\":\"screen\",\"value\":6},\"x\":{\"field\":\"x\"},\"y\":{\"field\":\"y\"}},\"id\":\"95335\",\"type\":\"Circle\"},{\"attributes\":{},\"id\":\"98039\",\"type\":\"YearsTicker\"},{\"attributes\":{},\"id\":\"98040\",\"type\":\"Selection\"},{\"attributes\":{\"active_drag\":\"auto\",\"active_inspect\":\"auto\",\"active_multi\":null,\"active_scroll\":\"auto\",\"active_tap\":\"auto\",\"tools\":[{\"id\":\"95271\",\"type\":\"PanTool\"},{\"id\":\"95272\",\"type\":\"WheelZoomTool\"},{\"id\":\"95273\",\"type\":\"BoxZoomTool\"},{\"id\":\"95274\",\"type\":\"SaveTool\"},{\"id\":\"95275\",\"type\":\"ResetTool\"},{\"id\":\"95276\",\"type\":\"HelpTool\"}]},\"id\":\"95277\",\"type\":\"Toolbar\"},{\"attributes\":{\"data_source\":{\"id\":\"95333\",\"type\":\"ColumnDataSource\"},\"glyph\":{\"id\":\"95334\",\"type\":\"Circle\"},\"hover_glyph\":null,\"muted_glyph\":null,\"nonselection_glyph\":{\"id\":\"95335\",\"type\":\"Circle\"},\"selection_glyph\":null,\"view\":{\"id\":\"95337\",\"type\":\"CDSView\"}},\"id\":\"95336\",\"type\":\"GlyphRenderer\"},{\"attributes\":{},\"id\":\"98041\",\"type\":\"UnionRenderers\"},{\"attributes\":{\"data_source\":{\"id\":\"95284\",\"type\":\"ColumnDataSource\"},\"glyph\":{\"id\":\"95285\",\"type\":\"Step\"},\"hover_glyph\":null,\"muted_glyph\":null,\"nonselection_glyph\":{\"id\":\"95286\",\"type\":\"Step\"},\"selection_glyph\":null,\"view\":{\"id\":\"95288\",\"type\":\"CDSView\"}},\"id\":\"95287\",\"type\":\"GlyphRenderer\"},{\"attributes\":{\"source\":{\"id\":\"95333\",\"type\":\"ColumnDataSource\"}},\"id\":\"95337\",\"type\":\"CDSView\"},{\"attributes\":{\"source\":{\"id\":\"95284\",\"type\":\"ColumnDataSource\"}},\"id\":\"95288\",\"type\":\"CDSView\"},{\"attributes\":{},\"id\":\"98042\",\"type\":\"Selection\"},{\"attributes\":{\"callback\":null,\"data\":{\"x\":[1546300800000.0,1546301400000.0,1546301700000.0,1546301820000.0],\"y\":[10,20,10,1]},\"selected\":{\"id\":\"98025\",\"type\":\"Selection\"},\"selection_policy\":{\"id\":\"98026\",\"type\":\"UnionRenderers\"}},\"id\":\"95289\",\"type\":\"ColumnDataSource\"},{\"attributes\":{},\"id\":\"98043\",\"type\":\"UnionRenderers\"},{\"attributes\":{\"fill_color\":{\"value\":\"red\"},\"line_color\":{\"value\":\"#1f77b4\"},\"size\":{\"units\":\"screen\",\"value\":6},\"x\":{\"field\":\"x\"},\"y\":{\"field\":\"y\"}},\"id\":\"95290\",\"type\":\"Circle\"},{\"attributes\":{\"bottom_units\":\"screen\",\"fill_alpha\":{\"value\":0.5},\"fill_color\":{\"value\":\"lightgrey\"},\"left_units\":\"screen\",\"level\":\"overlay\",\"line_alpha\":{\"value\":1.0},\"line_color\":{\"value\":\"black\"},\"line_dash\":[4,4],\"line_width\":{\"value\":2},\"render_mode\":\"css\",\"right_units\":\"screen\",\"top_units\":\"screen\"},\"id\":\"98044\",\"type\":\"BoxAnnotation\"},{\"attributes\":{\"fill_alpha\":{\"value\":0.1},\"fill_color\":{\"value\":\"#1f77b4\"},\"line_alpha\":{\"value\":0.1},\"line_color\":{\"value\":\"#1f77b4\"},\"size\":{\"units\":\"screen\",\"value\":6},\"x\":{\"field\":\"x\"},\"y\":{\"field\":\"y\"}},\"id\":\"95291\",\"type\":\"Circle\"},{\"attributes\":{},\"id\":\"98008\",\"type\":\"BasicTickFormatter\"},{\"attributes\":{},\"id\":\"98010\",\"type\":\"DatetimeTickFormatter\"},{\"attributes\":{\"data_source\":{\"id\":\"95289\",\"type\":\"ColumnDataSource\"},\"glyph\":{\"id\":\"95290\",\"type\":\"Circle\"},\"hover_glyph\":null,\"muted_glyph\":null,\"nonselection_glyph\":{\"id\":\"95291\",\"type\":\"Circle\"},\"selection_glyph\":null,\"view\":{\"id\":\"95293\",\"type\":\"CDSView\"}},\"id\":\"95292\",\"type\":\"GlyphRenderer\"},{\"attributes\":{\"mantissas\":[1,2,5],\"max_interval\":500.0,\"num_minor_ticks\":0},\"id\":\"98011\",\"type\":\"AdaptiveTicker\"},{\"attributes\":{\"source\":{\"id\":\"95289\",\"type\":\"ColumnDataSource\"}},\"id\":\"95293\",\"type\":\"CDSView\"},{\"attributes\":{\"base\":60,\"mantissas\":[1,2,5,10,15,20,30],\"max_interval\":1800000.0,\"min_interval\":1000.0,\"num_minor_ticks\":0},\"id\":\"98012\",\"type\":\"AdaptiveTicker\"},{\"attributes\":{\"below\":[{\"id\":\"95305\",\"type\":\"DatetimeAxis\"}],\"center\":[{\"id\":\"95309\",\"type\":\"Grid\"},{\"id\":\"95314\",\"type\":\"Grid\"}],\"left\":[{\"id\":\"95310\",\"type\":\"LinearAxis\"}],\"plot_height\":250,\"plot_width\":400,\"renderers\":[{\"id\":\"95331\",\"type\":\"GlyphRenderer\"},{\"id\":\"95336\",\"type\":\"GlyphRenderer\"}],\"title\":{\"id\":\"95295\",\"type\":\"Title\"},\"toolbar\":{\"id\":\"95321\",\"type\":\"Toolbar\"},\"x_range\":{\"id\":\"95297\",\"type\":\"Range1d\"},\"x_scale\":{\"id\":\"95301\",\"type\":\"LinearScale\"},\"y_range\":{\"id\":\"95299\",\"type\":\"Range1d\"},\"y_scale\":{\"id\":\"95303\",\"type\":\"LinearScale\"}},\"id\":\"95294\",\"subtype\":\"Figure\",\"type\":\"Plot\"},{\"attributes\":{\"base\":24,\"mantissas\":[1,2,4,6,8,12],\"max_interval\":43200000.0,\"min_interval\":3600000.0,\"num_minor_ticks\":0},\"id\":\"98013\",\"type\":\"AdaptiveTicker\"},{\"attributes\":{\"days\":[1,2,3,4,5,6,7,8,9,10,11,12,13,14,15,16,17,18,19,20,21,22,23,24,25,26,27,28,29,30,31]},\"id\":\"98014\",\"type\":\"DaysTicker\"},{\"attributes\":{\"text\":\"ts2\"},\"id\":\"95295\",\"type\":\"Title\"},{\"attributes\":{},\"id\":\"98006\",\"type\":\"DatetimeTickFormatter\"},{\"attributes\":{\"days\":[1,4,7,10,13,16,19,22,25,28]},\"id\":\"98015\",\"type\":\"DaysTicker\"},{\"attributes\":{\"callback\":null,\"end\":1546302000000,\"start\":1546300620000},\"id\":\"95297\",\"type\":\"Range1d\"},{\"attributes\":{},\"id\":\"98004\",\"type\":\"BasicTickFormatter\"},{\"attributes\":{\"days\":[1,8,15,22]},\"id\":\"98016\",\"type\":\"DaysTicker\"},{\"attributes\":{\"days\":[1,15]},\"id\":\"98017\",\"type\":\"DaysTicker\"},{\"attributes\":{\"callback\":null,\"end\":30,\"start\":-5},\"id\":\"95299\",\"type\":\"Range1d\"},{\"attributes\":{\"months\":[0,1,2,3,4,5,6,7,8,9,10,11]},\"id\":\"98018\",\"type\":\"MonthsTicker\"},{\"attributes\":{\"num_minor_ticks\":5,\"tickers\":[{\"id\":\"98011\",\"type\":\"AdaptiveTicker\"},{\"id\":\"98012\",\"type\":\"AdaptiveTicker\"},{\"id\":\"98013\",\"type\":\"AdaptiveTicker\"},{\"id\":\"98014\",\"type\":\"DaysTicker\"},{\"id\":\"98015\",\"type\":\"DaysTicker\"},{\"id\":\"98016\",\"type\":\"DaysTicker\"},{\"id\":\"98017\",\"type\":\"DaysTicker\"},{\"id\":\"98018\",\"type\":\"MonthsTicker\"},{\"id\":\"98019\",\"type\":\"MonthsTicker\"},{\"id\":\"98020\",\"type\":\"MonthsTicker\"},{\"id\":\"98021\",\"type\":\"MonthsTicker\"},{\"id\":\"98022\",\"type\":\"YearsTicker\"}]},\"id\":\"95262\",\"type\":\"DatetimeTicker\"},{\"attributes\":{},\"id\":\"95301\",\"type\":\"LinearScale\"},{\"attributes\":{\"months\":[0,2,4,6,8,10]},\"id\":\"98036\",\"type\":\"MonthsTicker\"},{\"attributes\":{\"months\":[0,2,4,6,8,10]},\"id\":\"98019\",\"type\":\"MonthsTicker\"},{\"attributes\":{},\"id\":\"95303\",\"type\":\"LinearScale\"},{\"attributes\":{\"months\":[0,4,8]},\"id\":\"98020\",\"type\":\"MonthsTicker\"},{\"attributes\":{\"ticker\":{\"id\":\"95262\",\"type\":\"DatetimeTicker\"}},\"id\":\"95265\",\"type\":\"Grid\"},{\"attributes\":{\"axis_label\":\"timestamp\",\"formatter\":{\"id\":\"98010\",\"type\":\"DatetimeTickFormatter\"},\"ticker\":{\"id\":\"95306\",\"type\":\"DatetimeTicker\"}},\"id\":\"95305\",\"type\":\"DatetimeAxis\"},{\"attributes\":{\"months\":[0,6]},\"id\":\"98021\",\"type\":\"MonthsTicker\"},{\"attributes\":{\"below\":[{\"id\":\"95261\",\"type\":\"DatetimeAxis\"}],\"center\":[{\"id\":\"95265\",\"type\":\"Grid\"},{\"id\":\"95270\",\"type\":\"Grid\"}],\"left\":[{\"id\":\"95266\",\"type\":\"LinearAxis\"}],\"plot_height\":250,\"plot_width\":400,\"renderers\":[{\"id\":\"95287\",\"type\":\"GlyphRenderer\"},{\"id\":\"95292\",\"type\":\"GlyphRenderer\"}],\"title\":{\"id\":\"95251\",\"type\":\"Title\"},\"toolbar\":{\"id\":\"95277\",\"type\":\"Toolbar\"},\"x_range\":{\"id\":\"95253\",\"type\":\"Range1d\"},\"x_scale\":{\"id\":\"95257\",\"type\":\"LinearScale\"},\"y_range\":{\"id\":\"95255\",\"type\":\"Range1d\"},\"y_scale\":{\"id\":\"95259\",\"type\":\"LinearScale\"}},\"id\":\"95250\",\"subtype\":\"Figure\",\"type\":\"Plot\"},{\"attributes\":{\"num_minor_ticks\":5,\"tickers\":[{\"id\":\"98028\",\"type\":\"AdaptiveTicker\"},{\"id\":\"98029\",\"type\":\"AdaptiveTicker\"},{\"id\":\"98030\",\"type\":\"AdaptiveTicker\"},{\"id\":\"98031\",\"type\":\"DaysTicker\"},{\"id\":\"98032\",\"type\":\"DaysTicker\"},{\"id\":\"98033\",\"type\":\"DaysTicker\"},{\"id\":\"98034\",\"type\":\"DaysTicker\"},{\"id\":\"98035\",\"type\":\"MonthsTicker\"},{\"id\":\"98036\",\"type\":\"MonthsTicker\"},{\"id\":\"98037\",\"type\":\"MonthsTicker\"},{\"id\":\"98038\",\"type\":\"MonthsTicker\"},{\"id\":\"98039\",\"type\":\"YearsTicker\"}]},\"id\":\"95306\",\"type\":\"DatetimeTicker\"},{\"attributes\":{},\"id\":\"98022\",\"type\":\"YearsTicker\"},{\"attributes\":{\"ticker\":{\"id\":\"95306\",\"type\":\"DatetimeTicker\"}},\"id\":\"95309\",\"type\":\"Grid\"},{\"attributes\":{},\"id\":\"98023\",\"type\":\"Selection\"},{\"attributes\":{\"text\":\"ts1\"},\"id\":\"95251\",\"type\":\"Title\"},{\"attributes\":{\"axis_label\":\"IoT sensor\",\"formatter\":{\"id\":\"98008\",\"type\":\"BasicTickFormatter\"},\"ticker\":{\"id\":\"95311\",\"type\":\"BasicTicker\"}},\"id\":\"95310\",\"type\":\"LinearAxis\"},{\"attributes\":{\"callback\":null,\"end\":30,\"start\":-5},\"id\":\"95255\",\"type\":\"Range1d\"},{\"attributes\":{},\"id\":\"98024\",\"type\":\"UnionRenderers\"},{\"attributes\":{},\"id\":\"95311\",\"type\":\"BasicTicker\"},{\"attributes\":{\"callback\":null,\"end\":1546302000000,\"start\":1546300620000},\"id\":\"95253\",\"type\":\"Range1d\"},{\"attributes\":{},\"id\":\"98025\",\"type\":\"Selection\"},{\"attributes\":{\"dimension\":1,\"ticker\":{\"id\":\"95311\",\"type\":\"BasicTicker\"}},\"id\":\"95314\",\"type\":\"Grid\"},{\"attributes\":{},\"id\":\"95257\",\"type\":\"LinearScale\"},{\"attributes\":{},\"id\":\"98026\",\"type\":\"UnionRenderers\"},{\"attributes\":{\"line_alpha\":{\"value\":0.1},\"line_color\":{\"value\":\"#1f77b4\"},\"line_dash\":[4,4],\"line_width\":{\"value\":2},\"mode\":\"after\",\"x\":{\"field\":\"x\"},\"y\":{\"field\":\"y\"}},\"id\":\"95330\",\"type\":\"Step\"},{\"attributes\":{\"line_color\":{\"value\":\"#1f77b4\"},\"line_dash\":[4,4],\"line_width\":{\"value\":2},\"mode\":\"after\",\"x\":{\"field\":\"x\"},\"y\":{\"field\":\"y\"}},\"id\":\"95329\",\"type\":\"Step\"},{\"attributes\":{\"bottom_units\":\"screen\",\"fill_alpha\":{\"value\":0.5},\"fill_color\":{\"value\":\"lightgrey\"},\"left_units\":\"screen\",\"level\":\"overlay\",\"line_alpha\":{\"value\":1.0},\"line_color\":{\"value\":\"black\"},\"line_dash\":[4,4],\"line_width\":{\"value\":2},\"render_mode\":\"css\",\"right_units\":\"screen\",\"top_units\":\"screen\"},\"id\":\"98027\",\"type\":\"BoxAnnotation\"},{\"attributes\":{\"axis_label\":\"timestamp\",\"formatter\":{\"id\":\"98006\",\"type\":\"DatetimeTickFormatter\"},\"ticker\":{\"id\":\"95262\",\"type\":\"DatetimeTicker\"}},\"id\":\"95261\",\"type\":\"DatetimeAxis\"},{\"attributes\":{\"callback\":null,\"data\":{\"x\":[1546300800000.0,1546301400000.0,1546301700000.0,1546301820000.0],\"y\":[0,10,0,-9]},\"selected\":{\"id\":\"98040\",\"type\":\"Selection\"},\"selection_policy\":{\"id\":\"98041\",\"type\":\"UnionRenderers\"}},\"id\":\"95328\",\"type\":\"ColumnDataSource\"},{\"attributes\":{\"mantissas\":[1,2,5],\"max_interval\":500.0,\"num_minor_ticks\":0},\"id\":\"98028\",\"type\":\"AdaptiveTicker\"},{\"attributes\":{\"active_drag\":\"auto\",\"active_inspect\":\"auto\",\"active_multi\":null,\"active_scroll\":\"auto\",\"active_tap\":\"auto\",\"tools\":[{\"id\":\"95315\",\"type\":\"PanTool\"},{\"id\":\"95316\",\"type\":\"WheelZoomTool\"},{\"id\":\"95317\",\"type\":\"BoxZoomTool\"},{\"id\":\"95318\",\"type\":\"SaveTool\"},{\"id\":\"95319\",\"type\":\"ResetTool\"},{\"id\":\"95320\",\"type\":\"HelpTool\"}]},\"id\":\"95321\",\"type\":\"Toolbar\"},{\"attributes\":{},\"id\":\"95271\",\"type\":\"PanTool\"},{\"attributes\":{},\"id\":\"95315\",\"type\":\"PanTool\"},{\"attributes\":{},\"id\":\"95259\",\"type\":\"LinearScale\"},{\"attributes\":{\"base\":60,\"mantissas\":[1,2,5,10,15,20,30],\"max_interval\":1800000.0,\"min_interval\":1000.0,\"num_minor_ticks\":0},\"id\":\"98029\",\"type\":\"AdaptiveTicker\"},{\"attributes\":{},\"id\":\"95272\",\"type\":\"WheelZoomTool\"},{\"attributes\":{},\"id\":\"95316\",\"type\":\"WheelZoomTool\"},{\"attributes\":{\"base\":24,\"mantissas\":[1,2,4,6,8,12],\"max_interval\":43200000.0,\"min_interval\":3600000.0,\"num_minor_ticks\":0},\"id\":\"98030\",\"type\":\"AdaptiveTicker\"},{\"attributes\":{\"line_color\":{\"value\":\"#1f77b4\"},\"line_dash\":[4,4],\"line_width\":{\"value\":2},\"mode\":\"after\",\"x\":{\"field\":\"x\"},\"y\":{\"field\":\"y\"}},\"id\":\"95285\",\"type\":\"Step\"},{\"attributes\":{\"overlay\":{\"id\":\"98044\",\"type\":\"BoxAnnotation\"}},\"id\":\"95317\",\"type\":\"BoxZoomTool\"},{\"attributes\":{\"days\":[1,2,3,4,5,6,7,8,9,10,11,12,13,14,15,16,17,18,19,20,21,22,23,24,25,26,27,28,29,30,31]},\"id\":\"98031\",\"type\":\"DaysTicker\"},{\"attributes\":{},\"id\":\"95318\",\"type\":\"SaveTool\"},{\"attributes\":{\"axis_label\":\"IoT sensor\",\"formatter\":{\"id\":\"98004\",\"type\":\"BasicTickFormatter\"},\"ticker\":{\"id\":\"95267\",\"type\":\"BasicTicker\"}},\"id\":\"95266\",\"type\":\"LinearAxis\"},{\"attributes\":{\"days\":[1,4,7,10,13,16,19,22,25,28]},\"id\":\"98032\",\"type\":\"DaysTicker\"},{\"attributes\":{\"callback\":null,\"data\":{\"x\":[1546300800000.0,1546301400000.0,1546301700000.0,1546301820000.0],\"y\":[10,20,10,1]},\"selected\":{\"id\":\"98023\",\"type\":\"Selection\"},\"selection_policy\":{\"id\":\"98024\",\"type\":\"UnionRenderers\"}},\"id\":\"95284\",\"type\":\"ColumnDataSource\"},{\"attributes\":{},\"id\":\"95319\",\"type\":\"ResetTool\"},{\"attributes\":{\"line_alpha\":{\"value\":0.1},\"line_color\":{\"value\":\"#1f77b4\"},\"line_dash\":[4,4],\"line_width\":{\"value\":2},\"mode\":\"after\",\"x\":{\"field\":\"x\"},\"y\":{\"field\":\"y\"}},\"id\":\"95286\",\"type\":\"Step\"},{\"attributes\":{\"days\":[1,8,15,22]},\"id\":\"98033\",\"type\":\"DaysTicker\"},{\"attributes\":{},\"id\":\"95320\",\"type\":\"HelpTool\"},{\"attributes\":{\"days\":[1,15]},\"id\":\"98034\",\"type\":\"DaysTicker\"},{\"attributes\":{\"dimension\":1,\"ticker\":{\"id\":\"95267\",\"type\":\"BasicTicker\"}},\"id\":\"95270\",\"type\":\"Grid\"},{\"attributes\":{\"months\":[0,1,2,3,4,5,6,7,8,9,10,11]},\"id\":\"98035\",\"type\":\"MonthsTicker\"},{\"attributes\":{},\"id\":\"95267\",\"type\":\"BasicTicker\"},{\"attributes\":{\"data_source\":{\"id\":\"95328\",\"type\":\"ColumnDataSource\"},\"glyph\":{\"id\":\"95329\",\"type\":\"Step\"},\"hover_glyph\":null,\"muted_glyph\":null,\"nonselection_glyph\":{\"id\":\"95330\",\"type\":\"Step\"},\"selection_glyph\":null,\"view\":{\"id\":\"95332\",\"type\":\"CDSView\"}},\"id\":\"95331\",\"type\":\"GlyphRenderer\"}],\"root_ids\":[\"95338\"]},\"title\":\"Bokeh Application\",\"version\":\"1.2.0\"}};\n",
       "  var render_items = [{\"docid\":\"f1c8214b-589a-4c78-9b71-95b5f6709898\",\"roots\":{\"95338\":\"6329b687-d15e-4ff5-b48b-0f33acd59a5b\"}}];\n",
       "  root.Bokeh.embed.embed_items_notebook(docs_json, render_items);\n",
       "\n",
       "  }\n",
       "  if (root.Bokeh !== undefined) {\n",
       "    embed_document(root);\n",
       "  } else {\n",
       "    var attempts = 0;\n",
       "    var timer = setInterval(function(root) {\n",
       "      if (root.Bokeh !== undefined) {\n",
       "        embed_document(root);\n",
       "        clearInterval(timer);\n",
       "      }\n",
       "      attempts++;\n",
       "      if (attempts > 100) {\n",
       "        console.log(\"Bokeh: ERROR: Unable to run BokehJS code because BokehJS library is missing\");\n",
       "        clearInterval(timer);\n",
       "      }\n",
       "    }, 10, root)\n",
       "  }\n",
       "})(window);"
      ],
      "application/vnd.bokehjs_exec.v0+json": ""
     },
     "metadata": {
      "application/vnd.bokehjs_exec.v0+json": {
       "id": "95338"
      }
     },
     "output_type": "display_data"
    },
    {
     "data": {
      "text/html": [
       "\n",
       "\n",
       "\n",
       "\n",
       "\n",
       "\n",
       "  <div class=\"bk-root\" id=\"96f7afe3-ce89-45f2-adda-b204df579afc\" data-root-id=\"98441\"></div>\n"
      ]
     },
     "metadata": {},
     "output_type": "display_data"
    },
    {
     "data": {
      "application/javascript": [
       "(function(root) {\n",
       "  function embed_document(root) {\n",
       "    \n",
       "  var docs_json = {\"89ef2bc3-2d2f-4cce-9db5-5d7bfefd7783\":{\"roots\":{\"references\":[{\"attributes\":{\"children\":[{\"id\":\"98309\",\"subtype\":\"Figure\",\"type\":\"Plot\"},{\"id\":\"98353\",\"subtype\":\"Figure\",\"type\":\"Plot\"},{\"id\":\"98397\",\"subtype\":\"Figure\",\"type\":\"Plot\"}]},\"id\":\"98441\",\"type\":\"Row\"},{\"attributes\":{\"base\":60,\"mantissas\":[1,2,5,10,15,20,30],\"max_interval\":1800000.0,\"min_interval\":1000.0,\"num_minor_ticks\":0},\"id\":\"101164\",\"type\":\"AdaptiveTicker\"},{\"attributes\":{\"base\":24,\"mantissas\":[1,2,4,6,8,12],\"max_interval\":43200000.0,\"min_interval\":3600000.0,\"num_minor_ticks\":0},\"id\":\"101165\",\"type\":\"AdaptiveTicker\"},{\"attributes\":{\"days\":[1,2,3,4,5,6,7,8,9,10,11,12,13,14,15,16,17,18,19,20,21,22,23,24,25,26,27,28,29,30,31]},\"id\":\"101166\",\"type\":\"DaysTicker\"},{\"attributes\":{\"days\":[1,4,7,10,13,16,19,22,25,28]},\"id\":\"101167\",\"type\":\"DaysTicker\"},{\"attributes\":{\"days\":[1,8,15,22]},\"id\":\"101168\",\"type\":\"DaysTicker\"},{\"attributes\":{\"days\":[1,15]},\"id\":\"101169\",\"type\":\"DaysTicker\"},{\"attributes\":{\"months\":[0,1,2,3,4,5,6,7,8,9,10,11]},\"id\":\"101170\",\"type\":\"MonthsTicker\"},{\"attributes\":{\"months\":[0,2,4,6,8,10]},\"id\":\"101171\",\"type\":\"MonthsTicker\"},{\"attributes\":{\"months\":[0,4,8]},\"id\":\"101172\",\"type\":\"MonthsTicker\"},{\"attributes\":{\"months\":[0,6]},\"id\":\"101173\",\"type\":\"MonthsTicker\"},{\"attributes\":{},\"id\":\"101174\",\"type\":\"YearsTicker\"},{\"attributes\":{},\"id\":\"101175\",\"type\":\"Selection\"},{\"attributes\":{},\"id\":\"101176\",\"type\":\"UnionRenderers\"},{\"attributes\":{},\"id\":\"101177\",\"type\":\"Selection\"},{\"attributes\":{},\"id\":\"101178\",\"type\":\"UnionRenderers\"},{\"attributes\":{\"bottom_units\":\"screen\",\"fill_alpha\":{\"value\":0.5},\"fill_color\":{\"value\":\"lightgrey\"},\"left_units\":\"screen\",\"level\":\"overlay\",\"line_alpha\":{\"value\":1.0},\"line_color\":{\"value\":\"black\"},\"line_dash\":[4,4],\"line_width\":{\"value\":2},\"render_mode\":\"css\",\"right_units\":\"screen\",\"top_units\":\"screen\"},\"id\":\"101179\",\"type\":\"BoxAnnotation\"},{\"attributes\":{\"mantissas\":[1,2,5],\"max_interval\":500.0,\"num_minor_ticks\":0},\"id\":\"101180\",\"type\":\"AdaptiveTicker\"},{\"attributes\":{\"days\":[1,4,7,10,13,16,19,22,25,28]},\"id\":\"101184\",\"type\":\"DaysTicker\"},{\"attributes\":{\"days\":[1,8,15,22]},\"id\":\"101185\",\"type\":\"DaysTicker\"},{\"attributes\":{\"days\":[1,15]},\"id\":\"101186\",\"type\":\"DaysTicker\"},{\"attributes\":{\"months\":[0,1,2,3,4,5,6,7,8,9,10,11]},\"id\":\"101187\",\"type\":\"MonthsTicker\"},{\"attributes\":{\"months\":[0,2,4,6,8,10]},\"id\":\"101188\",\"type\":\"MonthsTicker\"},{\"attributes\":{\"months\":[0,4,8]},\"id\":\"101189\",\"type\":\"MonthsTicker\"},{\"attributes\":{\"months\":[0,6]},\"id\":\"101190\",\"type\":\"MonthsTicker\"},{\"attributes\":{},\"id\":\"101191\",\"type\":\"YearsTicker\"},{\"attributes\":{},\"id\":\"101192\",\"type\":\"Selection\"},{\"attributes\":{},\"id\":\"101193\",\"type\":\"UnionRenderers\"},{\"attributes\":{},\"id\":\"101194\",\"type\":\"Selection\"},{\"attributes\":{},\"id\":\"101195\",\"type\":\"UnionRenderers\"},{\"attributes\":{\"source\":{\"id\":\"98343\",\"type\":\"ColumnDataSource\"}},\"id\":\"98347\",\"type\":\"CDSView\"},{\"attributes\":{\"bottom_units\":\"screen\",\"fill_alpha\":{\"value\":0.5},\"fill_color\":{\"value\":\"lightgrey\"},\"left_units\":\"screen\",\"level\":\"overlay\",\"line_alpha\":{\"value\":1.0},\"line_color\":{\"value\":\"black\"},\"line_dash\":[4,4],\"line_width\":{\"value\":2},\"render_mode\":\"css\",\"right_units\":\"screen\",\"top_units\":\"screen\"},\"id\":\"101196\",\"type\":\"BoxAnnotation\"},{\"attributes\":{\"mantissas\":[1,2,5],\"max_interval\":500.0,\"num_minor_ticks\":0},\"id\":\"101197\",\"type\":\"AdaptiveTicker\"},{\"attributes\":{\"base\":60,\"mantissas\":[1,2,5,10,15,20,30],\"max_interval\":1800000.0,\"min_interval\":1000.0,\"num_minor_ticks\":0},\"id\":\"101198\",\"type\":\"AdaptiveTicker\"},{\"attributes\":{\"base\":24,\"mantissas\":[1,2,4,6,8,12],\"max_interval\":43200000.0,\"min_interval\":3600000.0,\"num_minor_ticks\":0},\"id\":\"101199\",\"type\":\"AdaptiveTicker\"},{\"attributes\":{\"days\":[1,2,3,4,5,6,7,8,9,10,11,12,13,14,15,16,17,18,19,20,21,22,23,24,25,26,27,28,29,30,31]},\"id\":\"101200\",\"type\":\"DaysTicker\"},{\"attributes\":{\"days\":[1,4,7,10,13,16,19,22,25,28]},\"id\":\"101201\",\"type\":\"DaysTicker\"},{\"attributes\":{\"callback\":null,\"data\":{\"x\":[1546300800000.0,1546301400000.0,1546301700000.0,1546301820000.0],\"y\":[10,20,10,1]},\"selected\":{\"id\":\"101177\",\"type\":\"Selection\"},\"selection_policy\":{\"id\":\"101178\",\"type\":\"UnionRenderers\"}},\"id\":\"98348\",\"type\":\"ColumnDataSource\"},{\"attributes\":{\"days\":[1,8,15,22]},\"id\":\"101202\",\"type\":\"DaysTicker\"},{\"attributes\":{\"text\":\"ts3\"},\"id\":\"98398\",\"type\":\"Title\"},{\"attributes\":{\"fill_color\":{\"value\":\"red\"},\"line_color\":{\"value\":\"#1f77b4\"},\"size\":{\"units\":\"screen\",\"value\":6},\"x\":{\"field\":\"x\"},\"y\":{\"field\":\"y\"}},\"id\":\"98349\",\"type\":\"Circle\"},{\"attributes\":{\"days\":[1,15]},\"id\":\"101203\",\"type\":\"DaysTicker\"},{\"attributes\":{\"callback\":null,\"end\":1546302000000,\"start\":1546300620000},\"id\":\"98400\",\"type\":\"Range1d\"},{\"attributes\":{\"fill_alpha\":{\"value\":0.1},\"fill_color\":{\"value\":\"#1f77b4\"},\"line_alpha\":{\"value\":0.1},\"line_color\":{\"value\":\"#1f77b4\"},\"size\":{\"units\":\"screen\",\"value\":6},\"x\":{\"field\":\"x\"},\"y\":{\"field\":\"y\"}},\"id\":\"98350\",\"type\":\"Circle\"},{\"attributes\":{\"months\":[0,1,2,3,4,5,6,7,8,9,10,11]},\"id\":\"101204\",\"type\":\"MonthsTicker\"},{\"attributes\":{\"callback\":null,\"end\":30,\"start\":-5},\"id\":\"98402\",\"type\":\"Range1d\"},{\"attributes\":{\"data_source\":{\"id\":\"98348\",\"type\":\"ColumnDataSource\"},\"glyph\":{\"id\":\"98349\",\"type\":\"Circle\"},\"hover_glyph\":null,\"muted_glyph\":null,\"nonselection_glyph\":{\"id\":\"98350\",\"type\":\"Circle\"},\"selection_glyph\":null,\"view\":{\"id\":\"98352\",\"type\":\"CDSView\"}},\"id\":\"98351\",\"type\":\"GlyphRenderer\"},{\"attributes\":{\"months\":[0,2,4,6,8,10]},\"id\":\"101205\",\"type\":\"MonthsTicker\"},{\"attributes\":{},\"id\":\"98404\",\"type\":\"LinearScale\"},{\"attributes\":{\"source\":{\"id\":\"98348\",\"type\":\"ColumnDataSource\"}},\"id\":\"98352\",\"type\":\"CDSView\"},{\"attributes\":{\"months\":[0,4,8]},\"id\":\"101206\",\"type\":\"MonthsTicker\"},{\"attributes\":{},\"id\":\"98406\",\"type\":\"LinearScale\"},{\"attributes\":{\"months\":[0,6]},\"id\":\"101207\",\"type\":\"MonthsTicker\"},{\"attributes\":{\"below\":[{\"id\":\"98364\",\"type\":\"DatetimeAxis\"}],\"center\":[{\"id\":\"98368\",\"type\":\"Grid\"},{\"id\":\"98373\",\"type\":\"Grid\"}],\"left\":[{\"id\":\"98369\",\"type\":\"LinearAxis\"}],\"plot_height\":250,\"plot_width\":400,\"renderers\":[{\"id\":\"98390\",\"type\":\"GlyphRenderer\"},{\"id\":\"98395\",\"type\":\"GlyphRenderer\"}],\"title\":{\"id\":\"98354\",\"type\":\"Title\"},\"toolbar\":{\"id\":\"98380\",\"type\":\"Toolbar\"},\"x_range\":{\"id\":\"98356\",\"type\":\"Range1d\"},\"x_scale\":{\"id\":\"98360\",\"type\":\"LinearScale\"},\"y_range\":{\"id\":\"98358\",\"type\":\"Range1d\"},\"y_scale\":{\"id\":\"98362\",\"type\":\"LinearScale\"}},\"id\":\"98353\",\"subtype\":\"Figure\",\"type\":\"Plot\"},{\"attributes\":{\"axis_label\":\"timestamp\",\"formatter\":{\"id\":\"101162\",\"type\":\"DatetimeTickFormatter\"},\"ticker\":{\"id\":\"98409\",\"type\":\"DatetimeTicker\"}},\"id\":\"98408\",\"type\":\"DatetimeAxis\"},{\"attributes\":{},\"id\":\"101208\",\"type\":\"YearsTicker\"},{\"attributes\":{\"num_minor_ticks\":5,\"tickers\":[{\"id\":\"101197\",\"type\":\"AdaptiveTicker\"},{\"id\":\"101198\",\"type\":\"AdaptiveTicker\"},{\"id\":\"101199\",\"type\":\"AdaptiveTicker\"},{\"id\":\"101200\",\"type\":\"DaysTicker\"},{\"id\":\"101201\",\"type\":\"DaysTicker\"},{\"id\":\"101202\",\"type\":\"DaysTicker\"},{\"id\":\"101203\",\"type\":\"DaysTicker\"},{\"id\":\"101204\",\"type\":\"MonthsTicker\"},{\"id\":\"101205\",\"type\":\"MonthsTicker\"},{\"id\":\"101206\",\"type\":\"MonthsTicker\"},{\"id\":\"101207\",\"type\":\"MonthsTicker\"},{\"id\":\"101208\",\"type\":\"YearsTicker\"}]},\"id\":\"98409\",\"type\":\"DatetimeTicker\"},{\"attributes\":{\"text\":\"ts2\"},\"id\":\"98354\",\"type\":\"Title\"},{\"attributes\":{},\"id\":\"101209\",\"type\":\"Selection\"},{\"attributes\":{\"ticker\":{\"id\":\"98409\",\"type\":\"DatetimeTicker\"}},\"id\":\"98412\",\"type\":\"Grid\"},{\"attributes\":{\"callback\":null,\"end\":1546302000000,\"start\":1546300620000},\"id\":\"98356\",\"type\":\"Range1d\"},{\"attributes\":{},\"id\":\"101210\",\"type\":\"UnionRenderers\"},{\"attributes\":{\"axis_label\":\"IoT sensor\",\"formatter\":{\"id\":\"101160\",\"type\":\"BasicTickFormatter\"},\"ticker\":{\"id\":\"98414\",\"type\":\"BasicTicker\"}},\"id\":\"98413\",\"type\":\"LinearAxis\"},{\"attributes\":{\"callback\":null,\"end\":30,\"start\":-5},\"id\":\"98358\",\"type\":\"Range1d\"},{\"attributes\":{},\"id\":\"101211\",\"type\":\"Selection\"},{\"attributes\":{},\"id\":\"98414\",\"type\":\"BasicTicker\"},{\"attributes\":{\"base\":60,\"mantissas\":[1,2,5,10,15,20,30],\"max_interval\":1800000.0,\"min_interval\":1000.0,\"num_minor_ticks\":0},\"id\":\"101181\",\"type\":\"AdaptiveTicker\"},{\"attributes\":{\"days\":[1,2,3,4,5,6,7,8,9,10,11,12,13,14,15,16,17,18,19,20,21,22,23,24,25,26,27,28,29,30,31]},\"id\":\"101183\",\"type\":\"DaysTicker\"},{\"attributes\":{\"data_source\":{\"id\":\"98343\",\"type\":\"ColumnDataSource\"},\"glyph\":{\"id\":\"98344\",\"type\":\"Step\"},\"hover_glyph\":null,\"muted_glyph\":null,\"nonselection_glyph\":{\"id\":\"98345\",\"type\":\"Step\"},\"selection_glyph\":null,\"view\":{\"id\":\"98347\",\"type\":\"CDSView\"}},\"id\":\"98346\",\"type\":\"GlyphRenderer\"},{\"attributes\":{},\"id\":\"98360\",\"type\":\"LinearScale\"},{\"attributes\":{},\"id\":\"101212\",\"type\":\"UnionRenderers\"},{\"attributes\":{\"dimension\":1,\"ticker\":{\"id\":\"98370\",\"type\":\"BasicTicker\"}},\"id\":\"98373\",\"type\":\"Grid\"},{\"attributes\":{\"dimension\":1,\"ticker\":{\"id\":\"98414\",\"type\":\"BasicTicker\"}},\"id\":\"98417\",\"type\":\"Grid\"},{\"attributes\":{},\"id\":\"98362\",\"type\":\"LinearScale\"},{\"attributes\":{},\"id\":\"98334\",\"type\":\"ResetTool\"},{\"attributes\":{\"bottom_units\":\"screen\",\"fill_alpha\":{\"value\":0.5},\"fill_color\":{\"value\":\"lightgrey\"},\"left_units\":\"screen\",\"level\":\"overlay\",\"line_alpha\":{\"value\":1.0},\"line_color\":{\"value\":\"black\"},\"line_dash\":[4,4],\"line_width\":{\"value\":2},\"render_mode\":\"css\",\"right_units\":\"screen\",\"top_units\":\"screen\"},\"id\":\"101213\",\"type\":\"BoxAnnotation\"},{\"attributes\":{\"below\":[{\"id\":\"98320\",\"type\":\"DatetimeAxis\"}],\"center\":[{\"id\":\"98324\",\"type\":\"Grid\"},{\"id\":\"98329\",\"type\":\"Grid\"}],\"left\":[{\"id\":\"98325\",\"type\":\"LinearAxis\"}],\"plot_height\":250,\"plot_width\":400,\"renderers\":[{\"id\":\"98346\",\"type\":\"GlyphRenderer\"},{\"id\":\"98351\",\"type\":\"GlyphRenderer\"}],\"title\":{\"id\":\"98310\",\"type\":\"Title\"},\"toolbar\":{\"id\":\"98336\",\"type\":\"Toolbar\"},\"x_range\":{\"id\":\"98312\",\"type\":\"Range1d\"},\"x_scale\":{\"id\":\"98316\",\"type\":\"LinearScale\"},\"y_range\":{\"id\":\"98314\",\"type\":\"Range1d\"},\"y_scale\":{\"id\":\"98318\",\"type\":\"LinearScale\"}},\"id\":\"98309\",\"subtype\":\"Figure\",\"type\":\"Plot\"},{\"attributes\":{\"axis_label\":\"timestamp\",\"formatter\":{\"id\":\"101158\",\"type\":\"DatetimeTickFormatter\"},\"ticker\":{\"id\":\"98365\",\"type\":\"DatetimeTicker\"}},\"id\":\"98364\",\"type\":\"DatetimeAxis\"},{\"attributes\":{\"line_alpha\":{\"value\":0.1},\"line_color\":{\"value\":\"#1f77b4\"},\"line_dash\":[4,4],\"line_width\":{\"value\":2},\"mode\":\"after\",\"x\":{\"field\":\"x\"},\"y\":{\"field\":\"y\"}},\"id\":\"98433\",\"type\":\"Step\"},{\"attributes\":{\"line_color\":{\"value\":\"#1f77b4\"},\"line_dash\":[4,4],\"line_width\":{\"value\":2},\"mode\":\"after\",\"x\":{\"field\":\"x\"},\"y\":{\"field\":\"y\"}},\"id\":\"98432\",\"type\":\"Step\"},{\"attributes\":{\"num_minor_ticks\":5,\"tickers\":[{\"id\":\"101180\",\"type\":\"AdaptiveTicker\"},{\"id\":\"101181\",\"type\":\"AdaptiveTicker\"},{\"id\":\"101182\",\"type\":\"AdaptiveTicker\"},{\"id\":\"101183\",\"type\":\"DaysTicker\"},{\"id\":\"101184\",\"type\":\"DaysTicker\"},{\"id\":\"101185\",\"type\":\"DaysTicker\"},{\"id\":\"101186\",\"type\":\"DaysTicker\"},{\"id\":\"101187\",\"type\":\"MonthsTicker\"},{\"id\":\"101188\",\"type\":\"MonthsTicker\"},{\"id\":\"101189\",\"type\":\"MonthsTicker\"},{\"id\":\"101190\",\"type\":\"MonthsTicker\"},{\"id\":\"101191\",\"type\":\"YearsTicker\"}]},\"id\":\"98365\",\"type\":\"DatetimeTicker\"},{\"attributes\":{\"active_drag\":\"auto\",\"active_inspect\":\"auto\",\"active_multi\":null,\"active_scroll\":\"auto\",\"active_tap\":\"auto\",\"tools\":[{\"id\":\"98418\",\"type\":\"PanTool\"},{\"id\":\"98419\",\"type\":\"WheelZoomTool\"},{\"id\":\"98420\",\"type\":\"BoxZoomTool\"},{\"id\":\"98421\",\"type\":\"SaveTool\"},{\"id\":\"98422\",\"type\":\"ResetTool\"},{\"id\":\"98423\",\"type\":\"HelpTool\"}]},\"id\":\"98424\",\"type\":\"Toolbar\"},{\"attributes\":{\"ticker\":{\"id\":\"98365\",\"type\":\"DatetimeTicker\"}},\"id\":\"98368\",\"type\":\"Grid\"},{\"attributes\":{},\"id\":\"98418\",\"type\":\"PanTool\"},{\"attributes\":{\"callback\":null,\"end\":30,\"start\":-5},\"id\":\"98314\",\"type\":\"Range1d\"},{\"attributes\":{\"axis_label\":\"IoT sensor\",\"formatter\":{\"id\":\"101156\",\"type\":\"BasicTickFormatter\"},\"ticker\":{\"id\":\"98370\",\"type\":\"BasicTicker\"}},\"id\":\"98369\",\"type\":\"LinearAxis\"},{\"attributes\":{},\"id\":\"98419\",\"type\":\"WheelZoomTool\"},{\"attributes\":{},\"id\":\"98370\",\"type\":\"BasicTicker\"},{\"attributes\":{\"text\":\"ts1\"},\"id\":\"98310\",\"type\":\"Title\"},{\"attributes\":{\"overlay\":{\"id\":\"101213\",\"type\":\"BoxAnnotation\"}},\"id\":\"98420\",\"type\":\"BoxZoomTool\"},{\"attributes\":{\"base\":24,\"mantissas\":[1,2,4,6,8,12],\"max_interval\":43200000.0,\"min_interval\":3600000.0,\"num_minor_ticks\":0},\"id\":\"101182\",\"type\":\"AdaptiveTicker\"},{\"attributes\":{},\"id\":\"98421\",\"type\":\"SaveTool\"},{\"attributes\":{\"callback\":null,\"data\":{\"x\":[1546300800000.0,1546301220000.0,1546301400000.0,1546301520000.0,1546301700000.0,1546301820000.0],\"y\":[10,11,15,6,-4,-13]},\"selected\":{\"id\":\"101209\",\"type\":\"Selection\"},\"selection_policy\":{\"id\":\"101210\",\"type\":\"UnionRenderers\"}},\"id\":\"98431\",\"type\":\"ColumnDataSource\"},{\"attributes\":{\"callback\":null,\"end\":1546302000000,\"start\":1546300620000},\"id\":\"98312\",\"type\":\"Range1d\"},{\"attributes\":{\"line_alpha\":{\"value\":0.1},\"line_color\":{\"value\":\"#1f77b4\"},\"line_dash\":[4,4],\"line_width\":{\"value\":2},\"mode\":\"after\",\"x\":{\"field\":\"x\"},\"y\":{\"field\":\"y\"}},\"id\":\"98389\",\"type\":\"Step\"},{\"attributes\":{\"line_color\":{\"value\":\"#1f77b4\"},\"line_dash\":[4,4],\"line_width\":{\"value\":2},\"mode\":\"after\",\"x\":{\"field\":\"x\"},\"y\":{\"field\":\"y\"}},\"id\":\"98388\",\"type\":\"Step\"},{\"attributes\":{},\"id\":\"98422\",\"type\":\"ResetTool\"},{\"attributes\":{},\"id\":\"98423\",\"type\":\"HelpTool\"},{\"attributes\":{},\"id\":\"98316\",\"type\":\"LinearScale\"},{\"attributes\":{\"callback\":null,\"data\":{\"x\":[1546301220000.0,1546301400000.0,1546301520000.0],\"y\":[-1,5,14]},\"selected\":{\"id\":\"101192\",\"type\":\"Selection\"},\"selection_policy\":{\"id\":\"101193\",\"type\":\"UnionRenderers\"}},\"id\":\"98387\",\"type\":\"ColumnDataSource\"},{\"attributes\":{},\"id\":\"98318\",\"type\":\"LinearScale\"},{\"attributes\":{\"active_drag\":\"auto\",\"active_inspect\":\"auto\",\"active_multi\":null,\"active_scroll\":\"auto\",\"active_tap\":\"auto\",\"tools\":[{\"id\":\"98374\",\"type\":\"PanTool\"},{\"id\":\"98375\",\"type\":\"WheelZoomTool\"},{\"id\":\"98376\",\"type\":\"BoxZoomTool\"},{\"id\":\"98377\",\"type\":\"SaveTool\"},{\"id\":\"98378\",\"type\":\"ResetTool\"},{\"id\":\"98379\",\"type\":\"HelpTool\"}]},\"id\":\"98380\",\"type\":\"Toolbar\"},{\"attributes\":{\"data_source\":{\"id\":\"98431\",\"type\":\"ColumnDataSource\"},\"glyph\":{\"id\":\"98432\",\"type\":\"Step\"},\"hover_glyph\":null,\"muted_glyph\":null,\"nonselection_glyph\":{\"id\":\"98433\",\"type\":\"Step\"},\"selection_glyph\":null,\"view\":{\"id\":\"98435\",\"type\":\"CDSView\"}},\"id\":\"98434\",\"type\":\"GlyphRenderer\"},{\"attributes\":{},\"id\":\"98374\",\"type\":\"PanTool\"},{\"attributes\":{\"num_minor_ticks\":5,\"tickers\":[{\"id\":\"101163\",\"type\":\"AdaptiveTicker\"},{\"id\":\"101164\",\"type\":\"AdaptiveTicker\"},{\"id\":\"101165\",\"type\":\"AdaptiveTicker\"},{\"id\":\"101166\",\"type\":\"DaysTicker\"},{\"id\":\"101167\",\"type\":\"DaysTicker\"},{\"id\":\"101168\",\"type\":\"DaysTicker\"},{\"id\":\"101169\",\"type\":\"DaysTicker\"},{\"id\":\"101170\",\"type\":\"MonthsTicker\"},{\"id\":\"101171\",\"type\":\"MonthsTicker\"},{\"id\":\"101172\",\"type\":\"MonthsTicker\"},{\"id\":\"101173\",\"type\":\"MonthsTicker\"},{\"id\":\"101174\",\"type\":\"YearsTicker\"}]},\"id\":\"98321\",\"type\":\"DatetimeTicker\"},{\"attributes\":{\"axis_label\":\"timestamp\",\"formatter\":{\"id\":\"101154\",\"type\":\"DatetimeTickFormatter\"},\"ticker\":{\"id\":\"98321\",\"type\":\"DatetimeTicker\"}},\"id\":\"98320\",\"type\":\"DatetimeAxis\"},{\"attributes\":{},\"id\":\"98375\",\"type\":\"WheelZoomTool\"},{\"attributes\":{\"source\":{\"id\":\"98431\",\"type\":\"ColumnDataSource\"}},\"id\":\"98435\",\"type\":\"CDSView\"},{\"attributes\":{},\"id\":\"101154\",\"type\":\"DatetimeTickFormatter\"},{\"attributes\":{\"ticker\":{\"id\":\"98321\",\"type\":\"DatetimeTicker\"}},\"id\":\"98324\",\"type\":\"Grid\"},{\"attributes\":{\"overlay\":{\"id\":\"101196\",\"type\":\"BoxAnnotation\"}},\"id\":\"98376\",\"type\":\"BoxZoomTool\"},{\"attributes\":{\"callback\":null,\"data\":{\"x\":[1546300800000.0,1546301220000.0,1546301400000.0,1546301520000.0,1546301700000.0,1546301820000.0],\"y\":[10,11,15,6,-4,-13]},\"selected\":{\"id\":\"101211\",\"type\":\"Selection\"},\"selection_policy\":{\"id\":\"101212\",\"type\":\"UnionRenderers\"}},\"id\":\"98436\",\"type\":\"ColumnDataSource\"},{\"attributes\":{},\"id\":\"98377\",\"type\":\"SaveTool\"},{\"attributes\":{\"fill_color\":{\"value\":\"red\"},\"line_color\":{\"value\":\"#1f77b4\"},\"size\":{\"units\":\"screen\",\"value\":6},\"x\":{\"field\":\"x\"},\"y\":{\"field\":\"y\"}},\"id\":\"98437\",\"type\":\"Circle\"},{\"attributes\":{\"axis_label\":\"IoT sensor\",\"formatter\":{\"id\":\"101152\",\"type\":\"BasicTickFormatter\"},\"ticker\":{\"id\":\"98326\",\"type\":\"BasicTicker\"}},\"id\":\"98325\",\"type\":\"LinearAxis\"},{\"attributes\":{},\"id\":\"98378\",\"type\":\"ResetTool\"},{\"attributes\":{\"fill_alpha\":{\"value\":0.1},\"fill_color\":{\"value\":\"#1f77b4\"},\"line_alpha\":{\"value\":0.1},\"line_color\":{\"value\":\"#1f77b4\"},\"size\":{\"units\":\"screen\",\"value\":6},\"x\":{\"field\":\"x\"},\"y\":{\"field\":\"y\"}},\"id\":\"98438\",\"type\":\"Circle\"},{\"attributes\":{\"line_color\":{\"value\":\"#1f77b4\"},\"line_dash\":[4,4],\"line_width\":{\"value\":2},\"mode\":\"after\",\"x\":{\"field\":\"x\"},\"y\":{\"field\":\"y\"}},\"id\":\"98344\",\"type\":\"Step\"},{\"attributes\":{\"dimension\":1,\"ticker\":{\"id\":\"98326\",\"type\":\"BasicTicker\"}},\"id\":\"98329\",\"type\":\"Grid\"},{\"attributes\":{},\"id\":\"98379\",\"type\":\"HelpTool\"},{\"attributes\":{\"data_source\":{\"id\":\"98436\",\"type\":\"ColumnDataSource\"},\"glyph\":{\"id\":\"98437\",\"type\":\"Circle\"},\"hover_glyph\":null,\"muted_glyph\":null,\"nonselection_glyph\":{\"id\":\"98438\",\"type\":\"Circle\"},\"selection_glyph\":null,\"view\":{\"id\":\"98440\",\"type\":\"CDSView\"}},\"id\":\"98439\",\"type\":\"GlyphRenderer\"},{\"attributes\":{\"line_alpha\":{\"value\":0.1},\"line_color\":{\"value\":\"#1f77b4\"},\"line_dash\":[4,4],\"line_width\":{\"value\":2},\"mode\":\"after\",\"x\":{\"field\":\"x\"},\"y\":{\"field\":\"y\"}},\"id\":\"98345\",\"type\":\"Step\"},{\"attributes\":{\"callback\":null,\"data\":{\"x\":[1546300800000.0,1546301400000.0,1546301700000.0,1546301820000.0],\"y\":[10,20,10,1]},\"selected\":{\"id\":\"101175\",\"type\":\"Selection\"},\"selection_policy\":{\"id\":\"101176\",\"type\":\"UnionRenderers\"}},\"id\":\"98343\",\"type\":\"ColumnDataSource\"},{\"attributes\":{\"source\":{\"id\":\"98436\",\"type\":\"ColumnDataSource\"}},\"id\":\"98440\",\"type\":\"CDSView\"},{\"attributes\":{\"data_source\":{\"id\":\"98387\",\"type\":\"ColumnDataSource\"},\"glyph\":{\"id\":\"98388\",\"type\":\"Step\"},\"hover_glyph\":null,\"muted_glyph\":null,\"nonselection_glyph\":{\"id\":\"98389\",\"type\":\"Step\"},\"selection_glyph\":null,\"view\":{\"id\":\"98391\",\"type\":\"CDSView\"}},\"id\":\"98390\",\"type\":\"GlyphRenderer\"},{\"attributes\":{\"source\":{\"id\":\"98387\",\"type\":\"ColumnDataSource\"}},\"id\":\"98391\",\"type\":\"CDSView\"},{\"attributes\":{},\"id\":\"98331\",\"type\":\"WheelZoomTool\"},{\"attributes\":{},\"id\":\"101152\",\"type\":\"BasicTickFormatter\"},{\"attributes\":{},\"id\":\"98326\",\"type\":\"BasicTicker\"},{\"attributes\":{\"callback\":null,\"data\":{\"x\":[1546301220000.0,1546301400000.0,1546301520000.0],\"y\":[-1,5,14]},\"selected\":{\"id\":\"101194\",\"type\":\"Selection\"},\"selection_policy\":{\"id\":\"101195\",\"type\":\"UnionRenderers\"}},\"id\":\"98392\",\"type\":\"ColumnDataSource\"},{\"attributes\":{},\"id\":\"98335\",\"type\":\"HelpTool\"},{\"attributes\":{\"fill_color\":{\"value\":\"red\"},\"line_color\":{\"value\":\"#1f77b4\"},\"size\":{\"units\":\"screen\",\"value\":6},\"x\":{\"field\":\"x\"},\"y\":{\"field\":\"y\"}},\"id\":\"98393\",\"type\":\"Circle\"},{\"attributes\":{},\"id\":\"101156\",\"type\":\"BasicTickFormatter\"},{\"attributes\":{\"active_drag\":\"auto\",\"active_inspect\":\"auto\",\"active_multi\":null,\"active_scroll\":\"auto\",\"active_tap\":\"auto\",\"tools\":[{\"id\":\"98330\",\"type\":\"PanTool\"},{\"id\":\"98331\",\"type\":\"WheelZoomTool\"},{\"id\":\"98332\",\"type\":\"BoxZoomTool\"},{\"id\":\"98333\",\"type\":\"SaveTool\"},{\"id\":\"98334\",\"type\":\"ResetTool\"},{\"id\":\"98335\",\"type\":\"HelpTool\"}]},\"id\":\"98336\",\"type\":\"Toolbar\"},{\"attributes\":{\"fill_alpha\":{\"value\":0.1},\"fill_color\":{\"value\":\"#1f77b4\"},\"line_alpha\":{\"value\":0.1},\"line_color\":{\"value\":\"#1f77b4\"},\"size\":{\"units\":\"screen\",\"value\":6},\"x\":{\"field\":\"x\"},\"y\":{\"field\":\"y\"}},\"id\":\"98394\",\"type\":\"Circle\"},{\"attributes\":{\"overlay\":{\"id\":\"101179\",\"type\":\"BoxAnnotation\"}},\"id\":\"98332\",\"type\":\"BoxZoomTool\"},{\"attributes\":{},\"id\":\"101158\",\"type\":\"DatetimeTickFormatter\"},{\"attributes\":{\"data_source\":{\"id\":\"98392\",\"type\":\"ColumnDataSource\"},\"glyph\":{\"id\":\"98393\",\"type\":\"Circle\"},\"hover_glyph\":null,\"muted_glyph\":null,\"nonselection_glyph\":{\"id\":\"98394\",\"type\":\"Circle\"},\"selection_glyph\":null,\"view\":{\"id\":\"98396\",\"type\":\"CDSView\"}},\"id\":\"98395\",\"type\":\"GlyphRenderer\"},{\"attributes\":{},\"id\":\"101160\",\"type\":\"BasicTickFormatter\"},{\"attributes\":{\"below\":[{\"id\":\"98408\",\"type\":\"DatetimeAxis\"}],\"center\":[{\"id\":\"98412\",\"type\":\"Grid\"},{\"id\":\"98417\",\"type\":\"Grid\"}],\"left\":[{\"id\":\"98413\",\"type\":\"LinearAxis\"}],\"plot_height\":250,\"plot_width\":400,\"renderers\":[{\"id\":\"98434\",\"type\":\"GlyphRenderer\"},{\"id\":\"98439\",\"type\":\"GlyphRenderer\"}],\"title\":{\"id\":\"98398\",\"type\":\"Title\"},\"toolbar\":{\"id\":\"98424\",\"type\":\"Toolbar\"},\"x_range\":{\"id\":\"98400\",\"type\":\"Range1d\"},\"x_scale\":{\"id\":\"98404\",\"type\":\"LinearScale\"},\"y_range\":{\"id\":\"98402\",\"type\":\"Range1d\"},\"y_scale\":{\"id\":\"98406\",\"type\":\"LinearScale\"}},\"id\":\"98397\",\"subtype\":\"Figure\",\"type\":\"Plot\"},{\"attributes\":{\"source\":{\"id\":\"98392\",\"type\":\"ColumnDataSource\"}},\"id\":\"98396\",\"type\":\"CDSView\"},{\"attributes\":{},\"id\":\"101162\",\"type\":\"DatetimeTickFormatter\"},{\"attributes\":{},\"id\":\"98330\",\"type\":\"PanTool\"},{\"attributes\":{\"mantissas\":[1,2,5],\"max_interval\":500.0,\"num_minor_ticks\":0},\"id\":\"101163\",\"type\":\"AdaptiveTicker\"},{\"attributes\":{},\"id\":\"98333\",\"type\":\"SaveTool\"}],\"root_ids\":[\"98441\"]},\"title\":\"Bokeh Application\",\"version\":\"1.2.0\"}};\n",
       "  var render_items = [{\"docid\":\"89ef2bc3-2d2f-4cce-9db5-5d7bfefd7783\",\"roots\":{\"98441\":\"96f7afe3-ce89-45f2-adda-b204df579afc\"}}];\n",
       "  root.Bokeh.embed.embed_items_notebook(docs_json, render_items);\n",
       "\n",
       "  }\n",
       "  if (root.Bokeh !== undefined) {\n",
       "    embed_document(root);\n",
       "  } else {\n",
       "    var attempts = 0;\n",
       "    var timer = setInterval(function(root) {\n",
       "      if (root.Bokeh !== undefined) {\n",
       "        embed_document(root);\n",
       "        clearInterval(timer);\n",
       "      }\n",
       "      attempts++;\n",
       "      if (attempts > 100) {\n",
       "        console.log(\"Bokeh: ERROR: Unable to run BokehJS code because BokehJS library is missing\");\n",
       "        clearInterval(timer);\n",
       "      }\n",
       "    }, 10, root)\n",
       "  }\n",
       "})(window);"
      ],
      "application/vnd.bokehjs_exec.v0+json": ""
     },
     "metadata": {
      "application/vnd.bokehjs_exec.v0+json": {
       "id": "98441"
      }
     },
     "output_type": "display_data"
    }
   ],
   "source": [
    "# Substraction\n",
    "plot_row(ts, ts - 10)\n",
    "plot_row(ts, ts2, ts - ts2)"
   ]
  },
  {
   "cell_type": "code",
   "execution_count": 82,
   "metadata": {},
   "outputs": [
    {
     "data": {
      "text/html": [
       "\n",
       "\n",
       "\n",
       "\n",
       "\n",
       "\n",
       "  <div class=\"bk-root\" id=\"fcc4ab45-46d0-4191-8154-d999d6ae4c9f\" data-root-id=\"50114\"></div>\n"
      ]
     },
     "metadata": {},
     "output_type": "display_data"
    },
    {
     "data": {
      "application/javascript": [
       "(function(root) {\n",
       "  function embed_document(root) {\n",
       "    \n",
       "  var docs_json = {\"cb4ecd80-c580-41d8-b186-ddc440a16d9c\":{\"roots\":{\"references\":[{\"attributes\":{\"children\":[{\"id\":\"50026\",\"subtype\":\"Figure\",\"type\":\"Plot\"},{\"id\":\"50070\",\"subtype\":\"Figure\",\"type\":\"Plot\"}]},\"id\":\"50114\",\"type\":\"Row\"},{\"attributes\":{\"days\":[1,15]},\"id\":\"51957\",\"type\":\"DaysTicker\"},{\"attributes\":{},\"id\":\"50077\",\"type\":\"LinearScale\"},{\"attributes\":{\"callback\":null,\"end\":1546302000000,\"start\":1546300620000},\"id\":\"50073\",\"type\":\"Range1d\"},{\"attributes\":{\"callback\":null,\"end\":40,\"start\":-15},\"id\":\"50075\",\"type\":\"Range1d\"},{\"attributes\":{\"months\":[0,2,4,6,8,10]},\"id\":\"51959\",\"type\":\"MonthsTicker\"},{\"attributes\":{\"below\":[{\"id\":\"50037\",\"type\":\"DatetimeAxis\"}],\"center\":[{\"id\":\"50041\",\"type\":\"Grid\"},{\"id\":\"50046\",\"type\":\"Grid\"}],\"left\":[{\"id\":\"50042\",\"type\":\"LinearAxis\"}],\"plot_height\":250,\"plot_width\":400,\"renderers\":[{\"id\":\"50063\",\"type\":\"GlyphRenderer\"},{\"id\":\"50068\",\"type\":\"GlyphRenderer\"}],\"title\":{\"id\":\"50027\",\"type\":\"Title\"},\"toolbar\":{\"id\":\"50053\",\"type\":\"Toolbar\"},\"x_range\":{\"id\":\"50029\",\"type\":\"Range1d\"},\"x_scale\":{\"id\":\"50033\",\"type\":\"LinearScale\"},\"y_range\":{\"id\":\"50031\",\"type\":\"Range1d\"},\"y_scale\":{\"id\":\"50035\",\"type\":\"LinearScale\"}},\"id\":\"50026\",\"subtype\":\"Figure\",\"type\":\"Plot\"},{\"attributes\":{},\"id\":\"50079\",\"type\":\"LinearScale\"},{\"attributes\":{\"months\":[0,1,2,3,4,5,6,7,8,9,10,11]},\"id\":\"51958\",\"type\":\"MonthsTicker\"},{\"attributes\":{\"axis_label\":\"timestamp\",\"formatter\":{\"id\":\"51950\",\"type\":\"DatetimeTickFormatter\"},\"ticker\":{\"id\":\"50082\",\"type\":\"DatetimeTicker\"}},\"id\":\"50081\",\"type\":\"DatetimeAxis\"},{\"attributes\":{},\"id\":\"50033\",\"type\":\"LinearScale\"},{\"attributes\":{},\"id\":\"51962\",\"type\":\"YearsTicker\"},{\"attributes\":{},\"id\":\"50035\",\"type\":\"LinearScale\"},{\"attributes\":{\"num_minor_ticks\":5,\"tickers\":[{\"id\":\"51968\",\"type\":\"AdaptiveTicker\"},{\"id\":\"51969\",\"type\":\"AdaptiveTicker\"},{\"id\":\"51970\",\"type\":\"AdaptiveTicker\"},{\"id\":\"51971\",\"type\":\"DaysTicker\"},{\"id\":\"51972\",\"type\":\"DaysTicker\"},{\"id\":\"51973\",\"type\":\"DaysTicker\"},{\"id\":\"51974\",\"type\":\"DaysTicker\"},{\"id\":\"51975\",\"type\":\"MonthsTicker\"},{\"id\":\"51976\",\"type\":\"MonthsTicker\"},{\"id\":\"51977\",\"type\":\"MonthsTicker\"},{\"id\":\"51978\",\"type\":\"MonthsTicker\"},{\"id\":\"51979\",\"type\":\"YearsTicker\"}]},\"id\":\"50082\",\"type\":\"DatetimeTicker\"},{\"attributes\":{\"callback\":null,\"end\":1546302000000,\"start\":1546300620000},\"id\":\"50029\",\"type\":\"Range1d\"},{\"attributes\":{\"months\":[0,4,8]},\"id\":\"51960\",\"type\":\"MonthsTicker\"},{\"attributes\":{\"ticker\":{\"id\":\"50082\",\"type\":\"DatetimeTicker\"}},\"id\":\"50085\",\"type\":\"Grid\"},{\"attributes\":{\"callback\":null,\"end\":40,\"start\":-15},\"id\":\"50031\",\"type\":\"Range1d\"},{\"attributes\":{\"months\":[0,6]},\"id\":\"51961\",\"type\":\"MonthsTicker\"},{\"attributes\":{\"axis_label\":\"IoT sensor\",\"formatter\":{\"id\":\"51948\",\"type\":\"BasicTickFormatter\"},\"ticker\":{\"id\":\"50087\",\"type\":\"BasicTicker\"}},\"id\":\"50086\",\"type\":\"LinearAxis\"},{\"attributes\":{\"text\":\"ts1\"},\"id\":\"50027\",\"type\":\"Title\"},{\"attributes\":{},\"id\":\"50087\",\"type\":\"BasicTicker\"},{\"attributes\":{},\"id\":\"51963\",\"type\":\"Selection\"},{\"attributes\":{\"dimension\":1,\"ticker\":{\"id\":\"50087\",\"type\":\"BasicTicker\"}},\"id\":\"50090\",\"type\":\"Grid\"},{\"attributes\":{\"axis_label\":\"timestamp\",\"formatter\":{\"id\":\"51946\",\"type\":\"DatetimeTickFormatter\"},\"ticker\":{\"id\":\"50038\",\"type\":\"DatetimeTicker\"}},\"id\":\"50037\",\"type\":\"DatetimeAxis\"},{\"attributes\":{\"base\":60,\"mantissas\":[1,2,5,10,15,20,30],\"max_interval\":1800000.0,\"min_interval\":1000.0,\"num_minor_ticks\":0},\"id\":\"51969\",\"type\":\"AdaptiveTicker\"},{\"attributes\":{},\"id\":\"51965\",\"type\":\"Selection\"},{\"attributes\":{\"num_minor_ticks\":5,\"tickers\":[{\"id\":\"51951\",\"type\":\"AdaptiveTicker\"},{\"id\":\"51952\",\"type\":\"AdaptiveTicker\"},{\"id\":\"51953\",\"type\":\"AdaptiveTicker\"},{\"id\":\"51954\",\"type\":\"DaysTicker\"},{\"id\":\"51955\",\"type\":\"DaysTicker\"},{\"id\":\"51956\",\"type\":\"DaysTicker\"},{\"id\":\"51957\",\"type\":\"DaysTicker\"},{\"id\":\"51958\",\"type\":\"MonthsTicker\"},{\"id\":\"51959\",\"type\":\"MonthsTicker\"},{\"id\":\"51960\",\"type\":\"MonthsTicker\"},{\"id\":\"51961\",\"type\":\"MonthsTicker\"},{\"id\":\"51962\",\"type\":\"YearsTicker\"}]},\"id\":\"50038\",\"type\":\"DatetimeTicker\"},{\"attributes\":{\"line_alpha\":{\"value\":0.1},\"line_color\":{\"value\":\"#1f77b4\"},\"line_dash\":[4,4],\"line_width\":{\"value\":2},\"mode\":\"after\",\"x\":{\"field\":\"x\"},\"y\":{\"field\":\"y\"}},\"id\":\"50106\",\"type\":\"Step\"},{\"attributes\":{\"line_color\":{\"value\":\"#1f77b4\"},\"line_dash\":[4,4],\"line_width\":{\"value\":2},\"mode\":\"after\",\"x\":{\"field\":\"x\"},\"y\":{\"field\":\"y\"}},\"id\":\"50105\",\"type\":\"Step\"},{\"attributes\":{\"ticker\":{\"id\":\"50038\",\"type\":\"DatetimeTicker\"}},\"id\":\"50041\",\"type\":\"Grid\"},{\"attributes\":{},\"id\":\"51966\",\"type\":\"UnionRenderers\"},{\"attributes\":{\"active_drag\":\"auto\",\"active_inspect\":\"auto\",\"active_multi\":null,\"active_scroll\":\"auto\",\"active_tap\":\"auto\",\"tools\":[{\"id\":\"50091\",\"type\":\"PanTool\"},{\"id\":\"50092\",\"type\":\"WheelZoomTool\"},{\"id\":\"50093\",\"type\":\"BoxZoomTool\"},{\"id\":\"50094\",\"type\":\"SaveTool\"},{\"id\":\"50095\",\"type\":\"ResetTool\"},{\"id\":\"50096\",\"type\":\"HelpTool\"}]},\"id\":\"50097\",\"type\":\"Toolbar\"},{\"attributes\":{\"bottom_units\":\"screen\",\"fill_alpha\":{\"value\":0.5},\"fill_color\":{\"value\":\"lightgrey\"},\"left_units\":\"screen\",\"level\":\"overlay\",\"line_alpha\":{\"value\":1.0},\"line_color\":{\"value\":\"black\"},\"line_dash\":[4,4],\"line_width\":{\"value\":2},\"render_mode\":\"css\",\"right_units\":\"screen\",\"top_units\":\"screen\"},\"id\":\"51967\",\"type\":\"BoxAnnotation\"},{\"attributes\":{\"axis_label\":\"IoT sensor\",\"formatter\":{\"id\":\"51944\",\"type\":\"BasicTickFormatter\"},\"ticker\":{\"id\":\"50043\",\"type\":\"BasicTicker\"}},\"id\":\"50042\",\"type\":\"LinearAxis\"},{\"attributes\":{},\"id\":\"50091\",\"type\":\"PanTool\"},{\"attributes\":{},\"id\":\"50043\",\"type\":\"BasicTicker\"},{\"attributes\":{},\"id\":\"50092\",\"type\":\"WheelZoomTool\"},{\"attributes\":{\"mantissas\":[1,2,5],\"max_interval\":500.0,\"num_minor_ticks\":0},\"id\":\"51968\",\"type\":\"AdaptiveTicker\"},{\"attributes\":{},\"id\":\"51964\",\"type\":\"UnionRenderers\"},{\"attributes\":{\"dimension\":1,\"ticker\":{\"id\":\"50043\",\"type\":\"BasicTicker\"}},\"id\":\"50046\",\"type\":\"Grid\"},{\"attributes\":{\"overlay\":{\"id\":\"51984\",\"type\":\"BoxAnnotation\"}},\"id\":\"50093\",\"type\":\"BoxZoomTool\"},{\"attributes\":{\"days\":[1,4,7,10,13,16,19,22,25,28]},\"id\":\"51972\",\"type\":\"DaysTicker\"},{\"attributes\":{\"line_alpha\":{\"value\":0.1},\"line_color\":{\"value\":\"#1f77b4\"},\"line_dash\":[4,4],\"line_width\":{\"value\":2},\"mode\":\"after\",\"x\":{\"field\":\"x\"},\"y\":{\"field\":\"y\"}},\"id\":\"50062\",\"type\":\"Step\"},{\"attributes\":{},\"id\":\"50094\",\"type\":\"SaveTool\"},{\"attributes\":{\"days\":[1,8,15,22]},\"id\":\"51973\",\"type\":\"DaysTicker\"},{\"attributes\":{\"line_color\":{\"value\":\"#1f77b4\"},\"line_dash\":[4,4],\"line_width\":{\"value\":2},\"mode\":\"after\",\"x\":{\"field\":\"x\"},\"y\":{\"field\":\"y\"}},\"id\":\"50061\",\"type\":\"Step\"},{\"attributes\":{\"base\":24,\"mantissas\":[1,2,4,6,8,12],\"max_interval\":43200000.0,\"min_interval\":3600000.0,\"num_minor_ticks\":0},\"id\":\"51970\",\"type\":\"AdaptiveTicker\"},{\"attributes\":{},\"id\":\"50095\",\"type\":\"ResetTool\"},{\"attributes\":{\"callback\":null,\"data\":{\"x\":[1546300800000.0,1546301400000.0,1546301700000.0,1546301820000.0],\"y\":[10,20,10,1]},\"selected\":{\"id\":\"51963\",\"type\":\"Selection\"},\"selection_policy\":{\"id\":\"51964\",\"type\":\"UnionRenderers\"}},\"id\":\"50060\",\"type\":\"ColumnDataSource\"},{\"attributes\":{},\"id\":\"50096\",\"type\":\"HelpTool\"},{\"attributes\":{\"days\":[1,2,3,4,5,6,7,8,9,10,11,12,13,14,15,16,17,18,19,20,21,22,23,24,25,26,27,28,29,30,31]},\"id\":\"51971\",\"type\":\"DaysTicker\"},{\"attributes\":{\"active_drag\":\"auto\",\"active_inspect\":\"auto\",\"active_multi\":null,\"active_scroll\":\"auto\",\"active_tap\":\"auto\",\"tools\":[{\"id\":\"50047\",\"type\":\"PanTool\"},{\"id\":\"50048\",\"type\":\"WheelZoomTool\"},{\"id\":\"50049\",\"type\":\"BoxZoomTool\"},{\"id\":\"50050\",\"type\":\"SaveTool\"},{\"id\":\"50051\",\"type\":\"ResetTool\"},{\"id\":\"50052\",\"type\":\"HelpTool\"}]},\"id\":\"50053\",\"type\":\"Toolbar\"},{\"attributes\":{},\"id\":\"50047\",\"type\":\"PanTool\"},{\"attributes\":{\"months\":[0,1,2,3,4,5,6,7,8,9,10,11]},\"id\":\"51975\",\"type\":\"MonthsTicker\"},{\"attributes\":{},\"id\":\"50048\",\"type\":\"WheelZoomTool\"},{\"attributes\":{\"days\":[1,15]},\"id\":\"51974\",\"type\":\"DaysTicker\"},{\"attributes\":{\"data_source\":{\"id\":\"50104\",\"type\":\"ColumnDataSource\"},\"glyph\":{\"id\":\"50105\",\"type\":\"Step\"},\"hover_glyph\":null,\"muted_glyph\":null,\"nonselection_glyph\":{\"id\":\"50106\",\"type\":\"Step\"},\"selection_glyph\":null,\"view\":{\"id\":\"50108\",\"type\":\"CDSView\"}},\"id\":\"50107\",\"type\":\"GlyphRenderer\"},{\"attributes\":{\"overlay\":{\"id\":\"51967\",\"type\":\"BoxAnnotation\"}},\"id\":\"50049\",\"type\":\"BoxZoomTool\"},{\"attributes\":{\"months\":[0,2,4,6,8,10]},\"id\":\"51976\",\"type\":\"MonthsTicker\"},{\"attributes\":{\"source\":{\"id\":\"50104\",\"type\":\"ColumnDataSource\"}},\"id\":\"50108\",\"type\":\"CDSView\"},{\"attributes\":{\"months\":[0,6]},\"id\":\"51978\",\"type\":\"MonthsTicker\"},{\"attributes\":{},\"id\":\"50050\",\"type\":\"SaveTool\"},{\"attributes\":{\"callback\":null,\"data\":{\"x\":[1546300800000.0,1546301400000.0,1546301700000.0,1546301820000.0],\"y\":[10,10,10,1]},\"selected\":{\"id\":\"51982\",\"type\":\"Selection\"},\"selection_policy\":{\"id\":\"51983\",\"type\":\"UnionRenderers\"}},\"id\":\"50109\",\"type\":\"ColumnDataSource\"},{\"attributes\":{},\"id\":\"51979\",\"type\":\"YearsTicker\"},{\"attributes\":{},\"id\":\"50051\",\"type\":\"ResetTool\"},{\"attributes\":{\"fill_color\":{\"value\":\"red\"},\"line_color\":{\"value\":\"#1f77b4\"},\"size\":{\"units\":\"screen\",\"value\":6},\"x\":{\"field\":\"x\"},\"y\":{\"field\":\"y\"}},\"id\":\"50110\",\"type\":\"Circle\"},{\"attributes\":{},\"id\":\"50052\",\"type\":\"HelpTool\"},{\"attributes\":{\"fill_alpha\":{\"value\":0.1},\"fill_color\":{\"value\":\"#1f77b4\"},\"line_alpha\":{\"value\":0.1},\"line_color\":{\"value\":\"#1f77b4\"},\"size\":{\"units\":\"screen\",\"value\":6},\"x\":{\"field\":\"x\"},\"y\":{\"field\":\"y\"}},\"id\":\"50111\",\"type\":\"Circle\"},{\"attributes\":{\"months\":[0,4,8]},\"id\":\"51977\",\"type\":\"MonthsTicker\"},{\"attributes\":{\"data_source\":{\"id\":\"50109\",\"type\":\"ColumnDataSource\"},\"glyph\":{\"id\":\"50110\",\"type\":\"Circle\"},\"hover_glyph\":null,\"muted_glyph\":null,\"nonselection_glyph\":{\"id\":\"50111\",\"type\":\"Circle\"},\"selection_glyph\":null,\"view\":{\"id\":\"50113\",\"type\":\"CDSView\"}},\"id\":\"50112\",\"type\":\"GlyphRenderer\"},{\"attributes\":{},\"id\":\"51981\",\"type\":\"UnionRenderers\"},{\"attributes\":{\"data_source\":{\"id\":\"50060\",\"type\":\"ColumnDataSource\"},\"glyph\":{\"id\":\"50061\",\"type\":\"Step\"},\"hover_glyph\":null,\"muted_glyph\":null,\"nonselection_glyph\":{\"id\":\"50062\",\"type\":\"Step\"},\"selection_glyph\":null,\"view\":{\"id\":\"50064\",\"type\":\"CDSView\"}},\"id\":\"50063\",\"type\":\"GlyphRenderer\"},{\"attributes\":{\"source\":{\"id\":\"50109\",\"type\":\"ColumnDataSource\"}},\"id\":\"50113\",\"type\":\"CDSView\"},{\"attributes\":{},\"id\":\"51980\",\"type\":\"Selection\"},{\"attributes\":{\"source\":{\"id\":\"50060\",\"type\":\"ColumnDataSource\"}},\"id\":\"50064\",\"type\":\"CDSView\"},{\"attributes\":{\"callback\":null,\"data\":{\"x\":[1546300800000.0,1546301400000.0,1546301700000.0,1546301820000.0],\"y\":[10,20,10,1]},\"selected\":{\"id\":\"51965\",\"type\":\"Selection\"},\"selection_policy\":{\"id\":\"51966\",\"type\":\"UnionRenderers\"}},\"id\":\"50065\",\"type\":\"ColumnDataSource\"},{\"attributes\":{\"fill_color\":{\"value\":\"red\"},\"line_color\":{\"value\":\"#1f77b4\"},\"size\":{\"units\":\"screen\",\"value\":6},\"x\":{\"field\":\"x\"},\"y\":{\"field\":\"y\"}},\"id\":\"50066\",\"type\":\"Circle\"},{\"attributes\":{\"fill_alpha\":{\"value\":0.1},\"fill_color\":{\"value\":\"#1f77b4\"},\"line_alpha\":{\"value\":0.1},\"line_color\":{\"value\":\"#1f77b4\"},\"size\":{\"units\":\"screen\",\"value\":6},\"x\":{\"field\":\"x\"},\"y\":{\"field\":\"y\"}},\"id\":\"50067\",\"type\":\"Circle\"},{\"attributes\":{},\"id\":\"51948\",\"type\":\"BasicTickFormatter\"},{\"attributes\":{\"bottom_units\":\"screen\",\"fill_alpha\":{\"value\":0.5},\"fill_color\":{\"value\":\"lightgrey\"},\"left_units\":\"screen\",\"level\":\"overlay\",\"line_alpha\":{\"value\":1.0},\"line_color\":{\"value\":\"black\"},\"line_dash\":[4,4],\"line_width\":{\"value\":2},\"render_mode\":\"css\",\"right_units\":\"screen\",\"top_units\":\"screen\"},\"id\":\"51984\",\"type\":\"BoxAnnotation\"},{\"attributes\":{},\"id\":\"51950\",\"type\":\"DatetimeTickFormatter\"},{\"attributes\":{},\"id\":\"51983\",\"type\":\"UnionRenderers\"},{\"attributes\":{\"data_source\":{\"id\":\"50065\",\"type\":\"ColumnDataSource\"},\"glyph\":{\"id\":\"50066\",\"type\":\"Circle\"},\"hover_glyph\":null,\"muted_glyph\":null,\"nonselection_glyph\":{\"id\":\"50067\",\"type\":\"Circle\"},\"selection_glyph\":null,\"view\":{\"id\":\"50069\",\"type\":\"CDSView\"}},\"id\":\"50068\",\"type\":\"GlyphRenderer\"},{\"attributes\":{\"mantissas\":[1,2,5],\"max_interval\":500.0,\"num_minor_ticks\":0},\"id\":\"51951\",\"type\":\"AdaptiveTicker\"},{\"attributes\":{},\"id\":\"51982\",\"type\":\"Selection\"},{\"attributes\":{\"source\":{\"id\":\"50065\",\"type\":\"ColumnDataSource\"}},\"id\":\"50069\",\"type\":\"CDSView\"},{\"attributes\":{\"base\":60,\"mantissas\":[1,2,5,10,15,20,30],\"max_interval\":1800000.0,\"min_interval\":1000.0,\"num_minor_ticks\":0},\"id\":\"51952\",\"type\":\"AdaptiveTicker\"},{\"attributes\":{\"below\":[{\"id\":\"50081\",\"type\":\"DatetimeAxis\"}],\"center\":[{\"id\":\"50085\",\"type\":\"Grid\"},{\"id\":\"50090\",\"type\":\"Grid\"}],\"left\":[{\"id\":\"50086\",\"type\":\"LinearAxis\"}],\"plot_height\":250,\"plot_width\":400,\"renderers\":[{\"id\":\"50107\",\"type\":\"GlyphRenderer\"},{\"id\":\"50112\",\"type\":\"GlyphRenderer\"}],\"title\":{\"id\":\"50071\",\"type\":\"Title\"},\"toolbar\":{\"id\":\"50097\",\"type\":\"Toolbar\"},\"x_range\":{\"id\":\"50073\",\"type\":\"Range1d\"},\"x_scale\":{\"id\":\"50077\",\"type\":\"LinearScale\"},\"y_range\":{\"id\":\"50075\",\"type\":\"Range1d\"},\"y_scale\":{\"id\":\"50079\",\"type\":\"LinearScale\"}},\"id\":\"50070\",\"subtype\":\"Figure\",\"type\":\"Plot\"},{\"attributes\":{\"base\":24,\"mantissas\":[1,2,4,6,8,12],\"max_interval\":43200000.0,\"min_interval\":3600000.0,\"num_minor_ticks\":0},\"id\":\"51953\",\"type\":\"AdaptiveTicker\"},{\"attributes\":{\"text\":\"ts2\"},\"id\":\"50071\",\"type\":\"Title\"},{\"attributes\":{\"days\":[1,2,3,4,5,6,7,8,9,10,11,12,13,14,15,16,17,18,19,20,21,22,23,24,25,26,27,28,29,30,31]},\"id\":\"51954\",\"type\":\"DaysTicker\"},{\"attributes\":{\"days\":[1,4,7,10,13,16,19,22,25,28]},\"id\":\"51955\",\"type\":\"DaysTicker\"},{\"attributes\":{\"callback\":null,\"data\":{\"x\":[1546300800000.0,1546301400000.0,1546301700000.0,1546301820000.0],\"y\":[10,10,10,1]},\"selected\":{\"id\":\"51980\",\"type\":\"Selection\"},\"selection_policy\":{\"id\":\"51981\",\"type\":\"UnionRenderers\"}},\"id\":\"50104\",\"type\":\"ColumnDataSource\"},{\"attributes\":{},\"id\":\"51946\",\"type\":\"DatetimeTickFormatter\"},{\"attributes\":{\"days\":[1,8,15,22]},\"id\":\"51956\",\"type\":\"DaysTicker\"},{\"attributes\":{},\"id\":\"51944\",\"type\":\"BasicTickFormatter\"}],\"root_ids\":[\"50114\"]},\"title\":\"Bokeh Application\",\"version\":\"1.2.0\"}};\n",
       "  var render_items = [{\"docid\":\"cb4ecd80-c580-41d8-b186-ddc440a16d9c\",\"roots\":{\"50114\":\"fcc4ab45-46d0-4191-8154-d999d6ae4c9f\"}}];\n",
       "  root.Bokeh.embed.embed_items_notebook(docs_json, render_items);\n",
       "\n",
       "  }\n",
       "  if (root.Bokeh !== undefined) {\n",
       "    embed_document(root);\n",
       "  } else {\n",
       "    var attempts = 0;\n",
       "    var timer = setInterval(function(root) {\n",
       "      if (root.Bokeh !== undefined) {\n",
       "        embed_document(root);\n",
       "        clearInterval(timer);\n",
       "      }\n",
       "      attempts++;\n",
       "      if (attempts > 100) {\n",
       "        console.log(\"Bokeh: ERROR: Unable to run BokehJS code because BokehJS library is missing\");\n",
       "        clearInterval(timer);\n",
       "      }\n",
       "    }, 10, root)\n",
       "  }\n",
       "})(window);"
      ],
      "application/vnd.bokehjs_exec.v0+json": ""
     },
     "metadata": {
      "application/vnd.bokehjs_exec.v0+json": {
       "id": "50114"
      }
     },
     "output_type": "display_data"
    },
    {
     "data": {
      "text/html": [
       "\n",
       "\n",
       "\n",
       "\n",
       "\n",
       "\n",
       "  <div class=\"bk-root\" id=\"34e4fba4-129b-429c-8545-3bffdf75975a\" data-root-id=\"52381\"></div>\n"
      ]
     },
     "metadata": {},
     "output_type": "display_data"
    },
    {
     "data": {
      "application/javascript": [
       "(function(root) {\n",
       "  function embed_document(root) {\n",
       "    \n",
       "  var docs_json = {\"87079266-cbe6-461e-a919-d1a97a90e21b\":{\"roots\":{\"references\":[{\"attributes\":{\"children\":[{\"id\":\"52249\",\"subtype\":\"Figure\",\"type\":\"Plot\"},{\"id\":\"52293\",\"subtype\":\"Figure\",\"type\":\"Plot\"},{\"id\":\"52337\",\"subtype\":\"Figure\",\"type\":\"Plot\"}]},\"id\":\"52381\",\"type\":\"Row\"},{\"attributes\":{},\"id\":\"52359\",\"type\":\"WheelZoomTool\"},{\"attributes\":{\"callback\":null,\"end\":40,\"start\":-15},\"id\":\"52254\",\"type\":\"Range1d\"},{\"attributes\":{},\"id\":\"52363\",\"type\":\"HelpTool\"},{\"attributes\":{},\"id\":\"52256\",\"type\":\"LinearScale\"},{\"attributes\":{},\"id\":\"52362\",\"type\":\"ResetTool\"},{\"attributes\":{},\"id\":\"52258\",\"type\":\"LinearScale\"},{\"attributes\":{},\"id\":\"52361\",\"type\":\"SaveTool\"},{\"attributes\":{\"axis_label\":\"timestamp\",\"formatter\":{\"id\":\"54258\",\"type\":\"DatetimeTickFormatter\"},\"ticker\":{\"id\":\"52261\",\"type\":\"DatetimeTicker\"}},\"id\":\"52260\",\"type\":\"DatetimeAxis\"},{\"attributes\":{\"overlay\":{\"id\":\"54317\",\"type\":\"BoxAnnotation\"}},\"id\":\"52360\",\"type\":\"BoxZoomTool\"},{\"attributes\":{\"num_minor_ticks\":5,\"tickers\":[{\"id\":\"54267\",\"type\":\"AdaptiveTicker\"},{\"id\":\"54268\",\"type\":\"AdaptiveTicker\"},{\"id\":\"54269\",\"type\":\"AdaptiveTicker\"},{\"id\":\"54270\",\"type\":\"DaysTicker\"},{\"id\":\"54271\",\"type\":\"DaysTicker\"},{\"id\":\"54272\",\"type\":\"DaysTicker\"},{\"id\":\"54273\",\"type\":\"DaysTicker\"},{\"id\":\"54274\",\"type\":\"MonthsTicker\"},{\"id\":\"54275\",\"type\":\"MonthsTicker\"},{\"id\":\"54276\",\"type\":\"MonthsTicker\"},{\"id\":\"54277\",\"type\":\"MonthsTicker\"},{\"id\":\"54278\",\"type\":\"YearsTicker\"}]},\"id\":\"52261\",\"type\":\"DatetimeTicker\"},{\"attributes\":{\"source\":{\"id\":\"52371\",\"type\":\"ColumnDataSource\"}},\"id\":\"52375\",\"type\":\"CDSView\"},{\"attributes\":{\"ticker\":{\"id\":\"52261\",\"type\":\"DatetimeTicker\"}},\"id\":\"52264\",\"type\":\"Grid\"},{\"attributes\":{\"data_source\":{\"id\":\"52371\",\"type\":\"ColumnDataSource\"},\"glyph\":{\"id\":\"52372\",\"type\":\"Step\"},\"hover_glyph\":null,\"muted_glyph\":null,\"nonselection_glyph\":{\"id\":\"52373\",\"type\":\"Step\"},\"selection_glyph\":null,\"view\":{\"id\":\"52375\",\"type\":\"CDSView\"}},\"id\":\"52374\",\"type\":\"GlyphRenderer\"},{\"attributes\":{\"axis_label\":\"IoT sensor\",\"formatter\":{\"id\":\"54256\",\"type\":\"BasicTickFormatter\"},\"ticker\":{\"id\":\"52266\",\"type\":\"BasicTicker\"}},\"id\":\"52265\",\"type\":\"LinearAxis\"},{\"attributes\":{\"active_drag\":\"auto\",\"active_inspect\":\"auto\",\"active_multi\":null,\"active_scroll\":\"auto\",\"active_tap\":\"auto\",\"tools\":[{\"id\":\"52358\",\"type\":\"PanTool\"},{\"id\":\"52359\",\"type\":\"WheelZoomTool\"},{\"id\":\"52360\",\"type\":\"BoxZoomTool\"},{\"id\":\"52361\",\"type\":\"SaveTool\"},{\"id\":\"52362\",\"type\":\"ResetTool\"},{\"id\":\"52363\",\"type\":\"HelpTool\"}]},\"id\":\"52364\",\"type\":\"Toolbar\"},{\"attributes\":{},\"id\":\"52266\",\"type\":\"BasicTicker\"},{\"attributes\":{\"dimension\":1,\"ticker\":{\"id\":\"52266\",\"type\":\"BasicTicker\"}},\"id\":\"52269\",\"type\":\"Grid\"},{\"attributes\":{\"data_source\":{\"id\":\"52376\",\"type\":\"ColumnDataSource\"},\"glyph\":{\"id\":\"52377\",\"type\":\"Circle\"},\"hover_glyph\":null,\"muted_glyph\":null,\"nonselection_glyph\":{\"id\":\"52378\",\"type\":\"Circle\"},\"selection_glyph\":null,\"view\":{\"id\":\"52380\",\"type\":\"CDSView\"}},\"id\":\"52379\",\"type\":\"GlyphRenderer\"},{\"attributes\":{\"line_alpha\":{\"value\":0.1},\"line_color\":{\"value\":\"#1f77b4\"},\"line_dash\":[4,4],\"line_width\":{\"value\":2},\"mode\":\"after\",\"x\":{\"field\":\"x\"},\"y\":{\"field\":\"y\"}},\"id\":\"52285\",\"type\":\"Step\"},{\"attributes\":{\"fill_alpha\":{\"value\":0.1},\"fill_color\":{\"value\":\"#1f77b4\"},\"line_alpha\":{\"value\":0.1},\"line_color\":{\"value\":\"#1f77b4\"},\"size\":{\"units\":\"screen\",\"value\":6},\"x\":{\"field\":\"x\"},\"y\":{\"field\":\"y\"}},\"id\":\"52378\",\"type\":\"Circle\"},{\"attributes\":{\"line_color\":{\"value\":\"#1f77b4\"},\"line_dash\":[4,4],\"line_width\":{\"value\":2},\"mode\":\"after\",\"x\":{\"field\":\"x\"},\"y\":{\"field\":\"y\"}},\"id\":\"52284\",\"type\":\"Step\"},{\"attributes\":{\"fill_color\":{\"value\":\"red\"},\"line_color\":{\"value\":\"#1f77b4\"},\"size\":{\"units\":\"screen\",\"value\":6},\"x\":{\"field\":\"x\"},\"y\":{\"field\":\"y\"}},\"id\":\"52377\",\"type\":\"Circle\"},{\"attributes\":{\"active_drag\":\"auto\",\"active_inspect\":\"auto\",\"active_multi\":null,\"active_scroll\":\"auto\",\"active_tap\":\"auto\",\"tools\":[{\"id\":\"52270\",\"type\":\"PanTool\"},{\"id\":\"52271\",\"type\":\"WheelZoomTool\"},{\"id\":\"52272\",\"type\":\"BoxZoomTool\"},{\"id\":\"52273\",\"type\":\"SaveTool\"},{\"id\":\"52274\",\"type\":\"ResetTool\"},{\"id\":\"52275\",\"type\":\"HelpTool\"}]},\"id\":\"52276\",\"type\":\"Toolbar\"},{\"attributes\":{\"callback\":null,\"data\":{\"x\":[1546300800000.0,1546301220000.0,1546301400000.0,1546301520000.0,1546301700000.0,1546301820000.0],\"y\":[0,-1,5,14,10,1]},\"selected\":{\"id\":\"54315\",\"type\":\"Selection\"},\"selection_policy\":{\"id\":\"54316\",\"type\":\"UnionRenderers\"}},\"id\":\"52376\",\"type\":\"ColumnDataSource\"},{\"attributes\":{},\"id\":\"52270\",\"type\":\"PanTool\"},{\"attributes\":{\"source\":{\"id\":\"52376\",\"type\":\"ColumnDataSource\"}},\"id\":\"52380\",\"type\":\"CDSView\"},{\"attributes\":{},\"id\":\"52271\",\"type\":\"WheelZoomTool\"},{\"attributes\":{},\"id\":\"54260\",\"type\":\"BasicTickFormatter\"},{\"attributes\":{},\"id\":\"54258\",\"type\":\"DatetimeTickFormatter\"},{\"attributes\":{\"overlay\":{\"id\":\"54283\",\"type\":\"BoxAnnotation\"}},\"id\":\"52272\",\"type\":\"BoxZoomTool\"},{\"attributes\":{},\"id\":\"52273\",\"type\":\"SaveTool\"},{\"attributes\":{},\"id\":\"52274\",\"type\":\"ResetTool\"},{\"attributes\":{},\"id\":\"54264\",\"type\":\"BasicTickFormatter\"},{\"attributes\":{},\"id\":\"52275\",\"type\":\"HelpTool\"},{\"attributes\":{},\"id\":\"54262\",\"type\":\"DatetimeTickFormatter\"},{\"attributes\":{\"mantissas\":[1,2,5],\"max_interval\":500.0,\"num_minor_ticks\":0},\"id\":\"54267\",\"type\":\"AdaptiveTicker\"},{\"attributes\":{\"data_source\":{\"id\":\"52283\",\"type\":\"ColumnDataSource\"},\"glyph\":{\"id\":\"52284\",\"type\":\"Step\"},\"hover_glyph\":null,\"muted_glyph\":null,\"nonselection_glyph\":{\"id\":\"52285\",\"type\":\"Step\"},\"selection_glyph\":null,\"view\":{\"id\":\"52287\",\"type\":\"CDSView\"}},\"id\":\"52286\",\"type\":\"GlyphRenderer\"},{\"attributes\":{},\"id\":\"54266\",\"type\":\"DatetimeTickFormatter\"},{\"attributes\":{\"source\":{\"id\":\"52283\",\"type\":\"ColumnDataSource\"}},\"id\":\"52287\",\"type\":\"CDSView\"},{\"attributes\":{\"base\":60,\"mantissas\":[1,2,5,10,15,20,30],\"max_interval\":1800000.0,\"min_interval\":1000.0,\"num_minor_ticks\":0},\"id\":\"54268\",\"type\":\"AdaptiveTicker\"},{\"attributes\":{\"callback\":null,\"data\":{\"x\":[1546300800000.0,1546301400000.0,1546301700000.0,1546301820000.0],\"y\":[10,20,10,1]},\"selected\":{\"id\":\"54281\",\"type\":\"Selection\"},\"selection_policy\":{\"id\":\"54282\",\"type\":\"UnionRenderers\"}},\"id\":\"52288\",\"type\":\"ColumnDataSource\"},{\"attributes\":{\"fill_color\":{\"value\":\"red\"},\"line_color\":{\"value\":\"#1f77b4\"},\"size\":{\"units\":\"screen\",\"value\":6},\"x\":{\"field\":\"x\"},\"y\":{\"field\":\"y\"}},\"id\":\"52289\",\"type\":\"Circle\"},{\"attributes\":{\"days\":[1,2,3,4,5,6,7,8,9,10,11,12,13,14,15,16,17,18,19,20,21,22,23,24,25,26,27,28,29,30,31]},\"id\":\"54270\",\"type\":\"DaysTicker\"},{\"attributes\":{\"fill_alpha\":{\"value\":0.1},\"fill_color\":{\"value\":\"#1f77b4\"},\"line_alpha\":{\"value\":0.1},\"line_color\":{\"value\":\"#1f77b4\"},\"size\":{\"units\":\"screen\",\"value\":6},\"x\":{\"field\":\"x\"},\"y\":{\"field\":\"y\"}},\"id\":\"52290\",\"type\":\"Circle\"},{\"attributes\":{\"base\":24,\"mantissas\":[1,2,4,6,8,12],\"max_interval\":43200000.0,\"min_interval\":3600000.0,\"num_minor_ticks\":0},\"id\":\"54269\",\"type\":\"AdaptiveTicker\"},{\"attributes\":{\"data_source\":{\"id\":\"52288\",\"type\":\"ColumnDataSource\"},\"glyph\":{\"id\":\"52289\",\"type\":\"Circle\"},\"hover_glyph\":null,\"muted_glyph\":null,\"nonselection_glyph\":{\"id\":\"52290\",\"type\":\"Circle\"},\"selection_glyph\":null,\"view\":{\"id\":\"52292\",\"type\":\"CDSView\"}},\"id\":\"52291\",\"type\":\"GlyphRenderer\"},{\"attributes\":{\"days\":[1,15]},\"id\":\"54273\",\"type\":\"DaysTicker\"},{\"attributes\":{\"source\":{\"id\":\"52288\",\"type\":\"ColumnDataSource\"}},\"id\":\"52292\",\"type\":\"CDSView\"},{\"attributes\":{\"days\":[1,8,15,22]},\"id\":\"54272\",\"type\":\"DaysTicker\"},{\"attributes\":{\"days\":[1,4,7,10,13,16,19,22,25,28]},\"id\":\"54271\",\"type\":\"DaysTicker\"},{\"attributes\":{\"below\":[{\"id\":\"52304\",\"type\":\"DatetimeAxis\"}],\"center\":[{\"id\":\"52308\",\"type\":\"Grid\"},{\"id\":\"52313\",\"type\":\"Grid\"}],\"left\":[{\"id\":\"52309\",\"type\":\"LinearAxis\"}],\"plot_height\":250,\"plot_width\":400,\"renderers\":[{\"id\":\"52330\",\"type\":\"GlyphRenderer\"},{\"id\":\"52335\",\"type\":\"GlyphRenderer\"}],\"title\":{\"id\":\"52294\",\"type\":\"Title\"},\"toolbar\":{\"id\":\"52320\",\"type\":\"Toolbar\"},\"x_range\":{\"id\":\"52296\",\"type\":\"Range1d\"},\"x_scale\":{\"id\":\"52300\",\"type\":\"LinearScale\"},\"y_range\":{\"id\":\"52298\",\"type\":\"Range1d\"},\"y_scale\":{\"id\":\"52302\",\"type\":\"LinearScale\"}},\"id\":\"52293\",\"subtype\":\"Figure\",\"type\":\"Plot\"},{\"attributes\":{\"months\":[0,6]},\"id\":\"54277\",\"type\":\"MonthsTicker\"},{\"attributes\":{},\"id\":\"52300\",\"type\":\"LinearScale\"},{\"attributes\":{},\"id\":\"52302\",\"type\":\"LinearScale\"},{\"attributes\":{\"months\":[0,4,8]},\"id\":\"54276\",\"type\":\"MonthsTicker\"},{\"attributes\":{\"callback\":null,\"end\":1546302000000,\"start\":1546300620000},\"id\":\"52296\",\"type\":\"Range1d\"},{\"attributes\":{\"months\":[0,2,4,6,8,10]},\"id\":\"54275\",\"type\":\"MonthsTicker\"},{\"attributes\":{\"callback\":null,\"end\":40,\"start\":-15},\"id\":\"52298\",\"type\":\"Range1d\"},{\"attributes\":{\"months\":[0,1,2,3,4,5,6,7,8,9,10,11]},\"id\":\"54274\",\"type\":\"MonthsTicker\"},{\"attributes\":{},\"id\":\"54278\",\"type\":\"YearsTicker\"},{\"attributes\":{\"text\":\"ts2\"},\"id\":\"52294\",\"type\":\"Title\"},{\"attributes\":{\"callback\":null,\"data\":{\"x\":[1546300800000.0,1546301400000.0,1546301700000.0,1546301820000.0],\"y\":[10,20,10,1]},\"selected\":{\"id\":\"54279\",\"type\":\"Selection\"},\"selection_policy\":{\"id\":\"54280\",\"type\":\"UnionRenderers\"}},\"id\":\"52283\",\"type\":\"ColumnDataSource\"},{\"attributes\":{\"callback\":null,\"data\":{\"x\":[1546301220000.0,1546301400000.0,1546301520000.0],\"y\":[-1,5,14]},\"selected\":{\"id\":\"54296\",\"type\":\"Selection\"},\"selection_policy\":{\"id\":\"54297\",\"type\":\"UnionRenderers\"}},\"id\":\"52327\",\"type\":\"ColumnDataSource\"},{\"attributes\":{\"axis_label\":\"timestamp\",\"formatter\":{\"id\":\"54262\",\"type\":\"DatetimeTickFormatter\"},\"ticker\":{\"id\":\"52305\",\"type\":\"DatetimeTicker\"}},\"id\":\"52304\",\"type\":\"DatetimeAxis\"},{\"attributes\":{},\"id\":\"54282\",\"type\":\"UnionRenderers\"},{\"attributes\":{\"axis_label\":\"IoT sensor\",\"formatter\":{\"id\":\"54264\",\"type\":\"BasicTickFormatter\"},\"ticker\":{\"id\":\"52354\",\"type\":\"BasicTicker\"}},\"id\":\"52353\",\"type\":\"LinearAxis\"},{\"attributes\":{},\"id\":\"54281\",\"type\":\"Selection\"},{\"attributes\":{\"text\":\"ts1\"},\"id\":\"52250\",\"type\":\"Title\"},{\"attributes\":{\"num_minor_ticks\":5,\"tickers\":[{\"id\":\"54284\",\"type\":\"AdaptiveTicker\"},{\"id\":\"54285\",\"type\":\"AdaptiveTicker\"},{\"id\":\"54286\",\"type\":\"AdaptiveTicker\"},{\"id\":\"54287\",\"type\":\"DaysTicker\"},{\"id\":\"54288\",\"type\":\"DaysTicker\"},{\"id\":\"54289\",\"type\":\"DaysTicker\"},{\"id\":\"54290\",\"type\":\"DaysTicker\"},{\"id\":\"54291\",\"type\":\"MonthsTicker\"},{\"id\":\"54292\",\"type\":\"MonthsTicker\"},{\"id\":\"54293\",\"type\":\"MonthsTicker\"},{\"id\":\"54294\",\"type\":\"MonthsTicker\"},{\"id\":\"54295\",\"type\":\"YearsTicker\"}]},\"id\":\"52305\",\"type\":\"DatetimeTicker\"},{\"attributes\":{},\"id\":\"54280\",\"type\":\"UnionRenderers\"},{\"attributes\":{\"ticker\":{\"id\":\"52305\",\"type\":\"DatetimeTicker\"}},\"id\":\"52308\",\"type\":\"Grid\"},{\"attributes\":{\"below\":[{\"id\":\"52260\",\"type\":\"DatetimeAxis\"}],\"center\":[{\"id\":\"52264\",\"type\":\"Grid\"},{\"id\":\"52269\",\"type\":\"Grid\"}],\"left\":[{\"id\":\"52265\",\"type\":\"LinearAxis\"}],\"plot_height\":250,\"plot_width\":400,\"renderers\":[{\"id\":\"52286\",\"type\":\"GlyphRenderer\"},{\"id\":\"52291\",\"type\":\"GlyphRenderer\"}],\"title\":{\"id\":\"52250\",\"type\":\"Title\"},\"toolbar\":{\"id\":\"52276\",\"type\":\"Toolbar\"},\"x_range\":{\"id\":\"52252\",\"type\":\"Range1d\"},\"x_scale\":{\"id\":\"52256\",\"type\":\"LinearScale\"},\"y_range\":{\"id\":\"52254\",\"type\":\"Range1d\"},\"y_scale\":{\"id\":\"52258\",\"type\":\"LinearScale\"}},\"id\":\"52249\",\"subtype\":\"Figure\",\"type\":\"Plot\"},{\"attributes\":{},\"id\":\"54279\",\"type\":\"Selection\"},{\"attributes\":{\"axis_label\":\"IoT sensor\",\"formatter\":{\"id\":\"54260\",\"type\":\"BasicTickFormatter\"},\"ticker\":{\"id\":\"52310\",\"type\":\"BasicTicker\"}},\"id\":\"52309\",\"type\":\"LinearAxis\"},{\"attributes\":{\"bottom_units\":\"screen\",\"fill_alpha\":{\"value\":0.5},\"fill_color\":{\"value\":\"lightgrey\"},\"left_units\":\"screen\",\"level\":\"overlay\",\"line_alpha\":{\"value\":1.0},\"line_color\":{\"value\":\"black\"},\"line_dash\":[4,4],\"line_width\":{\"value\":2},\"render_mode\":\"css\",\"right_units\":\"screen\",\"top_units\":\"screen\"},\"id\":\"54283\",\"type\":\"BoxAnnotation\"},{\"attributes\":{},\"id\":\"52310\",\"type\":\"BasicTicker\"},{\"attributes\":{\"mantissas\":[1,2,5],\"max_interval\":500.0,\"num_minor_ticks\":0},\"id\":\"54284\",\"type\":\"AdaptiveTicker\"},{\"attributes\":{\"dimension\":1,\"ticker\":{\"id\":\"52310\",\"type\":\"BasicTicker\"}},\"id\":\"52313\",\"type\":\"Grid\"},{\"attributes\":{\"base\":60,\"mantissas\":[1,2,5,10,15,20,30],\"max_interval\":1800000.0,\"min_interval\":1000.0,\"num_minor_ticks\":0},\"id\":\"54285\",\"type\":\"AdaptiveTicker\"},{\"attributes\":{\"line_alpha\":{\"value\":0.1},\"line_color\":{\"value\":\"#1f77b4\"},\"line_dash\":[4,4],\"line_width\":{\"value\":2},\"mode\":\"after\",\"x\":{\"field\":\"x\"},\"y\":{\"field\":\"y\"}},\"id\":\"52329\",\"type\":\"Step\"},{\"attributes\":{\"base\":24,\"mantissas\":[1,2,4,6,8,12],\"max_interval\":43200000.0,\"min_interval\":3600000.0,\"num_minor_ticks\":0},\"id\":\"54286\",\"type\":\"AdaptiveTicker\"},{\"attributes\":{\"line_color\":{\"value\":\"#1f77b4\"},\"line_dash\":[4,4],\"line_width\":{\"value\":2},\"mode\":\"after\",\"x\":{\"field\":\"x\"},\"y\":{\"field\":\"y\"}},\"id\":\"52328\",\"type\":\"Step\"},{\"attributes\":{\"days\":[1,2,3,4,5,6,7,8,9,10,11,12,13,14,15,16,17,18,19,20,21,22,23,24,25,26,27,28,29,30,31]},\"id\":\"54287\",\"type\":\"DaysTicker\"},{\"attributes\":{\"active_drag\":\"auto\",\"active_inspect\":\"auto\",\"active_multi\":null,\"active_scroll\":\"auto\",\"active_tap\":\"auto\",\"tools\":[{\"id\":\"52314\",\"type\":\"PanTool\"},{\"id\":\"52315\",\"type\":\"WheelZoomTool\"},{\"id\":\"52316\",\"type\":\"BoxZoomTool\"},{\"id\":\"52317\",\"type\":\"SaveTool\"},{\"id\":\"52318\",\"type\":\"ResetTool\"},{\"id\":\"52319\",\"type\":\"HelpTool\"}]},\"id\":\"52320\",\"type\":\"Toolbar\"},{\"attributes\":{},\"id\":\"52314\",\"type\":\"PanTool\"},{\"attributes\":{\"days\":[1,4,7,10,13,16,19,22,25,28]},\"id\":\"54288\",\"type\":\"DaysTicker\"},{\"attributes\":{},\"id\":\"52315\",\"type\":\"WheelZoomTool\"},{\"attributes\":{\"days\":[1,8,15,22]},\"id\":\"54289\",\"type\":\"DaysTicker\"},{\"attributes\":{\"overlay\":{\"id\":\"54300\",\"type\":\"BoxAnnotation\"}},\"id\":\"52316\",\"type\":\"BoxZoomTool\"},{\"attributes\":{\"days\":[1,15]},\"id\":\"54290\",\"type\":\"DaysTicker\"},{\"attributes\":{},\"id\":\"52317\",\"type\":\"SaveTool\"},{\"attributes\":{\"months\":[0,1,2,3,4,5,6,7,8,9,10,11]},\"id\":\"54291\",\"type\":\"MonthsTicker\"},{\"attributes\":{},\"id\":\"52318\",\"type\":\"ResetTool\"},{\"attributes\":{\"months\":[0,2,4,6,8,10]},\"id\":\"54292\",\"type\":\"MonthsTicker\"},{\"attributes\":{},\"id\":\"52319\",\"type\":\"HelpTool\"},{\"attributes\":{\"months\":[0,4,8]},\"id\":\"54293\",\"type\":\"MonthsTicker\"},{\"attributes\":{\"callback\":null,\"end\":1546302000000,\"start\":1546300620000},\"id\":\"52252\",\"type\":\"Range1d\"},{\"attributes\":{\"months\":[0,6]},\"id\":\"54294\",\"type\":\"MonthsTicker\"},{\"attributes\":{},\"id\":\"54295\",\"type\":\"YearsTicker\"},{\"attributes\":{\"data_source\":{\"id\":\"52327\",\"type\":\"ColumnDataSource\"},\"glyph\":{\"id\":\"52328\",\"type\":\"Step\"},\"hover_glyph\":null,\"muted_glyph\":null,\"nonselection_glyph\":{\"id\":\"52329\",\"type\":\"Step\"},\"selection_glyph\":null,\"view\":{\"id\":\"52331\",\"type\":\"CDSView\"}},\"id\":\"52330\",\"type\":\"GlyphRenderer\"},{\"attributes\":{\"source\":{\"id\":\"52327\",\"type\":\"ColumnDataSource\"}},\"id\":\"52331\",\"type\":\"CDSView\"},{\"attributes\":{},\"id\":\"54296\",\"type\":\"Selection\"},{\"attributes\":{\"callback\":null,\"data\":{\"x\":[1546301220000.0,1546301400000.0,1546301520000.0],\"y\":[-1,5,14]},\"selected\":{\"id\":\"54298\",\"type\":\"Selection\"},\"selection_policy\":{\"id\":\"54299\",\"type\":\"UnionRenderers\"}},\"id\":\"52332\",\"type\":\"ColumnDataSource\"},{\"attributes\":{},\"id\":\"54297\",\"type\":\"UnionRenderers\"},{\"attributes\":{\"fill_color\":{\"value\":\"red\"},\"line_color\":{\"value\":\"#1f77b4\"},\"size\":{\"units\":\"screen\",\"value\":6},\"x\":{\"field\":\"x\"},\"y\":{\"field\":\"y\"}},\"id\":\"52333\",\"type\":\"Circle\"},{\"attributes\":{},\"id\":\"54298\",\"type\":\"Selection\"},{\"attributes\":{\"fill_alpha\":{\"value\":0.1},\"fill_color\":{\"value\":\"#1f77b4\"},\"line_alpha\":{\"value\":0.1},\"line_color\":{\"value\":\"#1f77b4\"},\"size\":{\"units\":\"screen\",\"value\":6},\"x\":{\"field\":\"x\"},\"y\":{\"field\":\"y\"}},\"id\":\"52334\",\"type\":\"Circle\"},{\"attributes\":{},\"id\":\"54299\",\"type\":\"UnionRenderers\"},{\"attributes\":{\"data_source\":{\"id\":\"52332\",\"type\":\"ColumnDataSource\"},\"glyph\":{\"id\":\"52333\",\"type\":\"Circle\"},\"hover_glyph\":null,\"muted_glyph\":null,\"nonselection_glyph\":{\"id\":\"52334\",\"type\":\"Circle\"},\"selection_glyph\":null,\"view\":{\"id\":\"52336\",\"type\":\"CDSView\"}},\"id\":\"52335\",\"type\":\"GlyphRenderer\"},{\"attributes\":{\"bottom_units\":\"screen\",\"fill_alpha\":{\"value\":0.5},\"fill_color\":{\"value\":\"lightgrey\"},\"left_units\":\"screen\",\"level\":\"overlay\",\"line_alpha\":{\"value\":1.0},\"line_color\":{\"value\":\"black\"},\"line_dash\":[4,4],\"line_width\":{\"value\":2},\"render_mode\":\"css\",\"right_units\":\"screen\",\"top_units\":\"screen\"},\"id\":\"54300\",\"type\":\"BoxAnnotation\"},{\"attributes\":{\"source\":{\"id\":\"52332\",\"type\":\"ColumnDataSource\"}},\"id\":\"52336\",\"type\":\"CDSView\"},{\"attributes\":{\"mantissas\":[1,2,5],\"max_interval\":500.0,\"num_minor_ticks\":0},\"id\":\"54301\",\"type\":\"AdaptiveTicker\"},{\"attributes\":{\"below\":[{\"id\":\"52348\",\"type\":\"DatetimeAxis\"}],\"center\":[{\"id\":\"52352\",\"type\":\"Grid\"},{\"id\":\"52357\",\"type\":\"Grid\"}],\"left\":[{\"id\":\"52353\",\"type\":\"LinearAxis\"}],\"plot_height\":250,\"plot_width\":400,\"renderers\":[{\"id\":\"52374\",\"type\":\"GlyphRenderer\"},{\"id\":\"52379\",\"type\":\"GlyphRenderer\"}],\"title\":{\"id\":\"52338\",\"type\":\"Title\"},\"toolbar\":{\"id\":\"52364\",\"type\":\"Toolbar\"},\"x_range\":{\"id\":\"52340\",\"type\":\"Range1d\"},\"x_scale\":{\"id\":\"52344\",\"type\":\"LinearScale\"},\"y_range\":{\"id\":\"52342\",\"type\":\"Range1d\"},\"y_scale\":{\"id\":\"52346\",\"type\":\"LinearScale\"}},\"id\":\"52337\",\"subtype\":\"Figure\",\"type\":\"Plot\"},{\"attributes\":{\"base\":60,\"mantissas\":[1,2,5,10,15,20,30],\"max_interval\":1800000.0,\"min_interval\":1000.0,\"num_minor_ticks\":0},\"id\":\"54302\",\"type\":\"AdaptiveTicker\"},{\"attributes\":{\"base\":24,\"mantissas\":[1,2,4,6,8,12],\"max_interval\":43200000.0,\"min_interval\":3600000.0,\"num_minor_ticks\":0},\"id\":\"54303\",\"type\":\"AdaptiveTicker\"},{\"attributes\":{},\"id\":\"52344\",\"type\":\"LinearScale\"},{\"attributes\":{},\"id\":\"52346\",\"type\":\"LinearScale\"},{\"attributes\":{\"days\":[1,2,3,4,5,6,7,8,9,10,11,12,13,14,15,16,17,18,19,20,21,22,23,24,25,26,27,28,29,30,31]},\"id\":\"54304\",\"type\":\"DaysTicker\"},{\"attributes\":{\"callback\":null,\"end\":1546302000000,\"start\":1546300620000},\"id\":\"52340\",\"type\":\"Range1d\"},{\"attributes\":{\"days\":[1,4,7,10,13,16,19,22,25,28]},\"id\":\"54305\",\"type\":\"DaysTicker\"},{\"attributes\":{\"callback\":null,\"end\":40,\"start\":-15},\"id\":\"52342\",\"type\":\"Range1d\"},{\"attributes\":{\"days\":[1,8,15,22]},\"id\":\"54306\",\"type\":\"DaysTicker\"},{\"attributes\":{\"text\":\"ts3\"},\"id\":\"52338\",\"type\":\"Title\"},{\"attributes\":{\"days\":[1,15]},\"id\":\"54307\",\"type\":\"DaysTicker\"},{\"attributes\":{\"months\":[0,1,2,3,4,5,6,7,8,9,10,11]},\"id\":\"54308\",\"type\":\"MonthsTicker\"},{\"attributes\":{\"bottom_units\":\"screen\",\"fill_alpha\":{\"value\":0.5},\"fill_color\":{\"value\":\"lightgrey\"},\"left_units\":\"screen\",\"level\":\"overlay\",\"line_alpha\":{\"value\":1.0},\"line_color\":{\"value\":\"black\"},\"line_dash\":[4,4],\"line_width\":{\"value\":2},\"render_mode\":\"css\",\"right_units\":\"screen\",\"top_units\":\"screen\"},\"id\":\"54317\",\"type\":\"BoxAnnotation\"},{\"attributes\":{\"axis_label\":\"timestamp\",\"formatter\":{\"id\":\"54266\",\"type\":\"DatetimeTickFormatter\"},\"ticker\":{\"id\":\"52349\",\"type\":\"DatetimeTicker\"}},\"id\":\"52348\",\"type\":\"DatetimeAxis\"},{\"attributes\":{\"months\":[0,2,4,6,8,10]},\"id\":\"54309\",\"type\":\"MonthsTicker\"},{\"attributes\":{\"num_minor_ticks\":5,\"tickers\":[{\"id\":\"54301\",\"type\":\"AdaptiveTicker\"},{\"id\":\"54302\",\"type\":\"AdaptiveTicker\"},{\"id\":\"54303\",\"type\":\"AdaptiveTicker\"},{\"id\":\"54304\",\"type\":\"DaysTicker\"},{\"id\":\"54305\",\"type\":\"DaysTicker\"},{\"id\":\"54306\",\"type\":\"DaysTicker\"},{\"id\":\"54307\",\"type\":\"DaysTicker\"},{\"id\":\"54308\",\"type\":\"MonthsTicker\"},{\"id\":\"54309\",\"type\":\"MonthsTicker\"},{\"id\":\"54310\",\"type\":\"MonthsTicker\"},{\"id\":\"54311\",\"type\":\"MonthsTicker\"},{\"id\":\"54312\",\"type\":\"YearsTicker\"}]},\"id\":\"52349\",\"type\":\"DatetimeTicker\"},{\"attributes\":{\"months\":[0,4,8]},\"id\":\"54310\",\"type\":\"MonthsTicker\"},{\"attributes\":{\"ticker\":{\"id\":\"52349\",\"type\":\"DatetimeTicker\"}},\"id\":\"52352\",\"type\":\"Grid\"},{\"attributes\":{\"months\":[0,6]},\"id\":\"54311\",\"type\":\"MonthsTicker\"},{\"attributes\":{},\"id\":\"54256\",\"type\":\"BasicTickFormatter\"},{\"attributes\":{},\"id\":\"54312\",\"type\":\"YearsTicker\"},{\"attributes\":{},\"id\":\"52354\",\"type\":\"BasicTicker\"},{\"attributes\":{},\"id\":\"54313\",\"type\":\"Selection\"},{\"attributes\":{\"dimension\":1,\"ticker\":{\"id\":\"52354\",\"type\":\"BasicTicker\"}},\"id\":\"52357\",\"type\":\"Grid\"},{\"attributes\":{},\"id\":\"54314\",\"type\":\"UnionRenderers\"},{\"attributes\":{\"line_alpha\":{\"value\":0.1},\"line_color\":{\"value\":\"#1f77b4\"},\"line_dash\":[4,4],\"line_width\":{\"value\":2},\"mode\":\"after\",\"x\":{\"field\":\"x\"},\"y\":{\"field\":\"y\"}},\"id\":\"52373\",\"type\":\"Step\"},{\"attributes\":{\"line_color\":{\"value\":\"#1f77b4\"},\"line_dash\":[4,4],\"line_width\":{\"value\":2},\"mode\":\"after\",\"x\":{\"field\":\"x\"},\"y\":{\"field\":\"y\"}},\"id\":\"52372\",\"type\":\"Step\"},{\"attributes\":{},\"id\":\"54315\",\"type\":\"Selection\"},{\"attributes\":{\"callback\":null,\"data\":{\"x\":[1546300800000.0,1546301220000.0,1546301400000.0,1546301520000.0,1546301700000.0,1546301820000.0],\"y\":[0,-1,5,14,10,1]},\"selected\":{\"id\":\"54313\",\"type\":\"Selection\"},\"selection_policy\":{\"id\":\"54314\",\"type\":\"UnionRenderers\"}},\"id\":\"52371\",\"type\":\"ColumnDataSource\"},{\"attributes\":{},\"id\":\"54316\",\"type\":\"UnionRenderers\"},{\"attributes\":{},\"id\":\"52358\",\"type\":\"PanTool\"}],\"root_ids\":[\"52381\"]},\"title\":\"Bokeh Application\",\"version\":\"1.2.0\"}};\n",
       "  var render_items = [{\"docid\":\"87079266-cbe6-461e-a919-d1a97a90e21b\",\"roots\":{\"52381\":\"34e4fba4-129b-429c-8545-3bffdf75975a\"}}];\n",
       "  root.Bokeh.embed.embed_items_notebook(docs_json, render_items);\n",
       "\n",
       "  }\n",
       "  if (root.Bokeh !== undefined) {\n",
       "    embed_document(root);\n",
       "  } else {\n",
       "    var attempts = 0;\n",
       "    var timer = setInterval(function(root) {\n",
       "      if (root.Bokeh !== undefined) {\n",
       "        embed_document(root);\n",
       "        clearInterval(timer);\n",
       "      }\n",
       "      attempts++;\n",
       "      if (attempts > 100) {\n",
       "        console.log(\"Bokeh: ERROR: Unable to run BokehJS code because BokehJS library is missing\");\n",
       "        clearInterval(timer);\n",
       "      }\n",
       "    }, 10, root)\n",
       "  }\n",
       "})(window);"
      ],
      "application/vnd.bokehjs_exec.v0+json": ""
     },
     "metadata": {
      "application/vnd.bokehjs_exec.v0+json": {
       "id": "52381"
      }
     },
     "output_type": "display_data"
    }
   ],
   "source": [
    "# Floor (it applies a max on each key)\n",
    "plot_row(ts, ts.floor(10))\n",
    "plot_row(ts, ts2, ts.floor(ts2))"
   ]
  },
  {
   "cell_type": "code",
   "execution_count": 85,
   "metadata": {},
   "outputs": [
    {
     "data": {
      "text/html": [
       "\n",
       "\n",
       "\n",
       "\n",
       "\n",
       "\n",
       "  <div class=\"bk-root\" id=\"0dc6fee3-edae-4dda-a37a-aeb6e2f8e626\" data-root-id=\"61954\"></div>\n"
      ]
     },
     "metadata": {},
     "output_type": "display_data"
    },
    {
     "data": {
      "application/javascript": [
       "(function(root) {\n",
       "  function embed_document(root) {\n",
       "    \n",
       "  var docs_json = {\"d46b948c-8c6c-434e-acb3-2b974b98c358\":{\"roots\":{\"references\":[{\"attributes\":{\"children\":[{\"id\":\"61866\",\"subtype\":\"Figure\",\"type\":\"Plot\"},{\"id\":\"61910\",\"subtype\":\"Figure\",\"type\":\"Plot\"}]},\"id\":\"61954\",\"type\":\"Row\"},{\"attributes\":{\"fill_color\":{\"value\":\"red\"},\"line_color\":{\"value\":\"#1f77b4\"},\"size\":{\"units\":\"screen\",\"value\":6},\"x\":{\"field\":\"x\"},\"y\":{\"field\":\"y\"}},\"id\":\"61950\",\"type\":\"Circle\"},{\"attributes\":{\"fill_alpha\":{\"value\":0.1},\"fill_color\":{\"value\":\"#1f77b4\"},\"line_alpha\":{\"value\":0.1},\"line_color\":{\"value\":\"#1f77b4\"},\"size\":{\"units\":\"screen\",\"value\":6},\"x\":{\"field\":\"x\"},\"y\":{\"field\":\"y\"}},\"id\":\"61951\",\"type\":\"Circle\"},{\"attributes\":{\"source\":{\"id\":\"61949\",\"type\":\"ColumnDataSource\"}},\"id\":\"61953\",\"type\":\"CDSView\"},{\"attributes\":{\"data_source\":{\"id\":\"61949\",\"type\":\"ColumnDataSource\"},\"glyph\":{\"id\":\"61950\",\"type\":\"Circle\"},\"hover_glyph\":null,\"muted_glyph\":null,\"nonselection_glyph\":{\"id\":\"61951\",\"type\":\"Circle\"},\"selection_glyph\":null,\"view\":{\"id\":\"61953\",\"type\":\"CDSView\"}},\"id\":\"61952\",\"type\":\"GlyphRenderer\"},{\"attributes\":{},\"id\":\"64030\",\"type\":\"BasicTickFormatter\"},{\"attributes\":{\"months\":[0,1,2,3,4,5,6,7,8,9,10,11]},\"id\":\"64040\",\"type\":\"MonthsTicker\"},{\"attributes\":{},\"id\":\"64028\",\"type\":\"DatetimeTickFormatter\"},{\"attributes\":{\"base\":24,\"mantissas\":[1,2,4,6,8,12],\"max_interval\":43200000.0,\"min_interval\":3600000.0,\"num_minor_ticks\":0},\"id\":\"64035\",\"type\":\"AdaptiveTicker\"},{\"attributes\":{},\"id\":\"64032\",\"type\":\"DatetimeTickFormatter\"},{\"attributes\":{\"mantissas\":[1,2,5],\"max_interval\":500.0,\"num_minor_ticks\":0},\"id\":\"64033\",\"type\":\"AdaptiveTicker\"},{\"attributes\":{\"base\":60,\"mantissas\":[1,2,5,10,15,20,30],\"max_interval\":1800000.0,\"min_interval\":1000.0,\"num_minor_ticks\":0},\"id\":\"64034\",\"type\":\"AdaptiveTicker\"},{\"attributes\":{\"days\":[1,2,3,4,5,6,7,8,9,10,11,12,13,14,15,16,17,18,19,20,21,22,23,24,25,26,27,28,29,30,31]},\"id\":\"64036\",\"type\":\"DaysTicker\"},{\"attributes\":{\"days\":[1,4,7,10,13,16,19,22,25,28]},\"id\":\"64037\",\"type\":\"DaysTicker\"},{\"attributes\":{\"base\":60,\"mantissas\":[1,2,5,10,15,20,30],\"max_interval\":1800000.0,\"min_interval\":1000.0,\"num_minor_ticks\":0},\"id\":\"64051\",\"type\":\"AdaptiveTicker\"},{\"attributes\":{\"days\":[1,8,15,22]},\"id\":\"64038\",\"type\":\"DaysTicker\"},{\"attributes\":{\"days\":[1,15]},\"id\":\"64039\",\"type\":\"DaysTicker\"},{\"attributes\":{\"months\":[0,2,4,6,8,10]},\"id\":\"64041\",\"type\":\"MonthsTicker\"},{\"attributes\":{\"months\":[0,4,8]},\"id\":\"64042\",\"type\":\"MonthsTicker\"},{\"attributes\":{\"months\":[0,6]},\"id\":\"64043\",\"type\":\"MonthsTicker\"},{\"attributes\":{},\"id\":\"64044\",\"type\":\"YearsTicker\"},{\"attributes\":{},\"id\":\"64045\",\"type\":\"Selection\"},{\"attributes\":{},\"id\":\"64046\",\"type\":\"UnionRenderers\"},{\"attributes\":{\"days\":[1,8,15,22]},\"id\":\"64055\",\"type\":\"DaysTicker\"},{\"attributes\":{},\"id\":\"64047\",\"type\":\"Selection\"},{\"attributes\":{},\"id\":\"64048\",\"type\":\"UnionRenderers\"},{\"attributes\":{\"bottom_units\":\"screen\",\"fill_alpha\":{\"value\":0.5},\"fill_color\":{\"value\":\"lightgrey\"},\"left_units\":\"screen\",\"level\":\"overlay\",\"line_alpha\":{\"value\":1.0},\"line_color\":{\"value\":\"black\"},\"line_dash\":[4,4],\"line_width\":{\"value\":2},\"render_mode\":\"css\",\"right_units\":\"screen\",\"top_units\":\"screen\"},\"id\":\"64049\",\"type\":\"BoxAnnotation\"},{\"attributes\":{\"mantissas\":[1,2,5],\"max_interval\":500.0,\"num_minor_ticks\":0},\"id\":\"64050\",\"type\":\"AdaptiveTicker\"},{\"attributes\":{\"months\":[0,2,4,6,8,10]},\"id\":\"64058\",\"type\":\"MonthsTicker\"},{\"attributes\":{\"base\":24,\"mantissas\":[1,2,4,6,8,12],\"max_interval\":43200000.0,\"min_interval\":3600000.0,\"num_minor_ticks\":0},\"id\":\"64052\",\"type\":\"AdaptiveTicker\"},{\"attributes\":{\"days\":[1,2,3,4,5,6,7,8,9,10,11,12,13,14,15,16,17,18,19,20,21,22,23,24,25,26,27,28,29,30,31]},\"id\":\"64053\",\"type\":\"DaysTicker\"},{\"attributes\":{},\"id\":\"64026\",\"type\":\"BasicTickFormatter\"},{\"attributes\":{\"days\":[1,4,7,10,13,16,19,22,25,28]},\"id\":\"64054\",\"type\":\"DaysTicker\"},{\"attributes\":{\"months\":[0,1,2,3,4,5,6,7,8,9,10,11]},\"id\":\"64057\",\"type\":\"MonthsTicker\"},{\"attributes\":{\"days\":[1,15]},\"id\":\"64056\",\"type\":\"DaysTicker\"},{\"attributes\":{\"overlay\":{\"id\":\"64049\",\"type\":\"BoxAnnotation\"}},\"id\":\"61889\",\"type\":\"BoxZoomTool\"},{\"attributes\":{\"months\":[0,4,8]},\"id\":\"64059\",\"type\":\"MonthsTicker\"},{\"attributes\":{},\"id\":\"61890\",\"type\":\"SaveTool\"},{\"attributes\":{\"months\":[0,6]},\"id\":\"64060\",\"type\":\"MonthsTicker\"},{\"attributes\":{},\"id\":\"61891\",\"type\":\"ResetTool\"},{\"attributes\":{},\"id\":\"64061\",\"type\":\"YearsTicker\"},{\"attributes\":{},\"id\":\"61892\",\"type\":\"HelpTool\"},{\"attributes\":{},\"id\":\"64062\",\"type\":\"Selection\"},{\"attributes\":{},\"id\":\"64063\",\"type\":\"UnionRenderers\"},{\"attributes\":{\"active_drag\":\"auto\",\"active_inspect\":\"auto\",\"active_multi\":null,\"active_scroll\":\"auto\",\"active_tap\":\"auto\",\"tools\":[{\"id\":\"61887\",\"type\":\"PanTool\"},{\"id\":\"61888\",\"type\":\"WheelZoomTool\"},{\"id\":\"61889\",\"type\":\"BoxZoomTool\"},{\"id\":\"61890\",\"type\":\"SaveTool\"},{\"id\":\"61891\",\"type\":\"ResetTool\"},{\"id\":\"61892\",\"type\":\"HelpTool\"}]},\"id\":\"61893\",\"type\":\"Toolbar\"},{\"attributes\":{},\"id\":\"64064\",\"type\":\"Selection\"},{\"attributes\":{\"data_source\":{\"id\":\"61900\",\"type\":\"ColumnDataSource\"},\"glyph\":{\"id\":\"61901\",\"type\":\"Step\"},\"hover_glyph\":null,\"muted_glyph\":null,\"nonselection_glyph\":{\"id\":\"61902\",\"type\":\"Step\"},\"selection_glyph\":null,\"view\":{\"id\":\"61904\",\"type\":\"CDSView\"}},\"id\":\"61903\",\"type\":\"GlyphRenderer\"},{\"attributes\":{\"source\":{\"id\":\"61900\",\"type\":\"ColumnDataSource\"}},\"id\":\"61904\",\"type\":\"CDSView\"},{\"attributes\":{},\"id\":\"64065\",\"type\":\"UnionRenderers\"},{\"attributes\":{\"callback\":null,\"data\":{\"x\":[1546300800000.0,1546301400000.0,1546301700000.0,1546301820000.0],\"y\":[10,20,10,1]},\"selected\":{\"id\":\"64047\",\"type\":\"Selection\"},\"selection_policy\":{\"id\":\"64048\",\"type\":\"UnionRenderers\"}},\"id\":\"61905\",\"type\":\"ColumnDataSource\"},{\"attributes\":{\"bottom_units\":\"screen\",\"fill_alpha\":{\"value\":0.5},\"fill_color\":{\"value\":\"lightgrey\"},\"left_units\":\"screen\",\"level\":\"overlay\",\"line_alpha\":{\"value\":1.0},\"line_color\":{\"value\":\"black\"},\"line_dash\":[4,4],\"line_width\":{\"value\":2},\"render_mode\":\"css\",\"right_units\":\"screen\",\"top_units\":\"screen\"},\"id\":\"64066\",\"type\":\"BoxAnnotation\"},{\"attributes\":{\"fill_color\":{\"value\":\"red\"},\"line_color\":{\"value\":\"#1f77b4\"},\"size\":{\"units\":\"screen\",\"value\":6},\"x\":{\"field\":\"x\"},\"y\":{\"field\":\"y\"}},\"id\":\"61906\",\"type\":\"Circle\"},{\"attributes\":{\"data_source\":{\"id\":\"61944\",\"type\":\"ColumnDataSource\"},\"glyph\":{\"id\":\"61945\",\"type\":\"Step\"},\"hover_glyph\":null,\"muted_glyph\":null,\"nonselection_glyph\":{\"id\":\"61946\",\"type\":\"Step\"},\"selection_glyph\":null,\"view\":{\"id\":\"61948\",\"type\":\"CDSView\"}},\"id\":\"61947\",\"type\":\"GlyphRenderer\"},{\"attributes\":{\"fill_alpha\":{\"value\":0.1},\"fill_color\":{\"value\":\"#1f77b4\"},\"line_alpha\":{\"value\":0.1},\"line_color\":{\"value\":\"#1f77b4\"},\"size\":{\"units\":\"screen\",\"value\":6},\"x\":{\"field\":\"x\"},\"y\":{\"field\":\"y\"}},\"id\":\"61907\",\"type\":\"Circle\"},{\"attributes\":{\"data_source\":{\"id\":\"61905\",\"type\":\"ColumnDataSource\"},\"glyph\":{\"id\":\"61906\",\"type\":\"Circle\"},\"hover_glyph\":null,\"muted_glyph\":null,\"nonselection_glyph\":{\"id\":\"61907\",\"type\":\"Circle\"},\"selection_glyph\":null,\"view\":{\"id\":\"61909\",\"type\":\"CDSView\"}},\"id\":\"61908\",\"type\":\"GlyphRenderer\"},{\"attributes\":{\"source\":{\"id\":\"61905\",\"type\":\"ColumnDataSource\"}},\"id\":\"61909\",\"type\":\"CDSView\"},{\"attributes\":{\"below\":[{\"id\":\"61921\",\"type\":\"DatetimeAxis\"}],\"center\":[{\"id\":\"61925\",\"type\":\"Grid\"},{\"id\":\"61930\",\"type\":\"Grid\"}],\"left\":[{\"id\":\"61926\",\"type\":\"LinearAxis\"}],\"plot_height\":250,\"plot_width\":400,\"renderers\":[{\"id\":\"61947\",\"type\":\"GlyphRenderer\"},{\"id\":\"61952\",\"type\":\"GlyphRenderer\"}],\"title\":{\"id\":\"61911\",\"type\":\"Title\"},\"toolbar\":{\"id\":\"61937\",\"type\":\"Toolbar\"},\"x_range\":{\"id\":\"61913\",\"type\":\"Range1d\"},\"x_scale\":{\"id\":\"61917\",\"type\":\"LinearScale\"},\"y_range\":{\"id\":\"61915\",\"type\":\"Range1d\"},\"y_scale\":{\"id\":\"61919\",\"type\":\"LinearScale\"}},\"id\":\"61910\",\"subtype\":\"Figure\",\"type\":\"Plot\"},{\"attributes\":{},\"id\":\"61917\",\"type\":\"LinearScale\"},{\"attributes\":{},\"id\":\"61934\",\"type\":\"SaveTool\"},{\"attributes\":{},\"id\":\"61919\",\"type\":\"LinearScale\"},{\"attributes\":{\"callback\":null,\"end\":1546302000000,\"start\":1546300620000},\"id\":\"61913\",\"type\":\"Range1d\"},{\"attributes\":{},\"id\":\"61888\",\"type\":\"WheelZoomTool\"},{\"attributes\":{\"line_alpha\":{\"value\":0.1},\"line_color\":{\"value\":\"#1f77b4\"},\"line_dash\":[4,4],\"line_width\":{\"value\":2},\"mode\":\"after\",\"x\":{\"field\":\"x\"},\"y\":{\"field\":\"y\"}},\"id\":\"61902\",\"type\":\"Step\"},{\"attributes\":{\"callback\":null,\"end\":40,\"start\":-15},\"id\":\"61915\",\"type\":\"Range1d\"},{\"attributes\":{\"line_color\":{\"value\":\"#1f77b4\"},\"line_dash\":[4,4],\"line_width\":{\"value\":2},\"mode\":\"after\",\"x\":{\"field\":\"x\"},\"y\":{\"field\":\"y\"}},\"id\":\"61901\",\"type\":\"Step\"},{\"attributes\":{\"text\":\"ts2\"},\"id\":\"61911\",\"type\":\"Title\"},{\"attributes\":{},\"id\":\"61887\",\"type\":\"PanTool\"},{\"attributes\":{\"axis_label\":\"timestamp\",\"formatter\":{\"id\":\"64032\",\"type\":\"DatetimeTickFormatter\"},\"ticker\":{\"id\":\"61922\",\"type\":\"DatetimeTicker\"}},\"id\":\"61921\",\"type\":\"DatetimeAxis\"},{\"attributes\":{\"dimension\":1,\"ticker\":{\"id\":\"61883\",\"type\":\"BasicTicker\"}},\"id\":\"61886\",\"type\":\"Grid\"},{\"attributes\":{\"num_minor_ticks\":5,\"tickers\":[{\"id\":\"64050\",\"type\":\"AdaptiveTicker\"},{\"id\":\"64051\",\"type\":\"AdaptiveTicker\"},{\"id\":\"64052\",\"type\":\"AdaptiveTicker\"},{\"id\":\"64053\",\"type\":\"DaysTicker\"},{\"id\":\"64054\",\"type\":\"DaysTicker\"},{\"id\":\"64055\",\"type\":\"DaysTicker\"},{\"id\":\"64056\",\"type\":\"DaysTicker\"},{\"id\":\"64057\",\"type\":\"MonthsTicker\"},{\"id\":\"64058\",\"type\":\"MonthsTicker\"},{\"id\":\"64059\",\"type\":\"MonthsTicker\"},{\"id\":\"64060\",\"type\":\"MonthsTicker\"},{\"id\":\"64061\",\"type\":\"YearsTicker\"}]},\"id\":\"61922\",\"type\":\"DatetimeTicker\"},{\"attributes\":{\"ticker\":{\"id\":\"61922\",\"type\":\"DatetimeTicker\"}},\"id\":\"61925\",\"type\":\"Grid\"},{\"attributes\":{\"axis_label\":\"IoT sensor\",\"formatter\":{\"id\":\"64026\",\"type\":\"BasicTickFormatter\"},\"ticker\":{\"id\":\"61883\",\"type\":\"BasicTicker\"}},\"id\":\"61882\",\"type\":\"LinearAxis\"},{\"attributes\":{\"axis_label\":\"IoT sensor\",\"formatter\":{\"id\":\"64030\",\"type\":\"BasicTickFormatter\"},\"ticker\":{\"id\":\"61927\",\"type\":\"BasicTicker\"}},\"id\":\"61926\",\"type\":\"LinearAxis\"},{\"attributes\":{},\"id\":\"61883\",\"type\":\"BasicTicker\"},{\"attributes\":{\"ticker\":{\"id\":\"61878\",\"type\":\"DatetimeTicker\"}},\"id\":\"61881\",\"type\":\"Grid\"},{\"attributes\":{},\"id\":\"61927\",\"type\":\"BasicTicker\"},{\"attributes\":{\"num_minor_ticks\":5,\"tickers\":[{\"id\":\"64033\",\"type\":\"AdaptiveTicker\"},{\"id\":\"64034\",\"type\":\"AdaptiveTicker\"},{\"id\":\"64035\",\"type\":\"AdaptiveTicker\"},{\"id\":\"64036\",\"type\":\"DaysTicker\"},{\"id\":\"64037\",\"type\":\"DaysTicker\"},{\"id\":\"64038\",\"type\":\"DaysTicker\"},{\"id\":\"64039\",\"type\":\"DaysTicker\"},{\"id\":\"64040\",\"type\":\"MonthsTicker\"},{\"id\":\"64041\",\"type\":\"MonthsTicker\"},{\"id\":\"64042\",\"type\":\"MonthsTicker\"},{\"id\":\"64043\",\"type\":\"MonthsTicker\"},{\"id\":\"64044\",\"type\":\"YearsTicker\"}]},\"id\":\"61878\",\"type\":\"DatetimeTicker\"},{\"attributes\":{\"dimension\":1,\"ticker\":{\"id\":\"61927\",\"type\":\"BasicTicker\"}},\"id\":\"61930\",\"type\":\"Grid\"},{\"attributes\":{\"line_alpha\":{\"value\":0.1},\"line_color\":{\"value\":\"#1f77b4\"},\"line_dash\":[4,4],\"line_width\":{\"value\":2},\"mode\":\"after\",\"x\":{\"field\":\"x\"},\"y\":{\"field\":\"y\"}},\"id\":\"61946\",\"type\":\"Step\"},{\"attributes\":{\"axis_label\":\"timestamp\",\"formatter\":{\"id\":\"64028\",\"type\":\"DatetimeTickFormatter\"},\"ticker\":{\"id\":\"61878\",\"type\":\"DatetimeTicker\"}},\"id\":\"61877\",\"type\":\"DatetimeAxis\"},{\"attributes\":{\"line_color\":{\"value\":\"#1f77b4\"},\"line_dash\":[4,4],\"line_width\":{\"value\":2},\"mode\":\"after\",\"x\":{\"field\":\"x\"},\"y\":{\"field\":\"y\"}},\"id\":\"61945\",\"type\":\"Step\"},{\"attributes\":{\"text\":\"ts1\"},\"id\":\"61867\",\"type\":\"Title\"},{\"attributes\":{\"callback\":null,\"data\":{\"x\":[1546300800000.0,1546301400000.0,1546301700000.0,1546301820000.0],\"y\":[10,20,10,10]},\"selected\":{\"id\":\"64062\",\"type\":\"Selection\"},\"selection_policy\":{\"id\":\"64063\",\"type\":\"UnionRenderers\"}},\"id\":\"61944\",\"type\":\"ColumnDataSource\"},{\"attributes\":{},\"id\":\"61873\",\"type\":\"LinearScale\"},{\"attributes\":{\"active_drag\":\"auto\",\"active_inspect\":\"auto\",\"active_multi\":null,\"active_scroll\":\"auto\",\"active_tap\":\"auto\",\"tools\":[{\"id\":\"61931\",\"type\":\"PanTool\"},{\"id\":\"61932\",\"type\":\"WheelZoomTool\"},{\"id\":\"61933\",\"type\":\"BoxZoomTool\"},{\"id\":\"61934\",\"type\":\"SaveTool\"},{\"id\":\"61935\",\"type\":\"ResetTool\"},{\"id\":\"61936\",\"type\":\"HelpTool\"}]},\"id\":\"61937\",\"type\":\"Toolbar\"},{\"attributes\":{},\"id\":\"61931\",\"type\":\"PanTool\"},{\"attributes\":{\"callback\":null,\"end\":40,\"start\":-15},\"id\":\"61871\",\"type\":\"Range1d\"},{\"attributes\":{},\"id\":\"61932\",\"type\":\"WheelZoomTool\"},{\"attributes\":{\"callback\":null,\"end\":1546302000000,\"start\":1546300620000},\"id\":\"61869\",\"type\":\"Range1d\"},{\"attributes\":{\"overlay\":{\"id\":\"64066\",\"type\":\"BoxAnnotation\"}},\"id\":\"61933\",\"type\":\"BoxZoomTool\"},{\"attributes\":{},\"id\":\"61875\",\"type\":\"LinearScale\"},{\"attributes\":{\"callback\":null,\"data\":{\"x\":[1546300800000.0,1546301400000.0,1546301700000.0,1546301820000.0],\"y\":[10,20,10,1]},\"selected\":{\"id\":\"64045\",\"type\":\"Selection\"},\"selection_policy\":{\"id\":\"64046\",\"type\":\"UnionRenderers\"}},\"id\":\"61900\",\"type\":\"ColumnDataSource\"},{\"attributes\":{},\"id\":\"61935\",\"type\":\"ResetTool\"},{\"attributes\":{},\"id\":\"61936\",\"type\":\"HelpTool\"},{\"attributes\":{\"below\":[{\"id\":\"61877\",\"type\":\"DatetimeAxis\"}],\"center\":[{\"id\":\"61881\",\"type\":\"Grid\"},{\"id\":\"61886\",\"type\":\"Grid\"}],\"left\":[{\"id\":\"61882\",\"type\":\"LinearAxis\"}],\"plot_height\":250,\"plot_width\":400,\"renderers\":[{\"id\":\"61903\",\"type\":\"GlyphRenderer\"},{\"id\":\"61908\",\"type\":\"GlyphRenderer\"}],\"title\":{\"id\":\"61867\",\"type\":\"Title\"},\"toolbar\":{\"id\":\"61893\",\"type\":\"Toolbar\"},\"x_range\":{\"id\":\"61869\",\"type\":\"Range1d\"},\"x_scale\":{\"id\":\"61873\",\"type\":\"LinearScale\"},\"y_range\":{\"id\":\"61871\",\"type\":\"Range1d\"},\"y_scale\":{\"id\":\"61875\",\"type\":\"LinearScale\"}},\"id\":\"61866\",\"subtype\":\"Figure\",\"type\":\"Plot\"},{\"attributes\":{\"source\":{\"id\":\"61944\",\"type\":\"ColumnDataSource\"}},\"id\":\"61948\",\"type\":\"CDSView\"},{\"attributes\":{\"callback\":null,\"data\":{\"x\":[1546300800000.0,1546301400000.0,1546301700000.0,1546301820000.0],\"y\":[10,20,10,10]},\"selected\":{\"id\":\"64064\",\"type\":\"Selection\"},\"selection_policy\":{\"id\":\"64065\",\"type\":\"UnionRenderers\"}},\"id\":\"61949\",\"type\":\"ColumnDataSource\"}],\"root_ids\":[\"61954\"]},\"title\":\"Bokeh Application\",\"version\":\"1.2.0\"}};\n",
       "  var render_items = [{\"docid\":\"d46b948c-8c6c-434e-acb3-2b974b98c358\",\"roots\":{\"61954\":\"0dc6fee3-edae-4dda-a37a-aeb6e2f8e626\"}}];\n",
       "  root.Bokeh.embed.embed_items_notebook(docs_json, render_items);\n",
       "\n",
       "  }\n",
       "  if (root.Bokeh !== undefined) {\n",
       "    embed_document(root);\n",
       "  } else {\n",
       "    var attempts = 0;\n",
       "    var timer = setInterval(function(root) {\n",
       "      if (root.Bokeh !== undefined) {\n",
       "        embed_document(root);\n",
       "        clearInterval(timer);\n",
       "      }\n",
       "      attempts++;\n",
       "      if (attempts > 100) {\n",
       "        console.log(\"Bokeh: ERROR: Unable to run BokehJS code because BokehJS library is missing\");\n",
       "        clearInterval(timer);\n",
       "      }\n",
       "    }, 10, root)\n",
       "  }\n",
       "})(window);"
      ],
      "application/vnd.bokehjs_exec.v0+json": ""
     },
     "metadata": {
      "application/vnd.bokehjs_exec.v0+json": {
       "id": "61954"
      }
     },
     "output_type": "display_data"
    },
    {
     "data": {
      "text/html": [
       "\n",
       "\n",
       "\n",
       "\n",
       "\n",
       "\n",
       "  <div class=\"bk-root\" id=\"735ebb69-9e4e-4f38-824d-45f29bbee3ff\" data-root-id=\"64463\"></div>\n"
      ]
     },
     "metadata": {},
     "output_type": "display_data"
    },
    {
     "data": {
      "application/javascript": [
       "(function(root) {\n",
       "  function embed_document(root) {\n",
       "    \n",
       "  var docs_json = {\"32fecd2f-0b03-49eb-9fa1-d7ae3e9d8766\":{\"roots\":{\"references\":[{\"attributes\":{\"children\":[{\"id\":\"64331\",\"subtype\":\"Figure\",\"type\":\"Plot\"},{\"id\":\"64375\",\"subtype\":\"Figure\",\"type\":\"Plot\"},{\"id\":\"64419\",\"subtype\":\"Figure\",\"type\":\"Plot\"}]},\"id\":\"64463\",\"type\":\"Row\"},{\"attributes\":{\"fill_alpha\":{\"value\":0.1},\"fill_color\":{\"value\":\"#1f77b4\"},\"line_alpha\":{\"value\":0.1},\"line_color\":{\"value\":\"#1f77b4\"},\"size\":{\"units\":\"screen\",\"value\":6},\"x\":{\"field\":\"x\"},\"y\":{\"field\":\"y\"}},\"id\":\"64372\",\"type\":\"Circle\"},{\"attributes\":{\"source\":{\"id\":\"64370\",\"type\":\"ColumnDataSource\"}},\"id\":\"64374\",\"type\":\"CDSView\"},{\"attributes\":{\"data_source\":{\"id\":\"64370\",\"type\":\"ColumnDataSource\"},\"glyph\":{\"id\":\"64371\",\"type\":\"Circle\"},\"hover_glyph\":null,\"muted_glyph\":null,\"nonselection_glyph\":{\"id\":\"64372\",\"type\":\"Circle\"},\"selection_glyph\":null,\"view\":{\"id\":\"64374\",\"type\":\"CDSView\"}},\"id\":\"64373\",\"type\":\"GlyphRenderer\"},{\"attributes\":{\"below\":[{\"id\":\"64386\",\"type\":\"DatetimeAxis\"}],\"center\":[{\"id\":\"64390\",\"type\":\"Grid\"},{\"id\":\"64395\",\"type\":\"Grid\"}],\"left\":[{\"id\":\"64391\",\"type\":\"LinearAxis\"}],\"plot_height\":250,\"plot_width\":400,\"renderers\":[{\"id\":\"64412\",\"type\":\"GlyphRenderer\"},{\"id\":\"64417\",\"type\":\"GlyphRenderer\"}],\"title\":{\"id\":\"64376\",\"type\":\"Title\"},\"toolbar\":{\"id\":\"64402\",\"type\":\"Toolbar\"},\"x_range\":{\"id\":\"64378\",\"type\":\"Range1d\"},\"x_scale\":{\"id\":\"64382\",\"type\":\"LinearScale\"},\"y_range\":{\"id\":\"64380\",\"type\":\"Range1d\"},\"y_scale\":{\"id\":\"64384\",\"type\":\"LinearScale\"}},\"id\":\"64375\",\"subtype\":\"Figure\",\"type\":\"Plot\"},{\"attributes\":{},\"id\":\"64382\",\"type\":\"LinearScale\"},{\"attributes\":{},\"id\":\"64384\",\"type\":\"LinearScale\"},{\"attributes\":{\"ticker\":{\"id\":\"64387\",\"type\":\"DatetimeTicker\"}},\"id\":\"64390\",\"type\":\"Grid\"},{\"attributes\":{\"num_minor_ticks\":5,\"tickers\":[{\"id\":\"66608\",\"type\":\"AdaptiveTicker\"},{\"id\":\"66609\",\"type\":\"AdaptiveTicker\"},{\"id\":\"66610\",\"type\":\"AdaptiveTicker\"},{\"id\":\"66611\",\"type\":\"DaysTicker\"},{\"id\":\"66612\",\"type\":\"DaysTicker\"},{\"id\":\"66613\",\"type\":\"DaysTicker\"},{\"id\":\"66614\",\"type\":\"DaysTicker\"},{\"id\":\"66615\",\"type\":\"MonthsTicker\"},{\"id\":\"66616\",\"type\":\"MonthsTicker\"},{\"id\":\"66617\",\"type\":\"MonthsTicker\"},{\"id\":\"66618\",\"type\":\"MonthsTicker\"},{\"id\":\"66619\",\"type\":\"YearsTicker\"}]},\"id\":\"64387\",\"type\":\"DatetimeTicker\"},{\"attributes\":{\"callback\":null,\"end\":40,\"start\":-15},\"id\":\"64380\",\"type\":\"Range1d\"},{\"attributes\":{\"text\":\"ts2\"},\"id\":\"64376\",\"type\":\"Title\"},{\"attributes\":{\"callback\":null,\"end\":1546302000000,\"start\":1546300620000},\"id\":\"64378\",\"type\":\"Range1d\"},{\"attributes\":{\"axis_label\":\"timestamp\",\"formatter\":{\"id\":\"66586\",\"type\":\"DatetimeTickFormatter\"},\"ticker\":{\"id\":\"64387\",\"type\":\"DatetimeTicker\"}},\"id\":\"64386\",\"type\":\"DatetimeAxis\"},{\"attributes\":{\"axis_label\":\"IoT sensor\",\"formatter\":{\"id\":\"66584\",\"type\":\"BasicTickFormatter\"},\"ticker\":{\"id\":\"64392\",\"type\":\"BasicTicker\"}},\"id\":\"64391\",\"type\":\"LinearAxis\"},{\"attributes\":{\"dimension\":1,\"ticker\":{\"id\":\"64392\",\"type\":\"BasicTicker\"}},\"id\":\"64395\",\"type\":\"Grid\"},{\"attributes\":{},\"id\":\"64392\",\"type\":\"BasicTicker\"},{\"attributes\":{\"line_color\":{\"value\":\"#1f77b4\"},\"line_dash\":[4,4],\"line_width\":{\"value\":2},\"mode\":\"after\",\"x\":{\"field\":\"x\"},\"y\":{\"field\":\"y\"}},\"id\":\"64410\",\"type\":\"Step\"},{\"attributes\":{\"active_drag\":\"auto\",\"active_inspect\":\"auto\",\"active_multi\":null,\"active_scroll\":\"auto\",\"active_tap\":\"auto\",\"tools\":[{\"id\":\"64396\",\"type\":\"PanTool\"},{\"id\":\"64397\",\"type\":\"WheelZoomTool\"},{\"id\":\"64398\",\"type\":\"BoxZoomTool\"},{\"id\":\"64399\",\"type\":\"SaveTool\"},{\"id\":\"64400\",\"type\":\"ResetTool\"},{\"id\":\"64401\",\"type\":\"HelpTool\"}]},\"id\":\"64402\",\"type\":\"Toolbar\"},{\"attributes\":{\"line_alpha\":{\"value\":0.1},\"line_color\":{\"value\":\"#1f77b4\"},\"line_dash\":[4,4],\"line_width\":{\"value\":2},\"mode\":\"after\",\"x\":{\"field\":\"x\"},\"y\":{\"field\":\"y\"}},\"id\":\"64411\",\"type\":\"Step\"},{\"attributes\":{},\"id\":\"64396\",\"type\":\"PanTool\"},{\"attributes\":{\"callback\":null,\"data\":{\"x\":[1546301220000.0,1546301400000.0,1546301520000.0],\"y\":[-1,5,14]},\"selected\":{\"id\":\"66620\",\"type\":\"Selection\"},\"selection_policy\":{\"id\":\"66621\",\"type\":\"UnionRenderers\"}},\"id\":\"64409\",\"type\":\"ColumnDataSource\"},{\"attributes\":{},\"id\":\"64397\",\"type\":\"WheelZoomTool\"},{\"attributes\":{\"fill_color\":{\"value\":\"red\"},\"line_color\":{\"value\":\"#1f77b4\"},\"size\":{\"units\":\"screen\",\"value\":6},\"x\":{\"field\":\"x\"},\"y\":{\"field\":\"y\"}},\"id\":\"64415\",\"type\":\"Circle\"},{\"attributes\":{\"fill_alpha\":{\"value\":0.1},\"fill_color\":{\"value\":\"#1f77b4\"},\"line_alpha\":{\"value\":0.1},\"line_color\":{\"value\":\"#1f77b4\"},\"size\":{\"units\":\"screen\",\"value\":6},\"x\":{\"field\":\"x\"},\"y\":{\"field\":\"y\"}},\"id\":\"64416\",\"type\":\"Circle\"},{\"attributes\":{\"callback\":null,\"data\":{\"x\":[1546301220000.0,1546301400000.0,1546301520000.0],\"y\":[-1,5,14]},\"selected\":{\"id\":\"66622\",\"type\":\"Selection\"},\"selection_policy\":{\"id\":\"66623\",\"type\":\"UnionRenderers\"}},\"id\":\"64414\",\"type\":\"ColumnDataSource\"},{\"attributes\":{\"source\":{\"id\":\"64409\",\"type\":\"ColumnDataSource\"}},\"id\":\"64413\",\"type\":\"CDSView\"},{\"attributes\":{\"data_source\":{\"id\":\"64409\",\"type\":\"ColumnDataSource\"},\"glyph\":{\"id\":\"64410\",\"type\":\"Step\"},\"hover_glyph\":null,\"muted_glyph\":null,\"nonselection_glyph\":{\"id\":\"64411\",\"type\":\"Step\"},\"selection_glyph\":null,\"view\":{\"id\":\"64413\",\"type\":\"CDSView\"}},\"id\":\"64412\",\"type\":\"GlyphRenderer\"},{\"attributes\":{},\"id\":\"64401\",\"type\":\"HelpTool\"},{\"attributes\":{},\"id\":\"64400\",\"type\":\"ResetTool\"},{\"attributes\":{},\"id\":\"64399\",\"type\":\"SaveTool\"},{\"attributes\":{\"overlay\":{\"id\":\"66624\",\"type\":\"BoxAnnotation\"}},\"id\":\"64398\",\"type\":\"BoxZoomTool\"},{\"attributes\":{\"source\":{\"id\":\"64414\",\"type\":\"ColumnDataSource\"}},\"id\":\"64418\",\"type\":\"CDSView\"},{\"attributes\":{\"data_source\":{\"id\":\"64414\",\"type\":\"ColumnDataSource\"},\"glyph\":{\"id\":\"64415\",\"type\":\"Circle\"},\"hover_glyph\":null,\"muted_glyph\":null,\"nonselection_glyph\":{\"id\":\"64416\",\"type\":\"Circle\"},\"selection_glyph\":null,\"view\":{\"id\":\"64418\",\"type\":\"CDSView\"}},\"id\":\"64417\",\"type\":\"GlyphRenderer\"},{\"attributes\":{\"below\":[{\"id\":\"64430\",\"type\":\"DatetimeAxis\"}],\"center\":[{\"id\":\"64434\",\"type\":\"Grid\"},{\"id\":\"64439\",\"type\":\"Grid\"}],\"left\":[{\"id\":\"64435\",\"type\":\"LinearAxis\"}],\"plot_height\":250,\"plot_width\":400,\"renderers\":[{\"id\":\"64456\",\"type\":\"GlyphRenderer\"},{\"id\":\"64461\",\"type\":\"GlyphRenderer\"}],\"title\":{\"id\":\"64420\",\"type\":\"Title\"},\"toolbar\":{\"id\":\"64446\",\"type\":\"Toolbar\"},\"x_range\":{\"id\":\"64422\",\"type\":\"Range1d\"},\"x_scale\":{\"id\":\"64426\",\"type\":\"LinearScale\"},\"y_range\":{\"id\":\"64424\",\"type\":\"Range1d\"},\"y_scale\":{\"id\":\"64428\",\"type\":\"LinearScale\"}},\"id\":\"64419\",\"subtype\":\"Figure\",\"type\":\"Plot\"},{\"attributes\":{\"callback\":null,\"data\":{\"x\":[1546300800000.0,1546301400000.0,1546301700000.0,1546301820000.0],\"y\":[10,20,10,1]},\"selected\":{\"id\":\"66605\",\"type\":\"Selection\"},\"selection_policy\":{\"id\":\"66606\",\"type\":\"UnionRenderers\"}},\"id\":\"64370\",\"type\":\"ColumnDataSource\"},{\"attributes\":{\"fill_color\":{\"value\":\"red\"},\"line_color\":{\"value\":\"#1f77b4\"},\"size\":{\"units\":\"screen\",\"value\":6},\"x\":{\"field\":\"x\"},\"y\":{\"field\":\"y\"}},\"id\":\"64371\",\"type\":\"Circle\"},{\"attributes\":{\"base\":60,\"mantissas\":[1,2,5,10,15,20,30],\"max_interval\":1800000.0,\"min_interval\":1000.0,\"num_minor_ticks\":0},\"id\":\"66592\",\"type\":\"AdaptiveTicker\"},{\"attributes\":{\"days\":[1,8,15,22]},\"id\":\"66630\",\"type\":\"DaysTicker\"},{\"attributes\":{},\"id\":\"64426\",\"type\":\"LinearScale\"},{\"attributes\":{\"base\":24,\"mantissas\":[1,2,4,6,8,12],\"max_interval\":43200000.0,\"min_interval\":3600000.0,\"num_minor_ticks\":0},\"id\":\"66593\",\"type\":\"AdaptiveTicker\"},{\"attributes\":{\"days\":[1,15]},\"id\":\"66631\",\"type\":\"DaysTicker\"},{\"attributes\":{},\"id\":\"64428\",\"type\":\"LinearScale\"},{\"attributes\":{\"source\":{\"id\":\"64365\",\"type\":\"ColumnDataSource\"}},\"id\":\"64369\",\"type\":\"CDSView\"},{\"attributes\":{\"callback\":null,\"end\":1546302000000,\"start\":1546300620000},\"id\":\"64422\",\"type\":\"Range1d\"},{\"attributes\":{\"days\":[1,2,3,4,5,6,7,8,9,10,11,12,13,14,15,16,17,18,19,20,21,22,23,24,25,26,27,28,29,30,31]},\"id\":\"66594\",\"type\":\"DaysTicker\"},{\"attributes\":{\"months\":[0,1,2,3,4,5,6,7,8,9,10,11]},\"id\":\"66632\",\"type\":\"MonthsTicker\"},{\"attributes\":{\"callback\":null,\"end\":40,\"start\":-15},\"id\":\"64424\",\"type\":\"Range1d\"},{\"attributes\":{\"days\":[1,4,7,10,13,16,19,22,25,28]},\"id\":\"66595\",\"type\":\"DaysTicker\"},{\"attributes\":{\"months\":[0,2,4,6,8,10]},\"id\":\"66633\",\"type\":\"MonthsTicker\"},{\"attributes\":{\"days\":[1,8,15,22]},\"id\":\"66596\",\"type\":\"DaysTicker\"},{\"attributes\":{\"months\":[0,4,8]},\"id\":\"66634\",\"type\":\"MonthsTicker\"},{\"attributes\":{\"text\":\"ts3\"},\"id\":\"64420\",\"type\":\"Title\"},{\"attributes\":{\"days\":[1,15]},\"id\":\"66597\",\"type\":\"DaysTicker\"},{\"attributes\":{\"months\":[0,6]},\"id\":\"66635\",\"type\":\"MonthsTicker\"},{\"attributes\":{\"axis_label\":\"timestamp\",\"formatter\":{\"id\":\"66590\",\"type\":\"DatetimeTickFormatter\"},\"ticker\":{\"id\":\"64431\",\"type\":\"DatetimeTicker\"}},\"id\":\"64430\",\"type\":\"DatetimeAxis\"},{\"attributes\":{\"months\":[0,1,2,3,4,5,6,7,8,9,10,11]},\"id\":\"66598\",\"type\":\"MonthsTicker\"},{\"attributes\":{},\"id\":\"66636\",\"type\":\"YearsTicker\"},{\"attributes\":{\"num_minor_ticks\":5,\"tickers\":[{\"id\":\"66625\",\"type\":\"AdaptiveTicker\"},{\"id\":\"66626\",\"type\":\"AdaptiveTicker\"},{\"id\":\"66627\",\"type\":\"AdaptiveTicker\"},{\"id\":\"66628\",\"type\":\"DaysTicker\"},{\"id\":\"66629\",\"type\":\"DaysTicker\"},{\"id\":\"66630\",\"type\":\"DaysTicker\"},{\"id\":\"66631\",\"type\":\"DaysTicker\"},{\"id\":\"66632\",\"type\":\"MonthsTicker\"},{\"id\":\"66633\",\"type\":\"MonthsTicker\"},{\"id\":\"66634\",\"type\":\"MonthsTicker\"},{\"id\":\"66635\",\"type\":\"MonthsTicker\"},{\"id\":\"66636\",\"type\":\"YearsTicker\"}]},\"id\":\"64431\",\"type\":\"DatetimeTicker\"},{\"attributes\":{\"months\":[0,2,4,6,8,10]},\"id\":\"66599\",\"type\":\"MonthsTicker\"},{\"attributes\":{},\"id\":\"66637\",\"type\":\"Selection\"},{\"attributes\":{\"ticker\":{\"id\":\"64431\",\"type\":\"DatetimeTicker\"}},\"id\":\"64434\",\"type\":\"Grid\"},{\"attributes\":{\"months\":[0,4,8]},\"id\":\"66600\",\"type\":\"MonthsTicker\"},{\"attributes\":{\"base\":24,\"mantissas\":[1,2,4,6,8,12],\"max_interval\":43200000.0,\"min_interval\":3600000.0,\"num_minor_ticks\":0},\"id\":\"66610\",\"type\":\"AdaptiveTicker\"},{\"attributes\":{},\"id\":\"66638\",\"type\":\"UnionRenderers\"},{\"attributes\":{\"data_source\":{\"id\":\"64365\",\"type\":\"ColumnDataSource\"},\"glyph\":{\"id\":\"64366\",\"type\":\"Step\"},\"hover_glyph\":null,\"muted_glyph\":null,\"nonselection_glyph\":{\"id\":\"64367\",\"type\":\"Step\"},\"selection_glyph\":null,\"view\":{\"id\":\"64369\",\"type\":\"CDSView\"}},\"id\":\"64368\",\"type\":\"GlyphRenderer\"},{\"attributes\":{\"axis_label\":\"IoT sensor\",\"formatter\":{\"id\":\"66588\",\"type\":\"BasicTickFormatter\"},\"ticker\":{\"id\":\"64436\",\"type\":\"BasicTicker\"}},\"id\":\"64435\",\"type\":\"LinearAxis\"},{\"attributes\":{\"months\":[0,6]},\"id\":\"66601\",\"type\":\"MonthsTicker\"},{\"attributes\":{},\"id\":\"66639\",\"type\":\"Selection\"},{\"attributes\":{},\"id\":\"64436\",\"type\":\"BasicTicker\"},{\"attributes\":{},\"id\":\"66602\",\"type\":\"YearsTicker\"},{\"attributes\":{},\"id\":\"66640\",\"type\":\"UnionRenderers\"},{\"attributes\":{},\"id\":\"66580\",\"type\":\"BasicTickFormatter\"},{\"attributes\":{\"dimension\":1,\"ticker\":{\"id\":\"64436\",\"type\":\"BasicTicker\"}},\"id\":\"64439\",\"type\":\"Grid\"},{\"attributes\":{},\"id\":\"66603\",\"type\":\"Selection\"},{\"attributes\":{\"bottom_units\":\"screen\",\"fill_alpha\":{\"value\":0.5},\"fill_color\":{\"value\":\"lightgrey\"},\"left_units\":\"screen\",\"level\":\"overlay\",\"line_alpha\":{\"value\":1.0},\"line_color\":{\"value\":\"black\"},\"line_dash\":[4,4],\"line_width\":{\"value\":2},\"render_mode\":\"css\",\"right_units\":\"screen\",\"top_units\":\"screen\"},\"id\":\"66641\",\"type\":\"BoxAnnotation\"},{\"attributes\":{\"line_alpha\":{\"value\":0.1},\"line_color\":{\"value\":\"#1f77b4\"},\"line_dash\":[4,4],\"line_width\":{\"value\":2},\"mode\":\"after\",\"x\":{\"field\":\"x\"},\"y\":{\"field\":\"y\"}},\"id\":\"64455\",\"type\":\"Step\"},{\"attributes\":{},\"id\":\"66604\",\"type\":\"UnionRenderers\"},{\"attributes\":{\"line_color\":{\"value\":\"#1f77b4\"},\"line_dash\":[4,4],\"line_width\":{\"value\":2},\"mode\":\"after\",\"x\":{\"field\":\"x\"},\"y\":{\"field\":\"y\"}},\"id\":\"64454\",\"type\":\"Step\"},{\"attributes\":{\"below\":[{\"id\":\"64342\",\"type\":\"DatetimeAxis\"}],\"center\":[{\"id\":\"64346\",\"type\":\"Grid\"},{\"id\":\"64351\",\"type\":\"Grid\"}],\"left\":[{\"id\":\"64347\",\"type\":\"LinearAxis\"}],\"plot_height\":250,\"plot_width\":400,\"renderers\":[{\"id\":\"64368\",\"type\":\"GlyphRenderer\"},{\"id\":\"64373\",\"type\":\"GlyphRenderer\"}],\"title\":{\"id\":\"64332\",\"type\":\"Title\"},\"toolbar\":{\"id\":\"64358\",\"type\":\"Toolbar\"},\"x_range\":{\"id\":\"64334\",\"type\":\"Range1d\"},\"x_scale\":{\"id\":\"64338\",\"type\":\"LinearScale\"},\"y_range\":{\"id\":\"64336\",\"type\":\"Range1d\"},\"y_scale\":{\"id\":\"64340\",\"type\":\"LinearScale\"}},\"id\":\"64331\",\"subtype\":\"Figure\",\"type\":\"Plot\"},{\"attributes\":{},\"id\":\"66605\",\"type\":\"Selection\"},{\"attributes\":{\"callback\":null,\"data\":{\"x\":[1546300800000.0,1546301220000.0,1546301400000.0,1546301520000.0,1546301700000.0,1546301820000.0],\"y\":[10,10,20,20,14,14]},\"selected\":{\"id\":\"66637\",\"type\":\"Selection\"},\"selection_policy\":{\"id\":\"66638\",\"type\":\"UnionRenderers\"}},\"id\":\"64453\",\"type\":\"ColumnDataSource\"},{\"attributes\":{\"active_drag\":\"auto\",\"active_inspect\":\"auto\",\"active_multi\":null,\"active_scroll\":\"auto\",\"active_tap\":\"auto\",\"tools\":[{\"id\":\"64440\",\"type\":\"PanTool\"},{\"id\":\"64441\",\"type\":\"WheelZoomTool\"},{\"id\":\"64442\",\"type\":\"BoxZoomTool\"},{\"id\":\"64443\",\"type\":\"SaveTool\"},{\"id\":\"64444\",\"type\":\"ResetTool\"},{\"id\":\"64445\",\"type\":\"HelpTool\"}]},\"id\":\"64446\",\"type\":\"Toolbar\"},{\"attributes\":{},\"id\":\"66606\",\"type\":\"UnionRenderers\"},{\"attributes\":{},\"id\":\"64440\",\"type\":\"PanTool\"},{\"attributes\":{\"bottom_units\":\"screen\",\"fill_alpha\":{\"value\":0.5},\"fill_color\":{\"value\":\"lightgrey\"},\"left_units\":\"screen\",\"level\":\"overlay\",\"line_alpha\":{\"value\":1.0},\"line_color\":{\"value\":\"black\"},\"line_dash\":[4,4],\"line_width\":{\"value\":2},\"render_mode\":\"css\",\"right_units\":\"screen\",\"top_units\":\"screen\"},\"id\":\"66607\",\"type\":\"BoxAnnotation\"},{\"attributes\":{},\"id\":\"64441\",\"type\":\"WheelZoomTool\"},{\"attributes\":{\"mantissas\":[1,2,5],\"max_interval\":500.0,\"num_minor_ticks\":0},\"id\":\"66608\",\"type\":\"AdaptiveTicker\"},{\"attributes\":{\"overlay\":{\"id\":\"66641\",\"type\":\"BoxAnnotation\"}},\"id\":\"64442\",\"type\":\"BoxZoomTool\"},{\"attributes\":{\"axis_label\":\"IoT sensor\",\"formatter\":{\"id\":\"66580\",\"type\":\"BasicTickFormatter\"},\"ticker\":{\"id\":\"64348\",\"type\":\"BasicTicker\"}},\"id\":\"64347\",\"type\":\"LinearAxis\"},{\"attributes\":{},\"id\":\"64443\",\"type\":\"SaveTool\"},{\"attributes\":{\"base\":60,\"mantissas\":[1,2,5,10,15,20,30],\"max_interval\":1800000.0,\"min_interval\":1000.0,\"num_minor_ticks\":0},\"id\":\"66609\",\"type\":\"AdaptiveTicker\"},{\"attributes\":{\"callback\":null,\"end\":40,\"start\":-15},\"id\":\"64336\",\"type\":\"Range1d\"},{\"attributes\":{\"text\":\"ts1\"},\"id\":\"64332\",\"type\":\"Title\"},{\"attributes\":{},\"id\":\"64444\",\"type\":\"ResetTool\"},{\"attributes\":{\"days\":[1,8,15,22]},\"id\":\"66613\",\"type\":\"DaysTicker\"},{\"attributes\":{},\"id\":\"64445\",\"type\":\"HelpTool\"},{\"attributes\":{\"days\":[1,15]},\"id\":\"66614\",\"type\":\"DaysTicker\"},{\"attributes\":{\"callback\":null,\"end\":1546302000000,\"start\":1546300620000},\"id\":\"64334\",\"type\":\"Range1d\"},{\"attributes\":{\"months\":[0,1,2,3,4,5,6,7,8,9,10,11]},\"id\":\"66615\",\"type\":\"MonthsTicker\"},{\"attributes\":{},\"id\":\"64340\",\"type\":\"LinearScale\"},{\"attributes\":{},\"id\":\"64338\",\"type\":\"LinearScale\"},{\"attributes\":{\"months\":[0,2,4,6,8,10]},\"id\":\"66616\",\"type\":\"MonthsTicker\"},{\"attributes\":{\"axis_label\":\"timestamp\",\"formatter\":{\"id\":\"66582\",\"type\":\"DatetimeTickFormatter\"},\"ticker\":{\"id\":\"64343\",\"type\":\"DatetimeTicker\"}},\"id\":\"64342\",\"type\":\"DatetimeAxis\"},{\"attributes\":{\"data_source\":{\"id\":\"64453\",\"type\":\"ColumnDataSource\"},\"glyph\":{\"id\":\"64454\",\"type\":\"Step\"},\"hover_glyph\":null,\"muted_glyph\":null,\"nonselection_glyph\":{\"id\":\"64455\",\"type\":\"Step\"},\"selection_glyph\":null,\"view\":{\"id\":\"64457\",\"type\":\"CDSView\"}},\"id\":\"64456\",\"type\":\"GlyphRenderer\"},{\"attributes\":{\"num_minor_ticks\":5,\"tickers\":[{\"id\":\"66591\",\"type\":\"AdaptiveTicker\"},{\"id\":\"66592\",\"type\":\"AdaptiveTicker\"},{\"id\":\"66593\",\"type\":\"AdaptiveTicker\"},{\"id\":\"66594\",\"type\":\"DaysTicker\"},{\"id\":\"66595\",\"type\":\"DaysTicker\"},{\"id\":\"66596\",\"type\":\"DaysTicker\"},{\"id\":\"66597\",\"type\":\"DaysTicker\"},{\"id\":\"66598\",\"type\":\"MonthsTicker\"},{\"id\":\"66599\",\"type\":\"MonthsTicker\"},{\"id\":\"66600\",\"type\":\"MonthsTicker\"},{\"id\":\"66601\",\"type\":\"MonthsTicker\"},{\"id\":\"66602\",\"type\":\"YearsTicker\"}]},\"id\":\"64343\",\"type\":\"DatetimeTicker\"},{\"attributes\":{\"source\":{\"id\":\"64453\",\"type\":\"ColumnDataSource\"}},\"id\":\"64457\",\"type\":\"CDSView\"},{\"attributes\":{\"months\":[0,4,8]},\"id\":\"66617\",\"type\":\"MonthsTicker\"},{\"attributes\":{\"callback\":null,\"data\":{\"x\":[1546300800000.0,1546301220000.0,1546301400000.0,1546301520000.0,1546301700000.0,1546301820000.0],\"y\":[10,10,20,20,14,14]},\"selected\":{\"id\":\"66639\",\"type\":\"Selection\"},\"selection_policy\":{\"id\":\"66640\",\"type\":\"UnionRenderers\"}},\"id\":\"64458\",\"type\":\"ColumnDataSource\"},{\"attributes\":{\"months\":[0,6]},\"id\":\"66618\",\"type\":\"MonthsTicker\"},{\"attributes\":{\"fill_color\":{\"value\":\"red\"},\"line_color\":{\"value\":\"#1f77b4\"},\"size\":{\"units\":\"screen\",\"value\":6},\"x\":{\"field\":\"x\"},\"y\":{\"field\":\"y\"}},\"id\":\"64459\",\"type\":\"Circle\"},{\"attributes\":{},\"id\":\"66619\",\"type\":\"YearsTicker\"},{\"attributes\":{\"ticker\":{\"id\":\"64343\",\"type\":\"DatetimeTicker\"}},\"id\":\"64346\",\"type\":\"Grid\"},{\"attributes\":{\"fill_alpha\":{\"value\":0.1},\"fill_color\":{\"value\":\"#1f77b4\"},\"line_alpha\":{\"value\":0.1},\"line_color\":{\"value\":\"#1f77b4\"},\"size\":{\"units\":\"screen\",\"value\":6},\"x\":{\"field\":\"x\"},\"y\":{\"field\":\"y\"}},\"id\":\"64460\",\"type\":\"Circle\"},{\"attributes\":{},\"id\":\"64356\",\"type\":\"ResetTool\"},{\"attributes\":{},\"id\":\"66620\",\"type\":\"Selection\"},{\"attributes\":{\"data_source\":{\"id\":\"64458\",\"type\":\"ColumnDataSource\"},\"glyph\":{\"id\":\"64459\",\"type\":\"Circle\"},\"hover_glyph\":null,\"muted_glyph\":null,\"nonselection_glyph\":{\"id\":\"64460\",\"type\":\"Circle\"},\"selection_glyph\":null,\"view\":{\"id\":\"64462\",\"type\":\"CDSView\"}},\"id\":\"64461\",\"type\":\"GlyphRenderer\"},{\"attributes\":{},\"id\":\"66621\",\"type\":\"UnionRenderers\"},{\"attributes\":{},\"id\":\"64352\",\"type\":\"PanTool\"},{\"attributes\":{\"active_drag\":\"auto\",\"active_inspect\":\"auto\",\"active_multi\":null,\"active_scroll\":\"auto\",\"active_tap\":\"auto\",\"tools\":[{\"id\":\"64352\",\"type\":\"PanTool\"},{\"id\":\"64353\",\"type\":\"WheelZoomTool\"},{\"id\":\"64354\",\"type\":\"BoxZoomTool\"},{\"id\":\"64355\",\"type\":\"SaveTool\"},{\"id\":\"64356\",\"type\":\"ResetTool\"},{\"id\":\"64357\",\"type\":\"HelpTool\"}]},\"id\":\"64358\",\"type\":\"Toolbar\"},{\"attributes\":{\"source\":{\"id\":\"64458\",\"type\":\"ColumnDataSource\"}},\"id\":\"64462\",\"type\":\"CDSView\"},{\"attributes\":{\"days\":[1,4,7,10,13,16,19,22,25,28]},\"id\":\"66612\",\"type\":\"DaysTicker\"},{\"attributes\":{\"callback\":null,\"data\":{\"x\":[1546300800000.0,1546301400000.0,1546301700000.0,1546301820000.0],\"y\":[10,20,10,1]},\"selected\":{\"id\":\"66603\",\"type\":\"Selection\"},\"selection_policy\":{\"id\":\"66604\",\"type\":\"UnionRenderers\"}},\"id\":\"64365\",\"type\":\"ColumnDataSource\"},{\"attributes\":{},\"id\":\"66622\",\"type\":\"Selection\"},{\"attributes\":{},\"id\":\"66623\",\"type\":\"UnionRenderers\"},{\"attributes\":{\"line_color\":{\"value\":\"#1f77b4\"},\"line_dash\":[4,4],\"line_width\":{\"value\":2},\"mode\":\"after\",\"x\":{\"field\":\"x\"},\"y\":{\"field\":\"y\"}},\"id\":\"64366\",\"type\":\"Step\"},{\"attributes\":{\"line_alpha\":{\"value\":0.1},\"line_color\":{\"value\":\"#1f77b4\"},\"line_dash\":[4,4],\"line_width\":{\"value\":2},\"mode\":\"after\",\"x\":{\"field\":\"x\"},\"y\":{\"field\":\"y\"}},\"id\":\"64367\",\"type\":\"Step\"},{\"attributes\":{},\"id\":\"66582\",\"type\":\"DatetimeTickFormatter\"},{\"attributes\":{\"bottom_units\":\"screen\",\"fill_alpha\":{\"value\":0.5},\"fill_color\":{\"value\":\"lightgrey\"},\"left_units\":\"screen\",\"level\":\"overlay\",\"line_alpha\":{\"value\":1.0},\"line_color\":{\"value\":\"black\"},\"line_dash\":[4,4],\"line_width\":{\"value\":2},\"render_mode\":\"css\",\"right_units\":\"screen\",\"top_units\":\"screen\"},\"id\":\"66624\",\"type\":\"BoxAnnotation\"},{\"attributes\":{},\"id\":\"66584\",\"type\":\"BasicTickFormatter\"},{\"attributes\":{\"dimension\":1,\"ticker\":{\"id\":\"64348\",\"type\":\"BasicTicker\"}},\"id\":\"64351\",\"type\":\"Grid\"},{\"attributes\":{\"mantissas\":[1,2,5],\"max_interval\":500.0,\"num_minor_ticks\":0},\"id\":\"66625\",\"type\":\"AdaptiveTicker\"},{\"attributes\":{},\"id\":\"66586\",\"type\":\"DatetimeTickFormatter\"},{\"attributes\":{},\"id\":\"64348\",\"type\":\"BasicTicker\"},{\"attributes\":{\"overlay\":{\"id\":\"66607\",\"type\":\"BoxAnnotation\"}},\"id\":\"64354\",\"type\":\"BoxZoomTool\"},{\"attributes\":{\"base\":60,\"mantissas\":[1,2,5,10,15,20,30],\"max_interval\":1800000.0,\"min_interval\":1000.0,\"num_minor_ticks\":0},\"id\":\"66626\",\"type\":\"AdaptiveTicker\"},{\"attributes\":{},\"id\":\"66588\",\"type\":\"BasicTickFormatter\"},{\"attributes\":{},\"id\":\"64353\",\"type\":\"WheelZoomTool\"},{\"attributes\":{\"base\":24,\"mantissas\":[1,2,4,6,8,12],\"max_interval\":43200000.0,\"min_interval\":3600000.0,\"num_minor_ticks\":0},\"id\":\"66627\",\"type\":\"AdaptiveTicker\"},{\"attributes\":{},\"id\":\"66590\",\"type\":\"DatetimeTickFormatter\"},{\"attributes\":{},\"id\":\"64355\",\"type\":\"SaveTool\"},{\"attributes\":{\"days\":[1,2,3,4,5,6,7,8,9,10,11,12,13,14,15,16,17,18,19,20,21,22,23,24,25,26,27,28,29,30,31]},\"id\":\"66628\",\"type\":\"DaysTicker\"},{\"attributes\":{\"mantissas\":[1,2,5],\"max_interval\":500.0,\"num_minor_ticks\":0},\"id\":\"66591\",\"type\":\"AdaptiveTicker\"},{\"attributes\":{\"days\":[1,2,3,4,5,6,7,8,9,10,11,12,13,14,15,16,17,18,19,20,21,22,23,24,25,26,27,28,29,30,31]},\"id\":\"66611\",\"type\":\"DaysTicker\"},{\"attributes\":{\"days\":[1,4,7,10,13,16,19,22,25,28]},\"id\":\"66629\",\"type\":\"DaysTicker\"},{\"attributes\":{},\"id\":\"64357\",\"type\":\"HelpTool\"}],\"root_ids\":[\"64463\"]},\"title\":\"Bokeh Application\",\"version\":\"1.2.0\"}};\n",
       "  var render_items = [{\"docid\":\"32fecd2f-0b03-49eb-9fa1-d7ae3e9d8766\",\"roots\":{\"64463\":\"735ebb69-9e4e-4f38-824d-45f29bbee3ff\"}}];\n",
       "  root.Bokeh.embed.embed_items_notebook(docs_json, render_items);\n",
       "\n",
       "  }\n",
       "  if (root.Bokeh !== undefined) {\n",
       "    embed_document(root);\n",
       "  } else {\n",
       "    var attempts = 0;\n",
       "    var timer = setInterval(function(root) {\n",
       "      if (root.Bokeh !== undefined) {\n",
       "        embed_document(root);\n",
       "        clearInterval(timer);\n",
       "      }\n",
       "      attempts++;\n",
       "      if (attempts > 100) {\n",
       "        console.log(\"Bokeh: ERROR: Unable to run BokehJS code because BokehJS library is missing\");\n",
       "        clearInterval(timer);\n",
       "      }\n",
       "    }, 10, root)\n",
       "  }\n",
       "})(window);"
      ],
      "application/vnd.bokehjs_exec.v0+json": ""
     },
     "metadata": {
      "application/vnd.bokehjs_exec.v0+json": {
       "id": "64463"
      }
     },
     "output_type": "display_data"
    }
   ],
   "source": [
    "# Ceil (it applies a min on each key)\n",
    "plot_row(ts, ts.ceil(10))\n",
    "plot_row(ts, ts2, ts.ceil(ts2))"
   ]
  },
  {
   "cell_type": "markdown",
   "metadata": {},
   "source": [
    "## Some sugar"
   ]
  },
  {
   "cell_type": "code",
   "execution_count": 84,
   "metadata": {},
   "outputs": [
    {
     "data": {
      "text/html": [
       "\n",
       "\n",
       "\n",
       "\n",
       "\n",
       "\n",
       "  <div class=\"bk-root\" id=\"bb387867-9656-48f8-9cd3-b88f298650a1\" data-root-id=\"59622\"></div>\n"
      ]
     },
     "metadata": {},
     "output_type": "display_data"
    },
    {
     "data": {
      "application/javascript": [
       "(function(root) {\n",
       "  function embed_document(root) {\n",
       "    \n",
       "  var docs_json = {\"9b6b5db0-105c-4381-847a-6a964931ee72\":{\"roots\":{\"references\":[{\"attributes\":{\"below\":[{\"id\":\"59633\",\"type\":\"DatetimeAxis\"}],\"center\":[{\"id\":\"59637\",\"type\":\"Grid\"},{\"id\":\"59642\",\"type\":\"Grid\"}],\"left\":[{\"id\":\"59638\",\"type\":\"LinearAxis\"}],\"plot_height\":250,\"plot_width\":400,\"renderers\":[{\"id\":\"59659\",\"type\":\"GlyphRenderer\"},{\"id\":\"59664\",\"type\":\"GlyphRenderer\"}],\"title\":{\"id\":\"59623\",\"type\":\"Title\"},\"toolbar\":{\"id\":\"59649\",\"type\":\"Toolbar\"},\"x_range\":{\"id\":\"59625\",\"type\":\"Range1d\"},\"x_scale\":{\"id\":\"59629\",\"type\":\"LinearScale\"},\"y_range\":{\"id\":\"59627\",\"type\":\"Range1d\"},\"y_scale\":{\"id\":\"59631\",\"type\":\"LinearScale\"}},\"id\":\"59622\",\"subtype\":\"Figure\",\"type\":\"Plot\"},{\"attributes\":{\"base\":24,\"mantissas\":[1,2,4,6,8,12],\"max_interval\":43200000.0,\"min_interval\":3600000.0,\"num_minor_ticks\":0},\"id\":\"61719\",\"type\":\"AdaptiveTicker\"},{\"attributes\":{},\"id\":\"59644\",\"type\":\"WheelZoomTool\"},{\"attributes\":{\"days\":[1,2,3,4,5,6,7,8,9,10,11,12,13,14,15,16,17,18,19,20,21,22,23,24,25,26,27,28,29,30,31]},\"id\":\"61720\",\"type\":\"DaysTicker\"},{\"attributes\":{\"overlay\":{\"id\":\"61733\",\"type\":\"BoxAnnotation\"}},\"id\":\"59645\",\"type\":\"BoxZoomTool\"},{\"attributes\":{\"days\":[1,4,7,10,13,16,19,22,25,28]},\"id\":\"61721\",\"type\":\"DaysTicker\"},{\"attributes\":{},\"id\":\"59646\",\"type\":\"SaveTool\"},{\"attributes\":{\"days\":[1,8,15,22]},\"id\":\"61722\",\"type\":\"DaysTicker\"},{\"attributes\":{},\"id\":\"59647\",\"type\":\"ResetTool\"},{\"attributes\":{},\"id\":\"59629\",\"type\":\"LinearScale\"},{\"attributes\":{\"days\":[1,15]},\"id\":\"61723\",\"type\":\"DaysTicker\"},{\"attributes\":{},\"id\":\"59648\",\"type\":\"HelpTool\"},{\"attributes\":{},\"id\":\"59631\",\"type\":\"LinearScale\"},{\"attributes\":{\"callback\":null,\"end\":1546302000000,\"start\":1546300620000},\"id\":\"59625\",\"type\":\"Range1d\"},{\"attributes\":{\"months\":[0,1,2,3,4,5,6,7,8,9,10,11]},\"id\":\"61724\",\"type\":\"MonthsTicker\"},{\"attributes\":{\"callback\":null,\"end\":40,\"start\":-15},\"id\":\"59627\",\"type\":\"Range1d\"},{\"attributes\":{\"months\":[0,2,4,6,8,10]},\"id\":\"61725\",\"type\":\"MonthsTicker\"},{\"attributes\":{},\"id\":\"61716\",\"type\":\"DatetimeTickFormatter\"},{\"attributes\":{\"months\":[0,4,8]},\"id\":\"61726\",\"type\":\"MonthsTicker\"},{\"attributes\":{\"data_source\":{\"id\":\"59656\",\"type\":\"ColumnDataSource\"},\"glyph\":{\"id\":\"59657\",\"type\":\"Step\"},\"hover_glyph\":null,\"muted_glyph\":null,\"nonselection_glyph\":{\"id\":\"59658\",\"type\":\"Step\"},\"selection_glyph\":null,\"view\":{\"id\":\"59660\",\"type\":\"CDSView\"}},\"id\":\"59659\",\"type\":\"GlyphRenderer\"},{\"attributes\":{\"text\":\"Unevenly Spaced\"},\"id\":\"59623\",\"type\":\"Title\"},{\"attributes\":{\"months\":[0,6]},\"id\":\"61727\",\"type\":\"MonthsTicker\"},{\"attributes\":{\"source\":{\"id\":\"59656\",\"type\":\"ColumnDataSource\"}},\"id\":\"59660\",\"type\":\"CDSView\"},{\"attributes\":{\"axis_label\":\"timestamp\",\"formatter\":{\"id\":\"61716\",\"type\":\"DatetimeTickFormatter\"},\"ticker\":{\"id\":\"59634\",\"type\":\"DatetimeTicker\"}},\"id\":\"59633\",\"type\":\"DatetimeAxis\"},{\"attributes\":{},\"id\":\"61728\",\"type\":\"YearsTicker\"},{\"attributes\":{\"callback\":null,\"data\":{\"x\":[1546300800000.0,1546300860000.0,1546300920000.0,1546300980000.0,1546301040000.0,1546301100000.0,1546301160000.0,1546301220000.0,1546301280000.0,1546301340000.0,1546301400000.0,1546301460000.0,1546301520000.0,1546301580000.0,1546301640000.0,1546301700000.0,1546301760000.0,1546301820000.0],\"y\":[10,10,10,10,10,10,10,10,10,10,20,20,20,20,20,10,10,1]},\"selected\":{\"id\":\"61731\",\"type\":\"Selection\"},\"selection_policy\":{\"id\":\"61732\",\"type\":\"UnionRenderers\"}},\"id\":\"59661\",\"type\":\"ColumnDataSource\"},{\"attributes\":{\"num_minor_ticks\":5,\"tickers\":[{\"id\":\"61717\",\"type\":\"AdaptiveTicker\"},{\"id\":\"61718\",\"type\":\"AdaptiveTicker\"},{\"id\":\"61719\",\"type\":\"AdaptiveTicker\"},{\"id\":\"61720\",\"type\":\"DaysTicker\"},{\"id\":\"61721\",\"type\":\"DaysTicker\"},{\"id\":\"61722\",\"type\":\"DaysTicker\"},{\"id\":\"61723\",\"type\":\"DaysTicker\"},{\"id\":\"61724\",\"type\":\"MonthsTicker\"},{\"id\":\"61725\",\"type\":\"MonthsTicker\"},{\"id\":\"61726\",\"type\":\"MonthsTicker\"},{\"id\":\"61727\",\"type\":\"MonthsTicker\"},{\"id\":\"61728\",\"type\":\"YearsTicker\"}]},\"id\":\"59634\",\"type\":\"DatetimeTicker\"},{\"attributes\":{},\"id\":\"61729\",\"type\":\"Selection\"},{\"attributes\":{\"fill_color\":{\"value\":\"red\"},\"line_color\":{\"value\":\"#1f77b4\"},\"size\":{\"units\":\"screen\",\"value\":6},\"x\":{\"field\":\"x\"},\"y\":{\"field\":\"y\"}},\"id\":\"59662\",\"type\":\"Circle\"},{\"attributes\":{\"fill_alpha\":{\"value\":0.1},\"fill_color\":{\"value\":\"#1f77b4\"},\"line_alpha\":{\"value\":0.1},\"line_color\":{\"value\":\"#1f77b4\"},\"size\":{\"units\":\"screen\",\"value\":6},\"x\":{\"field\":\"x\"},\"y\":{\"field\":\"y\"}},\"id\":\"59663\",\"type\":\"Circle\"},{\"attributes\":{\"ticker\":{\"id\":\"59634\",\"type\":\"DatetimeTicker\"}},\"id\":\"59637\",\"type\":\"Grid\"},{\"attributes\":{},\"id\":\"61730\",\"type\":\"UnionRenderers\"},{\"attributes\":{\"axis_label\":\"IoT sensor\",\"formatter\":{\"id\":\"61714\",\"type\":\"BasicTickFormatter\"},\"ticker\":{\"id\":\"59639\",\"type\":\"BasicTicker\"}},\"id\":\"59638\",\"type\":\"LinearAxis\"},{\"attributes\":{},\"id\":\"61731\",\"type\":\"Selection\"},{\"attributes\":{\"data_source\":{\"id\":\"59661\",\"type\":\"ColumnDataSource\"},\"glyph\":{\"id\":\"59662\",\"type\":\"Circle\"},\"hover_glyph\":null,\"muted_glyph\":null,\"nonselection_glyph\":{\"id\":\"59663\",\"type\":\"Circle\"},\"selection_glyph\":null,\"view\":{\"id\":\"59665\",\"type\":\"CDSView\"}},\"id\":\"59664\",\"type\":\"GlyphRenderer\"},{\"attributes\":{},\"id\":\"59639\",\"type\":\"BasicTicker\"},{\"attributes\":{},\"id\":\"61732\",\"type\":\"UnionRenderers\"},{\"attributes\":{\"source\":{\"id\":\"59661\",\"type\":\"ColumnDataSource\"}},\"id\":\"59665\",\"type\":\"CDSView\"},{\"attributes\":{},\"id\":\"61714\",\"type\":\"BasicTickFormatter\"},{\"attributes\":{\"dimension\":1,\"ticker\":{\"id\":\"59639\",\"type\":\"BasicTicker\"}},\"id\":\"59642\",\"type\":\"Grid\"},{\"attributes\":{\"bottom_units\":\"screen\",\"fill_alpha\":{\"value\":0.5},\"fill_color\":{\"value\":\"lightgrey\"},\"left_units\":\"screen\",\"level\":\"overlay\",\"line_alpha\":{\"value\":1.0},\"line_color\":{\"value\":\"black\"},\"line_dash\":[4,4],\"line_width\":{\"value\":2},\"render_mode\":\"css\",\"right_units\":\"screen\",\"top_units\":\"screen\"},\"id\":\"61733\",\"type\":\"BoxAnnotation\"},{\"attributes\":{\"line_alpha\":{\"value\":0.1},\"line_color\":{\"value\":\"#1f77b4\"},\"line_dash\":[4,4],\"line_width\":{\"value\":2},\"mode\":\"after\",\"x\":{\"field\":\"x\"},\"y\":{\"field\":\"y\"}},\"id\":\"59658\",\"type\":\"Step\"},{\"attributes\":{\"line_color\":{\"value\":\"#1f77b4\"},\"line_dash\":[4,4],\"line_width\":{\"value\":2},\"mode\":\"after\",\"x\":{\"field\":\"x\"},\"y\":{\"field\":\"y\"}},\"id\":\"59657\",\"type\":\"Step\"},{\"attributes\":{\"mantissas\":[1,2,5],\"max_interval\":500.0,\"num_minor_ticks\":0},\"id\":\"61717\",\"type\":\"AdaptiveTicker\"},{\"attributes\":{\"callback\":null,\"data\":{\"x\":[1546300800000.0,1546300860000.0,1546300920000.0,1546300980000.0,1546301040000.0,1546301100000.0,1546301160000.0,1546301220000.0,1546301280000.0,1546301340000.0,1546301400000.0,1546301460000.0,1546301520000.0,1546301580000.0,1546301640000.0,1546301700000.0,1546301760000.0,1546301820000.0],\"y\":[10,10,10,10,10,10,10,10,10,10,20,20,20,20,20,10,10,1]},\"selected\":{\"id\":\"61729\",\"type\":\"Selection\"},\"selection_policy\":{\"id\":\"61730\",\"type\":\"UnionRenderers\"}},\"id\":\"59656\",\"type\":\"ColumnDataSource\"},{\"attributes\":{\"base\":60,\"mantissas\":[1,2,5,10,15,20,30],\"max_interval\":1800000.0,\"min_interval\":1000.0,\"num_minor_ticks\":0},\"id\":\"61718\",\"type\":\"AdaptiveTicker\"},{\"attributes\":{\"active_drag\":\"auto\",\"active_inspect\":\"auto\",\"active_multi\":null,\"active_scroll\":\"auto\",\"active_tap\":\"auto\",\"tools\":[{\"id\":\"59643\",\"type\":\"PanTool\"},{\"id\":\"59644\",\"type\":\"WheelZoomTool\"},{\"id\":\"59645\",\"type\":\"BoxZoomTool\"},{\"id\":\"59646\",\"type\":\"SaveTool\"},{\"id\":\"59647\",\"type\":\"ResetTool\"},{\"id\":\"59648\",\"type\":\"HelpTool\"}]},\"id\":\"59649\",\"type\":\"Toolbar\"},{\"attributes\":{},\"id\":\"59643\",\"type\":\"PanTool\"}],\"root_ids\":[\"59622\"]},\"title\":\"Bokeh Application\",\"version\":\"1.2.0\"}};\n",
       "  var render_items = [{\"docid\":\"9b6b5db0-105c-4381-847a-6a964931ee72\",\"roots\":{\"59622\":\"bb387867-9656-48f8-9cd3-b88f298650a1\"}}];\n",
       "  root.Bokeh.embed.embed_items_notebook(docs_json, render_items);\n",
       "\n",
       "  }\n",
       "  if (root.Bokeh !== undefined) {\n",
       "    embed_document(root);\n",
       "  } else {\n",
       "    var attempts = 0;\n",
       "    var timer = setInterval(function(root) {\n",
       "      if (root.Bokeh !== undefined) {\n",
       "        embed_document(root);\n",
       "        clearInterval(timer);\n",
       "      }\n",
       "      attempts++;\n",
       "      if (attempts > 100) {\n",
       "        console.log(\"Bokeh: ERROR: Unable to run BokehJS code because BokehJS library is missing\");\n",
       "        clearInterval(timer);\n",
       "      }\n",
       "    }, 10, root)\n",
       "  }\n",
       "})(window);"
      ],
      "application/vnd.bokehjs_exec.v0+json": ""
     },
     "metadata": {
      "application/vnd.bokehjs_exec.v0+json": {
       "id": "59622"
      }
     },
     "output_type": "display_data"
    }
   ],
   "source": [
    "# Go back to Evenly Spaced timeseries\n",
    "from datetime import timedelta\n",
    "onemin = timedelta(minutes=1)\n",
    "evenly_ts = ts.sample(freq=onemin)\n",
    "plot(evenly_ts)"
   ]
  },
  {
   "cell_type": "code",
   "execution_count": 67,
   "metadata": {},
   "outputs": [
    {
     "data": {
      "text/html": [
       "\n",
       "\n",
       "\n",
       "\n",
       "\n",
       "\n",
       "  <div class=\"bk-root\" id=\"38dbadf3-c7d9-4dc7-9a57-cc8c9c12292a\" data-root-id=\"30240\"></div>\n"
      ]
     },
     "metadata": {},
     "output_type": "display_data"
    },
    {
     "data": {
      "application/javascript": [
       "(function(root) {\n",
       "  function embed_document(root) {\n",
       "    \n",
       "  var docs_json = {\"0ad4afaa-4582-440b-9a4e-2cb75528612d\":{\"roots\":{\"references\":[{\"attributes\":{\"below\":[{\"id\":\"30251\",\"type\":\"DatetimeAxis\"}],\"center\":[{\"id\":\"30255\",\"type\":\"Grid\"},{\"id\":\"30260\",\"type\":\"Grid\"}],\"left\":[{\"id\":\"30256\",\"type\":\"LinearAxis\"}],\"plot_height\":250,\"plot_width\":400,\"renderers\":[{\"id\":\"30277\",\"type\":\"GlyphRenderer\"},{\"id\":\"30282\",\"type\":\"GlyphRenderer\"}],\"title\":{\"id\":\"30241\",\"type\":\"Title\"},\"toolbar\":{\"id\":\"30267\",\"type\":\"Toolbar\"},\"x_range\":{\"id\":\"30243\",\"type\":\"Range1d\"},\"x_scale\":{\"id\":\"30247\",\"type\":\"LinearScale\"},\"y_range\":{\"id\":\"30245\",\"type\":\"Range1d\"},\"y_scale\":{\"id\":\"30249\",\"type\":\"LinearScale\"}},\"id\":\"30240\",\"subtype\":\"Figure\",\"type\":\"Plot\"},{\"attributes\":{},\"id\":\"31628\",\"type\":\"BasicTickFormatter\"},{\"attributes\":{\"dimension\":1,\"ticker\":{\"id\":\"30257\",\"type\":\"BasicTicker\"}},\"id\":\"30260\",\"type\":\"Grid\"},{\"attributes\":{\"mantissas\":[1,2,5],\"max_interval\":500.0,\"num_minor_ticks\":0},\"id\":\"31631\",\"type\":\"AdaptiveTicker\"},{\"attributes\":{\"line_color\":{\"value\":\"#1f77b4\"},\"line_dash\":[4,4],\"line_width\":{\"value\":2},\"mode\":\"after\",\"x\":{\"field\":\"x\"},\"y\":{\"field\":\"y\"}},\"id\":\"30275\",\"type\":\"Step\"},{\"attributes\":{\"base\":60,\"mantissas\":[1,2,5,10,15,20,30],\"max_interval\":1800000.0,\"min_interval\":1000.0,\"num_minor_ticks\":0},\"id\":\"31632\",\"type\":\"AdaptiveTicker\"},{\"attributes\":{\"active_drag\":\"auto\",\"active_inspect\":\"auto\",\"active_multi\":null,\"active_scroll\":\"auto\",\"active_tap\":\"auto\",\"tools\":[{\"id\":\"30261\",\"type\":\"PanTool\"},{\"id\":\"30262\",\"type\":\"WheelZoomTool\"},{\"id\":\"30263\",\"type\":\"BoxZoomTool\"},{\"id\":\"30264\",\"type\":\"SaveTool\"},{\"id\":\"30265\",\"type\":\"ResetTool\"},{\"id\":\"30266\",\"type\":\"HelpTool\"}]},\"id\":\"30267\",\"type\":\"Toolbar\"},{\"attributes\":{},\"id\":\"30261\",\"type\":\"PanTool\"},{\"attributes\":{\"base\":24,\"mantissas\":[1,2,4,6,8,12],\"max_interval\":43200000.0,\"min_interval\":3600000.0,\"num_minor_ticks\":0},\"id\":\"31633\",\"type\":\"AdaptiveTicker\"},{\"attributes\":{},\"id\":\"30262\",\"type\":\"WheelZoomTool\"},{\"attributes\":{\"days\":[1,2,3,4,5,6,7,8,9,10,11,12,13,14,15,16,17,18,19,20,21,22,23,24,25,26,27,28,29,30,31]},\"id\":\"31634\",\"type\":\"DaysTicker\"},{\"attributes\":{\"overlay\":{\"id\":\"31647\",\"type\":\"BoxAnnotation\"}},\"id\":\"30263\",\"type\":\"BoxZoomTool\"},{\"attributes\":{\"days\":[1,4,7,10,13,16,19,22,25,28]},\"id\":\"31635\",\"type\":\"DaysTicker\"},{\"attributes\":{},\"id\":\"30264\",\"type\":\"SaveTool\"},{\"attributes\":{\"days\":[1,8,15,22]},\"id\":\"31636\",\"type\":\"DaysTicker\"},{\"attributes\":{},\"id\":\"30265\",\"type\":\"ResetTool\"},{\"attributes\":{\"days\":[1,15]},\"id\":\"31637\",\"type\":\"DaysTicker\"},{\"attributes\":{},\"id\":\"30266\",\"type\":\"HelpTool\"},{\"attributes\":{\"months\":[0,1,2,3,4,5,6,7,8,9,10,11]},\"id\":\"31638\",\"type\":\"MonthsTicker\"},{\"attributes\":{\"months\":[0,2,4,6,8,10]},\"id\":\"31639\",\"type\":\"MonthsTicker\"},{\"attributes\":{},\"id\":\"30257\",\"type\":\"BasicTicker\"},{\"attributes\":{\"months\":[0,4,8]},\"id\":\"31640\",\"type\":\"MonthsTicker\"},{\"attributes\":{},\"id\":\"31630\",\"type\":\"DatetimeTickFormatter\"},{\"attributes\":{\"text\":\"Unevenly Spaced\"},\"id\":\"30241\",\"type\":\"Title\"},{\"attributes\":{\"months\":[0,6]},\"id\":\"31641\",\"type\":\"MonthsTicker\"},{\"attributes\":{\"line_alpha\":{\"value\":0.1},\"line_color\":{\"value\":\"#1f77b4\"},\"line_dash\":[4,4],\"line_width\":{\"value\":2},\"mode\":\"after\",\"x\":{\"field\":\"x\"},\"y\":{\"field\":\"y\"}},\"id\":\"30276\",\"type\":\"Step\"},{\"attributes\":{\"callback\":null,\"end\":40,\"start\":-10},\"id\":\"30245\",\"type\":\"Range1d\"},{\"attributes\":{\"data_source\":{\"id\":\"30274\",\"type\":\"ColumnDataSource\"},\"glyph\":{\"id\":\"30275\",\"type\":\"Step\"},\"hover_glyph\":null,\"muted_glyph\":null,\"nonselection_glyph\":{\"id\":\"30276\",\"type\":\"Step\"},\"selection_glyph\":null,\"view\":{\"id\":\"30278\",\"type\":\"CDSView\"}},\"id\":\"30277\",\"type\":\"GlyphRenderer\"},{\"attributes\":{},\"id\":\"31642\",\"type\":\"YearsTicker\"},{\"attributes\":{\"axis_label\":\"timestamp\",\"formatter\":{\"id\":\"31630\",\"type\":\"DatetimeTickFormatter\"},\"ticker\":{\"id\":\"30252\",\"type\":\"DatetimeTicker\"}},\"id\":\"30251\",\"type\":\"DatetimeAxis\"},{\"attributes\":{\"source\":{\"id\":\"30274\",\"type\":\"ColumnDataSource\"}},\"id\":\"30278\",\"type\":\"CDSView\"},{\"attributes\":{},\"id\":\"30247\",\"type\":\"LinearScale\"},{\"attributes\":{},\"id\":\"31643\",\"type\":\"Selection\"},{\"attributes\":{\"callback\":null,\"end\":1546302000000,\"start\":1546300620000},\"id\":\"30243\",\"type\":\"Range1d\"},{\"attributes\":{\"callback\":null,\"data\":{\"x\":[1546300800000.0,1546301400000.0,1546301700000.0,1546301820000.0],\"y\":[10,20,10,1]},\"selected\":{\"id\":\"31645\",\"type\":\"Selection\"},\"selection_policy\":{\"id\":\"31646\",\"type\":\"UnionRenderers\"}},\"id\":\"30279\",\"type\":\"ColumnDataSource\"},{\"attributes\":{\"axis_label\":\"IoT sensor\",\"formatter\":{\"id\":\"31628\",\"type\":\"BasicTickFormatter\"},\"ticker\":{\"id\":\"30257\",\"type\":\"BasicTicker\"}},\"id\":\"30256\",\"type\":\"LinearAxis\"},{\"attributes\":{},\"id\":\"31644\",\"type\":\"UnionRenderers\"},{\"attributes\":{\"callback\":null,\"data\":{\"x\":[1546300800000.0,1546301400000.0,1546301700000.0,1546301820000.0],\"y\":[10,20,10,1]},\"selected\":{\"id\":\"31643\",\"type\":\"Selection\"},\"selection_policy\":{\"id\":\"31644\",\"type\":\"UnionRenderers\"}},\"id\":\"30274\",\"type\":\"ColumnDataSource\"},{\"attributes\":{\"fill_color\":{\"value\":\"red\"},\"line_color\":{\"value\":\"#1f77b4\"},\"size\":{\"units\":\"screen\",\"value\":6},\"x\":{\"field\":\"x\"},\"y\":{\"field\":\"y\"}},\"id\":\"30280\",\"type\":\"Circle\"},{\"attributes\":{},\"id\":\"31645\",\"type\":\"Selection\"},{\"attributes\":{\"fill_alpha\":{\"value\":0.1},\"fill_color\":{\"value\":\"#1f77b4\"},\"line_alpha\":{\"value\":0.1},\"line_color\":{\"value\":\"#1f77b4\"},\"size\":{\"units\":\"screen\",\"value\":6},\"x\":{\"field\":\"x\"},\"y\":{\"field\":\"y\"}},\"id\":\"30281\",\"type\":\"Circle\"},{\"attributes\":{\"num_minor_ticks\":5,\"tickers\":[{\"id\":\"31631\",\"type\":\"AdaptiveTicker\"},{\"id\":\"31632\",\"type\":\"AdaptiveTicker\"},{\"id\":\"31633\",\"type\":\"AdaptiveTicker\"},{\"id\":\"31634\",\"type\":\"DaysTicker\"},{\"id\":\"31635\",\"type\":\"DaysTicker\"},{\"id\":\"31636\",\"type\":\"DaysTicker\"},{\"id\":\"31637\",\"type\":\"DaysTicker\"},{\"id\":\"31638\",\"type\":\"MonthsTicker\"},{\"id\":\"31639\",\"type\":\"MonthsTicker\"},{\"id\":\"31640\",\"type\":\"MonthsTicker\"},{\"id\":\"31641\",\"type\":\"MonthsTicker\"},{\"id\":\"31642\",\"type\":\"YearsTicker\"}]},\"id\":\"30252\",\"type\":\"DatetimeTicker\"},{\"attributes\":{},\"id\":\"31646\",\"type\":\"UnionRenderers\"},{\"attributes\":{\"ticker\":{\"id\":\"30252\",\"type\":\"DatetimeTicker\"}},\"id\":\"30255\",\"type\":\"Grid\"},{\"attributes\":{\"data_source\":{\"id\":\"30279\",\"type\":\"ColumnDataSource\"},\"glyph\":{\"id\":\"30280\",\"type\":\"Circle\"},\"hover_glyph\":null,\"muted_glyph\":null,\"nonselection_glyph\":{\"id\":\"30281\",\"type\":\"Circle\"},\"selection_glyph\":null,\"view\":{\"id\":\"30283\",\"type\":\"CDSView\"}},\"id\":\"30282\",\"type\":\"GlyphRenderer\"},{\"attributes\":{\"bottom_units\":\"screen\",\"fill_alpha\":{\"value\":0.5},\"fill_color\":{\"value\":\"lightgrey\"},\"left_units\":\"screen\",\"level\":\"overlay\",\"line_alpha\":{\"value\":1.0},\"line_color\":{\"value\":\"black\"},\"line_dash\":[4,4],\"line_width\":{\"value\":2},\"render_mode\":\"css\",\"right_units\":\"screen\",\"top_units\":\"screen\"},\"id\":\"31647\",\"type\":\"BoxAnnotation\"},{\"attributes\":{},\"id\":\"30249\",\"type\":\"LinearScale\"},{\"attributes\":{\"source\":{\"id\":\"30279\",\"type\":\"ColumnDataSource\"}},\"id\":\"30283\",\"type\":\"CDSView\"}],\"root_ids\":[\"30240\"]},\"title\":\"Bokeh Application\",\"version\":\"1.2.0\"}};\n",
       "  var render_items = [{\"docid\":\"0ad4afaa-4582-440b-9a4e-2cb75528612d\",\"roots\":{\"30240\":\"38dbadf3-c7d9-4dc7-9a57-cc8c9c12292a\"}}];\n",
       "  root.Bokeh.embed.embed_items_notebook(docs_json, render_items);\n",
       "\n",
       "  }\n",
       "  if (root.Bokeh !== undefined) {\n",
       "    embed_document(root);\n",
       "  } else {\n",
       "    var attempts = 0;\n",
       "    var timer = setInterval(function(root) {\n",
       "      if (root.Bokeh !== undefined) {\n",
       "        embed_document(root);\n",
       "        clearInterval(timer);\n",
       "      }\n",
       "      attempts++;\n",
       "      if (attempts > 100) {\n",
       "        console.log(\"Bokeh: ERROR: Unable to run BokehJS code because BokehJS library is missing\");\n",
       "        clearInterval(timer);\n",
       "      }\n",
       "    }, 10, root)\n",
       "  }\n",
       "})(window);"
      ],
      "application/vnd.bokehjs_exec.v0+json": ""
     },
     "metadata": {
      "application/vnd.bokehjs_exec.v0+json": {
       "id": "30240"
      }
     },
     "output_type": "display_data"
    }
   ],
   "source": [
    "# Compact\n",
    "plot(evenly_ts.compact())"
   ]
  },
  {
   "cell_type": "code",
   "execution_count": 68,
   "metadata": {},
   "outputs": [
    {
     "data": {
      "text/html": [
       "<div>\n",
       "<style scoped>\n",
       "    .dataframe tbody tr th:only-of-type {\n",
       "        vertical-align: middle;\n",
       "    }\n",
       "\n",
       "    .dataframe tbody tr th {\n",
       "        vertical-align: top;\n",
       "    }\n",
       "\n",
       "    .dataframe thead th {\n",
       "        text-align: right;\n",
       "    }\n",
       "</style>\n",
       "<table border=\"1\" class=\"dataframe\">\n",
       "  <thead>\n",
       "    <tr style=\"text-align: right;\">\n",
       "      <th></th>\n",
       "      <th>value</th>\n",
       "    </tr>\n",
       "  </thead>\n",
       "  <tbody>\n",
       "    <tr>\n",
       "      <th>2019-01-01 00:00:00+00:00</th>\n",
       "      <td>10</td>\n",
       "    </tr>\n",
       "    <tr>\n",
       "      <th>2019-01-01 00:10:00+00:00</th>\n",
       "      <td>20</td>\n",
       "    </tr>\n",
       "    <tr>\n",
       "      <th>2019-01-01 00:15:00+00:00</th>\n",
       "      <td>10</td>\n",
       "    </tr>\n",
       "    <tr>\n",
       "      <th>2019-01-01 00:17:00+00:00</th>\n",
       "      <td>1</td>\n",
       "    </tr>\n",
       "  </tbody>\n",
       "</table>\n",
       "</div>"
      ],
      "text/plain": [
       "                           value\n",
       "2019-01-01 00:00:00+00:00     10\n",
       "2019-01-01 00:10:00+00:00     20\n",
       "2019-01-01 00:15:00+00:00     10\n",
       "2019-01-01 00:17:00+00:00      1"
      ]
     },
     "execution_count": 68,
     "metadata": {},
     "output_type": "execute_result"
    }
   ],
   "source": [
    "# if you got pandas installed\n",
    "ts.to_dataframe()"
   ]
  },
  {
   "cell_type": "code",
   "execution_count": null,
   "metadata": {},
   "outputs": [],
   "source": []
  }
 ],
 "metadata": {
  "kernelspec": {
   "display_name": "Python 3",
   "language": "python",
   "name": "python3"
  },
  "language_info": {
   "codemirror_mode": {
    "name": "ipython",
    "version": 3
   },
   "file_extension": ".py",
   "mimetype": "text/x-python",
   "name": "python",
   "nbconvert_exporter": "python",
   "pygments_lexer": "ipython3",
   "version": "3.6.8"
  }
 },
 "nbformat": 4,
 "nbformat_minor": 2
}
